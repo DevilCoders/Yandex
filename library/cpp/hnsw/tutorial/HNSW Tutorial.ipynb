{
 "cells": [
  {
   "cell_type": "markdown",
   "metadata": {},
   "source": [
    "# Hierarchical Navigable Small World"
   ]
  },
  {
   "cell_type": "markdown",
   "metadata": {},
   "source": [
    "Hierarchical Navigable Small World is algorithm for approximate nearest neighbors search originally presented <a href='https://arxiv.org/ftp/arxiv/papers/1603/1603.09320.pdf'>here</a>."
   ]
  },
  {
   "cell_type": "markdown",
   "metadata": {},
   "source": [
    "### Contents"
   ]
  },
  {
   "cell_type": "markdown",
   "metadata": {},
   "source": [
    "* [1. Installation](#1.-Installation)\n",
    "    * [1.1 Build from Arcadia for use in Arcadia](#1.1-Build-from-Arcadia-for-use-in-Arcadia)\n",
    "    * [1.2 Build from Arcadia for use outside Arcadia](#1.2-Build-from-Arcadia-for-use-outside-Arcadia)\n",
    "    * [1.3 Install from Yandex PyPI for use outside Arcadia](#1.3-Install-from-Yandex-PyPI-for-use-outside-Arcadia)\n",
    "* [2. Data Loading](#2.-Data-Loading)\n",
    "* [3. Index Building](#3.-Index-Building)\n",
    "* [4. Search Index](#4.-Search-Index)\n",
    "* [5. Saving and Loading Index](#5.-Saving-and-Loading-Index)\n",
    "* [6. Snapshots](#6.-Snapshots)"
   ]
  },
  {
   "cell_type": "markdown",
   "metadata": {},
   "source": [
    "### 1. Installation"
   ]
  },
  {
   "cell_type": "markdown",
   "metadata": {},
   "source": [
    "#### 1.1 Build from Arcadia for use in Arcadia"
   ]
  },
  {
   "cell_type": "markdown",
   "metadata": {},
   "source": [
    "Just add <i>/library/python/hnsw/lib</i> to your project's PEERDIR"
   ]
  },
  {
   "cell_type": "markdown",
   "metadata": {},
   "source": [
    "#### 1.2 Build from Arcadia for use outside Arcadia"
   ]
  },
  {
   "cell_type": "markdown",
   "metadata": {},
   "source": [
    "Go to directory <a href='https://a.yandex-team.ru/arc/trunk/arcadia/library/python/hnsw/hnsw'>/library/python/hnsw/hnsw</a> and execute next command (change python config by path to your python's config):"
   ]
  },
  {
   "cell_type": "markdown",
   "metadata": {},
   "source": [
    "<i>$ ya make -DUSE_ARCADIA_PYTHON=no -DOS_SDK=local -DPYTHON_CONFIG=python-config</i>"
   ]
  },
  {
   "cell_type": "markdown",
   "metadata": {},
   "source": [
    "Then from parent directory install package"
   ]
  },
  {
   "cell_type": "markdown",
   "metadata": {},
   "source": [
    "<i>$ python setup.py install</i>"
   ]
  },
  {
   "cell_type": "markdown",
   "metadata": {},
   "source": [
    "#### 1.3 Install from Yandex PyPI for use outside Arcadia"
   ]
  },
  {
   "cell_type": "markdown",
   "metadata": {},
   "source": [
    "<i>$ pip install -i https://pypi.yandex-team.ru/simple/ hnsw</i>"
   ]
  },
  {
   "cell_type": "markdown",
   "metadata": {},
   "source": [
    "### 2. Data Loading"
   ]
  },
  {
   "cell_type": "markdown",
   "metadata": {},
   "source": [
    "Before work with HNSW index you should load pool of vectors from binary file with specified type and dimension of vectors."
   ]
  },
  {
   "cell_type": "code",
   "execution_count": 1,
   "metadata": {},
   "outputs": [],
   "source": [
    "from hnsw import Pool, EVectorComponentType"
   ]
  },
  {
   "cell_type": "code",
   "execution_count": 2,
   "metadata": {},
   "outputs": [],
   "source": [
    "pool = Pool(vectors_path='floats_60000', dtype=EVectorComponentType.Float, dimension=10)"
   ]
  },
  {
   "cell_type": "markdown",
   "metadata": {},
   "source": [
    "Pool has methods for accessing items and getting number of items in pool"
   ]
  },
  {
   "cell_type": "code",
   "execution_count": 3,
   "metadata": {},
   "outputs": [
    {
     "data": {
      "text/plain": [
       "6000"
      ]
     },
     "execution_count": 3,
     "metadata": {},
     "output_type": "execute_result"
    }
   ],
   "source": [
    "pool.get_num_items()"
   ]
  },
  {
   "cell_type": "code",
   "execution_count": 4,
   "metadata": {},
   "outputs": [
    {
     "data": {
      "text/plain": [
       "array([-0.08313891,  0.03384485,  0.13672869, -0.07878881, -0.05491406,\n",
       "       -0.02204733,  0.02824783,  0.00267301,  0.03477978,  0.03977749],\n",
       "      dtype=float32)"
      ]
     },
     "execution_count": 4,
     "metadata": {},
     "output_type": "execute_result"
    }
   ],
   "source": [
    "pool.get_item(123)"
   ]
  },
  {
   "cell_type": "markdown",
   "metadata": {},
   "source": [
    "### 3. Index Building"
   ]
  },
  {
   "cell_type": "markdown",
   "metadata": {},
   "source": [
    "Firstly create HNSW object to work with index"
   ]
  },
  {
   "cell_type": "code",
   "execution_count": 5,
   "metadata": {},
   "outputs": [],
   "source": [
    "from hnsw import Hnsw, EDistance"
   ]
  },
  {
   "cell_type": "code",
   "execution_count": 6,
   "metadata": {},
   "outputs": [],
   "source": [
    "index = Hnsw()"
   ]
  },
  {
   "cell_type": "markdown",
   "metadata": {},
   "source": [
    "You can build index with default options by specifying only pool and distance."
   ]
  },
  {
   "cell_type": "code",
   "execution_count": 7,
   "metadata": {},
   "outputs": [
    {
     "name": "stdout",
     "output_type": "stream",
     "text": [
      "\n",
      "Building level 2 size 23\n",
      "\n",
      "Building level 1 size 375\n",
      "\n",
      "Building level 0 size 6000\n",
      "Progress: 66.667%\tTime passed: 1.19s\n",
      "Done in 2.02s\n"
     ]
    }
   ],
   "source": [
    "index.build(pool, EDistance.DotProduct)"
   ]
  },
  {
   "cell_type": "markdown",
   "metadata": {},
   "source": [
    "You can customize index building by several params (see documentation for more details)"
   ]
  },
  {
   "cell_type": "code",
   "execution_count": 8,
   "metadata": {},
   "outputs": [
    {
     "name": "stdout",
     "output_type": "stream",
     "text": [
      "\n",
      "Building level 11 size 2\n",
      "\n",
      "Building level 10 size 5\n",
      "\n",
      "Building level 9 size 11\n",
      "\n",
      "Building level 8 size 23\n",
      "\n",
      "Building level 7 size 46\n",
      "\n",
      "Building level 6 size 93\n",
      "\n",
      "Building level 5 size 187\n",
      "\n",
      "Building level 4 size 375\n",
      "\n",
      "Building level 3 size 750\n",
      "\n",
      "Building level 2 size 1500\n",
      "\n",
      "Building level 1 size 3000\n",
      "Progress: 50.000%\tTime passed: 9.44s\n",
      "Building level 0 size 6000\n",
      "Progress: 100.000%\time passed: 26.5sTime passed: 36s\n",
      "Done in 36s\n"
     ]
    }
   ],
   "source": [
    "index.build(pool, EDistance.DotProduct, max_neighbors=200, search_neighborhood_size=1000, num_exact_candidates=300, \\\n",
    "            batch_size=2000, upper_level_batch_size=300, level_size_decay=2, num_threads=2)"
   ]
  },
  {
   "cell_type": "markdown",
   "metadata": {},
   "source": [
    "### 4. Search Index"
   ]
  },
  {
   "cell_type": "markdown",
   "metadata": {},
   "source": [
    "After building index we can search nearest neighbors. The result of search is list of tuples where first item of tuple is ID of pool item and second item of tuple is calculated distance from query to pool item. Parameter search_neighborhood_size means width of search."
   ]
  },
  {
   "cell_type": "code",
   "execution_count": 10,
   "metadata": {},
   "outputs": [
    {
     "data": {
      "text/plain": [
       "[(2123L, 0.5717909932136536),\n",
       " (4883L, 0.5507800579071045),\n",
       " (5003L, 0.5399731993675232),\n",
       " (3743L, 0.5265855193138123),\n",
       " (863L, 0.5257172584533691),\n",
       " (5183L, 0.5169099569320679),\n",
       " (3323L, 0.5118076205253601),\n",
       " (2483L, 0.4830664396286011),\n",
       " (3143L, 0.4694557785987854),\n",
       " (623L, 0.4500829875469208)]"
      ]
     },
     "execution_count": 10,
     "metadata": {},
     "output_type": "execute_result"
    }
   ],
   "source": [
    "import numpy as np\n",
    "\n",
    "query = np.random.random(10)\n",
    "\n",
    "index.get_nearest(query, top_size=10, search_neighborhood_size=100)"
   ]
  },
  {
   "cell_type": "markdown",
   "metadata": {},
   "source": [
    "There is also another parameter of search: distance_calc_limit. It can be useful if you want to limit search steps in index to reduce search execution time with small decrease of accuracy."
   ]
  },
  {
   "cell_type": "markdown",
   "metadata": {},
   "source": [
    "### 5. Saving and Loading Index"
   ]
  },
  {
   "cell_type": "markdown",
   "metadata": {},
   "source": [
    "One of typical cases of usage HNSW library is to build index, save it and use later. For this case there are functions for saving and loading index."
   ]
  },
  {
   "cell_type": "code",
   "execution_count": 12,
   "metadata": {},
   "outputs": [],
   "source": [
    "index.save('hnsw_index')"
   ]
  },
  {
   "cell_type": "code",
   "execution_count": 13,
   "metadata": {},
   "outputs": [],
   "source": [
    "index = Hnsw()\n",
    "index.load('hnsw_index', pool, EDistance.DotProduct)"
   ]
  },
  {
   "cell_type": "code",
   "execution_count": 14,
   "metadata": {},
   "outputs": [
    {
     "data": {
      "text/plain": [
       "[(5465L, 0.38982123136520386),\n",
       " (4721L, 0.3159331977367401),\n",
       " (2123L, 0.3116426467895508),\n",
       " (3323L, 0.30608993768692017),\n",
       " (2407L, 0.30178695917129517)]"
      ]
     },
     "execution_count": 14,
     "metadata": {},
     "output_type": "execute_result"
    }
   ],
   "source": [
    "index.get_nearest(query, top_size=5, search_neighborhood_size=10)"
   ]
  },
  {
   "cell_type": "markdown",
   "metadata": {},
   "source": [
    "### 6. Snapshots"
   ]
  },
  {
   "cell_type": "markdown",
   "metadata": {},
   "source": [
    "If index building lasts a long time it is recommended to save snapshots sometimes. If something goes wrong and building has crashed (for example, because of memory limit exceeding), you can continue building from last saved snapshot. You can check snapshots by interrupting execution of next cell and executing it again."
   ]
  },
  {
   "cell_type": "code",
   "execution_count": 21,
   "metadata": {},
   "outputs": [
    {
     "name": "stdout",
     "output_type": "stream",
     "text": [
      "Restored from snapshot\n",
      "\n",
      "Building level 1 size 3000\n",
      "Progress: 50.000%\tTime passed: 8.73s\n",
      "Snapshot saved to snapshot\n",
      "\n",
      "Snapshot saved to snapshot\n",
      "\n",
      "Building level 0 size 6000\n",
      "Progress: 83.333%\tTime passed: 26.7s\n",
      "Snapshot saved to snapshot\n",
      "Progress: 100.000%\tTime passed: 36.8s\n",
      "Snapshot saved to snapshot\n",
      "\n",
      "Snapshot saved to snapshot\n",
      "\n",
      "Done in 37.4s\n"
     ]
    }
   ],
   "source": [
    "index = Hnsw()\n",
    "index.build(pool, EDistance.DotProduct, max_neighbors=200, search_neighborhood_size=1000, num_exact_candidates=300, \\\n",
    "            batch_size=2000, upper_level_batch_size=300, level_size_decay=2, num_threads=2, \\\n",
    "            snapshot_file='snapshot', snapshot_interval=1)"
   ]
  }
 ],
 "metadata": {
  "kernelspec": {
   "display_name": "Python 2",
   "language": "python",
   "name": "python2"
  },
  "language_info": {
   "codemirror_mode": {
    "name": "ipython",
    "version": 2
   },
   "file_extension": ".py",
   "mimetype": "text/x-python",
   "name": "python",
   "nbconvert_exporter": "python",
   "pygments_lexer": "ipython2",
   "version": "2.7.12"
  }
 },
 "nbformat": 4,
 "nbformat_minor": 2
}
