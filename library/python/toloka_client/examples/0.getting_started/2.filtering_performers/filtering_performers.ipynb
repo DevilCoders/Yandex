{
 "cells": [
  {
   "source": [
    "# фильтрация исполнителей (на примере опроса)\n"
   ],
   "cell_type": "markdown",
   "metadata": {}
  },
  {
   "source": [
    "- создание 2-3 проектов и клонирование пула по множеству признаков.\n- итоговый анализ полученных опросов"
   ],
   "cell_type": "markdown",
   "metadata": {}
  }
 ],
 "metadata": {
  "kernelspec": {
   "display_name": "Python 3",
   "language": "python",
   "name": "python3"
  },
  "language_info": {
   "codemirror_mode": {
    "name": "ipython",
    "version": 3
   },
   "file_extension": ".py",
   "mimetype": "text/x-python",
   "name": "python",
   "nbconvert_exporter": "python",
   "pygments_lexer": "ipython3",
   "version": "3.7.5-final"
  }
 },
 "nbformat": 4,
 "nbformat_minor": 4
}