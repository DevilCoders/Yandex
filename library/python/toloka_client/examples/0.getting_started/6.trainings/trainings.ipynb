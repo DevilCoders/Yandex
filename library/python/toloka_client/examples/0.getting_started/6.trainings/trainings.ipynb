{
 "cells": [
  {
   "source": [
    "# тренировки\n"
   ],
   "cell_type": "markdown",
   "metadata": {}
  },
  {
   "source": [
    "\n- что такое и зачем нужны\n- как их правильно настраивать\n- пример настройки\n- чем отличаются от обычных пулов\n"
   ],
   "cell_type": "markdown",
   "metadata": {}
  }
 ],
 "metadata": {
  "kernelspec": {
   "display_name": "Python 3",
   "language": "python",
   "name": "python3"
  },
  "language_info": {
   "codemirror_mode": {
    "name": "ipython",
    "version": 3
   },
   "file_extension": ".py",
   "mimetype": "text/x-python",
   "name": "python",
   "nbconvert_exporter": "python",
   "pygments_lexer": "ipython3",
   "version": "3.7.5-final"
  }
 },
 "nbformat": 4,
 "nbformat_minor": 4
}