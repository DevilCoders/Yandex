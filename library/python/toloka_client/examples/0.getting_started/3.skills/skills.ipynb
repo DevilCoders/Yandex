{
 "cells": [
  {
   "source": [
    "# скилы\n"
   ],
   "cell_type": "markdown",
   "metadata": {}
  },
  {
   "source": [
    "Подготовка окружения"
   ],
   "cell_type": "markdown",
   "metadata": {}
  },
  {
   "cell_type": "code",
   "execution_count": null,
   "metadata": {},
   "outputs": [],
   "source": [
    "!pip install toloka-kit==0.1.6\n",
    "!pip install pandas\n",
    "#!pip install ipyplot\n",
    "\n",
    "#import datetime\n",
    "#import time\n",
    "\n",
    "import pandas\n",
    "#import ipyplot\n",
    "\n",
    "import toloka.client as toloka\n",
    "#import toloka.client.project.template_builder as tb"
   ]
  },
  {
   "source": [
    "toloka_client = toloka.TolokaClient(input('Enter you Toloka token:'), 'PRODUCTION')\n",
    "print(toloka_client.get_requester())"
   ],
   "cell_type": "code",
   "metadata": {},
   "execution_count": null,
   "outputs": []
  },
  {
   "source": [
    "- зачем нужны и как использовать\n",
    "- встроенные скилы\n",
    "- собственные скилы\n"
   ],
   "cell_type": "markdown",
   "metadata": {}
  },
  {
   "source": [
    "# Динамический расчёт навыка по своей формуле\n",
    "Допустим есть простейший проект по модерации (т.е. классификации двумя классами) и настроенный пул в нём. И в нём есть задания с голден-сетами. Нам интересно рассчитывать навык который бы отражал precision испонителя.\n",
    "\n",
    "В проекте есть только ответы \"Да\" и \"Нет\". Где \"Да\" означает принадлежность к искомому классу."
   ],
   "cell_type": "markdown",
   "metadata": {}
  },
  {
   "cell_type": "code",
   "execution_count": null,
   "metadata": {},
   "outputs": [],
   "source": [
    "pool_id = ''\n",
    "skill_id = ''\n",
    "pool = toloka_client.open_pool(pool_id)\n",
    "output_field_name = ''"
   ]
  },
  {
   "cell_type": "code",
   "execution_count": null,
   "metadata": {},
   "outputs": [],
   "source": [
    "class SkillUpdater:\n",
    "    \"\"\"\n",
    "    Args:\n",
    "        skill_id - идентификатор скила который надо обновлять\n",
    "        toloka_client - экземпляр клиента, для работы с api\n",
    "        output_field_name - выходное поле на основании которого считать precision\n",
    "            оно должно быть в выходных данных и в голден-сете \n",
    "    \"\"\"\n",
    "    def __init__(self, toloka_client, pool, skill_id, output_field_name):\n",
    "        self.toloka_client = toloka_client\n",
    "        self.output_field_name = output_field_name\n",
    "        self.skill_id = skill_id\n",
    "        self.last_assignment = None  # когда последний раз вычитывали ответы, чтобы не вычитывать все ответы каждый раз\n",
    "        # словарь в котором храним данные для расчёта\n",
    "        # ключ: идентификатор исполнителя\n",
    "        # значение: словарь {'TP':0, 'TP+FP': 0} для вычисления precision\n",
    "        self.performers_precision = {}\n",
    "        self.performers_for_update = set()  # запоминаем по каким исполнителям стоит обновлять скилы\n",
    "\n",
    "    def process_new_assignments(self):\n",
    "        ### Обработать новые ответы\n",
    "        request = toloka.search_requests.AssignmentSearchRequest(\n",
    "            status=toloka.Assignment.SUBMITTED,\n",
    "            pool_id=self.from_pool_id,\n",
    "            submitted_gt = self.last_assignment,\n",
    "        )\n",
    "        for assignment in toloka_client.get_assignments(request):\n",
    "            for task, solution in zip(assignment.tasks, assignment.solutions):\n",
    "                self.last_assignment = max(self.last_assignment, assignment.submitted) if self.last_assignment else assignment.submitted\n",
    "                if task.known_solutions is None:\n",
    "                    continue  # работаем только с годен-сетами, все остальные ответы тут пропускаем\n",
    "                current_precision = self.performers_precision.setdefault(assignment.user_id, {'TP':0, 'TP+FP': 0})\n",
    "                current_precision['TP+FP'] += 1\n",
    "                performer_answer = solution.output_values[self.output_field_name]\n",
    "                self.performers_for_update.add(assignment.user_id)\n",
    "                # обычно правильный ответ один, но может быть и несколько\n",
    "                # в этом случае так же стоит подумать над обработкой known_solution.correctness_weight - вес правильного ответа\n",
    "                for known_solution in task.known_solutions:\n",
    "                    if performer_answer == known_solution.output_values[self.output_field_name]\n",
    "                        current_precision['TP'] += 1\n",
    "                        break\n",
    "\n",
    "    def set_skills(self):\n",
    "        ### Обновить посчитанные скилы в Толоку\n",
    "        while self.performers_for_update:\n",
    "            performer_id = self.performers_for_update.pop()\n",
    "            if performer_id not in self.performers_precision:\n",
    "                continue  # тут можно как-то обработать или зафиксировать эту странную ситуацию\n",
    "            current_precision = self.performers_precision[performer_id]\n",
    "            # можно добавить ограничение, чтобы precision начинался считаться с какого-то минимального количества ответов\n",
    "            if current_precision['TP+FP'] < 5:\n",
    "                continue\n",
    "            skill_value = current_precision['TP'] / current_precision['TP+FP']\n",
    "            for _ in range(3):\n",
    "                try:\n",
    "                    toloka_client.set_user_skill(skill_id=self.skill_id, user_id=performer_id, value=skill_value)\n",
    "                    break\n",
    "                except:\n",
    "                    sleep(60)"
   ]
  },
  {
   "cell_type": "code",
   "execution_count": null,
   "metadata": {},
   "outputs": [],
   "source": [
    "skill_updater = SkillUpdater(\n",
    "    toloka_client=toloka_client,\n",
    "    pool=pool,\n",
    "    skill_id=skill_id,\n",
    "    output_field_name=output_field_name)\n",
    "\n",
    "while not pool.is_closed():\n",
    "    skill_updater.process_new_assignments()\n",
    "    skill_updater.set_skills()\n",
    "    sleep(60*10)"
   ]
  }
 ],
 "metadata": {
  "kernelspec": {
   "display_name": "Python 3",
   "language": "python",
   "name": "python3"
  },
  "language_info": {
   "codemirror_mode": {
    "name": "ipython",
    "version": 3
   },
   "file_extension": ".py",
   "mimetype": "text/x-python",
   "name": "python",
   "nbconvert_exporter": "python",
   "pygments_lexer": "ipython3",
   "version": "3.7.5-final"
  }
 },
 "nbformat": 4,
 "nbformat_minor": 4
}