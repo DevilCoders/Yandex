{
 "cells": [
  {
   "cell_type": "markdown",
   "metadata": {},
   "source": [
    "# Show online metrics in jupyter"
   ]
  },
  {
   "cell_type": "code",
   "execution_count": null,
   "metadata": {},
   "outputs": [],
   "source": [
    "%%capture\n",
    "!pip install toloka-kit==0.1.15"
   ]
  },
  {
   "cell_type": "code",
   "execution_count": null,
   "metadata": {},
   "outputs": [],
   "source": [
    "import toloka.metrics as metrics\n",
    "from toloka.metrics.jupyter_dashboard import Chart, DashBoard\n",
    "import toloka.client as toloka\n",
    "\n",
    "toloka_client = toloka.TolokaClient(input(\"Enter your token:\"), 'PRODUCTION')\n",
    "print(toloka_client.get_requester())"
   ]
  },
  {
   "cell_type": "code",
   "execution_count": null,
   "metadata": {},
   "outputs": [],
   "source": [
    "new_dash = DashBoard(\n",
    "    #toloka_client,\n",
    "    # Will create chart for each element in list:\n",
    "    [\n",
    "        # Simple balance metric with default line names\n",
    "        metrics.Balance(),\n",
    "        # Assignments in pool. Only default lines with default names.\n",
    "        # Adds pool private_name to chart name.\n",
    "        metrics.AssignmentsInPool('26807107'),\n",
    "        # Assignment events in pool. With self-configured line names.\n",
    "        # Adds pool private_name to chart name\n",
    "        # Joins all events that happens in one loop into one point.\n",
    "        metrics.AssignmentEventsInPool('26807107', submitted_name='submitted', join_events=True),\n",
    "        # Manually configured charts could contain several metrics and draw all its lines in one chart.\n",
    "        # You must clearly specify chart name\n",
    "        # Be careful, if you adds same metric type with default line names, you get pair of lines with same names.\n",
    "        Chart(\n",
    "            'Manualy configured chart',\n",
    "            [metrics.AssignmentsInPool('26807107'), metrics.AssignmentsInPool('27262965'),]\n",
    "        ),\n",
    "        metrics.PoolCompletedPercentage('26807107'),\n",
    "    ],\n",
    "\n",
    "    update_seconds=2,  # just example. In realy dashboards it's better to drop this parameter\n",
    "    header='My BEAUTY dashboard',\n",
    ")\n",
    "\n",
    "metrics.bind_client(new_dash.metrics, toloka_client)\n"
   ]
  },
  {
   "cell_type": "code",
   "execution_count": null,
   "metadata": {},
   "outputs": [],
   "source": [
    "new_dash.run_dash()"
   ]
  },
  {
   "cell_type": "markdown",
   "metadata": {},
   "source": [
    "___\n",
    "### And you can run other cell, while this dashboard tracking metrics"
   ]
  },
  {
   "cell_type": "code",
   "execution_count": null,
   "metadata": {},
   "outputs": [],
   "source": [
    "import time\n",
    "for i in range(10):\n",
    "    print(i)\n",
    "    time.sleep(2)"
   ]
  },
  {
   "cell_type": "markdown",
   "metadata": {},
   "source": [
    "### If you want to stop dashboard call this:"
   ]
  },
  {
   "cell_type": "code",
   "execution_count": null,
   "metadata": {},
   "outputs": [],
   "source": [
    "new_dash.stop_dash()"
   ]
  },
  {
   "cell_type": "markdown",
   "metadata": {},
   "source": [
    "### If you need several dashboard, create several instance of DashBoard and run it in several ports like:\n",
    "```Python\n",
    "    dash_for_requester1 = DashBoard(toloka_client1, [...])\n",
    "    dash_for_requester2 = DashBoard(toloka_client2, [...])\n",
    "```\n",
    "\n",
    "And then run it in different cells. One:\n",
    "```Python\n",
    "    dash_for_requester1.run_dash(port='8081')\n",
    "```\n",
    "\n",
    "And another:\n",
    "```Python\n",
    "    dash_for_requester2.run_dash(port='8082')\n",
    "```"
   ]
  },
  {
   "cell_type": "markdown",
   "metadata": {},
   "source": [
    "### It's better to understand:\n",
    "- This DashBoard useful only for fast and pretty online demonstarion in jupyter notebooks. For real monitoring system, please use `toloka.metric.MetricCollector`\n",
    "- DashBoard don't draw something in jupyter (html or image or whatelse), it's post `IPython.lib.display.IFrame`. So if you save notebook and share .ipynb file, there is no dashboard images. Only big empty outup.\n",
    "- DashBoard works with current instance, so you can not share it."
   ]
  },
  {
   "cell_type": "markdown",
   "metadata": {},
   "source": [
    "## Dash for several requesters\n",
    "Create another client"
   ]
  },
  {
   "cell_type": "code",
   "execution_count": null,
   "metadata": {},
   "outputs": [],
   "source": [
    "toloka_client2 = toloka.TolokaClient(input(\"Enter your another token:\"), 'PRODUCTION')\n",
    "print(toloka_client2.get_requester())"
   ]
  },
  {
   "cell_type": "code",
   "execution_count": null,
   "metadata": {},
   "outputs": [],
   "source": [
    "new_dash2 = DashBoard(\n",
    "    [\n",
    "        metrics.Balance(toloka_client=toloka_client),\n",
    "        metrics.Balance(toloka_client=toloka_client2),\n",
    "        Chart(\n",
    "            'Balance for both clients',\n",
    "            [\n",
    "                metrics.Balance(balance_name='first client', toloka_client=toloka_client),\n",
    "                metrics.Balance(balance_name='second client', toloka_client=toloka_client2),\n",
    "            ]\n",
    "        )\n",
    "    ],\n",
    "    update_seconds=2,  # just example. In realy dashboards it's better to drop this parameter\n",
    "    header='Dashboard for several clients',\n",
    ")\n",
    "\n",
    "# No client bindings, because we already set it in each metric\n",
    "# metrics.bind_client(new_dash.metrics, toloka_client)"
   ]
  },
  {
   "cell_type": "markdown",
   "metadata": {},
   "source": [
    "Lets run it on other port"
   ]
  },
  {
   "cell_type": "code",
   "execution_count": null,
   "metadata": {},
   "outputs": [],
   "source": [
    "new_dash2.run_dash(port='8051')"
   ]
  },
  {
   "cell_type": "markdown",
   "metadata": {},
   "source": [
    "Both dashboard run independently.\n",
    "To stop second you must call:"
   ]
  },
  {
   "cell_type": "code",
   "execution_count": null,
   "metadata": {},
   "outputs": [],
   "source": [
    "new_dash2.stop_dash()"
   ]
  }
 ],
 "metadata": {
  "kernelspec": {
   "display_name": "Python 3",
   "language": "python",
   "name": "python3"
  },
  "language_info": {
   "codemirror_mode": {
    "name": "ipython",
    "version": 3
   },
   "file_extension": ".py",
   "mimetype": "text/x-python",
   "name": "python",
   "nbconvert_exporter": "python",
   "pygments_lexer": "ipython3",
   "version": "3.7.5"
  }
 },
 "nbformat": 4,
 "nbformat_minor": 4
}
