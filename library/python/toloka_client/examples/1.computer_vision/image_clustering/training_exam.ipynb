{
 "cells": [
  {
   "cell_type": "markdown",
   "metadata": {},
   "source": [
    "# Image clustering\n",
    "\n",
    "The goal of this notebook is to combine women dresses into big groups by their style with a help from crowd\n",
    "\n",
    "We are going to use [Freidegger dataset](https://github.com/zalandoresearch/feidegger). The dataset consists of 8732 high-resolution images, each depicting a dress against a white-background.\n"
   ]
  },
  {
   "cell_type": "markdown",
   "metadata": {},
   "source": [
    "To get acquainted with Toloka tools for free, you can use the promo code **TOLOKAKIT1** on $20 on your [profile page](https://toloka.yandex.com/requester/profile?utm_source=github&utm_medium=site&utm_campaign=tolokakit) after registration."
   ]
  },
  {
   "cell_type": "markdown",
   "metadata": {},
   "source": [
    "Prepare environment and import all we'll need."
   ]
  },
  {
   "cell_type": "code",
   "execution_count": null,
   "metadata": {},
   "outputs": [],
   "source": [
    "!pip3 install toloka-kit==0.1.22\n",
    "!pip3 install crowd-kit==0.0.9\n",
    "!pip3 install pandas\n",
    "!pip3 install ipyplot\n",
    "\n",
    "import collections\n",
    "import datetime\n",
    "import json\n",
    "import os\n",
    "import random\n",
    "import sys\n",
    "import time\n",
    "import logging\n",
    "\n",
    "from decimal import Decimal\n",
    "from time import sleep\n",
    "from typing import Dict, List, Union\n",
    "\n",
    "import ipyplot\n",
    "import pandas as pd\n",
    "import numpy as np\n",
    "\n",
    "import toloka.client as toloka\n",
    "import toloka.client.project.template_builder as tb\n",
    "from crowdkit.aggregation import DawidSkene\n",
    "\n",
    "logging.basicConfig(\n",
    "    format='[%(levelname)s] %(name)s: %(message)s',\n",
    "    level=logging.INFO,\n",
    "    stream=sys.stdout,\n",
    ")"
   ]
  },
  {
   "cell_type": "markdown",
   "metadata": {},
   "source": [
    "Сreate toloka-client instance. All api calls will go through it. More about OAuth token in our [Learn the basics example](https://github.com/Toloka/toloka-kit/tree/main/examples/0.getting_started/0.learn_the_basics) [![Open In Colab](https://colab.research.google.com/assets/colab-badge.svg)](https://colab.research.google.com/github/Toloka/toloka-kit/blob/main/examples/0.getting_started/0.learn_the_basics/learn_the_basics.ipynb)"
   ]
  },
  {
   "cell_type": "code",
   "execution_count": null,
   "metadata": {},
   "outputs": [],
   "source": [
    "toloka_client = toloka.TolokaClient(input(\"Enter your token:\"), 'PRODUCTION')  # Or switch to 'SANDBOX'\n",
    "logging.info(toloka_client.get_requester())"
   ]
  },
  {
   "cell_type": "markdown",
   "metadata": {},
   "source": [
    "## Creating new project"
   ]
  },
  {
   "cell_type": "markdown",
   "metadata": {},
   "source": [
    "create project"
   ]
  },
  {
   "cell_type": "code",
   "execution_count": null,
   "metadata": {},
   "outputs": [],
   "source": [
    "def create_project_from_file(filepath: str) -> toloka.Project:\n",
    "    with open(filepath) as project_file:\n",
    "        project_dict = json.load(project_file)\n",
    "        project_dict['private_comment'] = 'mr-fedulow@ is working on clustering example'\n",
    "    return toloka_client.create_project(project_dict)\n",
    "\n",
    "project = create_project_from_file('training_exam_configs/project.json')\n",
    "\n"
   ]
  },
  {
   "cell_type": "markdown",
   "metadata": {},
   "source": [
    "create training"
   ]
  },
  {
   "cell_type": "code",
   "execution_count": null,
   "metadata": {},
   "outputs": [],
   "source": [
    "def create_training_from_file(filepath: str, project_id: str) -> toloka.Training:\n",
    "    with open(filepath) as training_file:\n",
    "        training_dict = json.load(training_file)\n",
    "    training = toloka.structure(training_dict, toloka.Training)\n",
    "    training.project_id = project_id\n",
    "    return toloka_client.create_training(training)\n",
    "\n",
    "training = create_training_from_file('training_exam_configs/training.json', project.id)"
   ]
  },
  {
   "cell_type": "code",
   "execution_count": null,
   "metadata": {},
   "outputs": [],
   "source": [
    "training = pool"
   ]
  },
  {
   "cell_type": "markdown",
   "metadata": {},
   "source": [
    "Upload tasks to training"
   ]
  },
  {
   "cell_type": "code",
   "execution_count": null,
   "metadata": {},
   "outputs": [],
   "source": [
    "def create_training_tasks_from_directory(path: str, training_id: str) -> List[toloka.Task]:\n",
    "    tasks = []\n",
    "    \n",
    "    for filename in os.listdir(path):\n",
    "        filepath = os.path.join(path, filename)\n",
    "        if os.path.isfile(filepath) and filepath.endswith('.json'):\n",
    "            with open(filepath) as task_file:\n",
    "                task_dict = json.load(task_file)\n",
    "            \n",
    "            task = toloka.structure(task_dict, toloka.Task)\n",
    "            task.pool_id = training_id\n",
    "            \n",
    "            tasks.append(task)\n",
    "    \n",
    "    return tasks\n",
    "\n",
    "tasks = create_training_tasks_from_directory('training_exam_configs/training_tasks/', training.id)\n",
    "tasks = toloka_client.create_tasks(tasks) #, open_pool=True)"
   ]
  },
  {
   "cell_type": "markdown",
   "metadata": {},
   "source": [
    "Create an exam"
   ]
  },
  {
   "cell_type": "code",
   "execution_count": null,
   "metadata": {},
   "outputs": [],
   "source": [
    "def create_pool_from_file(filepath: str, project_id: str, training_id: str) -> toloka.Pool:\n",
    "    with open(filepath) as pool_file:\n",
    "        pool_dict = json.load(pool_file)\n",
    "    pool = toloka.structure(pool_dict, toloka.Pool)\n",
    "    pool.project_id = project_id\n",
    "    pool.quality_control.training_requirement.training_pool_id = training_id\n",
    "    pool.will_expire = datetime.datetime.now() + datetime.timedelta(days=7)\n",
    "    return toloka_client.create_pool(pool)\n",
    "\n",
    "pool = create_pool_from_file('training_exam_configs/exam_pool.json', project.id, training.id)"
   ]
  },
  {
   "cell_type": "code",
   "execution_count": 1,
   "metadata": {},
   "outputs": [
    {
     "ename": "NameError",
     "evalue": "name 'List' is not defined",
     "output_type": "error",
     "traceback": [
      "\u001b[0;31m---------------------------------------------------------------------------\u001b[0m",
      "\u001b[0;31mNameError\u001b[0m                                 Traceback (most recent call last)",
      "\u001b[0;32m/var/folders/lc/7vjxqyvx2td0phd32wjb6j58dhzf7p/T/ipykernel_50929/2963774404.py\u001b[0m in \u001b[0;36m<module>\u001b[0;34m\u001b[0m\n\u001b[0;32m----> 1\u001b[0;31m \u001b[0;32mdef\u001b[0m \u001b[0mcreate_task_suites_from_directory\u001b[0m\u001b[0;34m(\u001b[0m\u001b[0mpath\u001b[0m\u001b[0;34m:\u001b[0m \u001b[0mstr\u001b[0m\u001b[0;34m,\u001b[0m \u001b[0mpool_id\u001b[0m\u001b[0;34m:\u001b[0m \u001b[0mstr\u001b[0m\u001b[0;34m)\u001b[0m \u001b[0;34m->\u001b[0m \u001b[0mList\u001b[0m\u001b[0;34m[\u001b[0m\u001b[0mtoloka\u001b[0m\u001b[0;34m.\u001b[0m\u001b[0mTaskSuite\u001b[0m\u001b[0;34m]\u001b[0m\u001b[0;34m:\u001b[0m\u001b[0;34m\u001b[0m\u001b[0;34m\u001b[0m\u001b[0m\n\u001b[0m\u001b[1;32m      2\u001b[0m     \u001b[0mtask_suits\u001b[0m \u001b[0;34m=\u001b[0m \u001b[0;34m[\u001b[0m\u001b[0;34m]\u001b[0m\u001b[0;34m\u001b[0m\u001b[0;34m\u001b[0m\u001b[0m\n\u001b[1;32m      3\u001b[0m \u001b[0;34m\u001b[0m\u001b[0m\n\u001b[1;32m      4\u001b[0m     \u001b[0;32mfor\u001b[0m \u001b[0mfilename\u001b[0m \u001b[0;32min\u001b[0m \u001b[0mos\u001b[0m\u001b[0;34m.\u001b[0m\u001b[0mlistdir\u001b[0m\u001b[0;34m(\u001b[0m\u001b[0mpath\u001b[0m\u001b[0;34m)\u001b[0m\u001b[0;34m:\u001b[0m\u001b[0;34m\u001b[0m\u001b[0;34m\u001b[0m\u001b[0m\n\u001b[1;32m      5\u001b[0m         \u001b[0mfilepath\u001b[0m \u001b[0;34m=\u001b[0m \u001b[0mos\u001b[0m\u001b[0;34m.\u001b[0m\u001b[0mpath\u001b[0m\u001b[0;34m.\u001b[0m\u001b[0mjoin\u001b[0m\u001b[0;34m(\u001b[0m\u001b[0mpath\u001b[0m\u001b[0;34m,\u001b[0m \u001b[0mfilename\u001b[0m\u001b[0;34m)\u001b[0m\u001b[0;34m\u001b[0m\u001b[0;34m\u001b[0m\u001b[0m\n",
      "\u001b[0;31mNameError\u001b[0m: name 'List' is not defined"
     ]
    }
   ],
   "source": [
    "def create_task_suites_from_directory(path: str, pool_id: str) -> List[toloka.TaskSuite]:\n",
    "    task_suits = []\n",
    "    \n",
    "    for filename in os.listdir(path):\n",
    "        filepath = os.path.join(path, filename)\n",
    "        if os.path.isfile(filepath) and filepath.endswith('.json'):\n",
    "            with open(filepath) as task_file:\n",
    "                task_suit_dict = json.load(task_file)\n",
    "            \n",
    "            task_suit = toloka.structure(task_suit_dict, toloka.Task)\n",
    "            task_suit.pool_id = pool_id\n",
    "            \n",
    "            task_suits.append(task_suit)\n",
    "    \n",
    "    return task_suits\n",
    "\n",
    "task_suites = create_task_suites_from_directory('training_exam_configs/exam_tasks/', pool.id)\n",
    "task_suites = toloka_client.create_task_suites(task_suites) #, open_pool=True)"
   ]
  },
  {
   "cell_type": "markdown",
   "metadata": {},
   "source": [
    "Create a new skill"
   ]
  },
  {
   "cell_type": "code",
   "execution_count": null,
   "metadata": {},
   "outputs": [],
   "source": [
    "skill = toloka_client.create_skill(name='Shoes clustering20220105')"
   ]
  },
  {
   "cell_type": "markdown",
   "metadata": {},
   "source": [
    "We are going to run check"
   ]
  },
  {
   "cell_type": "code",
   "execution_count": null,
   "metadata": {},
   "outputs": [],
   "source": [
    "assignments_raw = toloka_client.get_assignments_df(pool_id=pool.id, status=['SUBMITTED'])\n",
    "while len(assignments_raw) < 3:\n",
    "    assignments_raw = toloka_client.get_assignments_df(pool_id=pool.id, status=['SUBMITTED'])\n",
    "toloka_client.close_training(training.id)\n",
    "toloka_client.close_pool(pool.id)"
   ]
  },
  {
   "cell_type": "code",
   "execution_count": null,
   "metadata": {},
   "outputs": [],
   "source": [
    "assignments_raw"
   ]
  },
  {
   "cell_type": "code",
   "execution_count": null,
   "metadata": {},
   "outputs": [],
   "source": [
    "def get_assignments_list(assignments: pd.DataFrame) -> list:\n",
    "    '''Calculates clusters from answers and transforms DF to list'''\n",
    "    assignments_list = list()\n",
    "    for _, row in assignments.iterrows():\n",
    "        ass_item = dict()\n",
    "        output_list = json.loads(row['OUTPUT:result'])\n",
    "        golden_list = json.loads(row['GOLDEN:result'])\n",
    "        img_str = row['INPUT:images']\n",
    "        ass_item['images'] = json.loads('[' + img_str + ']')\n",
    "        ass_item['outputs'] = [x['group'] for x in output_list]\n",
    "        ass_item['golden'] = [x['group'] for x in golden_list]\n",
    "        ass_item['assignment_id'] = row['ASSIGNMENT:assignment_id']\n",
    "        ass_item['worker_id'] = row['ASSIGNMENT:worker_id']\n",
    "        dd = collections.defaultdict(list)\n",
    "        for label, img in zip(ass_item['outputs'], ass_item['images']):\n",
    "            dd[label].append(img)\n",
    "        clusters = frozenset(frozenset(x) for x in dd.values())\n",
    "        ass_item['clusters'] = clusters\n",
    "        \n",
    "        dd = collections.defaultdict(list)\n",
    "        for label, img in zip(ass_item['golden'], ass_item['images']):\n",
    "            dd[label].append(img)\n",
    "        clusters = frozenset(frozenset(x) for x in dd.values())\n",
    "        ass_item['golden_clusters'] = clusters\n",
    "        ass_item['images'] = frozenset(ass_item['images'])\n",
    "        assignments_list.append(ass_item)\n",
    "    return assignments_list\n"
   ]
  },
  {
   "cell_type": "code",
   "execution_count": null,
   "metadata": {},
   "outputs": [],
   "source": [
    "total_users = 300"
   ]
  },
  {
   "cell_type": "code",
   "execution_count": null,
   "metadata": {},
   "outputs": [],
   "source": [
    "uskill = toloka_client.get_user_skills(skill_id=skill.id)\n",
    "list(uskill)"
   ]
  },
  {
   "cell_type": "code",
   "execution_count": null,
   "metadata": {},
   "outputs": [],
   "source": [
    "from time import sleep"
   ]
  },
  {
   "cell_type": "code",
   "execution_count": null,
   "metadata": {},
   "outputs": [],
   "source": [
    "users_with_skill = len(list(toloka_client.get_user_skills(skill_id=skill.id)))\n",
    "n_exams = 3\n",
    "if not os.path.exists('exam_log.csv'):\n",
    "    with open('exam_log.csv', 'w') as logfile:\n",
    "        logfile.write('user_id,skill_id,skill_value,assignment_id,correct_clusters,ground_truth_clusters,datetime\\n')\n",
    "\n",
    "while users_with_skill < total_users and pool.is_open():\n",
    "    assignments_raw = toloka_client.get_assignments_df(pool_id=pool.id, status=['SUBMITTED'])[[\n",
    "        'INPUT:images', 'OUTPUT:result', 'GOLDEN:result', 'ASSIGNMENT:link', 'ASSIGNMENT:assignment_id', 'ASSIGNMENT:worker_id', 'ASSIGNMENT:status', 'ACCEPT:verdict'\n",
    "    ]]\n",
    "    \n",
    "\n",
    "    assignments_list = get_assignments_list(assignments_raw)\n",
    "    # print(assignments_list)\n",
    "\n",
    "    for assignment in assignments_list:\n",
    "        skill_value = 0\n",
    "        correct_clusters = len(assignment['clusters'] & assignment['golden_clusters'])\n",
    "        ground_truth_clusters = len(assignment['golden_clusters'])\n",
    "\n",
    "        print(assignment['clusters'] == assignment['golden_clusters'],\n",
    "              correct_clusters, ground_truth_clusters, end=', ')\n",
    "\n",
    "    # check clusters, make skill_value  \n",
    "        if assignment['clusters'] == assignment['golden_clusters']:\n",
    "            try:\n",
    "    #                 pass\n",
    "                toloka_client.accept_assignment(assignment['assignment_id'], 'Excellent')\n",
    "            except Exception as e:\n",
    "                logging.info(e)\n",
    "            skill_value = 100\n",
    "            print('accepted')\n",
    "\n",
    "        if correct_clusters == 0:\n",
    "            try:\n",
    "    #                 pass\n",
    "                toloka_client.reject_assignment(assignment['assignment_id'], 'Not correct')\n",
    "            except Exception as e:\n",
    "                logging.info(e)\n",
    "            skill_value = 0\n",
    "            print('rejected')\n",
    "\n",
    "        if correct_clusters != 0 and correct_clusters != ground_truth_clusters:\n",
    "            try:\n",
    "    #                 pass\n",
    "                toloka_client.reject_assignment(assignment['assignment_id'], 'Partly correct')\n",
    "            except Exception as e:\n",
    "                logging.info(e)\n",
    "            skill_value = Decimal(correct_clusters / ground_truth_clusters * 100)\n",
    "            print('rejected, partly')\n",
    "        try:\n",
    "            current_value = list(\n",
    "                toloka_client.get_user_skills(user_id=assignment['worker_id'], skill_id=skill.id)\n",
    "            )[0].exact_value or 0 # на случай если не нашлось ничего, делаем ноль\n",
    "        except Exception as e:\n",
    "            logging.info(e)\n",
    "            current_value = 0\n",
    "\n",
    "        toloka_client.set_user_skill(\n",
    "            skill_id=skill.id, user_id=assignment['worker_id'], value=Decimal(min(float(current_value)+float(skill_value/n_exams), 100))\n",
    "        )\n",
    "        \n",
    "        with open('exam_log.csv', 'a') as logfile:\n",
    "            logfile.write(f'{assignment[\"worker_id\"]},{skill.id},{skill_value},{assignment[\"assignment_id\"]},{correct_clusters},{ground_truth_clusters},{datetime.datetime.now()}\\n')\n",
    "    sleep(60)\n",
    "    users_with_skill = len(list(toloka_client.get_user_skills(skill_id=skill.id)))\n",
    "toloka_client.close_training(training.id)\n",
    "toloka_client.close_pool(pool.id)"
   ]
  },
  {
   "cell_type": "code",
   "execution_count": null,
   "metadata": {},
   "outputs": [],
   "source": [
    "assignments_raw = toloka_client.get_assignments_df(pool_id='30849552', status=['SUBMITTED'])[[\n",
    "    'INPUT:images', 'OUTPUT:result', 'GOLDEN:result', 'ASSIGNMENT:link', 'ASSIGNMENT:assignment_id', 'ASSIGNMENT:worker_id', 'ASSIGNMENT:status', 'ACCEPT:verdict'\n",
    "]]\n",
    "n_exams = 3\n",
    "\n",
    "assignments_list = get_assignments_list(assignments_raw)\n",
    "# print(assignments_list)\n",
    "\n",
    "for assignment in assignments_list:\n",
    "    skill_value = 0\n",
    "    correct_clusters = len(assignment['clusters'] & assignment['golden_clusters'])\n",
    "    ground_truth_clusters = len(assignment['golden_clusters'])\n",
    "\n",
    "    print(assignment['clusters'] == assignment['golden_clusters'],\n",
    "          correct_clusters, ground_truth_clusters, end=', ')\n",
    "\n",
    "# check clusters, make skill_value  \n",
    "    if assignment['clusters'] == assignment['golden_clusters']:\n",
    "        try:\n",
    "#                 pass\n",
    "            toloka_client.accept_assignment(assignment['assignment_id'], 'Excellent')\n",
    "        except Exception as e:\n",
    "            logging.info(e)\n",
    "        skill_value = 100\n",
    "        print('accepted')\n",
    "\n",
    "    if correct_clusters == 0:\n",
    "        try:\n",
    "#                 pass\n",
    "            toloka_client.reject_assignment(assignment['assignment_id'], 'Not correct')\n",
    "        except Exception as e:\n",
    "            logging.info(e)\n",
    "        skill_value = 0\n",
    "        print('rejected')\n",
    "\n",
    "    if correct_clusters != 0 and correct_clusters != ground_truth_clusters:\n",
    "        try:\n",
    "#                 pass\n",
    "            toloka_client.reject_assignment(assignment['assignment_id'], 'Partly correct')\n",
    "        except Exception as e:\n",
    "            logging.info(e)\n",
    "        skill_value = Decimal(correct_clusters / ground_truth_clusters * 100)\n",
    "        print('rejected, partly')\n",
    "    try:\n",
    "        current_value = list(\n",
    "            toloka_client.get_user_skills(user_id=assignment['worker_id'], skill_id='36042')\n",
    "        )[0].exact_value or 0 # на случай если не нашлось ничего, делаем ноль\n",
    "    except Exception as e:\n",
    "        logging.info(e)\n",
    "        current_value = 0\n",
    "\n",
    "    toloka_client.set_user_skill(\n",
    "        skill_id='36042', user_id=assignment['worker_id'], value=Decimal(min(float(current_value)+float(skill_value/n_exams), 100))\n",
    "    )\n",
    "\n",
    "    with open('exam_log.csv', 'a') as logfile:\n",
    "        logfile.write(f'{assignment[\"worker_id\"]},36042,{skill_value},{assignment[\"assignment_id\"]},{correct_clusters},{ground_truth_clusters},{datetime.datetime.now()}\\n')\n"
   ]
  },
  {
   "cell_type": "code",
   "execution_count": null,
   "metadata": {},
   "outputs": [],
   "source": []
  }
 ],
 "metadata": {
  "kernelspec": {
   "display_name": "Python 3 (ipykernel)",
   "language": "python",
   "name": "python3"
  },
  "language_info": {
   "codemirror_mode": {
    "name": "ipython",
    "version": 3
   },
   "file_extension": ".py",
   "mimetype": "text/x-python",
   "name": "python",
   "nbconvert_exporter": "python",
   "pygments_lexer": "ipython3",
   "version": "3.9.10"
  }
 },
 "nbformat": 4,
 "nbformat_minor": 4
}
