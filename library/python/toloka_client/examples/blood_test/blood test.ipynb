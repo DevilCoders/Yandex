{
 "cells": [
  {
   "cell_type": "markdown",
   "id": "sealed-blowing",
   "metadata": {},
   "source": [
    "# Классификация изображений\n",
    "В данном примере мы расскажем как происходит классификация изображений"
   ]
  },
  {
   "cell_type": "markdown",
   "id": "secret-argentina",
   "metadata": {},
   "source": [
    "### Задача\n",
    "В качестве датасета для классификации изображений выбран [BCCD_Dataset](https://github.com/Shenggan/BCCD_Dataset). BCCD Dataset is under *[MIT licence](./LICENSE)*.\n",
    "\n",
    "Этот набор данных содержит увеличенные изображения клеток крови. Для каждого из 4 различных типов клеток имеются изображения, сгруппированных в 4 различные папки (в зависимости от типа клетки). Типы клеток - эозинофил, лимфоцит, моноцит и нейтрофил.\n",
    "\n",
    "[Пример модели машинного обучения](https://www.kaggle.com/brsdincer/classify-blood-cell-subtypes-all-process) по классификации клеток на основе этого датасета. В этом примере классифицируются только WBC (White Blood Cell) на изображении. Мы реализуем классификацию WBC на изображениях с помощью Толоки. [Переработанный датасет](https://www.kaggle.com/paultimothymooney/blood-cells) из этого примера мы и будем использовать.\n",
    "\n",
    "### Вдохновение\n",
    "Диагностика заболеваний крови часто включает в себя идентификацию и характеристику образцов крови пациентов.\n",
    "Автоматизированные методы обнаружения и классификации подтипов клеток крови имеют важное медицинское применение.\n",
    "\n",
    "### Описание\n",
    "Для решения данной задачи мы будет использовать один проект. В котором будем показывать изображение клетки и краткую инструкцию для визуального сравнения и просим исполнителей выбрать исходя из описания выбрать какой тип клетки они видят на изображении 1 - Эозинофил, 2 - Лимфоцит, 3 - Моноцит, 4 - Нейтрофил.\n",
    "\n",
    "<table  align=\"center\">\n",
    "  <tr><td>\n",
    "    <img src=\"./manual/img/eosinophil_ex2.jpg\"\n",
    "         alt=\"Sample blood cell image\"  width=\"500\">\n",
    "  </td></tr>\n",
    "  <tr><td align=\"center\">\n",
    "    <b>Изображение 1.</b> Эозинофил\n",
    "  </td></tr>\n",
    "</table>\n",
    "\n",
    "\n",
    "<table  align=\"center\">\n",
    "  <tr><td>\n",
    "    <img src=\"./manual/manual.png\"\n",
    "         alt=\"Manual\"  width=\"500\">\n",
    "  </td></tr>\n",
    "  <tr><td align=\"center\">\n",
    "    <b>Изображение 2.</b> Инструкцию для визуального сравнения\n",
    "  </td></tr>\n",
    "</table>\n",
    "\n",
    "\n",
    "Особенностью данного проекта является то что задача требует специальных знаний для классификации, но будет выполнятся обычными людьми. Для того чтобы подготовить исполнителя была сделана <a href=\"./manual/manual.html\" target=\"_blank\">подробная инструкция</a> а так же организован принцип Тренировка -> Экзамен -> Выполнение заданий"
   ]
  },
  {
   "cell_type": "markdown",
   "id": "front-sociology",
   "metadata": {},
   "source": [
    "### Настройка среды\n",
    "\n",
    "Прежде всего, вам нужно зарегистрироваться в Толоке в качестве заказчика и получить ваш токен. Подробное описание этих действий можно посмотреть в примере [learn the basics.]()\n",
    "\n",
    "Для хранения изображений можно использовать любой s3. Например в [Yandex.Cloud](https://cloud.yandex.ru/) или [Amazon.AWS](https://aws.amazon.com/s3/)\n",
    "Вам так же нужно будет создать ключ доступа:\n",
    "- [yandex](https://cloud.yandex.ru/docs/iam/operations/sa/create-access-key) \n",
    "- [amazon](https://docs.aws.amazon.com/IAM/latest/APIReference/API_CreateAccessKey.html)\n",
    "\n",
    "Чтобы скачать датасет вы должны быть зарегистрованы на Kaggle. Надо зайти в Account. И там нажать Create New API Token - скачается json-файл с вашими настройками."
   ]
  },
  {
   "cell_type": "code",
   "execution_count": null,
   "id": "abstract-envelope",
   "metadata": {},
   "outputs": [],
   "source": [
    "!pip install toloka-kit==0.1.5\n",
    "!pip install crowd-kit==0.0.3\n",
    "!pip install pandas\n",
    "!pip install boto3\n",
    "!pip install ipyplot\n",
    "!pip install kaggle"
   ]
  },
  {
   "cell_type": "code",
   "execution_count": null,
   "id": "swedish-maker",
   "metadata": {},
   "outputs": [],
   "source": [
    "import datetime\n",
    "import os\n",
    "import random\n",
    "import time\n",
    "import uuid\n",
    "from zipfile import ZipFile\n",
    "\n",
    "import boto3\n",
    "import ipyplot\n",
    "import pandas\n",
    "\n",
    "import toloka.client as toloka\n",
    "import toloka.client.project.template_builder as tb\n",
    "from crowdkit.aggregation import MajorityVote, DawidSkene"
   ]
  },
  {
   "source": [
    "Настроим подключение к s3 и создадим там bucket, если его ещё нет."
   ],
   "cell_type": "markdown",
   "metadata": {}
  },
  {
   "cell_type": "code",
   "execution_count": null,
   "id": "owned-benjamin",
   "metadata": {},
   "outputs": [],
   "source": [
    "key_id='' # enter your key id\n",
    "access_key=''  # enter your access key\n",
    "bucket_name = ''  # enter your bucket name if you have, or leave empty\n",
    "s3_url = 'https://storage.yandexcloud.net'\n",
    "\n",
    "session = boto3.session.Session()\n",
    "s3 = session.client(\n",
    "    service_name='s3',\n",
    "    endpoint_url=s3_url,\n",
    "    aws_access_key_id=key_id,\n",
    "    aws_secret_access_key=access_key\n",
    ")\n",
    "\n",
    "if bucket_name == '':\n",
    "    bucket_name = f'blade-crowd-test-{uuid.uuid4().hex}'\n",
    "    response = s3.create_bucket(ACL='public-read', Bucket=bucket_name)\n",
    "    print(response['Location'])"
   ]
  },
  {
   "source": [
    "Настроим подключение к Толоке. И проверим что мы подключились к нужному заказчику."
   ],
   "cell_type": "markdown",
   "metadata": {}
  },
  {
   "cell_type": "code",
   "execution_count": null,
   "metadata": {},
   "outputs": [],
   "source": [
    "token = ''  # enter your toloka token\n",
    "\n",
    "toloka_client = toloka.TolokaClient(token, 'PRODUCTION')\n",
    "requester = toloka_client.get_requester()\n",
    "print(requester)"
   ]
  },
  {
   "source": [
    "Скачаем датасет с помощью Kaggle API и распакуем его"
   ],
   "cell_type": "markdown",
   "metadata": {}
  },
  {
   "cell_type": "code",
   "execution_count": null,
   "metadata": {},
   "outputs": [],
   "source": [
    "os.environ['KAGGLE_USERNAME'] = ''  # \"username\" from kaggle.json\n",
    "os.environ['KAGGLE_KEY'] = ''  # \"key\" from kaggle.json\n",
    "!kaggle datasets download -d paultimothymooney/blood-cells\n",
    "with ZipFile('blood-cells.zip', 'r') as archive:\n",
    "    archive.extractall('archive')"
   ]
  },
  {
   "source": [
    "Подготовим основные настройки: где лежат данные для разметки и данные для годен-сетов, список возможных типов клеток(WBC) и какое количество картинок мы хотим разметить."
   ],
   "cell_type": "markdown",
   "metadata": {}
  },
  {
   "cell_type": "code",
   "execution_count": null,
   "metadata": {},
   "outputs": [],
   "source": [
    "data_dir = './archive/dataset-master/dataset-master/JPEGImages/'\n",
    "test_dir = './archive/dataset2-master/dataset2-master/images/TEST_SIMPLE/'\n",
    "\n",
    "typecells = ['EOSINOPHIL', 'LYMPHOCYTE', 'MONOCYTE', 'NEUTROPHIL']\n",
    "tests_count = 4 # количество примеров контрольных задани 4*typecells = 16\n",
    "tasks_count = None # количество картинок которое хотим обработать, None - если хотим все"
   ]
  },
  {
   "source": [
    "Подготовим текстовые описания для всех полей, которые нам потребуются."
   ],
   "cell_type": "markdown",
   "metadata": {}
  },
  {
   "cell_type": "code",
   "execution_count": null,
   "id": "recorded-corpus",
   "metadata": {},
   "outputs": [],
   "source": [
    "# toloka text setting\n",
    "project_name = '🔬Определение типа клеток крови'\n",
    "project_description = 'Посмотрите на картинку и воспользовавшись инструкцией определите тип клеток крови на ней.'\n",
    "project_label = 'Какая из клеток крови изображена на картинке?'\n",
    "project_namecells = ['1 - Эозинофил', '2 - Лимфоцит', '3 - Моноцит', '4 - Нейтрофил']\n",
    "\n",
    "exam_skill_name = f'{project_name} (Экзамен)'\n",
    "exam_skill_description = f'Как исполнитель прошел экзамен на проекте {project_name}'\n",
    "quality_skill_name = f'{project_name} (Качество)'\n",
    "quality_skill_description = f'Как исполнитель выполнял задания на проекте {project_name}'\n",
    "\n",
    "train_pool_name = 'Train'\n",
    "exam_pool_name = 'Exam'\n",
    "exam_public_description = 'Пройдите экзамен чтобы получить доступ к основным платным заданиям.'"
   ]
  },
  {
   "source": [
    "Подготовим подсказки. Их мы используем в тренировке, чтобы подробно объяснить исполнителю как отличить одну клетку от другой."
   ],
   "cell_type": "markdown",
   "metadata": {}
  },
  {
   "cell_type": "code",
   "execution_count": null,
   "id": "alien-hearing",
   "metadata": {},
   "outputs": [],
   "source": [
    "hint_dict = {'EOSINOPHIL': '1 – Эозинофил. Ядро, разделенное на две дольки перетяжкой посередине. В розовой толще видны красные и оранжевые точки-включения.', \n",
    "            'LYMPHOCYTE': '2 – Лимфоцит. Крупное ядро и отсутствие зернистости. Обладают небольшими размерами.',\n",
    "            'MONOCYTE': '3 – Моноцит. Ядро не разделенно на фрагменты, крупное, темное, чуть вытянутое, выглядящее в виде боба. Имеют довольно большой размер. ', \n",
    "            'NEUTROPHIL': '4 – Нейтрофил. Ядро разделено на несколько (2-4) неодинаковых сегментов, соединенных между собой перетяжками. Внутри розовой толщи хорошо выражена зернистость.'}"
   ]
  },
  {
   "cell_type": "markdown",
   "id": "streaming-bowling",
   "metadata": {},
   "source": [
    "### Готовим инструкцию"
   ]
  },
  {
   "cell_type": "code",
   "execution_count": null,
   "id": "interior-camcorder",
   "metadata": {},
   "outputs": [],
   "source": [
    "public_instruction = open('manual/manual.html').read().strip()\n",
    "\n",
    "for image in os.listdir('manual/img/'):\n",
    "    s3.upload_file(f'manual/img/{image}', bucket_name, f'manual/img/{image}')\n",
    "\n",
    "public_instruction = public_instruction.replace('./img/', f'{s3_url}/{bucket_name}/manual/img/')\n",
    "\n",
    "s3.upload_file('manual/manual.png', bucket_name, 'manual/manual.png')\n",
    "manualpng = f'{s3_url}/{bucket_name}/manual/manual.png'"
   ]
  },
  {
   "cell_type": "markdown",
   "id": "conventional-paint",
   "metadata": {},
   "source": [
    "### Создаем проект\n",
    "В этом проекте исполнители выбирают тип клеток крови.\n",
    "\n",
    "На этом этапе нам нужно настроить, как исполнители будут видеть задачу, написать инструкции и определить формат ввода и вывода. Важно, чтобы мы написали четкие инструкции с примерами, чтобы убедиться, что исполнители делают именно то, что мы хотим."
   ]
  },
  {
   "cell_type": "code",
   "execution_count": null,
   "id": "affecting-casting",
   "metadata": {},
   "outputs": [],
   "source": [
    "# How performers will see the task\n",
    "radio_group_field = tb.fields.RadioGroupFieldV1(\n",
    "    data=tb.data.OutputData(path='result'),\n",
    "    label=project_label,\n",
    "    validation=tb.conditions.RequiredConditionV1(),\n",
    "    options=[\n",
    "        tb.fields.GroupFieldOption(label=cell_name, value=cell_type)\n",
    "        for cell_name, cell_type in zip(project_namecells, typecells)        \n",
    "    ]\n",
    ")\n",
    "\n",
    "project_interface = toloka.project.view_spec.TemplateBuilderViewSpec(\n",
    "    config=tb.TemplateBuilder(\n",
    "        view=tb.view.ListViewV1(\n",
    "            items=[\n",
    "                tb.view.ImageViewV1(url=tb.data.InputData(path='image'), max_width=500),\n",
    "                tb.view.ImageViewV1(url=manualpng, max_width=500),\n",
    "                radio_group_field,\n",
    "            ]\n",
    "        ),\n",
    "        plugins=[\n",
    "            tb.plugins.HotkeysPluginV1(\n",
    "                **{\n",
    "                    f'key_{i+1}': tb.actions.SetActionV1(data=tb.data.OutputData(path='result'),payload=cell_type)\n",
    "                    for i, cell_type in enumerate(typecells)\n",
    "                }\n",
    "            ),\n",
    "            tb.plugins.TolokaPluginV1(\n",
    "                layout = tb.plugins.TolokaPluginV1.TolokaPluginLayout(\n",
    "                    kind='scroll', \n",
    "                    task_width=500,\n",
    "                )\n",
    "            ),\n",
    "        ]\n",
    "    )\n",
    ")\n",
    "\n",
    "# Set up the project\n",
    "markup_project = toloka.project.Project(\n",
    "    assignments_issuing_type=toloka.project.Project.AssignmentsIssuingType.AUTOMATED,\n",
    "    public_name=project_name,\n",
    "    public_description=project_description,\n",
    "    public_instructions=public_instruction,\n",
    "    # Set up the task: view, input, and output parameters\n",
    "    task_spec=toloka.project.task_spec.TaskSpec(\n",
    "        input_spec={\n",
    "            'image': toloka.project.field_spec.StringSpec()\n",
    "        },\n",
    "        output_spec={\n",
    "            'result': toloka.project.field_spec.StringSpec(allowed_values=typecells)\n",
    "        },\n",
    "        view_spec=project_interface,\n",
    "    ),\n",
    ")\n",
    "\n",
    "# Call the API to create a new project\n",
    "markup_project = toloka_client.create_project(markup_project)\n",
    "print(f'Created markup project with id {markup_project.id}')\n",
    "print(f'To view the project, go to: https://toloka.yandex.com/requester/project/{markup_project.id}')"
   ]
  },
  {
   "cell_type": "markdown",
   "id": "engaged-voltage",
   "metadata": {},
   "source": [
    "### Создаем навыки\n",
    "Навыки определяются числом от 0 до 100. Например, в качестве навыка можно записать процент правильных ответов. Узнайте больше в справке.\n",
    "\n",
    "В наших проектах мы будем использовать два навыка:\n",
    "Тренировочный навык. Показывает, насколько хорошо прошел исполнитель тренировку.\n",
    "\n",
    "Экзаменационный навык. Показывает, насколько хорошо прошел исполнитель экзамен."
   ]
  },
  {
   "cell_type": "code",
   "execution_count": null,
   "id": "derived-providence",
   "metadata": {},
   "outputs": [],
   "source": [
    "exam_skill = next(toloka_client.get_skills(name=exam_skill_name), None)\n",
    "if exam_skill:\n",
    "    print('Exam skill already exists')\n",
    "else:\n",
    "    print('Create new exam skill')\n",
    "    exam_skill = toloka_client.create_skill(\n",
    "        name=exam_skill_name,\n",
    "        hidden=True,\n",
    "        private_comment=exam_skill_description,\n",
    "    )\n",
    "\n",
    "quality_skill = next(toloka_client.get_skills(name=quality_skill_name), None)\n",
    "if quality_skill:\n",
    "    print('Quality skill already exists')\n",
    "else:\n",
    "    print('Create new quality skill')\n",
    "    quality_skill = toloka_client.create_skill(\n",
    "        name=quality_skill_name,\n",
    "        hidden=True,\n",
    "        private_comment=quality_skill_description,\n",
    "    )"
   ]
  },
  {
   "cell_type": "markdown",
   "id": "fifty-survivor",
   "metadata": {},
   "source": [
    "### Создаем Тренировку\n",
    "В нем исполнители отвечают на задания и видят подсказку если ответили не верно. Таким образом мы обучаем исполнителей выполнять наше задание."
   ]
  },
  {
   "cell_type": "code",
   "execution_count": null,
   "id": "resistant-celebration",
   "metadata": {},
   "outputs": [],
   "source": [
    "train_pool = toloka.training.Training(\n",
    "    project_id=markup_project.id,\n",
    "    private_name=train_pool_name,\n",
    "    may_contain_adult_content=False,\n",
    "    assignment_max_duration_seconds=60*20,\n",
    "    mix_tasks_in_creation_order=False,\n",
    "    shuffle_tasks_in_task_suite=True,\n",
    "    training_tasks_in_task_suite_count=15,\n",
    "    task_suites_required_to_pass=7,\n",
    "    retry_training_after_days=1,\n",
    ")\n",
    "\n",
    "train_pool = toloka_client.create_training(train_pool)\n",
    "print(f'Created \"{train_pool.private_name}\" training with id {train_pool.id}')"
   ]
  },
  {
   "cell_type": "markdown",
   "id": "worth-filling",
   "metadata": {},
   "source": [
    "Добавляем задания в тренировку. Для тренировочных заданий кроме всего прочего нужны подсказки."
   ]
  },
  {
   "cell_type": "code",
   "execution_count": null,
   "metadata": {},
   "outputs": [],
   "source": [
    "training_tasks = []\n",
    "\n",
    "for cell_type in typecells:\n",
    "    dir_path = f'{test_dir}/{cell_type}/'\n",
    "    test_images_list = os.listdir(dir_path)\n",
    "    random.shuffle(test_images_list)\n",
    "    count = tests_count if len(test_images_list) > tests_count else len(test_images_list)\n",
    "    for image in test_images_list[:count]:\n",
    "        s3.upload_file(f'{dir_path}{image}', bucket_name, f'train/{image}')\n",
    "        training_tasks.append(\n",
    "            toloka.task.Task(\n",
    "                input_values={'image': f'{s3_url}/{bucket_name}/train/{image}'},\n",
    "                known_solutions = [toloka.task.BaseTask.KnownSolution(output_values={'result': cell_type})],\n",
    "                message_on_unknown_solution = hint_dict[cell_type],\n",
    "                pool_id=train_pool.id,\n",
    "                infinite_overlap=True,\n",
    "            )\n",
    "        )\n",
    "created_training_tasks = toloka_client.create_tasks(training_tasks, toloka.task.CreateTasksParameters(allow_defaults=True))\n",
    "print(f'{len(created_training_tasks.items)} tasks added to the pool {train_pool.id}')"
   ]
  },
  {
   "cell_type": "markdown",
   "id": "knowing-above",
   "metadata": {},
   "source": [
    "### Создаем пул Экзамен\n",
    "В нем исполнители отвечают на задания и получают или не получают возможность выполнять реальные задания в зависимости от того как они ответили на контрольные задания. К экзамену допускаются исполнители которые ответили правильно хотябы на 50% в тренировке."
   ]
  },
  {
   "cell_type": "code",
   "execution_count": null,
   "id": "daily-bubble",
   "metadata": {},
   "outputs": [],
   "source": [
    "from toloka.client.collectors import AssignmentSubmitTime, GoldenSet\n",
    "from toloka.client.actions import RestrictionV2, SetSkillFromOutputField\n",
    "from toloka.client.conditions import (\n",
    "    FastSubmittedCount,\n",
    "    GoldenSetCorrectAnswersRate,\n",
    "    RuleConditionKey,\n",
    "    TotalAnswersCount,\n",
    ")\n",
    "\n",
    "exam_pool = toloka.pool.Pool(\n",
    "    project_id=markup_project.id,\n",
    "    private_name=exam_pool_name,\n",
    "    public_description=exam_public_description,\n",
    "    may_contain_adult_content=False,\n",
    "    type='EXAM',\n",
    "    will_expire=datetime.datetime.utcnow() + datetime.timedelta(days=365),\n",
    "    reward_per_assignment=0.00,\n",
    "    auto_accept_solutions=True,\n",
    "    assignment_max_duration_seconds=60*10,\n",
    "    defaults=toloka.pool.Pool.Defaults(\n",
    "         default_overlap_for_new_task_suites=99,\n",
    "         default_overlap_for_new_tasks=None,\n",
    "    ),\n",
    ")\n",
    "\n",
    "# Set the number of tasks per page\n",
    "exam_pool.set_mixer_config(real_tasks_count=0, \n",
    "                            golden_tasks_count=15,\n",
    "                            training_tasks_count=0,\n",
    "                            min_golden_tasks_count=15,\n",
    "                            mix_tasks_in_creation_order=False,\n",
    "                            shuffle_tasks_in_task_suite=True,\n",
    "                            )\n",
    "\n",
    "exam_pool.filter = (\n",
    "    toloka.filter.FilterOr([toloka.filter.Languages.in_('RU')]) &\n",
    "    #toloka.filter.FilterOr([toloka.filter.Languages.in_('EN')]) &\n",
    "    toloka.filter.FilterOr([\n",
    "        toloka.filter.ClientType == 'BROWSER',\n",
    "        toloka.filter.ClientType == 'TOLOKA_APP'\n",
    "    ])\n",
    ")\n",
    "\n",
    "exam_pool.set_training_requirement(\n",
    "    training_pool_id=train_pool.id,\n",
    "    training_passing_skill_value=50\n",
    ")\n",
    "\n",
    "exam_pool.quality_control.add_action(\n",
    "    collector=AssignmentSubmitTime(fast_submit_threshold_seconds=7),\n",
    "    conditions=[FastSubmittedCount > 0],\n",
    "    action=RestrictionV2(\n",
    "        scope='PROJECT',\n",
    "        duration_unit='PERMANENT',\n",
    "        private_comment='Fast responses'\n",
    "    )\n",
    ")\n",
    "\n",
    "exam_pool.quality_control.add_action(\n",
    "    collector=GoldenSet(history_size=15),\n",
    "    conditions=[TotalAnswersCount >= 14],\n",
    "    action=SetSkillFromOutputField(\n",
    "        skill_id=exam_skill.id,\n",
    "        from_field=RuleConditionKey('correct_answers_rate')\n",
    "    )\n",
    ")\n",
    "\n",
    "exam_pool = toloka_client.create_pool(exam_pool)\n",
    "print(f'Created \"{exam_pool.private_name}\" pool with id {exam_pool.id}')"
   ]
  },
  {
   "cell_type": "markdown",
   "id": "incorporate-census",
   "metadata": {},
   "source": [
    "Добавляем задания в экзамен"
   ]
  },
  {
   "cell_type": "code",
   "execution_count": null,
   "id": "structured-majority",
   "metadata": {},
   "outputs": [],
   "source": [
    "exam_tasks = []\n",
    "\n",
    "for cell_type in typecells:\n",
    "    dir_path = f'{test_dir}/{cell_type}/'\n",
    "    test_images_list = os.listdir(dir_path)\n",
    "    random.shuffle(test_images_list)\n",
    "    count = tests_count if len(test_images_list) > tests_count else len(test_images_list)\n",
    "    for image in test_images_list[:count]:\n",
    "        s3.upload_file(f'{dir_path}{image}', bucket_name, f'exam/{image}')\n",
    "        exam_tasks.append(\n",
    "            toloka.task.Task(\n",
    "                input_values={'image': f'{s3_url}/{bucket_name}/exam/{image}'},\n",
    "                known_solutions = [\n",
    "                    toloka.task.BaseTask.KnownSolution(output_values={'result': cell_type})\n",
    "                ],\n",
    "                pool_id=exam_pool.id,\n",
    "                infinite_overlap=True,\n",
    "            )\n",
    "        )\n",
    "\n",
    "created_exam_tasks = toloka_client.create_tasks(exam_tasks)\n",
    "print(f'{len(created_exam_tasks.items)} tasks added to the pool {exam_pool.id}')"
   ]
  },
  {
   "cell_type": "markdown",
   "id": "prescription-central",
   "metadata": {},
   "source": [
    "### Создаем основной пул с заданиями\n",
    "В нем доверенные исполнители прошедшие тренировку и экзамен размечают настоящие данные. "
   ]
  },
  {
   "cell_type": "code",
   "execution_count": null,
   "id": "retired-grant",
   "metadata": {},
   "outputs": [],
   "source": [
    "blood_pool = toloka.pool.Pool(\n",
    "    project_id=markup_project.id,\n",
    "    private_name=project_name+' - тест добавления заданий',\n",
    "    may_contain_adult_content=False,\n",
    "    will_expire=datetime.datetime.utcnow() + datetime.timedelta(days=365),\n",
    "    reward_per_assignment=0.01,\n",
    "    auto_accept_solutions=True,\n",
    "    assignment_max_duration_seconds=60*20,\n",
    "    defaults=toloka.pool.Pool.Defaults(\n",
    "         default_overlap_for_new_task_suites=1,\n",
    "         default_overlap_for_new_tasks=10,\n",
    "    ),\n",
    ")\n",
    "\n",
    "# Set the number of tasks per page\n",
    "blood_pool.set_mixer_config(real_tasks_count=8, \n",
    "                            golden_tasks_count=2,\n",
    "                            training_tasks_count=0,\n",
    "                            min_real_tasks_count=1,\n",
    "                            min_golden_tasks_count=2)\n",
    "\n",
    "blood_pool.filter = (\n",
    "    toloka.filter.FilterOr([toloka.filter.Languages.in_('RU')]) &\n",
    "    #toloka.filter.FilterOr([toloka.filter.Languages.in_('EN')]) &\n",
    "    toloka.filter.FilterOr([toloka.filter.Skill(exam_skill.id) >= 80]) &\n",
    "    toloka.filter.FilterOr([\n",
    "        toloka.filter.ClientType == 'BROWSER',\n",
    "        toloka.filter.ClientType == 'TOLOKA_APP'\n",
    "    ]) &\n",
    "    toloka.filter.FilterOr([\n",
    "        toloka.filter.Skill(quality_skill.id) >= 80,\n",
    "        toloka.filter.Skill(quality_skill.id) == None\n",
    "    ])\n",
    ")\n",
    "\n",
    "blood_pool.quality_control.add_action(\n",
    "    collector=AssignmentSubmitTime(fast_submit_threshold_seconds=10),\n",
    "    conditions=[FastSubmittedCount > 0],\n",
    "    action=RestrictionV2(\n",
    "        scope='PROJECT',\n",
    "        duration_unit='PERMANENT',\n",
    "        private_comment='Fast responses'\n",
    "    )\n",
    ")\n",
    "\n",
    "blood_pool.quality_control.add_action(\n",
    "    collector=GoldenSet(history_size=100),\n",
    "    conditions=[GoldenSetCorrectAnswersRate < 80],\n",
    "    action=RestrictionV2(\n",
    "        scope='PROJECT',\n",
    "        duration_unit='PERMANENT',\n",
    "        private_comment='Wrong honeypot'\n",
    "    )\n",
    ")\n",
    "\n",
    "blood_pool.quality_control.add_action(\n",
    "    collector=GoldenSet(history_size=100),\n",
    "    conditions=[TotalAnswersCount >= 3],\n",
    "    action=SetSkillFromOutputField(\n",
    "        skill_id=quality_skill.id,\n",
    "        from_field=RuleConditionKey('correct_answers_rate')\n",
    "    )\n",
    ")\n",
    "\n",
    "blood_pool = toloka_client.create_pool(blood_pool)\n",
    "print(f'Created \"{blood_pool.private_name}\" pool with id {blood_pool.id}')"
   ]
  },
  {
   "cell_type": "markdown",
   "id": "undefined-sodium",
   "metadata": {},
   "source": [
    "Добавляем задания в пул, а так же добавляем контрольные задания. В этом датасете есть пограничные случаи, когда на изображении показано несколько клеток или вообще нет клеток. При выполнении реальной разметки, такие случаи надо отдельно обрабатывать в отдельных проектах или в этом же. Мы для простоты примера выкинем их из входных данных. Сразу же подготовим DataFrame с которым будем сравнивать итоговую разметку."
   ]
  },
  {
   "cell_type": "code",
   "execution_count": null,
   "metadata": {},
   "outputs": [],
   "source": [
    "# загружаем grounf truth разметку\n",
    "ground_truth_df = pandas.read_csv('archive/dataset-master/dataset-master/labels.csv', sep=',')\n",
    "ground_truth_df = ground_truth_df[['Image', 'Category']]\n",
    "ground_truth_df = ground_truth_df.rename(columns = {'Image':'task','Category':'ground_truth'})\n",
    "\n",
    "prefix = f'{s3_url}/{bucket_name}/task/BloodImage_'\n",
    "ground_truth_df['task'] = ground_truth_df['task'].apply(lambda x: f'{prefix}{str(x).zfill(5)}.jpg')\n",
    "\n",
    "ground_truth_df.set_index('task', inplace=True)\n",
    "print(ground_truth_df)"
   ]
  },
  {
   "cell_type": "code",
   "execution_count": null,
   "metadata": {},
   "outputs": [],
   "source": [
    "real_tasks = []\n",
    "\n",
    "# добавляем голден-таски\n",
    "for cell_type in typecells:\n",
    "    dir_path = f'{test_dir}/{cell_type}/'\n",
    "    test_images_list = os.listdir(dir_path)\n",
    "    for image in test_images_list:\n",
    "        s3.upload_file(f'{dir_path}{image}', bucket_name, f'golden_task/{image}')\n",
    "        real_tasks.append(\n",
    "            toloka.task.Task(\n",
    "                input_values={'image': f'{s3_url}/{bucket_name}/golden_task/{image}'},\n",
    "                known_solutions = [toloka.task.BaseTask.KnownSolution(output_values={'result': cell_type})],\n",
    "                pool_id=blood_pool.id,\n",
    "                infinite_overlap=True,\n",
    "            )\n",
    "        )\n",
    "\n",
    "# Добавляем основные задания, разметку для которых мы хотим получить\n",
    "images_list = os.listdir(f'{data_dir}')\n",
    "count = len(images_list) if tasks_count is None or tasks_count > len(images_list) else tasks_count\n",
    "for image in images_list[:count]:\n",
    "    image_url = f'{s3_url}/{bucket_name}/task/{image}'\n",
    "    if image_url not in ground_truth_df.index or ground_truth_df.loc[image_url, :]['ground_truth'] not in typecells:\n",
    "        break\n",
    "\n",
    "    s3.upload_file(f'{data_dir}{image}', bucket_name, f'task/{image}')\n",
    "    real_tasks.append(\n",
    "        toloka.task.Task(\n",
    "            input_values={'image': image_url},\n",
    "            pool_id=blood_pool.id,\n",
    "        )\n",
    "    )\n",
    "created_tasks = toloka_client.create_tasks(real_tasks, toloka.task.CreateTasksParameters(allow_defaults=True))\n",
    "print(f'{len(created_tasks.items)} tasks added to the pool {blood_pool.id}')"
   ]
  },
  {
   "cell_type": "markdown",
   "id": "divided-repository",
   "metadata": {},
   "source": [
    "### Запускаем разметку\n",
    "Открываем тренировочный, экзаменационный и боевой пул. Ждем выполнения боевого и закрываем все пулы."
   ]
  },
  {
   "cell_type": "code",
   "execution_count": null,
   "id": "american-suicide",
   "metadata": {},
   "outputs": [],
   "source": [
    "def wait_pool_for_close(pool, timeout_minutes=5):\n",
    "    sleep_time = 60*timeout_minutes\n",
    "    pool = toloka_client.get_pool(pool.id)\n",
    "    while not pool.is_closed():\n",
    "        print(\n",
    "            f'{datetime.datetime.now().strftime(\"%H:%M:%S\")} '\n",
    "            f'Pool {pool.id} has status {pool.status}.'\n",
    "        )\n",
    "        time.sleep(sleep_time)\n",
    "        pool = toloka_client.get_pool(pool.id)\n",
    "\n",
    "toloka_client.open_pool(train_pool.id)\n",
    "toloka_client.open_pool(exam_pool.id)\n",
    "toloka_client.open_pool(blood_pool.id)\n",
    "\n",
    "\n",
    "# Wait for the pool\n",
    "print('\\nWaiting for the main pool to close')\n",
    "wait_pool_for_close(blood_pool)\n",
    "print(f'Pool \"{blood_pool.private_name}\" is finally closed!')\n",
    "\n",
    "toloka_client.close_pool(train_pool.id)\n",
    "print(f'Pool \"{train_pool.private_name}\" is closed!')\n",
    "\n",
    "toloka_client.close_pool(exam_pool.id)\n",
    "print(f'Pool \"{exam_pool.private_name}\" is closed!')"
   ]
  },
  {
   "cell_type": "markdown",
   "id": "electronic-strategy",
   "metadata": {},
   "source": [
    "### Получаем результаты"
   ]
  },
  {
   "cell_type": "code",
   "execution_count": null,
   "id": "hundred-vintage",
   "metadata": {},
   "outputs": [],
   "source": [
    "answers_df = toloka_client.get_assignments_df(blood_pool.id)\n",
    "\n",
    "answers_df = answers_df[answers_df['GOLDEN:result'].isnull()].copy()\n",
    "answers_df = answers_df[['INPUT:image','OUTPUT:result','ASSIGNMENT:worker_id']]\n",
    "answers_df = answers_df.rename(columns = {'INPUT:image':'task','OUTPUT:result':'label','ASSIGNMENT:worker_id':'performer'})\n",
    "\n",
    "# Dawid Skene aggregation\n",
    "ds_labels = DawidSkene(n_iter=20).fit_predict(answers_df)\n",
    "result = pandas.concat([result, ds_labels], axis=1).rename(columns = {0:'ds_label'})\n",
    "\n",
    "result = result.drop(result[result.ds_label.isnull()].index)\n",
    "print(result)"
   ]
  }
 ],
 "metadata": {
  "kernelspec": {
   "display_name": "Python 3",
   "language": "python",
   "name": "python3"
  }
 },
 "nbformat": 4,
 "nbformat_minor": 5
}