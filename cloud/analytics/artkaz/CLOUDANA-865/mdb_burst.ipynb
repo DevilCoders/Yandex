{
 "cells": [
  {
   "cell_type": "code",
   "execution_count": 1,
   "metadata": {},
   "outputs": [],
   "source": [
    "from clan_tools.data_adapters.ClickHouseYTAdapter import ClickHouseYTAdapter\n",
    "import pandas as pd\n",
    "import numpy as np\n",
    "import seaborn as sns\n",
    "from io import BytesIO\n",
    "from scipy.optimize import minimize\n",
    "from tokens import token\n",
    "import matplotlib.pyplot as plt\n",
    "import seaborn as sns"
   ]
  },
  {
   "cell_type": "code",
   "execution_count": 2,
   "metadata": {},
   "outputs": [],
   "source": [
    "chyt = ClickHouseYTAdapter(token = token)"
   ]
  },
  {
   "cell_type": "code",
   "execution_count": 3,
   "metadata": {
    "scrolled": true
   },
   "outputs": [
    {
     "data": {
      "text/plain": [
       "b'2020-05-27 16:25:31'"
      ]
     },
     "execution_count": 3,
     "metadata": {},
     "output_type": "execute_result"
    }
   ],
   "source": [
    "chyt.execute_query('SELECT now()')"
   ]
  },
  {
   "cell_type": "code",
   "execution_count": 4,
   "metadata": {},
   "outputs": [
    {
     "data": {
      "application/javascript": [
       "IPython.OutputArea.prototype._should_scroll = function(lines) {\n",
       "    return false;\n",
       "}\n"
      ],
      "text/plain": [
       "<IPython.core.display.Javascript object>"
      ]
     },
     "metadata": {},
     "output_type": "display_data"
    }
   ],
   "source": [
    "%%javascript\n",
    "IPython.OutputArea.prototype._should_scroll = function(lines) {\n",
    "    return false;\n",
    "}"
   ]
  },
  {
   "cell_type": "code",
   "execution_count": 62,
   "metadata": {},
   "outputs": [],
   "source": [
    "query = \"\"\"\n",
    "SELECT \n",
    "    billing_account_id, segment, account_name,\n",
    "    cons_5,\n",
    "    min_date_5,\n",
    "    max_date_5,\n",
    "    cons_5_duration,\n",
    "    cons_5_avg,\n",
    "    cons_20,\n",
    "    min_date_20,\n",
    "    max_date_20,\n",
    "    cons_20_duration,\n",
    "    cons_20_avg,\n",
    "    cons_50,\n",
    "    min_date_50,\n",
    "    max_date_50,\n",
    "    cons_50_duration,\n",
    "    cons_50_avg,\n",
    "    cons_100,\n",
    "    min_date_100,\n",
    "    max_date_100,\n",
    "    cons_100_duration,\n",
    "    cons_100_avg,\n",
    "    mdb_non_cpu_cons,\n",
    "    mdb_tickets,\n",
    "    compute_tickets\n",
    "FROM (\n",
    "SELECT \n",
    "    billing_account_id, segment, account_name,\n",
    "    cons_5,\n",
    "    min_date_5,\n",
    "    max_date_5,\n",
    "    cons_5_duration,\n",
    "    cons_5_avg,\n",
    "    cons_20,\n",
    "    min_date_20,\n",
    "    max_date_20,\n",
    "    cons_20_duration,\n",
    "    cons_20_avg,\n",
    "    cons_50,\n",
    "    min_date_50,\n",
    "    max_date_50,\n",
    "    cons_50_duration,\n",
    "    cons_50_avg,\n",
    "    cons_100,\n",
    "    min_date_100,\n",
    "    max_date_100,\n",
    "    cons_100_duration,\n",
    "    cons_100_avg,\n",
    "    mdb_non_cpu_cons,\n",
    "    coalesce(mdb_tickets,0) as mdb_tickets, \n",
    "    coalesce(compute_tickets,0) as compute_tickets \n",
    "FROM (\n",
    "SELECT DISTINCT\n",
    "    billing_account_id, segment, account_name,\n",
    "    sumIf(real_consumption_vat + trial_consumption_vat, core_fraction_number=5) as cons_5,\n",
    "    minIf(toDate(event_time),core_fraction_number=5) as min_date_5,\n",
    "    maxIf(toDate(event_time),core_fraction_number=5) as max_date_5,\n",
    "    1+dateDiff('day', min_date_5, max_date_5) as cons_5_duration,\n",
    "    cons_5/cons_5_duration*365/12 as cons_5_avg,\n",
    "    sumIf(real_consumption_vat + trial_consumption_vat, core_fraction_number=20) as cons_20,\n",
    "    minIf(toDate(event_time),core_fraction_number=20) as min_date_20,\n",
    "    maxIf(toDate(event_time),core_fraction_number=20) as max_date_20,\n",
    "    1+dateDiff('day', min_date_20, max_date_20) as cons_20_duration,\n",
    "    cons_20/cons_20_duration*365/12 as cons_20_avg,\n",
    "    sumIf(real_consumption_vat + trial_consumption_vat, core_fraction_number=50) as cons_50,\n",
    "    minIf(toDate(event_time),core_fraction_number=50) as min_date_50,\n",
    "    maxIf(toDate(event_time),core_fraction_number=50) as max_date_50,\n",
    "    1+dateDiff('day', min_date_50, max_date_50) as cons_50_duration,\n",
    "    cons_50/cons_50_duration*365/12 as cons_50_avg,\n",
    "    sumIf(real_consumption_vat + trial_consumption_vat, core_fraction_number=100) as cons_100,\n",
    "    minIf(toDate(event_time),core_fraction_number=100) as min_date_100,\n",
    "    maxIf(toDate(event_time),core_fraction_number=100) as max_date_100,\n",
    "    1+dateDiff('day', min_date_100, max_date_100) as cons_100_duration,\n",
    "    cons_100/cons_100_duration*365/12 as cons_100_avg,\n",
    "    \n",
    "    sumIf(real_consumption_vat + trial_consumption_vat, core_fraction = 'inapplicable') as mdb_non_cpu_cons\n",
    "FROM\n",
    "    \"//home/cloud_analytics/cubes/acquisition_cube/cube\"\n",
    "WHERE service_name = 'mdb' and ba_usage_status != 'service' and sku_name not like '%network%' \n",
    "GROUP BY \n",
    "    billing_account_id, segment, account_name\n",
    "--HAVING toStartOfMonth(max_date_5) = '2020-05-01'\n",
    "ORDER BY cons_5 DESC\n",
    ") AS a \n",
    "LEFT JOIN (\n",
    "SELECT\n",
    "    YPathString(customFields, '/billingId') as billing_account_id, \n",
    "    sum(position(toString(components), '5bdad39add17c6001c36cba7')>0) as mdb_tickets,\n",
    "    sum(position(toString(components), '5bdad393dd17c6001c36cb96')>0) as compute_tickets\n",
    "    -- count(key) as tickets_count\n",
    "FROM \"//home/cloud_analytics/import/startrek/support/issues\"\n",
    "GROUP BY \n",
    "billing_account_id\n",
    ") as b \n",
    "USING billing_account_id\n",
    ")\n",
    "\"\"\""
   ]
  },
  {
   "cell_type": "code",
   "execution_count": 63,
   "metadata": {},
   "outputs": [
    {
     "data": {
      "text/html": [
       "<div>\n",
       "<style scoped>\n",
       "    .dataframe tbody tr th:only-of-type {\n",
       "        vertical-align: middle;\n",
       "    }\n",
       "\n",
       "    .dataframe tbody tr th {\n",
       "        vertical-align: top;\n",
       "    }\n",
       "\n",
       "    .dataframe thead th {\n",
       "        text-align: right;\n",
       "    }\n",
       "</style>\n",
       "<table border=\"1\" class=\"dataframe\">\n",
       "  <thead>\n",
       "    <tr style=\"text-align: right;\">\n",
       "      <th></th>\n",
       "      <th>billing_account_id</th>\n",
       "      <th>segment</th>\n",
       "      <th>account_name</th>\n",
       "      <th>cons_5</th>\n",
       "      <th>min_date_5</th>\n",
       "      <th>max_date_5</th>\n",
       "      <th>cons_5_duration</th>\n",
       "      <th>cons_5_avg</th>\n",
       "      <th>cons_20</th>\n",
       "      <th>min_date_20</th>\n",
       "      <th>...</th>\n",
       "      <th>cons_50_duration</th>\n",
       "      <th>cons_50_avg</th>\n",
       "      <th>cons_100</th>\n",
       "      <th>min_date_100</th>\n",
       "      <th>max_date_100</th>\n",
       "      <th>cons_100_duration</th>\n",
       "      <th>cons_100_avg</th>\n",
       "      <th>mdb_non_cpu_cons</th>\n",
       "      <th>mdb_tickets</th>\n",
       "      <th>compute_tickets</th>\n",
       "    </tr>\n",
       "  </thead>\n",
       "  <tbody>\n",
       "    <tr>\n",
       "      <td>0</td>\n",
       "      <td>dn2ehjnqn0t8r7jnk8mr</td>\n",
       "      <td>Mass</td>\n",
       "      <td>острожникова нина владимировна</td>\n",
       "      <td>9334.093927</td>\n",
       "      <td>2019-04-19</td>\n",
       "      <td>2019-12-30</td>\n",
       "      <td>256</td>\n",
       "      <td>1109.031342</td>\n",
       "      <td>4561.097033</td>\n",
       "      <td>2019-06-21</td>\n",
       "      <td>...</td>\n",
       "      <td>1</td>\n",
       "      <td>0.000000</td>\n",
       "      <td>2.566168e+03</td>\n",
       "      <td>2019-04-10</td>\n",
       "      <td>2019-10-18</td>\n",
       "      <td>192</td>\n",
       "      <td>406.532663</td>\n",
       "      <td>662.114927</td>\n",
       "      <td>0</td>\n",
       "      <td>0</td>\n",
       "    </tr>\n",
       "    <tr>\n",
       "      <td>1</td>\n",
       "      <td>dn2i57s0vhbp36he2a38</td>\n",
       "      <td>Enterprise</td>\n",
       "      <td>Декатлон</td>\n",
       "      <td>9101.097037</td>\n",
       "      <td>2019-06-17</td>\n",
       "      <td>2020-05-27</td>\n",
       "      <td>346</td>\n",
       "      <td>800.072355</td>\n",
       "      <td>9868.970603</td>\n",
       "      <td>2019-05-23</td>\n",
       "      <td>...</td>\n",
       "      <td>282</td>\n",
       "      <td>1125.816581</td>\n",
       "      <td>1.016117e+06</td>\n",
       "      <td>2018-09-27</td>\n",
       "      <td>2020-05-27</td>\n",
       "      <td>609</td>\n",
       "      <td>50750.246281</td>\n",
       "      <td>234088.441227</td>\n",
       "      <td>10</td>\n",
       "      <td>13</td>\n",
       "    </tr>\n",
       "    <tr>\n",
       "      <td>2</td>\n",
       "      <td>dn25r5so7kj0dv4jpcon</td>\n",
       "      <td>Medium</td>\n",
       "      <td>Генотек</td>\n",
       "      <td>8717.121330</td>\n",
       "      <td>2019-06-12</td>\n",
       "      <td>2020-05-27</td>\n",
       "      <td>351</td>\n",
       "      <td>755.401065</td>\n",
       "      <td>6041.844655</td>\n",
       "      <td>2019-07-16</td>\n",
       "      <td>...</td>\n",
       "      <td>216</td>\n",
       "      <td>146.949108</td>\n",
       "      <td>2.723559e+05</td>\n",
       "      <td>2019-05-30</td>\n",
       "      <td>2020-05-27</td>\n",
       "      <td>364</td>\n",
       "      <td>22758.681160</td>\n",
       "      <td>140753.926903</td>\n",
       "      <td>9</td>\n",
       "      <td>29</td>\n",
       "    </tr>\n",
       "    <tr>\n",
       "      <td>3</td>\n",
       "      <td>dn288hookdb7ht6sm8aa</td>\n",
       "      <td>Mass</td>\n",
       "      <td>ООО \"Перегуд\"</td>\n",
       "      <td>7710.435713</td>\n",
       "      <td>2019-07-22</td>\n",
       "      <td>2020-03-12</td>\n",
       "      <td>235</td>\n",
       "      <td>997.981927</td>\n",
       "      <td>0.000000</td>\n",
       "      <td>0000-00-00</td>\n",
       "      <td>...</td>\n",
       "      <td>235</td>\n",
       "      <td>0.081236</td>\n",
       "      <td>0.000000e+00</td>\n",
       "      <td>2019-07-22</td>\n",
       "      <td>2019-09-09</td>\n",
       "      <td>50</td>\n",
       "      <td>0.000000</td>\n",
       "      <td>357.996220</td>\n",
       "      <td>0</td>\n",
       "      <td>1</td>\n",
       "    </tr>\n",
       "    <tr>\n",
       "      <td>4</td>\n",
       "      <td>dn212sr35a6dltmmgm5m</td>\n",
       "      <td>Yandex Staff</td>\n",
       "      <td>Василенко Виктор Алекандрович</td>\n",
       "      <td>7344.084589</td>\n",
       "      <td>2019-04-26</td>\n",
       "      <td>2020-04-19</td>\n",
       "      <td>360</td>\n",
       "      <td>620.507147</td>\n",
       "      <td>0.000000</td>\n",
       "      <td>0000-00-00</td>\n",
       "      <td>...</td>\n",
       "      <td>1</td>\n",
       "      <td>0.000000</td>\n",
       "      <td>0.000000e+00</td>\n",
       "      <td>2019-04-26</td>\n",
       "      <td>2019-09-09</td>\n",
       "      <td>137</td>\n",
       "      <td>0.000000</td>\n",
       "      <td>1940.795455</td>\n",
       "      <td>0</td>\n",
       "      <td>0</td>\n",
       "    </tr>\n",
       "  </tbody>\n",
       "</table>\n",
       "<p>5 rows × 26 columns</p>\n",
       "</div>"
      ],
      "text/plain": [
       "     billing_account_id       segment                    account_name  \\\n",
       "0  dn2ehjnqn0t8r7jnk8mr          Mass  острожникова нина владимировна   \n",
       "1  dn2i57s0vhbp36he2a38    Enterprise                        Декатлон   \n",
       "2  dn25r5so7kj0dv4jpcon        Medium                         Генотек   \n",
       "3  dn288hookdb7ht6sm8aa          Mass                   ООО \"Перегуд\"   \n",
       "4  dn212sr35a6dltmmgm5m  Yandex Staff   Василенко Виктор Алекандрович   \n",
       "\n",
       "        cons_5  min_date_5  max_date_5  cons_5_duration   cons_5_avg  \\\n",
       "0  9334.093927  2019-04-19  2019-12-30              256  1109.031342   \n",
       "1  9101.097037  2019-06-17  2020-05-27              346   800.072355   \n",
       "2  8717.121330  2019-06-12  2020-05-27              351   755.401065   \n",
       "3  7710.435713  2019-07-22  2020-03-12              235   997.981927   \n",
       "4  7344.084589  2019-04-26  2020-04-19              360   620.507147   \n",
       "\n",
       "       cons_20 min_date_20  ... cons_50_duration  cons_50_avg      cons_100  \\\n",
       "0  4561.097033  2019-06-21  ...                1     0.000000  2.566168e+03   \n",
       "1  9868.970603  2019-05-23  ...              282  1125.816581  1.016117e+06   \n",
       "2  6041.844655  2019-07-16  ...              216   146.949108  2.723559e+05   \n",
       "3     0.000000  0000-00-00  ...              235     0.081236  0.000000e+00   \n",
       "4     0.000000  0000-00-00  ...                1     0.000000  0.000000e+00   \n",
       "\n",
       "   min_date_100 max_date_100 cons_100_duration  cons_100_avg  \\\n",
       "0    2019-04-10   2019-10-18               192    406.532663   \n",
       "1    2018-09-27   2020-05-27               609  50750.246281   \n",
       "2    2019-05-30   2020-05-27               364  22758.681160   \n",
       "3    2019-07-22   2019-09-09                50      0.000000   \n",
       "4    2019-04-26   2019-09-09               137      0.000000   \n",
       "\n",
       "   mdb_non_cpu_cons  mdb_tickets compute_tickets  \n",
       "0        662.114927            0               0  \n",
       "1     234088.441227           10              13  \n",
       "2     140753.926903            9              29  \n",
       "3        357.996220            0               1  \n",
       "4       1940.795455            0               0  \n",
       "\n",
       "[5 rows x 26 columns]"
      ]
     },
     "execution_count": 63,
     "metadata": {},
     "output_type": "execute_result"
    }
   ],
   "source": [
    "data = chyt.execute_query(query, to_pandas=True)\n",
    "data.head()"
   ]
  },
  {
   "cell_type": "markdown",
   "metadata": {},
   "source": [
    "## Количество пользователей\n",
    "Всего 5% берст-инстансы потребляли 1326 аккаунтов:"
   ]
  },
  {
   "cell_type": "code",
   "execution_count": 64,
   "metadata": {},
   "outputs": [
    {
     "data": {
      "text/plain": [
       "(1326, 26)"
      ]
     },
     "execution_count": 64,
     "metadata": {},
     "output_type": "execute_result"
    }
   ],
   "source": [
    "data[data['cons_5']>0].shape"
   ]
  },
  {
   "cell_type": "markdown",
   "metadata": {},
   "source": [
    "Посмотрим распределение среднего потребления (руб/месяц, cpu only):"
   ]
  },
  {
   "cell_type": "code",
   "execution_count": 66,
   "metadata": {},
   "outputs": [
    {
     "data": {
      "text/plain": [
       "<matplotlib.axes._subplots.AxesSubplot at 0x7f04880f4250>"
      ]
     },
     "execution_count": 66,
     "metadata": {},
     "output_type": "execute_result"
    },
    {
     "data": {
      "image/png": "[encoded data removed]",
      "text/plain": [
       "<Figure size 432x288 with 1 Axes>"
      ]
     },
     "metadata": {
      "needs_background": "light"
     },
     "output_type": "display_data"
    }
   ],
   "source": [
    "data[data['cons_5']>0]['cons_5_avg'].hist(bins=100)"
   ]
  },
  {
   "cell_type": "markdown",
   "metadata": {},
   "source": [
    "В мае - 375:"
   ]
  },
  {
   "cell_type": "code",
   "execution_count": 57,
   "metadata": {},
   "outputs": [
    {
     "data": {
      "text/plain": [
       "(375, 26)"
      ]
     },
     "execution_count": 57,
     "metadata": {},
     "output_type": "execute_result"
    }
   ],
   "source": [
    "data_may20 = data[data['max_date_5'].apply(lambda x: x[:7]) == '2020-05']\n",
    "data_may20.shape"
   ]
  },
  {
   "cell_type": "markdown",
   "metadata": {},
   "source": [
    "Сколько всего пользовались MDB в мае"
   ]
  },
  {
   "cell_type": "code",
   "execution_count": 85,
   "metadata": {},
   "outputs": [
    {
     "data": {
      "text/plain": [
       "(1098, 26)"
      ]
     },
     "execution_count": 85,
     "metadata": {},
     "output_type": "execute_result"
    }
   ],
   "source": [
    "data_may20_ = data[(data['max_date_5'].apply(lambda x: x[:7]) == '2020-05') | \\\n",
    "                  (data['max_date_20'].apply(lambda x: x[:7]) == '2020-05') | \\\n",
    "                  (data['max_date_50'].apply(lambda x: x[:7]) == '2020-05') | \\\n",
    "                  (data['max_date_100'].apply(lambda x: x[:7]) == '2020-05')\n",
    "                  ]\n",
    "data_may20_.shape"
   ]
  },
  {
   "cell_type": "markdown",
   "metadata": {},
   "source": [
    "Распределение текущей аудитории по сегментам"
   ]
  },
  {
   "cell_type": "code",
   "execution_count": 58,
   "metadata": {},
   "outputs": [
    {
     "data": {
      "text/html": [
       "<div>\n",
       "<style scoped>\n",
       "    .dataframe tbody tr th:only-of-type {\n",
       "        vertical-align: middle;\n",
       "    }\n",
       "\n",
       "    .dataframe tbody tr th {\n",
       "        vertical-align: top;\n",
       "    }\n",
       "\n",
       "    .dataframe thead th {\n",
       "        text-align: right;\n",
       "    }\n",
       "</style>\n",
       "<table border=\"1\" class=\"dataframe\">\n",
       "  <thead>\n",
       "    <tr style=\"text-align: right;\">\n",
       "      <th></th>\n",
       "      <th>billing_account_id</th>\n",
       "    </tr>\n",
       "    <tr>\n",
       "      <th>segment</th>\n",
       "      <th></th>\n",
       "    </tr>\n",
       "  </thead>\n",
       "  <tbody>\n",
       "    <tr>\n",
       "      <td>Mass</td>\n",
       "      <td>285</td>\n",
       "    </tr>\n",
       "    <tr>\n",
       "      <td>ISV Program</td>\n",
       "      <td>27</td>\n",
       "    </tr>\n",
       "    <tr>\n",
       "      <td>Yandex Staff</td>\n",
       "      <td>26</td>\n",
       "    </tr>\n",
       "    <tr>\n",
       "      <td>Medium</td>\n",
       "      <td>22</td>\n",
       "    </tr>\n",
       "    <tr>\n",
       "      <td>VAR</td>\n",
       "      <td>9</td>\n",
       "    </tr>\n",
       "    <tr>\n",
       "      <td>Large ISV</td>\n",
       "      <td>4</td>\n",
       "    </tr>\n",
       "    <tr>\n",
       "      <td>Enterprise</td>\n",
       "      <td>2</td>\n",
       "    </tr>\n",
       "  </tbody>\n",
       "</table>\n",
       "</div>"
      ],
      "text/plain": [
       "              billing_account_id\n",
       "segment                         \n",
       "Mass                         285\n",
       "ISV Program                   27\n",
       "Yandex Staff                  26\n",
       "Medium                        22\n",
       "VAR                            9\n",
       "Large ISV                      4\n",
       "Enterprise                     2"
      ]
     },
     "execution_count": 58,
     "metadata": {},
     "output_type": "execute_result"
    }
   ],
   "source": [
    "data_may20.groupby('segment').agg({'billing_account_id': 'count'}).sort_values('billing_account_id', ascending=False)"
   ]
  },
  {
   "cell_type": "markdown",
   "metadata": {},
   "source": [
    "## Конверсия в 20%, 50%, 100%"
   ]
  },
  {
   "cell_type": "markdown",
   "metadata": {},
   "source": [
    "Посмотрим, сколько клиентов, кто начал использовать 20/50/100-процентные кластеры после начала использования 5-процентных:"
   ]
  },
  {
   "cell_type": "code",
   "execution_count": 79,
   "metadata": {},
   "outputs": [
    {
     "name": "stdout",
     "output_type": "stream",
     "text": [
      "20 : 120 from 1326 , 9.05%\n",
      "50 : 79 from 1326 , 5.96%\n",
      "100 : 77 from 1326 , 5.81%\n"
     ]
    }
   ],
   "source": [
    "for cf in ['20','50','100']:\n",
    "    print(cf, \n",
    "          ':',\n",
    "          data[(data['cons_5']>0) & (data['min_date_5'] < data['min_date_' + cf])].shape[0], \n",
    "          'from',\n",
    "          data[(data['cons_5']>0)].shape[0], \n",
    "          ',',\n",
    "           str(round(data[(data['cons_5']>0) & (data['min_date_5'] < data['min_date_' + cf])].shape[0]/data[(data['cons_5']>0)].shape[0]*100,2)) +'%')"
   ]
  },
  {
   "cell_type": "markdown",
   "metadata": {},
   "source": [
    "Более мягкое условие - посмотрим тех, кто вместе с 5-процентными инстансами использовал 20/50/100-процентные"
   ]
  },
  {
   "cell_type": "code",
   "execution_count": 82,
   "metadata": {},
   "outputs": [
    {
     "name": "stdout",
     "output_type": "stream",
     "text": [
      "20 : 224 from 1326 , 16.89%\n",
      "50 : 150 from 1326 , 11.31%\n",
      "100 : 615 from 1326 , 46.38%\n"
     ]
    }
   ],
   "source": [
    "for cf in ['20','50','100']:\n",
    "    print(cf, \n",
    "          ':',\n",
    "          data[(data['cons_5']>0) & (data['cons_' + cf]>0)].shape[0], \n",
    "          'from',\n",
    "          data[(data['cons_5']>0)].shape[0],\n",
    "          ',',\n",
    "           str(round(data[(data['cons_5']>0) & (data['cons_' + cf]>0)].shape[0]/data[(data['cons_5']>0)].shape[0]*100,2)) +'%'\n",
    "         )"
   ]
  },
  {
   "cell_type": "markdown",
   "metadata": {},
   "source": [
    "Почти половина пользователей 5-процентных тачек использует 100-процентные, видимо 5-процентные используются для тестов/разработки"
   ]
  },
  {
   "cell_type": "markdown",
   "metadata": {},
   "source": [
    "Для текущей аудитории картина похожая."
   ]
  },
  {
   "cell_type": "code",
   "execution_count": 67,
   "metadata": {},
   "outputs": [
    {
     "name": "stdout",
     "output_type": "stream",
     "text": [
      "20 : 70 from 375\n",
      "50 : 47 from 375\n",
      "100 : 146 from 375\n"
     ]
    }
   ],
   "source": [
    "for cf in ['20','50','100']:\n",
    "    print(cf, \n",
    "          ':',\n",
    "          data_may20[(data_may20['cons_5']>0) & (data_may20['cons_' + cf]>0)].shape[0], \n",
    "          'from',\n",
    "          data_may20[(data_may20['cons_5']>0)].shape[0])"
   ]
  },
  {
   "cell_type": "markdown",
   "metadata": {},
   "source": [
    "## Количество тикетов в саппорт\n",
    "Выбирались тикеты с компонентами mdb и compute "
   ]
  },
  {
   "cell_type": "markdown",
   "metadata": {},
   "source": [
    "Обшее количество (для тех, кто использовал 5-процентные инстансы):"
   ]
  },
  {
   "cell_type": "code",
   "execution_count": 87,
   "metadata": {},
   "outputs": [
    {
     "data": {
      "text/html": [
       "<div>\n",
       "<style scoped>\n",
       "    .dataframe tbody tr th:only-of-type {\n",
       "        vertical-align: middle;\n",
       "    }\n",
       "\n",
       "    .dataframe tbody tr th {\n",
       "        vertical-align: top;\n",
       "    }\n",
       "\n",
       "    .dataframe thead th {\n",
       "        text-align: right;\n",
       "    }\n",
       "</style>\n",
       "<table border=\"1\" class=\"dataframe\">\n",
       "  <thead>\n",
       "    <tr style=\"text-align: right;\">\n",
       "      <th></th>\n",
       "      <th>segment</th>\n",
       "      <th>mdb_tickets</th>\n",
       "      <th>compute_tickets</th>\n",
       "    </tr>\n",
       "  </thead>\n",
       "  <tbody>\n",
       "    <tr>\n",
       "      <td>3</td>\n",
       "      <td>Mass</td>\n",
       "      <td>147</td>\n",
       "      <td>378</td>\n",
       "    </tr>\n",
       "    <tr>\n",
       "      <td>4</td>\n",
       "      <td>Medium</td>\n",
       "      <td>85</td>\n",
       "      <td>199</td>\n",
       "    </tr>\n",
       "    <tr>\n",
       "      <td>0</td>\n",
       "      <td>Enterprise</td>\n",
       "      <td>32</td>\n",
       "      <td>64</td>\n",
       "    </tr>\n",
       "    <tr>\n",
       "      <td>1</td>\n",
       "      <td>ISV Program</td>\n",
       "      <td>18</td>\n",
       "      <td>44</td>\n",
       "    </tr>\n",
       "    <tr>\n",
       "      <td>6</td>\n",
       "      <td>Yandex Projects</td>\n",
       "      <td>18</td>\n",
       "      <td>25</td>\n",
       "    </tr>\n",
       "    <tr>\n",
       "      <td>2</td>\n",
       "      <td>Large ISV</td>\n",
       "      <td>15</td>\n",
       "      <td>38</td>\n",
       "    </tr>\n",
       "    <tr>\n",
       "      <td>5</td>\n",
       "      <td>VAR</td>\n",
       "      <td>13</td>\n",
       "      <td>21</td>\n",
       "    </tr>\n",
       "    <tr>\n",
       "      <td>7</td>\n",
       "      <td>Yandex Staff</td>\n",
       "      <td>2</td>\n",
       "      <td>6</td>\n",
       "    </tr>\n",
       "  </tbody>\n",
       "</table>\n",
       "</div>"
      ],
      "text/plain": [
       "           segment  mdb_tickets  compute_tickets\n",
       "3             Mass          147              378\n",
       "4           Medium           85              199\n",
       "0       Enterprise           32               64\n",
       "1      ISV Program           18               44\n",
       "6  Yandex Projects           18               25\n",
       "2        Large ISV           15               38\n",
       "5              VAR           13               21\n",
       "7     Yandex Staff            2                6"
      ]
     },
     "execution_count": 87,
     "metadata": {},
     "output_type": "execute_result"
    }
   ],
   "source": [
    "data[(data['cons_5']>0)].groupby(['segment'], \n",
    "             as_index=False).\\\n",
    "    agg({'mdb_tickets': 'sum',\n",
    "         'compute_tickets': 'sum'}).sort_values('mdb_tickets', ascending=False)"
   ]
  },
  {
   "cell_type": "code",
   "execution_count": 88,
   "metadata": {},
   "outputs": [
    {
     "data": {
      "text/plain": [
       "segment            MassMediumEnterpriseISV ProgramYandex Projects...\n",
       "mdb_tickets                                                      330\n",
       "compute_tickets                                                  775\n",
       "dtype: object"
      ]
     },
     "execution_count": 88,
     "metadata": {},
     "output_type": "execute_result"
    }
   ],
   "source": [
    "data[(data['cons_5']>0)].groupby(['segment'], \n",
    "             as_index=False).\\\n",
    "    agg({'mdb_tickets': 'sum',\n",
    "         'compute_tickets': 'sum'}).sort_values('mdb_tickets', ascending=False).sum()"
   ]
  },
  {
   "cell_type": "markdown",
   "metadata": {},
   "source": [
    "И среднее на БА:"
   ]
  },
  {
   "cell_type": "code",
   "execution_count": 72,
   "metadata": {},
   "outputs": [
    {
     "data": {
      "text/html": [
       "<div>\n",
       "<style scoped>\n",
       "    .dataframe tbody tr th:only-of-type {\n",
       "        vertical-align: middle;\n",
       "    }\n",
       "\n",
       "    .dataframe tbody tr th {\n",
       "        vertical-align: top;\n",
       "    }\n",
       "\n",
       "    .dataframe thead th {\n",
       "        text-align: right;\n",
       "    }\n",
       "</style>\n",
       "<table border=\"1\" class=\"dataframe\">\n",
       "  <thead>\n",
       "    <tr style=\"text-align: right;\">\n",
       "      <th></th>\n",
       "      <th>mdb_tickets</th>\n",
       "      <th>compute_tickets</th>\n",
       "    </tr>\n",
       "    <tr>\n",
       "      <th>segment</th>\n",
       "      <th></th>\n",
       "      <th></th>\n",
       "    </tr>\n",
       "  </thead>\n",
       "  <tbody>\n",
       "    <tr>\n",
       "      <td>Yandex Projects</td>\n",
       "      <td>3.600000</td>\n",
       "      <td>5.000000</td>\n",
       "    </tr>\n",
       "    <tr>\n",
       "      <td>Enterprise</td>\n",
       "      <td>2.666667</td>\n",
       "      <td>5.333333</td>\n",
       "    </tr>\n",
       "    <tr>\n",
       "      <td>Medium</td>\n",
       "      <td>1.808511</td>\n",
       "      <td>4.234043</td>\n",
       "    </tr>\n",
       "    <tr>\n",
       "      <td>Large ISV</td>\n",
       "      <td>1.363636</td>\n",
       "      <td>3.454545</td>\n",
       "    </tr>\n",
       "    <tr>\n",
       "      <td>VAR</td>\n",
       "      <td>0.619048</td>\n",
       "      <td>1.000000</td>\n",
       "    </tr>\n",
       "    <tr>\n",
       "      <td>ISV Program</td>\n",
       "      <td>0.327273</td>\n",
       "      <td>0.800000</td>\n",
       "    </tr>\n",
       "    <tr>\n",
       "      <td>Mass</td>\n",
       "      <td>0.131957</td>\n",
       "      <td>0.339318</td>\n",
       "    </tr>\n",
       "    <tr>\n",
       "      <td>Yandex Staff</td>\n",
       "      <td>0.032787</td>\n",
       "      <td>0.098361</td>\n",
       "    </tr>\n",
       "  </tbody>\n",
       "</table>\n",
       "</div>"
      ],
      "text/plain": [
       "                 mdb_tickets  compute_tickets\n",
       "segment                                      \n",
       "Yandex Projects     3.600000         5.000000\n",
       "Enterprise          2.666667         5.333333\n",
       "Medium              1.808511         4.234043\n",
       "Large ISV           1.363636         3.454545\n",
       "VAR                 0.619048         1.000000\n",
       "ISV Program         0.327273         0.800000\n",
       "Mass                0.131957         0.339318\n",
       "Yandex Staff        0.032787         0.098361"
      ]
     },
     "execution_count": 72,
     "metadata": {},
     "output_type": "execute_result"
    }
   ],
   "source": [
    "data[(data['cons_5']>0)].groupby(['segment', \n",
    "              'billing_account_id'], \n",
    "             as_index=False).\\\n",
    "    agg({'mdb_tickets': 'sum',\n",
    "        'compute_tickets': 'sum'}).\\\n",
    "    groupby('segment').agg({'mdb_tickets': 'mean',\n",
    "                            'compute_tickets': 'mean'}).\\\n",
    "    sort_values('mdb_tickets', ascending=False)"
   ]
  },
  {
   "cell_type": "code",
   "execution_count": 73,
   "metadata": {},
   "outputs": [
    {
     "data": {
      "text/html": [
       "<div>\n",
       "<style scoped>\n",
       "    .dataframe tbody tr th:only-of-type {\n",
       "        vertical-align: middle;\n",
       "    }\n",
       "\n",
       "    .dataframe tbody tr th {\n",
       "        vertical-align: top;\n",
       "    }\n",
       "\n",
       "    .dataframe thead th {\n",
       "        text-align: right;\n",
       "    }\n",
       "</style>\n",
       "<table border=\"1\" class=\"dataframe\">\n",
       "  <thead>\n",
       "    <tr style=\"text-align: right;\">\n",
       "      <th></th>\n",
       "      <th>segment</th>\n",
       "      <th>mdb_tickets</th>\n",
       "      <th>compute_tickets</th>\n",
       "    </tr>\n",
       "  </thead>\n",
       "  <tbody>\n",
       "    <tr>\n",
       "      <td>3</td>\n",
       "      <td>Mass</td>\n",
       "      <td>231</td>\n",
       "      <td>609</td>\n",
       "    </tr>\n",
       "    <tr>\n",
       "      <td>4</td>\n",
       "      <td>Medium</td>\n",
       "      <td>92</td>\n",
       "      <td>155</td>\n",
       "    </tr>\n",
       "    <tr>\n",
       "      <td>2</td>\n",
       "      <td>Large ISV</td>\n",
       "      <td>28</td>\n",
       "      <td>73</td>\n",
       "    </tr>\n",
       "    <tr>\n",
       "      <td>0</td>\n",
       "      <td>Enterprise</td>\n",
       "      <td>26</td>\n",
       "      <td>151</td>\n",
       "    </tr>\n",
       "    <tr>\n",
       "      <td>1</td>\n",
       "      <td>ISV Program</td>\n",
       "      <td>18</td>\n",
       "      <td>81</td>\n",
       "    </tr>\n",
       "    <tr>\n",
       "      <td>5</td>\n",
       "      <td>VAR</td>\n",
       "      <td>9</td>\n",
       "      <td>70</td>\n",
       "    </tr>\n",
       "    <tr>\n",
       "      <td>7</td>\n",
       "      <td>Yandex Staff</td>\n",
       "      <td>2</td>\n",
       "      <td>5</td>\n",
       "    </tr>\n",
       "    <tr>\n",
       "      <td>6</td>\n",
       "      <td>Yandex Projects</td>\n",
       "      <td>1</td>\n",
       "      <td>3</td>\n",
       "    </tr>\n",
       "  </tbody>\n",
       "</table>\n",
       "</div>"
      ],
      "text/plain": [
       "           segment  mdb_tickets  compute_tickets\n",
       "3             Mass          231              609\n",
       "4           Medium           92              155\n",
       "2        Large ISV           28               73\n",
       "0       Enterprise           26              151\n",
       "1      ISV Program           18               81\n",
       "5              VAR            9               70\n",
       "7     Yandex Staff            2                5\n",
       "6  Yandex Projects            1                3"
      ]
     },
     "execution_count": 73,
     "metadata": {},
     "output_type": "execute_result"
    }
   ],
   "source": [
    "data[(data['cons_5']==0)].groupby(['segment'], \n",
    "             as_index=False).\\\n",
    "    agg({'mdb_tickets': 'sum',\n",
    "         'compute_tickets': 'sum'}).sort_values('mdb_tickets', ascending=False)"
   ]
  },
  {
   "cell_type": "code",
   "execution_count": 89,
   "metadata": {},
   "outputs": [
    {
     "data": {
      "text/plain": [
       "segment            MassMediumLarge ISVEnterpriseISV ProgramVARYan...\n",
       "mdb_tickets                                                      407\n",
       "compute_tickets                                                 1147\n",
       "dtype: object"
      ]
     },
     "execution_count": 89,
     "metadata": {},
     "output_type": "execute_result"
    }
   ],
   "source": [
    "data[(data['cons_5']==0)].groupby(['segment'], \n",
    "             as_index=False).\\\n",
    "    agg({'mdb_tickets': 'sum',\n",
    "         'compute_tickets': 'sum'}).sort_values('mdb_tickets', ascending=False).sum()"
   ]
  },
  {
   "cell_type": "code",
   "execution_count": 74,
   "metadata": {},
   "outputs": [
    {
     "data": {
      "text/html": [
       "<div>\n",
       "<style scoped>\n",
       "    .dataframe tbody tr th:only-of-type {\n",
       "        vertical-align: middle;\n",
       "    }\n",
       "\n",
       "    .dataframe tbody tr th {\n",
       "        vertical-align: top;\n",
       "    }\n",
       "\n",
       "    .dataframe thead th {\n",
       "        text-align: right;\n",
       "    }\n",
       "</style>\n",
       "<table border=\"1\" class=\"dataframe\">\n",
       "  <thead>\n",
       "    <tr style=\"text-align: right;\">\n",
       "      <th></th>\n",
       "      <th>mdb_tickets</th>\n",
       "      <th>compute_tickets</th>\n",
       "    </tr>\n",
       "    <tr>\n",
       "      <th>segment</th>\n",
       "      <th></th>\n",
       "      <th></th>\n",
       "    </tr>\n",
       "  </thead>\n",
       "  <tbody>\n",
       "    <tr>\n",
       "      <td>Large ISV</td>\n",
       "      <td>0.965517</td>\n",
       "      <td>2.517241</td>\n",
       "    </tr>\n",
       "    <tr>\n",
       "      <td>Medium</td>\n",
       "      <td>0.893204</td>\n",
       "      <td>1.504854</td>\n",
       "    </tr>\n",
       "    <tr>\n",
       "      <td>Enterprise</td>\n",
       "      <td>0.490566</td>\n",
       "      <td>2.849057</td>\n",
       "    </tr>\n",
       "    <tr>\n",
       "      <td>Yandex Projects</td>\n",
       "      <td>0.333333</td>\n",
       "      <td>1.000000</td>\n",
       "    </tr>\n",
       "    <tr>\n",
       "      <td>VAR</td>\n",
       "      <td>0.209302</td>\n",
       "      <td>1.627907</td>\n",
       "    </tr>\n",
       "    <tr>\n",
       "      <td>ISV Program</td>\n",
       "      <td>0.180000</td>\n",
       "      <td>0.810000</td>\n",
       "    </tr>\n",
       "    <tr>\n",
       "      <td>Mass</td>\n",
       "      <td>0.087434</td>\n",
       "      <td>0.230507</td>\n",
       "    </tr>\n",
       "    <tr>\n",
       "      <td>Yandex Staff</td>\n",
       "      <td>0.042553</td>\n",
       "      <td>0.106383</td>\n",
       "    </tr>\n",
       "  </tbody>\n",
       "</table>\n",
       "</div>"
      ],
      "text/plain": [
       "                 mdb_tickets  compute_tickets\n",
       "segment                                      \n",
       "Large ISV           0.965517         2.517241\n",
       "Medium              0.893204         1.504854\n",
       "Enterprise          0.490566         2.849057\n",
       "Yandex Projects     0.333333         1.000000\n",
       "VAR                 0.209302         1.627907\n",
       "ISV Program         0.180000         0.810000\n",
       "Mass                0.087434         0.230507\n",
       "Yandex Staff        0.042553         0.106383"
      ]
     },
     "execution_count": 74,
     "metadata": {},
     "output_type": "execute_result"
    }
   ],
   "source": [
    "data[(data['cons_5']==0)].groupby(['segment', \n",
    "              'billing_account_id'], \n",
    "             as_index=False).\\\n",
    "    agg({'mdb_tickets': 'sum',\n",
    "        'compute_tickets': 'sum'}).\\\n",
    "    groupby('segment').agg({'mdb_tickets': 'mean',\n",
    "                            'compute_tickets': 'mean'}).\\\n",
    "    sort_values('mdb_tickets', ascending=False)"
   ]
  },
  {
   "cell_type": "markdown",
   "metadata": {},
   "source": [
    "По масс сегменту среднее кол-во тикетов на БА отличается несильно: 13% у тех кто использует 5-процентные кластеры против 8% у тех кто не использовал"
   ]
  },
  {
   "cell_type": "code",
   "execution_count": null,
   "metadata": {},
   "outputs": [],
   "source": []
  }
 ],
 "metadata": {
  "kernelspec": {
   "display_name": "Python 3.7.4 64-bit ('base': conda)",
   "language": "python",
   "name": "python37464bitbaseconda2758acafd6984242bf04c944c38257c3"
  },
  "language_info": {
   "codemirror_mode": {
    "name": "ipython",
    "version": 3
   },
   "file_extension": ".py",
   "mimetype": "text/x-python",
   "name": "python",
   "nbconvert_exporter": "python",
   "pygments_lexer": "ipython3",
   "version": "3.7.4"
  }
 },
 "nbformat": 4,
 "nbformat_minor": 2
}
