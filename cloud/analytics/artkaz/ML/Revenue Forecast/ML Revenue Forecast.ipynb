{
 "cells": [
  {
   "cell_type": "code",
   "execution_count": 29,
   "metadata": {},
   "outputs": [],
   "source": [
    "import sys\n",
    "path = '/home/artkaz/arc/arcadia/cloud/analytics/python/lib/clan_tools/src'\n",
    "if not (path in sys.path):\n",
    "    sys.path.append(path)\n",
    "from clan_tools.data.holidays_in_russia import holidays_in_russia_df\n",
    "from ch_connection import ch_password"
   ]
  },
  {
   "cell_type": "code",
   "execution_count": 30,
   "metadata": {},
   "outputs": [],
   "source": [
    "holidays = holidays_in_russia_df[holidays_in_russia_df['holiday'] == 1].rename({'date':'ds'}, axis=1)"
   ]
  },
  {
   "cell_type": "code",
   "execution_count": 31,
   "metadata": {},
   "outputs": [],
   "source": [
    "holidays['holiday'] = 'holiday'"
   ]
  },
  {
   "cell_type": "code",
   "execution_count": 32,
   "metadata": {},
   "outputs": [
    {
     "data": {
      "text/html": [
       "<div>\n",
       "<style scoped>\n",
       "    .dataframe tbody tr th:only-of-type {\n",
       "        vertical-align: middle;\n",
       "    }\n",
       "\n",
       "    .dataframe tbody tr th {\n",
       "        vertical-align: top;\n",
       "    }\n",
       "\n",
       "    .dataframe thead th {\n",
       "        text-align: right;\n",
       "    }\n",
       "</style>\n",
       "<table border=\"1\" class=\"dataframe\">\n",
       "  <thead>\n",
       "    <tr style=\"text-align: right;\">\n",
       "      <th></th>\n",
       "      <th>ds</th>\n",
       "      <th>holiday</th>\n",
       "    </tr>\n",
       "  </thead>\n",
       "  <tbody>\n",
       "    <tr>\n",
       "      <td>0</td>\n",
       "      <td>1999-01-01</td>\n",
       "      <td>holiday</td>\n",
       "    </tr>\n",
       "    <tr>\n",
       "      <td>1</td>\n",
       "      <td>1999-01-02</td>\n",
       "      <td>holiday</td>\n",
       "    </tr>\n",
       "    <tr>\n",
       "      <td>2</td>\n",
       "      <td>1999-01-03</td>\n",
       "      <td>holiday</td>\n",
       "    </tr>\n",
       "    <tr>\n",
       "      <td>3</td>\n",
       "      <td>1999-01-04</td>\n",
       "      <td>holiday</td>\n",
       "    </tr>\n",
       "    <tr>\n",
       "      <td>5</td>\n",
       "      <td>1999-01-06</td>\n",
       "      <td>holiday</td>\n",
       "    </tr>\n",
       "    <tr>\n",
       "      <td>...</td>\n",
       "      <td>...</td>\n",
       "      <td>...</td>\n",
       "    </tr>\n",
       "    <tr>\n",
       "      <td>9850</td>\n",
       "      <td>2025-12-20</td>\n",
       "      <td>holiday</td>\n",
       "    </tr>\n",
       "    <tr>\n",
       "      <td>9851</td>\n",
       "      <td>2025-12-21</td>\n",
       "      <td>holiday</td>\n",
       "    </tr>\n",
       "    <tr>\n",
       "      <td>9857</td>\n",
       "      <td>2025-12-27</td>\n",
       "      <td>holiday</td>\n",
       "    </tr>\n",
       "    <tr>\n",
       "      <td>9858</td>\n",
       "      <td>2025-12-28</td>\n",
       "      <td>holiday</td>\n",
       "    </tr>\n",
       "    <tr>\n",
       "      <td>9861</td>\n",
       "      <td>2025-12-31</td>\n",
       "      <td>holiday</td>\n",
       "    </tr>\n",
       "  </tbody>\n",
       "</table>\n",
       "<p>3278 rows × 2 columns</p>\n",
       "</div>"
      ],
      "text/plain": [
       "              ds  holiday\n",
       "0     1999-01-01  holiday\n",
       "1     1999-01-02  holiday\n",
       "2     1999-01-03  holiday\n",
       "3     1999-01-04  holiday\n",
       "5     1999-01-06  holiday\n",
       "...          ...      ...\n",
       "9850  2025-12-20  holiday\n",
       "9851  2025-12-21  holiday\n",
       "9857  2025-12-27  holiday\n",
       "9858  2025-12-28  holiday\n",
       "9861  2025-12-31  holiday\n",
       "\n",
       "[3278 rows x 2 columns]"
      ]
     },
     "execution_count": 32,
     "metadata": {},
     "output_type": "execute_result"
    }
   ],
   "source": [
    "holidays"
   ]
  },
  {
   "cell_type": "code",
   "execution_count": 33,
   "metadata": {},
   "outputs": [
    {
     "data": {
      "text/plain": [
       "'ZJ5-fk?wsu5eopMq'"
      ]
     },
     "execution_count": 33,
     "metadata": {},
     "output_type": "execute_result"
    }
   ],
   "source": [
    "ch_password"
   ]
  },
  {
   "cell_type": "code",
   "execution_count": 34,
   "metadata": {},
   "outputs": [
    {
     "name": "stderr",
     "output_type": "stream",
     "text": [
      "INFO:clan_tools.utils.timing:func: execute_query took: 0.038 sec, 0.011 sec CPU time.\n"
     ]
    },
    {
     "name": "stdout",
     "output_type": "stream",
     "text": [
      "                   now\n",
      "0  2020-08-13 11:54:56\n"
     ]
    }
   ],
   "source": [
    "import pandas as pd\n",
    "from fbprophet import Prophet\n",
    "from io import StringIO\n",
    "from scipy import stats\n",
    "import numpy as np\n",
    "import yt.wrapper\n",
    "\n",
    "\n",
    "from clan_tools.data_adapters.ClickHouseAdapter import ClickHouseAdapter\n",
    "\n",
    "from tqdm import tqdm\n",
    "\n",
    "ch = ClickHouseAdapter( user= 'artkaz',\n",
    "                        password = ch_password\n",
    ")\n",
    "\n",
    "print(ch.execute_query('SELECT now() as now',to_pandas=True))"
   ]
  },
  {
   "cell_type": "code",
   "execution_count": 35,
   "metadata": {},
   "outputs": [],
   "source": [
    "q = \"\"\"\n",
    "SELECT\n",
    "    toDate(event_time) as ds,\n",
    "    subservice_name as subservice,\n",
    "    sum(real_consumption_vat) as y\n",
    "FROM\n",
    "   cloud_analytics.acquisition_cube\n",
    "WHERE 1=1\n",
    "    AND ds >= '2019-10-01'\n",
    "    AND ds < '2020-08-31'\n",
    "    AND service_name = 'cloud_ai'\n",
    "    AND subservice_name in ('speech', 'mt', 'vision')\n",
    "GROUP BY ds, subservice_name\n",
    "ORDER BY ds, subservice_name\n",
    "\"\"\""
   ]
  },
  {
   "cell_type": "code",
   "execution_count": 36,
   "metadata": {},
   "outputs": [
    {
     "name": "stderr",
     "output_type": "stream",
     "text": [
      "INFO:clan_tools.utils.timing:func: execute_query took: 0.368 sec, 0.013 sec CPU time.\n"
     ]
    }
   ],
   "source": [
    "data = ch.execute_query(q, to_pandas=True)\n",
    "subservices = data['subservice'].drop_duplicates()"
   ]
  },
  {
   "cell_type": "code",
   "execution_count": 37,
   "metadata": {},
   "outputs": [
    {
     "data": {
      "text/html": [
       "<div>\n",
       "<style scoped>\n",
       "    .dataframe tbody tr th:only-of-type {\n",
       "        vertical-align: middle;\n",
       "    }\n",
       "\n",
       "    .dataframe tbody tr th {\n",
       "        vertical-align: top;\n",
       "    }\n",
       "\n",
       "    .dataframe thead th {\n",
       "        text-align: right;\n",
       "    }\n",
       "</style>\n",
       "<table border=\"1\" class=\"dataframe\">\n",
       "  <thead>\n",
       "    <tr style=\"text-align: right;\">\n",
       "      <th></th>\n",
       "      <th>ds</th>\n",
       "      <th>subservice</th>\n",
       "      <th>y</th>\n",
       "    </tr>\n",
       "  </thead>\n",
       "  <tbody>\n",
       "    <tr>\n",
       "      <td>0</td>\n",
       "      <td>2019-10-01</td>\n",
       "      <td>mt</td>\n",
       "      <td>1.628362e+06</td>\n",
       "    </tr>\n",
       "    <tr>\n",
       "      <td>1</td>\n",
       "      <td>2019-10-01</td>\n",
       "      <td>speech</td>\n",
       "      <td>3.117068e+05</td>\n",
       "    </tr>\n",
       "    <tr>\n",
       "      <td>2</td>\n",
       "      <td>2019-10-01</td>\n",
       "      <td>vision</td>\n",
       "      <td>4.040530e+02</td>\n",
       "    </tr>\n",
       "    <tr>\n",
       "      <td>3</td>\n",
       "      <td>2019-10-02</td>\n",
       "      <td>mt</td>\n",
       "      <td>1.274216e+04</td>\n",
       "    </tr>\n",
       "    <tr>\n",
       "      <td>4</td>\n",
       "      <td>2019-10-02</td>\n",
       "      <td>speech</td>\n",
       "      <td>3.019615e+05</td>\n",
       "    </tr>\n",
       "    <tr>\n",
       "      <td>...</td>\n",
       "      <td>...</td>\n",
       "      <td>...</td>\n",
       "      <td>...</td>\n",
       "    </tr>\n",
       "    <tr>\n",
       "      <td>949</td>\n",
       "      <td>2020-08-12</td>\n",
       "      <td>speech</td>\n",
       "      <td>2.582454e+05</td>\n",
       "    </tr>\n",
       "    <tr>\n",
       "      <td>950</td>\n",
       "      <td>2020-08-12</td>\n",
       "      <td>vision</td>\n",
       "      <td>1.299275e+03</td>\n",
       "    </tr>\n",
       "    <tr>\n",
       "      <td>951</td>\n",
       "      <td>2020-08-13</td>\n",
       "      <td>mt</td>\n",
       "      <td>3.546682e+04</td>\n",
       "    </tr>\n",
       "    <tr>\n",
       "      <td>952</td>\n",
       "      <td>2020-08-13</td>\n",
       "      <td>speech</td>\n",
       "      <td>3.994309e+04</td>\n",
       "    </tr>\n",
       "    <tr>\n",
       "      <td>953</td>\n",
       "      <td>2020-08-13</td>\n",
       "      <td>vision</td>\n",
       "      <td>3.117000e+02</td>\n",
       "    </tr>\n",
       "  </tbody>\n",
       "</table>\n",
       "<p>954 rows × 3 columns</p>\n",
       "</div>"
      ],
      "text/plain": [
       "             ds subservice             y\n",
       "0    2019-10-01         mt  1.628362e+06\n",
       "1    2019-10-01     speech  3.117068e+05\n",
       "2    2019-10-01     vision  4.040530e+02\n",
       "3    2019-10-02         mt  1.274216e+04\n",
       "4    2019-10-02     speech  3.019615e+05\n",
       "..          ...        ...           ...\n",
       "949  2020-08-12     speech  2.582454e+05\n",
       "950  2020-08-12     vision  1.299275e+03\n",
       "951  2020-08-13         mt  3.546682e+04\n",
       "952  2020-08-13     speech  3.994309e+04\n",
       "953  2020-08-13     vision  3.117000e+02\n",
       "\n",
       "[954 rows x 3 columns]"
      ]
     },
     "execution_count": 37,
     "metadata": {},
     "output_type": "execute_result"
    }
   ],
   "source": [
    "data"
   ]
  },
  {
   "cell_type": "code",
   "execution_count": 38,
   "metadata": {},
   "outputs": [
    {
     "data": {
      "text/plain": [
       "0        mt\n",
       "1    speech\n",
       "2    vision\n",
       "Name: subservice, dtype: object"
      ]
     },
     "execution_count": 38,
     "metadata": {},
     "output_type": "execute_result"
    }
   ],
   "source": [
    "subservices"
   ]
  },
  {
   "cell_type": "code",
   "execution_count": 39,
   "metadata": {},
   "outputs": [
    {
     "name": "stdout",
     "output_type": "stream",
     "text": [
      "2020-08-13\n"
     ]
    },
    {
     "name": "stderr",
     "output_type": "stream",
     "text": [
      "INFO:fbprophet:Disabling yearly seasonality. Run prophet with yearly_seasonality=True to override this.\n",
      "INFO:fbprophet:Disabling daily seasonality. Run prophet with daily_seasonality=True to override this.\n"
     ]
    },
    {
     "data": {
      "text/html": [
       "<div>\n",
       "<style scoped>\n",
       "    .dataframe tbody tr th:only-of-type {\n",
       "        vertical-align: middle;\n",
       "    }\n",
       "\n",
       "    .dataframe tbody tr th {\n",
       "        vertical-align: top;\n",
       "    }\n",
       "\n",
       "    .dataframe thead th {\n",
       "        text-align: right;\n",
       "    }\n",
       "</style>\n",
       "<table border=\"1\" class=\"dataframe\">\n",
       "  <thead>\n",
       "    <tr style=\"text-align: right;\">\n",
       "      <th></th>\n",
       "      <th>ds</th>\n",
       "      <th>service</th>\n",
       "      <th>variable</th>\n",
       "      <th>value</th>\n",
       "    </tr>\n",
       "  </thead>\n",
       "  <tbody>\n",
       "    <tr>\n",
       "      <td>0</td>\n",
       "      <td>2020-08-14</td>\n",
       "      <td>mt</td>\n",
       "      <td>y</td>\n",
       "      <td>NaN</td>\n",
       "    </tr>\n",
       "    <tr>\n",
       "      <td>1</td>\n",
       "      <td>2020-08-15</td>\n",
       "      <td>mt</td>\n",
       "      <td>y</td>\n",
       "      <td>NaN</td>\n",
       "    </tr>\n",
       "    <tr>\n",
       "      <td>2</td>\n",
       "      <td>2020-08-16</td>\n",
       "      <td>mt</td>\n",
       "      <td>y</td>\n",
       "      <td>NaN</td>\n",
       "    </tr>\n",
       "    <tr>\n",
       "      <td>3</td>\n",
       "      <td>2020-08-17</td>\n",
       "      <td>mt</td>\n",
       "      <td>y</td>\n",
       "      <td>NaN</td>\n",
       "    </tr>\n",
       "    <tr>\n",
       "      <td>4</td>\n",
       "      <td>2020-08-18</td>\n",
       "      <td>mt</td>\n",
       "      <td>y</td>\n",
       "      <td>NaN</td>\n",
       "    </tr>\n",
       "    <tr>\n",
       "      <td>...</td>\n",
       "      <td>...</td>\n",
       "      <td>...</td>\n",
       "      <td>...</td>\n",
       "      <td>...</td>\n",
       "    </tr>\n",
       "    <tr>\n",
       "      <td>1445</td>\n",
       "      <td>2021-07-30</td>\n",
       "      <td>mt</td>\n",
       "      <td>yhat_upper</td>\n",
       "      <td>112337.668021</td>\n",
       "    </tr>\n",
       "    <tr>\n",
       "      <td>1446</td>\n",
       "      <td>2021-07-31</td>\n",
       "      <td>mt</td>\n",
       "      <td>yhat_upper</td>\n",
       "      <td>90134.632822</td>\n",
       "    </tr>\n",
       "    <tr>\n",
       "      <td>1447</td>\n",
       "      <td>2021-08-01</td>\n",
       "      <td>mt</td>\n",
       "      <td>yhat_upper</td>\n",
       "      <td>88036.298049</td>\n",
       "    </tr>\n",
       "    <tr>\n",
       "      <td>1448</td>\n",
       "      <td>2021-08-02</td>\n",
       "      <td>mt</td>\n",
       "      <td>yhat_upper</td>\n",
       "      <td>98694.058047</td>\n",
       "    </tr>\n",
       "    <tr>\n",
       "      <td>1449</td>\n",
       "      <td>2021-08-03</td>\n",
       "      <td>mt</td>\n",
       "      <td>yhat_upper</td>\n",
       "      <td>89255.908469</td>\n",
       "    </tr>\n",
       "  </tbody>\n",
       "</table>\n",
       "<p>1450 rows × 4 columns</p>\n",
       "</div>"
      ],
      "text/plain": [
       "              ds service    variable          value\n",
       "0     2020-08-14      mt           y            NaN\n",
       "1     2020-08-15      mt           y            NaN\n",
       "2     2020-08-16      mt           y            NaN\n",
       "3     2020-08-17      mt           y            NaN\n",
       "4     2020-08-18      mt           y            NaN\n",
       "...          ...     ...         ...            ...\n",
       "1445  2021-07-30      mt  yhat_upper  112337.668021\n",
       "1446  2021-07-31      mt  yhat_upper   90134.632822\n",
       "1447  2021-08-01      mt  yhat_upper   88036.298049\n",
       "1448  2021-08-02      mt  yhat_upper   98694.058047\n",
       "1449  2021-08-03      mt  yhat_upper   89255.908469\n",
       "\n",
       "[1450 rows x 4 columns]"
      ]
     },
     "execution_count": 39,
     "metadata": {},
     "output_type": "execute_result"
    }
   ],
   "source": [
    "def get_forecast(data_, days=365, service='unknown'):\n",
    "    data = data_.copy()\n",
    "    data.loc[:,'y'] = data.loc[:,'y'].apply(lambda x: x if x<1500000 else np.nan)\n",
    "    print (data.ds.max())\n",
    "    m = Prophet(holidays=holidays)\n",
    "    m.fit(data)\n",
    "    future = m.make_future_dataframe(periods = days)\n",
    "    result = m.predict(future)[['ds', 'yhat', 'yhat_lower', 'yhat_upper']]\n",
    "#     print(result.iloc[200:250,:])\n",
    "    result.loc[:,'ds'] = result.loc[:,'ds'].apply(lambda t: str(t)[:10])\n",
    "    result['service'] = service\n",
    "    result = result.loc[result['ds'] > data['ds'].max(),:]\n",
    "#     print (result)\n",
    "#     print (pd.merge(data, result, on='ds', how='right'))\n",
    "    return pd.melt(pd.merge(data, result, on='ds', how='right'), id_vars = ['ds', 'service'], value_vars = ['y', 'yhat', 'yhat_lower', 'yhat_upper'])\n",
    "\n",
    "get_forecast (data.loc[(data['subservice'] == 'mt'),['ds', 'y']], 365, 'mt').head(-10)"
   ]
  },
  {
   "cell_type": "code",
   "execution_count": 40,
   "metadata": {},
   "outputs": [
    {
     "name": "stderr",
     "output_type": "stream",
     "text": [
      "  0%|          | 0/3 [00:00<?, ?it/s]INFO:fbprophet:Disabling yearly seasonality. Run prophet with yearly_seasonality=True to override this.\n",
      "INFO:fbprophet:Disabling daily seasonality. Run prophet with daily_seasonality=True to override this.\n"
     ]
    },
    {
     "name": "stdout",
     "output_type": "stream",
     "text": [
      "speech\n",
      "2020-08-13\n"
     ]
    },
    {
     "name": "stderr",
     "output_type": "stream",
     "text": [
      "INFO:fbprophet:Disabling yearly seasonality. Run prophet with yearly_seasonality=True to override this.\n",
      "INFO:fbprophet:Disabling daily seasonality. Run prophet with daily_seasonality=True to override this.\n"
     ]
    },
    {
     "name": "stdout",
     "output_type": "stream",
     "text": [
      "2020-07-14\n"
     ]
    },
    {
     "name": "stderr",
     "output_type": "stream",
     "text": [
      " 33%|███▎      | 1/3 [00:19<00:39, 19.89s/it]INFO:fbprophet:Disabling yearly seasonality. Run prophet with yearly_seasonality=True to override this.\n",
      "INFO:fbprophet:Disabling daily seasonality. Run prophet with daily_seasonality=True to override this.\n"
     ]
    },
    {
     "name": "stdout",
     "output_type": "stream",
     "text": [
      "mt\n",
      "2020-08-13\n"
     ]
    },
    {
     "name": "stderr",
     "output_type": "stream",
     "text": [
      "INFO:fbprophet:Disabling yearly seasonality. Run prophet with yearly_seasonality=True to override this.\n",
      "INFO:fbprophet:Disabling daily seasonality. Run prophet with daily_seasonality=True to override this.\n"
     ]
    },
    {
     "name": "stdout",
     "output_type": "stream",
     "text": [
      "2020-07-14\n"
     ]
    },
    {
     "name": "stderr",
     "output_type": "stream",
     "text": [
      " 67%|██████▋   | 2/3 [00:39<00:19, 19.89s/it]INFO:fbprophet:Disabling yearly seasonality. Run prophet with yearly_seasonality=True to override this.\n",
      "INFO:fbprophet:Disabling daily seasonality. Run prophet with daily_seasonality=True to override this.\n"
     ]
    },
    {
     "name": "stdout",
     "output_type": "stream",
     "text": [
      "vision\n",
      "2020-08-13\n"
     ]
    },
    {
     "name": "stderr",
     "output_type": "stream",
     "text": [
      "INFO:fbprophet:Disabling yearly seasonality. Run prophet with yearly_seasonality=True to override this.\n",
      "INFO:fbprophet:Disabling daily seasonality. Run prophet with daily_seasonality=True to override this.\n"
     ]
    },
    {
     "name": "stdout",
     "output_type": "stream",
     "text": [
      "2020-07-14\n"
     ]
    },
    {
     "name": "stderr",
     "output_type": "stream",
     "text": [
      "100%|██████████| 3/3 [01:00<00:00, 20.04s/it]\n"
     ]
    }
   ],
   "source": [
    "result = []\n",
    "for subservice in tqdm(['speech','mt','vision']):\n",
    "    print (subservice)\n",
    "    result.append(get_forecast(data.loc[(data['subservice'] == subservice),['ds', 'y']], service = subservice + '_actual'))\n",
    "\n",
    "    result.append(get_forecast(data.loc[(data['subservice'] == subservice),['ds', 'y']].iloc[:-30,:], service = subservice + '_test'))\n",
    "\n",
    "    data_actual = data.loc[(data['subservice'] == subservice),['ds', 'y']].iloc[-30:,:]\n",
    "    data_actual['service'] = subservice + '_test'\n",
    "    data_actual['variable'] = 'y'\n",
    "    data_actual.rename({'y':'value'}, axis=1, inplace=True)\n",
    "\n",
    "    result.append(data_actual)\n",
    "\n",
    "df_res = result[0]\n",
    "\n",
    "for df_ in result[1:]:\n",
    "    df_res = df_res.append(df_)"
   ]
  },
  {
   "cell_type": "code",
   "execution_count": 41,
   "metadata": {},
   "outputs": [],
   "source": [
    "create_table_statement = \"\"\"\n",
    "\n",
    "CREATE TABLE cloud_analytics.ml_revenue_forecast(\n",
    "  ds Date,\n",
    "  service String,\n",
    "  variable String,\n",
    "  value Float64\n",
    ") ENGINE = MergeTree() ORDER BY(ds, service, variable)\n",
    "\n",
    "\"\"\""
   ]
  },
  {
   "cell_type": "code",
   "execution_count": 42,
   "metadata": {},
   "outputs": [
    {
     "name": "stderr",
     "output_type": "stream",
     "text": [
      "INFO:clan_tools.utils.timing:func: execute_query took: 0.055 sec, 0.123 sec CPU time.\n",
      "INFO:clan_tools.utils.timing:func: execute_query took: 0.099 sec, 0.007 sec CPU time.\n",
      "INFO:clan_tools.utils.timing:func: execute_query took: 0.049 sec, 0.008 sec CPU time.\n",
      "/home/artkaz/anaconda3/lib/python3.7/site-packages/yt/common.py:58: YtDeprecationWarning: create_table is deprecated and will be removed in the next major release, use \"create\" with \"table\" type instead\n",
      "  warnings.warn(message, YtDeprecationWarning)\n"
     ]
    },
    {
     "name": "stdout",
     "output_type": "stream",
     "text": [
      "table already exists: //home/cloud_analytics/ml_metrics/ml_revenue_forecast/ml_revenue_forecast\n",
      "SUCCESS\n"
     ]
    }
   ],
   "source": [
    "def write_df_to_table(df, table, overwrite=True):\n",
    "    s = StringIO()\n",
    "    df.to_csv(s, index=False)\n",
    "    df_csv = s.getvalue()[s.getvalue().find('\\n') + 1:]\n",
    "    df_cols = s.getvalue()[:s.getvalue().find('\\n')]\n",
    "    df_insert_query = 'INSERT INTO ' +\\\n",
    "                        table +\\\n",
    "                         ' (' +\\\n",
    "                         df_cols +\\\n",
    "                         ') FORMAT CSV ' +\\\n",
    "                         df_csv\n",
    "    if overwrite:\n",
    "        try:\n",
    "            ch.execute_query('DROP TABLE ' + table)\n",
    "        except:\n",
    "            pass\n",
    "        ch.execute_query(create_table_statement)\n",
    "\n",
    "    ch.execute_query(df_insert_query)\n",
    "\n",
    "write_df_to_table(df_res[:], 'cloud_analytics.ml_revenue_forecast')\n",
    "\n",
    "\n",
    "yt.wrapper.config.set_proxy(\"hahn\")\n",
    "\n",
    "schema = [\n",
    "            {'name': 'ds', 'type': 'string'},\n",
    "            {'name': 'service', 'type': 'string'},\n",
    "            {'name': 'variable', 'type': 'string'},\n",
    "            {'name': 'value', 'type': 'double'}\n",
    "        ]\n",
    "t = '//home/cloud_analytics/ml_metrics/ml_revenue_forecast/ml_revenue_forecast'\n",
    "try:\n",
    "    yt.wrapper.create_table(t, attributes={\"schema\" : schema})\n",
    "except:\n",
    "    print('table already exists:', t)\n",
    "\n",
    "\n",
    "yt.wrapper.write_table(t, df_res.to_dict(orient='records'))\n",
    "\n",
    "print ('SUCCESS')\n"
   ]
  },
  {
   "cell_type": "code",
   "execution_count": null,
   "metadata": {},
   "outputs": [],
   "source": []
  },
  {
   "cell_type": "code",
   "execution_count": null,
   "metadata": {},
   "outputs": [],
   "source": []
  }
 ],
 "metadata": {
  "kernelspec": {
   "display_name": "Python 3.7.4 64-bit ('base': conda)",
   "language": "python",
   "name": "python37464bitbaseconda2758acafd6984242bf04c944c38257c3"
  },
  "language_info": {
   "codemirror_mode": {
    "name": "ipython",
    "version": 3
   },
   "file_extension": ".py",
   "mimetype": "text/x-python",
   "name": "python",
   "nbconvert_exporter": "python",
   "pygments_lexer": "ipython3",
   "version": "3.7.4"
  }
 },
 "nbformat": 4,
 "nbformat_minor": 2
}
