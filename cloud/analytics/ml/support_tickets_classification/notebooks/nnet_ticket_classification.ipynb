{
 "cells": [
  {
   "cell_type": "code",
   "execution_count": 82,
   "id": "9ef073fc",
   "metadata": {
    "ExecuteTime": {
     "end_time": "2021-09-08T12:37:57.549024Z",
     "start_time": "2021-09-08T12:37:57.538366Z"
    }
   },
   "outputs": [],
   "source": [
    "import subprocess\n",
    "import re\n",
    "import numpy as np\n",
    "import pandas as pd\n",
    "import tensorflow as tf\n",
    "pd.set_option('display.max_colwidth', 100)\n",
    "from datetime import datetime, timedelta\n",
    "from tqdm import tqdm\n",
    "\n",
    "import os\n",
    "import string\n",
    "os.environ[\"JAVA_HOME\"] = \"/usr/local/jdk-11\"\n",
    "# os.environ[\"ARROW_PRE_0_15_IPC_FORMAT\"] = \"0\"\n",
    "\n",
    "import matplotlib.pyplot as plt\n",
    "import seaborn as sns\n",
    "\n",
    "from sklearn.neighbors import KNeighborsClassifier\n",
    "from sklearn.cluster import DBSCAN\n",
    "from sklearn.preprocessing import MinMaxScaler, StandardScaler, MultiLabelBinarizer\n",
    "from sklearn.model_selection import train_test_split\n",
    "\n",
    "\n",
    "from keras.preprocessing.text import Tokenizer\n",
    "from keras.preprocessing.sequence import pad_sequences\n",
    "from keras.models import Sequential\n",
    "from keras.layers import Dense, Embedding, GlobalMaxPool1D\n",
    "from keras.optimizers import adam_v2\n",
    "\n",
    "\n",
    "import spyt\n",
    "import pyspark.sql.functions as F\n",
    "import pyspark.sql.types as T\n",
    "from pyspark.sql.functions import col, lit, broadcast\n",
    "from pyspark.sql.types import IntegerType, StringType\n",
    "from pyspark.sql.functions import udf, pandas_udf, PandasUDFType\n",
    "from clan_tools.data_adapters.YTAdapter import YTAdapter \n",
    "import pyspark.sql.dataframe as spd\n",
    "import warnings\n",
    "warnings.filterwarnings('ignore')"
   ]
  },
  {
   "cell_type": "code",
   "execution_count": 83,
   "id": "be0daa24",
   "metadata": {
    "ExecuteTime": {
     "end_time": "2021-09-08T12:37:58.487616Z",
     "start_time": "2021-09-08T12:37:57.821773Z"
    }
   },
   "outputs": [
    {
     "name": "stderr",
     "output_type": "stream",
     "text": [
      "2021-09-08 15:37:58,190 - WARNING - spyt.conf - Your SPYT library has version 1.16.0 which is older than your cluster version 3.0.1-1.13.2+yandex. Some new features may not work as expected. Please update your cluster with spark-launch-yt utility\n",
      "2021-09-08 15:37:58,345 - WARNING - spyt.client - SparkSession already exists and will be reused. Some configurations may not be applied. You can use spyt.stop(spark) method to close previous session\n",
      "2021-09-08 15:37:58,427 - INFO - spyt.client - SPYT Cluster version: 3.0.1-1.13.2+yandex\n",
      "2021-09-08 15:37:58,429 - INFO - spyt.client - SPYT library version: 1.16.0\n",
      "2021-09-08 15:37:58,484 - INFO - spyt.client - SHS link: http://sas6-1099-node-hahn.sas.yp-c.yandex.net:27001/history/app-20210908150642-0008/jobs/\n"
     ]
    }
   ],
   "source": [
    "spark = spyt.connect(spark_conf_args ={\n",
    "      \"spark.executor.memory\": \"6G\",\n",
    "      \"spark.executor.cores\": 2,\n",
    "      \"spark.sql.session.timeZone\": \"UTC\",\n",
    "      \"spark.dynamicAllocation.maxExecutors\": 6,\n",
    "      \"spark.dynamicAllocation.enabled\":True,\n",
    "      \"spark.sql.autoBroadcastJoinThreshold\":-1,\n",
    "      \"spark.cores.min\":16,\n",
    "      \"spark.driver.memory\": \"4G\",\n",
    "      \"spark.executor.instances\":6,\n",
    "      \"spark.jars\":'yt:///home/sashbel/graphframes-assembly-0.8.2-SNAPSHOT-spark3.0.jar',\n",
    "})\n",
    "# spyt.info(spark)\n",
    "# Enable Arrow-based columnar data \n",
    "spark.conf.set(\"spark.sql.execution.arrow.pyspark.enabled\", \"true\")"
   ]
  },
  {
   "cell_type": "code",
   "execution_count": 84,
   "id": "5292d29c",
   "metadata": {
    "ExecuteTime": {
     "end_time": "2021-09-08T12:37:58.493396Z",
     "start_time": "2021-09-08T12:37:58.490327Z"
    }
   },
   "outputs": [],
   "source": [
    "# f = open(\"stop_words.txt\", \"r\")\n",
    "# stop_words = f.read().split(\"\\n\")"
   ]
  },
  {
   "cell_type": "code",
   "execution_count": 150,
   "id": "c54af4d0",
   "metadata": {
    "ExecuteTime": {
     "end_time": "2021-09-08T12:51:19.604985Z",
     "start_time": "2021-09-08T12:51:19.083145Z"
    }
   },
   "outputs": [
    {
     "name": "stderr",
     "output_type": "stream",
     "text": [
      "2021-09-08 15:51:19,539 - INFO - pymorphy2.opencorpora_dict.wrapper - Loading dictionaries from /usr/local/lib/python3.7/dist-packages/pymorphy2_dicts_ru/data\n",
      "2021-09-08 15:51:19,595 - INFO - pymorphy2.opencorpora_dict.wrapper - format: 2.4, revision: 417127, updated: 2020-10-11T15:05:51.070345\n"
     ]
    }
   ],
   "source": [
    "import pymorphy2\n",
    "import re\n",
    "import pyspark.sql.functions as F\n",
    "import pyspark.sql.types as T\n",
    "\n",
    "ma = pymorphy2.MorphAnalyzer()\n",
    "\n",
    "\n",
    "def num_digits(s):\n",
    "    return sum(c.isdigit() for c in s)\n",
    "\n",
    "def light_clean_text(text, words_count=100):\n",
    "    text = text.replace(\"\\\\\", \" \")\n",
    "    text = text.lower()\n",
    "    text = re.sub('\\-\\s\\r\\n\\s{1,}|\\-\\s\\r\\n|\\r\\n', ' ', text)\n",
    "    text = re.sub(\n",
    "        '[.,:;_%©?*,!@#$%^&(){{}}]|[+=]|[«»]|[<>]|[\\']|[[]|[]]|[/]|\"|\\s{2,}|-', ' ', text)\n",
    "    return text\n",
    "\n",
    "def clean_text(text, words_count=100):\n",
    "    text = text.replace(\"\\\\\", \" \")\n",
    "#     for word in stop_words:\n",
    "#         text = text.replace(word, \"\")\n",
    "    text = text.lower()\n",
    "    text = re.sub('\\-\\s\\r\\n\\s{1,}|\\-\\s\\r\\n|\\r\\n', ' ', text)\n",
    "    text = re.sub(\n",
    "        '[.,:;_%©?*,!@#$%^&(){{}}]|[+=]|[«»]|[<>]|[\\']|[[]|[]]|[/]|\"|\\s{2,}|-', ' ', text)\n",
    "    text = ' '.join(word for word in text.split() if len(word) > 2)\n",
    "    text = ' '.join(word for word in text.split() if not word.isnumeric())\n",
    "    text = ' '.join(word for word in text.split() if num_digits(word)<=2)\n",
    "    text = \" \".join(ma.parse(word)[0].normal_form for word in text.split())\n",
    "    words = text.split()[:words_count]\n",
    "    text = ' '.join(words)\n",
    "    return text\n",
    "    \n",
    "\n",
    "clean_text_udf = F.udf(clean_text, returnType=T.StringType())\n",
    "\n",
    "\n",
    "\n",
    "def seq_subarray(phrase, keyword):\n",
    "    if (phrase is None) or (keyword is None):\n",
    "        return False\n",
    "    words = phrase.split()\n",
    "    keywords = keyword.split()\n",
    "    if (len(words) == 0) or (len(keywords)==0):\n",
    "        return False\n",
    "    for i in range(len(words) - len(keywords) + 1):\n",
    "        res = None\n",
    "        for j in range(len(keywords)):\n",
    "            matched_words = (words[i+j] == keywords[j])\n",
    "            if res is None:\n",
    "                res = matched_words\n",
    "            else:\n",
    "                res = res and matched_words\n",
    "        if res:\n",
    "            return True\n",
    "    return False\n",
    "\n",
    "seq_subarray_udf = F.udf(seq_subarray, returnType=T.BooleanType())"
   ]
  },
  {
   "cell_type": "code",
   "execution_count": 86,
   "id": "799c97b1",
   "metadata": {
    "ExecuteTime": {
     "end_time": "2021-09-08T12:37:58.699895Z",
     "start_time": "2021-09-08T12:37:58.685614Z"
    }
   },
   "outputs": [],
   "source": [
    " def Accuracy(y_true, y_pred):\n",
    "    temp = 0\n",
    "    for i in range(y_true.shape[0]):\n",
    "        temp += sum(np.logical_and(y_true[i], y_pred[i])) / sum(np.logical_or(y_true[i], y_pred[i]))\n",
    "    return temp / y_true.shape[0]\n",
    "    \n",
    "def Hamming_Loss(y_true, y_pred):\n",
    "    temp=0\n",
    "    for i in range(y_true.shape[0]):\n",
    "        temp += np.size(y_true[i] == y_pred[i]) - np.count_nonzero(y_true[i] == y_pred[i])\n",
    "    return temp/(y_true.shape[0] * y_true.shape[1])\n",
    "\n",
    "def Precision(y_true, y_pred):\n",
    "    temp = 0\n",
    "    for i in range(y_true.shape[0]):\n",
    "        if sum(y_true[i]) == 0:\n",
    "            continue\n",
    "        temp+= sum(np.logical_and(y_true[i], y_pred[i]))/ sum(y_true[i])\n",
    "    return temp/ y_true.shape[0]\n",
    "\n",
    "def Recall(y_true, y_pred):\n",
    "    temp = 0\n",
    "    for i in range(y_true.shape[0]):\n",
    "        if sum(y_pred[i]) == 0:\n",
    "            continue\n",
    "        temp+= sum(np.logical_and(y_true[i], y_pred[i]))/ sum(y_pred[i])\n",
    "    return temp/ y_true.shape[0]\n",
    "\n",
    "def F1Measure(y_true, y_pred):\n",
    "    temp = 0\n",
    "    for i in range(y_true.shape[0]):\n",
    "        if (sum(y_true[i]) == 0) and (sum(y_pred[i]) == 0):\n",
    "            continue\n",
    "        temp+= (2*sum(np.logical_and(y_true[i], y_pred[i])))/ (sum(y_true[i])+sum(y_pred[i]))\n",
    "    return temp/ y_true.shape[0]"
   ]
  },
  {
   "cell_type": "code",
   "execution_count": 87,
   "id": "611f4fea",
   "metadata": {
    "ExecuteTime": {
     "end_time": "2021-09-08T12:37:59.096014Z",
     "start_time": "2021-09-08T12:37:59.090529Z"
    }
   },
   "outputs": [],
   "source": [
    "def show_metrics(y_true, y_pred):\n",
    "    print(f\"Exact Match Ratio: {np.all(y_pred == y_true, axis=1).mean()}\")\n",
    "    print(f\"Accuracy: {Accuracy(y_true, y_pred)}\")\n",
    "    print(f\"Hamming_Loss: {Hamming_Loss(y_true, y_pred)}\")\n",
    "    print(f\"Precision: {Precision(y_true, y_pred)}\")\n",
    "    print(f\"Recall: {Recall(y_true, y_pred)}\")\n",
    "    print(f\"F1Measure: {F1Measure(y_true, y_pred)}\")"
   ]
  },
  {
   "cell_type": "markdown",
   "id": "c2179f51",
   "metadata": {},
   "source": [
    "## Data collecting"
   ]
  },
  {
   "cell_type": "code",
   "execution_count": 88,
   "id": "364af6ff",
   "metadata": {
    "ExecuteTime": {
     "end_time": "2021-09-08T12:37:59.605407Z",
     "start_time": "2021-09-08T12:37:59.600370Z"
    }
   },
   "outputs": [],
   "source": [
    "support_issues_path=\"//home/startrek/tables/prod/yandex-team/queue/CLOUDSUPPORT/issues\"\n",
    "tickets_prod_path=\"//home/cloud/billing/exported-support-tables/tickets_prod\"\n",
    "components_path=\"//home/startrek/tables/prod/yandex-team/queue/CLOUDSUPPORT/components\"\n",
    "result_path=\"//home/cloud_analytics/ml/support_tickets_classification_v2/clean_tickets2\"\n",
    "key_words_from_anton = \"//home/cloud_analytics/ml/support_tickets_classification/tag_keywords\""
   ]
  },
  {
   "cell_type": "code",
   "execution_count": 89,
   "id": "93fa58fd",
   "metadata": {
    "ExecuteTime": {
     "end_time": "2021-09-08T12:38:01.108765Z",
     "start_time": "2021-09-08T12:37:59.833095Z"
    }
   },
   "outputs": [],
   "source": [
    "issues = (\n",
    "    spark.read\n",
    "    .schema_hint({'components': T.ArrayType(T.StringType())})\n",
    "    .yt(support_issues_path)\n",
    "    .select('key', F.explode('components').alias('components'))\n",
    ")\n",
    "\n",
    "tickets_prod = (\n",
    "    spark.read\n",
    "    .yt(tickets_prod_path)\n",
    "    .select('description', 'summary', 'st_key', 'iam_user_id', 'created_at')\n",
    ")\n",
    "\n",
    "components = (\n",
    "    spark.read.yt(components_path)\n",
    "    .select('id',\n",
    "            col('name').alias('component_name'),\n",
    "            col('shortId').alias('component_short_id'))\n",
    ")\n",
    "\n",
    "tickets_flat = (\n",
    "    tickets_prod\n",
    "    .join(issues, on=tickets_prod.st_key == issues.key)\n",
    "    .join(components, on=issues.components == components.id)\n",
    ")\n",
    "\n",
    "tickets_with_components = (\n",
    "    tickets_flat\n",
    "    .groupBy('key', 'created_at')\n",
    "    .agg(\n",
    "        F.first('iam_user_id').alias('iam_user_id'),\n",
    "        F.first('summary').alias('summary'),\n",
    "        F.first('description').alias('description'),\n",
    "        F.collect_set('component_name').alias('component_names')\n",
    "    )\n",
    "    .withColumn('sum_description', F.concat(col('summary'), lit('. '), col('description')))\n",
    ")"
   ]
  },
  {
   "cell_type": "code",
   "execution_count": 90,
   "id": "09308486",
   "metadata": {
    "ExecuteTime": {
     "end_time": "2021-09-08T12:38:01.750937Z",
     "start_time": "2021-09-08T12:38:01.111503Z"
    }
   },
   "outputs": [],
   "source": [
    "cleaned_tickets = (\n",
    "    tickets_with_components\n",
    "    .filter(~F.isnull('created_at'))\n",
    "    .withColumn('clean_text', clean_text_udf(col('sum_description').cast('string')))\n",
    "    .withColumn('clean_summary', clean_text_udf(col('summary').cast('string')))\n",
    "    .withColumn('creation_date', F.from_unixtime(col(\"created_at\").cast(T.LongType())))\n",
    "    .filter(col('creation_date') < datetime.strptime(\"01-07-2021\", \"%d-%m-%Y\"))\n",
    "    .filter(col('creation_date') > datetime.strptime(\"01-01-2020\", \"%d-%m-%Y\"))\n",
    "    .select('key', 'iam_user_id', 'creation_date', 'summary', 'description', 'clean_text', 'clean_summary', 'component_names')\n",
    "    .orderBy('creation_date', ascending=False)\n",
    "    .cache()\n",
    "#     .limit(20000)\n",
    ")"
   ]
  },
  {
   "cell_type": "code",
   "execution_count": 91,
   "id": "c13bec85",
   "metadata": {
    "ExecuteTime": {
     "end_time": "2021-09-08T12:38:01.756825Z",
     "start_time": "2021-09-08T12:38:01.753346Z"
    }
   },
   "outputs": [],
   "source": [
    "# cleaned_tickets.write.yt(result_path, mode='overwrite')"
   ]
  },
  {
   "cell_type": "markdown",
   "id": "90bf9ccf",
   "metadata": {},
   "source": [
    "## Preprocessing"
   ]
  },
  {
   "cell_type": "code",
   "execution_count": 282,
   "id": "f6ddfd7d",
   "metadata": {
    "ExecuteTime": {
     "end_time": "2021-09-08T13:26:33.331682Z",
     "start_time": "2021-09-08T13:26:33.327011Z"
    }
   },
   "outputs": [],
   "source": [
    "def is_english(text):\n",
    "    a = list(map(lambda x: x in (string.ascii_lowercase + string.ascii_uppercase), text))\n",
    "    return sum(a)/len(a) >= 0.5"
   ]
  },
  {
   "cell_type": "code",
   "execution_count": 283,
   "id": "1f2b74cc",
   "metadata": {
    "ExecuteTime": {
     "end_time": "2021-09-08T13:26:35.132617Z",
     "start_time": "2021-09-08T13:26:33.539028Z"
    }
   },
   "outputs": [],
   "source": [
    "data = cleaned_tickets.toPandas()"
   ]
  },
  {
   "cell_type": "code",
   "execution_count": 284,
   "id": "87d42b59",
   "metadata": {
    "ExecuteTime": {
     "end_time": "2021-09-08T13:26:35.214409Z",
     "start_time": "2021-09-08T13:26:35.135609Z"
    }
   },
   "outputs": [],
   "source": [
    "data.clean_text = data.clean_text.apply(str)\n",
    "data['text'] = data['summary'] + ' ' + data['description']\n",
    "# data = data[~data['text'].apply(is_english)]"
   ]
  },
  {
   "cell_type": "code",
   "execution_count": 285,
   "id": "40114629",
   "metadata": {
    "ExecuteTime": {
     "end_time": "2021-09-08T13:26:35.220535Z",
     "start_time": "2021-09-08T13:26:35.216538Z"
    }
   },
   "outputs": [],
   "source": [
    "maxlen=100"
   ]
  },
  {
   "cell_type": "code",
   "execution_count": 286,
   "id": "2cca29ba",
   "metadata": {
    "ExecuteTime": {
     "end_time": "2021-09-08T13:26:40.609167Z",
     "start_time": "2021-09-08T13:26:35.223572Z"
    }
   },
   "outputs": [],
   "source": [
    "tokenizer = Tokenizer(num_words=5000, lower=True)\n",
    "tokenizer.fit_on_texts(data['clean_text'])\n",
    "sequences = tokenizer.texts_to_sequences(data['clean_text'])\n",
    "X = pad_sequences(sequences, maxlen=maxlen)"
   ]
  },
  {
   "cell_type": "code",
   "execution_count": 287,
   "id": "e4d067cc",
   "metadata": {
    "ExecuteTime": {
     "end_time": "2021-09-08T13:26:42.002302Z",
     "start_time": "2021-09-08T13:26:40.611362Z"
    }
   },
   "outputs": [],
   "source": [
    "# components = spark.read.yt(key_words_from_anton).select('tag').cache().toPandas().values\n",
    "# components = dict(zip(components.ravel(), range(len(components))))\n",
    "components = {}\n",
    "count = 0\n",
    "new_comp_names = []\n",
    "for i in range(len(data)):\n",
    "    for x in data.component_names.iloc[i]:\n",
    "        if x not in components:\n",
    "            components[x] = count\n",
    "            count += 1    "
   ]
  },
  {
   "cell_type": "code",
   "execution_count": 288,
   "id": "bbee9ec9",
   "metadata": {
    "ExecuteTime": {
     "end_time": "2021-09-08T13:26:42.008936Z",
     "start_time": "2021-09-08T13:26:42.004480Z"
    }
   },
   "outputs": [],
   "source": [
    "def encode_components(component_list):\n",
    "    res = np.array([components[x] if x in components else np.nan for x in component_list])\n",
    "    res = res[~np.isnan(res)]\n",
    "    return res"
   ]
  },
  {
   "cell_type": "code",
   "execution_count": 289,
   "id": "0ee49f57",
   "metadata": {
    "ExecuteTime": {
     "end_time": "2021-09-08T13:26:42.608791Z",
     "start_time": "2021-09-08T13:26:42.010757Z"
    }
   },
   "outputs": [],
   "source": [
    "data['labels'] = data['component_names'].apply(lambda a: encode_components(a))"
   ]
  },
  {
   "cell_type": "code",
   "execution_count": 290,
   "id": "e9a613a2",
   "metadata": {
    "ExecuteTime": {
     "end_time": "2021-09-08T13:26:42.780584Z",
     "start_time": "2021-09-08T13:26:42.611061Z"
    }
   },
   "outputs": [],
   "source": [
    "mlb = MultiLabelBinarizer()\n",
    "temp = list(data['labels'])\n",
    "temp.append(list(components.values()))\n",
    "y = mlb.fit_transform(temp)[:-1, :]"
   ]
  },
  {
   "cell_type": "code",
   "execution_count": 291,
   "id": "34b77f89",
   "metadata": {
    "ExecuteTime": {
     "end_time": "2021-09-08T13:26:42.898896Z",
     "start_time": "2021-09-08T13:26:42.784587Z"
    }
   },
   "outputs": [],
   "source": [
    "data_train, data_val, x_train, x_val, y_train, y_val = train_test_split(data['text'], X, y, test_size=0.1, random_state=42)\n",
    "data_train, data_test, x_train, x_test, y_train, y_test = train_test_split(data_train, x_train, y_train, test_size=0.1, random_state=42) # , random_state=42"
   ]
  },
  {
   "cell_type": "markdown",
   "id": "bdb460fc",
   "metadata": {},
   "source": [
    "## Training"
   ]
  },
  {
   "cell_type": "code",
   "execution_count": 292,
   "id": "92a80ae0",
   "metadata": {
    "ExecuteTime": {
     "end_time": "2021-09-08T13:26:42.946139Z",
     "start_time": "2021-09-08T13:26:42.901280Z"
    }
   },
   "outputs": [],
   "source": [
    "model = Sequential()\n",
    "model.add(Embedding(5000, 64, input_length=maxlen))\n",
    "model.add(GlobalMaxPool1D())\n",
    "model.add(Dense(y.shape[1], activation='sigmoid'))\n",
    "model.compile(optimizer=adam_v2.Adam(0.015), loss='binary_crossentropy', metrics=[tf.keras.metrics.AUC()])"
   ]
  },
  {
   "cell_type": "code",
   "execution_count": 293,
   "id": "bd96719f",
   "metadata": {
    "ExecuteTime": {
     "end_time": "2021-09-08T13:27:19.414525Z",
     "start_time": "2021-09-08T13:26:42.948194Z"
    }
   },
   "outputs": [
    {
     "name": "stdout",
     "output_type": "stream",
     "text": [
      "Epoch 1/10\n",
      "314/314 [==============================] - 5s 12ms/step - loss: 0.1269 - auc_16: 0.6890 - val_loss: 0.0391 - val_auc_16: 0.8829\n",
      "Epoch 2/10\n",
      "314/314 [==============================] - 4s 11ms/step - loss: 0.0369 - auc_16: 0.8986 - val_loss: 0.0338 - val_auc_16: 0.9237\n",
      "Epoch 3/10\n",
      "314/314 [==============================] - 3s 11ms/step - loss: 0.0321 - auc_16: 0.9291 - val_loss: 0.0319 - val_auc_16: 0.9392\n",
      "Epoch 4/10\n",
      "314/314 [==============================] - 3s 11ms/step - loss: 0.0298 - auc_16: 0.9420 - val_loss: 0.0310 - val_auc_16: 0.9478\n",
      "Epoch 5/10\n",
      "314/314 [==============================] - 4s 11ms/step - loss: 0.0280 - auc_16: 0.9496 - val_loss: 0.0308 - val_auc_16: 0.9532\n",
      "Epoch 6/10\n",
      "314/314 [==============================] - 3s 11ms/step - loss: 0.0271 - auc_16: 0.9544 - val_loss: 0.0305 - val_auc_16: 0.9570\n",
      "Epoch 7/10\n",
      "314/314 [==============================] - 3s 11ms/step - loss: 0.0266 - auc_16: 0.9578 - val_loss: 0.0306 - val_auc_16: 0.9598\n",
      "Epoch 8/10\n",
      "314/314 [==============================] - 4s 11ms/step - loss: 0.0256 - auc_16: 0.9605 - val_loss: 0.0308 - val_auc_16: 0.9620\n",
      "Epoch 9/10\n",
      "314/314 [==============================] - 4s 11ms/step - loss: 0.0252 - auc_16: 0.9625 - val_loss: 0.0309 - val_auc_16: 0.9637\n",
      "Epoch 10/10\n",
      "314/314 [==============================] - 3s 11ms/step - loss: 0.0249 - auc_16: 0.9641 - val_loss: 0.0310 - val_auc_16: 0.9652\n"
     ]
    }
   ],
   "source": [
    "history = model.fit(\n",
    "    x_train,\n",
    "    y_train,\n",
    "    batch_size=128,\n",
    "    epochs=10,\n",
    "    validation_data=(x_val, y_val),\n",
    ")"
   ]
  },
  {
   "cell_type": "code",
   "execution_count": 294,
   "id": "9246f086",
   "metadata": {
    "ExecuteTime": {
     "end_time": "2021-09-08T13:27:19.742210Z",
     "start_time": "2021-09-08T13:27:19.417032Z"
    }
   },
   "outputs": [],
   "source": [
    "y_pred = model.predict(x_val)"
   ]
  },
  {
   "cell_type": "code",
   "execution_count": 295,
   "id": "de581583",
   "metadata": {
    "ExecuteTime": {
     "end_time": "2021-09-08T13:27:33.061796Z",
     "start_time": "2021-09-08T13:27:19.745102Z"
    }
   },
   "outputs": [
    {
     "name": "stderr",
     "output_type": "stream",
     "text": [
      " 30%|███       | 6/20 [00:13<00:31,  2.22s/it]\n"
     ]
    },
    {
     "data": {
      "text/plain": [
       "0.30000000000000004"
      ]
     },
     "execution_count": 295,
     "metadata": {},
     "output_type": "execute_result"
    }
   ],
   "source": [
    "for threshold in tqdm(np.arange(0, 1, 0.05)):\n",
    "    if Precision(y_val, y_pred > threshold) < 0.7:\n",
    "        break\n",
    "threshold"
   ]
  },
  {
   "cell_type": "code",
   "execution_count": 296,
   "id": "d9b55671",
   "metadata": {
    "ExecuteTime": {
     "end_time": "2021-09-08T13:27:33.529810Z",
     "start_time": "2021-09-08T13:27:33.064449Z"
    }
   },
   "outputs": [],
   "source": [
    "y_pred = model.predict(x_val) > threshold\n",
    "scores = model.predict(x_val)"
   ]
  },
  {
   "cell_type": "code",
   "execution_count": 297,
   "id": "1bac6c2a",
   "metadata": {
    "ExecuteTime": {
     "end_time": "2021-09-08T13:27:47.643037Z",
     "start_time": "2021-09-08T13:27:33.532308Z"
    }
   },
   "outputs": [
    {
     "name": "stdout",
     "output_type": "stream",
     "text": [
      "Validation metrics\n",
      "Exact Match Ratio: 0.3691004437273094\n",
      "Accuracy: 0.5621823315853172\n",
      "Hamming_Loss: 0.01111584500818108\n",
      "Precision: 0.6944029850746268\n",
      "Recall: 0.6304692752453956\n",
      "F1Measure: 0.6295224328806339\n"
     ]
    }
   ],
   "source": [
    "print(\"Validation metrics\")\n",
    "show_metrics(y_val, y_pred)"
   ]
  },
  {
   "cell_type": "code",
   "execution_count": 298,
   "id": "458fa1e4",
   "metadata": {
    "ExecuteTime": {
     "end_time": "2021-09-08T13:28:00.435832Z",
     "start_time": "2021-09-08T13:27:47.645278Z"
    }
   },
   "outputs": [
    {
     "name": "stdout",
     "output_type": "stream",
     "text": [
      "Test metrics\n",
      "Exact Match Ratio: 0.3742716270730614\n",
      "Accuracy: 0.5677386822052891\n",
      "Hamming_Loss: 0.01099924959331987\n",
      "Precision: 0.7114186463469303\n",
      "Recall: 0.6270618556701034\n",
      "F1Measure: 0.635776197755126\n"
     ]
    }
   ],
   "source": [
    "print(\"Test metrics\")\n",
    "show_metrics(y_test, model.predict(x_test) > threshold)"
   ]
  },
  {
   "cell_type": "code",
   "execution_count": 299,
   "id": "b21b6eea",
   "metadata": {
    "ExecuteTime": {
     "end_time": "2021-09-08T13:28:00.457808Z",
     "start_time": "2021-09-08T13:28:00.438196Z"
    }
   },
   "outputs": [],
   "source": [
    "comps = np.array(list(components.keys()))\n",
    "best_preds = [comps[y_pred[i]] for i in range(y_pred.shape[0])]\n",
    "best_scores = [scores[i][y_pred[i]] for i in range(y_pred.shape[0])]"
   ]
  },
  {
   "cell_type": "code",
   "execution_count": 300,
   "id": "554f2df8",
   "metadata": {
    "ExecuteTime": {
     "end_time": "2021-09-08T13:28:00.745403Z",
     "start_time": "2021-09-08T13:28:00.461478Z"
    }
   },
   "outputs": [],
   "source": [
    "df = pd.DataFrame()\n",
    "df['text'] = data_val.apply(light_clean_text)\n",
    "df['best_prediction'] = best_preds\n",
    "df['prediction_score'] = best_scores \n",
    "df['true'] = data['component_names'][data_val.index]"
   ]
  },
  {
   "cell_type": "code",
   "execution_count": 301,
   "id": "f9cf37fd",
   "metadata": {
    "ExecuteTime": {
     "end_time": "2021-09-08T13:28:00.772760Z",
     "start_time": "2021-09-08T13:28:00.747964Z"
    }
   },
   "outputs": [
    {
     "data": {
      "text/html": [
       "<div>\n",
       "<style scoped>\n",
       "    .dataframe tbody tr th:only-of-type {\n",
       "        vertical-align: middle;\n",
       "    }\n",
       "\n",
       "    .dataframe tbody tr th {\n",
       "        vertical-align: top;\n",
       "    }\n",
       "\n",
       "    .dataframe thead th {\n",
       "        text-align: right;\n",
       "    }\n",
       "</style>\n",
       "<table border=\"1\" class=\"dataframe\">\n",
       "  <thead>\n",
       "    <tr style=\"text-align: right;\">\n",
       "      <th></th>\n",
       "      <th>text</th>\n",
       "      <th>best_prediction</th>\n",
       "      <th>prediction_score</th>\n",
       "      <th>true</th>\n",
       "    </tr>\n",
       "  </thead>\n",
       "  <tbody>\n",
       "    <tr>\n",
       "      <th>25604</th>\n",
       "      <td>переключение мастера между нодами redis кластер c9q9osgoht2tec0t980d\\nвчера было два переключени...</td>\n",
       "      <td>[mdb.redis]</td>\n",
       "      <td>[0.97871053]</td>\n",
       "      <td>[mdb.redis]</td>\n",
       "    </tr>\n",
       "    <tr>\n",
       "      <th>29664</th>\n",
       "      <td>привязка карты ребзи  добрадня  не можем подвязать карту почему то  что может быть</td>\n",
       "      <td>[billing.cards]</td>\n",
       "      <td>[0.8275183]</td>\n",
       "      <td>[billing.cards]</td>\n",
       "    </tr>\n",
       "    <tr>\n",
       "      <th>42233</th>\n",
       "      <td>не проходят запросы на https   api telegram org здравствуйте     вводная на митапе в октябре узн...</td>\n",
       "      <td>[]</td>\n",
       "      <td>[]</td>\n",
       "      <td>[vpc]</td>\n",
       "    </tr>\n",
       "    <tr>\n",
       "      <th>147</th>\n",
       "      <td>аккаунт заблокировал пришло сообщение  что аккаунт заблокировали  что это значит  почему заблоки...</td>\n",
       "      <td>[billing.trial, billing.antifraud]</td>\n",
       "      <td>[0.42928618, 0.62323695]</td>\n",
       "      <td>[billing]</td>\n",
       "    </tr>\n",
       "    <tr>\n",
       "      <th>20338</th>\n",
       "      <td>object storage сервис добрый день  в хранилище object storage висят незавершённые загрузки  кото...</td>\n",
       "      <td>[s3]</td>\n",
       "      <td>[0.9976779]</td>\n",
       "      <td>[s3]</td>\n",
       "    </tr>\n",
       "    <tr>\n",
       "      <th>...</th>\n",
       "      <td>...</td>\n",
       "      <td>...</td>\n",
       "      <td>...</td>\n",
       "      <td>...</td>\n",
       "    </tr>\n",
       "    <tr>\n",
       "      <th>3077</th>\n",
       "      <td>raise quota for b1gakusj0mfb4288jgdo   compute cloud  \\n  number of gpus    compute instancegpus...</td>\n",
       "      <td>[квоты]</td>\n",
       "      <td>[0.99986076]</td>\n",
       "      <td>[квоты, compute]</td>\n",
       "    </tr>\n",
       "    <tr>\n",
       "      <th>1107</th>\n",
       "      <td>error  2 unknown error cluster id  c9qg3aj2mg59vot5u0ht\\nпри удалении топика возникла ошибка  кл...</td>\n",
       "      <td>[mdb.kafka]</td>\n",
       "      <td>[0.8692708]</td>\n",
       "      <td>[mdb.kafka]</td>\n",
       "    </tr>\n",
       "    <tr>\n",
       "      <th>29618</th>\n",
       "      <td>обновление security groups зависло доброго времени суток \\n2 sg повисли в статусе updating   enp...</td>\n",
       "      <td>[]</td>\n",
       "      <td>[]</td>\n",
       "      <td>[vpc.security groups]</td>\n",
       "    </tr>\n",
       "    <tr>\n",
       "      <th>17561</th>\n",
       "      <td>поднять квоты для b1gbok6vibrvvm5fmpdu   managed databases  \\n  количество vcpu    mdb cpu count...</td>\n",
       "      <td>[квоты, mdb]</td>\n",
       "      <td>[0.9999039, 0.42406026]</td>\n",
       "      <td>[квоты]</td>\n",
       "    </tr>\n",
       "    <tr>\n",
       "      <th>24979</th>\n",
       "      <td>terraform timeout 5m ansible terraform  часто бывают таймауты  msg  failure when executing terra...</td>\n",
       "      <td>[compute, compute.instance groups, terraform]</td>\n",
       "      <td>[0.30001312, 0.3042779, 0.46635786]</td>\n",
       "      <td>[terraform, compute.vm]</td>\n",
       "    </tr>\n",
       "  </tbody>\n",
       "</table>\n",
       "<p>4958 rows × 4 columns</p>\n",
       "</div>"
      ],
      "text/plain": [
       "                                                                                                      text  \\\n",
       "25604  переключение мастера между нодами redis кластер c9q9osgoht2tec0t980d\\nвчера было два переключени...   \n",
       "29664                 привязка карты ребзи  добрадня  не можем подвязать карту почему то  что может быть     \n",
       "42233  не проходят запросы на https   api telegram org здравствуйте     вводная на митапе в октябре узн...   \n",
       "147    аккаунт заблокировал пришло сообщение  что аккаунт заблокировали  что это значит  почему заблоки...   \n",
       "20338  object storage сервис добрый день  в хранилище object storage висят незавершённые загрузки  кото...   \n",
       "...                                                                                                    ...   \n",
       "3077   raise quota for b1gakusj0mfb4288jgdo   compute cloud  \\n  number of gpus    compute instancegpus...   \n",
       "1107   error  2 unknown error cluster id  c9qg3aj2mg59vot5u0ht\\nпри удалении топика возникла ошибка  кл...   \n",
       "29618  обновление security groups зависло доброго времени суток \\n2 sg повисли в статусе updating   enp...   \n",
       "17561  поднять квоты для b1gbok6vibrvvm5fmpdu   managed databases  \\n  количество vcpu    mdb cpu count...   \n",
       "24979  terraform timeout 5m ansible terraform  часто бывают таймауты  msg  failure when executing terra...   \n",
       "\n",
       "                                     best_prediction  \\\n",
       "25604                                    [mdb.redis]   \n",
       "29664                                [billing.cards]   \n",
       "42233                                             []   \n",
       "147               [billing.trial, billing.antifraud]   \n",
       "20338                                           [s3]   \n",
       "...                                              ...   \n",
       "3077                                         [квоты]   \n",
       "1107                                     [mdb.kafka]   \n",
       "29618                                             []   \n",
       "17561                                   [квоты, mdb]   \n",
       "24979  [compute, compute.instance groups, terraform]   \n",
       "\n",
       "                          prediction_score                     true  \n",
       "25604                         [0.97871053]              [mdb.redis]  \n",
       "29664                          [0.8275183]          [billing.cards]  \n",
       "42233                                   []                    [vpc]  \n",
       "147               [0.42928618, 0.62323695]                [billing]  \n",
       "20338                          [0.9976779]                     [s3]  \n",
       "...                                    ...                      ...  \n",
       "3077                          [0.99986076]         [квоты, compute]  \n",
       "1107                           [0.8692708]              [mdb.kafka]  \n",
       "29618                                   []    [vpc.security groups]  \n",
       "17561              [0.9999039, 0.42406026]                  [квоты]  \n",
       "24979  [0.30001312, 0.3042779, 0.46635786]  [terraform, compute.vm]  \n",
       "\n",
       "[4958 rows x 4 columns]"
      ]
     },
     "execution_count": 301,
     "metadata": {},
     "output_type": "execute_result"
    }
   ],
   "source": [
    "df"
   ]
  },
  {
   "cell_type": "code",
   "execution_count": 295,
   "id": "14bf6f56",
   "metadata": {
    "ExecuteTime": {
     "end_time": "2021-09-08T07:20:02.120975Z",
     "start_time": "2021-09-08T07:20:00.156748Z"
    }
   },
   "outputs": [],
   "source": [
    "# spark.createDataFrame(df).coalesce(1).write.mode('overwrite').yt('//home/cloud_analytics/ml/support_tickets_classification_v2/test', mode='overwrite')"
   ]
  },
  {
   "cell_type": "code",
   "execution_count": 303,
   "id": "d3ad903a",
   "metadata": {
    "ExecuteTime": {
     "end_time": "2021-09-08T13:31:08.904674Z",
     "start_time": "2021-09-08T13:31:08.876164Z"
    }
   },
   "outputs": [
    {
     "data": {
      "text/html": [
       "<div>\n",
       "<style scoped>\n",
       "    .dataframe tbody tr th:only-of-type {\n",
       "        vertical-align: middle;\n",
       "    }\n",
       "\n",
       "    .dataframe tbody tr th {\n",
       "        vertical-align: top;\n",
       "    }\n",
       "\n",
       "    .dataframe thead th {\n",
       "        text-align: right;\n",
       "    }\n",
       "</style>\n",
       "<table border=\"1\" class=\"dataframe\">\n",
       "  <thead>\n",
       "    <tr style=\"text-align: right;\">\n",
       "      <th></th>\n",
       "      <th>text</th>\n",
       "      <th>best_prediction</th>\n",
       "      <th>prediction_score</th>\n",
       "      <th>true</th>\n",
       "    </tr>\n",
       "  </thead>\n",
       "  <tbody>\n",
       "    <tr>\n",
       "      <th>42233</th>\n",
       "      <td>не проходят запросы на https   api telegram org здравствуйте     вводная на митапе в октябре узн...</td>\n",
       "      <td>[]</td>\n",
       "      <td>[]</td>\n",
       "      <td>[vpc]</td>\n",
       "    </tr>\n",
       "    <tr>\n",
       "      <th>32962</th>\n",
       "      <td>не работает облако здравствуйте  у облака b1gejqn23i5lpmv0uv3m стоит   активный  но оно не досту...</td>\n",
       "      <td>[]</td>\n",
       "      <td>[]</td>\n",
       "      <td>[iam]</td>\n",
       "    </tr>\n",
       "    <tr>\n",
       "      <th>34321</th>\n",
       "      <td>объем моего облока какой объем моего обложка</td>\n",
       "      <td>[]</td>\n",
       "      <td>[]</td>\n",
       "      <td>[квоты, compute]</td>\n",
       "    </tr>\n",
       "    <tr>\n",
       "      <th>10999</th>\n",
       "      <td>dataproc 2 0   ошибка при подключении к tez ui при открытии tez ui для hive сессии выдается сооб...</td>\n",
       "      <td>[]</td>\n",
       "      <td>[]</td>\n",
       "      <td>[dataproc]</td>\n",
       "    </tr>\n",
       "    <tr>\n",
       "      <th>30479</th>\n",
       "      <td>выпуск фикса для тераформ провайдера 0 44 добрый день  просьба проинформировать о выходе фикса д...</td>\n",
       "      <td>[]</td>\n",
       "      <td>[]</td>\n",
       "      <td>[s3]</td>\n",
       "    </tr>\n",
       "    <tr>\n",
       "      <th>...</th>\n",
       "      <td>...</td>\n",
       "      <td>...</td>\n",
       "      <td>...</td>\n",
       "      <td>...</td>\n",
       "    </tr>\n",
       "    <tr>\n",
       "      <th>13747</th>\n",
       "      <td>эккаунт оплачен  но не доступен здравствуйте  мы не можем понять  в одном месте эккаунта платежн...</td>\n",
       "      <td>[]</td>\n",
       "      <td>[]</td>\n",
       "      <td>[billing]</td>\n",
       "    </tr>\n",
       "    <tr>\n",
       "      <th>29517</th>\n",
       "      <td>не соответствие гранта и баланса здравствуйте  я обучаюсь в яндекс практикуме и мне выдали грант...</td>\n",
       "      <td>[]</td>\n",
       "      <td>[]</td>\n",
       "      <td>[billing.trial]</td>\n",
       "    </tr>\n",
       "    <tr>\n",
       "      <th>16529</th>\n",
       "      <td>логи и графики в data transfer добрый день  ид трансфера   dttbfb90u85frvdrue2p заметил  еще вче...</td>\n",
       "      <td>[]</td>\n",
       "      <td>[]</td>\n",
       "      <td>[data-transfer]</td>\n",
       "    </tr>\n",
       "    <tr>\n",
       "      <th>35145</th>\n",
       "      <td>кластер бд перешел в режим с дефолтными настройками sql mode просьба пояснить  проверить по лога...</td>\n",
       "      <td>[]</td>\n",
       "      <td>[]</td>\n",
       "      <td>[Линия 2]</td>\n",
       "    </tr>\n",
       "    <tr>\n",
       "      <th>29618</th>\n",
       "      <td>обновление security groups зависло доброго времени суток \\n2 sg повисли в статусе updating   enp...</td>\n",
       "      <td>[]</td>\n",
       "      <td>[]</td>\n",
       "      <td>[vpc.security groups]</td>\n",
       "    </tr>\n",
       "  </tbody>\n",
       "</table>\n",
       "<p>437 rows × 4 columns</p>\n",
       "</div>"
      ],
      "text/plain": [
       "                                                                                                      text  \\\n",
       "42233  не проходят запросы на https   api telegram org здравствуйте     вводная на митапе в октябре узн...   \n",
       "32962  не работает облако здравствуйте  у облака b1gejqn23i5lpmv0uv3m стоит   активный  но оно не досту...   \n",
       "34321                                                       объем моего облока какой объем моего обложка     \n",
       "10999  dataproc 2 0   ошибка при подключении к tez ui при открытии tez ui для hive сессии выдается сооб...   \n",
       "30479  выпуск фикса для тераформ провайдера 0 44 добрый день  просьба проинформировать о выходе фикса д...   \n",
       "...                                                                                                    ...   \n",
       "13747  эккаунт оплачен  но не доступен здравствуйте  мы не можем понять  в одном месте эккаунта платежн...   \n",
       "29517  не соответствие гранта и баланса здравствуйте  я обучаюсь в яндекс практикуме и мне выдали грант...   \n",
       "16529  логи и графики в data transfer добрый день  ид трансфера   dttbfb90u85frvdrue2p заметил  еще вче...   \n",
       "35145  кластер бд перешел в режим с дефолтными настройками sql mode просьба пояснить  проверить по лога...   \n",
       "29618  обновление security groups зависло доброго времени суток \\n2 sg повисли в статусе updating   enp...   \n",
       "\n",
       "      best_prediction prediction_score                   true  \n",
       "42233              []               []                  [vpc]  \n",
       "32962              []               []                  [iam]  \n",
       "34321              []               []       [квоты, compute]  \n",
       "10999              []               []             [dataproc]  \n",
       "30479              []               []                   [s3]  \n",
       "...               ...              ...                    ...  \n",
       "13747              []               []              [billing]  \n",
       "29517              []               []        [billing.trial]  \n",
       "16529              []               []        [data-transfer]  \n",
       "35145              []               []              [Линия 2]  \n",
       "29618              []               []  [vpc.security groups]  \n",
       "\n",
       "[437 rows x 4 columns]"
      ]
     },
     "execution_count": 303,
     "metadata": {},
     "output_type": "execute_result"
    }
   ],
   "source": [
    "df[df.best_prediction.apply(len) == 0]"
   ]
  },
  {
   "cell_type": "code",
   "execution_count": 307,
   "id": "53cb2dfa",
   "metadata": {
    "ExecuteTime": {
     "end_time": "2021-09-08T13:35:09.776748Z",
     "start_time": "2021-09-08T13:35:09.526012Z"
    }
   },
   "outputs": [
    {
     "data": {
      "text/html": [
       "<div>\n",
       "<style scoped>\n",
       "    .dataframe tbody tr th:only-of-type {\n",
       "        vertical-align: middle;\n",
       "    }\n",
       "\n",
       "    .dataframe tbody tr th {\n",
       "        vertical-align: top;\n",
       "    }\n",
       "\n",
       "    .dataframe thead th {\n",
       "        text-align: right;\n",
       "    }\n",
       "</style>\n",
       "<table border=\"1\" class=\"dataframe\">\n",
       "  <thead>\n",
       "    <tr style=\"text-align: right;\">\n",
       "      <th></th>\n",
       "      <th>text</th>\n",
       "      <th>best_prediction</th>\n",
       "      <th>prediction_score</th>\n",
       "      <th>true</th>\n",
       "    </tr>\n",
       "  </thead>\n",
       "  <tbody>\n",
       "    <tr>\n",
       "      <th>147</th>\n",
       "      <td>аккаунт заблокировал пришло сообщение  что аккаунт заблокировали  что это значит  почему заблоки...</td>\n",
       "      <td>[billing.trial, billing.antifraud]</td>\n",
       "      <td>[0.42928618, 0.62323695]</td>\n",
       "      <td>[billing]</td>\n",
       "    </tr>\n",
       "    <tr>\n",
       "      <th>5865</th>\n",
       "      <td>проблемы с репликацией sql сервера добрый день  коллеги \\n18 05 2021 примерно в 13 00 возникла п...</td>\n",
       "      <td>[mdb.postgresql]</td>\n",
       "      <td>[0.30953494]</td>\n",
       "      <td>[compute.nbs, compute]</td>\n",
       "    </tr>\n",
       "    <tr>\n",
       "      <th>34957</th>\n",
       "      <td>физический хостинг сервера добрый день \\nу вас есть услуга физического размещения сервера на ваш...</td>\n",
       "      <td>[business, compute.vm]</td>\n",
       "      <td>[0.43538013, 0.38163733]</td>\n",
       "      <td>[other]</td>\n",
       "    </tr>\n",
       "    <tr>\n",
       "      <th>2432</th>\n",
       "      <td>практикум прошу разблокировать аккаунт для прохождения практикума по yandex cloud</td>\n",
       "      <td>[billing.trial, billing.antifraud]</td>\n",
       "      <td>[0.6039027, 0.46206155]</td>\n",
       "      <td>[квоты, вернули]</td>\n",
       "    </tr>\n",
       "    <tr>\n",
       "      <th>20916</th>\n",
       "      <td>ssh при попытке соединения по ssh часто встречаются такие случаи \\n  connection to 178 154 232 2...</td>\n",
       "      <td>[compute.vm, compute.nbs]</td>\n",
       "      <td>[0.43364912, 0.44330454]</td>\n",
       "      <td>[compute.ssh]</td>\n",
       "    </tr>\n",
       "    <tr>\n",
       "      <th>...</th>\n",
       "      <td>...</td>\n",
       "      <td>...</td>\n",
       "      <td>...</td>\n",
       "      <td>...</td>\n",
       "    </tr>\n",
       "    <tr>\n",
       "      <th>47134</th>\n",
       "      <td>переход на платную версию добры вечер  отвязал карту от платежного аккаунта и пробный период зав...</td>\n",
       "      <td>[billing, billing.trial]</td>\n",
       "      <td>[0.47432628, 0.50881934]</td>\n",
       "      <td>[billing.antifraud]</td>\n",
       "    </tr>\n",
       "    <tr>\n",
       "      <th>16887</th>\n",
       "      <td>квота с gpu нужна квота для виртуальной машины с gpu  у меня пробный период это возможно</td>\n",
       "      <td>[billing.trial, квоты, billing.antifraud, compute.GPU]</td>\n",
       "      <td>[0.3485219, 0.8004202, 0.32868415, 0.8434789]</td>\n",
       "      <td>[квоты, compute.GPU, вернули]</td>\n",
       "    </tr>\n",
       "    <tr>\n",
       "      <th>46742</th>\n",
       "      <td>статус вм заблокирован добрый день\\nустановлен статус заблокирован\\nуточните  с чем это связано ...</td>\n",
       "      <td>[billing, billing.trial, billing.antifraud]</td>\n",
       "      <td>[0.45238936, 0.45213693, 0.31806862]</td>\n",
       "      <td>[docs, billing.trial]</td>\n",
       "    </tr>\n",
       "    <tr>\n",
       "      <th>16423</th>\n",
       "      <td>usergate добрый день  я установил usergate из маркетплейса  как к нему подключится по ip 8001 ut...</td>\n",
       "      <td>[compute.windows, compute.vm]</td>\n",
       "      <td>[0.36117688, 0.4529421]</td>\n",
       "      <td>[marketplace]</td>\n",
       "    </tr>\n",
       "    <tr>\n",
       "      <th>24979</th>\n",
       "      <td>terraform timeout 5m ansible terraform  часто бывают таймауты  msg  failure when executing terra...</td>\n",
       "      <td>[compute, compute.instance groups, terraform]</td>\n",
       "      <td>[0.30001312, 0.3042779, 0.46635786]</td>\n",
       "      <td>[terraform, compute.vm]</td>\n",
       "    </tr>\n",
       "  </tbody>\n",
       "</table>\n",
       "<p>405 rows × 4 columns</p>\n",
       "</div>"
      ],
      "text/plain": [
       "                                                                                                      text  \\\n",
       "147    аккаунт заблокировал пришло сообщение  что аккаунт заблокировали  что это значит  почему заблоки...   \n",
       "5865   проблемы с репликацией sql сервера добрый день  коллеги \\n18 05 2021 примерно в 13 00 возникла п...   \n",
       "34957  физический хостинг сервера добрый день \\nу вас есть услуга физического размещения сервера на ваш...   \n",
       "2432                     практикум прошу разблокировать аккаунт для прохождения практикума по yandex cloud   \n",
       "20916  ssh при попытке соединения по ssh часто встречаются такие случаи \\n  connection to 178 154 232 2...   \n",
       "...                                                                                                    ...   \n",
       "47134  переход на платную версию добры вечер  отвязал карту от платежного аккаунта и пробный период зав...   \n",
       "16887            квота с gpu нужна квота для виртуальной машины с gpu  у меня пробный период это возможно    \n",
       "46742  статус вм заблокирован добрый день\\nустановлен статус заблокирован\\nуточните  с чем это связано ...   \n",
       "16423  usergate добрый день  я установил usergate из маркетплейса  как к нему подключится по ip 8001 ut...   \n",
       "24979  terraform timeout 5m ansible terraform  часто бывают таймауты  msg  failure when executing terra...   \n",
       "\n",
       "                                              best_prediction  \\\n",
       "147                        [billing.trial, billing.antifraud]   \n",
       "5865                                         [mdb.postgresql]   \n",
       "34957                                  [business, compute.vm]   \n",
       "2432                       [billing.trial, billing.antifraud]   \n",
       "20916                               [compute.vm, compute.nbs]   \n",
       "...                                                       ...   \n",
       "47134                                [billing, billing.trial]   \n",
       "16887  [billing.trial, квоты, billing.antifraud, compute.GPU]   \n",
       "46742             [billing, billing.trial, billing.antifraud]   \n",
       "16423                           [compute.windows, compute.vm]   \n",
       "24979           [compute, compute.instance groups, terraform]   \n",
       "\n",
       "                                    prediction_score  \\\n",
       "147                         [0.42928618, 0.62323695]   \n",
       "5865                                    [0.30953494]   \n",
       "34957                       [0.43538013, 0.38163733]   \n",
       "2432                         [0.6039027, 0.46206155]   \n",
       "20916                       [0.43364912, 0.44330454]   \n",
       "...                                              ...   \n",
       "47134                       [0.47432628, 0.50881934]   \n",
       "16887  [0.3485219, 0.8004202, 0.32868415, 0.8434789]   \n",
       "46742           [0.45238936, 0.45213693, 0.31806862]   \n",
       "16423                        [0.36117688, 0.4529421]   \n",
       "24979            [0.30001312, 0.3042779, 0.46635786]   \n",
       "\n",
       "                                true  \n",
       "147                        [billing]  \n",
       "5865          [compute.nbs, compute]  \n",
       "34957                        [other]  \n",
       "2432                [квоты, вернули]  \n",
       "20916                  [compute.ssh]  \n",
       "...                              ...  \n",
       "47134            [billing.antifraud]  \n",
       "16887  [квоты, compute.GPU, вернули]  \n",
       "46742          [docs, billing.trial]  \n",
       "16423                  [marketplace]  \n",
       "24979        [terraform, compute.vm]  \n",
       "\n",
       "[405 rows x 4 columns]"
      ]
     },
     "execution_count": 307,
     "metadata": {},
     "output_type": "execute_result"
    },
    {
     "name": "stderr",
     "output_type": "stream",
     "text": [
      "21/09/08 16:38:08 WARN BlockManagerMasterEndpoint: No more replicas available for rdd_41_158 !\n",
      "21/09/08 16:38:08 WARN BlockManagerMasterEndpoint: No more replicas available for rdd_41_65 !\n",
      "21/09/08 16:38:08 WARN BlockManagerMasterEndpoint: No more replicas available for rdd_41_110 !\n",
      "21/09/08 16:38:08 WARN BlockManagerMasterEndpoint: No more replicas available for rdd_41_123 !\n",
      "21/09/08 16:38:08 WARN BlockManagerMasterEndpoint: No more replicas available for rdd_41_51 !\n",
      "21/09/08 16:38:08 WARN BlockManagerMasterEndpoint: No more replicas available for rdd_41_55 !\n",
      "21/09/08 16:38:08 WARN BlockManagerMasterEndpoint: No more replicas available for rdd_41_19 !\n",
      "21/09/08 16:38:08 WARN BlockManagerMasterEndpoint: No more replicas available for rdd_41_174 !\n",
      "21/09/08 16:38:08 WARN BlockManagerMasterEndpoint: No more replicas available for rdd_41_69 !\n",
      "21/09/08 16:38:08 WARN BlockManagerMasterEndpoint: No more replicas available for rdd_41_181 !\n",
      "21/09/08 16:38:08 WARN BlockManagerMasterEndpoint: No more replicas available for rdd_41_149 !\n",
      "21/09/08 16:38:08 WARN BlockManagerMasterEndpoint: No more replicas available for rdd_41_126 !\n",
      "21/09/08 16:38:08 WARN BlockManagerMasterEndpoint: No more replicas available for rdd_41_151 !\n",
      "21/09/08 16:38:08 WARN BlockManagerMasterEndpoint: No more replicas available for rdd_41_164 !\n",
      "21/09/08 16:38:08 WARN BlockManagerMasterEndpoint: No more replicas available for rdd_41_122 !\n",
      "21/09/08 16:38:08 WARN BlockManagerMasterEndpoint: No more replicas available for rdd_41_95 !\n",
      "21/09/08 16:38:08 WARN BlockManagerMasterEndpoint: No more replicas available for rdd_41_116 !\n",
      "21/09/08 16:38:08 WARN BlockManagerMasterEndpoint: No more replicas available for rdd_41_46 !\n",
      "21/09/08 16:38:08 WARN BlockManagerMasterEndpoint: No more replicas available for rdd_41_24 !\n",
      "21/09/08 16:38:08 WARN BlockManagerMasterEndpoint: No more replicas available for rdd_41_159 !\n",
      "21/09/08 16:38:08 WARN BlockManagerMasterEndpoint: No more replicas available for rdd_41_167 !\n",
      "21/09/08 16:38:08 WARN BlockManagerMasterEndpoint: No more replicas available for rdd_41_184 !\n",
      "21/09/08 16:38:08 WARN BlockManagerMasterEndpoint: No more replicas available for rdd_41_8 !\n",
      "21/09/08 16:38:08 WARN BlockManagerMasterEndpoint: No more replicas available for rdd_41_25 !\n",
      "21/09/08 16:38:08 WARN BlockManagerMasterEndpoint: No more replicas available for rdd_41_153 !\n",
      "21/09/08 16:38:08 WARN BlockManagerMasterEndpoint: No more replicas available for rdd_41_161 !\n",
      "21/09/08 16:38:08 WARN BlockManagerMasterEndpoint: No more replicas available for rdd_41_187 !\n",
      "21/09/08 16:38:08 WARN BlockManagerMasterEndpoint: No more replicas available for rdd_41_155 !\n",
      "21/09/08 16:38:08 WARN BlockManagerMasterEndpoint: No more replicas available for rdd_41_36 !\n",
      "21/09/08 16:38:08 WARN BlockManagerMasterEndpoint: No more replicas available for rdd_41_99 !\n",
      "21/09/08 16:38:08 WARN BlockManagerMasterEndpoint: No more replicas available for rdd_41_56 !\n",
      "21/09/08 16:38:08 WARN BlockManagerMasterEndpoint: No more replicas available for rdd_41_176 !\n",
      "21/09/08 16:38:08 WARN BlockManagerMasterEndpoint: No more replicas available for rdd_41_52 !\n",
      "21/09/08 16:38:08 WARN BlockManagerMasterEndpoint: No more replicas available for rdd_41_13 !\n",
      "21/09/08 16:38:08 WARN BlockManagerMasterEndpoint: No more replicas available for rdd_41_96 !\n",
      "21/09/08 16:38:08 WARN BlockManagerMasterEndpoint: No more replicas available for rdd_41_86 !\n",
      "21/09/08 16:38:08 WARN BlockManagerMasterEndpoint: No more replicas available for rdd_41_171 !\n",
      "21/09/08 16:38:08 WARN BlockManagerMasterEndpoint: No more replicas available for rdd_41_87 !\n",
      "21/09/08 16:38:08 WARN BlockManagerMasterEndpoint: No more replicas available for rdd_41_104 !\n",
      "21/09/08 16:38:08 WARN BlockManagerMasterEndpoint: No more replicas available for rdd_41_106 !\n",
      "21/09/08 16:38:08 WARN BlockManagerMasterEndpoint: No more replicas available for rdd_41_70 !\n",
      "21/09/08 16:38:08 WARN BlockManagerMasterEndpoint: No more replicas available for rdd_41_81 !\n",
      "21/09/08 16:38:08 WARN BlockManagerMasterEndpoint: No more replicas available for rdd_41_128 !\n",
      "21/09/08 16:38:08 WARN BlockManagerMasterEndpoint: No more replicas available for rdd_41_40 !\n",
      "21/09/08 16:38:08 WARN BlockManagerMasterEndpoint: No more replicas available for rdd_41_49 !\n",
      "21/09/08 16:38:08 WARN BlockManagerMasterEndpoint: No more replicas available for rdd_41_42 !\n",
      "21/09/08 16:38:08 WARN BlockManagerMasterEndpoint: No more replicas available for rdd_41_93 !\n",
      "21/09/08 16:38:08 WARN BlockManagerMasterEndpoint: No more replicas available for rdd_41_152 !\n",
      "21/09/08 16:38:08 WARN BlockManagerMasterEndpoint: No more replicas available for rdd_41_9 !\n",
      "21/09/08 16:38:08 WARN BlockManagerMasterEndpoint: No more replicas available for rdd_41_135 !\n",
      "21/09/08 16:38:08 WARN BlockManagerMasterEndpoint: No more replicas available for rdd_41_0 !\n",
      "21/09/08 16:38:08 WARN BlockManagerMasterEndpoint: No more replicas available for rdd_41_37 !\n",
      "21/09/08 16:38:08 WARN BlockManagerMasterEndpoint: No more replicas available for rdd_41_178 !\n",
      "21/09/08 16:38:08 WARN BlockManagerMasterEndpoint: No more replicas available for rdd_41_5 !\n",
      "21/09/08 16:38:08 WARN BlockManagerMasterEndpoint: No more replicas available for rdd_41_29 !\n",
      "21/09/08 16:38:08 WARN BlockManagerMasterEndpoint: No more replicas available for rdd_41_101 !\n",
      "21/09/08 16:38:08 WARN BlockManagerMasterEndpoint: No more replicas available for rdd_41_175 !\n",
      "21/09/08 16:38:08 WARN BlockManagerMasterEndpoint: No more replicas available for rdd_41_137 !\n",
      "21/09/08 16:38:08 WARN BlockManagerMasterEndpoint: No more replicas available for rdd_41_33 !\n",
      "21/09/08 16:38:08 WARN BlockManagerMasterEndpoint: No more replicas available for rdd_41_64 !\n",
      "21/09/08 16:38:08 WARN BlockManagerMasterEndpoint: No more replicas available for rdd_41_83 !\n",
      "21/09/08 16:38:08 WARN BlockManagerMasterEndpoint: No more replicas available for rdd_41_113 !\n",
      "21/09/08 16:38:08 WARN BlockManagerMasterEndpoint: No more replicas available for rdd_41_31 !\n",
      "21/09/08 16:38:08 WARN BlockManagerMasterEndpoint: No more replicas available for rdd_41_109 !\n",
      "21/09/08 16:38:08 WARN BlockManagerMasterEndpoint: No more replicas available for rdd_41_85 !\n",
      "21/09/08 16:38:08 WARN BlockManagerMasterEndpoint: No more replicas available for rdd_41_44 !\n",
      "21/09/08 16:38:08 WARN BlockManagerMasterEndpoint: No more replicas available for rdd_41_27 !\n",
      "21/09/08 16:38:08 WARN BlockManagerMasterEndpoint: No more replicas available for rdd_41_118 !\n",
      "21/09/08 16:38:08 WARN BlockManagerMasterEndpoint: No more replicas available for rdd_41_79 !\n",
      "21/09/08 16:38:08 WARN BlockManagerMasterEndpoint: No more replicas available for rdd_41_59 !\n",
      "21/09/08 16:38:08 WARN BlockManagerMasterEndpoint: No more replicas available for rdd_41_168 !\n",
      "21/09/08 16:38:08 WARN BlockManagerMasterEndpoint: No more replicas available for rdd_41_12 !\n",
      "21/09/08 16:38:08 WARN BlockManagerMasterEndpoint: No more replicas available for rdd_41_88 !\n",
      "21/09/08 16:38:08 WARN BlockManagerMasterEndpoint: No more replicas available for rdd_41_90 !\n",
      "21/09/08 16:38:08 WARN BlockManagerMasterEndpoint: No more replicas available for rdd_41_147 !\n",
      "21/09/08 16:38:08 WARN BlockManagerMasterEndpoint: No more replicas available for rdd_41_75 !\n",
      "21/09/08 16:38:08 WARN BlockManagerMasterEndpoint: No more replicas available for rdd_41_2 !\n",
      "21/09/08 16:38:08 WARN BlockManagerMasterEndpoint: No more replicas available for rdd_41_172 !\n",
      "21/09/08 16:38:08 WARN BlockManagerMasterEndpoint: No more replicas available for rdd_41_119 !\n",
      "21/09/08 16:38:08 WARN BlockManagerMasterEndpoint: No more replicas available for rdd_41_179 !\n",
      "21/09/08 16:38:08 WARN BlockManagerMasterEndpoint: No more replicas available for rdd_41_74 !\n",
      "21/09/08 16:38:08 WARN BlockManagerMasterEndpoint: No more replicas available for rdd_41_4 !\n",
      "21/09/08 16:38:08 WARN BlockManagerMasterEndpoint: No more replicas available for rdd_41_23 !\n",
      "21/09/08 16:38:08 WARN BlockManagerMasterEndpoint: No more replicas available for rdd_41_78 !\n",
      "21/09/08 16:38:08 WARN BlockManagerMasterEndpoint: No more replicas available for rdd_41_145 !\n",
      "21/09/08 16:38:08 WARN BlockManagerMasterEndpoint: No more replicas available for rdd_41_143 !\n",
      "21/09/08 16:38:08 WARN BlockManagerMasterEndpoint: No more replicas available for rdd_41_131 !\n",
      "21/09/08 16:38:08 WARN BlockManagerMasterEndpoint: No more replicas available for rdd_41_76 !\n",
      "21/09/08 16:38:08 WARN BlockManagerMasterEndpoint: No more replicas available for rdd_41_72 !\n",
      "21/09/08 16:38:08 WARN BlockManagerMasterEndpoint: No more replicas available for rdd_41_140 !\n",
      "21/09/08 16:38:08 WARN BlockManagerMasterEndpoint: No more replicas available for rdd_41_62 !\n",
      "21/09/08 16:38:08 WARN BlockManagerMasterEndpoint: No more replicas available for rdd_41_108 !\n",
      "21/09/08 16:38:08 WARN BlockManagerMasterEndpoint: No more replicas available for rdd_41_38 !\n",
      "21/09/08 16:38:08 WARN BlockManagerMasterEndpoint: No more replicas available for rdd_41_112 !\n",
      "21/09/08 16:38:08 WARN BlockManagerMasterEndpoint: No more replicas available for rdd_41_114 !\n",
      "21/09/08 16:38:08 WARN BlockManagerMasterEndpoint: No more replicas available for rdd_41_30 !\n",
      "21/09/08 16:38:08 WARN BlockManagerMasterEndpoint: No more replicas available for rdd_41_148 !\n",
      "21/09/08 16:38:08 WARN BlockManagerMasterEndpoint: No more replicas available for rdd_41_45 !\n",
      "21/09/08 16:38:08 WARN BlockManagerMasterEndpoint: No more replicas available for rdd_41_84 !\n",
      "21/09/08 16:38:08 WARN BlockManagerMasterEndpoint: No more replicas available for rdd_41_6 !\n",
      "21/09/08 16:38:08 WARN BlockManagerMasterEndpoint: No more replicas available for rdd_41_173 !\n",
      "21/09/08 16:38:08 WARN BlockManagerMasterEndpoint: No more replicas available for rdd_41_66 !\n",
      "21/09/08 16:38:08 WARN BlockManagerMasterEndpoint: No more replicas available for rdd_41_125 !\n",
      "21/09/08 16:38:08 WARN BlockManagerMasterEndpoint: No more replicas available for rdd_41_3 !\n",
      "21/09/08 16:38:08 WARN BlockManagerMasterEndpoint: No more replicas available for rdd_41_188 !\n",
      "21/09/08 16:38:08 WARN BlockManagerMasterEndpoint: No more replicas available for rdd_41_17 !\n",
      "21/09/08 16:38:08 WARN BlockManagerMasterEndpoint: No more replicas available for rdd_41_50 !\n",
      "21/09/08 16:38:08 WARN BlockManagerMasterEndpoint: No more replicas available for rdd_41_57 !\n",
      "21/09/08 16:38:08 WARN BlockManagerMasterEndpoint: No more replicas available for rdd_41_54 !\n",
      "21/09/08 16:38:08 WARN BlockManagerMasterEndpoint: No more replicas available for rdd_41_28 !\n",
      "21/09/08 16:38:08 WARN BlockManagerMasterEndpoint: No more replicas available for rdd_41_166 !\n",
      "21/09/08 16:38:08 WARN BlockManagerMasterEndpoint: No more replicas available for rdd_41_11 !\n",
      "21/09/08 16:38:08 WARN BlockManagerMasterEndpoint: No more replicas available for rdd_41_15 !\n",
      "21/09/08 16:38:08 WARN BlockManagerMasterEndpoint: No more replicas available for rdd_41_91 !\n",
      "21/09/08 16:38:08 WARN BlockManagerMasterEndpoint: No more replicas available for rdd_41_10 !\n",
      "21/09/08 16:38:08 WARN BlockManagerMasterEndpoint: No more replicas available for rdd_41_16 !\n",
      "21/09/08 16:38:08 WARN BlockManagerMasterEndpoint: No more replicas available for rdd_41_165 !\n",
      "21/09/08 16:38:08 WARN BlockManagerMasterEndpoint: No more replicas available for rdd_41_130 !\n",
      "21/09/08 16:38:08 WARN BlockManagerMasterEndpoint: No more replicas available for rdd_41_60 !\n",
      "21/09/08 16:38:08 WARN BlockManagerMasterEndpoint: No more replicas available for rdd_41_139 !\n",
      "21/09/08 16:38:08 WARN BlockManagerMasterEndpoint: No more replicas available for rdd_41_182 !\n",
      "21/09/08 16:38:08 WARN BlockManagerMasterEndpoint: No more replicas available for rdd_41_82 !\n",
      "21/09/08 16:38:08 WARN BlockManagerMasterEndpoint: No more replicas available for rdd_41_98 !\n",
      "21/09/08 16:38:08 WARN BlockManagerMasterEndpoint: No more replicas available for rdd_41_107 !\n",
      "21/09/08 16:38:08 WARN BlockManagerMasterEndpoint: No more replicas available for rdd_41_120 !\n",
      "21/09/08 16:38:08 WARN BlockManagerMasterEndpoint: No more replicas available for rdd_41_102 !\n",
      "21/09/08 16:38:08 WARN BlockManagerMasterEndpoint: No more replicas available for rdd_41_163 !\n",
      "21/09/08 16:38:08 WARN BlockManagerMasterEndpoint: No more replicas available for rdd_41_150 !\n",
      "21/09/08 16:38:08 WARN BlockManagerMasterEndpoint: No more replicas available for rdd_41_162 !\n",
      "21/09/08 16:38:08 WARN BlockManagerMasterEndpoint: No more replicas available for rdd_41_77 !\n",
      "21/09/08 16:38:08 WARN BlockManagerMasterEndpoint: No more replicas available for rdd_41_133 !\n",
      "21/09/08 16:38:08 WARN BlockManagerMasterEndpoint: No more replicas available for rdd_41_34 !\n",
      "21/09/08 16:38:08 WARN BlockManagerMasterEndpoint: No more replicas available for rdd_41_156 !\n",
      "21/09/08 16:38:08 WARN BlockManagerMasterEndpoint: No more replicas available for rdd_41_80 !\n",
      "21/09/08 16:38:08 WARN BlockManagerMasterEndpoint: No more replicas available for rdd_41_129 !\n",
      "21/09/08 16:38:08 WARN BlockManagerMasterEndpoint: No more replicas available for rdd_41_144 !\n",
      "21/09/08 16:38:08 WARN BlockManagerMasterEndpoint: No more replicas available for rdd_41_141 !\n",
      "21/09/08 16:38:08 WARN BlockManagerMasterEndpoint: No more replicas available for rdd_41_183 !\n",
      "21/09/08 16:38:08 WARN BlockManagerMasterEndpoint: No more replicas available for rdd_41_14 !\n",
      "21/09/08 16:38:08 WARN BlockManagerMasterEndpoint: No more replicas available for rdd_41_121 !\n",
      "21/09/08 16:38:08 WARN BlockManagerMasterEndpoint: No more replicas available for rdd_41_89 !\n",
      "21/09/08 16:38:08 WARN BlockManagerMasterEndpoint: No more replicas available for rdd_41_132 !\n",
      "21/09/08 16:38:08 WARN BlockManagerMasterEndpoint: No more replicas available for rdd_41_177 !\n",
      "21/09/08 16:38:08 WARN BlockManagerMasterEndpoint: No more replicas available for rdd_41_68 !\n",
      "21/09/08 16:38:08 WARN BlockManagerMasterEndpoint: No more replicas available for rdd_41_111 !\n",
      "21/09/08 16:38:08 WARN BlockManagerMasterEndpoint: No more replicas available for rdd_41_92 !\n",
      "21/09/08 16:38:08 WARN BlockManagerMasterEndpoint: No more replicas available for rdd_41_26 !\n",
      "21/09/08 16:38:08 WARN BlockManagerMasterEndpoint: No more replicas available for rdd_41_32 !\n",
      "21/09/08 16:38:08 WARN BlockManagerMasterEndpoint: No more replicas available for rdd_41_189 !\n",
      "21/09/08 16:38:08 WARN BlockManagerMasterEndpoint: No more replicas available for rdd_41_48 !\n",
      "21/09/08 16:38:08 WARN BlockManagerMasterEndpoint: No more replicas available for rdd_41_134 !\n",
      "21/09/08 16:38:08 WARN BlockManagerMasterEndpoint: No more replicas available for rdd_41_117 !\n",
      "21/09/08 16:38:08 WARN BlockManagerMasterEndpoint: No more replicas available for rdd_41_115 !\n",
      "21/09/08 16:38:08 WARN BlockManagerMasterEndpoint: No more replicas available for rdd_41_53 !\n",
      "21/09/08 16:38:08 WARN BlockManagerMasterEndpoint: No more replicas available for rdd_41_21 !\n",
      "21/09/08 16:38:08 WARN BlockManagerMasterEndpoint: No more replicas available for rdd_41_43 !\n",
      "21/09/08 16:38:08 WARN BlockManagerMasterEndpoint: No more replicas available for rdd_41_7 !\n",
      "21/09/08 16:38:08 WARN BlockManagerMasterEndpoint: No more replicas available for rdd_41_94 !\n",
      "21/09/08 16:38:08 WARN BlockManagerMasterEndpoint: No more replicas available for rdd_41_22 !\n",
      "21/09/08 16:38:08 WARN BlockManagerMasterEndpoint: No more replicas available for rdd_41_157 !\n",
      "21/09/08 16:38:08 WARN BlockManagerMasterEndpoint: No more replicas available for rdd_41_63 !\n",
      "21/09/08 16:38:08 WARN BlockManagerMasterEndpoint: No more replicas available for rdd_41_58 !\n",
      "21/09/08 16:38:08 WARN BlockManagerMasterEndpoint: No more replicas available for rdd_41_154 !\n",
      "21/09/08 16:38:08 WARN BlockManagerMasterEndpoint: No more replicas available for rdd_41_97 !\n",
      "21/09/08 16:38:08 WARN BlockManagerMasterEndpoint: No more replicas available for rdd_41_35 !\n",
      "21/09/08 16:38:08 WARN BlockManagerMasterEndpoint: No more replicas available for rdd_41_169 !\n",
      "21/09/08 16:38:08 WARN BlockManagerMasterEndpoint: No more replicas available for rdd_41_61 !\n",
      "21/09/08 16:38:08 WARN BlockManagerMasterEndpoint: No more replicas available for rdd_41_47 !\n",
      "21/09/08 16:38:08 WARN BlockManagerMasterEndpoint: No more replicas available for rdd_41_39 !\n",
      "21/09/08 16:38:08 WARN BlockManagerMasterEndpoint: No more replicas available for rdd_41_105 !\n",
      "21/09/08 16:38:08 WARN BlockManagerMasterEndpoint: No more replicas available for rdd_41_136 !\n",
      "21/09/08 16:38:08 WARN BlockManagerMasterEndpoint: No more replicas available for rdd_41_142 !\n",
      "21/09/08 16:38:08 WARN BlockManagerMasterEndpoint: No more replicas available for rdd_41_1 !\n",
      "21/09/08 16:38:08 WARN BlockManagerMasterEndpoint: No more replicas available for rdd_41_127 !\n",
      "21/09/08 16:38:08 WARN BlockManagerMasterEndpoint: No more replicas available for rdd_41_146 !\n",
      "21/09/08 16:38:08 WARN BlockManagerMasterEndpoint: No more replicas available for rdd_41_185 !\n",
      "21/09/08 16:38:08 WARN BlockManagerMasterEndpoint: No more replicas available for rdd_41_18 !\n",
      "21/09/08 16:38:08 WARN BlockManagerMasterEndpoint: No more replicas available for rdd_41_73 !\n",
      "21/09/08 16:38:08 WARN BlockManagerMasterEndpoint: No more replicas available for rdd_41_71 !\n",
      "21/09/08 16:38:08 WARN BlockManagerMasterEndpoint: No more replicas available for rdd_41_170 !\n",
      "21/09/08 16:38:08 WARN BlockManagerMasterEndpoint: No more replicas available for rdd_41_41 !\n",
      "21/09/08 16:38:08 WARN BlockManagerMasterEndpoint: No more replicas available for rdd_41_103 !\n",
      "21/09/08 16:38:08 WARN BlockManagerMasterEndpoint: No more replicas available for rdd_41_186 !\n",
      "21/09/08 16:38:08 WARN BlockManagerMasterEndpoint: No more replicas available for rdd_41_67 !\n",
      "21/09/08 16:38:08 WARN BlockManagerMasterEndpoint: No more replicas available for rdd_41_180 !\n",
      "21/09/08 16:38:08 WARN BlockManagerMasterEndpoint: No more replicas available for rdd_41_20 !\n",
      "21/09/08 16:38:08 WARN BlockManagerMasterEndpoint: No more replicas available for rdd_41_138 !\n",
      "21/09/08 16:38:08 WARN BlockManagerMasterEndpoint: No more replicas available for rdd_41_124 !\n",
      "21/09/08 16:38:08 WARN BlockManagerMasterEndpoint: No more replicas available for rdd_41_160 !\n",
      "21/09/08 16:38:08 WARN BlockManagerMasterEndpoint: No more replicas available for rdd_41_100 !\n"
     ]
    },
    {
     "name": "stderr",
     "output_type": "stream",
     "text": [
      "21/09/08 16:38:08 WARN BlockManagerMasterEndpoint: No more replicas available for rdd_41_190 !\n",
      "21/09/08 16:38:08 WARN BlockManagerMasterEndpoint: No more replicas available for rdd_41_194 !\n"
     ]
    }
   ],
   "source": [
    "df[df.apply(lambda row: len(set(row['best_prediction']) ^ set(row['true'])), axis=1) >= 3]"
   ]
  },
  {
   "cell_type": "code",
   "execution_count": null,
   "id": "26bcdac6",
   "metadata": {},
   "outputs": [],
   "source": []
  }
 ],
 "metadata": {
  "kernelspec": {
   "display_name": "Python 3",
   "language": "python",
   "name": "python3"
  },
  "language_info": {
   "codemirror_mode": {
    "name": "ipython",
    "version": 3
   },
   "file_extension": ".py",
   "mimetype": "text/x-python",
   "name": "python",
   "nbconvert_exporter": "python",
   "pygments_lexer": "ipython3",
   "version": "3.7.5"
  }
 },
 "nbformat": 4,
 "nbformat_minor": 5
}
