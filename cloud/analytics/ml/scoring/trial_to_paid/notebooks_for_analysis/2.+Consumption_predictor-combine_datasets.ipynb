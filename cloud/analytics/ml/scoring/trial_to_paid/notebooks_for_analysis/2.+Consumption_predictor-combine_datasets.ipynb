{
 "cells": [
  {
   "cell_type": "code",
   "execution_count": 1,
   "id": "abcfe9df",
   "metadata": {
    "ExecuteTime": {
     "end_time": "2021-08-28T18:09:38.180658Z",
     "start_time": "2021-08-28T18:09:36.183605Z"
    }
   },
   "outputs": [],
   "source": [
    "import os\n",
    "import numpy as np\n",
    "import pandas as pd\n",
    "from textwrap import dedent\n",
    "import matplotlib.pyplot as plt\n",
    "import seaborn as sns\n",
    "from clan_tools.secrets.Vault import Vault\n",
    "from clan_tools.data_adapters.YTAdapter import YTAdapter\n",
    "from clan_tools.data_adapters.YQLAdapter import YQLAdapter"
   ]
  },
  {
   "cell_type": "code",
   "execution_count": 2,
   "id": "59d7ee7e",
   "metadata": {
    "ExecuteTime": {
     "end_time": "2021-08-28T18:09:38.238750Z",
     "start_time": "2021-08-28T18:09:38.183054Z"
    }
   },
   "outputs": [],
   "source": [
    "os.environ['NUMEXPR_MAX_THREADS'] = '16'\n",
    "Vault().get_secrets()\n",
    "yt_adapter = YTAdapter()\n",
    "yql_adapter = YQLAdapter()"
   ]
  },
  {
   "cell_type": "code",
   "execution_count": 3,
   "id": "24896d54",
   "metadata": {
    "ExecuteTime": {
     "end_time": "2021-08-28T18:43:45.366194Z",
     "start_time": "2021-08-28T18:09:38.241507Z"
    }
   },
   "outputs": [
    {
     "name": "stdout",
     "output_type": "stream",
     "text": [
      "train 0\n",
      "\tShape: (57914, 144)\n",
      "train 1\n",
      "\tShape: (58631, 144)\n",
      "train 2\n",
      "\tShape: (59637, 144)\n",
      "train 3\n",
      "\tShape: (60569, 144)\n",
      "train 4\n",
      "\tShape: (61231, 144)\n",
      "train 5\n",
      "\tShape: (61800, 144)\n",
      "train 6\n",
      "\tShape: (62593, 144)\n",
      "train 7\n",
      "\tShape: (63535, 144)\n",
      "test 0\n",
      "\tShape: (24542, 144)\n",
      "test 1\n",
      "\tShape: (24868, 144)\n",
      "test 2\n",
      "\tShape: (25264, 144)\n",
      "test 3\n",
      "\tShape: (25639, 144)\n",
      "test 4\n",
      "\tShape: (25924, 144)\n",
      "test 5\n",
      "\tShape: (26153, 144)\n",
      "test 6\n",
      "\tShape: (26460, 144)\n",
      "test 7\n",
      "\tShape: (26837, 144)\n",
      "oot 8\n",
      "\tShape: (27211, 144)\n",
      "oot 9\n",
      "\tShape: (27688, 144)\n"
     ]
    }
   ],
   "source": [
    "def week_nums_list(table):\n",
    "    df =  yql_adapter.execute_query(dedent(f\"\"\"\n",
    "        SELECT DISTINCT br_week_num\n",
    "        FROM hahn.`home/cloud_analytics/ml/scoring/trial_to_paid/tables/samples/{table}`\n",
    "        ORDER BY br_week_num\n",
    "    \"\"\"), to_pandas=True)\n",
    "    return df.values.ravel()\n",
    "\n",
    "def req(week_num, table):\n",
    "    return dedent(f\"\"\"\n",
    "        SELECT *\n",
    "        FROM hahn.`home/cloud_analytics/ml/scoring/trial_to_paid/tables/samples/{table}`\n",
    "        WHERE br_week_num = {week_num}\n",
    "    \"\"\")\n",
    "\n",
    "for table in ['train', 'test', 'oot']:\n",
    "    week_nums = week_nums_list(table)\n",
    "    for week_num in week_nums:\n",
    "        print(table, week_num)\n",
    "        df =  yql_adapter.execute_query(req(week_num, table), to_pandas=True)\n",
    "        print('\\tShape:', df.shape)\n",
    "        df.to_pickle(f'Sample/{table}_{week_num}.pkl')"
   ]
  },
  {
   "cell_type": "code",
   "execution_count": 4,
   "id": "d2eceda3",
   "metadata": {
    "ExecuteTime": {
     "end_time": "2021-08-28T18:44:11.119297Z",
     "start_time": "2021-08-28T18:43:45.369155Z"
    }
   },
   "outputs": [
    {
     "name": "stdout",
     "output_type": "stream",
     "text": [
      "train - (485910, 144)\n",
      "test - (205687, 144)\n",
      "oot - (54899, 144)\n"
     ]
    }
   ],
   "source": [
    "for table in  ['train', 'test', 'oot']:\n",
    "    files = []\n",
    "    for file in os.listdir('Sample'):\n",
    "        if file.find(table) < 0:\n",
    "            continue\n",
    "        files.append(pd.read_pickle(f'Sample/{file}'))\n",
    "    df = pd.concat(files, axis=0)\n",
    "    df = df.reset_index(drop=True)\n",
    "    print(table, '-', df.shape)\n",
    "    df.to_pickle(f'Final_sample/{table}.pkl')"
   ]
  },
  {
   "cell_type": "code",
   "execution_count": null,
   "id": "ffba77f9",
   "metadata": {},
   "outputs": [],
   "source": []
  },
  {
   "cell_type": "code",
   "execution_count": null,
   "id": "6f1e18b3",
   "metadata": {},
   "outputs": [],
   "source": []
  }
 ],
 "metadata": {
  "kernelspec": {
   "display_name": "Python37",
   "language": "python",
   "name": "python37"
  },
  "language_info": {
   "codemirror_mode": {
    "name": "ipython",
    "version": 3
   },
   "file_extension": ".py",
   "mimetype": "text/x-python",
   "name": "python",
   "nbconvert_exporter": "python",
   "pygments_lexer": "ipython3",
   "version": "3.7.5"
  },
  "varInspector": {
   "cols": {
    "lenName": 16,
    "lenType": 16,
    "lenVar": 40
   },
   "kernels_config": {
    "python": {
     "delete_cmd_postfix": "",
     "delete_cmd_prefix": "del ",
     "library": "var_list.py",
     "varRefreshCmd": "print(var_dic_list())"
    },
    "r": {
     "delete_cmd_postfix": ") ",
     "delete_cmd_prefix": "rm(",
     "library": "var_list.r",
     "varRefreshCmd": "cat(var_dic_list()) "
    }
   },
   "types_to_exclude": [
    "module",
    "function",
    "builtin_function_or_method",
    "instance",
    "_Feature"
   ],
   "window_display": false
  }
 },
 "nbformat": 4,
 "nbformat_minor": 5
}
