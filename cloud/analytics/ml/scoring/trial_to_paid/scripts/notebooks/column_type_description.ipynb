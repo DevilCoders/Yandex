{
 "cells": [
  {
   "cell_type": "code",
   "execution_count": 1,
   "metadata": {},
   "outputs": [],
   "source": [
    "%load_ext autoreload\n",
    "%autoreload 2\n",
    "import scipy.stats as sps\n",
    "from sklearn.model_selection import train_test_split\n",
    "import gc\n",
    "from sklearn.linear_model import LinearRegression\n",
    "from dateutil.parser import *\n",
    "import pandas as pd\n",
    "import numpy as np\n",
    "import os\n",
    "from collections import Counter\n",
    "import json\n",
    "import typing as tp\n",
    "from sklearn.preprocessing import normalize\n",
    "import my_library as lib\n",
    "from datetime import datetime\n",
    "import re\n",
    "import gensim\n",
    "import gensim as gen\n",
    "from gensim.test.utils import common_texts\n",
    "from gensim.models.doc2vec import Doc2Vec, TaggedDocument\n",
    "import ast"
   ]
  },
  {
   "cell_type": "code",
   "execution_count": null,
   "metadata": {},
   "outputs": [],
   "source": [
    "req = \"\"\"\n",
    "SELECT\n",
    "    type,\n",
    "    checker_function\n",
    "FROM \"//home/cloud_analytics/scoring_v2/data_tables/column_type_description\"\n",
    "FORMAT TabSeparatedWithNames\n",
    "\"\"\"\n",
    "type_df = lib.execute_query(req)"
   ]
  },
  {
   "cell_type": "code",
   "execution_count": 15,
   "metadata": {},
   "outputs": [],
   "source": [
    "numeric_checker = \"\"\"\n",
    "def numeric_checker(df, column):\n",
    "    df[column] = df[column].astype(float)\n",
    "    return True\n",
    "\"\"\""
   ]
  },
  {
   "cell_type": "code",
   "execution_count": 19,
   "metadata": {},
   "outputs": [],
   "source": [
    "binary_checker = \"\"\"\n",
    "def binary_checker(df, column):\n",
    "    df[column] = df[column].astype(int)\n",
    "    return set(df[column]) <= set([0, 1])\n",
    "\"\"\""
   ]
  },
  {
   "cell_type": "code",
   "execution_count": 20,
   "metadata": {},
   "outputs": [],
   "source": [
    "category_checker = \"\"\"\n",
    "def category_checker(df, column):\n",
    "    df[column] = df[column].astype(str)\n",
    "    return df[column].unique().shape[0] < 100\n",
    "\"\"\""
   ]
  },
  {
   "cell_type": "code",
   "execution_count": 36,
   "metadata": {},
   "outputs": [],
   "source": [
    "json_checker = \"\"\"\n",
    "def json_checker(df, column):\n",
    "    import ast\n",
    "    try:\n",
    "        df[column].apply(lambda x: ast.literal_eval(x.replace(\"\\\\\", \"\")))\n",
    "        return True\n",
    "    except Exception:\n",
    "        return False\n",
    "\"\"\"\n",
    "\n",
    "json_pct_checker = \"\"\"\n",
    "def json_pct_checker(df, column):\n",
    "    import ast\n",
    "    try:\n",
    "        df[column].apply(lambda x: ast.literal_eval(x.replace(\"\\\\\", \"\")))\n",
    "        return True\n",
    "    except Exception:\n",
    "        return False\n",
    "\"\"\""
   ]
  },
  {
   "cell_type": "code",
   "execution_count": 42,
   "metadata": {},
   "outputs": [],
   "source": [
    "binary_target_checker = \"\"\"\n",
    "def binary_target_checker(df, column):\n",
    "    df[column] = df[column].astype(int)\n",
    "    return set(df[column]) <= set([0, 1])\n",
    "\"\"\""
   ]
  },
  {
   "cell_type": "code",
   "execution_count": 43,
   "metadata": {},
   "outputs": [],
   "source": [
    "df = pd.DataFrame([\n",
    "    [\"numeric\", numeric_checker],\n",
    "    ['binary', binary_checker],\n",
    "    [\"category\", category_checker],\n",
    "    [\"json\", json_checker],\n",
    "    ['json_pct', json_pct_checker],\n",
    "    ['binary_target', binary_target_checker]\n",
    "], columns=[\"type\", \"checker_function\"])"
   ]
  },
  {
   "cell_type": "code",
   "execution_count": 44,
   "metadata": {},
   "outputs": [],
   "source": [
    "lib.save_table(\"column_type_description\", \n",
    "               \"//home/cloud_analytics/scoring_v2/data_tables\",\n",
    "               df)"
   ]
  },
  {
   "cell_type": "code",
   "execution_count": null,
   "metadata": {},
   "outputs": [],
   "source": []
  }
 ],
 "metadata": {
  "kernelspec": {
   "display_name": "Python 3",
   "language": "python",
   "name": "python3"
  },
  "language_info": {
   "codemirror_mode": {
    "name": "ipython",
    "version": 3
   },
   "file_extension": ".py",
   "mimetype": "text/x-python",
   "name": "python",
   "nbconvert_exporter": "python",
   "pygments_lexer": "ipython3",
   "version": "3.7.4"
  }
 },
 "nbformat": 4,
 "nbformat_minor": 2
}
