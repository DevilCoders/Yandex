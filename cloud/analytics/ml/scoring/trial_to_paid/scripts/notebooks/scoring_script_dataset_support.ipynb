{
 "cells": [
  {
   "cell_type": "code",
   "execution_count": 1,
   "metadata": {},
   "outputs": [
    {
     "name": "stderr",
     "output_type": "stream",
     "text": [
      "/home/lunin-dv/anaconda3/lib/python3.7/site-packages/statsmodels/tools/_testing.py:19: FutureWarning: pandas.util.testing is deprecated. Use the functions in the public API at pandas.testing instead.\n",
      "  import pandas.util.testing as tm\n"
     ]
    }
   ],
   "source": [
    "%load_ext autoreload\n",
    "%autoreload 2\n",
    "import scipy.stats as sps\n",
    "from sklearn.model_selection import train_test_split\n",
    "import gc\n",
    "from sklearn.linear_model import LinearRegression\n",
    "from dateutil.parser import *\n",
    "import pandas as pd\n",
    "import numpy as np\n",
    "import os\n",
    "from collections import Counter\n",
    "import json\n",
    "import typing as tp\n",
    "from sklearn.preprocessing import normalize\n",
    "import my_library as lib\n",
    "from datetime import datetime"
   ]
  },
  {
   "cell_type": "code",
   "execution_count": 2,
   "metadata": {},
   "outputs": [],
   "source": [
    "DAYS_TO_OBSERVE = 14\n",
    "EMPTY_TYPE = 'undefined'\n",
    "column_types = set()\n",
    "TABLE_NAME = 'support_table'"
   ]
  },
  {
   "cell_type": "code",
   "execution_count": 3,
   "metadata": {},
   "outputs": [],
   "source": [
    "def make_support_scoring_table():\n",
    "    req = f\"\"\"\n",
    "SELECT\n",
    "    billing_account_id,\n",
    "    count(*) as number_of_support_call,\n",
    "    scoring_date\n",
    "FROM (\n",
    "    SELECT\n",
    "        DISTINCT \n",
    "        cloud_id,\n",
    "        billing_account_id,\n",
    "        toDate(created_at) as created_time,\n",
    "        scoring_date\n",
    "    FROM \"//home/cloud/billing/exported-support-tables/tickets_prod\" as a\n",
    "    INNER JOIN (\n",
    "        SELECT\n",
    "            cloud_id,\n",
    "            billing_account_id,\n",
    "            addDays(toDate(MIN(first_first_trial_consumption_datetime)),\n",
    "            {DAYS_TO_OBSERVE}) as scoring_date\n",
    "        FROM \"//home/cloud_analytics/cubes/acquisition_cube/cube\"\n",
    "        WHERE event == 'ba_created'\n",
    "        AND billing_account_id != ''\n",
    "        AND cloud_id != ''\n",
    "        AND first_first_trial_consumption_datetime != '0000-00-00 00:00:00'\n",
    "        GROUP BY cloud_id, billing_account_id \n",
    "    ) as b\n",
    "    ON a.cloud_id == b.cloud_id\n",
    "    WHERE created_time < scoring_date\n",
    ")\n",
    "GROUP BY billing_account_id, scoring_date\n",
    "FORMAT TabSeparatedWithNames\n",
    "    \"\"\"\n",
    "    df = lib.execute_query(req)\n",
    "    df['number_of_support_call'] = df['number_of_support_call'].apply(\n",
    "        lambda x: '1' if x == 1 else 'many')\n",
    "    df['one_ore_more_support_call'] = [1 for _ in range(len(df))]\n",
    "    \n",
    "    column_types.add('one_ore_more_support_call:binary')\n",
    "    column_types.add('number_of_support_call:category')\n",
    "    \n",
    "    final_columns = [x.split(':')[0] for x in column_types]\n",
    "    assert set(df.columns) == set(final_columns + ['scoring_date', 'billing_account_id']), \\\n",
    "    str(set(df.columns) - set(final_columns + ['scoring_date', 'billing_account_id'])) +\\\n",
    "    \" not matched\"\n",
    "    return df"
   ]
  },
  {
   "cell_type": "code",
   "execution_count": 4,
   "metadata": {},
   "outputs": [],
   "source": [
    "def save_types(column_types):\n",
    "    rows = []\n",
    "    for column_type in column_types:\n",
    "        column, current_type = column_type.split(':')\n",
    "        rows.append([column, current_type, TABLE_NAME])\n",
    "    type_df = pd.DataFrame(np.matrix(rows), columns=['column_name', 'type',\n",
    "                                                     'table_name'])\n",
    "    lib.save_table('type_table', \"//home/cloud_analytics/scoring_v2/data_tables\", \n",
    "                   type_df, append=True)\n",
    "\n",
    "\n",
    "def add_table_to_model_to_observe():\n",
    "    tables_df = pd.DataFrame([TABLE_NAME], columns=['table_names'])\n",
    "    lib.save_table('table_names_for_scoring_model', \n",
    "               \"//home/cloud_analytics/scoring_v2/data_tables\", \n",
    "               tables_df, append=True)\n",
    "    \n",
    "\n",
    "def check_types_correspondence(df, column_types):\n",
    "    req = \"\"\"\n",
    "    SELECT\n",
    "        type,\n",
    "        checker_function\n",
    "    FROM \"//home/cloud_analytics/scoring_v2/data_tables/column_type_description\"\n",
    "    FORMAT TabSeparatedWithNames\n",
    "    \"\"\"\n",
    "    type_df = lib.execute_query(req)\n",
    "\n",
    "    checker_functions = {}\n",
    "    for func_str in type_df['checker_function']:\n",
    "        exec(func_str.replace(\"\\\\n\", '\\n'), checker_functions)\n",
    "    \n",
    "    assert len(df.columns) == len(column_types) + 2, \\\n",
    "    'difference in number of columns in dataframe and in column_types, '\n",
    "    f'{len(column_types) + 2 - len(df.columns)}'\n",
    "    \n",
    "    for column_type in column_types:\n",
    "        column, curr_type = column_type.split(\":\")\n",
    "        curr_function_name = curr_type.split(\"__\")[0]\n",
    "        if checker_functions.get(curr_function_name + \"_checker\") is None:\n",
    "            assert False, f\"no type {curr_function_name}\"\n",
    "        assert checker_functions[curr_function_name + \"_checker\"](df, column),\\\n",
    "        f'{curr_function_name} check failed for column {column}'\n",
    "        \n",
    "\n",
    "def save_all_results(df):\n",
    "    check_types_correspondence(df, column_types)\n",
    "    lib.save_table(TABLE_NAME, \"//home/cloud_analytics/scoring_v2/data_tables\", df)\n",
    "    save_types(column_types)\n",
    "    add_table_to_model_to_observe()"
   ]
  },
  {
   "cell_type": "code",
   "execution_count": 5,
   "metadata": {},
   "outputs": [],
   "source": [
    "support_df = make_support_scoring_table()"
   ]
  },
  {
   "cell_type": "code",
   "execution_count": 6,
   "metadata": {},
   "outputs": [],
   "source": [
    "save_all_results(support_df)"
   ]
  },
  {
   "cell_type": "code",
   "execution_count": null,
   "metadata": {},
   "outputs": [],
   "source": []
  }
 ],
 "metadata": {
  "kernelspec": {
   "display_name": "Python 3",
   "language": "python",
   "name": "python3"
  },
  "language_info": {
   "codemirror_mode": {
    "name": "ipython",
    "version": 3
   },
   "file_extension": ".py",
   "mimetype": "text/x-python",
   "name": "python",
   "nbconvert_exporter": "python",
   "pygments_lexer": "ipython3",
   "version": "3.7.4"
  }
 },
 "nbformat": 4,
 "nbformat_minor": 2
}
