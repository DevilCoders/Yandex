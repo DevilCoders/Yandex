{
 "cells": [
  {
   "cell_type": "code",
   "execution_count": 1,
   "id": "dce0d6cb",
   "metadata": {
    "ExecuteTime": {
     "end_time": "2021-12-22T22:06:34.691714Z",
     "start_time": "2021-12-22T22:06:30.835990Z"
    }
   },
   "outputs": [],
   "source": [
    "import sys\n",
    "sys.path.append(r\"/home/pavelvasilev/arc/arcadia/cloud/analytics/ml/mql_marketing\")\n",
    "from tqdm.notebook import tqdm\n",
    "# remove from prod code\n",
    "\n",
    "import os\n",
    "import numpy as np\n",
    "import pandas as pd\n",
    "import logging.config\n",
    "import matplotlib.pyplot as plt\n",
    "from datetime import datetime, timedelta\n",
    "from clan_tools.logging.logger import default_log_config\n",
    "from clan_tools.data_adapters.YTAdapter import YTAdapter\n",
    "from src.mql_marketing.utils import find_key_words, list_of_all_words, K_sorensen_levenstein\n",
    "\n",
    "logging.config.dictConfig(default_log_config)\n",
    "logger = logging.getLogger(__name__)\n",
    "\n",
    "\n",
    "pd.set_option('display.max_rows', 200)\n",
    "pd.set_option('display.max_columns', 250)\n",
    "os.environ['NUMEXPR_MAX_THREADS'] = '32'"
   ]
  },
  {
   "cell_type": "code",
   "execution_count": 2,
   "id": "ddc9b111",
   "metadata": {
    "ExecuteTime": {
     "end_time": "2021-12-22T22:06:35.057719Z",
     "start_time": "2021-12-22T22:06:34.695055Z"
    }
   },
   "outputs": [],
   "source": [
    "from clan_tools.secrets.Vault import Vault\n",
    "Vault().get_secrets()\n",
    "\n",
    "yt_adapter = YTAdapter()\n",
    "yt = yt_adapter.yt"
   ]
  },
  {
   "cell_type": "code",
   "execution_count": 3,
   "id": "711c960f",
   "metadata": {
    "ExecuteTime": {
     "end_time": "2021-12-22T22:06:35.064023Z",
     "start_time": "2021-12-22T22:06:35.060457Z"
    }
   },
   "outputs": [],
   "source": [
    "path_to_update = '//home/cloud_analytics/ml/mql_marketing/result/by_puids/2021-12-19'\n",
    "path_to_save = '//home/cloud_analytics/ml/mql_marketing/experiment/2021-12-19'\n",
    "path_to_keys = '//home/cloud_analytics/ml/mql_marketing/experiment/spark_company_keys'\n",
    "column_company_name = 'company_name'\n",
    "strength = 0.5"
   ]
  },
  {
   "cell_type": "code",
   "execution_count": 4,
   "id": "a73dab98",
   "metadata": {
    "ExecuteTime": {
     "end_time": "2021-12-22T22:06:35.112031Z",
     "start_time": "2021-12-22T22:06:35.066214Z"
    }
   },
   "outputs": [],
   "source": [
    "def add_spax_name(path_to_update: str,\n",
    "                  column_company_name: str,\n",
    "                  strength: float = 0.2,\n",
    "                  path_to_save: str = None,\n",
    "                  path_to_keys: str = '//home/cloud_analytics/ml/mql_marketing/result/company_names_mapping/spark_company_keys',\n",
    "                  verbose_amount: int = 20):\n",
    "\n",
    "    logger.info('Step 1. Loading table to update...')\n",
    "    df_update = yt_adapter.read_table(path_to_update)\n",
    "\n",
    "    logger.info('Step 2. Loading table with keys...')\n",
    "    df_keys = yt_adapter.read_table(path_to_keys)\n",
    "\n",
    "    logger.info('Step 3. Prepare data for looking keys...')\n",
    "    # name_keys\n",
    "    name_keys = df_update[[column_company_name]].drop_duplicates().copy()\n",
    "    name_keys['keys'] = name_keys[column_company_name].apply(find_key_words)\n",
    "    # name_keys_long\n",
    "    name_keys_long = []\n",
    "    for ind in name_keys.index:\n",
    "        for key in name_keys.loc[ind, 'keys']:\n",
    "            name_keys_long.append({\n",
    "                column_company_name: name_keys.loc[ind, column_company_name],\n",
    "                'key': key,\n",
    "                'ngram_keys': name_keys.loc[ind, 'keys'],\n",
    "                'word_keys': list_of_all_words(name_keys.loc[ind, column_company_name])\n",
    "            })\n",
    "    name_keys_long = pd.DataFrame(name_keys_long)\n",
    "\n",
    "    logger.info('Step 4. Calculating affinity scores...')\n",
    "    tdf = name_keys_long.merge(df_keys, on='key', how='inner')\n",
    "    logger.info(f' -> Total steps: {tdf.shape[0]}')\n",
    "    logging_steps = np.linspace(0, tdf.shape[0], verbose_amount+2).astype(int)[1:-1]\n",
    "    for ind in tdf.index:\n",
    "        tdf.loc[ind, 'score_1'] = K_sorensen_levenstein(tdf.loc[ind, 'ngram_keys'],\n",
    "                                                        tdf.loc[ind, 'spark_keys'])\n",
    "        tdf.loc[ind, 'score_2'] = K_sorensen_levenstein(tdf.loc[ind, 'word_keys'],\n",
    "                                                        tdf.loc[ind, 'one_word_spark_keys'])\n",
    "        if ind in logging_steps:\n",
    "            logger.info(f' -> Processed:   {ind}')\n",
    "\n",
    "    logger.info('Step 5. Search of best matchings...')\n",
    "    df_spax_found = []\n",
    "    logger.info(f' -> Total steps: {name_keys.shape[0]}')\n",
    "    logging_steps = np.linspace(0, name_keys.shape[0], verbose_amount+2).astype(int)[1:-1]\n",
    "    for ii, temp_name in enumerate(name_keys[column_company_name]):\n",
    "        temp_tdf = tdf[tdf[column_company_name]==temp_name]\n",
    "        score_1_max = temp_tdf['score_1'].max()\n",
    "        score_2_max = temp_tdf['score_2'].max()\n",
    "        temp_tdf = temp_tdf[(temp_tdf['score_1']==score_1_max) & (temp_tdf['score_2']==score_2_max)]\n",
    "        temp_tdf = temp_tdf[[column_company_name, 'spark_name', 'mal_name', 'inn']].drop_duplicates()\n",
    "        if (temp_tdf.shape[0] == 1) and (score_2_max >= strength) and ((score_1_max+score_2_max)>=1.0):\n",
    "            df_spax_found.append(temp_tdf)\n",
    "        if ii in logging_steps:\n",
    "            logger.info(f' -> Processed:   {ii}')\n",
    "\n",
    "    df_spax_found = pd.concat(df_spax_found, axis=0, ignore_index=True)\n",
    "    result = df_update.merge(df_spax_found, on=column_company_name, how='left')\n",
    "\n",
    "    logger.info('Step 6. Save results...')\n",
    "    yt_schema = yt_adapter.get_pandas_default_schema(result)\n",
    "    if path_to_save is None:\n",
    "        yt_adapter.yt.remove(path_to_update)\n",
    "        yt_adapter.save_result(result_path=path_to_update, schema=yt_schema, df=result, append=False)\n",
    "    else:\n",
    "        yt_adapter.save_result(result_path=path_to_save, schema=yt_schema, df=result, append=False)\n",
    "    return result"
   ]
  },
  {
   "cell_type": "code",
   "execution_count": null,
   "id": "afc03707",
   "metadata": {
    "ExecuteTime": {
     "start_time": "2021-12-22T22:06:30.845Z"
    }
   },
   "outputs": [
    {
     "name": "stdout",
     "output_type": "stream",
     "text": [
      "2021-12-23 01:06:35,176 - __main__: [INFO]: Step 1. Loading table to update...\n",
      "2021-12-23 01:06:37,804 - __main__: [INFO]: Step 2. Loading table with keys...\n",
      "2021-12-23 01:08:23,177 - __main__: [INFO]: Step 3. Prepare data for looking keys...\n",
      "2021-12-23 01:08:29,746 - __main__: [INFO]: Step 4. Calculating affinity scores...\n",
      "2021-12-23 01:08:37,168 - __main__: [INFO]:  -> Total steps: 269888\n",
      "2021-12-23 01:09:39,970 - __main__: [INFO]:  -> Processed:   12851\n",
      "2021-12-23 01:10:44,050 - __main__: [INFO]:  -> Processed:   25703\n",
      "2021-12-23 01:11:48,163 - __main__: [INFO]:  -> Processed:   38555\n",
      "2021-12-23 01:12:50,264 - __main__: [INFO]:  -> Processed:   51407\n",
      "2021-12-23 01:13:55,376 - __main__: [INFO]:  -> Processed:   64259\n",
      "2021-12-23 01:14:58,931 - __main__: [INFO]:  -> Processed:   77110\n",
      "2021-12-23 01:16:00,884 - __main__: [INFO]:  -> Processed:   89962\n",
      "2021-12-23 01:17:01,426 - __main__: [INFO]:  -> Processed:   102814\n",
      "2021-12-23 01:18:06,296 - __main__: [INFO]:  -> Processed:   115666\n",
      "2021-12-23 01:19:15,791 - __main__: [INFO]:  -> Processed:   128518\n",
      "2021-12-23 01:20:26,862 - __main__: [INFO]:  -> Processed:   141369\n",
      "2021-12-23 01:21:36,401 - __main__: [INFO]:  -> Processed:   154221\n",
      "2021-12-23 01:22:42,401 - __main__: [INFO]:  -> Processed:   167073\n",
      "2021-12-23 01:23:46,196 - __main__: [INFO]:  -> Processed:   179925\n",
      "2021-12-23 01:24:50,921 - __main__: [INFO]:  -> Processed:   192777\n",
      "2021-12-23 01:25:58,891 - __main__: [INFO]:  -> Processed:   205628\n",
      "2021-12-23 01:27:05,018 - __main__: [INFO]:  -> Processed:   218480\n",
      "2021-12-23 01:28:13,698 - __main__: [INFO]:  -> Processed:   231332\n",
      "2021-12-23 01:29:21,643 - __main__: [INFO]:  -> Processed:   244184\n",
      "2021-12-23 01:30:32,135 - __main__: [INFO]:  -> Processed:   257036\n",
      "2021-12-23 01:31:41,276 - __main__: [INFO]: Step 5. Search of best matchings...\n",
      "2021-12-23 01:31:41,277 - __main__: [INFO]:  -> Total steps: 21981\n",
      "2021-12-23 01:32:04,137 - __main__: [INFO]:  -> Processed:   1046\n",
      "2021-12-23 01:32:26,543 - __main__: [INFO]:  -> Processed:   2093\n",
      "2021-12-23 01:32:49,068 - __main__: [INFO]:  -> Processed:   3140\n",
      "2021-12-23 01:33:11,236 - __main__: [INFO]:  -> Processed:   4186\n",
      "2021-12-23 01:33:33,147 - __main__: [INFO]:  -> Processed:   5233\n",
      "2021-12-23 01:33:55,257 - __main__: [INFO]:  -> Processed:   6280\n",
      "2021-12-23 01:34:18,102 - __main__: [INFO]:  -> Processed:   7327\n",
      "2021-12-23 01:34:39,859 - __main__: [INFO]:  -> Processed:   8373\n",
      "2021-12-23 01:35:01,904 - __main__: [INFO]:  -> Processed:   9420\n",
      "2021-12-23 01:35:24,499 - __main__: [INFO]:  -> Processed:   10467\n",
      "2021-12-23 01:35:46,702 - __main__: [INFO]:  -> Processed:   11513\n",
      "2021-12-23 01:36:09,770 - __main__: [INFO]:  -> Processed:   12560\n",
      "2021-12-23 01:36:32,353 - __main__: [INFO]:  -> Processed:   13607\n",
      "2021-12-23 01:36:54,752 - __main__: [INFO]:  -> Processed:   14654\n",
      "2021-12-23 01:37:17,257 - __main__: [INFO]:  -> Processed:   15700\n",
      "2021-12-23 01:37:39,776 - __main__: [INFO]:  -> Processed:   16747\n",
      "2021-12-23 01:38:02,118 - __main__: [INFO]:  -> Processed:   17794\n",
      "2021-12-23 01:38:23,948 - __main__: [INFO]:  -> Processed:   18840\n",
      "2021-12-23 01:38:46,514 - __main__: [INFO]:  -> Processed:   19887\n",
      "2021-12-23 01:39:08,982 - __main__: [INFO]:  -> Processed:   20934\n",
      "2021-12-23 01:39:32,537 - __main__: [INFO]: Step 6. Save results...\n",
      "2021-12-23 01:39:32,766 - clan_tools.data_adapters.YTAdapter: [INFO]: Saving data to //home/cloud_analytics/ml/mql_marketing/experiment/2021-12-19\n"
     ]
    }
   ],
   "source": [
    "result = add_spax_name(path_to_update=path_to_update,\n",
    "                       column_company_name=column_company_name,\n",
    "                       strength=strength,\n",
    "                       path_to_save=path_to_save,\n",
    "                       path_to_keys=path_to_keys)"
   ]
  },
  {
   "cell_type": "code",
   "execution_count": null,
   "id": "74e04ea1",
   "metadata": {},
   "outputs": [],
   "source": []
  },
  {
   "cell_type": "code",
   "execution_count": null,
   "id": "8d2a1339",
   "metadata": {},
   "outputs": [],
   "source": []
  },
  {
   "cell_type": "code",
   "execution_count": null,
   "id": "2153bb10",
   "metadata": {},
   "outputs": [],
   "source": []
  },
  {
   "cell_type": "code",
   "execution_count": null,
   "id": "aff17518",
   "metadata": {},
   "outputs": [],
   "source": []
  }
 ],
 "metadata": {
  "kernelspec": {
   "display_name": "Python37",
   "language": "python",
   "name": "python37"
  },
  "language_info": {
   "codemirror_mode": {
    "name": "ipython",
    "version": 3
   },
   "file_extension": ".py",
   "mimetype": "text/x-python",
   "name": "python",
   "nbconvert_exporter": "python",
   "pygments_lexer": "ipython3",
   "version": "3.7.5"
  },
  "varInspector": {
   "cols": {
    "lenName": 16,
    "lenType": 16,
    "lenVar": 40
   },
   "kernels_config": {
    "python": {
     "delete_cmd_postfix": "",
     "delete_cmd_prefix": "del ",
     "library": "var_list.py",
     "varRefreshCmd": "print(var_dic_list())"
    },
    "r": {
     "delete_cmd_postfix": ") ",
     "delete_cmd_prefix": "rm(",
     "library": "var_list.r",
     "varRefreshCmd": "cat(var_dic_list()) "
    }
   },
   "types_to_exclude": [
    "module",
    "function",
    "builtin_function_or_method",
    "instance",
    "_Feature"
   ],
   "window_display": false
  }
 },
 "nbformat": 4,
 "nbformat_minor": 5
}
