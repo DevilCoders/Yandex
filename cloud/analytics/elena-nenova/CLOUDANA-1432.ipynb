{
 "cells": [
  {
   "cell_type": "code",
   "execution_count": 1,
   "metadata": {},
   "outputs": [],
   "source": [
    "from dateutil.parser import *\n",
    "import pandas as pd\n",
    "\n",
    "from clan_tools.data_adapters.YQLAdapter import YQLAdapter\n",
    "yql_adapter = YQLAdapter()\n",
    "\n",
    "from clan_tools.data_adapters.ClickHouseYTAdapter import ClickHouseYTAdapter\n",
    "ch_adapter = ClickHouseYTAdapter()\n",
    "\n",
    "from clan_tools.data_adapters.YTAdapter import YTAdapter\n",
    "yt_adapter = YTAdapter()"
   ]
  },
  {
   "cell_type": "code",
   "execution_count": 2,
   "metadata": {},
   "outputs": [],
   "source": [
    "query = \"\"\"SELECT \n",
    "            cube.billing_account_id AS billing_account_id,\n",
    "            SUM(real_consumption) AS real_consumption_mdb,\n",
    "            SUM(trial_consumption) AS trial_consumption_mdb\n",
    "        FROM\n",
    "        (SELECT \n",
    "            distinct billing_account_id\n",
    "            FROM `//home/cloud_analytics/cubes/acquisition_cube/cube`\n",
    "            WHERE \n",
    "                event = 'cloud_created' --'ba_created'\n",
    "                AND event_time>='2020-09-01'\n",
    "                AND event_time<'2021-03-01'\n",
    "                AND segment_actual IN ('Mass', 'Medium')) AS ba\n",
    "        INNER JOIN `//home/cloud_analytics/cubes/acquisition_cube/cube` AS cube ON cube.billing_account_id = ba.billing_account_id\n",
    "        WHERE\n",
    "            service_name = 'mdb'\n",
    "            AND event = 'day_use'\n",
    "            AND cube.billing_account_id NOT IN (SELECT ba_id FROM `//home/cloud_analytics/kulaga/oppty_cube`)\n",
    "        GROUP BY \n",
    "            billing_account_id\n",
    "\"\"\"\n",
    "\n",
    "df_mdb = ch_adapter.execute_query(query, to_pandas=True)\n",
    "\n",
    "\n",
    "query = \"\"\"SELECT \n",
    "            cube.billing_account_id AS billing_account_id,\n",
    "            SUM(real_consumption)+SUM(trial_consumption) AS all_consumption_compute\n",
    "        FROM\n",
    "        (SELECT \n",
    "            distinct billing_account_id\n",
    "            FROM `//home/cloud_analytics/cubes/acquisition_cube/cube`\n",
    "            WHERE \n",
    "                event = 'cloud_created' --'ba_created'\n",
    "                AND event_time>='2020-09-01'\n",
    "                AND event_time<'2021-03-01'\n",
    "                AND segment_actual IN ('Mass', 'Medium')) AS ba\n",
    "        INNER JOIN `//home/cloud_analytics/cubes/acquisition_cube/cube` AS cube ON cube.billing_account_id = ba.billing_account_id\n",
    "        WHERE\n",
    "            service_name = 'compute'\n",
    "            AND event = 'day_use'\n",
    "            AND cube.billing_account_id NOT IN (SELECT ba_id FROM `//home/cloud_analytics/kulaga/oppty_cube`)\n",
    "        GROUP BY \n",
    "            billing_account_id\n",
    "\"\"\"\n",
    "\n",
    "df_compute = ch_adapter.execute_query(query, to_pandas=True)\n"
   ]
  },
  {
   "cell_type": "code",
   "execution_count": 3,
   "metadata": {},
   "outputs": [],
   "source": [
    "df = pd.merge(df_compute, df_mdb, how='outer', on='billing_account_id')\n",
    "df.fillna(0, inplace=True)\n",
    "\n",
    "df.loc[(df.all_consumption_compute>0) &\n",
    "  (df.real_consumption_mdb==0 )&\n",
    "  (df.trial_consumption_mdb==0 ), 'list1'] = 1\n",
    "\n",
    "df.loc[(df.real_consumption_mdb==0 )&\n",
    "  (df.trial_consumption_mdb>0 ), 'list2'] = 1\n",
    "\n",
    "df.fillna(0, inplace=True)"
   ]
  },
  {
   "cell_type": "code",
   "execution_count": 4,
   "metadata": {},
   "outputs": [],
   "source": []
  },
  {
   "cell_type": "code",
   "execution_count": 13,
   "metadata": {
    "scrolled": false
   },
   "outputs": [],
   "source": [
    "df.list1 = df.list1.astype('int')\n",
    "df.list2 = df.list2.astype('int')\n",
    "\n",
    "df_schema = [\n",
    "            {\"name\": \"billing_account_id\", \"type\": \"string\"},\n",
    "            {\"name\": \"all_consumption_compute\", \"type\": \"double\"},\n",
    "            {\"name\": \"real_consumption_mdb\", \"type\": \"double\"},\n",
    "            {\"name\": \"trial_consumption_mdb\", \"type\": \"double\"},\n",
    "            {\"name\": \"list1\", \"type\": \"int64\"},\n",
    "            {\"name\": \"list2\", \"type\": \"int64\"},\n",
    "]\n",
    "    \n",
    "yt_adapter.save_result('//home/cloud_analytics/elena-nenova/CLOUDANA-1432/list', \n",
    "                        df=df,\n",
    "                        schema=df_schema,\n",
    "                        append=False\n",
    "                        )"
   ]
  },
  {
   "cell_type": "code",
   "execution_count": null,
   "metadata": {},
   "outputs": [],
   "source": []
  }
 ],
 "metadata": {
  "kernelspec": {
   "display_name": "Python 3",
   "language": "python",
   "name": "python3"
  },
  "language_info": {
   "codemirror_mode": {
    "name": "ipython",
    "version": 3
   },
   "file_extension": ".py",
   "mimetype": "text/x-python",
   "name": "python",
   "nbconvert_exporter": "python",
   "pygments_lexer": "ipython3",
   "version": "3.8.3"
  }
 },
 "nbformat": 4,
 "nbformat_minor": 4
}
