{
 "cells": [
  {
   "cell_type": "code",
   "execution_count": 1,
   "metadata": {},
   "outputs": [],
   "source": [
    "# Tokens for connection to different services\n",
    "from clan_tools.secrets.Vault import Vault\n",
    "Vault().get_secrets()\n",
    "\n",
    "# Connector to YT by ClickHouse\n",
    "from clan_tools.data_adapters.ClickHouseYTAdapter import ClickHouseYTAdapter\n",
    "ch_adapter = ClickHouseYTAdapter()\n",
    "\n",
    "# Connector to YT\n",
    "from clan_tools.data_adapters.YTAdapter import YTAdapter\n",
    "yt_adapter = YTAdapter()\n",
    "\n",
    "import numpy as np\n",
    "import itertools as itert\n",
    "import pandas as pd"
   ]
  },
  {
   "cell_type": "code",
   "execution_count": 2,
   "metadata": {},
   "outputs": [],
   "source": [
    "dm_yc_cons_path = '\\\"//home/cloud-dwh/data/prod/cdm/dm_yc_consumption\\\"'"
   ]
  },
  {
   "cell_type": "code",
   "execution_count": 3,
   "metadata": {},
   "outputs": [],
   "source": [
    "service_name_sql = '''\n",
    "    select\n",
    "        sku_service_group as service_group\n",
    "    from\n",
    "        {table_path}\n",
    "    group by\n",
    "        sku_service_group\n",
    "'''.format(table_path=dm_yc_cons_path)\n",
    "\n",
    "service_group_arr = ch_adapter.execute_query(query=service_name_sql, to_pandas=True).service_group.values\n",
    "service_group_arr = service_group_arr[service_group_arr != None]"
   ]
  },
  {
   "cell_type": "code",
   "execution_count": 4,
   "metadata": {},
   "outputs": [
    {
     "data": {
      "text/plain": [
       "array(['Kubernetes', 'Support', 'Professional Services',\n",
       "       'Business & Dev Tools', 'ML and AI', 'Serverless', 'Marketplace',\n",
       "       'Adjustments', 'Data Storage and Analytics', 'Infrastructure'],\n",
       "      dtype=object)"
      ]
     },
     "execution_count": 4,
     "metadata": {},
     "output_type": "execute_result"
    }
   ],
   "source": [
    "service_group_arr"
   ]
  },
  {
   "cell_type": "code",
   "execution_count": 5,
   "metadata": {},
   "outputs": [],
   "source": [
    "service_groups_combanations = []\n",
    "\n",
    "for size in range(1, len(service_group_arr) + 1):\n",
    "    service_groups_combanations = \\\n",
    "        service_groups_combanations + \\\n",
    "        [\n",
    "            (', '.join(combination), len(combination))\n",
    "            for combination in itert.combinations(service_group_arr, size)\n",
    "        ]\n",
    "\n",
    "df_service_groups_combanations = pd.DataFrame(data=service_groups_combanations, columns=['service_groups_combanations', 'service_groups_num'])"
   ]
  },
  {
   "cell_type": "code",
   "execution_count": 6,
   "metadata": {},
   "outputs": [
    {
     "data": {
      "text/html": [
       "<div>\n",
       "<style scoped>\n",
       "    .dataframe tbody tr th:only-of-type {\n",
       "        vertical-align: middle;\n",
       "    }\n",
       "\n",
       "    .dataframe tbody tr th {\n",
       "        vertical-align: top;\n",
       "    }\n",
       "\n",
       "    .dataframe thead th {\n",
       "        text-align: right;\n",
       "    }\n",
       "</style>\n",
       "<table border=\"1\" class=\"dataframe\">\n",
       "  <thead>\n",
       "    <tr style=\"text-align: right;\">\n",
       "      <th></th>\n",
       "      <th>service_groups_combanations</th>\n",
       "      <th>service_groups_num</th>\n",
       "    </tr>\n",
       "  </thead>\n",
       "  <tbody>\n",
       "    <tr>\n",
       "      <th>0</th>\n",
       "      <td>Kubernetes</td>\n",
       "      <td>1</td>\n",
       "    </tr>\n",
       "    <tr>\n",
       "      <th>1</th>\n",
       "      <td>Support</td>\n",
       "      <td>1</td>\n",
       "    </tr>\n",
       "    <tr>\n",
       "      <th>2</th>\n",
       "      <td>Professional Services</td>\n",
       "      <td>1</td>\n",
       "    </tr>\n",
       "    <tr>\n",
       "      <th>3</th>\n",
       "      <td>Business &amp; Dev Tools</td>\n",
       "      <td>1</td>\n",
       "    </tr>\n",
       "    <tr>\n",
       "      <th>4</th>\n",
       "      <td>ML and AI</td>\n",
       "      <td>1</td>\n",
       "    </tr>\n",
       "    <tr>\n",
       "      <th>...</th>\n",
       "      <td>...</td>\n",
       "      <td>...</td>\n",
       "    </tr>\n",
       "    <tr>\n",
       "      <th>1018</th>\n",
       "      <td>Kubernetes, Support, Professional Services, ML...</td>\n",
       "      <td>9</td>\n",
       "    </tr>\n",
       "    <tr>\n",
       "      <th>1019</th>\n",
       "      <td>Kubernetes, Support, Business &amp; Dev Tools, ML ...</td>\n",
       "      <td>9</td>\n",
       "    </tr>\n",
       "    <tr>\n",
       "      <th>1020</th>\n",
       "      <td>Kubernetes, Professional Services, Business &amp; ...</td>\n",
       "      <td>9</td>\n",
       "    </tr>\n",
       "    <tr>\n",
       "      <th>1021</th>\n",
       "      <td>Support, Professional Services, Business &amp; Dev...</td>\n",
       "      <td>9</td>\n",
       "    </tr>\n",
       "    <tr>\n",
       "      <th>1022</th>\n",
       "      <td>Kubernetes, Support, Professional Services, Bu...</td>\n",
       "      <td>10</td>\n",
       "    </tr>\n",
       "  </tbody>\n",
       "</table>\n",
       "<p>1023 rows × 2 columns</p>\n",
       "</div>"
      ],
      "text/plain": [
       "                            service_groups_combanations  service_groups_num\n",
       "0                                            Kubernetes                   1\n",
       "1                                               Support                   1\n",
       "2                                 Professional Services                   1\n",
       "3                                  Business & Dev Tools                   1\n",
       "4                                             ML and AI                   1\n",
       "...                                                 ...                 ...\n",
       "1018  Kubernetes, Support, Professional Services, ML...                   9\n",
       "1019  Kubernetes, Support, Business & Dev Tools, ML ...                   9\n",
       "1020  Kubernetes, Professional Services, Business & ...                   9\n",
       "1021  Support, Professional Services, Business & Dev...                   9\n",
       "1022  Kubernetes, Support, Professional Services, Bu...                  10\n",
       "\n",
       "[1023 rows x 2 columns]"
      ]
     },
     "execution_count": 6,
     "metadata": {},
     "output_type": "execute_result"
    }
   ],
   "source": [
    "df_service_groups_combanations\n"
   ]
  },
  {
   "cell_type": "code",
   "execution_count": 8,
   "metadata": {},
   "outputs": [],
   "source": [
    "df_schema = [\n",
    "    {\"name\": \"service_groups_combanations\", \"type\": \"string\"},\n",
    "    {\"name\": \"service_groups_num\", \"type\": \"int64\"}\n",
    "]\n",
    "\n",
    "yt_adapter.save_result(\n",
    "    result_path='//home/cloud_analytics/data_swamp/projects/service_groups_penetration/service_group_combinations',\n",
    "    df=df_service_groups_combanations,\n",
    "    schema=df_schema,\n",
    "    append=False\n",
    ")"
   ]
  },
  {
   "cell_type": "code",
   "execution_count": null,
   "metadata": {},
   "outputs": [],
   "source": []
  }
 ],
 "metadata": {
  "interpreter": {
   "hash": "59243a0047295b4da0c7e79dc1fc2175e92baa3fafacc8e83183f3a5cf97f82f"
  },
  "kernelspec": {
   "display_name": "Python 3.7.11 64-bit ('python37_2': conda)",
   "name": "python3"
  },
  "language_info": {
   "codemirror_mode": {
    "name": "ipython",
    "version": 3
   },
   "file_extension": ".py",
   "mimetype": "text/x-python",
   "name": "python",
   "nbconvert_exporter": "python",
   "pygments_lexer": "ipython3",
   "version": "3.7.11"
  },
  "orig_nbformat": 4
 },
 "nbformat": 4,
 "nbformat_minor": 2
}
