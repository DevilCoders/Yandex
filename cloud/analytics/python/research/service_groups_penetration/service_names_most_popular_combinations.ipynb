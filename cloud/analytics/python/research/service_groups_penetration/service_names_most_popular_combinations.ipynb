{
 "cells": [
  {
   "cell_type": "code",
   "execution_count": 52,
   "metadata": {},
   "outputs": [],
   "source": [
    "# Tokens for connection to different services\n",
    "from clan_tools.secrets.Vault import Vault\n",
    "Vault().get_secrets()\n",
    "\n",
    "# Connector to YT by ClickHouse\n",
    "from clan_tools.data_adapters.ClickHouseYTAdapter import ClickHouseYTAdapter\n",
    "ch_adapter = ClickHouseYTAdapter()\n",
    "\n",
    "# Connector to YT\n",
    "from clan_tools.data_adapters.YTAdapter import YTAdapter\n",
    "yt_adapter = YTAdapter()\n",
    "\n",
    "import numpy as np\n",
    "import itertools as itert\n",
    "import pandas as pd"
   ]
  },
  {
   "cell_type": "code",
   "execution_count": 72,
   "metadata": {},
   "outputs": [],
   "source": [
    "dm_yc_cons_path = '\\\"//home/cloud-dwh/data/prod/cdm/dm_yc_consumption\\\"'\n",
    "ba_id_with_service_name_path = '\\\"//home/cloud_analytics/data_swamp/projects/service_groups_penetration/ba_with_service_name_20220101_wo_c\\\"'\n",
    "# Used ((https://yql.yandex-team.ru/Operations/Ygvxe9JwbE55RtLyWrOm9iknGXa0klUB7D2abClyp7Q= this)) to make ba_id_with_service_name \n",
    "service_name_sql = '''\n",
    "    if(\n",
    "        sku_service_name in ('cloud_ai', 'mdb'),\n",
    "        concat(sku_service_name, ' - ', sku_subservice_name),\n",
    "        sku_service_name\n",
    "    )\n",
    "'''"
   ]
  },
  {
   "cell_type": "code",
   "execution_count": 70,
   "metadata": {},
   "outputs": [],
   "source": [
    "service_name_sql = '''\n",
    "    select\n",
    "        {service_name} as service_name\n",
    "    from\n",
    "        {table_path}\n",
    "    where\n",
    "        sku_service_group not in ('Adjustments', 'Support')\n",
    "    group by\n",
    "        service_name\n",
    "'''.format(table_path=dm_yc_cons_path, service_name=service_name_sql)\n",
    "\n",
    "service_name_arr = ch_adapter.execute_query(query=service_name_sql, to_pandas=True).service_name.values\n",
    "service_name_arr = service_name_arr[service_name_arr != None]"
   ]
  },
  {
   "cell_type": "code",
   "execution_count": 71,
   "metadata": {},
   "outputs": [
    {
     "name": "stdout",
     "output_type": "stream",
     "text": [
      "['storage' 'mdb - dataproc' 'cloud_ai - mt' 'cloud_ai - subscription'\n",
      " 'mdb - postgres' 'managed-gitlab' 'kms' 'cloud_ai - vision' 'yds'\n",
      " 'cloud_ai - locator' 'mdb - network_ssd' 'mdb - mysql' 'cloud_network'\n",
      " 'mk8s' 'mdb - clickhouse' 'ymq' 'dns' 'mdb - mssql' 'datalens'\n",
      " 'monitoring' 'api-gateway' 'professional-services' 'mdb - public_ip'\n",
      " 'mdb - redis' 'cr' 'tracker' 'cloud_ai - datasphere' 'alb'\n",
      " 'cloud_ai - adjustment' 'cloud_ai - speech' 'ydb' 'mdb - kafka'\n",
      " 'marketplace' 'nlb' 'mdb - local_ssd' 'serverless' 'compute' 'iot' 'cdn'\n",
      " 'mdb - greenplum' 'mdb - mongo' 'mdb - elasticsearch']\n",
      "42\n"
     ]
    }
   ],
   "source": [
    "print(service_name_arr)\n",
    "print(len(service_name_arr))"
   ]
  },
  {
   "cell_type": "code",
   "execution_count": 66,
   "metadata": {},
   "outputs": [],
   "source": [
    "\n",
    "popular_service_combination_df = pd.DataFrame(columns=['service_name', 'ba_count'])\n",
    "popular_service_name_combination = ''\n",
    "\n",
    "for service_count in range(len(service_name_arr)):\n",
    "# for service_count in range(10):\n",
    "    service_name_combination_sql = '''\n",
    "        select\n",
    "            concat('{popular_service_name}', ',', service_name) as service_name_combination\n",
    "        from(\n",
    "            select\n",
    "                {service_name} as service_name\n",
    "            from\n",
    "                {table_path}\n",
    "            where\n",
    "                sku_service_group not in ('Adjustments', 'Support')\n",
    "            group by\n",
    "                service_name\n",
    "        )\n",
    "        where\n",
    "            position('{popular_service_name}', service_name) = 0\n",
    "    '''.format(table_path=dm_yc_cons_path, popular_service_name=popular_service_name_combination, service_name=service_name_sql)\n",
    "\n",
    "    popular_service_name_sql = '''\n",
    "        select\n",
    "            argMax(service_name_combination, ba_c) as service_name,\n",
    "            max(ba_c) as ba_count\n",
    "        from(\n",
    "            select\n",
    "                service_name_combination,\n",
    "                count(distinct\n",
    "                    if(\n",
    "                        position(service_name_combination, service_name) != 0,\n",
    "                        billing_account_id,\n",
    "                        '-1'\n",
    "                    )\n",
    "                ) - 1 as ba_c\n",
    "            from {ba_id_with_service_name} as ba_id\n",
    "                cross join ({service_name_combination}) as combination\n",
    "                group by\n",
    "                    service_name_combination\n",
    "        )\n",
    "    '''.format(\n",
    "        table_path=dm_yc_cons_path, \n",
    "        service_name_combination=service_name_combination_sql, \n",
    "        service_name=service_name_sql, \n",
    "        ba_id_with_service_name=ba_id_with_service_name_path\n",
    "    )\n",
    "# print(popular_service_name_sql)\n",
    "\n",
    "    new_popular_service_name_df = ch_adapter.execute_query(query=popular_service_name_sql, to_pandas=True)\n",
    "    popular_service_name_combination = new_popular_service_name_df.service_name.values[0]\n",
    "    popular_service_combination_df = pd.concat([popular_service_combination_df, new_popular_service_name_df], ignore_index=True)\n"
   ]
  },
  {
   "cell_type": "code",
   "execution_count": null,
   "metadata": {},
   "outputs": [],
   "source": []
  },
  {
   "cell_type": "code",
   "execution_count": 68,
   "metadata": {},
   "outputs": [],
   "source": [
    "popular_service_combination_df_total = popular_service_combination_df"
   ]
  },
  {
   "cell_type": "code",
   "execution_count": null,
   "metadata": {},
   "outputs": [],
   "source": []
  }
 ],
 "metadata": {
  "interpreter": {
   "hash": "59243a0047295b4da0c7e79dc1fc2175e92baa3fafacc8e83183f3a5cf97f82f"
  },
  "kernelspec": {
   "display_name": "Python 3.7.11 64-bit ('python37_2': conda)",
   "name": "python3"
  },
  "language_info": {
   "codemirror_mode": {
    "name": "ipython",
    "version": 3
   },
   "file_extension": ".py",
   "mimetype": "text/x-python",
   "name": "python",
   "nbconvert_exporter": "python",
   "pygments_lexer": "ipython3",
   "version": "3.7.11"
  },
  "orig_nbformat": 4
 },
 "nbformat": 4,
 "nbformat_minor": 2
}
