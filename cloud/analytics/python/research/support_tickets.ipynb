{
 "cells": [
  {
   "cell_type": "code",
   "execution_count": 1,
   "metadata": {},
   "outputs": [
    {
     "name": "stdout",
     "output_type": "stream",
     "text": [
      "alembic==1.4.1\r\n",
      "appdirs==1.4.3\r\n",
      "asn1crypto==1.3.0\r\n",
      "astroid==2.3.3\r\n",
      "attrs==19.3.0\r\n",
      "autopep8==1.5\r\n",
      "backcall==0.1.0\r\n",
      "bleach==3.1.0\r\n",
      "bokeh==2.0.1\r\n",
      "cached-property==1.5.1\r\n",
      "catboost==0.22\r\n",
      "certifi==2019.11.28\r\n",
      "cffi==1.14.0\r\n",
      "chardet==3.0.4\r\n",
      "click==7.1.1\r\n",
      "cloudpickle==1.3.0\r\n",
      "conda==4.8.3\r\n",
      "conda-package-handling==1.6.0\r\n",
      "configparser==5.0.0\r\n",
      "cryptography==2.8\r\n",
      "cycler==0.10.0\r\n",
      "dask==2.13.0\r\n",
      "databricks-cli==0.9.1\r\n",
      "decorator==4.4.2\r\n",
      "defusedxml==0.6.0\r\n",
      "distributed==2.13.0\r\n",
      "docker==4.2.0\r\n",
      "entrypoints==0.3\r\n",
      "Flask==1.1.1\r\n",
      "fsspec==0.7.1\r\n",
      "gitdb==4.0.2\r\n",
      "GitPython==3.1.0\r\n",
      "gorilla==0.3.0\r\n",
      "graphviz==0.13.2\r\n",
      "gunicorn==20.0.4\r\n",
      "HeapDict==1.0.1\r\n",
      "idna==2.9\r\n",
      "imbalanced-learn==0.6.2\r\n",
      "importlib-metadata==1.5.0\r\n",
      "ipykernel==5.1.4\r\n",
      "ipython==7.13.0\r\n",
      "ipython-genutils==0.2.0\r\n",
      "ipywidgets==7.5.1\r\n",
      "isodate==0.6.0\r\n",
      "isort==4.3.21\r\n",
      "itsdangerous==1.1.0\r\n",
      "jedi==0.16.0\r\n",
      "Jinja2==2.11.1\r\n",
      "joblib==0.14.1\r\n",
      "jsonschema==3.2.0\r\n",
      "jupyter==1.0.0\r\n",
      "jupyter-client==6.0.0\r\n",
      "jupyter-console==6.1.0\r\n",
      "jupyter-core==4.6.1\r\n",
      "kiwisolver==1.1.0\r\n",
      "lazy-object-proxy==1.4.3\r\n",
      "llvmlite==0.31.0\r\n",
      "locket==0.2.0\r\n",
      "lxml==4.5.0\r\n",
      "Mako==1.1.2\r\n",
      "MarkupSafe==1.1.1\r\n",
      "matplotlib==3.2.1\r\n",
      "mccabe==0.6.1\r\n",
      "mistune==0.8.4\r\n",
      "mlflow==1.7.2\r\n",
      "msgpack==1.0.0\r\n",
      "nbconvert==5.6.1\r\n",
      "nbformat==5.0.4\r\n",
      "notebook==6.0.3\r\n",
      "numba==0.48.0\r\n",
      "numpy==1.18.2\r\n",
      "packaging==20.3\r\n",
      "pandas==1.0.3\r\n",
      "pandocfilters==1.4.2\r\n",
      "parso==0.6.2\r\n",
      "partd==1.1.0\r\n",
      "pexpect==4.8.0\r\n",
      "pickleshare==0.7.5\r\n",
      "Pillow==7.0.0\r\n",
      "plotly==4.6.0\r\n",
      "prometheus-client==0.7.1\r\n",
      "prometheus-flask-exporter==0.13.0\r\n",
      "prompt-toolkit==3.0.3\r\n",
      "protobuf==3.11.3\r\n",
      "psutil==5.7.0\r\n",
      "ptyprocess==0.6.0\r\n",
      "pycodestyle==2.5.0\r\n",
      "pycosat==0.6.3\r\n",
      "pycparser==2.19\r\n",
      "pydot==1.4.1\r\n",
      "Pygments==2.6.1\r\n",
      "pylint==2.4.4\r\n",
      "pyOpenSSL==19.1.0\r\n",
      "pyparsing==2.4.6\r\n",
      "pyrsistent==0.15.7\r\n",
      "PySocks==1.7.1\r\n",
      "python-dateutil==2.8.1\r\n",
      "python-editor==1.0.4\r\n",
      "pytz==2019.3\r\n",
      "PyYAML==5.3.1\r\n",
      "pyzmq==18.1.1\r\n",
      "qtconsole==4.7.1\r\n",
      "QtPy==1.9.0\r\n",
      "querystring-parser==1.2.4\r\n",
      "requests==2.23.0\r\n",
      "requests-toolbelt==0.9.1\r\n",
      "retrying==1.3.3\r\n",
      "rope==0.16.0\r\n",
      "ruamel-yaml==0.15.87\r\n",
      "scikit-learn==0.22.2\r\n",
      "scipy==1.4.1\r\n",
      "seaborn==0.10.0\r\n",
      "Send2Trash==1.5.0\r\n",
      "simplejson==3.17.0\r\n",
      "six==1.14.0\r\n",
      "smmap==3.0.1\r\n",
      "sortedcontainers==2.1.0\r\n",
      "SQLAlchemy==1.3.13\r\n",
      "sqlparse==0.3.1\r\n",
      "tabulate==0.8.7\r\n",
      "tblib==1.6.0\r\n",
      "terminado==0.8.3\r\n",
      "testpath==0.4.4\r\n",
      "toolz==0.10.0\r\n",
      "tornado==6.0.4\r\n",
      "tqdm==4.42.1\r\n",
      "traitlets==4.3.3\r\n",
      "typed-ast==1.4.1\r\n",
      "typing-extensions==3.7.4.1\r\n",
      "urllib3==1.25.8\r\n",
      "wcwidth==0.1.8\r\n",
      "webencodings==0.5.1\r\n",
      "websocket-client==0.57.0\r\n",
      "Werkzeug==1.0.0\r\n",
      "widgetsnbextension==3.5.1\r\n",
      "wrapt==1.11.2\r\n",
      "xgboost==1.0.2\r\n",
      "xmltodict==0.12.0\r\n",
      "yandex-tracker-client==1.7\r\n",
      "zeep==3.4.0\r\n",
      "zict==2.0.0\r\n",
      "zipp==2.2.0\r\n"
     ]
    }
   ],
   "source": [
    "!pip freeze"
   ]
  },
  {
   "cell_type": "code",
   "execution_count": 257,
   "metadata": {},
   "outputs": [
    {
     "data": {
      "application/javascript": [
       "IPython.notebook.set_autosave_interval(10000)"
      ]
     },
     "metadata": {},
     "output_type": "display_data"
    },
    {
     "name": "stdout",
     "output_type": "stream",
     "text": [
      "Autosaving every 10 seconds\n"
     ]
    }
   ],
   "source": [
    "%autosave 10\n",
    "import sys\n",
    "import pandas as pd\n",
    "from io import BytesIO\n",
    "import logging\n",
    "import datetime as dt\n",
    "import requests\n",
    "\n",
    "logger = logging.getLogger(__name__)\n",
    "\n",
    "\n",
    "def execute_query(query,\n",
    "                  token='',\n",
    "                  cluster='hahn',\n",
    "                  alias=\"*ch_public\",\n",
    "                  timeout=600):\n",
    "    '''Query to ClickHouse. Uses native ClickHouse Rest API'''\n",
    "    logger.info(\"Executing query: %s\", query)\n",
    "    proxy = \"http://{}.yt.yandex.net\".format(cluster)\n",
    "    session = requests.Session()\n",
    "    url = \"{proxy}/query?database={alias}&password={token}\".format(proxy=proxy,\n",
    "                                                                   alias=alias, token=token)\n",
    "    resp = session.post(url, data=query, timeout=timeout)\n",
    "    if resp.status_code != 200:\n",
    "        logger.error(\"Response status: %s\", resp.status_code)\n",
    "        logger.error(\"Response headers: %s\", resp.headers)\n",
    "        logger.error(\"Response content: %s\", resp.content)\n",
    "    resp.raise_for_status()\n",
    "    rows = resp.content.strip()\n",
    "    logger.info(\"Time spent: %s seconds, rows returned: %s\",\n",
    "                resp.elapsed.total_seconds(), len(rows))\n",
    "    return rows"
   ]
  },
  {
   "cell_type": "code",
   "execution_count": 4,
   "metadata": {},
   "outputs": [],
   "source": [
    "from os.path import expanduser, join\n",
    "\n",
    "\n",
    "\n",
    "def get_token(token_file_path='.yt/api_token', home_dir='~'):\n",
    "    '''Reads token from file'''\n",
    "    home = expanduser(home_dir)\n",
    "    with open(join(home, token_file_path), 'r') as tokenfile:\n",
    "        token = tokenfile.read()\n",
    "    return token\n"
   ]
  },
  {
   "cell_type": "code",
   "execution_count": 5,
   "metadata": {},
   "outputs": [],
   "source": [
    "token = get_token()"
   ]
  },
  {
   "cell_type": "code",
   "execution_count": 48,
   "metadata": {},
   "outputs": [],
   "source": [
    "tickets_per_month = execute_query('''\n",
    "    SELECT cloud_id, toStartOfMonth(created_at) as month, pay_type, count(st_key) as n_tickets\n",
    "    FROM\n",
    "        (SELECT DISTINCT cloud_id, toDateTime(created_at) created_at, st_key, pay_type\n",
    "        FROM \"//home/cloud/billing/exported-support-tables/tickets_prod\" \n",
    "        INNER JOIN \n",
    "            (SELECT task as st_key, pay_type\n",
    "            FROM \"//home/cloud_analytics/import/tracker/support_tasks\") sup_type \n",
    "            USING st_key) \n",
    "    WHERE isNotNull(cloud_id)\n",
    "    GROUP BY cloud_id, month, pay_type\n",
    " FORMAT CSVWithNames\n",
    "''', token)"
   ]
  },
  {
   "cell_type": "code",
   "execution_count": 258,
   "metadata": {},
   "outputs": [],
   "source": [
    "dateparse = lambda x: dt.datetime.strptime(x, '%Y-%m-%d')\n",
    "                 \n",
    "tickets_per_month_df = pd.read_csv(BytesIO(tickets_per_month), parse_dates=['month'], date_parser=dateparse,\n",
    "                                   na_values='\\\\N')"
   ]
  },
  {
   "cell_type": "code",
   "execution_count": 259,
   "metadata": {},
   "outputs": [
    {
     "data": {
      "text/html": [
       "<div>\n",
       "<style scoped>\n",
       "    .dataframe tbody tr th:only-of-type {\n",
       "        vertical-align: middle;\n",
       "    }\n",
       "\n",
       "    .dataframe tbody tr th {\n",
       "        vertical-align: top;\n",
       "    }\n",
       "\n",
       "    .dataframe thead th {\n",
       "        text-align: right;\n",
       "    }\n",
       "</style>\n",
       "<table border=\"1\" class=\"dataframe\">\n",
       "  <thead>\n",
       "    <tr style=\"text-align: right;\">\n",
       "      <th></th>\n",
       "      <th>cloud_id</th>\n",
       "      <th>month</th>\n",
       "      <th>pay_type</th>\n",
       "      <th>n_tickets</th>\n",
       "    </tr>\n",
       "  </thead>\n",
       "  <tbody>\n",
       "    <tr>\n",
       "      <th>0</th>\n",
       "      <td>b1gu54vmd2h60f1ai5c7</td>\n",
       "      <td>2019-10-01</td>\n",
       "      <td>free</td>\n",
       "      <td>1</td>\n",
       "    </tr>\n",
       "    <tr>\n",
       "      <th>1</th>\n",
       "      <td>b1gqt7hkqj78gfke93tu</td>\n",
       "      <td>2019-12-01</td>\n",
       "      <td>standard</td>\n",
       "      <td>6</td>\n",
       "    </tr>\n",
       "    <tr>\n",
       "      <th>2</th>\n",
       "      <td>b1g246himpeh2sesicl9</td>\n",
       "      <td>2019-10-01</td>\n",
       "      <td>free</td>\n",
       "      <td>1</td>\n",
       "    </tr>\n",
       "    <tr>\n",
       "      <th>3</th>\n",
       "      <td>b1gsv7gsucr81k3as5ad</td>\n",
       "      <td>2019-11-01</td>\n",
       "      <td>free</td>\n",
       "      <td>1</td>\n",
       "    </tr>\n",
       "    <tr>\n",
       "      <th>4</th>\n",
       "      <td>b1ggmo5nddutckbaduu9</td>\n",
       "      <td>2020-03-01</td>\n",
       "      <td>free</td>\n",
       "      <td>1</td>\n",
       "    </tr>\n",
       "    <tr>\n",
       "      <th>...</th>\n",
       "      <td>...</td>\n",
       "      <td>...</td>\n",
       "      <td>...</td>\n",
       "      <td>...</td>\n",
       "    </tr>\n",
       "    <tr>\n",
       "      <th>7794</th>\n",
       "      <td>b1gg3fa8qnenbf4ilj79</td>\n",
       "      <td>2019-12-01</td>\n",
       "      <td>standard</td>\n",
       "      <td>1</td>\n",
       "    </tr>\n",
       "    <tr>\n",
       "      <th>7795</th>\n",
       "      <td>b1gp2h53hmj4e2v5k8ud</td>\n",
       "      <td>2019-07-01</td>\n",
       "      <td>free</td>\n",
       "      <td>1</td>\n",
       "    </tr>\n",
       "    <tr>\n",
       "      <th>7796</th>\n",
       "      <td>b1gsql6infhpvh2ncjib</td>\n",
       "      <td>2019-10-01</td>\n",
       "      <td>free</td>\n",
       "      <td>2</td>\n",
       "    </tr>\n",
       "    <tr>\n",
       "      <th>7797</th>\n",
       "      <td>b1gls9f5a09a31fdnih8</td>\n",
       "      <td>2019-06-01</td>\n",
       "      <td>free</td>\n",
       "      <td>1</td>\n",
       "    </tr>\n",
       "    <tr>\n",
       "      <th>7798</th>\n",
       "      <td>b1gu1lrtdq8s1svvmqso</td>\n",
       "      <td>2020-01-01</td>\n",
       "      <td>premium</td>\n",
       "      <td>6</td>\n",
       "    </tr>\n",
       "  </tbody>\n",
       "</table>\n",
       "<p>7799 rows × 4 columns</p>\n",
       "</div>"
      ],
      "text/plain": [
       "                  cloud_id      month  pay_type  n_tickets\n",
       "0     b1gu54vmd2h60f1ai5c7 2019-10-01      free          1\n",
       "1     b1gqt7hkqj78gfke93tu 2019-12-01  standard          6\n",
       "2     b1g246himpeh2sesicl9 2019-10-01      free          1\n",
       "3     b1gsv7gsucr81k3as5ad 2019-11-01      free          1\n",
       "4     b1ggmo5nddutckbaduu9 2020-03-01      free          1\n",
       "...                    ...        ...       ...        ...\n",
       "7794  b1gg3fa8qnenbf4ilj79 2019-12-01  standard          1\n",
       "7795  b1gp2h53hmj4e2v5k8ud 2019-07-01      free          1\n",
       "7796  b1gsql6infhpvh2ncjib 2019-10-01      free          2\n",
       "7797  b1gls9f5a09a31fdnih8 2019-06-01      free          1\n",
       "7798  b1gu1lrtdq8s1svvmqso 2020-01-01   premium          6\n",
       "\n",
       "[7799 rows x 4 columns]"
      ]
     },
     "execution_count": 259,
     "metadata": {},
     "output_type": "execute_result"
    }
   ],
   "source": [
    "tickets_per_month_df"
   ]
  },
  {
   "cell_type": "code",
   "execution_count": 260,
   "metadata": {},
   "outputs": [
    {
     "data": {
      "text/plain": [
       "cloud_id             object\n",
       "month        datetime64[ns]\n",
       "pay_type             object\n",
       "n_tickets             int64\n",
       "dtype: object"
      ]
     },
     "execution_count": 260,
     "metadata": {},
     "output_type": "execute_result"
    }
   ],
   "source": [
    "tickets_per_month_df.dtypes"
   ]
  },
  {
   "cell_type": "code",
   "execution_count": 52,
   "metadata": {},
   "outputs": [],
   "source": [
    "tickets_per_month_df = tickets_per_month_df.dropna()"
   ]
  },
  {
   "cell_type": "code",
   "execution_count": null,
   "metadata": {},
   "outputs": [],
   "source": [
    "dateparse = lambda x: dt.datetime.strptime(x, '%Y-%m-%d')\n",
    "                 \n",
    "tickets_per_month_df = pd.read_csv(BytesIO(tickets_per_month), parse_dates=['month'], date_parser=dateparse,\n",
    "                                   na_values='\\\\N')"
   ]
  },
  {
   "cell_type": "code",
   "execution_count": 53,
   "metadata": {},
   "outputs": [],
   "source": [
    "from matplotlib import pyplot as plt"
   ]
  },
  {
   "cell_type": "code",
   "execution_count": 61,
   "metadata": {},
   "outputs": [
    {
     "data": {
      "text/plain": [
       "cloud_id     b1g25gm5d5n5v66qbhg4\n",
       "month                  2019-10-01\n",
       "pay_type                  premium\n",
       "n_tickets                      31\n",
       "Name: 5201, dtype: object"
      ]
     },
     "execution_count": 61,
     "metadata": {},
     "output_type": "execute_result"
    }
   ],
   "source": [
    "tickets_per_month_df.loc[tickets_per_month_df['n_tickets'].idxmax(), :]"
   ]
  },
  {
   "cell_type": "code",
   "execution_count": 63,
   "metadata": {},
   "outputs": [
    {
     "data": {
      "text/html": [
       "<div>\n",
       "<style scoped>\n",
       "    .dataframe tbody tr th:only-of-type {\n",
       "        vertical-align: middle;\n",
       "    }\n",
       "\n",
       "    .dataframe tbody tr th {\n",
       "        vertical-align: top;\n",
       "    }\n",
       "\n",
       "    .dataframe thead th {\n",
       "        text-align: right;\n",
       "    }\n",
       "</style>\n",
       "<table border=\"1\" class=\"dataframe\">\n",
       "  <thead>\n",
       "    <tr style=\"text-align: right;\">\n",
       "      <th></th>\n",
       "      <th>count</th>\n",
       "      <th>mean</th>\n",
       "      <th>std</th>\n",
       "      <th>min</th>\n",
       "      <th>25%</th>\n",
       "      <th>50%</th>\n",
       "      <th>75%</th>\n",
       "      <th>max</th>\n",
       "    </tr>\n",
       "    <tr>\n",
       "      <th>pay_type</th>\n",
       "      <th></th>\n",
       "      <th></th>\n",
       "      <th></th>\n",
       "      <th></th>\n",
       "      <th></th>\n",
       "      <th></th>\n",
       "      <th></th>\n",
       "      <th></th>\n",
       "    </tr>\n",
       "  </thead>\n",
       "  <tbody>\n",
       "    <tr>\n",
       "      <th>business</th>\n",
       "      <td>498.0</td>\n",
       "      <td>2.477912</td>\n",
       "      <td>2.540718</td>\n",
       "      <td>1.0</td>\n",
       "      <td>1.00</td>\n",
       "      <td>1.0</td>\n",
       "      <td>3.0</td>\n",
       "      <td>18.0</td>\n",
       "    </tr>\n",
       "    <tr>\n",
       "      <th>free</th>\n",
       "      <td>6899.0</td>\n",
       "      <td>1.450645</td>\n",
       "      <td>1.168219</td>\n",
       "      <td>1.0</td>\n",
       "      <td>1.00</td>\n",
       "      <td>1.0</td>\n",
       "      <td>1.0</td>\n",
       "      <td>25.0</td>\n",
       "    </tr>\n",
       "    <tr>\n",
       "      <th>premium</th>\n",
       "      <td>70.0</td>\n",
       "      <td>5.542857</td>\n",
       "      <td>6.025756</td>\n",
       "      <td>1.0</td>\n",
       "      <td>1.25</td>\n",
       "      <td>4.0</td>\n",
       "      <td>7.0</td>\n",
       "      <td>31.0</td>\n",
       "    </tr>\n",
       "    <tr>\n",
       "      <th>standard</th>\n",
       "      <td>296.0</td>\n",
       "      <td>1.736486</td>\n",
       "      <td>1.427865</td>\n",
       "      <td>1.0</td>\n",
       "      <td>1.00</td>\n",
       "      <td>1.0</td>\n",
       "      <td>2.0</td>\n",
       "      <td>12.0</td>\n",
       "    </tr>\n",
       "  </tbody>\n",
       "</table>\n",
       "</div>"
      ],
      "text/plain": [
       "           count      mean       std  min   25%  50%  75%   max\n",
       "pay_type                                                       \n",
       "business   498.0  2.477912  2.540718  1.0  1.00  1.0  3.0  18.0\n",
       "free      6899.0  1.450645  1.168219  1.0  1.00  1.0  1.0  25.0\n",
       "premium     70.0  5.542857  6.025756  1.0  1.25  4.0  7.0  31.0\n",
       "standard   296.0  1.736486  1.427865  1.0  1.00  1.0  2.0  12.0"
      ]
     },
     "execution_count": 63,
     "metadata": {},
     "output_type": "execute_result"
    }
   ],
   "source": [
    "tickets_per_month_df.groupby('pay_type')['n_tickets'].describe()"
   ]
  },
  {
   "cell_type": "code",
   "execution_count": 69,
   "metadata": {},
   "outputs": [
    {
     "data": {
      "image/png": "[encoded data removed]",
      "text/plain": [
       "<Figure size 432x288 with 1 Axes>"
      ]
     },
     "metadata": {
      "needs_background": "light"
     },
     "output_type": "display_data"
    }
   ],
   "source": [
    "plt.hist(tickets_per_month_df[tickets_per_month_df['pay_type'] == 'free']['n_tickets'], bins=100);\n",
    "plt.yscale('log')\n",
    "plt.xscale('log')"
   ]
  },
  {
   "cell_type": "code",
   "execution_count": 70,
   "metadata": {},
   "outputs": [
    {
     "data": {
      "image/png": "[encoded data removed]",
      "text/plain": [
       "<Figure size 432x288 with 1 Axes>"
      ]
     },
     "metadata": {
      "needs_background": "light"
     },
     "output_type": "display_data"
    }
   ],
   "source": [
    "plt.hist(tickets_per_month_df[tickets_per_month_df['pay_type'] == 'standard']['n_tickets'], bins=100);\n",
    "plt.yscale('log')\n",
    "plt.xscale('log')"
   ]
  },
  {
   "cell_type": "code",
   "execution_count": 71,
   "metadata": {},
   "outputs": [
    {
     "data": {
      "image/png": "[encoded data removed]",
      "text/plain": [
       "<Figure size 432x288 with 1 Axes>"
      ]
     },
     "metadata": {
      "needs_background": "light"
     },
     "output_type": "display_data"
    }
   ],
   "source": [
    "plt.hist(tickets_per_month_df[tickets_per_month_df['pay_type'] == 'business']['n_tickets'], bins=100);\n",
    "plt.yscale('log')\n",
    "plt.xscale('log')"
   ]
  },
  {
   "cell_type": "code",
   "execution_count": 77,
   "metadata": {},
   "outputs": [
    {
     "data": {
      "image/png": "[encoded data removed]",
      "text/plain": [
       "<Figure size 432x288 with 1 Axes>"
      ]
     },
     "metadata": {
      "needs_background": "light"
     },
     "output_type": "display_data"
    }
   ],
   "source": [
    "plt.hist(tickets_per_month_df[tickets_per_month_df['pay_type'] == 'premium']['n_tickets'], bins=100);\n",
    "plt.yscale('log')\n",
    "plt.xscale('log')"
   ]
  },
  {
   "cell_type": "code",
   "execution_count": 57,
   "metadata": {},
   "outputs": [
    {
     "data": {
      "text/plain": [
       "count    6899.000000\n",
       "mean        1.450645\n",
       "std         1.168219\n",
       "min         1.000000\n",
       "25%         1.000000\n",
       "50%         1.000000\n",
       "75%         1.000000\n",
       "max        25.000000\n",
       "Name: n_tickets, dtype: float64"
      ]
     },
     "execution_count": 57,
     "metadata": {},
     "output_type": "execute_result"
    }
   ],
   "source": [
    "tickets_per_month_df[tickets_per_month_df['pay_type'] == 'free']['n_tickets'].describe()"
   ]
  },
  {
   "cell_type": "code",
   "execution_count": 60,
   "metadata": {},
   "outputs": [
    {
     "data": {
      "text/plain": [
       "count    296.000000\n",
       "mean       1.736486\n",
       "std        1.427865\n",
       "min        1.000000\n",
       "25%        1.000000\n",
       "50%        1.000000\n",
       "75%        2.000000\n",
       "max       12.000000\n",
       "Name: n_tickets, dtype: float64"
      ]
     },
     "execution_count": 60,
     "metadata": {},
     "output_type": "execute_result"
    }
   ],
   "source": [
    "tickets_per_month_df[tickets_per_month_df['pay_type'] == 'standard']['n_tickets'].describe()"
   ]
  },
  {
   "cell_type": "code",
   "execution_count": 79,
   "metadata": {},
   "outputs": [],
   "source": [
    "# !pip install powerlaw==1.4.6"
   ]
  },
  {
   "cell_type": "code",
   "execution_count": 80,
   "metadata": {},
   "outputs": [],
   "source": [
    "import powerlaw"
   ]
  },
  {
   "cell_type": "code",
   "execution_count": 97,
   "metadata": {},
   "outputs": [],
   "source": [
    "free_tickets = tickets_per_month_df[tickets_per_month_df['pay_type'] == 'free']['n_tickets'].values\n",
    "standard_tickets = tickets_per_month_df[tickets_per_month_df['pay_type'] == 'standard']['n_tickets'].values"
   ]
  },
  {
   "cell_type": "code",
   "execution_count": 94,
   "metadata": {},
   "outputs": [
    {
     "name": "stderr",
     "output_type": "stream",
     "text": [
      "Calculating best minimal value for power law fit\n",
      "/home/bakuteev/miniconda3/lib/python3.7/site-packages/powerlaw.py:700: RuntimeWarning: invalid value encountered in true_divide\n",
      "  (Theoretical_CDF * (1 - Theoretical_CDF))\n"
     ]
    }
   ],
   "source": [
    "free_pl = powerlaw.Fit(free_tickets, discrete=True)"
   ]
  },
  {
   "cell_type": "code",
   "execution_count": 92,
   "metadata": {},
   "outputs": [
    {
     "data": {
      "text/plain": [
       "3.9846384389523695"
      ]
     },
     "execution_count": 92,
     "metadata": {},
     "output_type": "execute_result"
    }
   ],
   "source": [
    "free_pl.alpha"
   ]
  },
  {
   "cell_type": "code",
   "execution_count": 98,
   "metadata": {},
   "outputs": [
    {
     "name": "stderr",
     "output_type": "stream",
     "text": [
      "Calculating best minimal value for power law fit\n",
      "/home/bakuteev/miniconda3/lib/python3.7/site-packages/powerlaw.py:700: RuntimeWarning: invalid value encountered in true_divide\n",
      "  (Theoretical_CDF * (1 - Theoretical_CDF))\n",
      "/home/bakuteev/miniconda3/lib/python3.7/site-packages/powerlaw.py:700: RuntimeWarning: invalid value encountered in true_divide\n",
      "  (Theoretical_CDF * (1 - Theoretical_CDF))\n",
      "/home/bakuteev/miniconda3/lib/python3.7/site-packages/powerlaw.py:700: RuntimeWarning: invalid value encountered in true_divide\n",
      "  (Theoretical_CDF * (1 - Theoretical_CDF))\n"
     ]
    },
    {
     "data": {
      "text/plain": [
       "(-0.29691652592352247, 0.6526086275818807)"
      ]
     },
     "execution_count": 98,
     "metadata": {},
     "output_type": "execute_result"
    },
    {
     "data": {
      "image/png": "[encoded data removed]",
      "text/plain": [
       "<Figure size 432x288 with 1 Axes>"
      ]
     },
     "metadata": {
      "needs_background": "light"
     },
     "output_type": "display_data"
    }
   ],
   "source": [
    "fit = powerlaw.Fit(standard_tickets, discrete=True)\n",
    "####\n",
    "fig = fit.plot_ccdf(linewidth=3, label='Empirical Data')\n",
    "fit.power_law.plot_ccdf(ax=fig, color='r', linestyle='--', label='Power law fit')\n",
    "fit.lognormal.plot_ccdf(ax=fig, color='g', linestyle='--', label='Lognormal fit')\n",
    "####\n",
    "fig.set_ylabel(u\"p(X≥x)\")\n",
    "fig.set_xlabel(\"Word Frequency\")\n",
    "handles, labels = fig.get_legend_handles_labels()\n",
    "fig.legend(handles, labels, loc=3)\n",
    "fit.distribution_compare('power_law', 'lognormal')\n",
    "\n",
    "\n"
   ]
  },
  {
   "cell_type": "code",
   "execution_count": 142,
   "metadata": {},
   "outputs": [
    {
     "name": "stderr",
     "output_type": "stream",
     "text": [
      "Calculating best minimal value for power law fit\n",
      "/home/bakuteev/miniconda3/lib/python3.7/site-packages/powerlaw.py:700: RuntimeWarning: invalid value encountered in true_divide\n",
      "  (Theoretical_CDF * (1 - Theoretical_CDF))\n",
      "/home/bakuteev/miniconda3/lib/python3.7/site-packages/powerlaw.py:700: RuntimeWarning: invalid value encountered in true_divide\n",
      "  (Theoretical_CDF * (1 - Theoretical_CDF))\n",
      "/home/bakuteev/miniconda3/lib/python3.7/site-packages/powerlaw.py:700: RuntimeWarning: invalid value encountered in true_divide\n",
      "  (Theoretical_CDF * (1 - Theoretical_CDF))\n"
     ]
    },
    {
     "data": {
      "text/plain": [
       "(-1.30290904170695, 0.3479628804118017)"
      ]
     },
     "execution_count": 142,
     "metadata": {},
     "output_type": "execute_result"
    },
    {
     "data": {
      "image/png": "[encoded data removed]",
      "text/plain": [
       "<Figure size 432x288 with 1 Axes>"
      ]
     },
     "metadata": {
      "needs_background": "light"
     },
     "output_type": "display_data"
    }
   ],
   "source": [
    "fit = powerlaw.Fit(free_tickets, discrete=True)\n",
    "####\n",
    "fig = fit.plot_ccdf(linewidth=3, label='Empirical Data')\n",
    "fit.power_law.plot_ccdf(ax=fig, color='r', linestyle='--', label='Power law fit')\n",
    "fit.lognormal.plot_ccdf(ax=fig, color='g', linestyle='--', label='Lognormal fit')\n",
    "####\n",
    "fig.set_ylabel(u\"p(X≥x)\")\n",
    "fig.set_xlabel(\"Word Frequency\")\n",
    "handles, labels = fig.get_legend_handles_labels()\n",
    "fig.legend(handles, labels, loc=3)\n",
    "fit.distribution_compare('power_law', 'lognormal')\n",
    "\n"
   ]
  },
  {
   "cell_type": "markdown",
   "metadata": {},
   "source": [
    "Loglikelihood ratio of the two distributions’ fit to the data. If greater than 0, the first distribution is preferred. If less than 0, the second distribution is preferred."
   ]
  },
  {
   "cell_type": "code",
   "execution_count": 144,
   "metadata": {},
   "outputs": [],
   "source": [
    "import numpy as np\n",
    "from scipy.stats import geom, lognorm\n",
    "from scipy.stats import powerlaw as pl"
   ]
  },
  {
   "cell_type": "code",
   "execution_count": 143,
   "metadata": {},
   "outputs": [
    {
     "data": {
      "text/plain": [
       "3.9846384389523695"
      ]
     },
     "execution_count": 143,
     "metadata": {},
     "output_type": "execute_result"
    }
   ],
   "source": [
    "fit.alpha, pl.pdf()"
   ]
  },
  {
   "cell_type": "code",
   "execution_count": 151,
   "metadata": {},
   "outputs": [
    {
     "data": {
      "text/plain": [
       "(0.19886210449827418, 0.9999999999999999, 26.93157690945605)"
      ]
     },
     "execution_count": 151,
     "metadata": {},
     "output_type": "execute_result"
    }
   ],
   "source": [
    "pl.fit(free_tickets)"
   ]
  },
  {
   "cell_type": "code",
   "execution_count": 158,
   "metadata": {},
   "outputs": [
    {
     "data": {
      "text/plain": [
       "[<matplotlib.lines.Line2D at 0x7fb784eef750>]"
      ]
     },
     "execution_count": 158,
     "metadata": {},
     "output_type": "execute_result"
    },
    {
     "data": {
      "image/png": "[encoded data removed]",
      "text/plain": [
       "<Figure size 432x288 with 1 Axes>"
      ]
     },
     "metadata": {
      "needs_background": "light"
     },
     "output_type": "display_data"
    }
   ],
   "source": [
    "plt.hist(free_tickets, bins=25, density=True);\n",
    "x = np.arange(1, np.max(free_tickets))\n",
    "plt.plot(x, pl.pdf(x, 0.2), 'bo')\n",
    "# plt.yscale('log')\n",
    "# plt.xscale('log')"
   ]
  },
  {
   "cell_type": "code",
   "execution_count": 141,
   "metadata": {},
   "outputs": [
    {
     "data": {
      "text/plain": [
       "0.226561395887503"
      ]
     },
     "execution_count": 141,
     "metadata": {},
     "output_type": "execute_result"
    }
   ],
   "source": [
    "np.mean(np.log(free_tickets))"
   ]
  },
  {
   "cell_type": "code",
   "execution_count": 179,
   "metadata": {},
   "outputs": [
    {
     "data": {
      "image/png": "[encoded data removed]",
      "text/plain": [
       "<Figure size 432x288 with 1 Axes>"
      ]
     },
     "metadata": {
      "needs_background": "light"
     },
     "output_type": "display_data"
    }
   ],
   "source": [
    "plt.hist(free_tickets, bins=np.arange(1,26), density=1, alpha=0.5);\n",
    "plt.hist(standard_tickets, bins=np.arange(1,26), density=1, alpha=0.5);"
   ]
  },
  {
   "cell_type": "code",
   "execution_count": 182,
   "metadata": {},
   "outputs": [
    {
     "name": "stdout",
     "output_type": "stream",
     "text": [
      "Requirement already satisfied: statsmodels==0.11.1 in /home/bakuteev/miniconda3/lib/python3.7/site-packages (0.11.1)\n",
      "Requirement already satisfied: patsy>=0.5 in /home/bakuteev/miniconda3/lib/python3.7/site-packages (from statsmodels==0.11.1) (0.5.1)\n",
      "Requirement already satisfied: pandas>=0.21 in /home/bakuteev/miniconda3/lib/python3.7/site-packages (from statsmodels==0.11.1) (1.0.3)\n",
      "Requirement already satisfied: numpy>=1.14 in /home/bakuteev/miniconda3/lib/python3.7/site-packages (from statsmodels==0.11.1) (1.18.2)\n",
      "Requirement already satisfied: scipy>=1.0 in /home/bakuteev/miniconda3/lib/python3.7/site-packages (from statsmodels==0.11.1) (1.4.1)\n",
      "Requirement already satisfied: six in /home/bakuteev/miniconda3/lib/python3.7/site-packages (from patsy>=0.5->statsmodels==0.11.1) (1.14.0)\n",
      "Requirement already satisfied: pytz>=2017.2 in /home/bakuteev/miniconda3/lib/python3.7/site-packages (from pandas>=0.21->statsmodels==0.11.1) (2019.3)\n",
      "Requirement already satisfied: python-dateutil>=2.6.1 in /home/bakuteev/miniconda3/lib/python3.7/site-packages (from pandas>=0.21->statsmodels==0.11.1) (2.8.1)\n"
     ]
    }
   ],
   "source": [
    "!pip install statsmodels==0.11.1"
   ]
  },
  {
   "cell_type": "code",
   "execution_count": 183,
   "metadata": {},
   "outputs": [],
   "source": [
    "from statsmodels.distributions.empirical_distribution import ECDF"
   ]
  },
  {
   "cell_type": "code",
   "execution_count": 186,
   "metadata": {},
   "outputs": [],
   "source": [
    "free_ecdf = ECDF(free_tickets)"
   ]
  },
  {
   "cell_type": "code",
   "execution_count": 187,
   "metadata": {},
   "outputs": [],
   "source": [
    "standard_ecdf = ECDF(standard_tickets)"
   ]
  },
  {
   "cell_type": "code",
   "execution_count": 188,
   "metadata": {},
   "outputs": [
    {
     "data": {
      "text/plain": [
       "3.0"
      ]
     },
     "execution_count": 188,
     "metadata": {},
     "output_type": "execute_result"
    }
   ],
   "source": [
    "np.percentile(free_tickets, 95)"
   ]
  },
  {
   "cell_type": "code",
   "execution_count": 189,
   "metadata": {},
   "outputs": [
    {
     "data": {
      "text/plain": [
       "4.0"
      ]
     },
     "execution_count": 189,
     "metadata": {},
     "output_type": "execute_result"
    }
   ],
   "source": [
    "np.percentile(standard_tickets, 95)"
   ]
  },
  {
   "cell_type": "code",
   "execution_count": 227,
   "metadata": {},
   "outputs": [],
   "source": [
    "n_people_free = 100\n",
    "n_people_standard = 100\n",
    "n_sim = 5000\n",
    "free_tickets_total = np.random.choice(free_tickets, (n_people_free, n_sim)).sum(axis=0)\n",
    "standard_tickets_total = np.random.choice(standard_tickets, (n_people_standard, n_sim)).sum(axis=0)\n",
    "\n"
   ]
  },
  {
   "cell_type": "code",
   "execution_count": 228,
   "metadata": {},
   "outputs": [
    {
     "data": {
      "image/png": "[encoded data removed]",
      "text/plain": [
       "<Figure size 432x288 with 1 Axes>"
      ]
     },
     "metadata": {
      "needs_background": "light"
     },
     "output_type": "display_data"
    }
   ],
   "source": [
    "plt.hist(free_tickets_total, bins=100);\n",
    "plt.hist(standard_tickets_total, bins=100);"
   ]
  },
  {
   "cell_type": "code",
   "execution_count": 229,
   "metadata": {},
   "outputs": [],
   "source": [
    "from scipy import stats"
   ]
  },
  {
   "cell_type": "code",
   "execution_count": 230,
   "metadata": {},
   "outputs": [
    {
     "data": {
      "text/plain": [
       "KstestResult(statistic=1.0, pvalue=0.0)"
      ]
     },
     "execution_count": 230,
     "metadata": {},
     "output_type": "execute_result"
    }
   ],
   "source": [
    "stats.kstest(free_tickets_total, 'norm')"
   ]
  },
  {
   "cell_type": "code",
   "execution_count": 231,
   "metadata": {},
   "outputs": [
    {
     "data": {
      "text/plain": [
       "KstestResult(statistic=1.0, pvalue=0.0)"
      ]
     },
     "execution_count": 231,
     "metadata": {},
     "output_type": "execute_result"
    }
   ],
   "source": [
    "stats.kstest(standard_tickets_total, 'norm')"
   ]
  },
  {
   "cell_type": "code",
   "execution_count": 232,
   "metadata": {},
   "outputs": [
    {
     "data": {
      "text/plain": [
       "(0.9838692545890808, 1.8521759856992763e-23)"
      ]
     },
     "execution_count": 232,
     "metadata": {},
     "output_type": "execute_result"
    }
   ],
   "source": [
    "stats.shapiro(free_tickets_total)"
   ]
  },
  {
   "cell_type": "code",
   "execution_count": 233,
   "metadata": {},
   "outputs": [
    {
     "data": {
      "text/plain": [
       "(0.5534000992774963, 7.971484128833034e-27)"
      ]
     },
     "execution_count": 233,
     "metadata": {},
     "output_type": "execute_result"
    }
   ],
   "source": [
    "stats.shapiro(standard_tickets)"
   ]
  },
  {
   "cell_type": "markdown",
   "metadata": {},
   "source": [
    "Not normal"
   ]
  },
  {
   "cell_type": "code",
   "execution_count": 234,
   "metadata": {},
   "outputs": [
    {
     "data": {
      "text/plain": [
       "(128.0, 165.0)"
      ]
     },
     "execution_count": 234,
     "metadata": {},
     "output_type": "execute_result"
    }
   ],
   "source": [
    "np.percentile(free_tickets_total,5), np.percentile(free_tickets_total,95)"
   ]
  },
  {
   "cell_type": "code",
   "execution_count": 235,
   "metadata": {},
   "outputs": [
    {
     "data": {
      "text/plain": [
       "(152.0, 198.0)"
      ]
     },
     "execution_count": 235,
     "metadata": {},
     "output_type": "execute_result"
    }
   ],
   "source": [
    "np.percentile(standard_tickets_total,5), np.percentile(standard_tickets_total,95)"
   ]
  },
  {
   "cell_type": "code",
   "execution_count": 238,
   "metadata": {},
   "outputs": [],
   "source": [
    "x=4751/2"
   ]
  },
  {
   "cell_type": "code",
   "execution_count": 240,
   "metadata": {},
   "outputs": [
    {
     "data": {
      "text/plain": [
       "688.895"
      ]
     },
     "execution_count": 240,
     "metadata": {},
     "output_type": "execute_result"
    }
   ],
   "source": [
    "1.74*x - 1.45*x"
   ]
  },
  {
   "cell_type": "markdown",
   "metadata": {},
   "source": [
    "# By BA pay type"
   ]
  },
  {
   "cell_type": "code",
   "execution_count": 264,
   "metadata": {},
   "outputs": [
    {
     "name": "stdout",
     "output_type": "stream",
     "text": [
      "CPU times: user 14.1 ms, sys: 2.95 ms, total: 17 ms\n",
      "Wall time: 1.22 s\n"
     ]
    }
   ],
   "source": [
    "%%time\n",
    "tickets = execute_query('''\n",
    "    SELECT DISTINCT cloud_id, toDateTime(created_at) created_at, st_key, pay_type\n",
    "        FROM \"//home/cloud/billing/exported-support-tables/tickets_prod\" \n",
    "        INNER JOIN \n",
    "            (SELECT task as st_key, pay_type\n",
    "            FROM \"//home/cloud_analytics/import/tracker/support_tasks\") sup_type \n",
    "            USING st_key\n",
    "    WHERE isNotNull(cloud_id)\n",
    "    FORMAT CSVWithNames\n",
    "    ''',\n",
    "    token)"
   ]
  },
  {
   "cell_type": "code",
   "execution_count": 298,
   "metadata": {},
   "outputs": [],
   "source": [
    "dateparse = lambda x: dt.datetime.strptime(x, '%Y-%m-%d %H:%M:%S')\n",
    "                 \n",
    "tickets_df = pd.read_csv(BytesIO(tickets), parse_dates=['created_at'], date_parser=dateparse,\n",
    "                                   na_values='\\\\N')"
   ]
  },
  {
   "cell_type": "code",
   "execution_count": 299,
   "metadata": {},
   "outputs": [
    {
     "data": {
      "text/plain": [
       "cloud_id              object\n",
       "created_at    datetime64[ns]\n",
       "st_key                object\n",
       "pay_type              object\n",
       "dtype: object"
      ]
     },
     "execution_count": 299,
     "metadata": {},
     "output_type": "execute_result"
    }
   ],
   "source": [
    "tickets_df.dtypes"
   ]
  },
  {
   "cell_type": "code",
   "execution_count": 300,
   "metadata": {},
   "outputs": [
    {
     "data": {
      "text/plain": [
       "'b1gsvdflv8usju6fuqfd2019-09-04 11:27:38CLOUDSUPPORT-11459free'"
      ]
     },
     "execution_count": 300,
     "metadata": {},
     "output_type": "execute_result"
    }
   ],
   "source": [
    "\"b1gsvdflv8usju6fuqfd\"\t\"2019-09-04 11:27:38\"\t\"CLOUDSUPPORT-11459\"\t\"free\""
   ]
  },
  {
   "cell_type": "code",
   "execution_count": 301,
   "metadata": {},
   "outputs": [
    {
     "data": {
      "text/html": [
       "<div>\n",
       "<style scoped>\n",
       "    .dataframe tbody tr th:only-of-type {\n",
       "        vertical-align: middle;\n",
       "    }\n",
       "\n",
       "    .dataframe tbody tr th {\n",
       "        vertical-align: top;\n",
       "    }\n",
       "\n",
       "    .dataframe thead th {\n",
       "        text-align: right;\n",
       "    }\n",
       "</style>\n",
       "<table border=\"1\" class=\"dataframe\">\n",
       "  <thead>\n",
       "    <tr style=\"text-align: right;\">\n",
       "      <th></th>\n",
       "      <th>cloud_id</th>\n",
       "      <th>created_at</th>\n",
       "      <th>st_key</th>\n",
       "      <th>pay_type</th>\n",
       "    </tr>\n",
       "  </thead>\n",
       "  <tbody>\n",
       "    <tr>\n",
       "      <th>0</th>\n",
       "      <td>b1gpe2fbikrru4nqd53f</td>\n",
       "      <td>2019-11-29 14:26:12</td>\n",
       "      <td>CLOUDSUPPORT-18607</td>\n",
       "      <td>business</td>\n",
       "    </tr>\n",
       "    <tr>\n",
       "      <th>1</th>\n",
       "      <td>b1gv43ava9e39qdbaioq</td>\n",
       "      <td>2019-11-29 14:34:26</td>\n",
       "      <td>CLOUDSUPPORT-18610</td>\n",
       "      <td>free</td>\n",
       "    </tr>\n",
       "    <tr>\n",
       "      <th>2</th>\n",
       "      <td>b1ghdrl6kg1ipin8fpqr</td>\n",
       "      <td>2019-11-29 14:36:42</td>\n",
       "      <td>CLOUDSUPPORT-18613</td>\n",
       "      <td>free</td>\n",
       "    </tr>\n",
       "    <tr>\n",
       "      <th>3</th>\n",
       "      <td>NaN</td>\n",
       "      <td>2019-11-29 14:38:00</td>\n",
       "      <td>CLOUDSUPPORT-18616</td>\n",
       "      <td>free</td>\n",
       "    </tr>\n",
       "    <tr>\n",
       "      <th>4</th>\n",
       "      <td>b1g8dgq48lkl79fb0c7l</td>\n",
       "      <td>2019-11-29 14:54:29</td>\n",
       "      <td>CLOUDSUPPORT-18620</td>\n",
       "      <td>free</td>\n",
       "    </tr>\n",
       "    <tr>\n",
       "      <th>...</th>\n",
       "      <td>...</td>\n",
       "      <td>...</td>\n",
       "      <td>...</td>\n",
       "      <td>...</td>\n",
       "    </tr>\n",
       "    <tr>\n",
       "      <th>14655</th>\n",
       "      <td>b1g37atlou5q6ctfsn72</td>\n",
       "      <td>2020-04-19 17:48:14</td>\n",
       "      <td>CLOUDSUPPORT-31212</td>\n",
       "      <td>free</td>\n",
       "    </tr>\n",
       "    <tr>\n",
       "      <th>14656</th>\n",
       "      <td>b1g565pim0bs5ni6vup0</td>\n",
       "      <td>2020-04-19 18:12:11</td>\n",
       "      <td>CLOUDSUPPORT-31213</td>\n",
       "      <td>business</td>\n",
       "    </tr>\n",
       "    <tr>\n",
       "      <th>14657</th>\n",
       "      <td>b1g7069i80lrk8d5423c</td>\n",
       "      <td>2020-04-19 19:08:19</td>\n",
       "      <td>CLOUDSUPPORT-31216</td>\n",
       "      <td>free</td>\n",
       "    </tr>\n",
       "    <tr>\n",
       "      <th>14658</th>\n",
       "      <td>b1gbvis0h2236f1p80i7</td>\n",
       "      <td>2020-04-19 22:44:16</td>\n",
       "      <td>CLOUDSUPPORT-31222</td>\n",
       "      <td>standard</td>\n",
       "    </tr>\n",
       "    <tr>\n",
       "      <th>14659</th>\n",
       "      <td>b1gc52ioac0n0nacucgg</td>\n",
       "      <td>2020-04-19 22:58:23</td>\n",
       "      <td>CLOUDSUPPORT-31223</td>\n",
       "      <td>standard</td>\n",
       "    </tr>\n",
       "  </tbody>\n",
       "</table>\n",
       "<p>14660 rows × 4 columns</p>\n",
       "</div>"
      ],
      "text/plain": [
       "                   cloud_id          created_at              st_key  pay_type\n",
       "0      b1gpe2fbikrru4nqd53f 2019-11-29 14:26:12  CLOUDSUPPORT-18607  business\n",
       "1      b1gv43ava9e39qdbaioq 2019-11-29 14:34:26  CLOUDSUPPORT-18610      free\n",
       "2      b1ghdrl6kg1ipin8fpqr 2019-11-29 14:36:42  CLOUDSUPPORT-18613      free\n",
       "3                       NaN 2019-11-29 14:38:00  CLOUDSUPPORT-18616      free\n",
       "4      b1g8dgq48lkl79fb0c7l 2019-11-29 14:54:29  CLOUDSUPPORT-18620      free\n",
       "...                     ...                 ...                 ...       ...\n",
       "14655  b1g37atlou5q6ctfsn72 2020-04-19 17:48:14  CLOUDSUPPORT-31212      free\n",
       "14656  b1g565pim0bs5ni6vup0 2020-04-19 18:12:11  CLOUDSUPPORT-31213  business\n",
       "14657  b1g7069i80lrk8d5423c 2020-04-19 19:08:19  CLOUDSUPPORT-31216      free\n",
       "14658  b1gbvis0h2236f1p80i7 2020-04-19 22:44:16  CLOUDSUPPORT-31222  standard\n",
       "14659  b1gc52ioac0n0nacucgg 2020-04-19 22:58:23  CLOUDSUPPORT-31223  standard\n",
       "\n",
       "[14660 rows x 4 columns]"
      ]
     },
     "execution_count": 301,
     "metadata": {},
     "output_type": "execute_result"
    }
   ],
   "source": [
    "tickets_df"
   ]
  },
  {
   "cell_type": "code",
   "execution_count": 302,
   "metadata": {},
   "outputs": [],
   "source": [
    "first_paid_events = execute_query('''\n",
    "    SELECT cloud_id, event_time as first_paid\n",
    "    FROM \"//home/cloud_analytics/cubes/acquisition_cube/cube\"\n",
    "    WHERE event = 'first_paid_consumption' AND ba_usage_status != 'service'\n",
    "    FORMAT CSVWithNames\n",
    "    '''\n",
    ", token)\n",
    "first_paid_events_df = pd.read_csv(BytesIO(first_paid_events), parse_dates=['first_paid'], date_parser=dateparse,\n",
    "                                   na_values='\\\\N')"
   ]
  },
  {
   "cell_type": "code",
   "execution_count": 303,
   "metadata": {},
   "outputs": [],
   "source": [
    "tickets_df = first_paid_events_df.merge(tickets_df, on='cloud_id', how='right')"
   ]
  },
  {
   "cell_type": "code",
   "execution_count": 304,
   "metadata": {},
   "outputs": [
    {
     "data": {
      "text/html": [
       "<div>\n",
       "<style scoped>\n",
       "    .dataframe tbody tr th:only-of-type {\n",
       "        vertical-align: middle;\n",
       "    }\n",
       "\n",
       "    .dataframe tbody tr th {\n",
       "        vertical-align: top;\n",
       "    }\n",
       "\n",
       "    .dataframe thead th {\n",
       "        text-align: right;\n",
       "    }\n",
       "</style>\n",
       "<table border=\"1\" class=\"dataframe\">\n",
       "  <thead>\n",
       "    <tr style=\"text-align: right;\">\n",
       "      <th></th>\n",
       "      <th>cloud_id</th>\n",
       "      <th>first_paid</th>\n",
       "      <th>created_at</th>\n",
       "      <th>st_key</th>\n",
       "      <th>pay_type</th>\n",
       "    </tr>\n",
       "  </thead>\n",
       "  <tbody>\n",
       "    <tr>\n",
       "      <th>0</th>\n",
       "      <td>b1g619qh4dd8g4sjnpcq</td>\n",
       "      <td>2018-12-04 02:59:59</td>\n",
       "      <td>2020-02-04 10:50:00</td>\n",
       "      <td>CLOUDSUPPORT-25486</td>\n",
       "      <td>free</td>\n",
       "    </tr>\n",
       "    <tr>\n",
       "      <th>1</th>\n",
       "      <td>b1gkmioj7f7qjh7cpd52</td>\n",
       "      <td>2019-08-26 11:59:59</td>\n",
       "      <td>2019-09-18 10:30:31</td>\n",
       "      <td>CLOUDSUPPORT-12179</td>\n",
       "      <td>free</td>\n",
       "    </tr>\n",
       "    <tr>\n",
       "      <th>2</th>\n",
       "      <td>b1gtf4b87ghlaff5jels</td>\n",
       "      <td>2019-04-02 03:59:59</td>\n",
       "      <td>2019-09-25 09:50:53</td>\n",
       "      <td>CLOUDSUPPORT-12535</td>\n",
       "      <td>free</td>\n",
       "    </tr>\n",
       "    <tr>\n",
       "      <th>3</th>\n",
       "      <td>b1g3u89ll0ud5p1r963b</td>\n",
       "      <td>2019-09-08 14:59:59</td>\n",
       "      <td>2019-08-13 18:28:16</td>\n",
       "      <td>CLOUDSUPPORT-10298</td>\n",
       "      <td>free</td>\n",
       "    </tr>\n",
       "    <tr>\n",
       "      <th>4</th>\n",
       "      <td>b1g3u89ll0ud5p1r963b</td>\n",
       "      <td>2019-09-08 14:59:59</td>\n",
       "      <td>2019-08-15 10:06:26</td>\n",
       "      <td>CLOUDSUPPORT-10391</td>\n",
       "      <td>free</td>\n",
       "    </tr>\n",
       "    <tr>\n",
       "      <th>...</th>\n",
       "      <td>...</td>\n",
       "      <td>...</td>\n",
       "      <td>...</td>\n",
       "      <td>...</td>\n",
       "      <td>...</td>\n",
       "    </tr>\n",
       "    <tr>\n",
       "      <th>60657</th>\n",
       "      <td>b1gfraho55iuckl30qtr</td>\n",
       "      <td>NaT</td>\n",
       "      <td>2020-04-19 13:31:23</td>\n",
       "      <td>CLOUDSUPPORT-31200</td>\n",
       "      <td>free</td>\n",
       "    </tr>\n",
       "    <tr>\n",
       "      <th>60658</th>\n",
       "      <td>b1gmc53ln4m5q1gbr6e6</td>\n",
       "      <td>NaT</td>\n",
       "      <td>2020-04-19 14:47:43</td>\n",
       "      <td>CLOUDSUPPORT-31204</td>\n",
       "      <td>free</td>\n",
       "    </tr>\n",
       "    <tr>\n",
       "      <th>60659</th>\n",
       "      <td>b1g7p40tqjl0pntr227h</td>\n",
       "      <td>NaT</td>\n",
       "      <td>2020-04-19 14:57:06</td>\n",
       "      <td>CLOUDSUPPORT-31205</td>\n",
       "      <td>free</td>\n",
       "    </tr>\n",
       "    <tr>\n",
       "      <th>60660</th>\n",
       "      <td>b1ggsdbf44rrtijpdhlm</td>\n",
       "      <td>NaT</td>\n",
       "      <td>2020-04-19 15:53:38</td>\n",
       "      <td>CLOUDSUPPORT-31209</td>\n",
       "      <td>free</td>\n",
       "    </tr>\n",
       "    <tr>\n",
       "      <th>60661</th>\n",
       "      <td>b1g7069i80lrk8d5423c</td>\n",
       "      <td>NaT</td>\n",
       "      <td>2020-04-19 19:08:19</td>\n",
       "      <td>CLOUDSUPPORT-31216</td>\n",
       "      <td>free</td>\n",
       "    </tr>\n",
       "  </tbody>\n",
       "</table>\n",
       "<p>60662 rows × 5 columns</p>\n",
       "</div>"
      ],
      "text/plain": [
       "                   cloud_id          first_paid          created_at  \\\n",
       "0      b1g619qh4dd8g4sjnpcq 2018-12-04 02:59:59 2020-02-04 10:50:00   \n",
       "1      b1gkmioj7f7qjh7cpd52 2019-08-26 11:59:59 2019-09-18 10:30:31   \n",
       "2      b1gtf4b87ghlaff5jels 2019-04-02 03:59:59 2019-09-25 09:50:53   \n",
       "3      b1g3u89ll0ud5p1r963b 2019-09-08 14:59:59 2019-08-13 18:28:16   \n",
       "4      b1g3u89ll0ud5p1r963b 2019-09-08 14:59:59 2019-08-15 10:06:26   \n",
       "...                     ...                 ...                 ...   \n",
       "60657  b1gfraho55iuckl30qtr                 NaT 2020-04-19 13:31:23   \n",
       "60658  b1gmc53ln4m5q1gbr6e6                 NaT 2020-04-19 14:47:43   \n",
       "60659  b1g7p40tqjl0pntr227h                 NaT 2020-04-19 14:57:06   \n",
       "60660  b1ggsdbf44rrtijpdhlm                 NaT 2020-04-19 15:53:38   \n",
       "60661  b1g7069i80lrk8d5423c                 NaT 2020-04-19 19:08:19   \n",
       "\n",
       "                   st_key pay_type  \n",
       "0      CLOUDSUPPORT-25486     free  \n",
       "1      CLOUDSUPPORT-12179     free  \n",
       "2      CLOUDSUPPORT-12535     free  \n",
       "3      CLOUDSUPPORT-10298     free  \n",
       "4      CLOUDSUPPORT-10391     free  \n",
       "...                   ...      ...  \n",
       "60657  CLOUDSUPPORT-31200     free  \n",
       "60658  CLOUDSUPPORT-31204     free  \n",
       "60659  CLOUDSUPPORT-31205     free  \n",
       "60660  CLOUDSUPPORT-31209     free  \n",
       "60661  CLOUDSUPPORT-31216     free  \n",
       "\n",
       "[60662 rows x 5 columns]"
      ]
     },
     "execution_count": 304,
     "metadata": {},
     "output_type": "execute_result"
    }
   ],
   "source": [
    "tickets_df"
   ]
  },
  {
   "cell_type": "code",
   "execution_count": 305,
   "metadata": {},
   "outputs": [
    {
     "data": {
      "text/plain": [
       "0        False\n",
       "1        False\n",
       "2        False\n",
       "3        False\n",
       "4        False\n",
       "         ...  \n",
       "60657     True\n",
       "60658     True\n",
       "60659     True\n",
       "60660     True\n",
       "60661     True\n",
       "Name: first_paid, Length: 60662, dtype: bool"
      ]
     },
     "execution_count": 305,
     "metadata": {},
     "output_type": "execute_result"
    }
   ],
   "source": [
    "tickets_df.first_paid.isna()"
   ]
  },
  {
   "cell_type": "code",
   "execution_count": 306,
   "metadata": {},
   "outputs": [],
   "source": [
    "trial_mask = (tickets_df.first_paid.isna() | (tickets_df.created_at < tickets_df.first_paid))"
   ]
  },
  {
   "cell_type": "code",
   "execution_count": 307,
   "metadata": {},
   "outputs": [],
   "source": [
    "tickets_df.first_paid = trial_mask.map({True: 'trial', False: 'paid'})"
   ]
  },
  {
   "cell_type": "code",
   "execution_count": 308,
   "metadata": {},
   "outputs": [],
   "source": [
    "tickets_df['month'] = tickets_df.created_at.dt.to_period('M')"
   ]
  },
  {
   "cell_type": "code",
   "execution_count": 313,
   "metadata": {},
   "outputs": [],
   "source": [
    "tickets_count_df = tickets_df.groupby(['cloud_id', 'month', 'pay_type', 'first_paid'])['st_key'].count()"
   ]
  },
  {
   "cell_type": "code",
   "execution_count": 315,
   "metadata": {},
   "outputs": [
    {
     "data": {
      "text/html": [
       "<div>\n",
       "<style scoped>\n",
       "    .dataframe tbody tr th:only-of-type {\n",
       "        vertical-align: middle;\n",
       "    }\n",
       "\n",
       "    .dataframe tbody tr th {\n",
       "        vertical-align: top;\n",
       "    }\n",
       "\n",
       "    .dataframe thead th {\n",
       "        text-align: right;\n",
       "    }\n",
       "</style>\n",
       "<table border=\"1\" class=\"dataframe\">\n",
       "  <thead>\n",
       "    <tr style=\"text-align: right;\">\n",
       "      <th></th>\n",
       "      <th>cloud_id</th>\n",
       "      <th>month</th>\n",
       "      <th>pay_type</th>\n",
       "      <th>first_paid</th>\n",
       "      <th>st_key</th>\n",
       "    </tr>\n",
       "  </thead>\n",
       "  <tbody>\n",
       "    <tr>\n",
       "      <th>0</th>\n",
       "      <td>b1g00ciqp9cntchrso48</td>\n",
       "      <td>2019-08</td>\n",
       "      <td>free</td>\n",
       "      <td>trial</td>\n",
       "      <td>1</td>\n",
       "    </tr>\n",
       "    <tr>\n",
       "      <th>1</th>\n",
       "      <td>b1g00cmf9fhtf3us1mds</td>\n",
       "      <td>2020-01</td>\n",
       "      <td>free</td>\n",
       "      <td>paid</td>\n",
       "      <td>1</td>\n",
       "    </tr>\n",
       "    <tr>\n",
       "      <th>2</th>\n",
       "      <td>b1g00e9vae2mgna79e56</td>\n",
       "      <td>2019-11</td>\n",
       "      <td>free</td>\n",
       "      <td>trial</td>\n",
       "      <td>1</td>\n",
       "    </tr>\n",
       "    <tr>\n",
       "      <th>3</th>\n",
       "      <td>b1g00pbfi9rq6qpv31lp</td>\n",
       "      <td>2019-10</td>\n",
       "      <td>free</td>\n",
       "      <td>trial</td>\n",
       "      <td>1</td>\n",
       "    </tr>\n",
       "    <tr>\n",
       "      <th>4</th>\n",
       "      <td>b1g00s5t8mibtaqcal9u</td>\n",
       "      <td>2020-03</td>\n",
       "      <td>free</td>\n",
       "      <td>trial</td>\n",
       "      <td>1</td>\n",
       "    </tr>\n",
       "    <tr>\n",
       "      <th>...</th>\n",
       "      <td>...</td>\n",
       "      <td>...</td>\n",
       "      <td>...</td>\n",
       "      <td>...</td>\n",
       "      <td>...</td>\n",
       "    </tr>\n",
       "    <tr>\n",
       "      <th>8522</th>\n",
       "      <td>b1gvv8ssf3gu5ssoj0fr</td>\n",
       "      <td>2020-01</td>\n",
       "      <td>free</td>\n",
       "      <td>paid</td>\n",
       "      <td>2</td>\n",
       "    </tr>\n",
       "    <tr>\n",
       "      <th>8523</th>\n",
       "      <td>b1gvv8ssf3gu5ssoj0fr</td>\n",
       "      <td>2020-02</td>\n",
       "      <td>free</td>\n",
       "      <td>paid</td>\n",
       "      <td>2</td>\n",
       "    </tr>\n",
       "    <tr>\n",
       "      <th>8524</th>\n",
       "      <td>b1gvvveok0jto41cd95h</td>\n",
       "      <td>2020-01</td>\n",
       "      <td>free</td>\n",
       "      <td>paid</td>\n",
       "      <td>5</td>\n",
       "    </tr>\n",
       "    <tr>\n",
       "      <th>8525</th>\n",
       "      <td>b1gvvveok0jto41cd95h</td>\n",
       "      <td>2020-01</td>\n",
       "      <td>free</td>\n",
       "      <td>trial</td>\n",
       "      <td>1</td>\n",
       "    </tr>\n",
       "    <tr>\n",
       "      <th>8526</th>\n",
       "      <td>b1gvvveok0jto41cd95h</td>\n",
       "      <td>2020-04</td>\n",
       "      <td>standard</td>\n",
       "      <td>paid</td>\n",
       "      <td>4</td>\n",
       "    </tr>\n",
       "  </tbody>\n",
       "</table>\n",
       "<p>8527 rows × 5 columns</p>\n",
       "</div>"
      ],
      "text/plain": [
       "                  cloud_id    month  pay_type first_paid  st_key\n",
       "0     b1g00ciqp9cntchrso48  2019-08      free      trial       1\n",
       "1     b1g00cmf9fhtf3us1mds  2020-01      free       paid       1\n",
       "2     b1g00e9vae2mgna79e56  2019-11      free      trial       1\n",
       "3     b1g00pbfi9rq6qpv31lp  2019-10      free      trial       1\n",
       "4     b1g00s5t8mibtaqcal9u  2020-03      free      trial       1\n",
       "...                    ...      ...       ...        ...     ...\n",
       "8522  b1gvv8ssf3gu5ssoj0fr  2020-01      free       paid       2\n",
       "8523  b1gvv8ssf3gu5ssoj0fr  2020-02      free       paid       2\n",
       "8524  b1gvvveok0jto41cd95h  2020-01      free       paid       5\n",
       "8525  b1gvvveok0jto41cd95h  2020-01      free      trial       1\n",
       "8526  b1gvvveok0jto41cd95h  2020-04  standard       paid       4\n",
       "\n",
       "[8527 rows x 5 columns]"
      ]
     },
     "execution_count": 315,
     "metadata": {},
     "output_type": "execute_result"
    }
   ],
   "source": [
    "tickets_count_df = tickets_count_df.reset_index()\n",
    "tickets_count_df"
   ]
  },
  {
   "cell_type": "code",
   "execution_count": 336,
   "metadata": {},
   "outputs": [],
   "source": [
    "tickets_mean = tickets_count_df.groupby(['first_paid'])['st_key'].agg(['mean', 'sum']).copy()"
   ]
  },
  {
   "cell_type": "code",
   "execution_count": 337,
   "metadata": {},
   "outputs": [
    {
     "name": "stdout",
     "output_type": "stream",
     "text": [
      "|    | first_paid   |    mean |   sum |\n",
      "|---:|:-------------|--------:|------:|\n",
      "|  0 | paid         | 1.79564 |  6836 |\n",
      "|  1 | trial        | 1.50763 |  7116 |\n"
     ]
    }
   ],
   "source": [
    "print(tickets_mean.reset_index().to_markdown())"
   ]
  },
  {
   "cell_type": "code",
   "execution_count": 322,
   "metadata": {},
   "outputs": [
    {
     "data": {
      "text/plain": [
       "pay_type  first_paid\n",
       "business  paid           126\n",
       "          trial           71\n",
       "free      paid          1910\n",
       "          trial         3864\n",
       "premium   paid            10\n",
       "          trial           12\n",
       "standard  paid           127\n",
       "          trial           86\n",
       "Name: cloud_id, dtype: int64"
      ]
     },
     "execution_count": 322,
     "metadata": {},
     "output_type": "execute_result"
    }
   ],
   "source": [
    "tickets_count_df.groupby(['pay_type', 'first_paid'])['cloud_id'].nunique()"
   ]
  },
  {
   "cell_type": "code",
   "execution_count": 321,
   "metadata": {},
   "outputs": [
    {
     "data": {
      "text/plain": [
       "first_paid  pay_type\n",
       "paid        business     126\n",
       "            free        1910\n",
       "            premium       10\n",
       "            standard     127\n",
       "trial       business      71\n",
       "            free        3864\n",
       "            premium       12\n",
       "            standard      86\n",
       "Name: cloud_id, dtype: int64"
      ]
     },
     "execution_count": 321,
     "metadata": {},
     "output_type": "execute_result"
    }
   ],
   "source": [
    "tickets_count_df.groupby(['first_paid', 'pay_type'])['cloud_id'].nunique()"
   ]
  },
  {
   "cell_type": "code",
   "execution_count": 319,
   "metadata": {},
   "outputs": [
    {
     "data": {
      "text/html": [
       "<div>\n",
       "<style scoped>\n",
       "    .dataframe tbody tr th:only-of-type {\n",
       "        vertical-align: middle;\n",
       "    }\n",
       "\n",
       "    .dataframe tbody tr th {\n",
       "        vertical-align: top;\n",
       "    }\n",
       "\n",
       "    .dataframe thead th {\n",
       "        text-align: right;\n",
       "    }\n",
       "</style>\n",
       "<table border=\"1\" class=\"dataframe\">\n",
       "  <thead>\n",
       "    <tr style=\"text-align: right;\">\n",
       "      <th></th>\n",
       "      <th>count</th>\n",
       "      <th>mean</th>\n",
       "      <th>std</th>\n",
       "      <th>min</th>\n",
       "      <th>25%</th>\n",
       "      <th>50%</th>\n",
       "      <th>75%</th>\n",
       "      <th>max</th>\n",
       "    </tr>\n",
       "    <tr>\n",
       "      <th>first_paid</th>\n",
       "      <th></th>\n",
       "      <th></th>\n",
       "      <th></th>\n",
       "      <th></th>\n",
       "      <th></th>\n",
       "      <th></th>\n",
       "      <th></th>\n",
       "      <th></th>\n",
       "    </tr>\n",
       "  </thead>\n",
       "  <tbody>\n",
       "    <tr>\n",
       "      <th>paid</th>\n",
       "      <td>3807.0</td>\n",
       "      <td>1.795640</td>\n",
       "      <td>1.965614</td>\n",
       "      <td>1.0</td>\n",
       "      <td>1.0</td>\n",
       "      <td>1.0</td>\n",
       "      <td>2.0</td>\n",
       "      <td>45.0</td>\n",
       "    </tr>\n",
       "    <tr>\n",
       "      <th>trial</th>\n",
       "      <td>4720.0</td>\n",
       "      <td>1.507627</td>\n",
       "      <td>1.635310</td>\n",
       "      <td>1.0</td>\n",
       "      <td>1.0</td>\n",
       "      <td>1.0</td>\n",
       "      <td>1.0</td>\n",
       "      <td>37.0</td>\n",
       "    </tr>\n",
       "  </tbody>\n",
       "</table>\n",
       "</div>"
      ],
      "text/plain": [
       "             count      mean       std  min  25%  50%  75%   max\n",
       "first_paid                                                      \n",
       "paid        3807.0  1.795640  1.965614  1.0  1.0  1.0  2.0  45.0\n",
       "trial       4720.0  1.507627  1.635310  1.0  1.0  1.0  1.0  37.0"
      ]
     },
     "execution_count": 319,
     "metadata": {},
     "output_type": "execute_result"
    }
   ],
   "source": [
    "tickets_count_df.groupby(['first_paid'])['st_key'].describe()"
   ]
  },
  {
   "cell_type": "code",
   "execution_count": null,
   "metadata": {},
   "outputs": [],
   "source": []
  }
 ],
 "metadata": {
  "kernelspec": {
   "display_name": "Python 3.7.6 64-bit ('base': conda)",
   "language": "python",
   "name": "python37664bitbaseconda114ea60be9124f778d0ba208748c15e1"
  },
  "language_info": {
   "codemirror_mode": {
    "name": "ipython",
    "version": 3
   },
   "file_extension": ".py",
   "mimetype": "text/x-python",
   "name": "python",
   "nbconvert_exporter": "python",
   "pygments_lexer": "ipython3",
   "version": "3.7.6"
  }
 },
 "nbformat": 4,
 "nbformat_minor": 4
}
