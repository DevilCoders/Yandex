{
 "cells": [
  {
   "cell_type": "code",
   "execution_count": 1,
   "metadata": {},
   "outputs": [],
   "source": [
    "import numpy as np\n",
    "from tqdm import tqdm_notebook as tqdm\n",
    "import scipy as sp\n",
    "import scipy.stats as sps\n",
    "from sklearn.decomposition import PCA\n",
    "from sklearn.model_selection import train_test_split\n",
    "import gc\n",
    "import pandas as pd\n",
    "import matplotlib.pyplot as plt\n",
    "import seaborn as sns\n",
    "import datetime\n",
    "import re\n",
    "\n",
    "import numpy as np\n",
    "import pandas as pd\n",
    "import scipy.stats as sps\n",
    "import matplotlib.pyplot as plt\n",
    "from numpy.linalg import inv\n",
    "from numpy import linalg as LA\n",
    "from scipy.linalg import eigvals as eig\n",
    "import seaborn as sns\n",
    "from collections import Counter\n",
    "from statsmodels.sandbox.stats.multicomp import multipletests\n",
    "from tqdm import tqdm_notebook\n",
    "import gc\n",
    "from sklearn.linear_model import LinearRegression\n",
    "from sklearn.linear_model import Ridge\n",
    "from sklearn.linear_model import Lasso\n",
    "from sklearn.model_selection import train_test_split\n",
    "from sklearn.metrics import mean_squared_error\n",
    "from sklearn.datasets import load_boston\n",
    "from scipy.linalg import eigvals\n",
    "\n",
    "sns.set()\n",
    "%matplotlib inline"
   ]
  },
  {
   "cell_type": "markdown",
   "metadata": {},
   "source": [
    "## Подготовка таблицы"
   ]
  },
  {
   "cell_type": "code",
   "execution_count": 2,
   "metadata": {},
   "outputs": [
    {
     "name": "stderr",
     "output_type": "stream",
     "text": [
      "/anaconda3/lib/python3.7/site-packages/IPython/core/interactiveshell.py:3049: DtypeWarning: Columns (9) have mixed types. Specify dtype option on import or set low_memory=False.\n",
      "  interactivity=interactivity, compiler=compiler, result=result)\n"
     ]
    }
   ],
   "source": [
    "df = pd.read_csv(\"201\", sep = \"\\t\")\n",
    "df.drop(columns = [\"payment_type\"], inplace = True)\n",
    "df[\"event_time\"] =  pd.to_datetime(df[\"event_time\"])\n",
    "df = df.sort_values(by=['event_time'])\n",
    "dummy = pd.get_dummies(df[\"event\"])\n",
    "dummy.drop(columns = [\"ba_became_paid\", \"ba_created\", \"cloud_created\", \"day_use\", \\\n",
    "                      \"first_paid_consumption\", \"first_payment\", \"first_trial_consumption\"], inplace = True)\n",
    "df = pd.concat([df, dummy], axis = 1)"
   ]
  },
  {
   "cell_type": "code",
   "execution_count": 3,
   "metadata": {},
   "outputs": [],
   "source": [
    "sku = pd.read_csv(\"sku_tags.csv\")\n",
    "sku.drop(columns = [\"service_name\", \"sku_id\"], inplace = True)\n",
    "\n",
    "services = ['compute', 'network', 'storage', 'managed_databases',\n",
    "            'container_registry', 'artificial_intelligence',\n",
    "            'network_load_balancer', 'yandex_message_queue']\n",
    "\n",
    "subservices_hash_map = {}\n",
    "for service in services:\n",
    "    subservices = sku[sku[\"service_long_name\"] == service][\"subservice_name\"].unique()\n",
    "    subservices = [\"subservice_\" + col for col in subservices]\n",
    "    subservices_hash_map[service] = subservices"
   ]
  },
  {
   "cell_type": "code",
   "execution_count": 4,
   "metadata": {},
   "outputs": [],
   "source": [
    "core_cols = ['core_5.0', 'core_fraction_10.0', 'core_fraction_20.0', 'core_fraction_50.0', \\\n",
    "             'core_100.0']\n",
    "platform_cols = ['platform_v1', 'platform_v2']\n",
    "database_cols = ['clickhouse', 'mongo', 'ms_sql', 'mysql', 'pg', 'redis']\n",
    "preemtible_col = ['preemtible_is']"
   ]
  },
  {
   "cell_type": "code",
   "execution_count": 5,
   "metadata": {},
   "outputs": [],
   "source": [
    "sku = pd.read_csv(\"sku_tags.csv\")\n",
    "sku.drop(columns = [\"service_name\", \"sku_id\"], inplace = True)\n",
    "\n",
    "dummy = pd.get_dummies(sku[\"core_fraction\"])\n",
    "dummy.columns = [\"core_\" + str(i) for i in dummy.columns]\n",
    "sku = pd.concat([sku, dummy], axis = 1)\n",
    "sku.drop(columns = [\"core_fraction\"], inplace = True)\n",
    "\n",
    "dummy = pd.get_dummies(sku[\"database\"])\n",
    "dummy.columns = [\"database_\" + str(i) for i in dummy.columns]\n",
    "sku = pd.concat([sku, dummy], axis = 1)\n",
    "sku.drop(columns = [\"database\"], inplace = True)\n",
    "\n",
    "dummy = pd.get_dummies(sku[\"platform\"])\n",
    "dummy.columns = [\"platform_\" + str(i) for i in dummy.columns]\n",
    "sku = pd.concat([sku, dummy], axis = 1)\n",
    "sku.drop(columns = [\"platform\"], inplace = True)\n",
    "\n",
    "dummy = pd.get_dummies(sku[\"preemptible\"])\n",
    "dummy.columns = [\"preemtible_is\"]\n",
    "sku = pd.concat([sku, dummy], axis = 1)\n",
    "sku.drop(columns = [\"preemptible\"], inplace = True)\n",
    "\n",
    "dummy = pd.get_dummies(sku[\"service_long_name\"])\n",
    "sku = pd.concat([sku, dummy], axis = 1)\n",
    "\n",
    "dummy = pd.get_dummies(sku[\"subservice_name\"])\n",
    "dummy.columns = [\"subservice_\" + str(i) for i in dummy.columns]\n",
    "sku = pd.concat([sku, dummy], axis = 1)\n",
    "#sku.drop(columns = [\"subservice_name\"], inplace = True)\n"
   ]
  },
  {
   "cell_type": "code",
   "execution_count": 6,
   "metadata": {},
   "outputs": [],
   "source": [
    "df = df.merge(sku, left_on='sku_name', right_on = \"sku_name\", how = \"left\")\n",
    "df.drop(columns = [\"sku_name\"], inplace = True)"
   ]
  },
  {
   "cell_type": "markdown",
   "metadata": {},
   "source": [
    "## Общее"
   ]
  },
  {
   "cell_type": "code",
   "execution_count": 7,
   "metadata": {},
   "outputs": [],
   "source": [
    "class Client:\n",
    "    def __init__(self, puid, acc_num, ba_currency, ba_person_type, segment,\n",
    "                 ba_payment_cycle_type, service_long_name):\n",
    "        self.id = puid\n",
    "        self.payed_acc_num = acc_num\n",
    "        self.ba_currency = ba_currency\n",
    "        self.ba_person_type = ba_person_type\n",
    "        self.segment = segment\n",
    "        self.ba_payment_cycle_type = ba_payment_cycle_type\n",
    "        self.service_long_name = service_long_name\n",
    "        self.out_of_cloud = False\n",
    "        self.weeks_in_cloud = -1\n",
    "        \n",
    "    def print_info(self):\n",
    "        print(\"Client INFO\\n==================================\")\n",
    "        print(\"puid:\", self.id)\n",
    "        print(\"payed_acc_num:\", self.payed_acc_num)\n",
    "        print(\"ba_currency:\", self.ba_currency)\n",
    "        print(\"ba_person_type:\", self.ba_person_type)\n",
    "        print(\"segment:\", self.segment)\n",
    "        print(\"ba_payment_cycle_type:\", self.ba_payment_cycle_type)\n",
    "        print(\"service_long_name:\", self.service_long_name)\n",
    "        print(\"out_of_cloud:\", self.out_of_cloud)\n",
    "        print(\"weeks_in_cloud:\", self.weeks_in_cloud)\n",
    "        print(\"==================================\")"
   ]
  },
  {
   "cell_type": "code",
   "execution_count": 8,
   "metadata": {},
   "outputs": [],
   "source": [
    "def calculate_client_info(curr_sku, df_curr):\n",
    "    df = df_curr[df_curr[\"service_long_name\"] == curr_sku]\n",
    "    puids = df[\"puid\"].unique()\n",
    "    print(\"Common info\\n====================\")\n",
    "    print(\"unique users:\", df[\"puid\"].unique().shape)\n",
    "    print(\"====================\")\n",
    "    df_grouped = df_curr.groupby([\"puid\"])\n",
    "    hashed_clients = {}\n",
    "    for puid, df_account in df_grouped:\n",
    "        \n",
    "        if puid not in puids:\n",
    "            continue\n",
    "        df_account = df_account[(df_account[\"service_long_name\"] == curr_sku) |\n",
    "                                (df_account[\"event\"] != \"day_use\")]\n",
    "        \n",
    "        if df_account[\"ba_currency\"].unique().shape[0] > 1:\n",
    "            print(df_account[\"ba_currency\"].unique())\n",
    "\n",
    "        acc_num = df_account[\"billing_account_id\"].unique().shape[0]\n",
    "        ba_currency = df_account[\"ba_currency\"].unique()[0]\n",
    "        ba_person_type = np.array(df_account[\"ba_person_type\"].unique())\n",
    "        ba_person_type = ba_person_type[~pd.isnull(ba_person_type)]\n",
    "\n",
    "        if ba_person_type.shape[0] > 1: \n",
    "            #print(df_account.head())\n",
    "            #print(bill_id, df_account[\"ba_person_type\"].unique())\n",
    "            ba_person_type = np.array(['company'])\n",
    "\n",
    "        if ba_person_type.shape[0] == 0:\n",
    "            ba_person_type = np.array(['no_type'])\n",
    "\n",
    "        segment = np.array(df_account[\"segment\"].unique())\n",
    "        if segment.shape[0] > 1: \n",
    "            #print(bill_id, df_account[\"segment\"].unique())\n",
    "            segment = [df_account[\"segment\"].iloc[-1]]\n",
    "\n",
    "        ba_payment_cycle_type = np.array(df_account[\"ba_payment_cycle_type\"].unique())\n",
    "        if ba_payment_cycle_type.shape[0] > 1: \n",
    "            #print(bill_id, df_account[\"segment\"].unique())\n",
    "            ba_payment_cycle_type = [df_account[\"ba_payment_cycle_type\"].iloc[-1]]\n",
    "            print(ba_payment_cycle_type)\n",
    "\n",
    "        service_long_name = np.array(df_curr[df_curr[\"puid\"] == puid][\"service_long_name\"].unique())\n",
    "        service_long_name = service_long_name[~pd.isnull(service_long_name)]\n",
    "        #print(bill_id, ba_currency, ba_person_type, segment,\n",
    "         #            ba_payment_cycle_type, service_long_name)\n",
    "        hashed_clients[puid] = Client(puid, acc_num, ba_currency, ba_person_type[0], segment[0],\n",
    "                     ba_payment_cycle_type[0], service_long_name)\n",
    "\n",
    "    print(\"OK\")\n",
    "    return hashed_clients"
   ]
  },
  {
   "cell_type": "code",
   "execution_count": 9,
   "metadata": {},
   "outputs": [],
   "source": [
    "def make_simple_analysis(curr_sku, df_curr):\n",
    "    df = df_curr[df_curr[\"service_long_name\"] == curr_sku]\n",
    "    curr = df.groupby([pd.Grouper(key='event_time', freq='W-Mon')])['real_consumption'].sum()\\\n",
    "                                .reset_index().sort_values('event_time')\n",
    "    curr = curr[curr[\"event_time\"] <= last_date]\n",
    "    plt.figure(figsize = (10, 7))\n",
    "    plt.title(\"Real consumption в неделю для {}\".format(curr_sku), fontsize = 15)\n",
    "    plt.plot(curr[\"event_time\"], curr[\"real_consumption\"], color = \"orange\")\n",
    "    plt.xlabel(\"дата\", fontsize = 15)\n",
    "    plt.ylabel(\"Real consumption\", fontsize = 15)"
   ]
  },
  {
   "cell_type": "code",
   "execution_count": 10,
   "metadata": {},
   "outputs": [],
   "source": [
    "add_hash_map = {}\n",
    "add_hash_map[\"core_fraction\"] = ['core_5.0', 'core_10.0', 'core_20.0', 'core_50.0', 'core_100.0']\n",
    "add_hash_map[\"platform\"] = ['platform_v1', 'platform_v2']\n",
    "add_hash_map[\"database\"] = ['database_clickhouse', 'database_mongo', 'database_ms_sql', \n",
    "                            'database_mysql', 'database_pg', 'database_redis']\n",
    "add_hash_map[\"preemptible\"] = ['preemtible_is']"
   ]
  },
  {
   "cell_type": "code",
   "execution_count": 11,
   "metadata": {},
   "outputs": [],
   "source": [
    "services = ['compute', 'network', 'storage', 'managed_databases',\n",
    "            'container_registry', 'artificial_intelligence',\n",
    "            'network_load_balancer', 'yandex_message_queue']"
   ]
  },
  {
   "cell_type": "code",
   "execution_count": 12,
   "metadata": {},
   "outputs": [],
   "source": [
    "def prepare_service_sku_columns(curr_sku):\n",
    "    sku = pd.read_csv(\"sku_tags.csv\")\n",
    "    sku.drop(columns = [\"service_name\", \"sku_id\"], inplace = True)\n",
    "    add_cols = [\"core_fraction\", \"database\", \"platform\", \"preemptible\"]\n",
    "    ans = []\n",
    "    for col in add_cols:\n",
    "        vals = np.array(sku[sku[\"service_long_name\"] == curr_sku][col].unique())\n",
    "        vals = vals[~pd.isnull(vals)]\n",
    "        if vals.shape[0] != 0:\n",
    "            for new_col in add_hash_map[col]:\n",
    "                ans.append(new_col)\n",
    "    for new_col in subservices_hash_map[curr_sku]:\n",
    "        ans.append(new_col)\n",
    "    return ans"
   ]
  },
  {
   "cell_type": "markdown",
   "metadata": {},
   "source": [
    "## MDB"
   ]
  },
  {
   "cell_type": "code",
   "execution_count": 13,
   "metadata": {},
   "outputs": [],
   "source": [
    "mdb_curr_sku = 'managed_databases'"
   ]
  },
  {
   "cell_type": "code",
   "execution_count": 14,
   "metadata": {},
   "outputs": [
    {
     "name": "stdout",
     "output_type": "stream",
     "text": [
      "Common info\n",
      "====================\n",
      "unique users: (465,)\n",
      "====================\n",
      "OK\n"
     ]
    }
   ],
   "source": [
    "mdb_hashed_clients = calculate_client_info(mdb_curr_sku, df)"
   ]
  },
  {
   "cell_type": "code",
   "execution_count": 15,
   "metadata": {},
   "outputs": [],
   "source": [
    "last_date = np.datetime64('2019-07-01')"
   ]
  },
  {
   "cell_type": "code",
   "execution_count": 16,
   "metadata": {},
   "outputs": [
    {
     "name": "stderr",
     "output_type": "stream",
     "text": [
      "/anaconda3/lib/python3.7/site-packages/pandas/plotting/_converter.py:129: FutureWarning: Using an implicitly registered datetime converter for a matplotlib plotting method. The converter was registered by pandas on import. Future versions of pandas will require you to explicitly register matplotlib converters.\n",
      "\n",
      "To register the converters:\n",
      "\t>>> from pandas.plotting import register_matplotlib_converters\n",
      "\t>>> register_matplotlib_converters()\n",
      "  warnings.warn(msg, FutureWarning)\n"
     ]
    },
    {
     "data": {
      "image/png": "[encoded data removed]",
      "text/plain": [
       "<Figure size 720x504 with 1 Axes>"
      ]
     },
     "metadata": {
      "needs_background": "light"
     },
     "output_type": "display_data"
    }
   ],
   "source": [
    "make_simple_analysis(mdb_curr_sku, df)"
   ]
  },
  {
   "cell_type": "code",
   "execution_count": 17,
   "metadata": {},
   "outputs": [],
   "source": [
    "mdb_cols = prepare_service_sku_columns(mdb_curr_sku)"
   ]
  },
  {
   "cell_type": "code",
   "execution_count": 19,
   "metadata": {},
   "outputs": [
    {
     "data": {
      "text/plain": [
       "2265"
      ]
     },
     "execution_count": 19,
     "metadata": {},
     "output_type": "execute_result"
    }
   ],
   "source": [
    "gc.collect()"
   ]
  },
  {
   "cell_type": "code",
   "execution_count": 20,
   "metadata": {},
   "outputs": [],
   "source": [
    "def prepare_columns_inside_table_creator(add_cols):\n",
    "    person_cols = [\"month\", \"puid\", \"out_of_cloud\", \"ba_person_type\", \"segment\", \\\n",
    "                   \"ba_payment_cycle_type\", \"weeks_in_cloud\", \\\n",
    "                   \"avg_day_consumption\", \"max_day_consumption\", \"non_zero_days_consumption\",\\\n",
    "                   \"visits\", \"clicks\", \"calls\"]\n",
    "    val = \"sum\"\n",
    "    add_dict = {}\n",
    "    for col in add_cols:\n",
    "        add_dict[col] = val\n",
    "        person_cols.append(\"avg_\" + col)\n",
    "        person_cols.append(\"max_\" + col)\n",
    "        person_cols.append(\"non_zero_days_\" + col)\n",
    "    for service in services:\n",
    "        person_cols.append(\"consumption_service_\" + service)\n",
    "\n",
    "    for i in range(4, 0, -1):\n",
    "        person_cols.append(\"real_consumption_\" + str(-i))\n",
    "    return person_cols, add_dict\n",
    "\n",
    "\n",
    "def raw_info_getter(curr_sku, puid, df_account, hashed_clients, add_cols):\n",
    "    \n",
    "    curr_cons = df_account.groupby([pd.Grouper(key='event_time', freq = \"d\")]).agg({\n",
    "        'real_consumption':\"sum\"\n",
    "    }).reset_index().sort_values('event_time')     \n",
    "    \n",
    "    additional_consump = {}\n",
    "    \n",
    "    for col in add_cols:\n",
    "        curr_add_df = df_account[df_account[col] > 0.5]\n",
    "        #print(curr_add_df)\n",
    "        add_df_temp = curr_add_df.groupby([pd.Grouper(key='event_time', freq = \"d\")]).agg(\\\n",
    "         {'real_consumption':\"sum\"}).reset_index().sort_values('event_time')\n",
    "        additional_consump[col] = np.array(add_df_temp[\"real_consumption\"])\n",
    "\n",
    "    consumptions = np.array(curr_cons['real_consumption'])\n",
    "    clicks = df_account['click_mail'].sum()\n",
    "    visits = df_account['visit'].sum()\n",
    "    calls = df_account['call'].sum()\n",
    "    return consumptions, clicks, visits, calls, additional_consump\n",
    "\n",
    "\n",
    "def last_preparation_table_inside_table_creator(person_df):\n",
    "    \n",
    "    person_df[\"puid\"] = pd.to_numeric(person_df[\"puid\"])\n",
    "    person_df[\"out_of_cloud\"] = pd.to_numeric(person_df[\"out_of_cloud\"])\n",
    "    person_df[\"weeks_in_cloud\"] = pd.to_numeric(person_df[\"weeks_in_cloud\"])\n",
    "    \n",
    "    patterns = [\"num_\", \"clicks\", \"non_zero_days_\", \\\n",
    "                \"calls\", \"visits\", \"max_\", \"avg_\", \"consumption_\", \"real_consumption\"]\n",
    "    type_cols = [i for i in person_df.columns if any(x in i for x in patterns)]\n",
    "    for col in type_cols:\n",
    "        person_df[col] = pd.to_numeric(person_df[col])\n",
    "    return person_df\n",
    "\n",
    "def adding_person_mean_max_non_zero_info(person_row, arr):\n",
    "    person_row.append(np.sum(arr) / 30)\n",
    "    person_row.append(np.max(arr))\n",
    "    person_row.append(np.count_nonzero(arr))\n",
    "\n",
    "def person_row_creator(month,\n",
    "                       puid,\n",
    "                       out_of_cloud, \n",
    "                       ba_person_type, \n",
    "                       segment, \n",
    "                       ba_payment_cycle_type, \n",
    "                       weeks_in_cloud,\n",
    "                       consumptions,\n",
    "                       visits,\n",
    "                       clicks,\n",
    "                       calls,\n",
    "                       add_cols,\n",
    "                       additional_consump):\n",
    "    person_row = [month, puid, out_of_cloud, ba_person_type, segment, \n",
    "                  ba_payment_cycle_type, weeks_in_cloud]\n",
    "\n",
    "    #if curr_client.id == 4299035:\n",
    "    #    print(consumptions)\n",
    "    #    print(np.mean(consumptions))\n",
    "\n",
    "    adding_person_mean_max_non_zero_info(person_row, consumptions)\n",
    "    person_row.append(visits)\n",
    "    person_row.append(clicks)\n",
    "    person_row.append(calls)\n",
    "\n",
    "    for col in add_cols:\n",
    "        if additional_consump[col].shape[0] == 0:\n",
    "            person_row.append(0)\n",
    "            person_row.append(0)\n",
    "            person_row.append(0)\n",
    "            continue\n",
    "        adding_person_mean_max_non_zero_info(person_row, additional_consump[col])\n",
    "    return person_row\n",
    "\n"
   ]
  },
  {
   "cell_type": "code",
   "execution_count": 21,
   "metadata": {},
   "outputs": [],
   "source": [
    "def person_table_creator(curr_sku, df_curr, hashed_clients, add_cols, last_date_of_observing):\n",
    "    person_cols, add_dict = prepare_columns_inside_table_creator(add_cols)\n",
    "    count = 1\n",
    "    person_count = 1\n",
    "    dropped_users = 0\n",
    "    person_df = pd.DataFrame(columns = person_cols)\n",
    "    df = df_curr[df_curr[\"service_long_name\"] == curr_sku]\n",
    "    puids = df[\"puid\"].unique()\n",
    "    print(\"Common info\\n====================\")\n",
    "    print(\"unique users:\", puids.shape[0])\n",
    "    print(\"====================\")\n",
    "    df_grouped = df_curr.groupby([\"puid\"])\n",
    "    plt.figure(figsize = (10, 7))\n",
    "    for puid, df_account in tqdm(df_grouped):\n",
    "    \n",
    "        if puid not in puids:\n",
    "            continue\n",
    "        \n",
    "        df_account = df_account[((df_account[\"service_long_name\"] == curr_sku) &\n",
    "                                 ~(df_account[\"subservice_name\"].isin(['network-hdd', 'network-nvme', 'public_ip'])))|\n",
    "                                (df_account[\"event\"] != \"day_use\")]\n",
    "        #ограничим просмотром только на следующий месяц\n",
    "        df_account = df_account[df_account['event_time'] <= last_date_of_observing]\n",
    "        if df_account[df_account['real_consumption'] >= 0.01].shape[0] == 0: #не было вообще потребления\n",
    "            continue\n",
    "        \n",
    "        last_dt = df_account[df_account['real_consumption'] >= 0.01][\"event_time\"].iloc[-1]\n",
    "        \n",
    "        dropped = False\n",
    "        # Если в последний раз потребление было ранее предсказываемого месяца, то он ушел, иначе остался\n",
    "        #(при этом ограничились просмоторм макс след месяцем)\n",
    "        if  last_dt < last_date_of_observing - pd.Timedelta(30, unit='d'):\n",
    "            dropped = True\n",
    "        \n",
    "        # Теперь смотрим только на информацию по 30 последним активным дням\n",
    "        min_dt = last_dt - pd.Timedelta(30, unit='d')\n",
    "        df_account = df_account[(df_account['event_time'] <= last_dt)]\n",
    "\n",
    "        weeks_in_cloud = df_account['event_time'].iloc[-1] - df_account['event_time'].iloc[0]\n",
    "        weeks_in_cloud = weeks_in_cloud.days / 7\n",
    "        \n",
    "        df_account = df_account[(df_account['event_time'] >= min_dt)]\n",
    "        \n",
    "        #посчитаем метрики по дням\n",
    "        consumptions, clicks, \\\n",
    "        visits, calls, additional_consump = raw_info_getter(curr_sku, puid, \n",
    "                                                                     df_account, hashed_clients, add_cols)\n",
    "        \n",
    "        curr_client = hashed_clients[puid]\n",
    "        \n",
    "        last_days = 29\n",
    "        if consumptions.shape[0] < 29:\n",
    "            continue\n",
    "    \n",
    "        \n",
    "########################person_creator##################################\n",
    "        person_row = person_row_creator(df_account[\"event_time\"].iloc[0].month, \n",
    "                       puid,\n",
    "                       dropped, \n",
    "                       curr_client.ba_person_type, \n",
    "                       curr_client.segment, \n",
    "                       curr_client.ba_payment_cycle_type, \n",
    "                       weeks_in_cloud,\n",
    "                       consumptions,\n",
    "                       visits,\n",
    "                       clicks,\n",
    "                       calls,\n",
    "                       add_cols,\n",
    "                       additional_consump)\n",
    "        for service in services:\n",
    "            #print(service)\n",
    "            curr_cons = df_curr[(df_curr[\"puid\"] == puid) &\\\n",
    "                    (df_curr[\"service_long_name\"] == service)][\"real_consumption\"].sum()\n",
    "            person_row.append(curr_cons)\n",
    "        \n",
    "        curr_cons = consumptions[-last_days:]\n",
    "        for i in range(4):\n",
    "            week_ans = 0\n",
    "            for j in range(7):\n",
    "                num = i * 7 + j\n",
    "                week_ans += curr_cons[num]\n",
    "            #print(week_ans)\n",
    "            person_row.append(week_ans)\n",
    "        #print(len(person_row), len(person_cols))\n",
    "        #print(person_cols)\n",
    "        person_df.loc[person_count] =  person_row\n",
    "        if dropped == True:\n",
    "            dropped_users += 1\n",
    "        person_count += 1\n",
    "########################person_creator##################################\n",
    "    person_count -= 1\n",
    "    person_df = last_preparation_table_inside_table_creator(person_df)\n",
    "    print(\"Рассмотрено пользователей:\", person_count)\n",
    "    print(\"Ушло пользователей:\", dropped_users)\n",
    "    print(\"Процент ушедших пользователей:\", dropped_users / person_count)\n",
    "    \n",
    "    return person_df"
   ]
  },
  {
   "cell_type": "code",
   "execution_count": 22,
   "metadata": {},
   "outputs": [],
   "source": [
    "july = np.datetime64('2019-07-01')"
   ]
  },
  {
   "cell_type": "code",
   "execution_count": 23,
   "metadata": {},
   "outputs": [
    {
     "name": "stdout",
     "output_type": "stream",
     "text": [
      "Common info\n",
      "====================\n",
      "unique users: 465\n",
      "====================\n"
     ]
    },
    {
     "data": {
      "application/vnd.jupyter.widget-view+json": {
       "model_id": "14a282808c5249d6804a0301cfaeb90c",
       "version_major": 2,
       "version_minor": 0
      },
      "text/plain": [
       "HBox(children=(IntProgress(value=0, max=5765), HTML(value='')))"
      ]
     },
     "metadata": {},
     "output_type": "display_data"
    },
    {
     "name": "stdout",
     "output_type": "stream",
     "text": [
      "\n",
      "Рассмотрено пользователей: 175\n",
      "Ушло пользователей: 26\n",
      "Процент ушедших пользователей: 0.14857142857142858\n"
     ]
    },
    {
     "data": {
      "text/plain": [
       "<Figure size 720x504 with 0 Axes>"
      ]
     },
     "metadata": {},
     "output_type": "display_data"
    }
   ],
   "source": [
    "mdb_person_df = person_table_creator(mdb_curr_sku, df,\\\n",
    "                                            mdb_hashed_clients, mdb_cols, july)"
   ]
  },
  {
   "cell_type": "code",
   "execution_count": 24,
   "metadata": {},
   "outputs": [],
   "source": [
    "mdb_person_df.drop(columns = [\"month\"], inplace = True)"
   ]
  },
  {
   "cell_type": "code",
   "execution_count": 25,
   "metadata": {},
   "outputs": [
    {
     "data": {
      "text/plain": [
       "1732"
      ]
     },
     "execution_count": 25,
     "metadata": {},
     "output_type": "execute_result"
    }
   ],
   "source": [
    "gc.collect()"
   ]
  },
  {
   "cell_type": "code",
   "execution_count": 26,
   "metadata": {},
   "outputs": [
    {
     "data": {
      "text/html": [
       "<div>\n",
       "<style scoped>\n",
       "    .dataframe tbody tr th:only-of-type {\n",
       "        vertical-align: middle;\n",
       "    }\n",
       "\n",
       "    .dataframe tbody tr th {\n",
       "        vertical-align: top;\n",
       "    }\n",
       "\n",
       "    .dataframe thead th {\n",
       "        text-align: right;\n",
       "    }\n",
       "</style>\n",
       "<table border=\"1\" class=\"dataframe\">\n",
       "  <thead>\n",
       "    <tr style=\"text-align: right;\">\n",
       "      <th></th>\n",
       "      <th>puid</th>\n",
       "      <th>out_of_cloud</th>\n",
       "      <th>ba_person_type</th>\n",
       "      <th>segment</th>\n",
       "      <th>ba_payment_cycle_type</th>\n",
       "      <th>weeks_in_cloud</th>\n",
       "      <th>avg_day_consumption</th>\n",
       "      <th>max_day_consumption</th>\n",
       "      <th>non_zero_days_consumption</th>\n",
       "      <th>visits</th>\n",
       "      <th>...</th>\n",
       "      <th>consumption_service_storage</th>\n",
       "      <th>consumption_service_managed_databases</th>\n",
       "      <th>consumption_service_container_registry</th>\n",
       "      <th>consumption_service_artificial_intelligence</th>\n",
       "      <th>consumption_service_network_load_balancer</th>\n",
       "      <th>consumption_service_yandex_message_queue</th>\n",
       "      <th>real_consumption_-4</th>\n",
       "      <th>real_consumption_-3</th>\n",
       "      <th>real_consumption_-2</th>\n",
       "      <th>real_consumption_-1</th>\n",
       "    </tr>\n",
       "  </thead>\n",
       "  <tbody>\n",
       "    <tr>\n",
       "      <th>1</th>\n",
       "      <td>275672</td>\n",
       "      <td>False</td>\n",
       "      <td>individual</td>\n",
       "      <td>mass</td>\n",
       "      <td>monthly</td>\n",
       "      <td>22.571429</td>\n",
       "      <td>74.400001</td>\n",
       "      <td>72.000001</td>\n",
       "      <td>31</td>\n",
       "      <td>0</td>\n",
       "      <td>...</td>\n",
       "      <td>0.000000</td>\n",
       "      <td>6936.654066</td>\n",
       "      <td>0.000000</td>\n",
       "      <td>0.0</td>\n",
       "      <td>0.0</td>\n",
       "      <td>0.000</td>\n",
       "      <td>504.000010</td>\n",
       "      <td>504.000010</td>\n",
       "      <td>504.000010</td>\n",
       "      <td>504.000010</td>\n",
       "    </tr>\n",
       "    <tr>\n",
       "      <th>2</th>\n",
       "      <td>4668718</td>\n",
       "      <td>False</td>\n",
       "      <td>individual</td>\n",
       "      <td>mass</td>\n",
       "      <td>monthly</td>\n",
       "      <td>21.000000</td>\n",
       "      <td>122.164802</td>\n",
       "      <td>118.224002</td>\n",
       "      <td>31</td>\n",
       "      <td>3</td>\n",
       "      <td>...</td>\n",
       "      <td>0.013638</td>\n",
       "      <td>6992.820701</td>\n",
       "      <td>0.000000</td>\n",
       "      <td>0.0</td>\n",
       "      <td>0.0</td>\n",
       "      <td>0.000</td>\n",
       "      <td>827.568017</td>\n",
       "      <td>827.568017</td>\n",
       "      <td>827.568017</td>\n",
       "      <td>827.568017</td>\n",
       "    </tr>\n",
       "    <tr>\n",
       "      <th>3</th>\n",
       "      <td>5579731</td>\n",
       "      <td>False</td>\n",
       "      <td>individual</td>\n",
       "      <td>mass</td>\n",
       "      <td>monthly</td>\n",
       "      <td>17.571429</td>\n",
       "      <td>277.348652</td>\n",
       "      <td>288.489605</td>\n",
       "      <td>30</td>\n",
       "      <td>2</td>\n",
       "      <td>...</td>\n",
       "      <td>1536.266147</td>\n",
       "      <td>42088.166959</td>\n",
       "      <td>0.000000</td>\n",
       "      <td>0.0</td>\n",
       "      <td>0.0</td>\n",
       "      <td>0.000</td>\n",
       "      <td>2019.427238</td>\n",
       "      <td>2019.427238</td>\n",
       "      <td>2019.427238</td>\n",
       "      <td>1610.733631</td>\n",
       "    </tr>\n",
       "    <tr>\n",
       "      <th>4</th>\n",
       "      <td>7003446</td>\n",
       "      <td>False</td>\n",
       "      <td>individual</td>\n",
       "      <td>mass</td>\n",
       "      <td>monthly</td>\n",
       "      <td>16.714286</td>\n",
       "      <td>17.498880</td>\n",
       "      <td>16.934400</td>\n",
       "      <td>31</td>\n",
       "      <td>0</td>\n",
       "      <td>...</td>\n",
       "      <td>0.161004</td>\n",
       "      <td>1630.012256</td>\n",
       "      <td>1.479387</td>\n",
       "      <td>0.0</td>\n",
       "      <td>0.0</td>\n",
       "      <td>0.000</td>\n",
       "      <td>118.540802</td>\n",
       "      <td>118.540802</td>\n",
       "      <td>118.540802</td>\n",
       "      <td>118.540802</td>\n",
       "    </tr>\n",
       "    <tr>\n",
       "      <th>5</th>\n",
       "      <td>10324308</td>\n",
       "      <td>False</td>\n",
       "      <td>individual</td>\n",
       "      <td>isv</td>\n",
       "      <td>monthly</td>\n",
       "      <td>23.285714</td>\n",
       "      <td>47.020407</td>\n",
       "      <td>45.532801</td>\n",
       "      <td>31</td>\n",
       "      <td>11</td>\n",
       "      <td>...</td>\n",
       "      <td>0.205579</td>\n",
       "      <td>9560.831372</td>\n",
       "      <td>0.000000</td>\n",
       "      <td>0.0</td>\n",
       "      <td>0.0</td>\n",
       "      <td>0.073</td>\n",
       "      <td>318.729606</td>\n",
       "      <td>318.729606</td>\n",
       "      <td>318.729606</td>\n",
       "      <td>318.729606</td>\n",
       "    </tr>\n",
       "  </tbody>\n",
       "</table>\n",
       "<p>5 rows × 96 columns</p>\n",
       "</div>"
      ],
      "text/plain": [
       "       puid  out_of_cloud ba_person_type segment ba_payment_cycle_type  \\\n",
       "1    275672         False     individual    mass               monthly   \n",
       "2   4668718         False     individual    mass               monthly   \n",
       "3   5579731         False     individual    mass               monthly   \n",
       "4   7003446         False     individual    mass               monthly   \n",
       "5  10324308         False     individual     isv               monthly   \n",
       "\n",
       "   weeks_in_cloud  avg_day_consumption  max_day_consumption  \\\n",
       "1       22.571429            74.400001            72.000001   \n",
       "2       21.000000           122.164802           118.224002   \n",
       "3       17.571429           277.348652           288.489605   \n",
       "4       16.714286            17.498880            16.934400   \n",
       "5       23.285714            47.020407            45.532801   \n",
       "\n",
       "   non_zero_days_consumption  visits  ...  consumption_service_storage  \\\n",
       "1                         31       0  ...                     0.000000   \n",
       "2                         31       3  ...                     0.013638   \n",
       "3                         30       2  ...                  1536.266147   \n",
       "4                         31       0  ...                     0.161004   \n",
       "5                         31      11  ...                     0.205579   \n",
       "\n",
       "   consumption_service_managed_databases  \\\n",
       "1                            6936.654066   \n",
       "2                            6992.820701   \n",
       "3                           42088.166959   \n",
       "4                            1630.012256   \n",
       "5                            9560.831372   \n",
       "\n",
       "   consumption_service_container_registry  \\\n",
       "1                                0.000000   \n",
       "2                                0.000000   \n",
       "3                                0.000000   \n",
       "4                                1.479387   \n",
       "5                                0.000000   \n",
       "\n",
       "   consumption_service_artificial_intelligence  \\\n",
       "1                                          0.0   \n",
       "2                                          0.0   \n",
       "3                                          0.0   \n",
       "4                                          0.0   \n",
       "5                                          0.0   \n",
       "\n",
       "   consumption_service_network_load_balancer  \\\n",
       "1                                        0.0   \n",
       "2                                        0.0   \n",
       "3                                        0.0   \n",
       "4                                        0.0   \n",
       "5                                        0.0   \n",
       "\n",
       "   consumption_service_yandex_message_queue  real_consumption_-4  \\\n",
       "1                                     0.000           504.000010   \n",
       "2                                     0.000           827.568017   \n",
       "3                                     0.000          2019.427238   \n",
       "4                                     0.000           118.540802   \n",
       "5                                     0.073           318.729606   \n",
       "\n",
       "   real_consumption_-3  real_consumption_-2  real_consumption_-1  \n",
       "1           504.000010           504.000010           504.000010  \n",
       "2           827.568017           827.568017           827.568017  \n",
       "3          2019.427238          2019.427238          1610.733631  \n",
       "4           118.540802           118.540802           118.540802  \n",
       "5           318.729606           318.729606           318.729606  \n",
       "\n",
       "[5 rows x 96 columns]"
      ]
     },
     "execution_count": 26,
     "metadata": {},
     "output_type": "execute_result"
    }
   ],
   "source": [
    "mdb_person_df.head()"
   ]
  },
  {
   "cell_type": "code",
   "execution_count": 27,
   "metadata": {},
   "outputs": [],
   "source": [
    "from sklearn.manifold import TSNE"
   ]
  },
  {
   "cell_type": "code",
   "execution_count": 28,
   "metadata": {},
   "outputs": [],
   "source": [
    "mdb_clustering_df = mdb_person_df[[\"real_consumption_-4\",\n",
    "                                          \"real_consumption_-3\",\n",
    "                                          \"real_consumption_-2\",\n",
    "                                          \"real_consumption_-1\",\n",
    "                                          \"puid\",\n",
    "                                          \"out_of_cloud\"]]"
   ]
  },
  {
   "cell_type": "code",
   "execution_count": 29,
   "metadata": {},
   "outputs": [
    {
     "data": {
      "text/html": [
       "<div>\n",
       "<style scoped>\n",
       "    .dataframe tbody tr th:only-of-type {\n",
       "        vertical-align: middle;\n",
       "    }\n",
       "\n",
       "    .dataframe tbody tr th {\n",
       "        vertical-align: top;\n",
       "    }\n",
       "\n",
       "    .dataframe thead th {\n",
       "        text-align: right;\n",
       "    }\n",
       "</style>\n",
       "<table border=\"1\" class=\"dataframe\">\n",
       "  <thead>\n",
       "    <tr style=\"text-align: right;\">\n",
       "      <th></th>\n",
       "      <th>real_consumption_-4</th>\n",
       "      <th>real_consumption_-3</th>\n",
       "      <th>real_consumption_-2</th>\n",
       "      <th>real_consumption_-1</th>\n",
       "      <th>puid</th>\n",
       "      <th>out_of_cloud</th>\n",
       "    </tr>\n",
       "  </thead>\n",
       "  <tbody>\n",
       "    <tr>\n",
       "      <th>1</th>\n",
       "      <td>504.000010</td>\n",
       "      <td>504.000010</td>\n",
       "      <td>504.000010</td>\n",
       "      <td>504.000010</td>\n",
       "      <td>275672</td>\n",
       "      <td>False</td>\n",
       "    </tr>\n",
       "    <tr>\n",
       "      <th>2</th>\n",
       "      <td>827.568017</td>\n",
       "      <td>827.568017</td>\n",
       "      <td>827.568017</td>\n",
       "      <td>827.568017</td>\n",
       "      <td>4668718</td>\n",
       "      <td>False</td>\n",
       "    </tr>\n",
       "    <tr>\n",
       "      <th>3</th>\n",
       "      <td>2019.427238</td>\n",
       "      <td>2019.427238</td>\n",
       "      <td>2019.427238</td>\n",
       "      <td>1610.733631</td>\n",
       "      <td>5579731</td>\n",
       "      <td>False</td>\n",
       "    </tr>\n",
       "    <tr>\n",
       "      <th>4</th>\n",
       "      <td>118.540802</td>\n",
       "      <td>118.540802</td>\n",
       "      <td>118.540802</td>\n",
       "      <td>118.540802</td>\n",
       "      <td>7003446</td>\n",
       "      <td>False</td>\n",
       "    </tr>\n",
       "    <tr>\n",
       "      <th>5</th>\n",
       "      <td>318.729606</td>\n",
       "      <td>318.729606</td>\n",
       "      <td>318.729606</td>\n",
       "      <td>318.729606</td>\n",
       "      <td>10324308</td>\n",
       "      <td>False</td>\n",
       "    </tr>\n",
       "  </tbody>\n",
       "</table>\n",
       "</div>"
      ],
      "text/plain": [
       "   real_consumption_-4  real_consumption_-3  real_consumption_-2  \\\n",
       "1           504.000010           504.000010           504.000010   \n",
       "2           827.568017           827.568017           827.568017   \n",
       "3          2019.427238          2019.427238          2019.427238   \n",
       "4           118.540802           118.540802           118.540802   \n",
       "5           318.729606           318.729606           318.729606   \n",
       "\n",
       "   real_consumption_-1      puid  out_of_cloud  \n",
       "1           504.000010    275672         False  \n",
       "2           827.568017   4668718         False  \n",
       "3          1610.733631   5579731         False  \n",
       "4           118.540802   7003446         False  \n",
       "5           318.729606  10324308         False  "
      ]
     },
     "execution_count": 29,
     "metadata": {},
     "output_type": "execute_result"
    }
   ],
   "source": [
    "mdb_clustering_df.head()"
   ]
  },
  {
   "cell_type": "code",
   "execution_count": 30,
   "metadata": {},
   "outputs": [],
   "source": [
    "from sklearn.preprocessing import StandardScaler\n",
    "from sklearn.preprocessing import Normalizer"
   ]
  },
  {
   "cell_type": "code",
   "execution_count": 31,
   "metadata": {},
   "outputs": [],
   "source": [
    "def prepare_cluster_X_y(df):\n",
    "    y = df[\"out_of_cloud\"]\n",
    "    cols = [\"out_of_cloud\", \"puid\"]\n",
    "    if \"clusters\" in df.columns:\n",
    "        cols.append(\"clusters\")\n",
    "    X = df.drop(columns = cols)\n",
    "    #scaler = StandardScaler()\n",
    "    normalizer = Normalizer()\n",
    "    #X = scaler.fit_transform(X)\n",
    "    X = normalizer.fit_transform(X)\n",
    "    return X, y"
   ]
  },
  {
   "cell_type": "code",
   "execution_count": 32,
   "metadata": {},
   "outputs": [],
   "source": [
    "X, y = prepare_cluster_X_y(mdb_clustering_df)"
   ]
  },
  {
   "cell_type": "code",
   "execution_count": 33,
   "metadata": {},
   "outputs": [
    {
     "data": {
      "image/png": "[encoded data removed]",
      "text/plain": [
       "<Figure size 720x720 with 1 Axes>"
      ]
     },
     "metadata": {
      "needs_background": "light"
     },
     "output_type": "display_data"
    }
   ],
   "source": [
    "tsne = TSNE(n_components = 2, perplexity = 40)\n",
    "Z = tsne.fit_transform(X)\n",
    "plt.figure(figsize = (10, 10))\n",
    "plt.scatter(Z[:, 0], Z[:, 1], c=y, linewidths=0, cmap='Set1')\n",
    "plt.show()"
   ]
  },
  {
   "cell_type": "code",
   "execution_count": 34,
   "metadata": {},
   "outputs": [],
   "source": [
    "from statsmodels.stats import multitest\n",
    "def wald(n, m, p1, p2):\n",
    "    sigma = np.sqrt(p1*(1 - p1) / n + p2 * (1 - p2) / m)\n",
    "    return (p1 - p2) / sigma\n",
    "\n",
    "def wald_test(X, Y):\n",
    "    ans = sps.norm.cdf(wald(X.shape[0], Y.shape[0], np.mean(X), np.mean(y)))\n",
    "    return ans\n",
    "\n",
    "def two_sided_wald_test(X, Y):\n",
    "    if wald_test(X, Y) < 0.05:\n",
    "        return (True, wald_test(X, Y))\n",
    "    if wald_test(Y, X) < 0.05:\n",
    "        return (True, wald_test(Y, X))\n",
    "    return False, min(wald_test(Y, X), wald_test(X, Y))\n",
    "def in_cluster_compare(curr, min_days, curr_sku):\n",
    "    cols = prepare_service_sku_columns(curr_sku)\n",
    "    unreal_cols = [\"non_zero_days_\" + col for col in cols]\n",
    "    num = 0\n",
    "    pval = []\n",
    "    for col, name in zip(unreal_cols, cols):\n",
    "        temp_1 = curr[curr[col] >  min_days]\n",
    "        temp_2 = curr[curr[col] <=  min_days]\n",
    "        if temp_1.shape[0] < 30 or temp_2.shape[0] < 30:\n",
    "            continue\n",
    "        num += 1\n",
    "        X = np.array(temp_1[\"out_of_cloud\"])\n",
    "        Y = np.array(temp_2[\"out_of_cloud\"])\n",
    "        prin, res = two_sided_wald_test(X, Y)\n",
    "        pval.append(res)\n",
    "    \n",
    "    #print(pval)\n",
    "    h1, holm, _, _= multitest.multipletests(pval, method = 'holm')\n",
    "    #print(\"FWER: answers:\", h1, \"Holms corrected p_val:\", holm)\n",
    "    plt.figure(figsize = (15, 20))\n",
    "    ind = 1\n",
    "    for col, name in zip(unreal_cols, cols):\n",
    "        temp_1 = curr[curr[col] >  min_days]\n",
    "        temp_2 = curr[curr[col] <=  min_days]\n",
    "        if temp_1.shape[0] < 30 or temp_2.shape[0] < 30:\n",
    "            continue\n",
    "        X = np.array(temp_1[\"out_of_cloud\"])\n",
    "        Y = np.array(temp_2[\"out_of_cloud\"])\n",
    "        prin, res = two_sided_wald_test(X, Y)\n",
    "        if h1[ind - 1]:\n",
    "            print(name, \"corrected p-val:\", holm[ind - 1])\n",
    "            #print(temp_1.shape[0], np.sum(X), temp_2.shape[0], np.sum(Y))\n",
    "            plt.subplot((num + 1) // 2, 2, ind)\n",
    "            plt.bar([\"use_\" + name, \"no use_\" + name], \n",
    "                    [np.mean(X) * 100, np.mean(Y) * 100], \n",
    "                    align='center', color = \"black\")\n",
    "            plt.ylabel(\"Процент ушедших\", fontsize = 15)\n",
    "            ind += 1\n",
    "        else:\n",
    "            print(name, \"corrected p-val:\", holm[ind - 1])\n",
    "            #print(temp_1.shape[0], np.sum(X), temp_2.shape[0], np.sum(Y))\n",
    "            plt.subplot((num + 1) // 2, 2, ind)\n",
    "            plt.bar([\"use_\" + name, \"no use_\" + name], \n",
    "                    [np.mean(X) * 100, np.mean(Y) * 100], \n",
    "                    align='center', color = \"orangered\")\n",
    "            plt.ylabel(\"Процент ушедших\", fontsize = 15)\n",
    "            ind += 1\n",
    "        #print(\"================================================================================================\\n\")\n",
    "    plt.show()"
   ]
  },
  {
   "cell_type": "code",
   "execution_count": 35,
   "metadata": {},
   "outputs": [
    {
     "name": "stdout",
     "output_type": "stream",
     "text": [
      "core_100.0 corrected p-val: 1.0\n",
      "database_clickhouse corrected p-val: 1.0\n",
      "database_mongo corrected p-val: 1.0\n",
      "database_pg corrected p-val: 1.0\n",
      "platform_v1 corrected p-val: 1.0\n",
      "platform_v2 corrected p-val: 0.0019159426201196103\n",
      "subservice_clickhouse corrected p-val: 1.0\n",
      "subservice_mongo corrected p-val: 1.0\n",
      "subservice_pg corrected p-val: 1.0\n"
     ]
    },
    {
     "data": {
      "image/png": "[encoded data removed]",
      "text/plain": [
       "<Figure size 1080x1440 with 9 Axes>"
      ]
     },
     "metadata": {
      "needs_background": "light"
     },
     "output_type": "display_data"
    }
   ],
   "source": [
    "in_cluster_compare(mdb_person_df, 10, mdb_curr_sku)"
   ]
  },
  {
   "cell_type": "markdown",
   "metadata": {},
   "source": [
    "Влияет только второй тип платформы."
   ]
  },
  {
   "cell_type": "code",
   "execution_count": null,
   "metadata": {},
   "outputs": [],
   "source": []
  }
 ],
 "metadata": {
  "kernelspec": {
   "display_name": "venv_py37",
   "language": "python",
   "name": "venv_py37"
  },
  "language_info": {
   "codemirror_mode": {
    "name": "ipython",
    "version": 3
   },
   "file_extension": ".py",
   "mimetype": "text/x-python",
   "name": "python",
   "nbconvert_exporter": "python",
   "pygments_lexer": "ipython3",
   "version": "3.7.3"
  }
 },
 "nbformat": 4,
 "nbformat_minor": 2
}
