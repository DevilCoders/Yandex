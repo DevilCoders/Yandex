{
 "cells": [
  {
   "cell_type": "code",
   "execution_count": null,
   "metadata": {},
   "outputs": [],
   "source": [
    "import pandas as pd, datetime, ast, os,sys, pymysql, requests\n",
    "module_path = os.path.abspath(os.path.join('/home/ktereshin/yandex/arcadia/cloud/analytics/python/work'))\n",
    "if module_path not in sys.path:\n",
    "    sys.path.append(module_path)\n",
    "from data_loader import clickhouse\n",
    "from global_variables import (\n",
    "    metrika_clickhouse_param_dict,\n",
    "    cloud_clickhouse_param_dict\n",
    ")\n",
    "from nile.api.v1 import (\n",
    "    clusters,\n",
    "    aggregators as na,\n",
    "    extractors as ne,\n",
    "    filters as nf,\n",
    "    Record\n",
    ")\n",
    "from vault_client import instances\n",
    "from sklearn.feature_extraction.text import CountVectorizer, TfidfVectorizer\n",
    "from gensim.models.doc2vec import Doc2Vec, TaggedDocument"
   ]
  },
  {
   "cell_type": "code",
   "execution_count": null,
   "metadata": {},
   "outputs": [],
   "source": [
    "def execute_query(query, cluster, alias, token, timeout=600):\n",
    "    proxy = \"http://{}.yt.yandex.net\".format(cluster)\n",
    "    s = requests.Session()\n",
    "    url = \"{proxy}/query?database={alias}&password={token}\".format(proxy=proxy, alias=alias, token=token)\n",
    "    resp = s.post(url, data=query, timeout=timeout)\n",
    "    resp.raise_for_status()\n",
    "    rows = resp.content.strip().split('\\n')\n",
    "    return rows"
   ]
  },
  {
   "cell_type": "code",
   "execution_count": null,
   "metadata": {},
   "outputs": [],
   "source": [
    "client = instances.Production()\n",
    "yt_creds = client.get_version('ver-01d33pgv8pzc7t99s3egm24x47')\n",
    "cluster_yt = clusters.yt.Hahn(\n",
    "    token = yt_creds['value']['token'],\n",
    "    pool = yt_creds['value']['pool'],\n",
    "    \n",
    ").env(\n",
    "\n",
    "    templates=dict(\n",
    "        dates='{2019-03-28..2019-03-31}'\n",
    "    )\n",
    ")"
   ]
  },
  {
   "cell_type": "code",
   "execution_count": null,
   "metadata": {},
   "outputs": [],
   "source": [
    "cluster = 'hahn'\n",
    "alias = \"*ch_public\"\n",
    "token = '%s' % (yt_creds['value']['token'])"
   ]
  },
  {
   "cell_type": "code",
   "execution_count": null,
   "metadata": {},
   "outputs": [],
   "source": []
  },
  {
   "cell_type": "code",
   "execution_count": null,
   "metadata": {},
   "outputs": [],
   "source": [
    "query = '''\n",
    "SELECT\n",
    "   yandexuid,\n",
    "   events as event,\n",
    "   tss as ts,\n",
    "   session_indexes as session_index,\n",
    "   diffs as time_diff,\n",
    "   hits\n",
    "FROM(\n",
    "    SELECT\n",
    "        yandexuid,\n",
    "        groupArray(event) as events,\n",
    "        groupArray(ts) as tss,\n",
    "        length(events) as hits,\n",
    "        arrayConcat([tss[1]],arraySlice(tss, 1,length(tss)-1)) as tss_,\n",
    "        arrayMap(x,y -> y-x, tss_, tss)  as diffs,\n",
    "        arrayCumSum( arrayMap(x -> x >=1800, diffs)) as session_indexes\n",
    "    FROM(\n",
    "        SELECT\n",
    "            t0.*\n",
    "        FROM(\n",
    "            SELECT\n",
    "                yandexuid,\n",
    "                puid,\n",
    "                event_type,\n",
    "                event,\n",
    "                timestamp,\n",
    "                ts\n",
    "            FROM\n",
    "                \"//home/cloud_analytics/import/console_logs/events\"\n",
    "            WHERE \n",
    "                match(yandexuid, '^[0-9]+$') = 1\n",
    "                AND yandexuid NOT IN ('0', '1', '2', '3')\n",
    "            ORDER BY\n",
    "                yandexuid,\n",
    "                timestamp\n",
    "        ) as t0\n",
    "        ANY INNER JOIN (\n",
    "            SELECT\n",
    "                puid\n",
    "            FROM\n",
    "                \"//home/cloud_analytics_test/cubes/acquisition_cube/cube\"\n",
    "            WHERE\n",
    "                first_first_trial_consumption_datetime != ''\n",
    "                AND first_first_trial_consumption_datetime >= '2018-12-20'\n",
    "\n",
    "        ) as t1 \n",
    "        ON t0.puid = t1.puid\n",
    "    )\n",
    "    GROUP BY\n",
    "        yandexuid\n",
    ")\n",
    "ARRAY JOIN events, tss, session_indexes, diffs\n",
    "WHERE\n",
    "    hits > 3\n",
    "ORDER BY\n",
    "    yandexuid,\n",
    "    ts\n",
    "'''\n",
    "\n",
    "result = execute_query(query=query, cluster=cluster, alias=alias, token=token)\n",
    "site_events = pd.DataFrame([row.split('\\t') for row in result], columns=['yandexuid','event','ts','session_index','time_diff', 'hits'])"
   ]
  },
  {
   "cell_type": "code",
   "execution_count": null,
   "metadata": {},
   "outputs": [],
   "source": [
    "site_events.shape"
   ]
  },
  {
   "cell_type": "code",
   "execution_count": null,
   "metadata": {
    "scrolled": true
   },
   "outputs": [],
   "source": [
    "site_events.head(20)"
   ]
  },
  {
   "cell_type": "code",
   "execution_count": null,
   "metadata": {},
   "outputs": [],
   "source": [
    "temp = site_events.groupby(['yandexuid', 'session_index'])['event'].count().reset_index().sort_values(by = 'event')\n",
    "temp = temp[temp['event']>3]"
   ]
  },
  {
   "cell_type": "code",
   "execution_count": null,
   "metadata": {},
   "outputs": [],
   "source": [
    "res = pd.merge(\n",
    "    site_events,\n",
    "    temp[['yandexuid', 'session_index']],\n",
    "    on = ['yandexuid', 'session_index'],\n",
    "    how = 'inner'\n",
    ")"
   ]
  },
  {
   "cell_type": "code",
   "execution_count": null,
   "metadata": {},
   "outputs": [],
   "source": [
    "seq = res.groupby(['yandexuid', 'session_index'])[['event', 'ts']].agg(list).reset_index()"
   ]
  },
  {
   "cell_type": "code",
   "execution_count": null,
   "metadata": {},
   "outputs": [],
   "source": [
    "seq['event'][0]"
   ]
  },
  {
   "cell_type": "code",
   "execution_count": null,
   "metadata": {},
   "outputs": [],
   "source": [
    "def get_seq(events_list):\n",
    "    if len(events_list) <=1:\n",
    "        try:\n",
    "            return events_list\n",
    "        except:\n",
    "            return ['empty']\n",
    "    else:\n",
    "        res_list = []\n",
    "        for i in range(1,len(events_list)):\n",
    "            res_list.append(events_list[i-1] + '>>' + events_list[i])\n",
    "        return res_list"
   ]
  },
  {
   "cell_type": "code",
   "execution_count": null,
   "metadata": {},
   "outputs": [],
   "source": [
    "get_seq(seq['event'][2])"
   ]
  },
  {
   "cell_type": "code",
   "execution_count": null,
   "metadata": {},
   "outputs": [],
   "source": [
    "seq_list = []\n",
    "for s in seq['event'].values:\n",
    "    event_seq = get_seq(s)\n",
    "    event_seq\n",
    "    seq_list.append(' '.join([event.strip().replace(' ', '_') for event in event_seq]))"
   ]
  },
  {
   "cell_type": "code",
   "execution_count": null,
   "metadata": {},
   "outputs": [],
   "source": [
    "seq_list[0]"
   ]
  },
  {
   "cell_type": "code",
   "execution_count": null,
   "metadata": {},
   "outputs": [],
   "source": [
    "from sklearn.feature_extraction.text import CountVectorizer"
   ]
  },
  {
   "cell_type": "code",
   "execution_count": null,
   "metadata": {},
   "outputs": [],
   "source": [
    "vectorizer = CountVectorizer(token_pattern=u'[^\\t]+', min_df = 10)\n",
    "vectorizer.fit(list(seq_list))"
   ]
  },
  {
   "cell_type": "code",
   "execution_count": null,
   "metadata": {},
   "outputs": [],
   "source": [
    "count_vec_transform = vectorizer.fit_transform(list(seq_list))"
   ]
  },
  {
   "cell_type": "code",
   "execution_count": null,
   "metadata": {},
   "outputs": [],
   "source": [
    "count_vec_transform.shape"
   ]
  },
  {
   "cell_type": "code",
   "execution_count": 39,
   "metadata": {},
   "outputs": [],
   "source": [
    "def get_interval(list_):\n",
    "    list_ = sorted(list_)\n",
    "    start = None\n",
    "    end = None\n",
    "    res = []\n",
    "    \n",
    "    if len(list_) > 1:\n",
    "        \n",
    "        for i in range(len(list_)):\n",
    "            \n",
    "            if i == 0:\n",
    "                interval = str(list_[0])\n",
    "                start = list_[0]\n",
    "                end = list_[0]\n",
    "            else:\n",
    "                \n",
    "                if i < len(list_) - 1:\n",
    "\n",
    "                    if list_[i+1] - list_[i] > 1:\n",
    "\n",
    "                        if list_[i] - end > 1 and start != list_[i]:\n",
    "\n",
    "                            res.append(str(start) + '-' + str(list_[i]))\n",
    "\n",
    "                        else:\n",
    "                            res.append(str(list_[i]))\n",
    "\n",
    "                        start = list_[i+1]\n",
    "                        end = list_[i]\n",
    "\n",
    "                else:\n",
    "                    if list_[i] - end > 1 and start != list_[i]:\n",
    "\n",
    "                        res.append(str(start) + '-' + str(list_[i]))\n",
    "\n",
    "                    else:\n",
    "                        res.append(str(list_[i]))\n",
    "        return res\n",
    "    elif len(list_) == 1:\n",
    "        return [str(list_[0])]\n",
    "    \n",
    "    else:\n",
    "        return []\n"
   ]
  },
  {
   "cell_type": "code",
   "execution_count": 40,
   "metadata": {},
   "outputs": [],
   "source": [
    "a = [1,5,8,3,2,9,12, 13, 34,35,60]"
   ]
  },
  {
   "cell_type": "code",
   "execution_count": 41,
   "metadata": {},
   "outputs": [
    {
     "data": {
      "text/plain": [
       "['1-3', '5', '8-9', '12-13', '34-35', '60']"
      ]
     },
     "execution_count": 41,
     "metadata": {},
     "output_type": "execute_result"
    }
   ],
   "source": [
    "get_interval(a)"
   ]
  },
  {
   "cell_type": "code",
   "execution_count": null,
   "metadata": {},
   "outputs": [],
   "source": []
  }
 ],
 "metadata": {
  "kernelspec": {
   "display_name": "python2-venv",
   "language": "python",
   "name": "python2-venv"
  },
  "language_info": {
   "codemirror_mode": {
    "name": "ipython",
    "version": 2
   },
   "file_extension": ".py",
   "mimetype": "text/x-python",
   "name": "python",
   "nbconvert_exporter": "python",
   "pygments_lexer": "ipython2",
   "version": "2.7.15rc1"
  }
 },
 "nbformat": 4,
 "nbformat_minor": 2
}
