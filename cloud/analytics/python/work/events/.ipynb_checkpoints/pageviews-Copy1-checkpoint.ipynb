{
 "cells": [
  {
   "cell_type": "code",
   "execution_count": 9,
   "metadata": {},
   "outputs": [
    {
     "ename": "SyntaxError",
     "evalue": "invalid syntax (<ipython-input-9-a1de243aa705>, line 1)",
     "output_type": "error",
     "traceback": [
      "\u001b[0;36m  File \u001b[0;32m\"<ipython-input-9-a1de243aa705>\"\u001b[0;36m, line \u001b[0;32m1\u001b[0m\n\u001b[0;31m    import pandas as pd, datetime, ast., re\u001b[0m\n\u001b[0m                                       ^\u001b[0m\n\u001b[0;31mSyntaxError\u001b[0m\u001b[0;31m:\u001b[0m invalid syntax\n"
     ]
    }
   ],
   "source": [
    "import pandas as pd, datetime, ast, re\n",
    "from nile.api.v1 import (\n",
    "    clusters,\n",
    "    aggregators as na,\n",
    "    extractors as ne,\n",
    "    filters as nf,\n",
    "    Record\n",
    ")\n",
    "from vault_client import instances"
   ]
  },
  {
   "cell_type": "code",
   "execution_count": null,
   "metadata": {},
   "outputs": [
    {
     "data": {
      "application/vnd.jupyter.widget-view+json": {
       "model_id": "0ed22f91198b4ba7bb7309d1f3dad993",
       "version_major": 2,
       "version_minor": 0
      },
      "text/plain": [
       "VBox()"
      ]
     },
     "metadata": {},
     "output_type": "display_data"
    }
   ],
   "source": [
    "client = instances.Production()\n",
    "yt_creds = client.get_version('ver-01d33pgv8pzc7t99s3egm24x47')\n",
    "cluster = clusters.yt.Hahn(\n",
    "    token = yt_creds['value']['token'],\n",
    "    pool = yt_creds['value']['pool'],\n",
    "    \n",
    ").env(\n",
    "\n",
    "    templates=dict(\n",
    "        dates='{2019-02-16..2019-02-17}'\n",
    "    )\n",
    ")\n",
    "\n",
    "\n",
    "\n",
    "job = cluster.job()\n",
    "clouds = job.table('//home/logfeller/logs/qloud-runtime-log/1d/2019-02-17') \\\n",
    "    .filter(\n",
    "        nf.custom(lambda x: 'cloud' in  str(x), 'qloud_project'),\n",
    "        nf.custom(lambda x: 'python-requests' not in str(x), 'message'),\n",
    "        nf.custom(lambda x: '/ping' not in str(x), 'message'),\n",
    "        nf.custom(lambda x: 'GET ' in str(x) or 'POST ' in str(x), 'message'),\n",
    "        nf.custom(lambda x: 'yastatic.net' not in str(x), 'message'),\n",
    "        nf.custom(lambda x: '/api/run ' not in str(x), 'message'),\n",
    "        nf.custom(lambda x: 'yandexuid=-' not in str(x), 'message'),\n",
    "        nf.custom(lambda x: 'sandbox.cloud.yandex.net' not in str(x), 'message'),\n",
    "    \n",
    "    ) \\\n",
    "    .project(\n",
    "        ne.all()\n",
    "    ) \\\n",
    "    .put(\n",
    "        '//home/cloud_analytics/import/console_logs/test'\n",
    "    )\n",
    "job.run()"
   ]
  },
  {
   "cell_type": "code",
   "execution_count": 10,
   "metadata": {},
   "outputs": [],
   "source": [
    "record = '''[17/Feb/2019:11:38:08 +0300] [200] [- 0.000] yastatic.net 2a02:6b8:c08:c384:0:1478:6624:f0d2 \\\"GET /build/ru/runtime.c484b779.js HTTP/1.1\\\" \\\"https://cloud.yandex.ru/?utm_source=yavideo&utm_medium=paidvideo&utm_campaign=alwayson2019&utm_content=tekhnologii-v-dele\\\" \\\"Mozilla/5.0 (Windows NT 6.1; Win64; x64) AppleWebKit/537.36 (KHTML, like Gecko) Chrome/72.0.3626.109 Safari/537.36\\\" \\\"-\\\" \\\"yandexuid=-\\\" [0796189cbf8b6b0841182ebd62b60e31]'''"
   ]
  },
  {
   "cell_type": "code",
   "execution_count": 17,
   "metadata": {},
   "outputs": [
    {
     "data": {
      "text/plain": [
       "['[17/Feb/2019:11:38:08 +0300] [200] [- 0.000] yastatic.net 2a02:6b8:c08:c384:0:1478:6624:f0d2 \"GET /build/ru/runtime.c484b779.js HTTP/1.1',\n",
       " 'https://cloud.yandex.ru/?utm_source=yavideo&utm_medium=paidvideo&utm_campaign=alwayson2019&utm_content=tekhnologii-v-dele',\n",
       " 'Mozilla/5.0 (Windows NT 6.1; Win64; x64) AppleWebKit/537.36 (KHTML, like Gecko) Chrome/72.0.3626.109 Safari/537.36',\n",
       " '-',\n",
       " 'yandexuid=-\" [0796189cbf8b6b0841182ebd62b60e31]']"
      ]
     },
     "execution_count": 17,
     "metadata": {},
     "output_type": "execute_result"
    }
   ],
   "source": [
    "record.split('\" \\\"')"
   ]
  },
  {
   "cell_type": "code",
   "execution_count": 22,
   "metadata": {},
   "outputs": [
    {
     "data": {
      "text/plain": [
       "'[17/Feb/2019:11:38:08 +0300] [200] [- 0.000] yastatic.net 2a02:6b8:c08:c384:0:1478:6624:f0d2'"
      ]
     },
     "execution_count": 22,
     "metadata": {},
     "output_type": "execute_result"
    }
   ],
   "source": [
    "record.split(' \\\"')[0]"
   ]
  },
  {
   "cell_type": "code",
   "execution_count": null,
   "metadata": {},
   "outputs": [],
   "source": []
  }
 ],
 "metadata": {
  "kernelspec": {
   "display_name": "Python 2",
   "language": "python",
   "name": "python2"
  },
  "language_info": {
   "codemirror_mode": {
    "name": "ipython",
    "version": 2
   },
   "file_extension": ".py",
   "mimetype": "text/x-python",
   "name": "python",
   "nbconvert_exporter": "python",
   "pygments_lexer": "ipython2",
   "version": "2.7.15"
  }
 },
 "nbformat": 4,
 "nbformat_minor": 2
}
