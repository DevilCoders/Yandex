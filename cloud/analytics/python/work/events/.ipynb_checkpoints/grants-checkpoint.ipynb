{
 "cells": [
  {
   "cell_type": "code",
   "execution_count": 1,
   "metadata": {},
   "outputs": [],
   "source": [
    "import pandas as pd, datetime, ast\n",
    "from nile.api.v1 import (\n",
    "    clusters,\n",
    "    aggregators as na,\n",
    "    extractors as ne,\n",
    "    filters as nf,\n",
    "    Record\n",
    ")\n",
    "from vault_client import instances\n",
    "\n",
    "def get_datetime_from_epoch(epoch):\n",
    "    try:\n",
    "        return str(datetime.datetime.fromtimestamp(int(epoch)))\n",
    "    except:\n",
    "        return None\n",
    "\n",
    "\n",
    "def get_last_not_empty_table(folder_path):\n",
    "    tables_list = sorted([folder_path + '/' + x for x in job.driver.list(folder_path)], reverse=True)\n",
    "    last_table_rows = 0\n",
    "    last_table = ''\n",
    "    for table in tables_list:\n",
    "        try:\n",
    "            table_ = job.driver.read(table)\n",
    "        except:\n",
    "            continue\n",
    "        \n",
    "        if table_.row_count > last_table_rows:\n",
    "            last_table_rows =  table_.row_count\n",
    "            last_table = table\n",
    "    if last_table:\n",
    "        return last_table\n",
    "    else:\n",
    "        return tables_list[0]\n",
    "\n",
    "\n",
    "def get_table_list(folder_path):\n",
    "    tables_list = sorted([folder_path + '/' + x for x in job.driver.list(folder_path)], reverse=True)\n",
    "    return '{%s}' % (','.join(tables_list))\n",
    "\n",
    "\n",
    "\n",
    "\n",
    "def get_event_details(rest_, field_):\n",
    "    try:\n",
    "        return ast.literal_eval(rest_['metadata'])[field_]\n",
    "    except:\n",
    "        return ''\n",
    "\n",
    "def get_status_changes(groups):\n",
    "    for key, records in groups:\n",
    "        status = ''\n",
    "        for rec in records:\n",
    "            if rec['state'] != status:\n",
    "                result_dict = {\n",
    "                    'event': 'ba_status_changed',\n",
    "                    'event_time': get_datetime_from_epoch(rec['updated_at']),\n",
    "                    'ba_status': rec['state'],\n",
    "                    'reason': str(get_event_details(rec['_rest'], 'block_reason')) + str(get_event_details(rec['_rest'], 'suspend_reason')),\n",
    "                    'event_details': {\n",
    "                        'reason': str(get_event_details(rec['_rest'], 'block_reason')) + str(get_event_details(rec['_rest'], 'suspend_reason')),\n",
    "                        'old_status': status,\n",
    "                        'new_status': rec['state']\n",
    "                    }\n",
    "                }\n",
    "                status = rec['state']\n",
    "                yield Record(key, **result_dict)"
   ]
  },
  {
   "cell_type": "code",
   "execution_count": 2,
   "metadata": {},
   "outputs": [],
   "source": [
    "client = instances.Production()\n",
    "yt_creds = client.get_version('ver-01d33pgv8pzc7t99s3egm24x47')\n",
    "cluster = clusters.yt.Hahn(\n",
    "    token = yt_creds['value']['token'],\n",
    "    pool = yt_creds['value']['pool']\n",
    ")"
   ]
  },
  {
   "cell_type": "code",
   "execution_count": 4,
   "metadata": {},
   "outputs": [],
   "source": [
    "job = cluster.job()\n",
    "path = get_last_not_empty_table('//home/logfeller/logs/yc-billing-export-monetary-grants/1h')"
   ]
  },
  {
   "cell_type": "code",
   "execution_count": 10,
   "metadata": {},
   "outputs": [
    {
     "name": "stderr",
     "output_type": "stream",
     "text": [
      "2019-02-18 15:48:32,437\tWARNING\tHTTP post request http://hahn.yt.yandex.net/auth/whoami has failed with error <class 'yt.packages.requests.exceptions.ReadTimeout'>, message: 'HTTPConnectionPool(host='hahn.yt.yandex.net', port=80): Read timed out. (read timeout=20.0)', headers: {'X-YT-Correlation-Id': '16e05bec-564d8888-d3b99ce9-576f43b6', 'Authorization': 'xxxxxxxxxxxxxxxxxxxxxxxxxxxxxxxx'}\n",
      "2019-02-18 15:48:32,438\tWARNING\tSleep for 4.35 seconds before next retry\n",
      "2019-02-18 15:48:36,792\tWARNING\tNew retry (2) ...\n"
     ]
    },
    {
     "data": {
      "application/vnd.jupyter.widget-view+json": {
       "model_id": "eed43ec9fa3445999a41a3165a8c43fe",
       "version_major": 2,
       "version_minor": 0
      },
      "text/plain": [
       "VBox()"
      ]
     },
     "metadata": {},
     "output_type": "display_data"
    },
    {
     "ename": "CommandFailedError",
     "evalue": "Command (map) failed\n\n================== Operation error ==================\n\nFailed jobs limit exceeded [1]\n\n==================== Failed Jobs ====================\n\n--------------------- Job error ---------------------\n\nUser job failed [1205]\n  Process exited with code 1 [10000]\n\n-------------------- Job stderr --------------------\n\nTraceback (most recent call last):\n  File \"_nile_runner.py\", line 238, in <module>\n    main()\n  File \"_nile_runner.py\", line 150, in main\n    function()\n  File \"./nile/drivers/common/processor.py\", line 46, in __call__\n    result = self.run(iter(reader), writers, **options)\n  File \"./nile/drivers/yt/processor.py\", line 62, in run\n    return self.function(input, *outputs, **options)\n  File \"./nile/processing/adapters.py\", line 32, in __call__\n    for record in self.generator(input, **options):\n  File \"<qb>\", line 7, in map\n  File \"<ipython-input-10-80326291fa64>\", line 6, in <lambda>\nValueError: invalid literal for int() with base 10: '101.915357789'\n\n--------------------- Job error ---------------------\n\nUser job failed [1205]\n  Process exited with code 1 [10000]\n\n-------------------- Job stderr --------------------\n\nTraceback (most recent call last):\n  File \"_nile_runner.py\", line 238, in <module>\n    main()\n  File \"_nile_runner.py\", line 150, in main\n    function()\n  File \"./nile/drivers/common/processor.py\", line 46, in __call__\n    result = self.run(iter(reader), writers, **options)\n  File \"./nile/drivers/yt/processor.py\", line 62, in run\n    return self.function(input, *outputs, **options)\n  File \"./nile/processing/adapters.py\", line 32, in __call__\n    for record in self.generator(input, **options):\n  File \"<qb>\", line 7, in map\n  File \"<ipython-input-10-80326291fa64>\", line 6, in <lambda>\nValueError: invalid literal for int() with base 10: '101.915357789'\n\n--------------------- Job error ---------------------\n\nUser job failed [1205]\n  Process exited with code 1 [10000]\n\n-------------------- Job stderr --------------------\n\nTraceback (most recent call last):\n  File \"_nile_runner.py\", line 238, in <module>\n    main()\n  File \"_nile_runner.py\", line 150, in main\n    function()\n  File \"./nile/drivers/common/processor.py\", line 46, in __call__\n    result = self.run(iter(reader), writers, **options)\n  File \"./nile/drivers/yt/processor.py\", line 62, in run\n    return self.function(input, *outputs, **options)\n  File \"./nile/processing/adapters.py\", line 32, in __call__\n    for record in self.generator(input, **options):\n  File \"<qb>\", line 7, in map\n  File \"<ipython-input-10-80326291fa64>\", line 6, in <lambda>\nValueError: invalid literal for int() with base 10: '101.915357789'",
     "output_type": "error",
     "traceback": [
      "\u001b[0;31m---------------------------------------------------------------------------\u001b[0m",
      "\u001b[0;31mCommandFailedError\u001b[0m                        Traceback (most recent call last)",
      "\u001b[0;32m<ipython-input-10-80326291fa64>\u001b[0m in \u001b[0;36m<module>\u001b[0;34m()\u001b[0m\n\u001b[1;32m     11\u001b[0m     ) \\\n\u001b[1;32m     12\u001b[0m     \u001b[0;34m.\u001b[0m\u001b[0mput\u001b[0m\u001b[0;34m(\u001b[0m\u001b[0;34m'//home/cloud_analytics/events/grants/temp'\u001b[0m\u001b[0;34m)\u001b[0m\u001b[0;34m\u001b[0m\u001b[0m\n\u001b[0;32m---> 13\u001b[0;31m \u001b[0mjob\u001b[0m\u001b[0;34m.\u001b[0m\u001b[0mrun\u001b[0m\u001b[0;34m(\u001b[0m\u001b[0;34m)\u001b[0m\u001b[0;34m\u001b[0m\u001b[0m\n\u001b[0m",
      "\u001b[0;32m/Users/ktereshin/Desktop/yandex/venv/lib/python2.7/site-packages/nile/api/v1/job.pyc\u001b[0m in \u001b[0;36mrun\u001b[0;34m(self, checkpoints, store_checkpoints, hide_command, skip_publish, snapshot_filename, type_config_settings)\u001b[0m\n\u001b[1;32m    221\u001b[0m         \u001b[0;32mwith\u001b[0m \u001b[0mCustomSysArgv\u001b[0m\u001b[0;34m(\u001b[0m\u001b[0msys_argv\u001b[0m\u001b[0;34m)\u001b[0m\u001b[0;34m:\u001b[0m\u001b[0;34m\u001b[0m\u001b[0m\n\u001b[1;32m    222\u001b[0m             self._run_with_finalize(\n\u001b[0;32m--> 223\u001b[0;31m                 \u001b[0mexecution_plan\u001b[0m\u001b[0;34m,\u001b[0m \u001b[0msnapshot_filename\u001b[0m\u001b[0;34m=\u001b[0m\u001b[0msnapshot_filename\u001b[0m\u001b[0;34m\u001b[0m\u001b[0m\n\u001b[0m\u001b[1;32m    224\u001b[0m             )\n\u001b[1;32m    225\u001b[0m \u001b[0;34m\u001b[0m\u001b[0m\n",
      "\u001b[0;32m/Users/ktereshin/Desktop/yandex/venv/lib/python2.7/site-packages/nile/api/v1/job.pyc\u001b[0m in \u001b[0;36m_run_with_finalize\u001b[0;34m(execution_plan, *args, **kws)\u001b[0m\n\u001b[1;32m    155\u001b[0m         \u001b[0;32mtry\u001b[0m\u001b[0;34m:\u001b[0m\u001b[0;34m\u001b[0m\u001b[0m\n\u001b[1;32m    156\u001b[0m             \u001b[0mlogger\u001b[0m\u001b[0;34m.\u001b[0m\u001b[0minfo\u001b[0m\u001b[0;34m(\u001b[0m\u001b[0;34m'Running execution plan...'\u001b[0m\u001b[0;34m)\u001b[0m\u001b[0;34m\u001b[0m\u001b[0m\n\u001b[0;32m--> 157\u001b[0;31m             \u001b[0mexecution_plan\u001b[0m\u001b[0;34m.\u001b[0m\u001b[0mrun\u001b[0m\u001b[0;34m(\u001b[0m\u001b[0;34m*\u001b[0m\u001b[0margs\u001b[0m\u001b[0;34m,\u001b[0m \u001b[0;34m**\u001b[0m\u001b[0mkws\u001b[0m\u001b[0;34m)\u001b[0m\u001b[0;34m\u001b[0m\u001b[0m\n\u001b[0m\u001b[1;32m    158\u001b[0m         \u001b[0;32mexcept\u001b[0m \u001b[0mException\u001b[0m\u001b[0;34m:\u001b[0m\u001b[0;34m\u001b[0m\u001b[0m\n\u001b[1;32m    159\u001b[0m             \u001b[0mexc_info\u001b[0m \u001b[0;34m=\u001b[0m \u001b[0msys\u001b[0m\u001b[0;34m.\u001b[0m\u001b[0mexc_info\u001b[0m\u001b[0;34m(\u001b[0m\u001b[0;34m)\u001b[0m\u001b[0;34m\u001b[0m\u001b[0m\n",
      "\u001b[0;32m/Users/ktereshin/Desktop/yandex/venv/lib/python2.7/site-packages/nile/drivers/yt/execution_plan.pyc\u001b[0m in \u001b[0;36mrun\u001b[0;34m(self, snapshot_filename)\u001b[0m\n\u001b[1;32m    111\u001b[0m             \u001b[0;32mwhile\u001b[0m \u001b[0mself\u001b[0m\u001b[0;34m.\u001b[0m\u001b[0mqueues_manager\u001b[0m\u001b[0;34m.\u001b[0m\u001b[0mhas_more_work\u001b[0m\u001b[0;34m:\u001b[0m\u001b[0;34m\u001b[0m\u001b[0m\n\u001b[1;32m    112\u001b[0m                 \u001b[0mself\u001b[0m\u001b[0;34m.\u001b[0m\u001b[0m_schedule_operations\u001b[0m\u001b[0;34m(\u001b[0m\u001b[0;34m)\u001b[0m\u001b[0;34m\u001b[0m\u001b[0m\n\u001b[0;32m--> 113\u001b[0;31m                 \u001b[0mself\u001b[0m\u001b[0;34m.\u001b[0m\u001b[0m_observe_until_someone_exits\u001b[0m\u001b[0;34m(\u001b[0m\u001b[0;34m)\u001b[0m\u001b[0;34m\u001b[0m\u001b[0m\n\u001b[0m\u001b[1;32m    114\u001b[0m         \u001b[0;32mexcept\u001b[0m \u001b[0mKeyboardInterrupt\u001b[0m\u001b[0;34m:\u001b[0m\u001b[0;34m\u001b[0m\u001b[0m\n\u001b[1;32m    115\u001b[0m             \u001b[0mself\u001b[0m\u001b[0;34m.\u001b[0m\u001b[0m_abort_operations\u001b[0m\u001b[0;34m(\u001b[0m\u001b[0;34m)\u001b[0m\u001b[0;34m\u001b[0m\u001b[0m\n",
      "\u001b[0;32m/Users/ktereshin/Desktop/yandex/venv/lib/python2.7/site-packages/nile/drivers/yt/execution_plan.pyc\u001b[0m in \u001b[0;36m_observe_until_someone_exits\u001b[0;34m(self)\u001b[0m\n\u001b[1;32m    175\u001b[0m                 \u001b[0;32mif\u001b[0m \u001b[0;32mnot\u001b[0m \u001b[0mprogress\u001b[0m\u001b[0;34m.\u001b[0m\u001b[0mhas_finished_with_success\u001b[0m\u001b[0;34m:\u001b[0m\u001b[0;34m\u001b[0m\u001b[0m\n\u001b[1;32m    176\u001b[0m                     \u001b[0mself\u001b[0m\u001b[0;34m.\u001b[0m\u001b[0m_abort_operations\u001b[0m\u001b[0;34m(\u001b[0m\u001b[0;34m)\u001b[0m\u001b[0;34m\u001b[0m\u001b[0m\n\u001b[0;32m--> 177\u001b[0;31m                     \u001b[0mprogress\u001b[0m\u001b[0;34m.\u001b[0m\u001b[0mraise_for_state\u001b[0m\u001b[0;34m(\u001b[0m\u001b[0;34m)\u001b[0m\u001b[0;34m\u001b[0m\u001b[0m\n\u001b[0m\u001b[1;32m    178\u001b[0m \u001b[0;34m\u001b[0m\u001b[0m\n\u001b[1;32m    179\u001b[0m                 \u001b[0mprogress\u001b[0m\u001b[0;34m.\u001b[0m\u001b[0mfinish\u001b[0m\u001b[0;34m(\u001b[0m\u001b[0;34m)\u001b[0m\u001b[0;34m\u001b[0m\u001b[0m\n",
      "\u001b[0;32m/Users/ktereshin/Desktop/yandex/venv/lib/python2.7/site-packages/nile/drivers/common/progress.pyc\u001b[0m in \u001b[0;36mraise_for_state\u001b[0;34m(self)\u001b[0m\n\u001b[1;32m    125\u001b[0m             \u001b[0;32mraise\u001b[0m \u001b[0mself\u001b[0m\u001b[0;34m.\u001b[0m\u001b[0mexc_info\u001b[0m\u001b[0;34m[\u001b[0m\u001b[0;36m0\u001b[0m\u001b[0;34m]\u001b[0m\u001b[0;34m,\u001b[0m \u001b[0mself\u001b[0m\u001b[0;34m.\u001b[0m\u001b[0mexc_info\u001b[0m\u001b[0;34m[\u001b[0m\u001b[0;36m1\u001b[0m\u001b[0;34m]\u001b[0m\u001b[0;34m,\u001b[0m \u001b[0mself\u001b[0m\u001b[0;34m.\u001b[0m\u001b[0mexc_info\u001b[0m\u001b[0;34m[\u001b[0m\u001b[0;36m2\u001b[0m\u001b[0;34m]\u001b[0m\u001b[0;34m\u001b[0m\u001b[0m\n\u001b[1;32m    126\u001b[0m         \u001b[0;32melse\u001b[0m\u001b[0;34m:\u001b[0m\u001b[0;34m\u001b[0m\u001b[0m\n\u001b[0;32m--> 127\u001b[0;31m             \u001b[0;32mraise\u001b[0m \u001b[0mCommandFailedError\u001b[0m\u001b[0;34m(\u001b[0m\u001b[0mself\u001b[0m\u001b[0;34m.\u001b[0m\u001b[0mfail_info\u001b[0m\u001b[0;34m,\u001b[0m \u001b[0mself\u001b[0m\u001b[0;34m.\u001b[0m\u001b[0mtype\u001b[0m\u001b[0;34m)\u001b[0m\u001b[0;34m\u001b[0m\u001b[0m\n\u001b[0m\u001b[1;32m    128\u001b[0m \u001b[0;34m\u001b[0m\u001b[0m\n\u001b[1;32m    129\u001b[0m     \u001b[0;34m@\u001b[0m\u001b[0mabc\u001b[0m\u001b[0;34m.\u001b[0m\u001b[0mabstractproperty\u001b[0m\u001b[0;34m\u001b[0m\u001b[0m\n",
      "\u001b[0;31mCommandFailedError\u001b[0m: Command (map) failed\n\n================== Operation error ==================\n\nFailed jobs limit exceeded [1]\n\n==================== Failed Jobs ====================\n\n--------------------- Job error ---------------------\n\nUser job failed [1205]\n  Process exited with code 1 [10000]\n\n-------------------- Job stderr --------------------\n\nTraceback (most recent call last):\n  File \"_nile_runner.py\", line 238, in <module>\n    main()\n  File \"_nile_runner.py\", line 150, in main\n    function()\n  File \"./nile/drivers/common/processor.py\", line 46, in __call__\n    result = self.run(iter(reader), writers, **options)\n  File \"./nile/drivers/yt/processor.py\", line 62, in run\n    return self.function(input, *outputs, **options)\n  File \"./nile/processing/adapters.py\", line 32, in __call__\n    for record in self.generator(input, **options):\n  File \"<qb>\", line 7, in map\n  File \"<ipython-input-10-80326291fa64>\", line 6, in <lambda>\nValueError: invalid literal for int() with base 10: '101.915357789'\n\n--------------------- Job error ---------------------\n\nUser job failed [1205]\n  Process exited with code 1 [10000]\n\n-------------------- Job stderr --------------------\n\nTraceback (most recent call last):\n  File \"_nile_runner.py\", line 238, in <module>\n    main()\n  File \"_nile_runner.py\", line 150, in main\n    function()\n  File \"./nile/drivers/common/processor.py\", line 46, in __call__\n    result = self.run(iter(reader), writers, **options)\n  File \"./nile/drivers/yt/processor.py\", line 62, in run\n    return self.function(input, *outputs, **options)\n  File \"./nile/processing/adapters.py\", line 32, in __call__\n    for record in self.generator(input, **options):\n  File \"<qb>\", line 7, in map\n  File \"<ipython-input-10-80326291fa64>\", line 6, in <lambda>\nValueError: invalid literal for int() with base 10: '101.915357789'\n\n--------------------- Job error ---------------------\n\nUser job failed [1205]\n  Process exited with code 1 [10000]\n\n-------------------- Job stderr --------------------\n\nTraceback (most recent call last):\n  File \"_nile_runner.py\", line 238, in <module>\n    main()\n  File \"_nile_runner.py\", line 150, in main\n    function()\n  File \"./nile/drivers/common/processor.py\", line 46, in __call__\n    result = self.run(iter(reader), writers, **options)\n  File \"./nile/drivers/yt/processor.py\", line 62, in run\n    return self.function(input, *outputs, **options)\n  File \"./nile/processing/adapters.py\", line 32, in __call__\n    for record in self.generator(input, **options):\n  File \"<qb>\", line 7, in map\n  File \"<ipython-input-10-80326291fa64>\", line 6, in <lambda>\nValueError: invalid literal for int() with base 10: '101.915357789'"
     ]
    }
   ],
   "source": [
    "job = cluster.job()\n",
    "\n",
    "clouds = job.table(path) \\\n",
    "    .project(\n",
    "        'billing_account_id',\n",
    "        grant_id = 'id',\n",
    "        amount = ne.custom(lambda x: int(x), 'initial_amount'),\n",
    "        event = ne.const('grant_given'),\n",
    "        event_time = ne.custom(get_datetime_from_epoch, 'created_at'),\n",
    "        grant_duration = ne.custom(lambda x,y: (y-x)/86400, 'start_time', 'end_time'),\n",
    "        grant_source = 'source'\n",
    "    ) \\\n",
    "    .put('//home/cloud_analytics/events/grants/temp')\n",
    "job.run()"
   ]
  },
  {
   "cell_type": "code",
   "execution_count": null,
   "metadata": {},
   "outputs": [],
   "source": []
  }
 ],
 "metadata": {
  "kernelspec": {
   "display_name": "Python 2",
   "language": "python",
   "name": "python2"
  },
  "language_info": {
   "codemirror_mode": {
    "name": "ipython",
    "version": 2
   },
   "file_extension": ".py",
   "mimetype": "text/x-python",
   "name": "python",
   "nbconvert_exporter": "python",
   "pygments_lexer": "ipython2",
   "version": "2.7.15"
  }
 },
 "nbformat": 4,
 "nbformat_minor": 2
}
