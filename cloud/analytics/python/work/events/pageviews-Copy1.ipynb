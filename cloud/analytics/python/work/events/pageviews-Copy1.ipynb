{
 "cells": [
  {
   "cell_type": "code",
   "execution_count": 1,
   "metadata": {},
   "outputs": [],
   "source": [
    "import pandas as pd, datetime, ast, re\n",
    "from nile.api.v1 import (\n",
    "    clusters,\n",
    "    aggregators as na,\n",
    "    extractors as ne,\n",
    "    filters as nf,\n",
    "    Record\n",
    ")\n",
    "from vault_client import instances"
   ]
  },
  {
   "cell_type": "code",
   "execution_count": null,
   "metadata": {},
   "outputs": [],
   "source": []
  },
  {
   "cell_type": "code",
   "execution_count": null,
   "metadata": {},
   "outputs": [
    {
     "data": {
      "application/vnd.jupyter.widget-view+json": {
       "model_id": "0ed22f91198b4ba7bb7309d1f3dad993",
       "version_major": 2,
       "version_minor": 0
      },
      "text/plain": [
       "VBox()"
      ]
     },
     "metadata": {},
     "output_type": "display_data"
    }
   ],
   "source": [
    "client = instances.Production()\n",
    "yt_creds = client.get_version('ver-01d33pgv8pzc7t99s3egm24x47')\n",
    "cluster = clusters.yt.Hahn(\n",
    "    token = yt_creds['value']['token'],\n",
    "    pool = yt_creds['value']['pool'],\n",
    "    \n",
    ").env(\n",
    "\n",
    "    templates=dict(\n",
    "        dates='{2019-02-16..2019-02-17}'\n",
    "    )\n",
    ")\n",
    "\n",
    "\n",
    "\n",
    "job = cluster.job()\n",
    "clouds = job.table('//home/logfeller/logs/qloud-runtime-log/1d/2019-02-17') \\\n",
    "    .filter(\n",
    "        nf.custom(lambda x: 'cloud' in  str(x), 'qloud_project'),\n",
    "        nf.custom(lambda x: 'python-requests' not in str(x), 'message'),\n",
    "        nf.custom(lambda x: '/ping' not in str(x), 'message'),\n",
    "        nf.custom(lambda x: 'GET ' in str(x) or 'POST ' in str(x), 'message'),\n",
    "        nf.custom(lambda x: 'yastatic.net' not in str(x), 'message'),\n",
    "        nf.custom(lambda x: '/api/run ' not in str(x), 'message'),\n",
    "        nf.custom(lambda x: 'yandexuid=-' not in str(x), 'message'),\n",
    "        nf.custom(lambda x: 'sandbox.cloud.yandex.net' not in str(x), 'message'),\n",
    "    \n",
    "    ) \\\n",
    "    .project(\n",
    "        ne.all()\n",
    "    ) \\\n",
    "    .put(\n",
    "        '//home/cloud_analytics/import/console_logs/test'\n",
    "    )\n",
    "job.run()"
   ]
  },
  {
   "cell_type": "code",
   "execution_count": 2,
   "metadata": {},
   "outputs": [],
   "source": [
    "record = '''\"[17/Feb/2019:22:43:57 +0300] [200] [0.190 0.190] cloud.yandex.ru 2a02:6b8:c08:c900:0:4556:baec:bebd \\\"GET /?utm_source=FA_Display_Cloud_Rus&utm_medium=FA_Display_Cloud_Rus_1_01&utm_campaign=FA_Display_Cloud_Rus_1_01_A2_desktop&utm_content=23843124163720007&fbclid=IwAR25EWA4OjUY4LdZJnnnKVvZcmdx9zF1evoPI880DxrZOs7sc2Ot7DqIFDs HTTP/1.1\\\" \\\"https://www.facebook.com/\\\" \\\"Mozilla/5.0 (Windows NT 5.1; rv:52.0) Gecko/20100101 Firefox/52.0\\\" \\\"elvshafik\\\" \\\"yandexuid=2614359121457899042\\\" [16eac47aa28d881507dcb82ce9e82f16]'''"
   ]
  },
  {
   "cell_type": "code",
   "execution_count": 5,
   "metadata": {},
   "outputs": [
    {
     "name": "stdout",
     "output_type": "stream",
     "text": [
      "\"[17/Feb/2019:22:43:57 +0300] [200] [0.190 0.190] cloud.yandex.ru 2a02:6b8:c08:c900:0:4556:baec:bebd\n",
      "\n",
      "\n",
      "GET /?utm_source=FA_Display_Cloud_Rus&utm_medium=FA_Display_Cloud_Rus_1_01&utm_campaign=FA_Display_Cloud_Rus_1_01_A2_desktop&utm_content=23843124163720007&fbclid=IwAR25EWA4OjUY4LdZJnnnKVvZcmdx9zF1evoPI880DxrZOs7sc2Ot7DqIFDs HTTP/1.1\"\n",
      "\n",
      "\n",
      "https://www.facebook.com/\"\n",
      "\n",
      "\n",
      "Mozilla/5.0 (Windows NT 5.1; rv:52.0) Gecko/20100101 Firefox/52.0\"\n",
      "\n",
      "\n",
      "elvshafik\"\n",
      "\n",
      "\n",
      "yandexuid=2614359121457899042\" [16eac47aa28d881507dcb82ce9e82f16]\n",
      "\n",
      "\n"
     ]
    }
   ],
   "source": [
    "for st in record.split(' \\\"'):\n",
    "    print(st + '\\n\\n')"
   ]
  },
  {
   "cell_type": "code",
   "execution_count": 22,
   "metadata": {},
   "outputs": [
    {
     "data": {
      "text/plain": [
       "'[17/Feb/2019:11:38:08 +0300] [200] [- 0.000] yastatic.net 2a02:6b8:c08:c384:0:1478:6624:f0d2'"
      ]
     },
     "execution_count": 22,
     "metadata": {},
     "output_type": "execute_result"
    }
   ],
   "source": [
    "record.split(' \\\"')[0]"
   ]
  },
  {
   "cell_type": "code",
   "execution_count": null,
   "metadata": {},
   "outputs": [],
   "source": []
  }
 ],
 "metadata": {
  "kernelspec": {
   "display_name": "Python 2",
   "language": "python",
   "name": "python2"
  },
  "language_info": {
   "codemirror_mode": {
    "name": "ipython",
    "version": 2
   },
   "file_extension": ".py",
   "mimetype": "text/x-python",
   "name": "python",
   "nbconvert_exporter": "python",
   "pygments_lexer": "ipython2",
   "version": "2.7.15"
  }
 },
 "nbformat": 4,
 "nbformat_minor": 2
}
