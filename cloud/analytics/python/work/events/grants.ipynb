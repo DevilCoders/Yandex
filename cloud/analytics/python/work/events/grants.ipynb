{
 "cells": [
  {
   "cell_type": "code",
   "execution_count": 1,
   "metadata": {},
   "outputs": [],
   "source": [
    "import pandas as pd, datetime, ast\n",
    "from nile.api.v1 import (\n",
    "    clusters,\n",
    "    aggregators as na,\n",
    "    extractors as ne,\n",
    "    filters as nf,\n",
    "    Record\n",
    ")\n",
    "from vault_client import instances\n",
    "\n",
    "def get_datetime_from_epoch(epoch):\n",
    "    try:\n",
    "        return str(datetime.datetime.fromtimestamp(int(epoch)))\n",
    "    except:\n",
    "        return None\n",
    "\n",
    "\n",
    "def get_last_not_empty_table(folder_path):\n",
    "    tables_list = sorted([folder_path + '/' + x for x in job.driver.list(folder_path)], reverse=True)\n",
    "    last_table_rows = 0\n",
    "    last_table = ''\n",
    "    for table in tables_list:\n",
    "        try:\n",
    "            table_ = job.driver.read(table)\n",
    "        except:\n",
    "            continue\n",
    "        \n",
    "        if table_.row_count > last_table_rows:\n",
    "            last_table_rows =  table_.row_count\n",
    "            last_table = table\n",
    "    if last_table:\n",
    "        return last_table\n",
    "    else:\n",
    "        return tables_list[0]\n",
    "\n",
    "\n",
    "def get_table_list(folder_path):\n",
    "    tables_list = sorted([folder_path + '/' + x for x in job.driver.list(folder_path)], reverse=True)\n",
    "    return '{%s}' % (','.join(tables_list))\n",
    "\n",
    "\n",
    "\n",
    "\n",
    "def get_event_details(rest_, field_):\n",
    "    try:\n",
    "        return ast.literal_eval(rest_['metadata'])[field_]\n",
    "    except:\n",
    "        return ''\n",
    "\n",
    "def get_status_changes(groups):\n",
    "    for key, records in groups:\n",
    "        status = ''\n",
    "        for rec in records:\n",
    "            if rec['state'] != status:\n",
    "                result_dict = {\n",
    "                    'event': 'ba_status_changed',\n",
    "                    'event_time': get_datetime_from_epoch(rec['updated_at']),\n",
    "                    'ba_status': rec['state'],\n",
    "                    'reason': str(get_event_details(rec['_rest'], 'block_reason')) + str(get_event_details(rec['_rest'], 'suspend_reason')),\n",
    "                    'event_details': {\n",
    "                        'reason': str(get_event_details(rec['_rest'], 'block_reason')) + str(get_event_details(rec['_rest'], 'suspend_reason')),\n",
    "                        'old_status': status,\n",
    "                        'new_status': rec['state']\n",
    "                    }\n",
    "                }\n",
    "                status = rec['state']\n",
    "                yield Record(key, **result_dict)"
   ]
  },
  {
   "cell_type": "code",
   "execution_count": 2,
   "metadata": {},
   "outputs": [],
   "source": [
    "client = instances.Production()\n",
    "yt_creds = client.get_version('ver-01d33pgv8pzc7t99s3egm24x47')\n",
    "cluster = clusters.yt.Hahn(\n",
    "    token = yt_creds['value']['token'],\n",
    "    pool = yt_creds['value']['pool']\n",
    ")"
   ]
  },
  {
   "cell_type": "code",
   "execution_count": 3,
   "metadata": {},
   "outputs": [],
   "source": [
    "job = cluster.job()\n",
    "path = get_last_not_empty_table('//home/logfeller/logs/yc-billing-export-monetary-grants/1h')"
   ]
  },
  {
   "cell_type": "code",
   "execution_count": 4,
   "metadata": {},
   "outputs": [
    {
     "data": {
      "application/vnd.jupyter.widget-view+json": {
       "model_id": "5cfc15cdd0a442199b10cad3c0161d67",
       "version_major": 2,
       "version_minor": 0
      },
      "text/plain": [
       "VBox()"
      ]
     },
     "metadata": {},
     "output_type": "display_data"
    }
   ],
   "source": [
    "job = cluster.job()\n",
    "\n",
    "clouds = job.table(path) \\\n",
    "    .unique(\n",
    "        'id'\n",
    "    ) \\\n",
    "    .project(\n",
    "        'billing_account_id',\n",
    "        grant_id = 'id',\n",
    "        amount = ne.custom(lambda x: int(float(x)), 'initial_amount'),\n",
    "        event = ne.const('grant_given'),\n",
    "        event_time = ne.custom(get_datetime_from_epoch, 'created_at'),\n",
    "        grant_duration = ne.custom(lambda x,y: (y-x)/86400, 'start_time', 'end_time'),\n",
    "        grant_source = 'source'\n",
    "    ) \\\n",
    "    .put('//home/cloud_analytics/events/grants/temp')\n",
    "job.run()"
   ]
  },
  {
   "cell_type": "code",
   "execution_count": null,
   "metadata": {},
   "outputs": [],
   "source": []
  }
 ],
 "metadata": {
  "kernelspec": {
   "display_name": "Python 2",
   "language": "python",
   "name": "python2"
  },
  "language_info": {
   "codemirror_mode": {
    "name": "ipython",
    "version": 2
   },
   "file_extension": ".py",
   "mimetype": "text/x-python",
   "name": "python",
   "nbconvert_exporter": "python",
   "pygments_lexer": "ipython2",
   "version": "2.7.15"
  }
 },
 "nbformat": 4,
 "nbformat_minor": 2
}
