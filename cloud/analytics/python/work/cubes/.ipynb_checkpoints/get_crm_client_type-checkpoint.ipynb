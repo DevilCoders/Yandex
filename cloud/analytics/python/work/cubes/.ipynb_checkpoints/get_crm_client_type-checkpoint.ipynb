{
 "cells": [
  {
   "cell_type": "code",
   "execution_count": 1,
   "metadata": {},
   "outputs": [],
   "source": [
    "import pandas as pd, datetime, ast, os, requests, sys\n",
    "from vault_client import instances\n",
    "from nile.api.v1 import (\n",
    "    clusters\n",
    ")\n",
    "reload(sys)\n",
    "sys.setdefaultencoding('utf8')\n",
    "\n",
    "def main():\n",
    "    client = instances.Production()\n",
    "    yt_creds = client.get_version('ver-01d33pgv8pzc7t99s3egm24x47')\n",
    "    wiki_creds = client.get_version('ver-01d2z1psntbwweh87na5e6sthy')\n",
    "\n",
    "    headers = {\n",
    "        'Authorization': \"OAuth %s\" % wiki_creds['value']['token']\n",
    "    }\n",
    "\n",
    "    WIKI_URI = 'cloud-bizdev/Enterprise-ISV-clients/Spisok-Ent/ISV/'\n",
    "\n",
    "    out_table = '//home/cloud_analytics/import/wiki/clients_segments'\n",
    "\n",
    "    url = 'https://wiki-api.yandex-team.ru/_api/frontend/%s/.grid' % WIKI_URI\n",
    "\n",
    "    r = requests.get(url, headers=headers)\n",
    "    j = r.json()\n",
    "\n",
    "    columns = [f['title'] for f in j['data']['structure']['fields']]\n",
    "    rows = [[c['raw'] for c in row] for row in j['data']['rows']]\n",
    "\n",
    "    df = pd.DataFrame(rows, columns = ['crm_client_name', 'billing_account_id', 'sales', 'segment'])\n",
    "\n",
    "    df.crm_client_name = df.crm_client_name.apply(lambda x: x.replace('\\\"','').replace('«', '').replace('»', ''))\n",
    "\n",
    "    cluster = clusters.yt.Hahn(\n",
    "        token = yt_creds['value']['token'],\n",
    "        pool = yt_creds['value']['pool']\n",
    "    )\n",
    "\n",
    "    cluster.write(\n",
    "        out_table,\n",
    "        df\n",
    "    )\n",
    "\n",
    "if __name__ == '__main__':\n",
    "    main()"
   ]
  },
  {
   "cell_type": "code",
   "execution_count": null,
   "metadata": {},
   "outputs": [],
   "source": []
  }
 ],
 "metadata": {
  "kernelspec": {
   "display_name": "Python 2",
   "language": "python",
   "name": "python2"
  },
  "language_info": {
   "codemirror_mode": {
    "name": "ipython",
    "version": 2
   },
   "file_extension": ".py",
   "mimetype": "text/x-python",
   "name": "python",
   "nbconvert_exporter": "python",
   "pygments_lexer": "ipython2",
   "version": "2.7.15"
  }
 },
 "nbformat": 4,
 "nbformat_minor": 2
}
