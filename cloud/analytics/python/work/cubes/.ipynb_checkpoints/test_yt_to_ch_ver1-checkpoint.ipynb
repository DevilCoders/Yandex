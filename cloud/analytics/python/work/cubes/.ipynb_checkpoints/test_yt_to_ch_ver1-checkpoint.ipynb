{
 "cells": [
  {
   "cell_type": "code",
   "execution_count": null,
   "metadata": {},
   "outputs": [],
   "source": [
    "import os, sys, pandas as pd, datetime\n",
    "from StringIO import StringIO\n",
    "module_path = os.path.abspath(os.path.join('/Users/ktereshin/Desktop/yandex/analytics/python/lib'))\n",
    "if module_path not in sys.path:\n",
    "    sys.path.append(module_path)\n",
    "module_path = os.path.abspath(os.path.join('/Users/ktereshin/Desktop/yandex/analytics/python/work'))\n",
    "if module_path not in sys.path:\n",
    "    sys.path.append(module_path)\n",
    "    \n",
    "from vault_client import instances\n",
    "from global_variables import (\n",
    "    metrika_clickhouse_param_dict,\n",
    "    cloud_clickhouse_param_dict\n",
    ")\n",
    "from nile.api.v1 import (\n",
    "    clusters,\n",
    "    aggregators as na,\n",
    "    extractors as ne,\n",
    "    filters as nf,\n",
    "    Record\n",
    ")\n",
    "from data_loader import clickhouse"
   ]
  },
  {
   "cell_type": "code",
   "execution_count": null,
   "metadata": {},
   "outputs": [],
   "source": [
    "client = instances.Production()\n",
    "metrika_creds = client.get_version('ver-01d2z36msatt9mp9pcfptezksp')\n",
    "yc_ch_creds = client.get_version('ver-01d2z39xj02xw7gqvv9wq757ne')\n",
    "cloud_clickhouse_param_dict['user'] = yc_ch_creds['value']['login']\n",
    "cloud_clickhouse_param_dict['password'] = yc_ch_creds['value']['pass']"
   ]
  },
  {
   "cell_type": "code",
   "execution_count": null,
   "metadata": {},
   "outputs": [],
   "source": [
    "yt_creds = client.get_version('ver-01d33pgv8pzc7t99s3egm24x47')\n",
    "cluster = clusters.yt.Hahn(\n",
    "    token = yt_creds['value']['token'],\n",
    "    pool = yt_creds['value']['pool']\n",
    ")"
   ]
  },
  {
   "cell_type": "code",
   "execution_count": null,
   "metadata": {
    "scrolled": false
   },
   "outputs": [],
   "source": [
    "sample = cluster.read('//home/cloud_analytics/cubes/acquision_cube/2019-02-12')\n",
    "\n",
    "i = 0\n",
    "query = ''\n",
    "schema = 'cloud_analytics_testing'\n",
    "table = 'test_cube_ver1'\n",
    "columns = []\n",
    "values = []\n",
    "values_str = ''\n",
    "rows = {}\n",
    "rows_list = []\n",
    "\n",
    "for row in sample:\n",
    "    values = []\n",
    "    if row['event_time']:\n",
    "        i += 1\n",
    "        #print(i)\n",
    "        row_dict = row.to_dict()\n",
    "        if not columns:\n",
    "            columns = sorted(list(row_dict.keys()))\n",
    "            \n",
    "        for key in columns:\n",
    "            if row_dict[key]:\n",
    "                if isinstance(row_dict[key], str):\n",
    "                    row_dict[key] = row_dict[key].replace('\"', '').replace(\"'\", '').replace('\\\\','')\n",
    "                    if '_dt' in key or 'time' in key or 'date' in key:\n",
    "                        if row_dict[key].lower() in ['', None, 'unknown']:\n",
    "                            values.append('NULL')\n",
    "                            rows[key] = None\n",
    "                        else:\n",
    "                            values.append(\"'\" + row_dict[key] + \"'\")\n",
    "                            rows[key] = \"'\" + row_dict[key] + \"'\"\n",
    "                    else:\n",
    "                        values.append(\"'\" + row_dict[key] + \"'\")\n",
    "                        rows[key] = \"'\" + row_dict[key] + \"'\"\n",
    "                else:\n",
    "                    values.append(str(row_dict[key]))\n",
    "                    rows[key] = str(row_dict[key])\n",
    "            else:\n",
    "                values.append('NULL')\n",
    "                rows[key] = None\n",
    "    if not query:\n",
    "        query = '''INSERT INTO {0}.{1} ({2}) VALUES {3}'''.format(schema,table,','.join(columns), '(' + ','.join(values) + ')')\n",
    "    else:\n",
    "        if len(query + ',' + '(' + ','.join(values) + ')') < 7000:\n",
    "            query = query + ',' + '(' + ','.join(values) + ')'\n",
    "        else:\n",
    "            cloud_clickhouse_param_dict['query'] = query\n",
    "            clickhouse.clickhouse_request(**cloud_clickhouse_param_dict)\n",
    "            query = '''INSERT INTO {0}.{1} ({2}) VALUES {3}'''.format(schema,table,','.join(columns), '(' + ','.join(values) + ')')\n",
    "        \n",
    "    if i%10000 == 0:\n",
    "        print(i)"
   ]
  }
 ],
 "metadata": {
  "kernelspec": {
   "display_name": "Python 2",
   "language": "python",
   "name": "python2"
  },
  "language_info": {
   "codemirror_mode": {
    "name": "ipython",
    "version": 2
   },
   "file_extension": ".py",
   "mimetype": "text/x-python",
   "name": "python",
   "nbconvert_exporter": "python",
   "pygments_lexer": "ipython2",
   "version": "2.7.15"
  }
 },
 "nbformat": 4,
 "nbformat_minor": 2
}
