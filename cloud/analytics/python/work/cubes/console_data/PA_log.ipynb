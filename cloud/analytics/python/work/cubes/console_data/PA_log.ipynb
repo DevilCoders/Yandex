{
 "cells": [
  {
   "cell_type": "code",
   "execution_count": 1,
   "metadata": {},
   "outputs": [],
   "source": [
    "import pandas as pd, datetime, ast\n",
    "from nile.api.v1 import (\n",
    "    clusters,\n",
    "    aggregators as na,\n",
    "    extractors as ne,\n",
    "    filters as nf,\n",
    "    Record\n",
    ")\n",
    "from vault_client import instances\n",
    "\n",
    "client = instances.Production()\n",
    "yt_creds = client.get_version('ver-01d33pgv8pzc7t99s3egm24x47')\n",
    "cluster = clusters.yt.Hahn(\n",
    "    token = yt_creds['value']['token'],\n",
    "    pool = yt_creds['value']['pool'],\n",
    "    \n",
    ").env(\n",
    "\n",
    "    templates=dict(\n",
    "        dates='{2018-09-01..2019-02-07}'\n",
    "    )\n",
    ")\n",
    "\n",
    "\n",
    "\n",
    "job = cluster.job()\n",
    "clouds = job.table('//home/logfeller/logs/qloud-runtime-log/1d/@dates') \\\n",
    "    .filter(\n",
    "        nf.custom(lambda x:  str(x) == 'ya-cloud-front', 'qloud_project'),\n",
    "    ) \\\n",
    "    .project(\n",
    "        ne.all()\n",
    "    ) \\\n",
    "    .put(\n",
    "        '//home/cloud_analytics/import/console_logs/test'\n",
    "    )\n",
    "job.run()"
   ]
  },
  {
   "cell_type": "code",
   "execution_count": null,
   "metadata": {},
   "outputs": [],
   "source": []
  }
 ],
 "metadata": {
  "kernelspec": {
   "display_name": "Python 2",
   "language": "python",
   "name": "python2"
  },
  "language_info": {
   "codemirror_mode": {
    "name": "ipython",
    "version": 2
   },
   "file_extension": ".py",
   "mimetype": "text/x-python",
   "name": "python",
   "nbconvert_exporter": "python",
   "pygments_lexer": "ipython2",
   "version": "2.7.15"
  }
 },
 "nbformat": 4,
 "nbformat_minor": 2
}
