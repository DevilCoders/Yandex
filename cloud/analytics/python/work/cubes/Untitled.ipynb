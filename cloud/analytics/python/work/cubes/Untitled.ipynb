{
 "cells": [
  {
   "cell_type": "code",
   "execution_count": 109,
   "metadata": {},
   "outputs": [],
   "source": [
    "import os, sys, pandas as pd, datetime\n",
    "module_path = os.path.abspath(os.path.join('/Users/ktereshin/Desktop/yandex/analytics/python/lib'))\n",
    "if module_path not in sys.path:\n",
    "    sys.path.append(module_path)\n",
    "module_path = os.path.abspath(os.path.join('/Users/ktereshin/Desktop/yandex/analytics/python/work'))\n",
    "if module_path not in sys.path:\n",
    "    sys.path.append(module_path)\n",
    "    \n",
    "from vault_client import instances\n",
    "from global_variables import (\n",
    "    metrika_clickhouse_param_dict,\n",
    "    cloud_clickhouse_param_dict\n",
    ")\n",
    "from nile.api.v1 import (\n",
    "    clusters,\n",
    "    aggregators as na,\n",
    "    extractors as ne,\n",
    "    filters as nf,\n",
    "    Record\n",
    ")\n",
    "from data_loader import clickhouse"
   ]
  },
  {
   "cell_type": "code",
   "execution_count": 110,
   "metadata": {},
   "outputs": [],
   "source": [
    "client = instances.Production()\n",
    "metrika_creds = client.get_version('ver-01d2z36msatt9mp9pcfptezksp')\n",
    "yc_ch_creds = client.get_version('ver-01d2z39xj02xw7gqvv9wq757ne')\n",
    "cloud_clickhouse_param_dict['user'] = yc_ch_creds['value']['login']\n",
    "cloud_clickhouse_param_dict['password'] = yc_ch_creds['value']['pass']"
   ]
  },
  {
   "cell_type": "code",
   "execution_count": 111,
   "metadata": {},
   "outputs": [],
   "source": [
    "yt_creds = client.get_version('ver-01d33pgv8pzc7t99s3egm24x47')\n",
    "cluster = clusters.yt.Hahn(\n",
    "    token = yt_creds['value']['token'],\n",
    "    pool = yt_creds['value']['pool']\n",
    ")"
   ]
  },
  {
   "cell_type": "code",
   "execution_count": 112,
   "metadata": {},
   "outputs": [],
   "source": [
    "sample = cluster.read('//home/cloud_analytics/cubes/acquision_cube/2019-02-11')"
   ]
  },
  {
   "cell_type": "code",
   "execution_count": null,
   "metadata": {},
   "outputs": [
    {
     "name": "stdout",
     "output_type": "stream",
     "text": [
      "1\n",
      "2\n",
      "3\n",
      "4\n",
      "5\n",
      "6\n",
      "7\n",
      "8\n",
      "9\n"
     ]
    }
   ],
   "source": [
    "i = 0\n",
    "query = ''\n",
    "schema = 'cloud_analytics_testing'\n",
    "table = 'test_cube'\n",
    "for row in sample:\n",
    "    if row['event_time']:\n",
    "        i += 1\n",
    "        print(i)\n",
    "        row_dict = row.to_dict()\n",
    "        if not columns:\n",
    "            columns = sorted(list(row_dict.keys()))\n",
    "            \n",
    "        for key in columns:\n",
    "            if row_dict[key]:\n",
    "                if isinstance(row_dict[key], str):\n",
    "                    values.append(\"'\" + row_dict[key] + \"'\")\n",
    "                else:\n",
    "                    values.append(str(row_dict[key]))\n",
    "            else:\n",
    "                values.append('NULL')\n",
    "    values_str = values_str + '(' + ','.join(values) + ')'\n",
    "    if query:\n",
    "        query = '''INSERT INTO {0}.{1} ({2}) VALUES {3}'''.format(schema,table,','.join(columns), values_str)\n",
    "        \n",
    "    else:\n",
    "        query = query + ',' + values_str\n",
    "        \n",
    "    if i%10 == 0:\n",
    "        cloud_clickhouse_param_dict['query'] = query\n",
    "        clickhouse.clickhouse_request(**cloud_clickhouse_param_dict)\n",
    "        query = ''\n",
    "        i =+ 1\n",
    "        break"
   ]
  },
  {
   "cell_type": "code",
   "execution_count": null,
   "metadata": {},
   "outputs": [],
   "source": []
  },
  {
   "cell_type": "code",
   "execution_count": 94,
   "metadata": {
    "scrolled": true
   },
   "outputs": [],
   "source": [
    "columns = []\n",
    "values = []\n",
    "values_str = ''\n",
    "columns_str = ''\n",
    "row_dict = row.to_dict()\n",
    "columns = sorted(list(row_dict.keys()))\n",
    "for key in columns:\n",
    "    if row_dict[key]:\n",
    "        if isinstance(row_dict[key], str):\n",
    "            values.append(\"'\" + row_dict[key] + \"'\")\n",
    "        else:\n",
    "            values.append(str(row_dict[key]))\n",
    "    else:\n",
    "        values.append('NULL')\n",
    "values_str = values_str + '(' + ','.join(values) + ')'"
   ]
  },
  {
   "cell_type": "code",
   "execution_count": 95,
   "metadata": {},
   "outputs": [],
   "source": [
    "query = '''INSERT INTO {0}.{1} ({2}) VALUES {3}'''.format(schema,table,','.join(columns), values_str)"
   ]
  },
  {
   "cell_type": "code",
   "execution_count": 97,
   "metadata": {
    "scrolled": true
   },
   "outputs": [
    {
     "data": {
      "text/plain": [
       "<Response [200]>"
      ]
     },
     "execution_count": 97,
     "metadata": {},
     "output_type": "execute_result"
    }
   ],
   "source": [
    "cloud_clickhouse_param_dict['user'] = yc_ch_creds['value']['login']\n",
    "cloud_clickhouse_param_dict['password'] = yc_ch_creds['value']['pass']\n",
    "cloud_clickhouse_param_dict['query'] = query\n",
    "clickhouse.clickhouse_request(**cloud_clickhouse_param_dict)"
   ]
  },
  {
   "cell_type": "code",
   "execution_count": null,
   "metadata": {},
   "outputs": [],
   "source": [
    "cloud_clickhouse_param_dict['user'] = cloud_clickhouse_param_dict['value']['login']\n",
    "cloud_clickhouse_param_dict['password'] = cloud_clickhouse_param_dict['value']['pass']\n",
    "cloud_clickhouse_param_dict['query'] = query"
   ]
  }
 ],
 "metadata": {
  "kernelspec": {
   "display_name": "Python 2",
   "language": "python",
   "name": "python2"
  },
  "language_info": {
   "codemirror_mode": {
    "name": "ipython",
    "version": 2
   },
   "file_extension": ".py",
   "mimetype": "text/x-python",
   "name": "python",
   "nbconvert_exporter": "python",
   "pygments_lexer": "ipython2",
   "version": "2.7.15"
  }
 },
 "nbformat": 4,
 "nbformat_minor": 2
}
