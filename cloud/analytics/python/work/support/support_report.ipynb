{
 "cells": [
  {
   "cell_type": "code",
   "execution_count": 1,
   "metadata": {},
   "outputs": [],
   "source": [
    "import os, sys, pandas as pd, datetime, urllib2, urllib, requests, urlparse, json\n",
    "module_path = os.path.abspath(os.path.join('/home/ktereshin/yandex/arcadia/cloud/analytics/python/work'))\n",
    "if module_path not in sys.path:\n",
    "    sys.path.append(module_path)\n",
    "\n",
    "from global_variables import (\n",
    "    metrika_clickhouse_param_dict,\n",
    "    cloud_clickhouse_param_dict\n",
    ")\n",
    "\n",
    "from vault_client import instances\n",
    "\n",
    "from nile.api.v1 import (\n",
    "    clusters,\n",
    "    aggregators as na,\n",
    "    extractors as ne,\n",
    "    filters as nf,\n",
    "    Record\n",
    ")"
   ]
  },
  {
   "cell_type": "code",
   "execution_count": 2,
   "metadata": {},
   "outputs": [],
   "source": [
    "def load_stat_data(url, date_min, date_max, token):\n",
    "    headers = {\n",
    "        'Authorization': 'OAuth %s' % (token)\n",
    "    }\n",
    "\n",
    "    params = {'date_min':date_min, 'date_max':date_max, 'type':'json', '_raw_data':1}\n",
    "\n",
    "    url_parts = list(urllib2.urlparse.urlparse(url))\n",
    "    query = dict(urllib2.urlparse.parse_qsl(url_parts[4]))\n",
    "    query.update(params)\n",
    "    url_parts[4] = urllib.urlencode(query)\n",
    "    url= urlparse.urlunparse(url_parts)\n",
    "\n",
    "    req = requests.get(url, headers = headers)\n",
    "    res = json.loads(req.text)\n",
    "    df_raw = pd.DataFrame.from_dict( res['values']  )\n",
    "    return df_raw\n",
    "\n",
    "def apply_types_in_project(schema_):\n",
    "    apply_types_dict = {}\n",
    "    for col in schema_:\n",
    "        \n",
    "        if schema_[col] == str:\n",
    "            apply_types_dict[col] = ne.custom(lambda x: str(x) if x not in ['', None] else None, col)\n",
    "            \n",
    "        elif schema_[col] == int:\n",
    "            apply_types_dict[col] = ne.custom(lambda x: int(x) if x not in ['', None] else None, col)\n",
    "            \n",
    "        elif schema_[col] == float:\n",
    "            apply_types_dict[col] = ne.custom(lambda x: float(x) if x not in ['', None] else None, col)\n",
    "    return apply_types_dict"
   ]
  },
  {
   "cell_type": "code",
   "execution_count": 3,
   "metadata": {},
   "outputs": [],
   "source": [
    "client = instances.Production()\n",
    "yt_creds = client.get_version('ver-01d33pgv8pzc7t99s3egm24x47')\n",
    "stat_creds = client.get_version('ver-01d68cyvv3gpdz3apwzagry0ck')\n",
    "cluster = clusters.yt.Hahn(\n",
    "    token = yt_creds['value']['token'],\n",
    "    pool = yt_creds['value']['pool']\n",
    ")\n",
    "\n",
    "start_date = '2018-10-01'\n",
    "end_date = str(datetime.date.today())"
   ]
  },
  {
   "cell_type": "code",
   "execution_count": 5,
   "metadata": {},
   "outputs": [],
   "source": [
    "paths_dict_test = {\n",
    "    'support_tasks':'//home/cloud_analytics/import/tracker/support_tasks'\n",
    "}\n",
    "paths_dict_prod = {\n",
    "    'support_tasks':'//home/cloud_analytics/import/tracker/support_tasks'\n",
    "}\n",
    "\n",
    "mode = 'test'\n",
    "if mode == 'test':\n",
    "    paths_dict = paths_dict_test\n",
    "elif mode == 'prod':\n",
    "    paths_dict = paths_dict_prod"
   ]
  },
  {
   "cell_type": "code",
   "execution_count": 6,
   "metadata": {},
   "outputs": [],
   "source": [
    "data = load_stat_data('https://upload.stat.yandex-team.ru/_api/statreport/json/Adhoc/yc_support/support_stat_extended?scale=s&_incl_fields=key&_incl_fields=time&_incl_fields=type_issue', start_date, end_date, stat_creds['value']['token'])"
   ]
  },
  {
   "cell_type": "code",
   "execution_count": 7,
   "metadata": {},
   "outputs": [],
   "source": [
    "data = data.drop('fielddate__ms', axis = 1).rename(columns = {'fielddate':'task_time', 'key':'task', 'time':'response_time','type_issue':'task_type'})"
   ]
  },
  {
   "cell_type": "code",
   "execution_count": 8,
   "metadata": {},
   "outputs": [],
   "source": [
    "def get_hour_cat(x):\n",
    "    h = int(x/60) + 1\n",
    "    if h <= 1:\n",
    "        return 'less then 1 hour'\n",
    "    if h <= 2:\n",
    "        return '1-2 hour'\n",
    "    if h <= 4:\n",
    "        return '3-4 hour'\n",
    "    if h <= 5:\n",
    "        return '5-8 hour'\n",
    "    if h <= 24:\n",
    "        return '9-24 hour'\n",
    "    else:\n",
    "        return '25+ hour'"
   ]
  },
  {
   "cell_type": "code",
   "execution_count": 9,
   "metadata": {
    "scrolled": true
   },
   "outputs": [],
   "source": [
    "data['response_time_group'] = data['response_time'].apply(get_hour_cat)\n",
    "data['in_time_response'] = data['response_time'].apply(lambda x: 'in_time' if x < 480 else 'out_of_time')"
   ]
  },
  {
   "cell_type": "code",
   "execution_count": 10,
   "metadata": {},
   "outputs": [],
   "source": [
    "cluster.write(paths_dict['support_tasks'] + '_temp', data)"
   ]
  },
  {
   "cell_type": "code",
   "execution_count": 11,
   "metadata": {},
   "outputs": [],
   "source": [
    "schema = {\n",
    "    \"response_time\": int,\n",
    "    \"response_time_group\": str,\n",
    "    \"task\": str,\n",
    "    \"task_time\": str,\n",
    "    \"task_type\": str,\n",
    "    \"in_time_response\": str\n",
    "}"
   ]
  },
  {
   "cell_type": "code",
   "execution_count": 12,
   "metadata": {},
   "outputs": [
    {
     "data": {
      "application/vnd.jupyter.widget-view+json": {
       "model_id": "bef766fa5e4e4aac964e53cd30d3f69c",
       "version_major": 2,
       "version_minor": 0
      },
      "text/plain": [
       "VBox()"
      ]
     },
     "metadata": {},
     "output_type": "display_data"
    },
    {
     "name": "stderr",
     "output_type": "stream",
     "text": [
      "2019-04-12 07:45:58,318\tINFO\tOperation started: http://hahn.yt.yandex.net/?page=operation&mode=detail&id=ea8c947e-a9aa05b3-3fe03e8-d5acf28&tab=details\n",
      "2019-04-12 07:46:26,932\tINFO\tOperation started: http://hahn.yt.yandex.net/?page=operation&mode=detail&id=1f40a08d-86eb04d6-3fe03e8-5ade337c&tab=details\n"
     ]
    }
   ],
   "source": [
    "job = cluster.job()\n",
    "job.table(paths_dict['support_tasks'] + '_temp') \\\n",
    ".project(\n",
    "    **apply_types_in_project(schema)\n",
    ") \\\n",
    ".put(paths_dict['support_tasks'], schema = schema)\n",
    "job.run()\n",
    "\n",
    "cluster.driver.remove(paths_dict['support_tasks'] + '_temp')"
   ]
  },
  {
   "cell_type": "code",
   "execution_count": null,
   "metadata": {},
   "outputs": [],
   "source": []
  }
 ],
 "metadata": {
  "kernelspec": {
   "display_name": "python2-venv",
   "language": "python",
   "name": "python2-venv"
  },
  "language_info": {
   "codemirror_mode": {
    "name": "ipython",
    "version": 2
   },
   "file_extension": ".py",
   "mimetype": "text/x-python",
   "name": "python",
   "nbconvert_exporter": "python",
   "pygments_lexer": "ipython2",
   "version": "2.7.15rc1"
  }
 },
 "nbformat": 4,
 "nbformat_minor": 2
}
