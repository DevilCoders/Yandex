{
 "cells": [
  {
   "cell_type": "code",
   "execution_count": 1,
   "metadata": {},
   "outputs": [],
   "source": [
    "#!/usr/bin/env python2\n",
    "# -*- coding: utf-8 -*-\n",
    "import sys, requests, ast, json\n",
    "from vault_client import instances\n",
    "from nile.api.v1 import (\n",
    "    clusters\n",
    ")\n",
    "reload(sys)\n",
    "sys.setdefaultencoding('utf8')"
   ]
  },
  {
   "cell_type": "code",
   "execution_count": 2,
   "metadata": {},
   "outputs": [],
   "source": [
    "client = instances.Production()\n",
    "yt_creds = client.get_version('ver-01d33pgv8pzc7t99s3egm24x47')\n",
    "wiki_creds = client.get_version('ver-01d3g4shv3pj49k0s9nvrwdtqe')\n",
    "api_url = 'https://st-api.yandex-team.ru/v2/issues/'\n",
    "headers = {\n",
    "    'Authorization': \"OAuth %s\" % wiki_creds['value']['token']\n",
    "}"
   ]
  },
  {
   "cell_type": "code",
   "execution_count": 92,
   "metadata": {},
   "outputs": [],
   "source": [
    "tasks_in_queue = 'https://st-api.yandex-team.ru/v2/issues?filter=queue:CLOUDDOCS&perPage=10000'\n",
    "r = requests.get(tasks_in_queue, headers=headers)\n",
    "tasks_info = json.loads(r.text)\n",
    "tasks = sorted([str(task['key']) for task in tasks_info])"
   ]
  },
  {
   "cell_type": "code",
   "execution_count": 94,
   "metadata": {},
   "outputs": [
    {
     "data": {
      "text/plain": [
       "'CLOUDDOCS-1'"
      ]
     },
     "execution_count": 94,
     "metadata": {},
     "output_type": "execute_result"
    }
   ],
   "source": [
    "tasks[0]"
   ]
  },
  {
   "cell_type": "code",
   "execution_count": 98,
   "metadata": {},
   "outputs": [],
   "source": [
    "for task in tasks:\n",
    "    comments = api_url + task + '/comments'\n",
    "    r = requests.get(comments, headers=headers)\n",
    "    com = json.loads(r.text)\n",
    "    \n",
    "    robot_comments = []\n",
    "    for cc in com:\n",
    "        if cc['createdBy']['id'] == u'robot-yc-business':\n",
    "            robot_comments.append(cc)\n",
    "    if len(robot_comments)> 0:\n",
    "        break"
   ]
  },
  {
   "cell_type": "code",
   "execution_count": null,
   "metadata": {},
   "outputs": [],
   "source": []
  }
 ],
 "metadata": {
  "kernelspec": {
   "display_name": "python2-venv",
   "language": "python",
   "name": "python2-venv"
  },
  "language_info": {
   "codemirror_mode": {
    "name": "ipython",
    "version": 2
   },
   "file_extension": ".py",
   "mimetype": "text/x-python",
   "name": "python",
   "nbconvert_exporter": "python",
   "pygments_lexer": "ipython2",
   "version": "2.7.15rc1"
  }
 },
 "nbformat": 4,
 "nbformat_minor": 2
}
