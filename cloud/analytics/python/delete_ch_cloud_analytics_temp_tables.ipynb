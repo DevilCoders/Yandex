{
 "cells": [
  {
   "cell_type": "code",
   "execution_count": 11,
   "metadata": {},
   "outputs": [],
   "source": [
    "from SwissArmyKnife import ClickHouseClient\n",
    "import pandas as pd\n",
    "from tqdm import tqdm\n",
    "from StringIO import StringIO"
   ]
  },
  {
   "cell_type": "code",
   "execution_count": 6,
   "metadata": {},
   "outputs": [],
   "source": [
    "ch_settings_df = pd.read_excel('/Users/artkaz/Documents/yacloud/settings/ch_cloud_analytics_connection.xlsx') #sys.argv[1]\n",
    "\n",
    "ch_settings = {ch_settings_df.iloc[i,:]['field']: ch_settings_df.iloc[i,:]['value'] for i in ch_settings_df.index}\n",
    "\n",
    "\n",
    "ch_client = ClickHouseClient(user = ch_settings['user'],\n",
    "                             passw = ch_settings['password'],\n",
    "                             verify = ch_settings['verify'],\n",
    "                             host = ch_settings['host']\n",
    "                             )"
   ]
  },
  {
   "cell_type": "code",
   "execution_count": 31,
   "metadata": {},
   "outputs": [],
   "source": [
    "ch_tables = pd.read_csv(StringIO(ch_client.exec_sql(\"Select database, name FROM system.tables\")), \n",
    "                        sep ='\\t', names=['database', 'table'])"
   ]
  },
  {
   "cell_type": "code",
   "execution_count": 32,
   "metadata": {},
   "outputs": [],
   "source": [
    "ch_tables = ch_tables[ch_tables['database'] == 'cloud_analytics']"
   ]
  },
  {
   "cell_type": "code",
   "execution_count": 33,
   "metadata": {},
   "outputs": [],
   "source": [
    "ch_tables['temp_table'] = ch_tables['table'].apply(lambda s: s.find('_15')>0)"
   ]
  },
  {
   "cell_type": "code",
   "execution_count": 34,
   "metadata": {},
   "outputs": [
    {
     "name": "stderr",
     "output_type": "stream",
     "text": [
      "\n",
      "  0%|          | 0/46 [00:00<?, ?it/s]\u001b[A\n",
      "  2%|▏         | 1/46 [00:00<00:06,  6.62it/s]\u001b[A\n",
      "  4%|▍         | 2/46 [00:00<00:06,  6.63it/s]\u001b[A\n",
      "  7%|▋         | 3/46 [00:00<00:07,  6.03it/s]\u001b[A\n",
      "  9%|▊         | 4/46 [00:00<00:06,  6.16it/s]\u001b[A\n",
      " 11%|█         | 5/46 [00:01<00:13,  2.98it/s]\u001b[A\n",
      " 13%|█▎        | 6/46 [00:02<00:18,  2.14it/s]\u001b[A\n",
      " 15%|█▌        | 7/46 [00:03<00:21,  1.85it/s]\u001b[A\n",
      " 17%|█▋        | 8/46 [00:04<00:22,  1.69it/s]\u001b[A\n",
      " 20%|█▉        | 9/46 [00:04<00:20,  1.84it/s]\u001b[A\n",
      " 22%|██▏       | 10/46 [00:05<00:18,  1.99it/s]\u001b[A\n",
      " 24%|██▍       | 11/46 [00:05<00:16,  2.12it/s]\u001b[A\n",
      " 26%|██▌       | 12/46 [00:05<00:16,  2.08it/s]\u001b[A\n",
      " 28%|██▊       | 13/46 [00:05<00:15,  2.18it/s]\u001b[A\n",
      " 30%|███       | 14/46 [00:07<00:16,  1.90it/s]\u001b[A\n",
      " 33%|███▎      | 15/46 [00:07<00:15,  1.94it/s]\u001b[A\n",
      " 35%|███▍      | 16/46 [00:07<00:14,  2.03it/s]\u001b[A\n",
      " 37%|███▋      | 17/46 [00:09<00:15,  1.85it/s]\u001b[A\n",
      " 39%|███▉      | 18/46 [00:09<00:14,  1.93it/s]\u001b[A\n",
      " 41%|████▏     | 19/46 [00:09<00:13,  2.00it/s]\u001b[A\n",
      " 43%|████▎     | 20/46 [00:09<00:12,  2.07it/s]\u001b[A\n",
      " 46%|████▌     | 21/46 [00:09<00:11,  2.14it/s]\u001b[A\n",
      " 48%|████▊     | 22/46 [00:09<00:10,  2.21it/s]\u001b[A\n",
      " 50%|█████     | 23/46 [00:10<00:10,  2.28it/s]\u001b[A\n",
      " 52%|█████▏    | 24/46 [00:10<00:09,  2.28it/s]\u001b[A\n",
      " 54%|█████▍    | 25/46 [00:10<00:08,  2.34it/s]\u001b[A\n",
      " 57%|█████▋    | 26/46 [00:10<00:08,  2.39it/s]\u001b[A\n",
      " 59%|█████▊    | 27/46 [00:11<00:08,  2.37it/s]\u001b[A\n",
      " 61%|██████    | 28/46 [00:11<00:07,  2.38it/s]\u001b[A\n",
      " 63%|██████▎   | 29/46 [00:11<00:06,  2.43it/s]\u001b[A\n",
      " 65%|██████▌   | 30/46 [00:12<00:06,  2.48it/s]\u001b[A\n",
      " 67%|██████▋   | 31/46 [00:12<00:05,  2.53it/s]\u001b[A\n",
      " 70%|██████▉   | 32/46 [00:12<00:05,  2.58it/s]\u001b[A\n",
      " 72%|███████▏  | 33/46 [00:12<00:04,  2.63it/s]\u001b[A\n",
      " 74%|███████▍  | 34/46 [00:12<00:04,  2.68it/s]\u001b[A\n",
      " 76%|███████▌  | 35/46 [00:12<00:04,  2.72it/s]\u001b[A\n",
      " 78%|███████▊  | 36/46 [00:13<00:03,  2.77it/s]\u001b[A\n",
      " 80%|████████  | 37/46 [00:13<00:03,  2.81it/s]\u001b[A\n",
      " 83%|████████▎ | 38/46 [00:13<00:02,  2.86it/s]\u001b[A\n",
      " 85%|████████▍ | 39/46 [00:13<00:02,  2.90it/s]\u001b[A\n",
      " 87%|████████▋ | 40/46 [00:13<00:02,  2.94it/s]\u001b[A\n",
      " 89%|████████▉ | 41/46 [00:14<00:01,  2.90it/s]\u001b[A\n",
      " 91%|█████████▏| 42/46 [00:17<00:01,  2.43it/s]\u001b[A\n",
      " 93%|█████████▎| 43/46 [00:17<00:01,  2.47it/s]\u001b[A\n",
      " 96%|█████████▌| 44/46 [00:17<00:00,  2.50it/s]\u001b[A\n",
      " 98%|█████████▊| 45/46 [00:17<00:00,  2.51it/s]\u001b[A\n",
      "100%|██████████| 46/46 [00:18<00:00,  2.54it/s]\u001b[A\n",
      "\u001b[A"
     ]
    }
   ],
   "source": [
    "for table in tqdm(ch_tables[ch_tables['temp_table']]['table']):\n",
    "    try:\n",
    "        ch_client.exec_sql('DROP TABLE cloud_analytics.%s' %table)\n",
    "    except:\n",
    "        print 'err'"
   ]
  },
  {
   "cell_type": "code",
   "execution_count": null,
   "metadata": {},
   "outputs": [],
   "source": []
  }
 ],
 "metadata": {
  "kernelspec": {
   "display_name": "Python 2",
   "language": "python",
   "name": "python2"
  },
  "language_info": {
   "codemirror_mode": {
    "name": "ipython",
    "version": 2
   },
   "file_extension": ".py",
   "mimetype": "text/x-python",
   "name": "python",
   "nbconvert_exporter": "python",
   "pygments_lexer": "ipython2",
   "version": "2.7.14"
  }
 },
 "nbformat": 4,
 "nbformat_minor": 2
}
