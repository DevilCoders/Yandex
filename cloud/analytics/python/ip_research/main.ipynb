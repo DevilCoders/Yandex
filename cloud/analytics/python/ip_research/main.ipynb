{
 "cells": [
  {
   "cell_type": "code",
   "execution_count": 1,
   "metadata": {},
   "outputs": [],
   "source": [
    "# Tokens for connection to different services\n",
    "from clan_tools.secrets.Vault import Vault\n",
    "Vault().get_secrets()\n",
    "\n",
    "# Connector to CHYT\n",
    "from clan_tools.data_adapters.ClickHouseYTAdapter import ClickHouseYTAdapter\n",
    "ch_adapter = ClickHouseYTAdapter()\n",
    "\n",
    "# Connector to YT \n",
    "from clan_tools.data_adapters.YTAdapter import YTAdapter\n",
    "yt_adapter = YTAdapter()\n",
    "\n",
    "# Connector to YQL\n",
    "from clan_tools.data_adapters.YQLAdapter import YQLAdapter\n",
    "yql_adapter = YQLAdapter()"
   ]
  },
  {
   "cell_type": "code",
   "execution_count": 2,
   "metadata": {},
   "outputs": [],
   "source": [
    "import pandas as pd\n",
    "import requests as req"
   ]
  },
  {
   "cell_type": "code",
   "execution_count": 3,
   "metadata": {},
   "outputs": [],
   "source": [
    "# AWS IP from https://docs.aws.amazon.com/general/latest/gr/aws-ip-ranges.html#aws-ip-download\n",
    "url = 'https://ip-ranges.amazonaws.com/ip-ranges.json'\n",
    "aws_ip_json = req.get(url).json()"
   ]
  },
  {
   "cell_type": "code",
   "execution_count": 8,
   "metadata": {},
   "outputs": [
    {
     "data": {
      "text/html": [
       "<div>\n",
       "<style scoped>\n",
       "    .dataframe tbody tr th:only-of-type {\n",
       "        vertical-align: middle;\n",
       "    }\n",
       "\n",
       "    .dataframe tbody tr th {\n",
       "        vertical-align: top;\n",
       "    }\n",
       "\n",
       "    .dataframe thead th {\n",
       "        text-align: right;\n",
       "    }\n",
       "</style>\n",
       "<table border=\"1\" class=\"dataframe\">\n",
       "  <thead>\n",
       "    <tr style=\"text-align: right;\">\n",
       "      <th></th>\n",
       "      <th>ip_prefix</th>\n",
       "      <th>region</th>\n",
       "      <th>service</th>\n",
       "      <th>network_border_group</th>\n",
       "    </tr>\n",
       "  </thead>\n",
       "  <tbody>\n",
       "    <tr>\n",
       "      <th>0</th>\n",
       "      <td>3.5.140.0/22</td>\n",
       "      <td>ap-northeast-2</td>\n",
       "      <td>AMAZON</td>\n",
       "      <td>ap-northeast-2</td>\n",
       "    </tr>\n",
       "    <tr>\n",
       "      <th>1</th>\n",
       "      <td>13.34.37.64/27</td>\n",
       "      <td>ap-southeast-4</td>\n",
       "      <td>AMAZON</td>\n",
       "      <td>ap-southeast-4</td>\n",
       "    </tr>\n",
       "    <tr>\n",
       "      <th>2</th>\n",
       "      <td>13.34.65.64/27</td>\n",
       "      <td>il-central-1</td>\n",
       "      <td>AMAZON</td>\n",
       "      <td>il-central-1</td>\n",
       "    </tr>\n",
       "    <tr>\n",
       "      <th>3</th>\n",
       "      <td>13.34.66.0/27</td>\n",
       "      <td>us-east-1</td>\n",
       "      <td>AMAZON</td>\n",
       "      <td>us-east-1</td>\n",
       "    </tr>\n",
       "    <tr>\n",
       "      <th>4</th>\n",
       "      <td>15.230.221.0/24</td>\n",
       "      <td>us-east-1</td>\n",
       "      <td>AMAZON</td>\n",
       "      <td>us-east-1</td>\n",
       "    </tr>\n",
       "  </tbody>\n",
       "</table>\n",
       "</div>"
      ],
      "text/plain": [
       "         ip_prefix          region service network_border_group\n",
       "0     3.5.140.0/22  ap-northeast-2  AMAZON       ap-northeast-2\n",
       "1   13.34.37.64/27  ap-southeast-4  AMAZON       ap-southeast-4\n",
       "2   13.34.65.64/27    il-central-1  AMAZON         il-central-1\n",
       "3    13.34.66.0/27       us-east-1  AMAZON            us-east-1\n",
       "4  15.230.221.0/24       us-east-1  AMAZON            us-east-1"
      ]
     },
     "execution_count": 8,
     "metadata": {},
     "output_type": "execute_result"
    }
   ],
   "source": [
    "aws_ip_df = pd.DataFrame(aws_ip_json['prefixes'])\n",
    "aws_ip_df.head()"
   ]
  },
  {
   "cell_type": "code",
   "execution_count": 9,
   "metadata": {},
   "outputs": [
    {
     "name": "stderr",
     "output_type": "stream",
     "text": [
      "2022-07-07 14:31:58,644\tWARNING\t@@@@@@@@@@@@@@@@@@@@@@@@@@@@@@@@@@@@@@@@@@@@@@@@@@@@@@@@@@@\n",
      "2022-07-07 14:31:58,645\tWARNING\t@         WARNING: UNPROTECTED TOKEN KEY FILE!            @\n",
      "2022-07-07 14:31:58,645\tWARNING\t@@@@@@@@@@@@@@@@@@@@@@@@@@@@@@@@@@@@@@@@@@@@@@@@@@@@@@@@@@@\n",
      "2022-07-07 14:31:58,646\tWARNING\tPermissions 0664 for '/home/daniilkhar/.yt/token' are too open.\n",
      "2022-07-07 14:31:58,646\tWARNING\tIt is required that your token file is NOT accessible by others.\n"
     ]
    }
   ],
   "source": [
    "# Data downloading from df to YT\n",
    "df_schema = [\n",
    "    {\"name\": \"ip_prefix\", \"type\": \"string\"},\n",
    "    {\"name\": \"region\", \"type\": \"string\"},\n",
    "    {\"name\": \"service\", \"type\": \"string\"},\n",
    "    {\"name\": \"network_border_group\", \"type\": \"string\"}\n",
    "]\n",
    "\n",
    "yt_adapter.save_result('//home/cloud_analytics/data_swamp/projects/ipv4/big3_ip_groups/aws',\n",
    "                        df=aws_ip_df,\n",
    "                        schema=df_schema,\n",
    "                        append=False)\n"
   ]
  },
  {
   "cell_type": "code",
   "execution_count": 13,
   "metadata": {},
   "outputs": [
    {
     "data": {
      "text/html": [
       "<div>\n",
       "<style scoped>\n",
       "    .dataframe tbody tr th:only-of-type {\n",
       "        vertical-align: middle;\n",
       "    }\n",
       "\n",
       "    .dataframe tbody tr th {\n",
       "        vertical-align: top;\n",
       "    }\n",
       "\n",
       "    .dataframe thead th {\n",
       "        text-align: right;\n",
       "    }\n",
       "</style>\n",
       "<table border=\"1\" class=\"dataframe\">\n",
       "  <thead>\n",
       "    <tr style=\"text-align: right;\">\n",
       "      <th></th>\n",
       "      <th>ipv4Prefix</th>\n",
       "      <th>service</th>\n",
       "      <th>scope</th>\n",
       "      <th>ipv6Prefix</th>\n",
       "    </tr>\n",
       "  </thead>\n",
       "  <tbody>\n",
       "    <tr>\n",
       "      <th>0</th>\n",
       "      <td>34.80.0.0/15</td>\n",
       "      <td>Google Cloud</td>\n",
       "      <td>asia-east1</td>\n",
       "      <td>NaN</td>\n",
       "    </tr>\n",
       "    <tr>\n",
       "      <th>1</th>\n",
       "      <td>34.137.0.0/16</td>\n",
       "      <td>Google Cloud</td>\n",
       "      <td>asia-east1</td>\n",
       "      <td>NaN</td>\n",
       "    </tr>\n",
       "    <tr>\n",
       "      <th>2</th>\n",
       "      <td>35.185.128.0/19</td>\n",
       "      <td>Google Cloud</td>\n",
       "      <td>asia-east1</td>\n",
       "      <td>NaN</td>\n",
       "    </tr>\n",
       "    <tr>\n",
       "      <th>3</th>\n",
       "      <td>35.185.160.0/20</td>\n",
       "      <td>Google Cloud</td>\n",
       "      <td>asia-east1</td>\n",
       "      <td>NaN</td>\n",
       "    </tr>\n",
       "    <tr>\n",
       "      <th>4</th>\n",
       "      <td>35.187.144.0/20</td>\n",
       "      <td>Google Cloud</td>\n",
       "      <td>asia-east1</td>\n",
       "      <td>NaN</td>\n",
       "    </tr>\n",
       "  </tbody>\n",
       "</table>\n",
       "</div>"
      ],
      "text/plain": [
       "        ipv4Prefix       service       scope ipv6Prefix\n",
       "0     34.80.0.0/15  Google Cloud  asia-east1        NaN\n",
       "1    34.137.0.0/16  Google Cloud  asia-east1        NaN\n",
       "2  35.185.128.0/19  Google Cloud  asia-east1        NaN\n",
       "3  35.185.160.0/20  Google Cloud  asia-east1        NaN\n",
       "4  35.187.144.0/20  Google Cloud  asia-east1        NaN"
      ]
     },
     "execution_count": 13,
     "metadata": {},
     "output_type": "execute_result"
    }
   ],
   "source": [
    "# GCP IP from https://www.gstatic.com/ipranges/cloud.json\n",
    "url = 'https://www.gstatic.com/ipranges/cloud.json'\n",
    "gcp_ip_json = req.get(url).json()\n",
    "gcp_ip_df = pd.DataFrame(gcp_ip_json['prefixes'])\n",
    "gcp_ip_df.head()"
   ]
  },
  {
   "cell_type": "code",
   "execution_count": 15,
   "metadata": {},
   "outputs": [],
   "source": [
    "# Data downloading from df to YT\n",
    "df_schema = [\n",
    "    {\"name\": \"ipv4Prefix\", \"type\": \"string\"},\n",
    "    {\"name\": \"service\", \"type\": \"string\"},\n",
    "    {\"name\": \"scope\", \"type\": \"string\"},\n",
    "    {\"name\": \"ipv6Prefix\", \"type\": \"string\"}\n",
    "]\n",
    "\n",
    "yt_adapter.save_result('//home/cloud_analytics/data_swamp/projects/ipv4/big3_ip_groups/gcp',\n",
    "                        df=gcp_ip_df,\n",
    "                        schema=df_schema,\n",
    "                        append=False)"
   ]
  },
  {
   "cell_type": "code",
   "execution_count": 34,
   "metadata": {},
   "outputs": [
    {
     "data": {
      "text/html": [
       "<div>\n",
       "<style scoped>\n",
       "    .dataframe tbody tr th:only-of-type {\n",
       "        vertical-align: middle;\n",
       "    }\n",
       "\n",
       "    .dataframe tbody tr th {\n",
       "        vertical-align: top;\n",
       "    }\n",
       "\n",
       "    .dataframe thead th {\n",
       "        text-align: right;\n",
       "    }\n",
       "</style>\n",
       "<table border=\"1\" class=\"dataframe\">\n",
       "  <thead>\n",
       "    <tr style=\"text-align: right;\">\n",
       "      <th></th>\n",
       "      <th>name</th>\n",
       "      <th>id</th>\n",
       "      <th>ip_prefix</th>\n",
       "    </tr>\n",
       "  </thead>\n",
       "  <tbody>\n",
       "    <tr>\n",
       "      <th>0</th>\n",
       "      <td>ActionGroup</td>\n",
       "      <td>ActionGroup</td>\n",
       "      <td>13.65.25.19/32</td>\n",
       "    </tr>\n",
       "    <tr>\n",
       "      <th>0</th>\n",
       "      <td>ActionGroup</td>\n",
       "      <td>ActionGroup</td>\n",
       "      <td>13.66.60.119/32</td>\n",
       "    </tr>\n",
       "    <tr>\n",
       "      <th>0</th>\n",
       "      <td>ActionGroup</td>\n",
       "      <td>ActionGroup</td>\n",
       "      <td>13.66.143.220/30</td>\n",
       "    </tr>\n",
       "    <tr>\n",
       "      <th>0</th>\n",
       "      <td>ActionGroup</td>\n",
       "      <td>ActionGroup</td>\n",
       "      <td>13.66.202.14/32</td>\n",
       "    </tr>\n",
       "    <tr>\n",
       "      <th>0</th>\n",
       "      <td>ActionGroup</td>\n",
       "      <td>ActionGroup</td>\n",
       "      <td>13.66.248.225/32</td>\n",
       "    </tr>\n",
       "  </tbody>\n",
       "</table>\n",
       "</div>"
      ],
      "text/plain": [
       "          name           id         ip_prefix\n",
       "0  ActionGroup  ActionGroup    13.65.25.19/32\n",
       "0  ActionGroup  ActionGroup   13.66.60.119/32\n",
       "0  ActionGroup  ActionGroup  13.66.143.220/30\n",
       "0  ActionGroup  ActionGroup   13.66.202.14/32\n",
       "0  ActionGroup  ActionGroup  13.66.248.225/32"
      ]
     },
     "execution_count": 34,
     "metadata": {},
     "output_type": "execute_result"
    }
   ],
   "source": [
    "# Azure IP from https://download.microsoft.com/download/7/1/D/71D86715-5596-4529-9B13-DA13A5DE5B63/ServiceTags_Public_20220704.json\n",
    "url = 'https://download.microsoft.com/download/7/1/D/71D86715-5596-4529-9B13-DA13A5DE5B63/ServiceTags_Public_20220704.json'\n",
    "azure_ip_json = req.get(url).json()\n",
    "azure_ip_df = pd.DataFrame.from_dict(azure_ip_json['values'])\n",
    "azure_ip_df['ip_prefix'] = [d.get('addressPrefixes') for d in azure_ip_df.properties]\n",
    "azure_ip_df.drop('properties', axis=1, inplace=True)\n",
    "azure_ip_df = azure_ip_df.explode('ip_prefix')\n",
    "azure_ip_df.head()"
   ]
  },
  {
   "cell_type": "code",
   "execution_count": 35,
   "metadata": {},
   "outputs": [],
   "source": [
    "# Data downloading from df to YT\n",
    "df_schema = [\n",
    "    {\"name\": \"name\", \"type\": \"string\"},\n",
    "    {\"name\": \"id\", \"type\": \"string\"},\n",
    "    {\"name\": \"ip_prefix\", \"type\": \"string\"}\n",
    "]\n",
    "\n",
    "yt_adapter.save_result('//home/cloud_analytics/data_swamp/projects/ipv4/big3_ip_groups/azure',\n",
    "                        df=azure_ip_df,\n",
    "                        schema=df_schema,\n",
    "                        append=False)"
   ]
  },
  {
   "cell_type": "code",
   "execution_count": null,
   "metadata": {},
   "outputs": [],
   "source": []
  }
 ],
 "metadata": {
  "interpreter": {
   "hash": "31f2aee4e71d21fbe5cf8b01ff0e069b9275f58929596ceb00d14d90e3e16cd6"
  },
  "kernelspec": {
   "display_name": "Python 3.7.5 64-bit",
   "name": "python3"
  },
  "language_info": {
   "codemirror_mode": {
    "name": "ipython",
    "version": 3
   },
   "file_extension": ".py",
   "mimetype": "text/x-python",
   "name": "python",
   "nbconvert_exporter": "python",
   "pygments_lexer": "ipython3",
   "version": "3.7.5"
  },
  "orig_nbformat": 4
 },
 "nbformat": 4,
 "nbformat_minor": 2
}
