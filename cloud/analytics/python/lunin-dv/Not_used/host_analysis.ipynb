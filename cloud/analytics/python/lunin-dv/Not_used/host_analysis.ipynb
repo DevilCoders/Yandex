{
 "cells": [
  {
   "cell_type": "code",
   "execution_count": null,
   "metadata": {},
   "outputs": [],
   "source": [
    "import scipy.stats as sps\n",
    "from sklearn.decomposition import PCA\n",
    "from sklearn.manifold import TSNE\n",
    "from sklearn.model_selection import train_test_split\n",
    "from sklearn.model_selection import train_test_split\n",
    "import gc\n",
    "from dateutil.parser import *\n",
    "import pandas as pd\n",
    "import matplotlib.pyplot as plt\n",
    "import seaborn as sns\n",
    "import numpy as np\n",
    "import os\n",
    "os.chdir('/Users/lunin-dv/Desktop/Library/')\n",
    "import importlib\n",
    "import my_library as lib\n",
    "import aiohttp\n",
    "import asyncio\n",
    "from datetime import datetime\n",
    "importlib.reload(lib)\n",
    "os.chdir('/Users/lunin-dv/Desktop/data/')\n",
    "sns.set(font_scale=0)\n",
    "from ipwhois import IPWhois\n",
    "import socket\n",
    "%matplotlib inline"
   ]
  },
  {
   "cell_type": "code",
   "execution_count": null,
   "metadata": {},
   "outputs": [],
   "source": [
    "def get_host_owner(domain_name):\n",
    "    try:\n",
    "        ip = socket.gethostbyname(domain_name)\n",
    "        obj = IPWhois(ip)\n",
    "        results = obj.lookup_rdap(depth=0)\n",
    "        return results['asn_description']\n",
    "    except Exception:\n",
    "        return \"-\""
   ]
  },
  {
   "cell_type": "code",
   "execution_count": null,
   "metadata": {},
   "outputs": [],
   "source": [
    "date = lib.execute_query(\"\"\"\n",
    "SELECT\n",
    "    addMonths(toStartOfMonth(toDate(NOW())), -1) as dt\n",
    "FORMAT TabSeparatedWithNames\n",
    "\"\"\")['dt'].iloc[0]\n"
   ]
  },
  {
   "cell_type": "code",
   "execution_count": null,
   "metadata": {},
   "outputs": [],
   "source": [
    "date"
   ]
  },
  {
   "cell_type": "code",
   "execution_count": null,
   "metadata": {},
   "outputs": [],
   "source": [
    "req = f\"\"\"\n",
    "SELECT\n",
    "    StartURLDomain,\n",
    "    cnt,\n",
    "    final_count_id as count_id\n",
    "FROM (\n",
    "    SELECT\n",
    "        StartURLDomain,\n",
    "        SUM(cnt_raw) as cnt,\n",
    "        argMax(count_id, cnt_raw) as raw_count_id,\n",
    "        max(cnt_raw) as max_cnt,\n",
    "        if(max_cnt > 0.5 * cnt, raw_count_id, null) as final_count_id\n",
    "    FROM (\n",
    "        SELECT\n",
    "            StartURLDomain,\n",
    "            CounterID as count_id,\n",
    "            SUM(Sign) * 100 as cnt_raw\n",
    "        FROM visits_all SAMPLE 1/100\n",
    "        WHERE toStartOfMonth(toDate(StartDate)) >= toStartOfMonth(toDate('{date}'))\n",
    "        AND IsRobot == 0\n",
    "        AND IsYandex == 0\n",
    "        AND isNotNull(YandexLogin)\n",
    "        AND YandexLogin != ''\n",
    "        GROUP BY StartURLDomain, count_id\n",
    "        ORDER BY cnt_raw DESC\n",
    "        LIMIT 200000\n",
    "    )\n",
    "    GROUP BY StartURLDomain\n",
    ")\n",
    "WHERE isNotNull(count_id)\n",
    "ORDER BY cnt DESC\n",
    "LIMIT 100000\n",
    "FORMAT TabSeparatedWithNames\n",
    "\"\"\""
   ]
  },
  {
   "cell_type": "code",
   "execution_count": null,
   "metadata": {},
   "outputs": [],
   "source": [
    "df = lib.get_metrika_df(req)"
   ]
  },
  {
   "cell_type": "code",
   "execution_count": null,
   "metadata": {},
   "outputs": [],
   "source": [
    "from joblib import Parallel, delayed"
   ]
  },
  {
   "cell_type": "code",
   "execution_count": null,
   "metadata": {},
   "outputs": [],
   "source": [
    "%%time\n",
    "clouds = Parallel(n_jobs=-1)(delayed(get_host_owner)(domain) \n",
    "                            for domain in df[\"StartURLDomain\"])"
   ]
  },
  {
   "cell_type": "code",
   "execution_count": null,
   "metadata": {},
   "outputs": [],
   "source": [
    "df"
   ]
  },
  {
   "cell_type": "code",
   "execution_count": null,
   "metadata": {},
   "outputs": [],
   "source": [
    "df[\"cloud_hosts\"] = clouds"
   ]
  },
  {
   "cell_type": "code",
   "execution_count": null,
   "metadata": {},
   "outputs": [],
   "source": [
    "df.to_csv(\"host_owners\", index=False)"
   ]
  },
  {
   "cell_type": "code",
   "execution_count": null,
   "metadata": {},
   "outputs": [],
   "source": [
    "hosts = pd.DataFrame(df.groupby([\"cloud_hosts\"]).size().sort_values(ascending=False), \n",
    "                     columns = [\"cnt\"])"
   ]
  },
  {
   "cell_type": "code",
   "execution_count": null,
   "metadata": {},
   "outputs": [],
   "source": [
    "google = [\"google\"]\n",
    "amazon = [\"amazon\"]\n",
    "azure = [\"microsoft\"]\n",
    "yandex = [\"yandex\"]\n",
    "cloudflare = [\"cloudflare\"]\n",
    "hetzner = ['hetzner']\n",
    "ovh = ['ovh']\n",
    "timeweb = ['timeweb']\n",
    "as_reg = ['as-reg']\n",
    "beget = ['beget']\n",
    "firstvds = ['thefirst']\n",
    "digitalocean = ['digitalocean']\n",
    "dataline = ['dtln']\n",
    "selectel = ['selectel']\n",
    "ru_center = ['ru-center']\n",
    "ihc = ['ihcru']\n",
    "firstcolo = ['firstcolo']\n",
    "mail = ['mailru']\n",
    "rostelecom = ['rostelecom']\n",
    "qrator = ['qrator']\n",
    "belpak = ['belpak']\n",
    "rambler = ['rambler']\n",
    "sprinthost = ['sprinthost']"
   ]
  },
  {
   "cell_type": "code",
   "execution_count": null,
   "metadata": {},
   "outputs": [],
   "source": [
    "clouds = ['google', 'amazon', 'azure', 'yandex', 'cloudflare',\n",
    "          'hetzner', 'ovh', 'timeweb', 'as_reg', 'beget',\n",
    "          'firstvds', 'digitalocean', 'dataline', 'selectel',\n",
    "          'ru_center', 'ihc', 'firstcolo', 'mail', 'rostelecom', \n",
    "          'qrator', 'belpak', 'rambler', 'sprinthost']"
   ]
  },
  {
   "cell_type": "code",
   "execution_count": null,
   "metadata": {},
   "outputs": [],
   "source": [
    "def host_finder(x):\n",
    "    try:\n",
    "        for cloud in clouds:\n",
    "            for word in globals()[cloud]:\n",
    "                if word in x.lower():\n",
    "                    return cloud\n",
    "    except Exception:\n",
    "        pass\n",
    "    return '-'"
   ]
  },
  {
   "cell_type": "code",
   "execution_count": null,
   "metadata": {},
   "outputs": [],
   "source": [
    "#hosts_copy[\"cloud_hosts\"] = hosts_copy.index\n",
    "#hosts_copy[\"cloud_hosts\"] = hosts_copy[\"cloud_hosts\"].apply(lambda x: host_finder(x))"
   ]
  },
  {
   "cell_type": "code",
   "execution_count": null,
   "metadata": {},
   "outputs": [],
   "source": [
    "df[\"cloud_host_name\"] = df['cloud_hosts'].apply(lambda x: host_finder(x))"
   ]
  },
  {
   "cell_type": "code",
   "execution_count": null,
   "metadata": {},
   "outputs": [],
   "source": [
    "df.columns = ['domain', 'visits_num', 'cloud_host', 'cloud_host_name']"
   ]
  },
  {
   "cell_type": "code",
   "execution_count": null,
   "metadata": {},
   "outputs": [],
   "source": [
    "res = df[df[\"cloud_host_name\"] != '-']"
   ]
  },
  {
   "cell_type": "code",
   "execution_count": null,
   "metadata": {},
   "outputs": [],
   "source": [
    "res = pd.concat([res, pd.get_dummies(res[\"cloud_host_name\"])], axis=1)"
   ]
  },
  {
   "cell_type": "code",
   "execution_count": null,
   "metadata": {},
   "outputs": [],
   "source": [
    "path = \"//home/metrika/export/code\"\n",
    "tables = []\n",
    "for table in lib.find_tables_in_hahn_folder(path):\n",
    "    if \"exp.\" not in str(table):\n",
    "        tables.append(table)"
   ]
  },
  {
   "cell_type": "code",
   "execution_count": null,
   "metadata": {},
   "outputs": [],
   "source": [
    "path = str(tables[-1])"
   ]
  },
  {
   "cell_type": "code",
   "execution_count": null,
   "metadata": {},
   "outputs": [],
   "source": [
    "path"
   ]
  },
  {
   "cell_type": "code",
   "execution_count": null,
   "metadata": {},
   "outputs": [],
   "source": [
    "request = f\"\"\"\n",
    "SELECT\n",
    "    DISTINCT domain\n",
    "From \"{path}\"\n",
    "WHERE has_metrika_aggr = 1\n",
    "FORMAT TabSeparatedWithNames\n",
    "\"\"\""
   ]
  },
  {
   "cell_type": "code",
   "execution_count": null,
   "metadata": {},
   "outputs": [],
   "source": [
    "good_domains = lib.execute_query(request)"
   ]
  },
  {
   "cell_type": "code",
   "execution_count": null,
   "metadata": {},
   "outputs": [],
   "source": [
    "domains = set(good_domains[\"domain\"])"
   ]
  },
  {
   "cell_type": "code",
   "execution_count": null,
   "metadata": {},
   "outputs": [],
   "source": [
    "res = res[res[\"domain\"].isin(domains)]"
   ]
  },
  {
   "cell_type": "code",
   "execution_count": null,
   "metadata": {},
   "outputs": [],
   "source": [
    "res.shape"
   ]
  },
  {
   "cell_type": "markdown",
   "metadata": {},
   "source": [
    "-------"
   ]
  },
  {
   "cell_type": "code",
   "execution_count": null,
   "metadata": {},
   "outputs": [],
   "source": [
    "import gc\n",
    "gc.collect()"
   ]
  },
  {
   "cell_type": "code",
   "execution_count": null,
   "metadata": {},
   "outputs": [],
   "source": [
    "owner_req = f\"\"\"\n",
    "SELECT\n",
    "    DISTINCT owner,\n",
    "    email,\n",
    "    site\n",
    "FROM \"//home/metrika/export/counters\"\n",
    "FORMAT TabSeparatedWithNames\n",
    "\"\"\""
   ]
  },
  {
   "cell_type": "code",
   "execution_count": null,
   "metadata": {},
   "outputs": [],
   "source": [
    "owners = lib.execute_query(owner_req)"
   ]
  },
  {
   "cell_type": "code",
   "execution_count": null,
   "metadata": {},
   "outputs": [],
   "source": [
    "owners_cleaned = owners[owners['site'].isin(res['domain'])]"
   ]
  },
  {
   "cell_type": "code",
   "execution_count": null,
   "metadata": {},
   "outputs": [],
   "source": [
    "owners_cleaned.columns = ['puid', 'email', 'domain']"
   ]
  },
  {
   "cell_type": "code",
   "execution_count": null,
   "metadata": {},
   "outputs": [],
   "source": [
    "owners_cleaned['puid']  = owners_cleaned['puid'].astype(int)"
   ]
  },
  {
   "cell_type": "code",
   "execution_count": null,
   "metadata": {},
   "outputs": [],
   "source": [
    "final_df = pd.merge(res, owners_cleaned, on = \"domain\")"
   ]
  },
  {
   "cell_type": "code",
   "execution_count": null,
   "metadata": {},
   "outputs": [],
   "source": [
    "final_df = final_df[final_df['cloud_host_name'] != 'yandex']"
   ]
  },
  {
   "cell_type": "code",
   "execution_count": null,
   "metadata": {},
   "outputs": [],
   "source": [
    "final_df['amazon'].dtype == np.dtype('uint8')"
   ]
  },
  {
   "cell_type": "code",
   "execution_count": null,
   "metadata": {},
   "outputs": [],
   "source": [
    "for col in final_df.columns:\n",
    "    if final_df[col].dtype == np.dtype('uint8'):\n",
    "        final_df[col] = final_df[col].astype(int)"
   ]
  },
  {
   "cell_type": "code",
   "execution_count": null,
   "metadata": {},
   "outputs": [],
   "source": [
    "bill_df = lib.execute_query(\"\"\"\n",
    "SELECT\n",
    "    puid,\n",
    "    argMax(billing_account_id, event_time) as billing_account_id\n",
    "FROM \"//home/cloud_analytics/cubes/acquisition_cube/cube\"\n",
    "WHERE event == 'ba_created'\n",
    "GROUP BY puid\n",
    "FORMAT TabSeparatedWithNames\n",
    "\"\"\"\n",
    ")"
   ]
  },
  {
   "cell_type": "code",
   "execution_count": null,
   "metadata": {},
   "outputs": [],
   "source": [
    "final_df['puid'] = final_df['puid'].astype(str)\n",
    "bill_df['puid'] = bill_df['puid'].astype(str)\n",
    "final_df.replace('nan', np.nan, inplace=True)\n",
    "final_df_with_bill = pd.merge(final_df, bill_df, on='puid', how='left')"
   ]
  },
  {
   "cell_type": "code",
   "execution_count": null,
   "metadata": {},
   "outputs": [],
   "source": [
    "lib.save_table('2020-08-01', '//home/cloud_analytics/lunin-dv/competitors_host_owners',\n",
    "               final_df_with_bill)"
   ]
  },
  {
   "cell_type": "code",
   "execution_count": null,
   "metadata": {},
   "outputs": [],
   "source": []
  }
 ],
 "metadata": {
  "kernelspec": {
   "display_name": "Python 3",
   "language": "python",
   "name": "python3"
  },
  "language_info": {
   "codemirror_mode": {
    "name": "ipython",
    "version": 3
   },
   "file_extension": ".py",
   "mimetype": "text/x-python",
   "name": "python",
   "nbconvert_exporter": "python",
   "pygments_lexer": "ipython3",
   "version": "3.7.4"
  }
 },
 "nbformat": 4,
 "nbformat_minor": 2
}
