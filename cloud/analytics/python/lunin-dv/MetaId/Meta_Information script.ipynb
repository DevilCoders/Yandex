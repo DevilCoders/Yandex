{
 "cells": [
  {
   "cell_type": "code",
   "execution_count": 12,
   "metadata": {},
   "outputs": [],
   "source": [
    "import numpy as np\n",
    "import scipy as sp\n",
    "import scipy.stats as sps\n",
    "from sklearn.decomposition import PCA\n",
    "from sklearn.manifold import TSNE\n",
    "from sklearn.model_selection import train_test_split\n",
    "from sklearn.model_selection import train_test_split\n",
    "import gc\n",
    "import pandas as pd\n",
    "import matplotlib.pyplot as plt\n",
    "import seaborn as sns\n",
    "import os\n",
    "import typing as tp\n",
    "from collections import defaultdict\n",
    "os.chdir('/Users/lunin-dv/Desktop/Library/')\n",
    "import importlib\n",
    "import robot_lib as lib\n",
    "importlib.reload(lib)\n",
    "os.chdir('/Users/lunin-dv/Desktop/data/')\n",
    "sns.set(font_scale=0)\n",
    "%matplotlib inline"
   ]
  },
  {
   "cell_type": "code",
   "execution_count": 13,
   "metadata": {},
   "outputs": [],
   "source": [
    "interest_columns = []\n",
    "meta_info = lib.MetaInformationClass(interested_columns=interest_columns)\n",
    "meta_info.create_users_id()\n",
    "res_df = meta_info.get_dataframe_with_grouped_information()\n",
    "schema = {\"associated_billings\": 'list:string',\n",
    "          \"associated_clouds\":'list:string',\n",
    "          \"associated_folders\":'list:string',\n",
    "          **{col: 'list:string' for col in interest_columns}}"
   ]
  },
  {
   "cell_type": "code",
   "execution_count": 10,
   "metadata": {},
   "outputs": [
    {
     "data": {
      "text/html": [
       "<div>\n",
       "<style scoped>\n",
       "    .dataframe tbody tr th:only-of-type {\n",
       "        vertical-align: middle;\n",
       "    }\n",
       "\n",
       "    .dataframe tbody tr th {\n",
       "        vertical-align: top;\n",
       "    }\n",
       "\n",
       "    .dataframe thead th {\n",
       "        text-align: right;\n",
       "    }\n",
       "</style>\n",
       "<table border=\"1\" class=\"dataframe\">\n",
       "  <thead>\n",
       "    <tr style=\"text-align: right;\">\n",
       "      <th></th>\n",
       "      <th>billing_account_id</th>\n",
       "      <th>last_active_billing</th>\n",
       "      <th>associated_billings</th>\n",
       "      <th>associated_clouds</th>\n",
       "      <th>associated_folders</th>\n",
       "    </tr>\n",
       "  </thead>\n",
       "  <tbody>\n",
       "    <tr>\n",
       "      <td>2620</td>\n",
       "      <td>dn2fig41b0s8p62vjq4h</td>\n",
       "      <td>dn2fig41b0s8p62vjq4h</td>\n",
       "      <td>[dn2fig41b0s8p62vjq4h]</td>\n",
       "      <td>[b1gcc2si3arda0694oln]</td>\n",
       "      <td>[b1gd68li0lk23fsqfv42]</td>\n",
       "    </tr>\n",
       "  </tbody>\n",
       "</table>\n",
       "</div>"
      ],
      "text/plain": [
       "        billing_account_id   last_active_billing     associated_billings  \\\n",
       "2620  dn2fig41b0s8p62vjq4h  dn2fig41b0s8p62vjq4h  [dn2fig41b0s8p62vjq4h]   \n",
       "\n",
       "           associated_clouds      associated_folders  \n",
       "2620  [b1gcc2si3arda0694oln]  [b1gd68li0lk23fsqfv42]  "
      ]
     },
     "execution_count": 10,
     "metadata": {},
     "output_type": "execute_result"
    }
   ],
   "source": [
    "res_df[res_df[\"billing_account_id\"] == 'dn2fig41b0s8p62vjq4h']"
   ]
  },
  {
   "cell_type": "code",
   "execution_count": 11,
   "metadata": {},
   "outputs": [],
   "source": [
    "path = \"//home/cloud_analytics/lunin-dv\"\n",
    "file_to_write = \"meta_id_information_cube\"\n",
    "lib.save_table(file_to_write, path, res_df, schema = schema)"
   ]
  },
  {
   "cell_type": "code",
   "execution_count": 133,
   "metadata": {},
   "outputs": [
    {
     "name": "stderr",
     "output_type": "stream",
     "text": [
      "2020-04-17 23:22:21,264\tINFO\tTransfer task started: https://transfer-manager.yt.yandex-team.ru/task?id=bef2979c-16634a36-74378ef4-febd2f66&tab=details&backend=production\n"
     ]
    }
   ],
   "source": [
    "lib.save_table_from_yt_to_grafana(\"//home/cloud_analytics/lunin-dv/meta_id_information_cube\", \n",
    "                                  \"cloud_analytics.meta_id_information_cube\",\n",
    "                                  sort_col=\"last_active_billing\")"
   ]
  },
  {
   "cell_type": "code",
   "execution_count": 50,
   "metadata": {},
   "outputs": [],
   "source": [
    "lib.drop_grafana_table(\"cloud_analytics.meta_id_information_cube_1587080256\")"
   ]
  },
  {
   "cell_type": "code",
   "execution_count": 3,
   "metadata": {},
   "outputs": [],
   "source": [
    "lib.drop_grafana_table(\"cloud_analytics.meta_id_information_cube_1587405722\")"
   ]
  },
  {
   "cell_type": "code",
   "execution_count": null,
   "metadata": {},
   "outputs": [],
   "source": []
  }
 ],
 "metadata": {
  "kernelspec": {
   "display_name": "Python 3",
   "language": "python",
   "name": "python3"
  },
  "language_info": {
   "codemirror_mode": {
    "name": "ipython",
    "version": 3
   },
   "file_extension": ".py",
   "mimetype": "text/x-python",
   "name": "python",
   "nbconvert_exporter": "python",
   "pygments_lexer": "ipython3",
   "version": "3.7.4"
  }
 },
 "nbformat": 4,
 "nbformat_minor": 2
}
