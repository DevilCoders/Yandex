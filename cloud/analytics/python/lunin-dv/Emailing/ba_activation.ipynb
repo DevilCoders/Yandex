{
 "cells": [
  {
   "cell_type": "code",
   "execution_count": 1,
   "metadata": {},
   "outputs": [],
   "source": [
    "import scipy.stats as sps\n",
    "from sklearn.model_selection import train_test_split\n",
    "import gc\n",
    "from dateutil.parser import *\n",
    "import pandas as pd\n",
    "import numpy as np\n",
    "import os\n",
    "import yt.wrapper as yt \n",
    "os.chdir('/Users/lunin-dv/Desktop/Library/')\n",
    "import importlib\n",
    "import my_library as lib\n",
    "import operator\n",
    "import re\n",
    "importlib.reload(lib)\n",
    "os.chdir('/Users/lunin-dv/Desktop/data/')"
   ]
  },
  {
   "cell_type": "code",
   "execution_count": 11,
   "metadata": {},
   "outputs": [],
   "source": [
    "def copy_before(table_name):\n",
    "    if yt.row_count(\"//home/cloud_analytics/emailing/sender/\" + table_name) == 0:\n",
    "        yt.copy(\"//home/cloud_analytics/emailing/sender_copy/\" + table_name,\n",
    "                \"//home/cloud_analytics/emailing/sender/\" + table_name,\n",
    "                force=True)\n",
    "        print('saved')\n",
    "copy_before(\"ba-activation\")"
   ]
  },
  {
   "cell_type": "code",
   "execution_count": 15,
   "metadata": {},
   "outputs": [],
   "source": [
    "df = lib.execute_query(\"\"\"\n",
    "SELECT\n",
    "    t0.*,\n",
    "    language\n",
    "FROM(\n",
    "    SELECT\n",
    "        multiIf(\n",
    "            user_settings_email LIKE '%@yandex.%' OR user_settings_email LIKE '%@ya.%',CONCAT(lower(replaceAll(splitByString('@',assumeNotNull(user_settings_email))[1], '.', '-')), '@yandex.ru'),\n",
    "            lower(user_settings_email)\n",
    "        ) as email,\n",
    "        toUInt64(puid) as puid,\n",
    "        cloud_id,\n",
    "        event_time as console_regstration_date,\n",
    "        addDays(toDate(console_regstration_date), 2) as experiment_date,\n",
    "        multiIf(first_ba_created_datetime = '0000-00-00 00:00:00', '', first_ba_created_datetime) as ba_created,\n",
    "        mail_feature,\n",
    "        mail_info,\n",
    "        mail_promo,\n",
    "        toDate(NOW()) - toDate(console_regstration_date) as days_sinse_console_registration,\n",
    "        modulo(puid, 100) as group_key,\n",
    "        multiIf(\n",
    "            modulo(puid, 100) < 35, 'test',\n",
    "            modulo(puid, 100) > 44, 'test',\n",
    "            'control'\n",
    "        ) as Group\n",
    "    FROM \"//home/cloud_analytics/cubes/acquisition_cube/cube\"\n",
    "    WHERE\n",
    "        event = 'cloud_created'\n",
    "        AND toDate(event_time) >= toDate('2020-06-01')\n",
    ") as t0\n",
    "ANY LEFT JOIN(\n",
    "    SELECT\n",
    "        cloud_id,\n",
    "        user_settings_language as language\n",
    "    FROM \"//home/cloud_analytics/import/iam/cloud_owners_history\"\n",
    ") as t1\n",
    "ON t0.cloud_id = t1.cloud_id\n",
    "FORMAT TabSeparatedWithNames\n",
    "\"\"\")"
   ]
  },
  {
   "cell_type": "code",
   "execution_count": 16,
   "metadata": {},
   "outputs": [],
   "source": [
    "lib.save_table(\"ba-activation\", \"//home/cloud_analytics/emailing/sender\", df)"
   ]
  },
  {
   "cell_type": "code",
   "execution_count": 14,
   "metadata": {},
   "outputs": [],
   "source": [
    "def copy_after(table_name):\n",
    "    if yt.row_count(\"//home/cloud_analytics/emailing/sender/\" + table_name) != 0:\n",
    "        yt.copy(\"//home/cloud_analytics/emailing/sender/\" + table_name,\n",
    "                \"//home/cloud_analytics/emailing/sender_copy/\" + table_name, force=True)\n",
    "copy_after(\"ba-activation\")"
   ]
  },
  {
   "cell_type": "code",
   "execution_count": null,
   "metadata": {},
   "outputs": [],
   "source": []
  }
 ],
 "metadata": {
  "kernelspec": {
   "display_name": "Python 3",
   "language": "python",
   "name": "python3"
  },
  "language_info": {
   "codemirror_mode": {
    "name": "ipython",
    "version": 3
   },
   "file_extension": ".py",
   "mimetype": "text/x-python",
   "name": "python",
   "nbconvert_exporter": "python",
   "pygments_lexer": "ipython3",
   "version": "3.7.4"
  }
 },
 "nbformat": 4,
 "nbformat_minor": 2
}
