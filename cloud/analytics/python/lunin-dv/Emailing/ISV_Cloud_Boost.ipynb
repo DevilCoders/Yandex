{
 "cells": [
  {
   "cell_type": "code",
   "execution_count": 1,
   "metadata": {},
   "outputs": [],
   "source": [
    "import scipy.stats as sps\n",
    "from sklearn.model_selection import train_test_split\n",
    "import gc\n",
    "from dateutil.parser import *\n",
    "import pandas as pd\n",
    "import numpy as np\n",
    "import os\n",
    "import yt.wrapper as yt \n",
    "os.chdir('/Users/lunin-dv/Desktop/Library/')\n",
    "import importlib\n",
    "import my_library as lib\n",
    "import operator\n",
    "import re\n",
    "importlib.reload(lib)\n",
    "os.chdir('/Users/lunin-dv/Desktop/data/')"
   ]
  },
  {
   "cell_type": "code",
   "execution_count": 2,
   "metadata": {},
   "outputs": [],
   "source": [
    "def copy_before(table_name):\n",
    "    if yt.row_count(\"//home/cloud_analytics/emailing/sender/\" + table_name) == 0:\n",
    "        yt.copy(\"//home/cloud_analytics/emailing/sender_copy/\" + table_name,\n",
    "                \"//home/cloud_analytics/emailing/sender/\" + table_name,\n",
    "                force=True)\n",
    "        print('saved')\n",
    "copy_before(\"ISV-Cloud-Boost\")\n",
    "copy_before(\"ISV-Cloud-Boost-OLD\")"
   ]
  },
  {
   "cell_type": "markdown",
   "metadata": {},
   "source": [
    "# 0. Общая информация"
   ]
  },
  {
   "cell_type": "markdown",
   "metadata": {},
   "source": [
    "## Drop_list"
   ]
  },
  {
   "cell_type": "code",
   "execution_count": 3,
   "metadata": {},
   "outputs": [],
   "source": [
    "drop_req = \"\"\"\n",
    "SELECT\n",
    "    *\n",
    "FROM \"//home/cloud_analytics/emailing/sender/drop_list\"\n",
    "FORMAT TabSeparatedWithNames\n",
    "\"\"\"\n",
    "dropped_emails = lib.execute_query(drop_req)\n",
    "dropped_emails = set(dropped_emails['email'])"
   ]
  },
  {
   "cell_type": "markdown",
   "metadata": {},
   "source": [
    "## Cube"
   ]
  },
  {
   "cell_type": "code",
   "execution_count": 4,
   "metadata": {},
   "outputs": [],
   "source": [
    "req = \"\"\"\n",
    "SELECT\n",
    "    DISTINCT\n",
    "    billing_account_id,\n",
    "    lower(user_settings_email) as email,\n",
    "    puid,\n",
    "    event_time as console_regstration_date,\n",
    "    multiIf(first_ba_created_datetime = '0000-00-00 00:00:00', '',\n",
    "            first_ba_created_datetime) as ba_created,\n",
    "    \n",
    "    if (first_first_paid_consumption_datetime == '0000-00-00 00:00:00', '',\n",
    "        first_first_paid_consumption_datetime) as first_first_paid_consumption_datetime,\n",
    "    ba_usage_status as usage_status,\n",
    "    is_isv,\n",
    "    mail_feature,\n",
    "    mail_info,\n",
    "    mail_promo,\n",
    "    language,\n",
    "    modulo(toInt64(puid), 100) as group_index,\n",
    "    toDate(NOW()) - toDate(console_regstration_date) as days_since_console_registration,\n",
    "    'test' as Group\n",
    "FROM \"//home/cloud_analytics/cubes/acquisition_cube/cube\" as a\n",
    "ANY LEFT JOIN(\n",
    "    SELECT\n",
    "        passport_uid as puid,\n",
    "        user_settings_language as language\n",
    "    FROM \"//home/cloud_analytics/import/iam/cloud_owners_history\"\n",
    ") as b\n",
    "ON a.puid == b.puid\n",
    "WHERE\n",
    "    (\n",
    "        (event == 'cloud_created' and  billing_account_id in\n",
    "         (SELECT DISTINCT billing_account_id \n",
    "          FROM \"//home/cloud_analytics/cubes/acquisition_cube/cube\"\n",
    "          WHERE event == 'cloud_created')\n",
    "         )\n",
    "      OR\n",
    "        (event == 'ba_created' and  billing_account_id not in\n",
    "         (SELECT DISTINCT billing_account_id \n",
    "          FROM \"//home/cloud_analytics/cubes/acquisition_cube/cube\"\n",
    "          WHERE event == 'cloud_created')\n",
    "        )\n",
    "    )\n",
    "    AND billing_account_id != ''\n",
    "    AND puid != ''\n",
    "FORMAT TabSeparatedWithNames\n",
    "\"\"\"\n",
    "main_df = lib.execute_query(req)"
   ]
  },
  {
   "cell_type": "markdown",
   "metadata": {},
   "source": [
    "## ISV"
   ]
  },
  {
   "cell_type": "code",
   "execution_count": 5,
   "metadata": {},
   "outputs": [],
   "source": [
    "req = \"\"\"\n",
    "SELECT\n",
    "    billing_account_id,\n",
    "    toDate(isv_start_date) as isv_start_date,\n",
    "    toDate(isv_end_date) as isv_end_date\n",
    "FROM (\n",
    "    SELECT\n",
    "        billing_account_id,\n",
    "        isv_start_date,\n",
    "        if (isNotNull(isv_start_date) and isv_end_date != 0, isv_end_date, null) as isv_end_date\n",
    "    FROM (\n",
    "        SELECT\n",
    "            billing_account_id,\n",
    "            min(if (is_isv == 1, \n",
    "                    updated_at, null)\n",
    "                ) as isv_start_date,\n",
    "            max(if (is_isv == 1, \n",
    "                    updated_at, 0)\n",
    "                ) as isv_before_end_date,\n",
    "            groupArray(if (is_isv == 0, updated_at, null)) as all_not_isv_times,\n",
    "            arrayFilter(x -> assumeNotNull(x) > assumeNotNull(isv_before_end_date), \n",
    "                        all_not_isv_times)[1] as isv_end_date\n",
    "        FROM (\n",
    "            SELECT\n",
    "                billing_account_id,\n",
    "                updated_at,\n",
    "                if (feature_flags like '%isv%' \n",
    "                and feature_flags not like '%false%', 1, 0) as is_isv\n",
    "            FROM \"//home/cloud/billing/exported-billing-tables/billing_accounts_history_prod\"\n",
    "            ORDER BY billing_account_id, updated_at\n",
    "        )\n",
    "        GROUP BY billing_account_id\n",
    "    )\n",
    "    WHERE isNotNull(isv_start_date)\n",
    ")\n",
    "FORMAT TabSeparatedWithNames\n",
    "\"\"\"\n",
    "isv_df = lib.execute_query(req)"
   ]
  },
  {
   "cell_type": "code",
   "execution_count": 6,
   "metadata": {},
   "outputs": [],
   "source": [
    "req = \"\"\"\n",
    "SELECT\n",
    "    groupUniqArray(isv_status) as isv_status,\n",
    "    email\n",
    "FROM \"//home/cloud_analytics/import/crm/crm_leads_isv_var\"\n",
    "GROUP BY email\n",
    "HAVING length(isv_status) > 0\n",
    "FORMAT TabSeparatedWithNames\n",
    "\"\"\"\n",
    "isv_next = lib.execute_query(req)"
   ]
  },
  {
   "cell_type": "code",
   "execution_count": 7,
   "metadata": {},
   "outputs": [],
   "source": [
    "order = list(reversed(['Pending', 'New', 'Assigned', 'In Process', 'Recycled', 'Converted']))"
   ]
  },
  {
   "cell_type": "code",
   "execution_count": 8,
   "metadata": {},
   "outputs": [],
   "source": [
    "def get_type(x):\n",
    "    for y in order:\n",
    "        if y in x:\n",
    "            return y\n",
    "    assert False, x"
   ]
  },
  {
   "cell_type": "code",
   "execution_count": 9,
   "metadata": {},
   "outputs": [],
   "source": [
    "isv_next['isv_status'] = isv_next['isv_status'].apply(\n",
    "    lambda x: get_type(x))"
   ]
  },
  {
   "cell_type": "code",
   "execution_count": 10,
   "metadata": {},
   "outputs": [
    {
     "data": {
      "text/plain": [
       "(1281, 2)"
      ]
     },
     "execution_count": 10,
     "metadata": {},
     "output_type": "execute_result"
    }
   ],
   "source": [
    "isv_next.shape"
   ]
  },
  {
   "cell_type": "code",
   "execution_count": 11,
   "metadata": {},
   "outputs": [],
   "source": [
    "main_df = pd.merge(main_df, isv_df, on='billing_account_id', how='left')\n",
    "main_df = pd.merge(main_df, isv_next, on='email', how='left')"
   ]
  },
  {
   "cell_type": "markdown",
   "metadata": {},
   "source": [
    "# 1. Обновление"
   ]
  },
  {
   "cell_type": "code",
   "execution_count": 14,
   "metadata": {},
   "outputs": [],
   "source": [
    "def update_current_table(table_name, path, tables_to_update):\n",
    "    full_path = path + \"/\" + table_name\n",
    "    req = f\"\"\"\n",
    "    SELECT\n",
    "        *\n",
    "    FROM \"{full_path}\"\n",
    "    FORMAT TabSeparatedWithNames\n",
    "    \"\"\"\n",
    "    old_df = lib.execute_query(req)\n",
    "    if 'sended_mails' in old_df.columns:\n",
    "        old_df['sended_mails'] = old_df['sended_mails'].apply(\n",
    "            lambda x: x.replace(\"\\\\\", \"\"))\n",
    "    old_df['is_dropped'] = (old_df['email'].isin(dropped_emails)).astype(int)\n",
    "    if \"OLD\" in table_name:\n",
    "        old_df = old_df[old_df['is_dropped'] == 0]\n",
    "    for table, key in tables_to_update:\n",
    "        old_df = pd.merge(old_df,\n",
    "                          table, on=key, suffixes=('', '_new'), how='left')\n",
    "        \n",
    "    new_cols = []\n",
    "    for column in old_df.columns:\n",
    "        if \"_new\" == column[-4:]:\n",
    "            new_cols.append(column)\n",
    "            old_column = column[:-4]\n",
    "            old_df[old_column] = old_df[[old_column, column]].apply(\n",
    "            lambda x: x[column] if not pd.isnull(x[column]) else x[old_column], axis=1\n",
    "            )\n",
    "    old_df.drop(columns=new_cols, inplace=True)\n",
    "    lib.save_table(table_name, path, old_df)"
   ]
  },
  {
   "cell_type": "code",
   "execution_count": 15,
   "metadata": {},
   "outputs": [],
   "source": [
    "tables_to_update = [(main_df, \"billing_account_id\")]"
   ]
  },
  {
   "cell_type": "code",
   "execution_count": 16,
   "metadata": {},
   "outputs": [],
   "source": [
    "update_current_table(\"ISV-Cloud-Boost-OLD\", \n",
    "                            \"//home/cloud_analytics/emailing/sender\", \n",
    "                            tables_to_update)"
   ]
  },
  {
   "cell_type": "code",
   "execution_count": 17,
   "metadata": {},
   "outputs": [],
   "source": [
    "update_current_table(\"ISV-Cloud-Boost\", \"//home/cloud_analytics/emailing/sender\", \n",
    "                     tables_to_update)"
   ]
  },
  {
   "cell_type": "markdown",
   "metadata": {},
   "source": [
    "# 2. Добавление"
   ]
  },
  {
   "cell_type": "markdown",
   "metadata": {},
   "source": [
    "## old Marketo"
   ]
  },
  {
   "cell_type": "code",
   "execution_count": 17,
   "metadata": {},
   "outputs": [],
   "source": [
    "marketo_previous_req = \"\"\"\n",
    "SELECT\n",
    "    DISTINCT\n",
    "    billing_account_id,\n",
    "    email\n",
    "FROM \"//home/cloud_analytics/cubes/emailing_events/emailing_events\"\n",
    "WHERE event == 'add_to_nurture_stream'\n",
    "AND lower(program_name) like '%cloud-boost-program%'\n",
    "FORMAT TabSeparatedWithNames\n",
    "\"\"\"\n",
    "marketo_prev_df = lib.execute_query(marketo_previous_req)"
   ]
  },
  {
   "cell_type": "code",
   "execution_count": 18,
   "metadata": {},
   "outputs": [
    {
     "data": {
      "text/plain": [
       "(279, 2)"
      ]
     },
     "execution_count": 18,
     "metadata": {},
     "output_type": "execute_result"
    }
   ],
   "source": [
    "marketo_prev_df.shape"
   ]
  },
  {
   "cell_type": "markdown",
   "metadata": {},
   "source": [
    "## old in program\n"
   ]
  },
  {
   "cell_type": "code",
   "execution_count": 19,
   "metadata": {},
   "outputs": [],
   "source": [
    "req = \"\"\"\n",
    "SELECT\n",
    "    DISTINCT\n",
    "        email,\n",
    "        billing_account_id\n",
    "FROM \"//home/cloud_analytics/emailing/sender/ISV-Cloud-Boost\"\n",
    "FORMAT TabSeparatedWithNames\n",
    "\"\"\"\n",
    "old_df = lib.execute_query(req)"
   ]
  },
  {
   "cell_type": "code",
   "execution_count": 20,
   "metadata": {},
   "outputs": [],
   "source": [
    "new_table = main_df.copy()\n",
    "new_table = new_table[new_table['is_isv'] == 1]"
   ]
  },
  {
   "cell_type": "code",
   "execution_count": 21,
   "metadata": {},
   "outputs": [
    {
     "data": {
      "text/html": [
       "<div>\n",
       "<style scoped>\n",
       "    .dataframe tbody tr th:only-of-type {\n",
       "        vertical-align: middle;\n",
       "    }\n",
       "\n",
       "    .dataframe tbody tr th {\n",
       "        vertical-align: top;\n",
       "    }\n",
       "\n",
       "    .dataframe thead th {\n",
       "        text-align: right;\n",
       "    }\n",
       "</style>\n",
       "<table border=\"1\" class=\"dataframe\">\n",
       "  <thead>\n",
       "    <tr style=\"text-align: right;\">\n",
       "      <th></th>\n",
       "      <th>billing_account_id</th>\n",
       "      <th>email</th>\n",
       "      <th>puid</th>\n",
       "      <th>console_regstration_date</th>\n",
       "      <th>ba_created</th>\n",
       "      <th>first_first_paid_consumption_datetime</th>\n",
       "      <th>usage_status</th>\n",
       "      <th>is_isv</th>\n",
       "      <th>mail_feature</th>\n",
       "      <th>mail_info</th>\n",
       "      <th>mail_promo</th>\n",
       "      <th>language</th>\n",
       "      <th>group_index</th>\n",
       "      <th>days_since_console_registration</th>\n",
       "      <th>Group</th>\n",
       "      <th>isv_start_date</th>\n",
       "      <th>isv_end_date</th>\n",
       "      <th>isv_status</th>\n",
       "    </tr>\n",
       "  </thead>\n",
       "  <tbody>\n",
       "    <tr>\n",
       "      <td>16505</td>\n",
       "      <td>dn27bl08253ht286iejj</td>\n",
       "      <td>maxim@tetrika.school</td>\n",
       "      <td>1130000041641920</td>\n",
       "      <td>2019-12-09 13:51:32</td>\n",
       "      <td>2019-12-09 16:57:06</td>\n",
       "      <td>2020-01-05 22:59:59</td>\n",
       "      <td>paid</td>\n",
       "      <td>1</td>\n",
       "      <td>0</td>\n",
       "      <td>0</td>\n",
       "      <td>0</td>\n",
       "      <td>ru</td>\n",
       "      <td>20</td>\n",
       "      <td>242</td>\n",
       "      <td>test</td>\n",
       "      <td>2020-06-30</td>\n",
       "      <td>NaN</td>\n",
       "      <td>NaN</td>\n",
       "    </tr>\n",
       "  </tbody>\n",
       "</table>\n",
       "</div>"
      ],
      "text/plain": [
       "         billing_account_id                 email              puid  \\\n",
       "16505  dn27bl08253ht286iejj  maxim@tetrika.school  1130000041641920   \n",
       "\n",
       "      console_regstration_date           ba_created  \\\n",
       "16505      2019-12-09 13:51:32  2019-12-09 16:57:06   \n",
       "\n",
       "      first_first_paid_consumption_datetime usage_status  is_isv  \\\n",
       "16505                   2020-01-05 22:59:59         paid       1   \n",
       "\n",
       "       mail_feature  mail_info  mail_promo language  group_index  \\\n",
       "16505             0          0           0       ru           20   \n",
       "\n",
       "       days_since_console_registration Group isv_start_date isv_end_date  \\\n",
       "16505                              242  test     2020-06-30          NaN   \n",
       "\n",
       "      isv_status  \n",
       "16505        NaN  "
      ]
     },
     "execution_count": 21,
     "metadata": {},
     "output_type": "execute_result"
    }
   ],
   "source": [
    "new_table[new_table['billing_account_id'] == 'dn27bl08253ht286iejj']"
   ]
  },
  {
   "cell_type": "code",
   "execution_count": 22,
   "metadata": {},
   "outputs": [],
   "source": [
    "new_table = new_table[(new_table['mail_feature'] == 1) |\n",
    "                      (new_table['mail_info'] == 1) |\n",
    "                      (new_table['mail_promo'] == 1)]"
   ]
  },
  {
   "cell_type": "code",
   "execution_count": 23,
   "metadata": {},
   "outputs": [],
   "source": [
    "new_table['stream'] = new_table['usage_status'].apply(\n",
    "    lambda x: 'Paid' if x == 'paid' else \"Not Paid\")"
   ]
  },
  {
   "cell_type": "code",
   "execution_count": 24,
   "metadata": {},
   "outputs": [],
   "source": [
    "new_table = new_table[~new_table['email'].isin(dropped_emails)]"
   ]
  },
  {
   "cell_type": "code",
   "execution_count": 25,
   "metadata": {},
   "outputs": [],
   "source": [
    "new_table = new_table[\n",
    "    (~new_table['email'].isin(marketo_prev_df['email'])) &\n",
    "    (~new_table['billing_account_id'].isin(marketo_prev_df['billing_account_id']))\n",
    "]"
   ]
  },
  {
   "cell_type": "code",
   "execution_count": 26,
   "metadata": {},
   "outputs": [],
   "source": [
    "new_table = new_table[\n",
    "    pd.to_datetime(new_table['console_regstration_date']) >= parse('2020-03-24')]"
   ]
  },
  {
   "cell_type": "code",
   "execution_count": 27,
   "metadata": {},
   "outputs": [],
   "source": [
    "new_table = new_table[\n",
    "    (~new_table['email'].isin(old_df['email'])) &\n",
    "    (~new_table['billing_account_id'].isin(old_df['billing_account_id']))\n",
    "]"
   ]
  },
  {
   "cell_type": "code",
   "execution_count": 28,
   "metadata": {},
   "outputs": [],
   "source": [
    "new_table['experiment_date'] = lib.get_current_date_as_str()\n",
    "new_table['is_dropped'] = (new_table['email'].isin(dropped_emails)).astype(int)"
   ]
  },
  {
   "cell_type": "code",
   "execution_count": 29,
   "metadata": {},
   "outputs": [
    {
     "data": {
      "text/plain": [
       "(0, 21)"
      ]
     },
     "execution_count": 29,
     "metadata": {},
     "output_type": "execute_result"
    }
   ],
   "source": [
    "new_table.shape"
   ]
  },
  {
   "cell_type": "code",
   "execution_count": 30,
   "metadata": {},
   "outputs": [],
   "source": [
    "lib.save_table(\"ISV-Cloud-Boost\", \"//home/cloud_analytics/emailing/sender\", \n",
    "               new_table, append=True)"
   ]
  },
  {
   "cell_type": "code",
   "execution_count": 31,
   "metadata": {},
   "outputs": [],
   "source": [
    "def copy_after(table_name):\n",
    "    if yt.row_count(\"//home/cloud_analytics/emailing/sender/\" + table_name) != 0:\n",
    "        yt.copy(\"//home/cloud_analytics/emailing/sender/\" + table_name,\n",
    "                \"//home/cloud_analytics/emailing/sender_copy/\" + table_name, force=True)\n",
    "copy_after(\"ISV-Cloud-Boost\")\n",
    "copy_after(\"ISV-Cloud-Boost-OLD\")"
   ]
  },
  {
   "cell_type": "code",
   "execution_count": 3,
   "metadata": {},
   "outputs": [],
   "source": [
    "# marketo_previous_req = \"\"\"\n",
    "# SELECT\n",
    "#     DISTINCT\n",
    "#     billing_account_id,\n",
    "#     any(email) as email,\n",
    "#     groupUniqArray(mailing_name) as sended_mails\n",
    "# FROM \"//home/cloud_analytics/cubes/emailing_events/emailing_events\"\n",
    "# WHERE lower(mailing_name) like '%cloud-boost-program%'\n",
    "# GROUP BY billing_account_id\n",
    "# FORMAT TabSeparatedWithNames\n",
    "# \"\"\"\n",
    "# marketo_prev_df = lib.execute_query(marketo_previous_req)\n",
    "# marketo_prev_df['sended_mails'] = marketo_prev_df['sended_mails'].astype(str)\n",
    "# lib.save_table(\"ISV-Cloud-Boost-OLD\", \"//home/cloud_analytics/emailing/sender\", \n",
    "#                marketo_prev_df)"
   ]
  }
 ],
 "metadata": {
  "kernelspec": {
   "display_name": "Python 3",
   "language": "python",
   "name": "python3"
  },
  "language_info": {
   "codemirror_mode": {
    "name": "ipython",
    "version": 3
   },
   "file_extension": ".py",
   "mimetype": "text/x-python",
   "name": "python",
   "nbconvert_exporter": "python",
   "pygments_lexer": "ipython3",
   "version": "3.7.4"
  }
 },
 "nbformat": 4,
 "nbformat_minor": 2
}
