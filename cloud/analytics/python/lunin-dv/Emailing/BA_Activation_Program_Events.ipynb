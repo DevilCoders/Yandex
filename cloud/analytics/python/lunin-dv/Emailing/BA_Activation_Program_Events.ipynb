{
 "cells": [
  {
   "cell_type": "code",
   "execution_count": 1,
   "metadata": {},
   "outputs": [],
   "source": [
    "import scipy.stats as sps\n",
    "from sklearn.model_selection import train_test_split\n",
    "import gc\n",
    "from dateutil.parser import *\n",
    "import pandas as pd\n",
    "import numpy as np\n",
    "import os\n",
    "import yt.wrapper as yt \n",
    "os.chdir('/Users/lunin-dv/Desktop/Library/')\n",
    "import importlib\n",
    "import my_library as lib\n",
    "import operator\n",
    "import re\n",
    "importlib.reload(lib)\n",
    "os.chdir('/Users/lunin-dv/Desktop/data/')"
   ]
  },
  {
   "cell_type": "code",
   "execution_count": 2,
   "metadata": {},
   "outputs": [],
   "source": [
    "def copy_before(table_name):\n",
    "    if yt.row_count(\"//home/cloud_analytics/emailing/sender/\" + table_name) == 0:\n",
    "        yt.copy(\"//home/cloud_analytics/emailing/sender_copy/\" + table_name,\n",
    "                \"//home/cloud_analytics/emailing/sender/\" + table_name,\n",
    "                force=True)\n",
    "        print('saved')\n",
    "copy_before(\"BA-Activation-Program-Events\")\n",
    "copy_before(\"BA-Activation-Program-Events-OLD\")"
   ]
  },
  {
   "cell_type": "markdown",
   "metadata": {},
   "source": [
    "## Unsubscribed"
   ]
  },
  {
   "cell_type": "code",
   "execution_count": 19,
   "metadata": {},
   "outputs": [],
   "source": [
    "req = \"\"\"\n",
    "SELECT\n",
    "    DISTINCT email\n",
    "FROM \"//home/cloud_analytics/export/marketo/ya_fill_out_form\"\n",
    "WHERE webform_id == '10014482'\n",
    "FORMAT TabSeparatedWithNames\n",
    "\"\"\"\n",
    "unsubscribed_emails = lib.execute_query(req)\n",
    "unsubscribed_emails = set(unsubscribed_emails['email'])"
   ]
  },
  {
   "cell_type": "markdown",
   "metadata": {},
   "source": [
    "## OLD "
   ]
  },
  {
   "cell_type": "code",
   "execution_count": 20,
   "metadata": {},
   "outputs": [],
   "source": [
    "req = \"\"\"\n",
    "SELECT\n",
    "DISTINCT\n",
    "    email\n",
    "FROM \"//home/cloud_analytics/cubes/emailing_events/emailing_events\"\n",
    "WHERE event == 'add_to_nurture_stream'\n",
    "AND lower(program_name) like '%ba-activation-program%'\n",
    "FORMAT TabSeparatedWithNames\n",
    "\"\"\"\n",
    "\n",
    "old_programm_df = lib.execute_query(req)"
   ]
  },
  {
   "cell_type": "code",
   "execution_count": 21,
   "metadata": {},
   "outputs": [],
   "source": [
    "req = \"\"\"\n",
    "SELECT\n",
    "    DISTINCT\n",
    "        multiIf(\n",
    "            email LIKE '%@yandex.%' OR email LIKE '%@ya.%',\n",
    "            CONCAT(lower(replaceAll(splitByString('@',assumeNotNull(email))[1], '.', '-')), '@yandex.ru'),\n",
    "            lower(email)\n",
    "        ) as email,\n",
    "        modulo(sipHash64(email), 100) as group_key,\n",
    "        if (group_key < 35 or group_key > 44, 'test', 'control') as Group,\n",
    "        event_name,\n",
    "        Max(event_link) as event_link,\n",
    "        MAx(billing_account_id) as billing_account_id,\n",
    "        MAX(console_registration_date) as console_registration_date,\n",
    "        MAX(ba_created_at) as ba_created_at,\n",
    "        MAX(mail_marketing) as mail_marketing,\n",
    "        MAX(mail_feature) as mail_feature,\n",
    "        MAX(mail_info) as mail_info,\n",
    "        MAX(mail_promo) as mail_promo,\n",
    "        MAX(mail_event) as mail_event\n",
    "FROM \"//home/cloud_analytics/export/marketo/ya_attend_event\" as a\n",
    "ANY LEFT JOIN (\n",
    "    SELECT\n",
    "        dwh_id,\n",
    "        argMax(billing_account_id, dwh_updated_at) as billing_account_id,\n",
    "        argMax(console_registration_date, dwh_updated_at) as console_registration_date,\n",
    "        argMax(ba_created_at, dwh_updated_at) as ba_created_at,\n",
    "        argMax(mail_marketing, dwh_updated_at) as mail_marketing,\n",
    "        argMax(mail_feature, dwh_updated_at) as mail_feature,\n",
    "        argMax(mail_info, dwh_updated_at) as mail_info,\n",
    "        argMax(mail_promo, dwh_updated_at) as mail_promo,\n",
    "        argMax(mail_event, dwh_updated_at) as mail_event\n",
    "    FROM \"//home/cloud_analytics/export/marketo/lead\"\n",
    "    GROUP BY dwh_id\n",
    ") as b\n",
    "ON a.lead_dwh_id == b.dwh_id\n",
    "WHERE isNotNull(email)\n",
    "AND email != ''\n",
    "GROUP BY email, group_key, Group, event_name\n",
    "FORMAT TabSeparatedWithNames\n",
    "\"\"\"\n",
    "new_df = lib.execute_query(req)"
   ]
  },
  {
   "cell_type": "code",
   "execution_count": 22,
   "metadata": {},
   "outputs": [],
   "source": [
    "new_df['was_in_marketo_ba_activation_programm'] = new_df['email'].isin(old_programm_df['email']).astype(int)"
   ]
  },
  {
   "cell_type": "code",
   "execution_count": 23,
   "metadata": {},
   "outputs": [],
   "source": [
    "new_df['is_unsubscribed'] = new_df['email'].isin(unsubscribed_emails).astype(int)"
   ]
  },
  {
   "cell_type": "code",
   "execution_count": 25,
   "metadata": {},
   "outputs": [],
   "source": [
    "def update_current_table(table_name, path, tables_to_update):\n",
    "    full_path = path + \"/\" + table_name\n",
    "    full_path_old = path + \"/\" + table_name + '-OLD'\n",
    "    req = f\"\"\"\n",
    "    SELECT\n",
    "        *\n",
    "    FROM \"{full_path}\"\n",
    "    FORMAT TabSeparatedWithNames\n",
    "    \"\"\"\n",
    "    old_df = lib.execute_query(req)\n",
    "    if 'sended_mails' in old_df.columns:\n",
    "        old_df['sended_mails'] = old_df['sended_mails'].apply(\n",
    "            lambda x: x.replace(\"\\\\\", \"\"))\n",
    "    for table, key in tables_to_update:\n",
    "        old_df = pd.merge(old_df,\n",
    "                          table, on=key, suffixes=('', '_new'), how='left')\n",
    "        \n",
    "    new_cols = []\n",
    "    for column in old_df.columns:\n",
    "        if \"_new\" == column[-4:]:\n",
    "            new_cols.append(column)\n",
    "            old_column = column[:-4]\n",
    "            old_df[old_column] = old_df[[old_column, column]].apply(\n",
    "            lambda x: x[column] if not pd.isnull(x[column]) else x[old_column], axis=1\n",
    "            )\n",
    "            \n",
    "    test_emails_before = lib.execute_query(f\"\"\"\n",
    "    SELECT\n",
    "        email\n",
    "    FROM \"{full_path_old}\"\n",
    "    FORMAT TabSeparatedWithNames\n",
    "    \"\"\")\n",
    "    test_emails_before = set(test_emails_before['email'])\n",
    "    old_df_test_emails = set(old_df[old_df['Group'].str.lower() == 'test']['email'])\n",
    "    old_df_test_emails.update(test_emails_before)\n",
    "    old_df['Group'] = old_df['email'].apply(lambda x: 'test' if x in old_df_test_emails else 'control')\n",
    "    old_df['group_key'] = old_df['email'].apply(lambda x: 1 if x in old_df_test_emails else 40)\n",
    "    old_df.drop(columns=new_cols, inplace=True)\n",
    "    lib.save_table(table_name, path, old_df)\n",
    "    #return old_df, old_df_test_emails"
   ]
  },
  {
   "cell_type": "code",
   "execution_count": 28,
   "metadata": {},
   "outputs": [],
   "source": [
    "tables_to_update = [(new_df, [\"email\", \"event_name\"])]"
   ]
  },
  {
   "cell_type": "code",
   "execution_count": 29,
   "metadata": {},
   "outputs": [],
   "source": [
    "update_current_table(\"BA-Activation-Program-Events\", \"//home/cloud_analytics/emailing/sender\", \n",
    "                     tables_to_update)"
   ]
  },
  {
   "cell_type": "code",
   "execution_count": 11,
   "metadata": {},
   "outputs": [],
   "source": [
    "old_df = lib.execute_query(\"\"\"\n",
    "SELECT\n",
    "    *\n",
    "FROM \"//home/cloud_analytics/emailing/sender/BA-Activation-Program-Events\"\n",
    "FORMAT TabSeparatedWithNames\n",
    "\"\"\")"
   ]
  },
  {
   "cell_type": "code",
   "execution_count": 12,
   "metadata": {},
   "outputs": [],
   "source": [
    "new_df = new_df[~new_df[['email', 'event_name']]\\\n",
    "                .apply(lambda x: x['email'] + \"__\" + x['event_name'], axis=1).isin(\n",
    "                old_df[['email', 'event_name']].apply(lambda x: x['email'] + \"__\" + x['event_name'], axis=1))\n",
    "               ]"
   ]
  },
  {
   "cell_type": "code",
   "execution_count": 13,
   "metadata": {},
   "outputs": [],
   "source": [
    "new_df['experiment_date'] = lib.get_current_date_as_str()"
   ]
  },
  {
   "cell_type": "code",
   "execution_count": 14,
   "metadata": {},
   "outputs": [],
   "source": [
    "assert set(new_df.columns) == set(old_df.columns)"
   ]
  },
  {
   "cell_type": "code",
   "execution_count": 18,
   "metadata": {},
   "outputs": [],
   "source": [
    "lib.save_table(\"BA-Activation-Program-Events\", \n",
    "               \"//home/cloud_analytics/emailing/sender\",\n",
    "               new_df, append=True)"
   ]
  },
  {
   "cell_type": "code",
   "execution_count": 19,
   "metadata": {},
   "outputs": [],
   "source": [
    "def copy_after(table_name):\n",
    "    if yt.row_count(\"//home/cloud_analytics/emailing/sender/\" + table_name) != 0:\n",
    "        yt.copy(\"//home/cloud_analytics/emailing/sender/\" + table_name,\n",
    "                \"//home/cloud_analytics/emailing/sender_copy/\" + table_name, force=True)\n",
    "copy_after(\"BA-Activation-Program-Events\")\n",
    "copy_after(\"BA-Activation-Program-Events-OLD\")"
   ]
  },
  {
   "cell_type": "code",
   "execution_count": 19,
   "metadata": {},
   "outputs": [],
   "source": [
    "# marketo_previous_req = \"\"\"\n",
    "# SELECT\n",
    "#     DISTINCT\n",
    "#     multiIf(\n",
    "#             email LIKE '%@yandex.%' OR email LIKE '%@ya.%',\n",
    "#             CONCAT(lower(replaceAll(splitByString('@',assumeNotNull(email))[1], '.', '-')), '@yandex.ru'),\n",
    "#             lower(email)\n",
    "#         ) as email,\n",
    "#     groupUniqArray(mailing_name) as sended_mails,\n",
    "#     'Test' as Group,\n",
    "#     any(billing_account_id) as billing_account_id,\n",
    "#     any(console_registration_date) as console_registration_date,\n",
    "#     any(ba_created_at) as ba_created_at,\n",
    "#     any(mail_marketing) as mail_marketing,\n",
    "#     any(mail_feature) as mail_feature,\n",
    "#     any(mail_info) as mail_info,\n",
    "#     any(mail_promo) as mail_promo,\n",
    "#     any(mail_event) as mail_event\n",
    "# FROM \"//home/cloud_analytics/cubes/emailing_events/emailing_events\" as a\n",
    "# ANY LEFT JOIN (\n",
    "#     SELECT\n",
    "#         multiIf(\n",
    "#             email LIKE '%@yandex.%' OR email LIKE '%@ya.%',\n",
    "#             CONCAT(lower(replaceAll(splitByString('@',assumeNotNull(email))[1], '.', '-')), '@yandex.ru'),\n",
    "#             lower(email)\n",
    "#         ) as email,\n",
    "#         Max(billing_account_id) as billing_account_id,\n",
    "#         Max(console_registration_date) as console_registration_date,\n",
    "#         Max(ba_created_at) as ba_created_at,\n",
    "#         Max(mail_marketing) as mail_marketing,\n",
    "#         Max(mail_feature) as mail_feature,\n",
    "#         Max(mail_info) as mail_info,\n",
    "#         Max(mail_promo) as mail_promo,\n",
    "#         Max(mail_event) as mail_event\n",
    "#     FROM \"//home/cloud_analytics/export/marketo/lead\"\n",
    "#     GROUP BY email\n",
    "# ) as b\n",
    "# ON a.email == b.email\n",
    "# WHERE lower(mailing_name) like '%ba-activation-program-events%'\n",
    "# GROUP BY email\n",
    "# FORMAT TabSeparatedWithNames\n",
    "# \"\"\"\n",
    "# marketo_prev_df = lib.execute_query(marketo_previous_req)\n",
    "# marketo_prev_df['is_unsubscribed'] = marketo_prev_df['email'].isin(unsubscribed_emails).astype(int)\n",
    "# marketo_prev_df['sended_mails'] = marketo_prev_df['sended_mails'].astype(str)\n",
    "# lib.save_table(\"BA-Activation-Program-Events-OLD\", \"//home/cloud_analytics/emailing/sender\", \n",
    "#                marketo_prev_df)"
   ]
  },
  {
   "cell_type": "code",
   "execution_count": null,
   "metadata": {},
   "outputs": [],
   "source": []
  },
  {
   "cell_type": "code",
   "execution_count": null,
   "metadata": {},
   "outputs": [],
   "source": []
  }
 ],
 "metadata": {
  "kernelspec": {
   "display_name": "Python 3",
   "language": "python",
   "name": "python3"
  },
  "language_info": {
   "codemirror_mode": {
    "name": "ipython",
    "version": 3
   },
   "file_extension": ".py",
   "mimetype": "text/x-python",
   "name": "python",
   "nbconvert_exporter": "python",
   "pygments_lexer": "ipython3",
   "version": "3.7.4"
  }
 },
 "nbformat": 4,
 "nbformat_minor": 2
}
