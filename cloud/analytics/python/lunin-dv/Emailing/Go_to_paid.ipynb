{
 "cells": [
  {
   "cell_type": "code",
   "execution_count": 13,
   "metadata": {},
   "outputs": [],
   "source": [
    "import scipy.stats as sps\n",
    "from sklearn.model_selection import train_test_split\n",
    "import gc\n",
    "from dateutil.parser import *\n",
    "import pandas as pd\n",
    "import numpy as np\n",
    "import os\n",
    "import yt.wrapper as yt \n",
    "os.chdir('/Users/lunin-dv/Desktop/Library/')\n",
    "import importlib\n",
    "import robot_lib as lib\n",
    "import operator\n",
    "import re\n",
    "importlib.reload(lib)\n",
    "os.chdir('/Users/lunin-dv/Desktop/data/')"
   ]
  },
  {
   "cell_type": "code",
   "execution_count": 14,
   "metadata": {},
   "outputs": [],
   "source": [
    "def copy_before(table_name):\n",
    "    if yt.row_count(\"//home/cloud_analytics/emailing/sender/\" + table_name) == 0:\n",
    "        yt.copy(\"//home/cloud_analytics/emailing/sender_copy/\" + table_name,\n",
    "                \"//home/cloud_analytics/emailing/sender/\" + table_name,\n",
    "                force=True)\n",
    "        print('saved')\n",
    "copy_before(\"Go-to-paid-stream-OLD\")\n",
    "copy_before(\"Go-to-paid-stream\")"
   ]
  },
  {
   "cell_type": "markdown",
   "metadata": {},
   "source": [
    "# 0. Общая информация"
   ]
  },
  {
   "cell_type": "markdown",
   "metadata": {},
   "source": [
    "## Гранты"
   ]
  },
  {
   "cell_type": "code",
   "execution_count": 15,
   "metadata": {},
   "outputs": [],
   "source": [
    "grant_req = \"\"\"\n",
    "SELECT\n",
    "    billing_account_id,\n",
    "    SUM(if(consumed_amount < 0, 0, consumed_amount)) as consumed_amount,\n",
    "    SUM(initial_amount) as grant_amount,\n",
    "    MAX(toDate(end_time)) as grant_end_date,\n",
    "    IF (\n",
    "            (grant_amount - consumed_amount <= 0 \n",
    "             AND\n",
    "             toDate(grant_end_date) >= toDate(NOW())) \n",
    "        OR\n",
    "         \n",
    "            (toDate(grant_end_date) >= addDays(toDate(NOW()), -7)\n",
    "             AND \n",
    "             toDate(grant_end_date) < toDate(NOW())), 1, 0) \n",
    "        as grant_ended_last_7_days,\n",
    "    grant_amount - consumed_amount as remained_grant_amount\n",
    "FROM \"//home/cloud_analytics/tmp/artkaz/grants_spending\"\n",
    "WHERE id in (SELECT DISTINCT id \n",
    "             FROM \"//home/cloud/billing/exported-billing-tables/monetary_grants_prod\"\n",
    "             WHERE id != ''\n",
    "             AND source == 'default')\n",
    "GROUP BY billing_account_id\n",
    "FORMAT TabSeparatedWithNames\n",
    "\"\"\"\n",
    "grant_df = lib.execute_query(grant_req)"
   ]
  },
  {
   "cell_type": "markdown",
   "metadata": {},
   "source": [
    "## Язык"
   ]
  },
  {
   "cell_type": "code",
   "execution_count": 16,
   "metadata": {},
   "outputs": [],
   "source": [
    "req = f\"\"\"\n",
    "    SELECT\n",
    "        DISTINCT\n",
    "        max(user_settings_language) as user_settings_language,\n",
    "        CAST(passport_uid as String) as puid\n",
    "    FROM \"//home/cloud_analytics/import/iam/cloud_owners_history\"\n",
    "    GROUP BY puid\n",
    "    FORMAT TabSeparatedWithNames\n",
    "\"\"\"\n",
    "language_df = lib.execute_query(req)"
   ]
  },
  {
   "cell_type": "markdown",
   "metadata": {},
   "source": [
    "## cube"
   ]
  },
  {
   "cell_type": "code",
   "execution_count": 17,
   "metadata": {},
   "outputs": [],
   "source": [
    "req = \"\"\"\n",
    "SELECT \n",
    "    billing_account_id,\n",
    "    lower(user_settings_email) as email,\n",
    "    ba_state,\n",
    "    puid,\n",
    "    ba_usage_status as usage_status,\n",
    "    block_reason,\n",
    "    mail_feature,\n",
    "    mail_info,\n",
    "    mail_promo,\n",
    "    is_isv,\n",
    "    if (first_first_paid_consumption_datetime == '0000-00-00 00:00:00', '',\n",
    "        first_first_paid_consumption_datetime) as first_first_paid_consumption_datetime,\n",
    "    modulo(toInt64(puid), 100) as group_index\n",
    "FROM \"//home/cloud_analytics/cubes/acquisition_cube/cube\"\n",
    "WHERE event == 'ba_created'\n",
    "AND billing_account_id != ''\n",
    "AND puid != ''\n",
    "FORMAT TabSeparatedWithNames\n",
    "\"\"\"\n",
    "main_df = lib.execute_query(req)"
   ]
  },
  {
   "cell_type": "code",
   "execution_count": 21,
   "metadata": {},
   "outputs": [
    {
     "data": {
      "text/plain": [
       "billing_account_id                       object\n",
       "email                                    object\n",
       "ba_state                                 object\n",
       "puid                                     object\n",
       "usage_status                             object\n",
       "block_reason                             object\n",
       "mail_feature                              int64\n",
       "mail_info                                 int64\n",
       "mail_promo                                int64\n",
       "is_isv                                    int64\n",
       "first_first_paid_consumption_datetime    object\n",
       "group_index                               int64\n",
       "dtype: object"
      ]
     },
     "execution_count": 21,
     "metadata": {},
     "output_type": "execute_result"
    }
   ],
   "source": [
    "main_df.dtypes"
   ]
  },
  {
   "cell_type": "markdown",
   "metadata": {},
   "source": [
    "## Drop_list"
   ]
  },
  {
   "cell_type": "code",
   "execution_count": 18,
   "metadata": {},
   "outputs": [],
   "source": [
    "drop_req = \"\"\"\n",
    "SELECT\n",
    "    *\n",
    "FROM \"//home/cloud_analytics/emailing/sender/drop_list\"\n",
    "FORMAT TabSeparatedWithNames\n",
    "\"\"\"\n",
    "dropped_emails = lib.execute_query(drop_req)\n",
    "dropped_emails = set(dropped_emails['email'])"
   ]
  },
  {
   "cell_type": "markdown",
   "metadata": {},
   "source": [
    "# 1. Обновление"
   ]
  },
  {
   "cell_type": "code",
   "execution_count": 19,
   "metadata": {},
   "outputs": [],
   "source": [
    "def update_current_table(table_name, path, tables_to_update):\n",
    "    full_path = path + \"/\" + table_name\n",
    "    req = f\"\"\"\n",
    "    SELECT\n",
    "        *\n",
    "    FROM \"{full_path}\"\n",
    "    FORMAT TabSeparatedWithNames\n",
    "    \"\"\"\n",
    "    old_df = lib.execute_query(req)\n",
    "    if 'sended_mails' in old_df.columns:\n",
    "        old_df['sended_mails'] = old_df['sended_mails'].apply(\n",
    "            lambda x: x.replace(\"\\\\\", \"\"))\n",
    "    old_df['is_dropped'] = (old_df['email'].isin(dropped_emails)).astype(int)\n",
    "    if \"OLD\" in table_name:\n",
    "        old_df = old_df[old_df['is_dropped'] == 0]\n",
    "    for table, key in tables_to_update:\n",
    "        old_df = pd.merge(old_df,\n",
    "                          table, on=key, suffixes=('', '_new'), how='left')\n",
    "        \n",
    "    new_cols = []\n",
    "    for column in old_df.columns:\n",
    "        if \"_new\" == column[-4:]:\n",
    "            new_cols.append(column)\n",
    "            old_column = column[:-4]\n",
    "            old_df[old_column] = old_df[[old_column, column]].apply(\n",
    "            lambda x: x[column] if not pd.isnull(x[column]) else x[old_column], axis=1\n",
    "            )\n",
    "    old_df.drop(columns=new_cols, inplace=True)\n",
    "    if len(old_df) > 0:\n",
    "        lib.save_table(table_name, path, old_df)"
   ]
  },
  {
   "cell_type": "code",
   "execution_count": 20,
   "metadata": {},
   "outputs": [],
   "source": [
    "tables_to_update = [(main_df, \"billing_account_id\"), (language_df, 'puid'),\n",
    "                    (grant_df, \"billing_account_id\")]"
   ]
  },
  {
   "cell_type": "code",
   "execution_count": 22,
   "metadata": {},
   "outputs": [],
   "source": [
    "update_current_table(\"Go-to-paid-stream\", \"//home/cloud_analytics/emailing/sender\", \n",
    "                     tables_to_update)"
   ]
  },
  {
   "cell_type": "code",
   "execution_count": 23,
   "metadata": {
    "scrolled": true
   },
   "outputs": [],
   "source": [
    "update_current_table(\"Go-to-paid-stream-OLD\", \"//home/cloud_analytics/emailing/sender\", \n",
    "                     tables_to_update)"
   ]
  },
  {
   "cell_type": "markdown",
   "metadata": {},
   "source": [
    "# 2. Добавление"
   ]
  },
  {
   "cell_type": "markdown",
   "metadata": {},
   "source": [
    "## old Marketo"
   ]
  },
  {
   "cell_type": "code",
   "execution_count": 24,
   "metadata": {},
   "outputs": [],
   "source": [
    "marketo_previous_req = \"\"\"\n",
    "SELECT\n",
    "    DISTINCT\n",
    "    billing_account_id,\n",
    "    email\n",
    "FROM \"//home/cloud_analytics/cubes/emailing_events/emailing_events\"\n",
    "WHERE event == 'add_to_nurture_stream'\n",
    "AND lower(program_name) like '%go-to-paid%'\n",
    "AND lower(program_name) not like '%go-to-paid-trial-usage%'\n",
    "FORMAT TabSeparatedWithNames\n",
    "\"\"\"\n",
    "marketo_prev_df = lib.execute_query(marketo_previous_req)"
   ]
  },
  {
   "cell_type": "code",
   "execution_count": 25,
   "metadata": {},
   "outputs": [
    {
     "data": {
      "text/plain": [
       "(82088, 2)"
      ]
     },
     "execution_count": 25,
     "metadata": {},
     "output_type": "execute_result"
    }
   ],
   "source": [
    "marketo_prev_df.shape"
   ]
  },
  {
   "cell_type": "markdown",
   "metadata": {},
   "source": [
    "## old in program"
   ]
  },
  {
   "cell_type": "code",
   "execution_count": 26,
   "metadata": {},
   "outputs": [],
   "source": [
    "req = \"\"\"\n",
    "SELECT\n",
    "    DISTINCT\n",
    "        email,\n",
    "        billing_account_id\n",
    "FROM \"//home/cloud_analytics/emailing/sender/Go-to-paid-stream\"\n",
    "FORMAT TabSeparatedWithNames\n",
    "\"\"\"\n",
    "old_df = lib.execute_query(req)"
   ]
  },
  {
   "cell_type": "markdown",
   "metadata": {},
   "source": [
    "## Подготовка новой порции"
   ]
  },
  {
   "cell_type": "code",
   "execution_count": 27,
   "metadata": {},
   "outputs": [],
   "source": [
    "from datetime import timedelta"
   ]
  },
  {
   "cell_type": "code",
   "execution_count": 28,
   "metadata": {},
   "outputs": [],
   "source": [
    "min_date_of_grant_ended = parse(lib.get_current_date_as_str()) - timedelta(days=30)"
   ]
  },
  {
   "cell_type": "code",
   "execution_count": 29,
   "metadata": {},
   "outputs": [],
   "source": [
    "new_table = main_df.copy()\n",
    "new_table = pd.merge(new_table, language_df, on='puid', how='inner')\n",
    "new_table = new_table[\n",
    "    (~new_table['email'].isin(marketo_prev_df['email'])) &\n",
    "    (~new_table['billing_account_id'].isin(marketo_prev_df['billing_account_id']))\n",
    "]\n",
    "new_table = new_table[~new_table['email'].isin(dropped_emails)]\n",
    "new_table = new_table[\n",
    "    (~new_table['email'].isin(old_df['email'])) &\n",
    "    (~new_table['billing_account_id'].isin(old_df['billing_account_id']))\n",
    "]\n",
    "\n",
    "\n",
    "new_table = pd.merge(new_table, grant_df, on='billing_account_id', how='inner')\n",
    "new_table = new_table[(new_table['is_isv'] == 0) &\n",
    "                      (new_table['first_first_paid_consumption_datetime'] == '')]\n",
    "new_table = new_table[((new_table['ba_state'] == 'suspended') & \n",
    "                        (new_table['grant_ended_last_7_days'] == 1)) |\n",
    "            ((new_table['block_reason'] == 'trial_expired') &\n",
    "             (new_table['ba_state'].isin(['suspended', \n",
    "                                         'inactive',\n",
    "                                         'payment_required'])))]\n",
    "new_table = new_table[(new_table['mail_feature'] == 1) |\n",
    "                      (new_table['mail_info'] == 1) |\n",
    "                      (new_table['mail_promo'] == 1)]\n",
    "new_table = new_table[pd.to_datetime(new_table['grant_end_date']) >=\n",
    "                      min_date_of_grant_ended]"
   ]
  },
  {
   "cell_type": "code",
   "execution_count": 32,
   "metadata": {},
   "outputs": [],
   "source": [
    "def make_trigger(row):\n",
    "    try:\n",
    "        if row['ba_state'] == 'suspended' and row['grant_ended_last_7_days'] == 1:\n",
    "            return 'Suspended'\n",
    "        return 'Trial_Expired'\n",
    "    except Exception:\n",
    "        print(row)"
   ]
  },
  {
   "cell_type": "code",
   "execution_count": 34,
   "metadata": {},
   "outputs": [],
   "source": [
    "if len(new_table) > 0:\n",
    "    new_table['trigger'] = new_table.apply(lambda row: make_trigger(row), axis=1)\n",
    "    new_table[\"stream\"] = new_table['usage_status'].apply(\n",
    "        lambda x: 'BA paid - General' if x == 'paid' else 'Go-to-paid-general')\n",
    "    new_table['Group'] = new_table['puid'].astype(int).apply(\n",
    "        lambda x: 'control' if x % 100 >= 35 and x % 100 <= 44 else 'test')\n",
    "    new_table['experiment_date'] = lib.get_current_date_as_str()\n",
    "    new_table['is_dropped'] = (new_table['email'].isin(dropped_emails)).astype(int)\n",
    "    lib.save_table(\"Go-to-paid-stream\", \"//home/cloud_analytics/emailing/sender\", \n",
    "               new_table, append=True)"
   ]
  },
  {
   "cell_type": "code",
   "execution_count": 35,
   "metadata": {},
   "outputs": [],
   "source": [
    "def copy_after(table_name):\n",
    "    if yt.row_count(\"//home/cloud_analytics/emailing/sender/\" + table_name) != 0:\n",
    "        yt.copy(\"//home/cloud_analytics/emailing/sender/\" + table_name,\n",
    "                \"//home/cloud_analytics/emailing/sender_copy/\" + table_name, force=True)\n",
    "copy_after(\"Go-to-paid-stream\")\n",
    "copy_after(\"Go-to-paid-stream-OLD\")"
   ]
  },
  {
   "cell_type": "markdown",
   "metadata": {},
   "source": [
    "---"
   ]
  },
  {
   "cell_type": "code",
   "execution_count": 31,
   "metadata": {},
   "outputs": [],
   "source": [
    "# marketo_previous_req = \"\"\"\n",
    "# SELECT\n",
    "#     DISTINCT\n",
    "#     billing_account_id,\n",
    "#     any(email) as email,\n",
    "#     groupUniqArray(mailing_name) as sended_mails,\n",
    "#     'test' as Group\n",
    "# FROM \"//home/cloud_analytics/cubes/emailing_events/emailing_events\"\n",
    "# WHERE lower(mailing_name) like '%q1-2020-go-to-paid-trial-expired%'\n",
    "# AND billing_account_id != ''\n",
    "# GROUP BY billing_account_id\n",
    "# FORMAT TabSeparatedWithNames\n",
    "# \"\"\"\n",
    "# marketo_prev_df = lib.execute_query(marketo_previous_req)\n",
    "# marketo_prev_df['sended_mails'] = marketo_prev_df['sended_mails'].astype(str)\n",
    "# lib.save_table(\"Go-to-paid-stream-OLD\", \"//home/cloud_analytics/emailing/sender\", \n",
    "#                marketo_prev_df)"
   ]
  }
 ],
 "metadata": {
  "kernelspec": {
   "display_name": "Python 3",
   "language": "python",
   "name": "python3"
  },
  "language_info": {
   "codemirror_mode": {
    "name": "ipython",
    "version": 3
   },
   "file_extension": ".py",
   "mimetype": "text/x-python",
   "name": "python",
   "nbconvert_exporter": "python",
   "pygments_lexer": "ipython3",
   "version": "3.7.4"
  }
 },
 "nbformat": 4,
 "nbformat_minor": 2
}
