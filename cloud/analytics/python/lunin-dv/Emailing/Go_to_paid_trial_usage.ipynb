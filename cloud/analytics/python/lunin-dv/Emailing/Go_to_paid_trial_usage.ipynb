{
 "cells": [
  {
   "cell_type": "code",
   "execution_count": 5,
   "metadata": {},
   "outputs": [],
   "source": [
    "import scipy.stats as sps\n",
    "from sklearn.model_selection import train_test_split\n",
    "import gc\n",
    "from dateutil.parser import *\n",
    "import pandas as pd\n",
    "import numpy as np\n",
    "import os\n",
    "import yt.wrapper as yt \n",
    "os.chdir('/Users/lunin-dv/Desktop/Library/')\n",
    "import importlib\n",
    "import my_library as lib\n",
    "import operator\n",
    "import re\n",
    "importlib.reload(lib)\n",
    "os.chdir('/Users/lunin-dv/Desktop/data/')"
   ]
  },
  {
   "cell_type": "code",
   "execution_count": 6,
   "metadata": {},
   "outputs": [],
   "source": [
    "def copy_before(table_name):\n",
    "    if yt.row_count(\"//home/cloud_analytics/emailing/sender/\" + table_name) == 0:\n",
    "        yt.copy(\"//home/cloud_analytics/emailing/sender_copy/\" + table_name,\n",
    "                \"//home/cloud_analytics/emailing/sender/\" + table_name,\n",
    "                force=True)\n",
    "        print('saved')\n",
    "copy_before(\"Go-to-paid-trial-usage-OLD\")\n",
    "copy_before(\"Go-to-paid-trial-usage\")"
   ]
  },
  {
   "cell_type": "markdown",
   "metadata": {},
   "source": [
    "# 0. Общая информация"
   ]
  },
  {
   "cell_type": "markdown",
   "metadata": {},
   "source": [
    "## Drop_list"
   ]
  },
  {
   "cell_type": "code",
   "execution_count": 7,
   "metadata": {},
   "outputs": [],
   "source": [
    "drop_req = \"\"\"\n",
    "SELECT\n",
    "    *\n",
    "FROM \"//home/cloud_analytics/emailing/sender/drop_list\"\n",
    "FORMAT TabSeparatedWithNames\n",
    "\"\"\"\n",
    "dropped_emails = lib.execute_query(drop_req)\n",
    "dropped_emails = set(dropped_emails['email'])"
   ]
  },
  {
   "cell_type": "markdown",
   "metadata": {},
   "source": [
    "## Cube"
   ]
  },
  {
   "cell_type": "code",
   "execution_count": 8,
   "metadata": {},
   "outputs": [],
   "source": [
    "req = \"\"\"\n",
    "SELECT\n",
    "    DISTINCT\n",
    "    billing_account_id,\n",
    "    lower(user_settings_email) as email,\n",
    "    puid,\n",
    "    event_time as console_regstration_date,\n",
    "    multiIf(first_ba_created_datetime = '0000-00-00 00:00:00', '',\n",
    "            first_ba_created_datetime) as ba_created,\n",
    "    \n",
    "    if (first_first_paid_consumption_datetime == '0000-00-00 00:00:00', '',\n",
    "        first_first_paid_consumption_datetime) as first_first_paid_consumption_datetime,\n",
    "    ba_usage_status as usage_status,\n",
    "    ba_state,\n",
    "    is_isv,\n",
    "    mail_feature,\n",
    "    mail_info,\n",
    "    mail_promo,\n",
    "    language,\n",
    "    modulo(toInt64(puid), 100) as group_index,\n",
    "    toDate(NOW()) - toDate(ba_created) as days_since_ba_created\n",
    "FROM \"//home/cloud_analytics/cubes/acquisition_cube/cube\" as a\n",
    "ANY LEFT JOIN(\n",
    "    SELECT\n",
    "        passport_uid as puid,\n",
    "        user_settings_language as language\n",
    "    FROM \"//home/cloud_analytics/import/iam/cloud_owners_history\"\n",
    ") as b\n",
    "ON a.puid == b.puid\n",
    "WHERE\n",
    "     (\n",
    "        (event == 'cloud_created' and  billing_account_id in\n",
    "         (SELECT DISTINCT billing_account_id \n",
    "          FROM \"//home/cloud_analytics/cubes/acquisition_cube/cube\"\n",
    "          WHERE event == 'cloud_created')\n",
    "         )\n",
    "      OR\n",
    "        (event == 'ba_created' and  billing_account_id not in\n",
    "         (SELECT DISTINCT billing_account_id \n",
    "          FROM \"//home/cloud_analytics/cubes/acquisition_cube/cube\"\n",
    "          WHERE event == 'cloud_created')\n",
    "        )\n",
    "    )\n",
    "    AND billing_account_id != ''\n",
    "    AND puid != ''\n",
    "FORMAT TabSeparatedWithNames\n",
    "\"\"\"\n",
    "main_df = lib.execute_query(req)"
   ]
  },
  {
   "cell_type": "markdown",
   "metadata": {},
   "source": [
    "# 1. Обновление"
   ]
  },
  {
   "cell_type": "code",
   "execution_count": 9,
   "metadata": {},
   "outputs": [],
   "source": [
    "def update_current_table(table_name, path, tables_to_update):\n",
    "    full_path = path + \"/\" + table_name\n",
    "    req = f\"\"\"\n",
    "    SELECT\n",
    "        *\n",
    "    FROM \"{full_path}\"\n",
    "    FORMAT TabSeparatedWithNames\n",
    "    \"\"\"\n",
    "    old_df = lib.execute_query(req)\n",
    "    if 'sended_mails' in old_df.columns:\n",
    "        old_df['sended_mails'] = old_df['sended_mails'].apply(\n",
    "            lambda x: x.replace(\"\\\\\", \"\"))\n",
    "    old_df['is_dropped'] = (old_df['email'].isin(dropped_emails)).astype(int)\n",
    "    if \"OLD\" in table_name:\n",
    "        old_df = old_df[old_df['is_dropped'] == 0]\n",
    "    for table, key in tables_to_update:\n",
    "        old_df = pd.merge(old_df,\n",
    "                          table, on=key, suffixes=('', '_new'), how='left')\n",
    "        \n",
    "    new_cols = []\n",
    "    for column in old_df.columns:\n",
    "        if \"_new\" == column[-4:]:\n",
    "            new_cols.append(column)\n",
    "            old_column = column[:-4]\n",
    "            old_df[old_column] = old_df[[old_column, column]].apply(\n",
    "            lambda x: x[column] if not pd.isnull(x[column]) else x[old_column], axis=1\n",
    "            )\n",
    "    old_df.drop(columns=new_cols, inplace=True)\n",
    "    lib.save_table(table_name, path, old_df)"
   ]
  },
  {
   "cell_type": "code",
   "execution_count": 10,
   "metadata": {},
   "outputs": [],
   "source": [
    "tables_to_update = [(main_df, \"billing_account_id\")]"
   ]
  },
  {
   "cell_type": "code",
   "execution_count": 11,
   "metadata": {},
   "outputs": [],
   "source": [
    "update_current_table(\"Go-to-paid-trial-usage\", \"//home/cloud_analytics/emailing/sender\", \n",
    "                     tables_to_update)"
   ]
  },
  {
   "cell_type": "code",
   "execution_count": 12,
   "metadata": {},
   "outputs": [],
   "source": [
    "update_current_table(\"Go-to-paid-trial-usage-OLD\", \n",
    "                     \"//home/cloud_analytics/emailing/sender\", \n",
    "                     tables_to_update)"
   ]
  },
  {
   "cell_type": "markdown",
   "metadata": {},
   "source": [
    "# 2. Добавление"
   ]
  },
  {
   "cell_type": "markdown",
   "metadata": {},
   "source": [
    "## old Marketo"
   ]
  },
  {
   "cell_type": "code",
   "execution_count": 13,
   "metadata": {},
   "outputs": [],
   "source": [
    "marketo_previous_req = \"\"\"\n",
    "SELECT\n",
    "    DISTINCT\n",
    "    billing_account_id,\n",
    "    email\n",
    "FROM \"//home/cloud_analytics/cubes/emailing_events/emailing_events\"\n",
    "WHERE event == 'add_to_nurture_stream'\n",
    "AND lower(program_name) like '%go-to-paid%'\n",
    "FORMAT TabSeparatedWithNames\n",
    "\"\"\"\n",
    "marketo_prev_df = lib.execute_query(marketo_previous_req)"
   ]
  },
  {
   "cell_type": "markdown",
   "metadata": {},
   "source": [
    "## old Upsell"
   ]
  },
  {
   "cell_type": "code",
   "execution_count": 14,
   "metadata": {},
   "outputs": [],
   "source": [
    "def old_upsell(table):\n",
    "    path = '//home/cloud_analytics/emailing/sender/' + table\n",
    "    req = f\"\"\"\n",
    "    SELECT\n",
    "        DISTINCT\n",
    "        billing_account_id,\n",
    "        email\n",
    "    FROM \"{path}\"\n",
    "    FORMAT TabSeparatedWithNames\n",
    "    \"\"\"\n",
    "    upsell_df = lib.execute_query(req)\n",
    "    return upsell_df"
   ]
  },
  {
   "cell_type": "code",
   "execution_count": 15,
   "metadata": {},
   "outputs": [],
   "source": [
    "tables = [\"CLOUDANA-724_company\",\n",
    "          \"CLOUDANA-724_individual\",\n",
    "          \"CLOUDANA-834_Upsell-3_paid\",\n",
    "          \"CLOUDANA-834_Upsell-3_trial\",\n",
    "          \"CLOUDANA-794_mdb_on_vm\"]\n",
    "upsells = []\n",
    "for table in tables:\n",
    "    upsells.append(old_upsell(table))\n",
    "\n",
    "upsell_df = lib.concatenate_tables(upsells)"
   ]
  },
  {
   "cell_type": "markdown",
   "metadata": {},
   "source": [
    "## old in program\n"
   ]
  },
  {
   "cell_type": "code",
   "execution_count": 16,
   "metadata": {},
   "outputs": [],
   "source": [
    "req = \"\"\"\n",
    "SELECT\n",
    "    DISTINCT\n",
    "        email,\n",
    "        billing_account_id\n",
    "FROM \"//home/cloud_analytics/emailing/sender/Go-to-paid-trial-usage\"\n",
    "UNION ALL\n",
    "SELECT\n",
    "    DISTINCT\n",
    "        email,\n",
    "        billing_account_id\n",
    "FROM \"//home/cloud_analytics/emailing/sender/Go-to-paid-stream\"\n",
    "\n",
    "FORMAT TabSeparatedWithNames\n",
    "\"\"\"\n",
    "old_df = lib.execute_query(req)"
   ]
  },
  {
   "cell_type": "markdown",
   "metadata": {},
   "source": [
    "## Подготовка новой порции"
   ]
  },
  {
   "cell_type": "code",
   "execution_count": 17,
   "metadata": {},
   "outputs": [],
   "source": [
    "new_table = main_df.copy()\n",
    "new_table = new_table[\n",
    "    (~new_table['email'].isin(marketo_prev_df['email'])) &\n",
    "    (~new_table['billing_account_id'].isin(marketo_prev_df['billing_account_id']))\n",
    "]\n",
    "new_table = new_table[~new_table['email'].isin(dropped_emails)]\n",
    "\n",
    "new_table = new_table[\n",
    "    (~new_table['email'].isin(old_df['email'])) &\n",
    "    (~new_table['billing_account_id'].isin(old_df['billing_account_id']))\n",
    "]\n",
    "\n",
    "new_table = new_table[\n",
    "    (~new_table['email'].isin(upsell_df['email'])) &\n",
    "    (~new_table['billing_account_id'].isin(upsell_df['billing_account_id']))\n",
    "]\n",
    "new_table = new_table[(new_table['is_isv'] == 0) &\n",
    "                      (new_table['first_first_paid_consumption_datetime'] == '')]\n",
    "\n",
    "new_table = new_table[(new_table['mail_feature'] == 1) |\n",
    "                      (new_table['mail_info'] == 1) |\n",
    "                      (new_table['mail_promo'] == 1)]\n",
    "new_table = new_table[new_table['days_since_ba_created'] <= 14]"
   ]
  },
  {
   "cell_type": "code",
   "execution_count": 18,
   "metadata": {},
   "outputs": [],
   "source": [
    "new_table['puid'] = new_table['puid'].astype(int)"
   ]
  },
  {
   "cell_type": "code",
   "execution_count": 19,
   "metadata": {},
   "outputs": [],
   "source": [
    "new_table['Group'] = new_table['puid'].apply(\n",
    "    lambda x: 'control' if x % 100 >= 35 and x % 100 <= 44 else 'test')"
   ]
  },
  {
   "cell_type": "code",
   "execution_count": 20,
   "metadata": {},
   "outputs": [],
   "source": [
    "new_table['experiment_date'] = lib.get_current_date_as_str()\n",
    "new_table['is_dropped'] = (new_table['email'].isin(dropped_emails)).astype(int)"
   ]
  },
  {
   "cell_type": "code",
   "execution_count": 21,
   "metadata": {},
   "outputs": [
    {
     "data": {
      "text/plain": [
       "(358, 18)"
      ]
     },
     "execution_count": 21,
     "metadata": {},
     "output_type": "execute_result"
    }
   ],
   "source": [
    "new_table.shape"
   ]
  },
  {
   "cell_type": "code",
   "execution_count": 22,
   "metadata": {},
   "outputs": [],
   "source": [
    "lib.save_table(\"Go-to-paid-trial-usage\", \"//home/cloud_analytics/emailing/sender\", \n",
    "               new_table, append=True)"
   ]
  },
  {
   "cell_type": "code",
   "execution_count": 23,
   "metadata": {},
   "outputs": [],
   "source": [
    "def copy_after(table_name):\n",
    "    if yt.row_count(\"//home/cloud_analytics/emailing/sender/\" + table_name) != 0:\n",
    "        yt.copy(\"//home/cloud_analytics/emailing/sender/\" + table_name,\n",
    "                \"//home/cloud_analytics/emailing/sender_copy/\" + table_name, force=True)\n",
    "copy_after(\"Go-to-paid-trial-usage\")\n",
    "copy_after(\"Go-to-paid-trial-usage-OLD\")"
   ]
  },
  {
   "cell_type": "markdown",
   "metadata": {},
   "source": [
    "---"
   ]
  },
  {
   "cell_type": "code",
   "execution_count": 8,
   "metadata": {},
   "outputs": [],
   "source": [
    "# marketo_previous_req = \"\"\"\n",
    "# SELECT\n",
    "#     DISTINCT\n",
    "#     billing_account_id,\n",
    "#     any(email) as email,\n",
    "#     groupUniqArray(mailing_name) as sended_mails,\n",
    "#     'test' as Group\n",
    "# FROM \"//home/cloud_analytics/cubes/emailing_events/emailing_events\"\n",
    "# WHERE lower(mailing_name) like '%go-to-paid-trial-usage%'\n",
    "# or lower(mailing_name) like '%q2-2020-upsell-1%'\n",
    "# GROUP BY billing_account_id\n",
    "# FORMAT TabSeparatedWithNames\n",
    "# \"\"\"\n",
    "# marketo_prev_df = lib.execute_query(marketo_previous_req)\n",
    "# marketo_prev_df['sended_mails'] = marketo_prev_df['sended_mails'].astype(str)\n",
    "# lib.save_table(\"Go-to-paid-trial-usage-OLD\", \"//home/cloud_analytics/emailing/sender\", \n",
    "#                marketo_prev_df)"
   ]
  },
  {
   "cell_type": "code",
   "execution_count": null,
   "metadata": {},
   "outputs": [],
   "source": []
  }
 ],
 "metadata": {
  "kernelspec": {
   "display_name": "Python 3",
   "language": "python",
   "name": "python3"
  },
  "language_info": {
   "codemirror_mode": {
    "name": "ipython",
    "version": 3
   },
   "file_extension": ".py",
   "mimetype": "text/x-python",
   "name": "python",
   "nbconvert_exporter": "python",
   "pygments_lexer": "ipython3",
   "version": "3.7.4"
  }
 },
 "nbformat": 4,
 "nbformat_minor": 2
}
