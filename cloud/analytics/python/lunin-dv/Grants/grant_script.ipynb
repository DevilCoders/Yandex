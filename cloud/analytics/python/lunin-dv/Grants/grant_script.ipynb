{
 "cells": [
  {
   "cell_type": "code",
   "execution_count": 54,
   "metadata": {},
   "outputs": [],
   "source": [
    "import scipy.stats as sps\n",
    "from sklearn.model_selection import train_test_split\n",
    "from sklearn.model_selection import train_test_split\n",
    "import gc\n",
    "from dateutil.parser import *\n",
    "import pandas as pd\n",
    "import matplotlib.pyplot as plt\n",
    "import seaborn as sns\n",
    "import numpy as np\n",
    "import string\n",
    "import os\n",
    "os.chdir('/Users/lunin-dv/Desktop/Library/')\n",
    "import importlib\n",
    "import robot_lib as lib\n",
    "import operator\n",
    "import re\n",
    "importlib.reload(lib)\n",
    "os.chdir('/Users/lunin-dv/Desktop/data')"
   ]
  },
  {
   "cell_type": "code",
   "execution_count": 58,
   "metadata": {},
   "outputs": [],
   "source": [
    "leads_df = max(lib.find_tables_in_hahn_folder(\"//home/cloud_analytics/dwh/raw/crm/leads\"))"
   ]
  },
  {
   "cell_type": "code",
   "execution_count": 56,
   "metadata": {},
   "outputs": [],
   "source": [
    "df = lib.execute_query(\"\"\"\n",
    "SELECT\n",
    "    DISTINCT\n",
    "    type,\n",
    "    id,\n",
    "    source_id,\n",
    "    promocode_proposer,\n",
    "    ticket,\n",
    "    created_time,\n",
    "    start_using_grant_time,\n",
    "    end_time,\n",
    "    initial_amount,\n",
    "    is_activated,\n",
    "    billing_account_id,\n",
    "    consumed_amount\n",
    "FROM (\n",
    "    SELECT\n",
    "        DISTINCT \n",
    "        'promocode' as type,\n",
    "        ticket_grants.id as source_id,\n",
    "        is_activated.id as id,\n",
    "        visitParamExtractRaw(proposed_meta, 'staffLogin') as promocode_proposer,\n",
    "        replaceRegexpOne(\n",
    "        visitParamExtractRaw(upper(proposed_meta), 'REASON') || visitParamExtractRaw(upper(proposed_meta), 'TICKET'), \n",
    "        '.*CLOUD(.*)-([\\d]*).*', 'CLOUD\\\\1-\\\\2') as ticket,\n",
    "        toDateTime(created_at) as created_time,\n",
    "        toDateTime(start_time) as start_using_grant_time,\n",
    "        toFloat32(initial_amount) as initial_amount,\n",
    "        ifNull(end_time_grant, toDateTime(expiration_time)) as end_time,\n",
    "        is_activated,\n",
    "        billing_account_id\n",
    "    FROM \"//home/cloud/billing/exported-billing-tables/monetary_grant_offers_prod\" as ticket_grants\n",
    "    ANY LEFT JOIN (\n",
    "    SELECT\n",
    "        DISTINCT\n",
    "            billing_account_id,\n",
    "            source_id,\n",
    "            start_time,\n",
    "            1 as is_activated,\n",
    "            id,\n",
    "            toDateTime(end_time) as end_time_grant\n",
    "        FROM \"//home/cloud/billing/exported-billing-tables/monetary_grants_prod\"\n",
    "    ) as is_activated\n",
    "    ON ticket_grants.id == is_activated.source_id\n",
    "    \n",
    "    UNION ALL\n",
    "    \n",
    "    SELECT\n",
    "        DISTINCT\n",
    "        'grant' as type,\n",
    "        source_id,\n",
    "        id,\n",
    "        '' as promocode_proposer,\n",
    "        splitByChar(' ', assumeNotNull(upper(source_id)))[1] as ticket,\n",
    "        toDateTime(created_at) as created_time,\n",
    "        toDateTime(start_time) as start_using_grant_time,\n",
    "        toFloat32(initial_amount) as initial_amount,\n",
    "        toDateTime(end_time) as end_time,\n",
    "        1 as is_activated,\n",
    "        billing_account_id\n",
    "    FROM \"//home/cloud/billing/exported-billing-tables/monetary_grants_prod\"\n",
    "    WHERE lower(source) == 'st'\n",
    ") as main\n",
    "LEFT JOIN (\n",
    "    SELECT\n",
    "        DISTINCT \n",
    "            id,\n",
    "            if(consumed_amount < 0, 0, consumed_amount) as consumed_amount\n",
    "    FROM \"//home/cloud_analytics/import/billing/grants_spending\"\n",
    ") as consume_info\n",
    "ON main.id == consume_info.id\n",
    "WHERE lower(ticket) like 'cloud%'\n",
    "AND ticket like '%-%'\n",
    "ORDER BY ticket DESC\n",
    "FORMAT TabSeparatedWithNames\n",
    "\"\"\")"
   ]
  },
  {
   "cell_type": "code",
   "execution_count": 63,
   "metadata": {},
   "outputs": [],
   "source": [
    "lead_source_df = lib.execute_query(f\"\"\"\n",
    "SELECT\n",
    "    promocode as source_id,\n",
    "    any(lead_source) as lead_source,\n",
    "    any(lead_source_description) as lead_source_description\n",
    "FROM \"{leads_df}\"\n",
    "WHERE source_id != ''\n",
    "and isNotNull(source_id)\n",
    "GROUP BY promocode\n",
    "FORMAT TabSeparatedWithNames\n",
    "\"\"\")"
   ]
  },
  {
   "cell_type": "code",
   "execution_count": 65,
   "metadata": {},
   "outputs": [],
   "source": [
    "df = pd.merge(df, lead_source_df, on=['source_id'], how='left')"
   ]
  },
  {
   "cell_type": "code",
   "execution_count": 69,
   "metadata": {},
   "outputs": [],
   "source": [
    "additional_account_info = lib.execute_query(\"\"\"\n",
    "SELECT\n",
    "    DISTINCT\n",
    "        billing_account_id,\n",
    "        first_name,\n",
    "        last_name,\n",
    "        phone,\n",
    "        user_settings_email as email,\n",
    "        ba_state,\n",
    "        segment,\n",
    "        account_name,\n",
    "        if (client_type == 'company', 'company', 'individual') as client_type,\n",
    "        sales_name,\n",
    "        if (first_first_paid_consumption_datetime != '0000-00-00 00:00:00',\n",
    "            toDate(first_first_paid_consumption_datetime),\n",
    "            null) as go_to_paid_date,\n",
    "        if (first_first_trial_consumption_datetime != '0000-00-00 00:00:00',\n",
    "            toDate(first_first_trial_consumption_datetime),\n",
    "            null) as go_to_trial_date,\n",
    "        toDate(first_ba_created_datetime) as ba_created_datetime\n",
    "FROM \"//home/cloud_analytics/cubes/acquisition_cube/cube\" as cube\n",
    "ANY LEFT JOIN (\n",
    "    SELECT\n",
    "        DISTINCT \n",
    "        billing_account_id,\n",
    "        'company' as client_type\n",
    "    FROM (\n",
    "        SELECT\n",
    "            DISTINCT\n",
    "            billing_account_id,\n",
    "            if (ba_person_type like '%company%', 1, is_corporate_card) as is_company\n",
    "        FROM \"//home/cloud_analytics/cubes/acquisition_cube/cube\"\n",
    "        WHERE is_company == 1\n",
    "    \n",
    "        UNION ALL\n",
    "        SELECT \n",
    "            billing_account_id,\n",
    "            1 as is_company\n",
    "        FROM \"//home/cloud_analytics/import/crm/business_accounts/data\"\n",
    "    )\n",
    ") as is_company\n",
    "ON cube.billing_account_id == is_company.billing_account_id\n",
    "WHERE event == 'ba_created'\n",
    "OR event == 'cloud_created'\n",
    "AND billing_account_id != ''\n",
    "FORMAT TabSeparatedWithNames\n",
    "\"\"\")"
   ]
  },
  {
   "cell_type": "code",
   "execution_count": 70,
   "metadata": {},
   "outputs": [],
   "source": [
    "assert len(additional_account_info) == additional_account_info['billing_account_id'].unique().shape[0]"
   ]
  },
  {
   "cell_type": "code",
   "execution_count": 71,
   "metadata": {},
   "outputs": [],
   "source": [
    "df = pd.merge(df, additional_account_info, how='left', on='billing_account_id')"
   ]
  },
  {
   "cell_type": "code",
   "execution_count": 72,
   "metadata": {},
   "outputs": [],
   "source": [
    "df['ticket'] = df['ticket'].apply(lambda x: ''.join(x.replace('\\\\t', \"\\t\").split(string.punctuation)))\n",
    "df['ticket'] = df['ticket'].apply(lambda x: ''.join(x.replace('\\t', \"\").split(string.punctuation)))"
   ]
  },
  {
   "cell_type": "code",
   "execution_count": 73,
   "metadata": {},
   "outputs": [],
   "source": [
    "grant_information = lib.get_wiki_table('users/lunin-dv/grants-information-table/')"
   ]
  },
  {
   "cell_type": "code",
   "execution_count": 74,
   "metadata": {},
   "outputs": [],
   "source": [
    "grouped_grant_information = grant_information.groupby('ticket')\n",
    "rows = []\n",
    "for ticket, table in grouped_grant_information:\n",
    "    row = {}\n",
    "    row['ticket'] = ticket\n",
    "    row['grant_company_name'] = \"\"\n",
    "    interest = set(table['grant_company_name']) - set([\"\"])\n",
    "    if len(interest) > 0:\n",
    "        row['grant_company_name'] = list(interest)[0].strip()\n",
    "        \n",
    "    row['direction'] = f\"\"\n",
    "    interest = set(table['direction']) - set([\"\"])\n",
    "    if len(interest) > 0:\n",
    "        row['direction'] = list(interest)[0]\n",
    "        \n",
    "    row['upsell_experiment_names'] = f\"\"\n",
    "    \n",
    "    interest = \" \".join(\n",
    "        set([val for x in table['upsell_experiment_names'] for val in x.split(' ')]) - \n",
    "        set([\"\"]))\n",
    "    row['upsell_experiment_names'] = interest\n",
    "    rows.append(row)"
   ]
  },
  {
   "cell_type": "code",
   "execution_count": 75,
   "metadata": {},
   "outputs": [],
   "source": [
    "grant_information = pd.DataFrame(rows)"
   ]
  },
  {
   "cell_type": "code",
   "execution_count": 76,
   "metadata": {},
   "outputs": [
    {
     "data": {
      "text/plain": [
       "array(['', 'Upsell-1_mdb_on_vm_1_iteration', 'ML_upsell test_experiment'],\n",
       "      dtype=object)"
      ]
     },
     "execution_count": 76,
     "metadata": {},
     "output_type": "execute_result"
    }
   ],
   "source": [
    "grant_information['upsell_experiment_names'].unique()"
   ]
  },
  {
   "cell_type": "code",
   "execution_count": 77,
   "metadata": {},
   "outputs": [],
   "source": [
    "lib.replace_wiki_table('users/lunin-dv/grants-information-table/', grant_information)"
   ]
  },
  {
   "cell_type": "code",
   "execution_count": 78,
   "metadata": {},
   "outputs": [],
   "source": [
    "final_table = pd.merge(df, grant_information, on='ticket', how='left')"
   ]
  },
  {
   "cell_type": "code",
   "execution_count": 79,
   "metadata": {},
   "outputs": [],
   "source": [
    "final_table['direction'] = final_table['direction'].apply(lambda x: 'unknown' if pd.isnull(x) or x == '' else x)\n",
    "final_table['grant_company_name'] = final_table[['grant_company_name', 'ticket']].apply(\n",
    "    lambda x: \"\" if pd.isnull(x['grant_company_name']) else x['grant_company_name'].replace(\"'\", \"\"),\n",
    "    axis=1)"
   ]
  },
  {
   "cell_type": "code",
   "execution_count": 80,
   "metadata": {},
   "outputs": [],
   "source": [
    "final_table['ticket_query'] = final_table['ticket'].apply(lambda x: x.split('-')[0])"
   ]
  },
  {
   "cell_type": "code",
   "execution_count": 81,
   "metadata": {},
   "outputs": [],
   "source": [
    "from startrek_client import Startrek\n",
    "from startrek_client.settings import VERSION_SERVICE"
   ]
  },
  {
   "cell_type": "code",
   "execution_count": 82,
   "metadata": {},
   "outputs": [],
   "source": [
    "client = Startrek(useragent=\"robot-clanalytics-yt\", \n",
    "                  base_url=\"https://st-api.yandex-team.ru/v2/myself\", token=lib.startrek_token)"
   ]
  },
  {
   "cell_type": "code",
   "execution_count": 83,
   "metadata": {},
   "outputs": [],
   "source": [
    "def ticket_assignee(x):\n",
    "    try:\n",
    "        return x.assignee.id\n",
    "    except Exception:\n",
    "        return '-'\n",
    "\n",
    "\n",
    "def ticket_creator(x):\n",
    "    try:\n",
    "        return x.createdBy.id\n",
    "    except Exception:\n",
    "        return '-'\n",
    "\n",
    "\n",
    "def ticket_tags(x):\n",
    "    try:\n",
    "        if len(x.tags) == 0:\n",
    "            return '-'\n",
    "        return (','.join(x.tags)).replace(' ', '')\n",
    "    except Exception:\n",
    "        return '-'\n",
    "\n",
    "def ticket_components(x):\n",
    "    try:\n",
    "        components = [component.name for component in x.components]\n",
    "        if len(components) == 0:\n",
    "            return '-'\n",
    "        return (','.join(components)).replace(' ', '')\n",
    "    except Exception:\n",
    "        return '-'\n",
    "\n",
    "\n",
    "def ticket_summary(x):\n",
    "    try:\n",
    "        return x.summary\n",
    "    except Exception:\n",
    "        return '-'\n",
    "    \n"
   ]
  },
  {
   "cell_type": "code",
   "execution_count": 84,
   "metadata": {},
   "outputs": [],
   "source": [
    "tickets_func = ['ticket_assignee', 'ticket_creator', 'ticket_tags', 'ticket_components', 'ticket_summary']"
   ]
  },
  {
   "cell_type": "code",
   "execution_count": 85,
   "metadata": {},
   "outputs": [],
   "source": [
    "def all_ticket_info(ticket):\n",
    "    try:\n",
    "        ticket_info = client.issues[ticket]\n",
    "        return {name: globals()[name](ticket_info) for name in tickets_func}\n",
    "    except Exception:\n",
    "        print(ticket)\n",
    "        return {name: '-' for name in tickets_func}"
   ]
  },
  {
   "cell_type": "code",
   "execution_count": 86,
   "metadata": {},
   "outputs": [
    {
     "data": {
      "text/plain": [
       "{'ticket_assignee': 'megaeee',\n",
       " 'ticket_creator': 'dabari',\n",
       " 'ticket_tags': 'ya_dwh',\n",
       " 'ticket_components': '-',\n",
       " 'ticket_summary': 'Промокоды для пользователей, кто ушёл'}"
      ]
     },
     "execution_count": 86,
     "metadata": {},
     "output_type": "execute_result"
    }
   ],
   "source": [
    "all_ticket_info('CLOUDPS-851')"
   ]
  },
  {
   "cell_type": "markdown",
   "metadata": {},
   "source": [
    "Нет доступа к \n",
    "\n",
    "- CLOUDCONTACT\n",
    "- CLOUDPROJECTS\n",
    "- CLOUDFRONT\n",
    "- CLOUDCRM"
   ]
  },
  {
   "cell_type": "code",
   "execution_count": 87,
   "metadata": {
    "scrolled": false
   },
   "outputs": [
    {
     "name": "stderr",
     "output_type": "stream",
     "text": [
      "ERROR:yandex_tracker_client.connection:Tracker errors: 403 {}\n",
      "ERROR:yandex_tracker_client.connection:1 messages follow:\n",
      "ERROR:yandex_tracker_client.connection: - Нет доступа к задаче.\n"
     ]
    },
    {
     "name": "stdout",
     "output_type": "stream",
     "text": [
      "CLOUDPROJECTS-88\n"
     ]
    },
    {
     "name": "stderr",
     "output_type": "stream",
     "text": [
      "ERROR:yandex_tracker_client.connection:Tracker errors: 403 {}\n",
      "ERROR:yandex_tracker_client.connection:1 messages follow:\n",
      "ERROR:yandex_tracker_client.connection: - Нет доступа к задаче.\n",
      "ERROR:yandex_tracker_client.connection:Tracker errors: 403 {}\n",
      "ERROR:yandex_tracker_client.connection:1 messages follow:\n",
      "ERROR:yandex_tracker_client.connection: - Нет доступа к задаче.\n",
      "ERROR:yandex_tracker_client.connection:Tracker errors: 403 {}\n",
      "ERROR:yandex_tracker_client.connection:1 messages follow:\n",
      "ERROR:yandex_tracker_client.connection: - Нет доступа к задаче.\n",
      "ERROR:yandex_tracker_client.connection:Tracker errors: 403 {}\n",
      "ERROR:yandex_tracker_client.connection:1 messages follow:\n",
      "ERROR:yandex_tracker_client.connection: - Нет доступа к задаче.\n",
      "ERROR:yandex_tracker_client.connection:Tracker errors: 403 {}\n",
      "ERROR:yandex_tracker_client.connection:1 messages follow:\n",
      "ERROR:yandex_tracker_client.connection: - Нет доступа к задаче.\n",
      "ERROR:yandex_tracker_client.connection:Tracker errors: 403 {}\n",
      "ERROR:yandex_tracker_client.connection:1 messages follow:\n"
     ]
    },
    {
     "name": "stdout",
     "output_type": "stream",
     "text": [
      "CLOUDFRONT-632\n",
      "CLOUDFRONT-600\n",
      "CLOUDFRONT-566\n",
      "CLOUDFRONT-554\n",
      "CLOUDFRONT-543\n"
     ]
    },
    {
     "name": "stderr",
     "output_type": "stream",
     "text": [
      "ERROR:yandex_tracker_client.connection: - Нет доступа к задаче.\n",
      "ERROR:yandex_tracker_client.connection:Tracker errors: 403 {}\n",
      "ERROR:yandex_tracker_client.connection:1 messages follow:\n",
      "ERROR:yandex_tracker_client.connection: - Нет доступа к задаче.\n",
      "ERROR:yandex_tracker_client.connection:Tracker errors: 403 {}\n",
      "ERROR:yandex_tracker_client.connection:1 messages follow:\n",
      "ERROR:yandex_tracker_client.connection: - Нет доступа к задаче.\n",
      "ERROR:yandex_tracker_client.connection:Tracker errors: 403 {}\n",
      "ERROR:yandex_tracker_client.connection:1 messages follow:\n",
      "ERROR:yandex_tracker_client.connection: - Нет доступа к задаче.\n",
      "ERROR:yandex_tracker_client.connection:Tracker errors: 403 {}\n",
      "ERROR:yandex_tracker_client.connection:1 messages follow:\n",
      "ERROR:yandex_tracker_client.connection: - Нет доступа к задаче.\n",
      "ERROR:yandex_tracker_client.connection:Tracker errors: 403 {}\n",
      "ERROR:yandex_tracker_client.connection:1 messages follow:\n",
      "ERROR:yandex_tracker_client.connection: - Нет доступа к задаче.\n"
     ]
    },
    {
     "name": "stdout",
     "output_type": "stream",
     "text": [
      "CLOUDFRONT-533\n",
      "CLOUDFRONT-523\n",
      "CLOUDFRONT-517\n",
      "CLOUDFRONT-513\n",
      "CLOUDFRONT-509\n",
      "CLOUDFRONT-506\n"
     ]
    },
    {
     "name": "stderr",
     "output_type": "stream",
     "text": [
      "ERROR:yandex_tracker_client.connection:Tracker errors: 403 {}\n",
      "ERROR:yandex_tracker_client.connection:1 messages follow:\n",
      "ERROR:yandex_tracker_client.connection: - Нет доступа к задаче.\n",
      "ERROR:yandex_tracker_client.connection:Tracker errors: 403 {}\n",
      "ERROR:yandex_tracker_client.connection:1 messages follow:\n",
      "ERROR:yandex_tracker_client.connection: - Нет доступа к задаче.\n",
      "ERROR:yandex_tracker_client.connection:Tracker errors: 403 {}\n",
      "ERROR:yandex_tracker_client.connection:1 messages follow:\n",
      "ERROR:yandex_tracker_client.connection: - Нет доступа к задаче.\n",
      "ERROR:yandex_tracker_client.connection:Tracker errors: 403 {}\n",
      "ERROR:yandex_tracker_client.connection:1 messages follow:\n",
      "ERROR:yandex_tracker_client.connection: - Нет доступа к задаче.\n",
      "ERROR:yandex_tracker_client.connection:Tracker errors: 403 {}\n",
      "ERROR:yandex_tracker_client.connection:1 messages follow:\n",
      "ERROR:yandex_tracker_client.connection: - Нет доступа к задаче.\n",
      "ERROR:yandex_tracker_client.connection:Tracker errors: 403 {}\n",
      "ERROR:yandex_tracker_client.connection:1 messages follow:\n",
      "ERROR:yandex_tracker_client.connection: - Нет доступа к задаче.\n",
      "ERROR:yandex_tracker_client.connection:Tracker errors: 403 {}\n",
      "ERROR:yandex_tracker_client.connection:1 messages follow:\n",
      "ERROR:yandex_tracker_client.connection: - Нет доступа к задаче.\n"
     ]
    },
    {
     "name": "stdout",
     "output_type": "stream",
     "text": [
      "CLOUDFRONT-504\n",
      "CLOUDFRONT-492\n",
      "CLOUDFRONT-489\n",
      "CLOUDFRONT-470\n",
      "CLOUDFRONT-455\n",
      "CLOUDFRONT-450\n",
      "CLOUDFRONT-2034\n"
     ]
    },
    {
     "name": "stderr",
     "output_type": "stream",
     "text": [
      "ERROR:yandex_tracker_client.connection:Tracker errors: 403 {}\n",
      "ERROR:yandex_tracker_client.connection:1 messages follow:\n",
      "ERROR:yandex_tracker_client.connection: - Нет доступа к задаче.\n"
     ]
    },
    {
     "name": "stdout",
     "output_type": "stream",
     "text": [
      "CLOUDFRONT-100\n"
     ]
    },
    {
     "name": "stderr",
     "output_type": "stream",
     "text": [
      "ERROR:yandex_tracker_client.connection:Tracker errors: 403 {}\n",
      "ERROR:yandex_tracker_client.connection:1 messages follow:\n",
      "ERROR:yandex_tracker_client.connection: - Нет доступа к задаче.\n",
      "ERROR:yandex_tracker_client.connection:Tracker errors: 403 {}\n",
      "ERROR:yandex_tracker_client.connection:1 messages follow:\n",
      "ERROR:yandex_tracker_client.connection: - Нет доступа к задаче.\n",
      "ERROR:yandex_tracker_client.connection:Tracker errors: 403 {}\n",
      "ERROR:yandex_tracker_client.connection:1 messages follow:\n",
      "ERROR:yandex_tracker_client.connection: - Нет доступа к задаче.\n"
     ]
    },
    {
     "name": "stdout",
     "output_type": "stream",
     "text": [
      "CLOUDCRM-475\n",
      "CLOUDCONTACT-672\n",
      "CLOUDCONTACT-1585\n"
     ]
    },
    {
     "name": "stderr",
     "output_type": "stream",
     "text": [
      "ERROR:yandex_tracker_client.connection:Tracker errors: 404 {}\n",
      "ERROR:yandex_tracker_client.connection:1 messages follow:\n",
      "ERROR:yandex_tracker_client.connection: - Задача не существует.\n"
     ]
    },
    {
     "name": "stdout",
     "output_type": "stream",
     "text": [
      "CLOUDBIZ-5424\n"
     ]
    },
    {
     "name": "stderr",
     "output_type": "stream",
     "text": [
      "ERROR:yandex_tracker_client.connection:Tracker errors: 404 {}\n",
      "ERROR:yandex_tracker_client.connection:1 messages follow:\n",
      "ERROR:yandex_tracker_client.connection: - Задача не существует.\n"
     ]
    },
    {
     "name": "stdout",
     "output_type": "stream",
     "text": [
      "CLOUDBIZ-25474\n"
     ]
    },
    {
     "name": "stderr",
     "output_type": "stream",
     "text": [
      "ERROR:yandex_tracker_client.connection:Tracker errors: 404 {}\n",
      "ERROR:yandex_tracker_client.connection:1 messages follow:\n",
      "ERROR:yandex_tracker_client.connection: - Задача не существует.\n",
      "ERROR:yandex_tracker_client.connection:Tracker errors: 404 {}\n",
      "ERROR:yandex_tracker_client.connection:1 messages follow:\n",
      "ERROR:yandex_tracker_client.connection: - Задача не существует.\n"
     ]
    },
    {
     "name": "stdout",
     "output_type": "stream",
     "text": [
      "CLOUD-2222222\n",
      "CLOUD-211111\n"
     ]
    },
    {
     "name": "stderr",
     "output_type": "stream",
     "text": [
      "ERROR:yandex_tracker_client.connection:Tracker errors: 404 {}\n",
      "ERROR:yandex_tracker_client.connection:1 messages follow:\n",
      "ERROR:yandex_tracker_client.connection: - Задача не существует.\n"
     ]
    },
    {
     "name": "stdout",
     "output_type": "stream",
     "text": [
      "CLOUD-129644\n"
     ]
    }
   ],
   "source": [
    "ticket_dict = {ticket: all_ticket_info(ticket) for ticket in final_table['ticket'].unique()}"
   ]
  },
  {
   "cell_type": "code",
   "execution_count": 88,
   "metadata": {},
   "outputs": [],
   "source": [
    "for name in tickets_func:\n",
    "    final_table[name] = final_table['ticket'].apply(lambda x: ticket_dict[x][name])"
   ]
  },
  {
   "cell_type": "code",
   "execution_count": 89,
   "metadata": {},
   "outputs": [],
   "source": [
    "final_table.replace('', '-', inplace=True)"
   ]
  },
  {
   "cell_type": "code",
   "execution_count": 90,
   "metadata": {},
   "outputs": [
    {
     "data": {
      "text/plain": [
       "(7781,)"
      ]
     },
     "execution_count": 90,
     "metadata": {},
     "output_type": "execute_result"
    }
   ],
   "source": [
    "final_table['billing_account_id'].unique().shape"
   ]
  },
  {
   "cell_type": "code",
   "execution_count": 91,
   "metadata": {},
   "outputs": [],
   "source": [
    "lib.save_table('offers_grants_information_table', '//home/cloud_analytics/lunin-dv/grants', final_table)"
   ]
  },
  {
   "cell_type": "code",
   "execution_count": null,
   "metadata": {},
   "outputs": [],
   "source": []
  }
 ],
 "metadata": {
  "kernelspec": {
   "display_name": "Python 3",
   "language": "python",
   "name": "python3"
  },
  "language_info": {
   "codemirror_mode": {
    "name": "ipython",
    "version": 3
   },
   "file_extension": ".py",
   "mimetype": "text/x-python",
   "name": "python",
   "nbconvert_exporter": "python",
   "pygments_lexer": "ipython3",
   "version": "3.7.4"
  }
 },
 "nbformat": 4,
 "nbformat_minor": 2
}
