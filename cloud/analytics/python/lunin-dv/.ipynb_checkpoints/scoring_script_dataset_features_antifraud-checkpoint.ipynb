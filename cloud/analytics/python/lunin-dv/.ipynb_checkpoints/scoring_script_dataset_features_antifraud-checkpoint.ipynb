{
 "cells": [
  {
   "cell_type": "code",
   "execution_count": 1,
   "metadata": {},
   "outputs": [
    {
     "name": "stderr",
     "output_type": "stream",
     "text": [
      "/home/lunin-dv/anaconda3/lib/python3.7/site-packages/statsmodels/tools/_testing.py:19: FutureWarning: pandas.util.testing is deprecated. Use the functions in the public API at pandas.testing instead.\n",
      "  import pandas.util.testing as tm\n"
     ]
    }
   ],
   "source": [
    "%load_ext autoreload\n",
    "%autoreload 2\n",
    "import scipy.stats as sps\n",
    "from sklearn.model_selection import train_test_split\n",
    "import gc\n",
    "from sklearn.linear_model import LinearRegression\n",
    "from dateutil.parser import *\n",
    "import pandas as pd\n",
    "import numpy as np\n",
    "import os\n",
    "from collections import Counter\n",
    "import json\n",
    "import typing as tp\n",
    "import my_library as lib\n",
    "import ast\n",
    "from datetime import datetime"
   ]
  },
  {
   "cell_type": "code",
   "execution_count": 2,
   "metadata": {},
   "outputs": [],
   "source": [
    "DAYS_TO_OBSERVE = 14\n",
    "EMPTY_TYPE = 'undefined'\n",
    "TABLE_NAME = 'antifraud_features_table'\n",
    "column_types = set()"
   ]
  },
  {
   "cell_type": "code",
   "execution_count": 3,
   "metadata": {},
   "outputs": [],
   "source": [
    "antifraud_df = lib.execute_query(f\"\"\"\n",
    "SELECT\n",
    "    billing_account_id,\n",
    "    scoring_date,\n",
    "    scoring_day_diff,\n",
    "    has_plus\n",
    "FROM (\n",
    "    SELECT\n",
    "        billing_account_id,\n",
    "        scoring_date,\n",
    "        cast(uid as String) as puid,\n",
    "        reg_date,\n",
    "        dateDiff('day', toDate(reg_date), toDate(scoring_date)) as scoring_day_diff,\n",
    "        dateDiff('day', toDate(reg_date), toDate(NOW())) as now_day_diff,\n",
    "        karma,\n",
    "        last_sub_state,\n",
    "        active_days / now_day_diff * 100 as pct_of_active_days,\n",
    "        active_days,\n",
    "        if(has_plus == 1, 1, 0) as has_plus\n",
    "    FROM \"//home/antifraud/export/accounts/accounts_state\" as a\n",
    "    INNER JOIN (\n",
    "        SELECT\n",
    "                billing_account_id,\n",
    "                any(puid) as puid,\n",
    "                addDays(toDate(first_first_trial_consumption_datetime),\n",
    "                {DAYS_TO_OBSERVE}) as scoring_date,\n",
    "                first_first_trial_consumption_datetime\n",
    "            FROM \"//home/cloud_analytics/cubes/acquisition_cube/cube\"\n",
    "            WHERE event == 'ba_created'\n",
    "            AND billing_account_id != ''\n",
    "            AND cloud_id != ''\n",
    "            AND first_first_trial_consumption_datetime != '0000-00-00 00:00:00'\n",
    "            GROUP BY billing_account_id, first_first_trial_consumption_datetime\n",
    "            HAVING puid != ''\n",
    "    ) as b\n",
    "    ON puid == b.puid\n",
    "    WHERE isNotNull(reg_date)\n",
    ")\n",
    "FORMAT TabSeparatedWithNames\n",
    "\"\"\")"
   ]
  },
  {
   "cell_type": "code",
   "execution_count": 4,
   "metadata": {},
   "outputs": [],
   "source": [
    "column_types.add('has_plus:binary')\n",
    "column_types.add('scoring_day_diff:numeric')"
   ]
  },
  {
   "cell_type": "code",
   "execution_count": 5,
   "metadata": {},
   "outputs": [],
   "source": [
    "def save_types(column_types):\n",
    "    rows = []\n",
    "    for column_type in column_types:\n",
    "        column, current_type = column_type.split(':')\n",
    "        rows.append([column, current_type, TABLE_NAME])\n",
    "    type_df = pd.DataFrame(np.matrix(rows), columns=['column_name', 'type',\n",
    "                                                     'table_name'])\n",
    "    lib.save_table('type_table', \"//home/cloud_analytics/scoring_v2/data_tables\", \n",
    "                   type_df, append=True)\n",
    "\n",
    "\n",
    "def add_table_to_model_to_observe():\n",
    "    tables_df = pd.DataFrame([TABLE_NAME], columns=['table_names'])\n",
    "    lib.save_table('table_names_for_scoring_model', \n",
    "               \"//home/cloud_analytics/scoring_v2/data_tables\", \n",
    "               tables_df, append=True)\n",
    "    \n",
    "\n",
    "def check_types_correspondence(df, column_types):\n",
    "    req = \"\"\"\n",
    "    SELECT\n",
    "        type,\n",
    "        checker_function\n",
    "    FROM \"//home/cloud_analytics/scoring_v2/data_tables/column_type_description\"\n",
    "    FORMAT TabSeparatedWithNames\n",
    "    \"\"\"\n",
    "    type_df = lib.execute_query(req)\n",
    "\n",
    "    checker_functions = {}\n",
    "    for func_str in type_df['checker_function']:\n",
    "        exec(func_str.replace(\"\\\\n\", '\\n'), checker_functions)\n",
    "    \n",
    "    assert len(df.columns) == len(column_types) + 2, \\\n",
    "    'difference in number of columns in dataframe and in column_types, '\n",
    "    f'{len(column_types) + 2 - len(df.columns)}'\n",
    "    \n",
    "    for column_type in column_types:\n",
    "        column, curr_type = column_type.split(\":\")\n",
    "        curr_function_name = curr_type.split(\"__\")[0]\n",
    "        if checker_functions.get(curr_function_name + \"_checker\") is None:\n",
    "            assert False, f\"no type {curr_function_name}\"\n",
    "        assert checker_functions[curr_function_name + \"_checker\"](df, column),\\\n",
    "        f'{curr_function_name} check failed for column {column}'\n",
    "        \n",
    "\n",
    "def save_all_results(df):\n",
    "    check_types_correspondence(df, column_types)\n",
    "    lib.save_table(TABLE_NAME, \"//home/cloud_analytics/scoring_v2/data_tables\", df)\n",
    "    save_types(column_types)\n",
    "    add_table_to_model_to_observe()"
   ]
  },
  {
   "cell_type": "code",
   "execution_count": 6,
   "metadata": {},
   "outputs": [],
   "source": [
    "save_all_results(antifraud_df)"
   ]
  },
  {
   "cell_type": "code",
   "execution_count": null,
   "metadata": {},
   "outputs": [],
   "source": []
  }
 ],
 "metadata": {
  "kernelspec": {
   "display_name": "Python 3",
   "language": "python",
   "name": "python3"
  },
  "language_info": {
   "codemirror_mode": {
    "name": "ipython",
    "version": 3
   },
   "file_extension": ".py",
   "mimetype": "text/x-python",
   "name": "python",
   "nbconvert_exporter": "python",
   "pygments_lexer": "ipython3",
   "version": "3.7.4"
  }
 },
 "nbformat": 4,
 "nbformat_minor": 2
}
