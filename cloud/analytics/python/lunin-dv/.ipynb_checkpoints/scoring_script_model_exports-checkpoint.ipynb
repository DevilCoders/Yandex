{
 "cells": [
  {
   "cell_type": "code",
   "execution_count": 1,
   "metadata": {},
   "outputs": [],
   "source": [
    "%load_ext autoreload\n",
    "%autoreload 2\n",
    "import ast\n",
    "import scipy.stats as sps\n",
    "from sklearn.model_selection import train_test_split\n",
    "import gc\n",
    "from sklearn.linear_model import LinearRegression\n",
    "from dateutil.parser import *\n",
    "import pandas as pd\n",
    "import numpy as np\n",
    "import os\n",
    "from collections import Counter\n",
    "import json\n",
    "import typing as tp\n",
    "from sklearn.preprocessing import normalize\n",
    "import my_library as lib\n",
    "from datetime import datetime\n",
    "from collections import Counter\n",
    "from catboost import CatBoostClassifier\n",
    "import time\n",
    "import math\n",
    "import warnings\n",
    "warnings.simplefilter(\"ignore\")"
   ]
  },
  {
   "cell_type": "code",
   "execution_count": 2,
   "metadata": {},
   "outputs": [],
   "source": [
    "CURRENT_DATE = lib.execute_query(\"\"\"\n",
    "SELECT\n",
    "    current_predicting_scoring_date\n",
    "FROM \"//home/cloud_analytics/scoring_v2/helping_folder_for_model/model_scoring_date\"\n",
    "FORMAT TabSeparatedWithNames\n",
    "\"\"\").iloc[0, 0]"
   ]
  },
  {
   "cell_type": "markdown",
   "metadata": {},
   "source": [
    "# CRM leads\n",
    "\n",
    "## common_info"
   ]
  },
  {
   "cell_type": "code",
   "execution_count": 3,
   "metadata": {},
   "outputs": [],
   "source": [
    "common_information_df = lib.execute_query(\"\"\"\n",
    "SELECT\n",
    "    billing_account_id,\n",
    "    user_settings_email as email,\n",
    "    phone,\n",
    "    if(first_name == '', 'unknown', first_name) as first_name,\n",
    "    if(last_name == '', 'unknown', last_name) as last_name,\n",
    "    'Scoring Leads' as campaign_name,\n",
    "    account_name as client_name,\n",
    "    timezone,\n",
    "    if(ba_person_type == 'company' OR is_corporate_card = 1, 'Client is Company',\n",
    "        'Client is Individual') as lead_source_description,\n",
    "    if (segment IN ('Mass'), 0, 1) as is_managed,\n",
    "    is_fraud,\n",
    "    if (first_first_paid_consumption_datetime != '0000-00-00 00:00:00', 1, 0) as is_already_paid\n",
    "FROM \"//home/cloud_analytics/cubes/acquisition_cube/cube\" as a\n",
    "ANY LEFT JOIN(\n",
    "    SELECT\n",
    "        passport_uid as puid,\n",
    "        max(timezone) as timezone\n",
    "    FROM \"//home/cloud_analytics/import/iam/cloud_owners_history\"\n",
    "    GROUP BY passport_uid\n",
    ") as b\n",
    "ON a.puid == b.puid\n",
    "WHERE billing_account_id != ''\n",
    "AND event == 'ba_created'\n",
    "FORMAT TabSeparatedWithNames\n",
    "\"\"\")"
   ]
  },
  {
   "cell_type": "markdown",
   "metadata": {},
   "source": [
    "## scoring_leads_table"
   ]
  },
  {
   "cell_type": "code",
   "execution_count": 4,
   "metadata": {},
   "outputs": [],
   "source": [
    "leads_df = lib.execute_query(f\"\"\"\n",
    "SELECT\n",
    "    *\n",
    "FROM \"//home/cloud_analytics/scoring_v2/helping_folder_for_model/scored_users\"\n",
    "FORMAT TabSeparatedWithNames\n",
    "\"\"\")\n",
    "leads_df = pd.merge(leads_df, common_information_df, on='billing_account_id', how='inner')"
   ]
  },
  {
   "cell_type": "code",
   "execution_count": 5,
   "metadata": {},
   "outputs": [],
   "source": [
    "assert CURRENT_DATE == leads_df['scoring_date'].iloc[0]"
   ]
  },
  {
   "cell_type": "code",
   "execution_count": 6,
   "metadata": {},
   "outputs": [],
   "source": [
    "meta_info = lib.MetaInformationClass(interested_columns=[])\n",
    "meta_info.create_users_id()\n",
    "res_df = meta_info.get_dataframe_with_grouped_information()"
   ]
  },
  {
   "cell_type": "code",
   "execution_count": 7,
   "metadata": {},
   "outputs": [],
   "source": [
    "res_df = res_df[['billing_account_id', 'associated_billings']]\n",
    "leads_df = pd.merge(leads_df, res_df, on='billing_account_id', how='left')\n",
    "leads_df = leads_df[~leads_df['associated_billings'].apply(lambda x: not isinstance(x, list) or len(x) > 1)]\n",
    "leads_df = leads_df.rename(columns={'billing_account_id':'ba_id'})\n",
    "leads_df.drop(columns = ['associated_billings'], inplace=True)"
   ]
  },
  {
   "cell_type": "code",
   "execution_count": 8,
   "metadata": {},
   "outputs": [],
   "source": [
    "def make_description(row):\n",
    "    paid_proba = round(row['paid_proba'], 3)\n",
    "    call_proba = round(row['call_proba'], 3)\n",
    "    text = f\"paid_proba: {paid_proba}\\n\"\\\n",
    "           f\"call_proba: {call_proba}\"\n",
    "    return text"
   ]
  },
  {
   "cell_type": "code",
   "execution_count": 9,
   "metadata": {},
   "outputs": [],
   "source": [
    "leads_df['description'] = leads_df.apply(lambda row: make_description(row), axis=1)"
   ]
  },
  {
   "cell_type": "code",
   "execution_count": 10,
   "metadata": {},
   "outputs": [],
   "source": [
    "leads_df = leads_df[(leads_df['is_managed'] == 0) &\n",
    "                    (leads_df['is_fraud'] == 0) &\n",
    "                    (leads_df['is_already_paid'] == 0)]"
   ]
  },
  {
   "cell_type": "code",
   "execution_count": 11,
   "metadata": {},
   "outputs": [],
   "source": [
    "crm_leads = leads_df[(leads_df['paid_prediction'] == 1)]"
   ]
  },
  {
   "cell_type": "code",
   "execution_count": 12,
   "metadata": {},
   "outputs": [],
   "source": [
    "crm_leads.drop(columns = ['paid_proba', 'call_proba', \n",
    "                          'paid_prediction', 'call_prediction', 'is_managed',\n",
    "                          'is_fraud', 'is_already_paid'], inplace=True)"
   ]
  },
  {
   "cell_type": "code",
   "execution_count": 13,
   "metadata": {},
   "outputs": [],
   "source": [
    "lib.save_table(CURRENT_DATE,\n",
    "               '//home/cloud_analytics/scoring_v2/all_scoring_leads',\n",
    "               leads_df)"
   ]
  },
  {
   "cell_type": "code",
   "execution_count": 14,
   "metadata": {},
   "outputs": [],
   "source": [
    "lib.save_table(CURRENT_DATE,\n",
    "               '//home/cloud_analytics/scoring_v2/crm_leads',\n",
    "               crm_leads)"
   ]
  },
  {
   "cell_type": "markdown",
   "metadata": {},
   "source": [
    "# Metrics adding"
   ]
  },
  {
   "cell_type": "code",
   "execution_count": 15,
   "metadata": {},
   "outputs": [],
   "source": [
    "def matrics_adding(table_name, folder):\n",
    "    helping_metrics_df = lib.execute_query(f\"\"\"\n",
    "    SELECT\n",
    "        *\n",
    "    FROM \"//home/cloud_analytics/scoring_v2/helping_folder_for_model/{table_name}\"\n",
    "    FORMAT TabSeparatedWithNames\n",
    "    \"\"\")\n",
    "    final_metrics_df = lib.execute_query(f\"\"\"\n",
    "    SELECT\n",
    "        *\n",
    "    FROM \"//home/cloud_analytics/scoring_v2/{folder}/{table_name}\"\n",
    "    FORMAT TabSeparatedWithNames\n",
    "    \"\"\")\n",
    "    for col in helping_metrics_df.columns:\n",
    "        if isinstance(helping_metrics_df[col].iloc[0], list):\n",
    "            helping_metrics_df[col] = helping_metrics_df[col].astype(str)\n",
    "            final_metrics_df[col] = final_metrics_df[col].astype(str)\n",
    "            \n",
    "    prev_to_change =\\\n",
    "    final_metrics_df[final_metrics_df['scoring_date'] == helping_metrics_df['scoring_date'].iloc[0]]\n",
    "    \n",
    "    if len(prev_to_change) != 0:\n",
    "        ind = prev_to_change.index[0]\n",
    "        final_metrics_df.iloc[ind] = helping_metrics_df.iloc[0]\n",
    "    else:\n",
    "        final_metrics_df.loc[len(final_metrics_df)] = helping_metrics_df.iloc[0]\n",
    "    final_metrics_df = final_metrics_df.sort_values(by='scoring_date', ascending=False)\n",
    "    lib.save_table(table_name, f\"//home/cloud_analytics/scoring_v2/{folder}\",\n",
    "                   final_metrics_df)"
   ]
  },
  {
   "cell_type": "code",
   "execution_count": 16,
   "metadata": {},
   "outputs": [],
   "source": [
    "names = ['paid', 'call_answer']\n",
    "table_names = [\"_cross_validation_results\", '_last_users_validation_results']\n",
    "for name in names:\n",
    "    for table_suf in table_names:\n",
    "        table_name = name + table_suf\n",
    "        folder = name + \"_metrics\"\n",
    "        matrics_adding(table_name, folder)"
   ]
  },
  {
   "cell_type": "markdown",
   "metadata": {},
   "source": [
    "# Columns adding"
   ]
  },
  {
   "cell_type": "code",
   "execution_count": 17,
   "metadata": {},
   "outputs": [],
   "source": [
    "helping_columns_df = lib.execute_query(f\"\"\"\n",
    "SELECT\n",
    "    *\n",
    "FROM \"//home/cloud_analytics/scoring_v2/helping_folder_for_model/important_columns\"\n",
    "FORMAT TabSeparatedWithNames\n",
    "\"\"\")\n",
    "final_columns_df = lib.execute_query(f\"\"\"\n",
    "SELECT\n",
    "    *\n",
    "FROM \"//home/cloud_analytics/scoring_v2/feature_importance_columns/important_columns\"\n",
    "FORMAT TabSeparatedWithNames\n",
    "\"\"\")\n",
    "for col in helping_columns_df.columns:\n",
    "    helping_columns_df[col] = helping_columns_df[col].apply(lambda x: x.replace('\\\\', ''))\n",
    "    final_columns_df[col] = final_columns_df[col].apply(lambda x: x.replace('\\\\', ''))\n",
    "    \n",
    "prev_to_change =\\\n",
    "final_columns_df[final_columns_df['scoring_date'] == helping_columns_df['scoring_date'].iloc[0]]\n",
    "\n",
    "if len(prev_to_change) != 0:\n",
    "    ind = prev_to_change.index[0]\n",
    "    final_columns_df.iloc[ind] = helping_columns_df.iloc[0]\n",
    "else:\n",
    "    final_columns_df.loc[len(final_columns_df)] = helping_columns_df.iloc[0]\n",
    "\n",
    "final_columns_df = final_columns_df.sort_values(by='scoring_date', ascending=False)\n",
    "lib.save_table('important_columns', \"//home/cloud_analytics/scoring_v2/feature_importance_columns\",\n",
    "               final_columns_df)"
   ]
  },
  {
   "cell_type": "code",
   "execution_count": null,
   "metadata": {},
   "outputs": [],
   "source": []
  }
 ],
 "metadata": {
  "kernelspec": {
   "display_name": "Python 3",
   "language": "python",
   "name": "python3"
  },
  "language_info": {
   "codemirror_mode": {
    "name": "ipython",
    "version": 3
   },
   "file_extension": ".py",
   "mimetype": "text/x-python",
   "name": "python",
   "nbconvert_exporter": "python",
   "pygments_lexer": "ipython3",
   "version": "3.7.4"
  }
 },
 "nbformat": 4,
 "nbformat_minor": 2
}
