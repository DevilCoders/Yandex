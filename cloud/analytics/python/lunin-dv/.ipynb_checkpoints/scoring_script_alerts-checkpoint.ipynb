{
 "cells": [
  {
   "cell_type": "code",
   "execution_count": 1,
   "metadata": {},
   "outputs": [],
   "source": [
    "%load_ext autoreload\n",
    "%autoreload 2\n",
    "import ast\n",
    "import scipy.stats as sps\n",
    "from sklearn.model_selection import train_test_split\n",
    "import gc\n",
    "from sklearn.linear_model import LinearRegression\n",
    "from dateutil.parser import *\n",
    "import pandas as pd\n",
    "import numpy as np\n",
    "import os\n",
    "from collections import Counter\n",
    "import json\n",
    "import typing as tp\n",
    "from sklearn.preprocessing import normalize\n",
    "import my_library as lib\n",
    "from datetime import datetime\n",
    "from collections import Counter\n",
    "from catboost import CatBoostClassifier\n",
    "import time\n",
    "import math"
   ]
  },
  {
   "cell_type": "code",
   "execution_count": 2,
   "metadata": {},
   "outputs": [],
   "source": [
    "CURRENT_DATE = lib.execute_query(\"\"\"\n",
    "SELECT\n",
    "    current_predicting_scoring_date\n",
    "FROM \"//home/cloud_analytics/scoring_v2/helping_folder_for_model/model_scoring_date\"\n",
    "FORMAT TabSeparatedWithNames\n",
    "\"\"\").iloc[0, 0]"
   ]
  },
  {
   "cell_type": "code",
   "execution_count": 3,
   "metadata": {},
   "outputs": [],
   "source": [
    "alert_table = lib.execute_query(\"\"\"\n",
    "SELECT\n",
    "    *\n",
    "FROM \"//home/cloud_analytics/scoring_v2/alerts/alert_table\"\n",
    "FORMAT TabSeparatedWithNames\n",
    "\"\"\")\n",
    "no_alert_table = alert_table[alert_table['problems'] == 'OK']\n",
    "COMPARE_DATE = no_alert_table['scoring_date'].iloc[1]"
   ]
  },
  {
   "cell_type": "code",
   "execution_count": 4,
   "metadata": {},
   "outputs": [],
   "source": [
    "alert_table['description'] = alert_table['description'].apply(lambda x: x.replace(\"\\\\n\", '\\n'))\n",
    "alert_table['description'] = alert_table['description'].apply(lambda x: x.replace(\"\\\\\", ''))"
   ]
  },
  {
   "cell_type": "code",
   "execution_count": 5,
   "metadata": {},
   "outputs": [],
   "source": [
    "def columns_feature_checker():\n",
    "    column_table = lib.execute_query(\"\"\"\n",
    "    SELECT\n",
    "        *\n",
    "    FROM \"//home/cloud_analytics/scoring_v2/feature_importance_columns/important_columns\"\n",
    "    FORMAT TabSeparatedWithNames\n",
    "    \"\"\")\n",
    "    feature_columns = []\n",
    "    for col in column_table.columns:\n",
    "        if col != 'scoring_date':\n",
    "            feature_columns.append(col)\n",
    "            column_table[col] = column_table[col].apply(lambda x: ast.literal_eval(x.replace(\"\\\\\", \"\")))\n",
    "            \n",
    "    column_dict_before = column_table[column_table['scoring_date'] == COMPARE_DATE].iloc[0].to_dict()\n",
    "    column_dict_now = column_table[column_table['scoring_date'] == CURRENT_DATE].iloc[0].to_dict()\n",
    "    diff_500_pct =\\\n",
    "    len(set(column_dict_before['important_columns_500']) - \n",
    "        set(column_dict_now['important_columns_500'])) / 500 * 100\n",
    "    alert_description = \"\"\n",
    "    has_problems = 0\n",
    "    has_problems = max(has_problems, int(diff_500_pct > 30))\n",
    "    status = 'OK' if has_problems == 0 else \"ALERT\"\n",
    "    alert_description += f\"500 columns feature pct difference: {diff_500_pct}% - {status};\" +\\\n",
    "                        \"\\n=================\\n\"\n",
    "    return alert_description, has_problems"
   ]
  },
  {
   "cell_type": "code",
   "execution_count": 6,
   "metadata": {},
   "outputs": [],
   "source": [
    "def array_len(string_array):\n",
    "    return len(\" \".join(string_array.split()).split())"
   ]
  },
  {
   "cell_type": "code",
   "execution_count": 7,
   "metadata": {},
   "outputs": [],
   "source": [
    "def check_last_users_metrics(metric, last_users_now_dict, min_dict, confidence_inerval_dict):\n",
    "    alert_description = \"\"\n",
    "    min_val = confidence_inerval_dict[metric + '_mean'] - 3 * confidence_inerval_dict[metric + '_std']\n",
    "    #############################################\n",
    "    has_problem1 = int(last_users_now_dict[metric] < min_dict[metric])\n",
    "    status = 'OK' if has_problem1 == 0 else \"ALERT\"\n",
    "    alert_description += f\"last users {metric}: {last_users_now_dict[metric]} > {min_dict[metric]}\"\\\n",
    "    f\" - {status};\\n\"\n",
    "    #############################################\n",
    "    has_problem2 = int(last_users_now_dict[metric] < min_val)\n",
    "    status = 'OK' if has_problem2 == 0 else \"ALERT\"\n",
    "    alert_description += f\"last users {metric}: {last_users_now_dict[metric]}\"\\\n",
    "                         f\" in 99.7% conf interval (min: {round(min_val, 3)})\"\\\n",
    "                         f\" - {status};\\n\"\n",
    "    \n",
    "    return alert_description, max([has_problem2, has_problem1])"
   ]
  },
  {
   "cell_type": "code",
   "execution_count": 8,
   "metadata": {},
   "outputs": [],
   "source": [
    "def check_cross_val_mean_metrics(metric, confidence_inerval_dict_now, confidence_inerval_dict_before, min_dict):\n",
    "    alert_description = \"\"\n",
    "    mean_metric = metric + \"_mean\"\n",
    "    len_array = array_len(confidence_inerval_dict_before[metric + \"_array\"])\n",
    "    min_mean = confidence_inerval_dict_before[mean_metric] -\\\n",
    "               3 * confidence_inerval_dict_before[metric + \"_std\"] / np.sqrt(len_array)\n",
    "    \n",
    "    #############################################\n",
    "    has_problem1 = int(confidence_inerval_dict_now[mean_metric] < min_dict[metric])\n",
    "    status = 'OK' if has_problem1 == 0 else \"ALERT\"\n",
    "    \n",
    "    alert_description +=\\\n",
    "    f\"cross val mean {metric}: {confidence_inerval_dict_now[mean_metric]} > {min_dict[metric]}\"\\\n",
    "                         f\" - {status};\\n\"\n",
    "    #############################################\n",
    "    has_problem2 = int(confidence_inerval_dict_now[mean_metric] < min_mean)\n",
    "    status = 'OK' if has_problem2 == 0 else \"ALERT\"\n",
    "    \n",
    "    alert_description +=\\\n",
    "    f\"cross val mean {metric}: {confidence_inerval_dict_now[mean_metric]} in 99.7% conf interval\"\\\n",
    "                         f\" (min: {round(min_mean, 3)})\"\\\n",
    "                         f\" - {status};\\n\"\n",
    "\n",
    "    return alert_description, max([has_problem2, has_problem1])"
   ]
  },
  {
   "cell_type": "code",
   "execution_count": 9,
   "metadata": {},
   "outputs": [],
   "source": [
    "def check_metrics(target_type, last_users_min_dict, cross_val_min_dict):\n",
    "    folder = target_type + \"_metrics\"\n",
    "    name = target_type\n",
    "    alert_description = \"\"\n",
    "    has_problems = 0\n",
    "    \n",
    "    cross_val_name = name + '_cross_validation_results'\n",
    "    last_users_name = name + '_last_users_validation_results'\n",
    "    folder = name + '_metrics'\n",
    "\n",
    "    ################################\n",
    "    cross_val_metrics_df = lib.execute_query(f\"\"\"\n",
    "    SELECT\n",
    "        *\n",
    "    FROM \"//home/cloud_analytics/scoring_v2/{folder}/{cross_val_name}\"\n",
    "    FORMAT TabSeparatedWithNames\n",
    "    \"\"\")\n",
    "\n",
    "    last_users_metrics_df = lib.execute_query(f\"\"\"\n",
    "    SELECT\n",
    "        *\n",
    "    FROM \"//home/cloud_analytics/scoring_v2/{folder}/{last_users_name}\"\n",
    "    FORMAT TabSeparatedWithNames\n",
    "    \"\"\")\n",
    "    ################################\n",
    "    last_users_now_dict = last_users_metrics_df[\n",
    "        last_users_metrics_df['scoring_date'] == CURRENT_DATE\n",
    "    ].iloc[0].to_dict()\n",
    "    cross_val_now_dict = cross_val_metrics_df[\n",
    "        cross_val_metrics_df['scoring_date'] == CURRENT_DATE\n",
    "    ].iloc[0].to_dict()\n",
    "    cross_val_before_dict = cross_val_metrics_df[\n",
    "        cross_val_metrics_df['scoring_date'] == COMPARE_DATE\n",
    "    ].iloc[0].to_dict()\n",
    "    ################################\n",
    "    \n",
    "    new_description1, new_problem1 = check_last_users_metrics('precision', last_users_now_dict, \n",
    "                                     last_users_min_dict, cross_val_now_dict)\n",
    "    new_description2, new_problem2 = check_last_users_metrics('recall', last_users_now_dict, \n",
    "                                     last_users_min_dict, cross_val_now_dict)\n",
    "    \n",
    "    new_description3, new_problem3 = check_cross_val_mean_metrics('precision', cross_val_now_dict, \n",
    "                                                                  cross_val_before_dict, \n",
    "                                                                  cross_val_min_dict)\n",
    "    \n",
    "    new_description4, new_problem4 = check_cross_val_mean_metrics('recall', cross_val_now_dict, \n",
    "                                                                  cross_val_before_dict, \n",
    "                                                                  cross_val_min_dict)\n",
    "    alert_description = target_type + \":\\n\" + \\\n",
    "    new_description1 + new_description2 + new_description3 + new_description4 + \"=================\\n\"\n",
    "    has_problem = max([new_problem1, new_problem2, new_problem3, new_problem4])\n",
    "    return alert_description, has_problem"
   ]
  },
  {
   "cell_type": "code",
   "execution_count": 10,
   "metadata": {},
   "outputs": [],
   "source": [
    "alert_description1, has_problem1 = columns_feature_checker()"
   ]
  },
  {
   "cell_type": "code",
   "execution_count": 11,
   "metadata": {},
   "outputs": [],
   "source": [
    "paid_last_users_dict_min = {'precision': 0.33,\n",
    "                            'recall': 0.9}\n",
    "\n",
    "paid_cross_val_mean_dict_min = {'precision': 0.35,\n",
    "                                'recall': 0.92}\n",
    "alert_description2, has_problem2 = check_metrics('paid', \n",
    "                                                 paid_last_users_dict_min, \n",
    "                                                 paid_cross_val_mean_dict_min)"
   ]
  },
  {
   "cell_type": "code",
   "execution_count": 12,
   "metadata": {},
   "outputs": [],
   "source": [
    "call_last_users_dict_min = {'precision': 0.2,\n",
    "                            'recall': 0.92}\n",
    "\n",
    "call_cross_val_mean_dict_min = {'precision': 0.45,\n",
    "                                'recall': 0.9}\n",
    "alert_description3, has_problem3 = check_metrics('call_answer', \n",
    "                                                 call_last_users_dict_min, \n",
    "                                                 call_cross_val_mean_dict_min)"
   ]
  },
  {
   "cell_type": "code",
   "execution_count": 13,
   "metadata": {},
   "outputs": [],
   "source": [
    "alert_description = alert_description1 + alert_description2 + alert_description3"
   ]
  },
  {
   "cell_type": "code",
   "execution_count": 14,
   "metadata": {},
   "outputs": [],
   "source": [
    "has_problem = max([has_problem1, has_problem2, has_problem3])"
   ]
  },
  {
   "cell_type": "code",
   "execution_count": 15,
   "metadata": {},
   "outputs": [
    {
     "name": "stdout",
     "output_type": "stream",
     "text": [
      "500 columns feature pct difference: 10.0% - OK;\n",
      "=================\n",
      "paid:\n",
      "last users precision: 0.3704453441 > 0.33 - OK;\n",
      "last users precision: 0.3704453441 in 99.7% conf interval (min: 0.221) - OK;\n",
      "last users recall: 0.9219143577 > 0.9 - OK;\n",
      "last users recall: 0.9219143577 in 99.7% conf interval (min: 0.907) - OK;\n",
      "cross val mean precision: 0.3982280405 > 0.35 - OK;\n",
      "cross val mean precision: 0.3982280405 in 99.7% conf interval (min: 0.31) - OK;\n",
      "cross val mean recall: 0.9615380348 > 0.92 - OK;\n",
      "cross val mean recall: 0.9615380348 in 99.7% conf interval (min: 0.939) - OK;\n",
      "=================\n",
      "call_answer:\n",
      "last users precision: 0.2919369787 > 0.2 - OK;\n",
      "last users precision: 0.2919369787 in 99.7% conf interval (min: 0.174) - OK;\n",
      "last users recall: 0.9752321981 > 0.92 - OK;\n",
      "last users recall: 0.9752321981 in 99.7% conf interval (min: 0.79) - OK;\n",
      "cross val mean precision: 0.5002074437 > 0.45 - OK;\n",
      "cross val mean precision: 0.5002074437 in 99.7% conf interval (min: 0.346) - OK;\n",
      "cross val mean recall: 0.9104741713 > 0.9 - OK;\n",
      "cross val mean recall: 0.9104741713 in 99.7% conf interval (min: 0.846) - OK;\n",
      "=================\n",
      "\n"
     ]
    }
   ],
   "source": [
    "print(alert_description)"
   ]
  },
  {
   "cell_type": "code",
   "execution_count": 16,
   "metadata": {},
   "outputs": [],
   "source": [
    "status = 'OK' if has_problem == 0 else \"ALERT\""
   ]
  },
  {
   "cell_type": "code",
   "execution_count": 17,
   "metadata": {},
   "outputs": [],
   "source": [
    "final_adding_row = pd.DataFrame([{'scoring_date': CURRENT_DATE,\n",
    "                    'problems': status,\n",
    "                    'description': alert_description,\n",
    "                    'added_in_crm': 0}])"
   ]
  },
  {
   "cell_type": "code",
   "execution_count": 18,
   "metadata": {},
   "outputs": [],
   "source": [
    "if len(alert_table[alert_table['scoring_date'] == CURRENT_DATE]) == 0:\n",
    "    alert_table.loc[len(alert_table)] = final_adding_row.iloc[0]\n",
    "else:\n",
    "    curr_ind = alert_table[alert_table['scoring_date'] == CURRENT_DATE].index[0]\n",
    "    alert_table.iloc[curr_ind] = final_adding_row.iloc[0]"
   ]
  },
  {
   "cell_type": "code",
   "execution_count": 19,
   "metadata": {},
   "outputs": [],
   "source": [
    "alert_table = alert_table.sort_values(by='scoring_date', ascending=False)"
   ]
  },
  {
   "cell_type": "code",
   "execution_count": 20,
   "metadata": {},
   "outputs": [],
   "source": [
    "lib.save_table('alert_table', '//home/cloud_analytics/scoring_v2/alerts', alert_table)"
   ]
  },
  {
   "cell_type": "code",
   "execution_count": 21,
   "metadata": {},
   "outputs": [],
   "source": [
    "assert has_problem == 0, alert_description"
   ]
  },
  {
   "cell_type": "code",
   "execution_count": null,
   "metadata": {},
   "outputs": [],
   "source": []
  }
 ],
 "metadata": {
  "kernelspec": {
   "display_name": "Python 3",
   "language": "python",
   "name": "python3"
  },
  "language_info": {
   "codemirror_mode": {
    "name": "ipython",
    "version": 3
   },
   "file_extension": ".py",
   "mimetype": "text/x-python",
   "name": "python",
   "nbconvert_exporter": "python",
   "pygments_lexer": "ipython3",
   "version": "3.7.4"
  }
 },
 "nbformat": 4,
 "nbformat_minor": 2
}
