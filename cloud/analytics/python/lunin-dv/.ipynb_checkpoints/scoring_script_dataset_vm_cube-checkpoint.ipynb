{
 "cells": [
  {
   "cell_type": "code",
   "execution_count": 1,
   "metadata": {},
   "outputs": [
    {
     "name": "stderr",
     "output_type": "stream",
     "text": [
      "/home/lunin-dv/anaconda3/lib/python3.7/site-packages/statsmodels/tools/_testing.py:19: FutureWarning: pandas.util.testing is deprecated. Use the functions in the public API at pandas.testing instead.\n",
      "  import pandas.util.testing as tm\n"
     ]
    }
   ],
   "source": [
    "%load_ext autoreload\n",
    "%autoreload 2\n",
    "import scipy.stats as sps\n",
    "from sklearn.model_selection import train_test_split\n",
    "import gc\n",
    "from sklearn.linear_model import LinearRegression\n",
    "from dateutil.parser import *\n",
    "import pandas as pd\n",
    "import numpy as np\n",
    "import os\n",
    "from collections import Counter\n",
    "import json\n",
    "import typing as tp\n",
    "import my_library as lib\n",
    "from datetime import datetime"
   ]
  },
  {
   "cell_type": "code",
   "execution_count": 2,
   "metadata": {},
   "outputs": [],
   "source": [
    "DAYS_TO_OBSERVE = 14\n",
    "EMPTY_TYPE = 'undefined'\n",
    "column_types = set()\n",
    "TABLE_NAME = 'vm_info_table'"
   ]
  },
  {
   "cell_type": "code",
   "execution_count": 15,
   "metadata": {},
   "outputs": [],
   "source": [
    "def get_main_condition_request():\n",
    "    request = f\"\"\"\n",
    "    INNER JOIN (\n",
    "        SELECT\n",
    "            billing_account_id,\n",
    "            addDays(toDate(first_first_trial_consumption_datetime), 14) as scoring_date,\n",
    "            first_first_trial_consumption_datetime\n",
    "        FROM \"//home/cloud_analytics/cubes/acquisition_cube/cube\"\n",
    "        WHERE event == 'ba_created'\n",
    "        AND first_first_trial_consumption_datetime != '0000-00-00 00:00:00'\n",
    "        AND billing_account_id != ''\n",
    "    ) as b\n",
    "    ON billing_account_id == b.billing_account_id\n",
    "    WHERE toDate(vm_finish) < addDays(toDate(scoring_date), -1)\n",
    "    AND toDate(vm_start) > toDate(first_first_trial_consumption_datetime)\n",
    "    GROUP BY billing_account_id, scoring_date\n",
    "    \"\"\"\n",
    "    return request"
   ]
  },
  {
   "cell_type": "code",
   "execution_count": 4,
   "metadata": {},
   "outputs": [],
   "source": [
    "def core_and_preemtible_req():\n",
    "    column_types.add(\"min_cores_real:numeric\")\n",
    "    column_types.add(\"avg_cores_real:numeric\")\n",
    "    column_types.add(\"max_cores_real:numeric\")\n",
    "    \n",
    "    column_types.add(\"min_num_of_cores:numeric\")\n",
    "    column_types.add(\"avg_num_of_cores:numeric\")\n",
    "    column_types.add(\"max_num_of_cores:numeric\")\n",
    "    \n",
    "    column_types.add(\"diff_num_of_cores:numeric\")\n",
    "    column_types.add(\"different_core_number:numeric\")\n",
    "    column_types.add(\"different_core_more_than_one:binary\")\n",
    "    \n",
    "    column_types.add(\"is_5_pct_used:binary\")\n",
    "    column_types.add(\"is_100_pct_used:binary\")\n",
    "    column_types.add(\"is_middle_pct_used:binary\")\n",
    "    \n",
    "    column_types.add(\"is_preemtible:binary\")\n",
    "    column_types.add(\"num_of_preemtibles:numeric\")\n",
    "\n",
    "    part_req  = f\"\"\"\n",
    "    min(vm_cores_real) as min_cores_real,\n",
    "    avg(vm_cores_real) as avg_cores_real,\n",
    "    max(vm_cores_real) as max_cores_real,\n",
    "    \n",
    "    min(vm_cores) as min_num_of_cores,\n",
    "    avg(vm_cores) as avg_num_of_cores,\n",
    "    max(vm_cores) as max_num_of_cores,\n",
    "    \n",
    "    if(min(vm_core_fraction) == 5, 1, 0) as is_5_pct_used,\n",
    "    if(max(vm_core_fraction) == 100, 1, 0) as is_100_pct_used,\n",
    "    if(max(vm_core_fraction) != 100 and \n",
    "       max(vm_core_fraction) != 5, 1, 0) as is_middle_pct_used,\n",
    "    \n",
    "    max_num_of_cores - min_num_of_cores as diff_num_of_cores,\n",
    "    length(groupUniqArray(vm_cores)) as different_core_number,\n",
    "    if (different_core_number > 1, 1, 0) as different_core_more_than_one,\n",
    "    \n",
    "    max(vm_preemptible) as is_preemtible,\n",
    "    length(groupUniqArray(vm_preemptible)) as num_of_preemtibles\n",
    "    \n",
    "    \"\"\"\n",
    "    return part_req"
   ]
  },
  {
   "cell_type": "code",
   "execution_count": 5,
   "metadata": {},
   "outputs": [],
   "source": [
    "def vm_num_and_az_num_req():\n",
    "    column_types.add(\"num_of_vm:numeric\")\n",
    "    column_types.add(\"more_than_one_vm:binary\")\n",
    "    \n",
    "    column_types.add(\"az_num:numeric\")\n",
    "    column_types.add(\"more_than_one_az:binary\")\n",
    "    part_req = \"\"\"\n",
    "    length(groupUniqArray(vm_id)) as num_of_vm,\n",
    "    if (num_of_vm > 1, 1, 0) as more_than_one_vm,\n",
    "    \n",
    "    count(DISTINCT node_az) as az_num,\n",
    "    if (num_of_vm > 1, 1, 0) as more_than_one_az\n",
    "    \"\"\"\n",
    "    return part_req"
   ]
  },
  {
   "cell_type": "code",
   "execution_count": 6,
   "metadata": {},
   "outputs": [],
   "source": [
    "def cpu_req():\n",
    "    column_types.add(\"max_cpu_load_avg_avg:numeric\")\n",
    "    column_types.add(\"min_cpu_load_avg_avg:numeric\")\n",
    "    column_types.add(\"avg_cpu_load_avg_avg:numeric\")\n",
    "    column_types.add(\"median_cpu_load_avg_avg:numeric\")\n",
    "    column_types.add(\"std_cpu_load_avg_avg:numeric\")\n",
    "    \n",
    "    part_req = \"\"\"\n",
    "    max(vm_cpu_load_avg_avg) as max_cpu_load_avg_avg,\n",
    "    min(vm_cpu_load_avg_avg) as min_cpu_load_avg_avg,\n",
    "    avg(vm_cpu_load_avg_avg) as avg_cpu_load_avg_avg,\n",
    "    median(vm_cpu_load_avg_avg) as median_cpu_load_avg_avg,\n",
    "    stddevPop(vm_cpu_load_avg_avg) as std_cpu_load_avg_avg\n",
    "    \"\"\"\n",
    "    return part_req "
   ]
  },
  {
   "cell_type": "code",
   "execution_count": 7,
   "metadata": {},
   "outputs": [],
   "source": [
    "def memory_req():\n",
    "    column_types.add(\"max_vm_memory_real:numeric\")\n",
    "    \n",
    "    column_types.add(\"min_used_vm_memory_pct:numeric\")\n",
    "    column_types.add(\"max_used_vm_memory_pct:numeric\")\n",
    "    column_types.add(\"avg_used_vm_memory_pct:numeric\")\n",
    "    \n",
    "    column_types.add(\"min_vm_memory:numeric\")\n",
    "    column_types.add(\"avg_vm_memory:numeric\")\n",
    "    column_types.add(\"max_vm_memory:numeric\")\n",
    "    column_types.add(\"std_vm_memory:numeric\")\n",
    "    \n",
    "    column_types.add(\"vm_memory_to_cores_ratio:numeric\")\n",
    "    \n",
    "    part_req = \"\"\"\n",
    "    max(vm_memory_real) as max_vm_memory_real,\n",
    "    \n",
    "    min(vm_memory_real / vm_memory) * 100 as min_used_vm_memory_pct,\n",
    "    max(vm_memory_real / vm_memory) * 100 as max_used_vm_memory_pct,\n",
    "    avg(vm_memory_real / vm_memory) * 100 as avg_used_vm_memory_pct,\n",
    "    \n",
    "    min(vm_memory) as min_vm_memory,\n",
    "    avg(vm_memory) as avg_vm_memory,\n",
    "    max(vm_memory) as max_vm_memory,\n",
    "    stddevPop(vm_memory) as std_vm_memory,\n",
    "    \n",
    "    avg(vm_memory_to_cores_ratio) as vm_memory_to_cores_ratio\n",
    "    \"\"\"\n",
    "    return part_req "
   ]
  },
  {
   "cell_type": "code",
   "execution_count": 8,
   "metadata": {},
   "outputs": [],
   "source": [
    "def vm_product_req():\n",
    "    column_types.add(\"vm_product_name:json__10\")\n",
    "    \n",
    "    part_req = \"\"\"\n",
    "    groupUniqArray(vm_product_name) as vm_product_name\n",
    "    \"\"\"\n",
    "    return part_req "
   ]
  },
  {
   "cell_type": "code",
   "execution_count": 9,
   "metadata": {},
   "outputs": [],
   "source": [
    "request_texts_array = [core_and_preemtible_req(),\n",
    "                       vm_num_and_az_num_req(),\n",
    "                       cpu_req(),\n",
    "                       memory_req(),\n",
    "                       vm_product_req()]"
   ]
  },
  {
   "cell_type": "code",
   "execution_count": 10,
   "metadata": {},
   "outputs": [],
   "source": [
    "def make_vm_information_scoring_table(request_texts_array):\n",
    "    func_requests = \", \".join(request_texts_array)\n",
    "    \n",
    "    full_req = f\"\"\"\n",
    "SELECT\n",
    "    {func_requests},\n",
    "    ba_id as billing_account_id,\n",
    "    scoring_date\n",
    "FROM \"//home/cloud_analytics/compute_logs/vm_cube/vm_cube\" as a\n",
    "{get_main_condition_request()}\n",
    "FORMAT TabSeparatedWithNames\n",
    "        \"\"\".encode('utf-8')\n",
    "    #print(full_req.decode('utf-8'))\n",
    "    df = lib.execute_query(full_req)\n",
    "    df['vm_product_name'] = df['vm_product_name'].astype(str)\n",
    "\n",
    "    return df"
   ]
  },
  {
   "cell_type": "code",
   "execution_count": 11,
   "metadata": {},
   "outputs": [],
   "source": [
    "def save_types(column_types):\n",
    "    rows = []\n",
    "    for column_type in column_types:\n",
    "        column, current_type = column_type.split(':')\n",
    "        rows.append([column, current_type, TABLE_NAME])\n",
    "    type_df = pd.DataFrame(np.matrix(rows), columns=['column_name', 'type',\n",
    "                                                     'table_name'])\n",
    "    lib.save_table('type_table', \"//home/cloud_analytics/scoring_v2/data_tables\", \n",
    "                   type_df, append=True)\n",
    "\n",
    "\n",
    "def add_table_to_model_to_observe():\n",
    "    tables_df = pd.DataFrame([TABLE_NAME], columns=['table_names'])\n",
    "    lib.save_table('table_names_for_scoring_model', \n",
    "               \"//home/cloud_analytics/scoring_v2/data_tables\", \n",
    "               tables_df, append=True)\n",
    "    \n",
    "\n",
    "def check_types_correspondence(df, column_types):\n",
    "    req = \"\"\"\n",
    "    SELECT\n",
    "        type,\n",
    "        checker_function\n",
    "    FROM \"//home/cloud_analytics/scoring_v2/data_tables/column_type_description\"\n",
    "    FORMAT TabSeparatedWithNames\n",
    "    \"\"\"\n",
    "    type_df = lib.execute_query(req)\n",
    "\n",
    "    checker_functions = {}\n",
    "    for func_str in type_df['checker_function']:\n",
    "        exec(func_str.replace(\"\\\\n\", '\\n'), checker_functions)\n",
    "    \n",
    "    assert len(df.columns) == len(column_types) + 2, \\\n",
    "    'difference in number of columns in dataframe and in column_types, '\n",
    "    f'{len(column_types) + 2 - len(df.columns)}'\n",
    "    \n",
    "    for column_type in column_types:\n",
    "        column, curr_type = column_type.split(\":\")\n",
    "        curr_function_name = curr_type.split(\"__\")[0]\n",
    "        if checker_functions.get(curr_function_name + \"_checker\") is None:\n",
    "            assert False, f\"no type {curr_function_name}\"\n",
    "        assert checker_functions[curr_function_name + \"_checker\"](df, column),\\\n",
    "        f'{curr_function_name} check failed for column {column}'\n",
    "        \n",
    "\n",
    "def save_all_results(df):\n",
    "    check_types_correspondence(df, column_types)\n",
    "    lib.save_table(TABLE_NAME, \"//home/cloud_analytics/scoring_v2/data_tables\", df)\n",
    "    save_types(column_types)\n",
    "    add_table_to_model_to_observe()"
   ]
  },
  {
   "cell_type": "code",
   "execution_count": 12,
   "metadata": {},
   "outputs": [],
   "source": [
    "vm_df = make_vm_information_scoring_table(request_texts_array)"
   ]
  },
  {
   "cell_type": "code",
   "execution_count": 13,
   "metadata": {},
   "outputs": [],
   "source": [
    "save_all_results(vm_df)"
   ]
  },
  {
   "cell_type": "code",
   "execution_count": null,
   "metadata": {},
   "outputs": [],
   "source": []
  }
 ],
 "metadata": {
  "kernelspec": {
   "display_name": "Python 3",
   "language": "python",
   "name": "python3"
  },
  "language_info": {
   "codemirror_mode": {
    "name": "ipython",
    "version": 3
   },
   "file_extension": ".py",
   "mimetype": "text/x-python",
   "name": "python",
   "nbconvert_exporter": "python",
   "pygments_lexer": "ipython3",
   "version": "3.7.4"
  }
 },
 "nbformat": 4,
 "nbformat_minor": 2
}
