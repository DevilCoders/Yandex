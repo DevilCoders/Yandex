{
 "cells": [
  {
   "cell_type": "code",
   "execution_count": null,
   "metadata": {},
   "outputs": [],
   "source": [
    "%load_ext autoreload\n",
    "%autoreload 2\n",
    "import ast\n",
    "import scipy.stats as sps\n",
    "from sklearn.model_selection import train_test_split\n",
    "import gc\n",
    "from sklearn.linear_model import LinearRegression\n",
    "from dateutil.parser import *\n",
    "import pandas as pd\n",
    "import numpy as np\n",
    "import os\n",
    "from collections import Counter\n",
    "import json\n",
    "import typing as tp\n",
    "from sklearn.preprocessing import normalize\n",
    "import my_library as lib\n",
    "from datetime import datetime\n",
    "from collections import Counter\n",
    "from catboost import CatBoostClassifier\n",
    "import time\n",
    "import math\n",
    "from datetime import datetime, timedelta\n",
    "import yt.wrapper as yt"
   ]
  },
  {
   "cell_type": "code",
   "execution_count": null,
   "metadata": {},
   "outputs": [],
   "source": [
    "TABLE_DATE = lib.date_to_string(parse(lib.get_current_date_as_str()) - timedelta(1))\n",
    "TEST_TABLE_NAME = f\"//home/cloud_analytics/scoring_v2/crm_leads/{TABLE_DATE}\""
   ]
  },
  {
   "cell_type": "code",
   "execution_count": null,
   "metadata": {},
   "outputs": [],
   "source": [
    "alert_table = lib.execute_query(\"\"\"\n",
    "SELECT\n",
    "    *\n",
    "FROM \"//home/cloud_analytics/scoring_v2/alerts/alert_table\"\n",
    "FORMAT TabSeparatedWithNames\n",
    "\"\"\")"
   ]
  },
  {
   "cell_type": "code",
   "execution_count": null,
   "metadata": {},
   "outputs": [],
   "source": [
    "assert alert_table.loc[alert_table['scoring_date'] == TABLE_DATE, 'added_in_crm'].iloc[0] == 0,\\\n",
    "        \"already added in MQL\"\n",
    "assert alert_table.loc[alert_table['scoring_date'] == TABLE_DATE, 'problems'].iloc[0] == 'OK',\\\n",
    "        \"In this date was unsolved ALERT, if everything is fine, change value\"\\\n",
    "        \" in alert table in 'problems' cell \"\\\n",
    "        \"state from 'ALERT' to 'OK'\""
   ]
  },
  {
   "cell_type": "code",
   "execution_count": null,
   "metadata": {},
   "outputs": [],
   "source": [
    "df = lib.execute_query(f\"\"\"\n",
    "SELECT\n",
    "    *\n",
    "FROM \"{TEST_TABLE_NAME}\"\n",
    "FORMAT TabSeparatedWithNames\n",
    "\"\"\")\n",
    "df['description'] = df['description'].apply(lambda x: x.replace('\\\\n', '\\n'))\n",
    "df['phone'] = df['phone'].astype(str)\n",
    "df['score_points'] = 5\n",
    "df['score_type_id'] = 'Lead Score'\n",
    "df['dwh_score'] = 'inapplicable'\n",
    "df['description'] = df['description'].apply(lambda x: \"model prediction\\n\" + \n",
    "                                                                    x + '\\n')"
   ]
  },
  {
   "cell_type": "code",
   "execution_count": null,
   "metadata": {},
   "outputs": [],
   "source": [
    "test, control = train_test_split(df, test_size=0.5)"
   ]
  },
  {
   "cell_type": "code",
   "execution_count": null,
   "metadata": {},
   "outputs": [],
   "source": [
    "lib.save_table(MQL_TABLE_NAME, '//home/cloud_analytics/scoring_v2/AB_control_leads', control)\n",
    "lib.save_table(MQL_TABLE_NAME, '//home/cloud_analytics/scoring_v2/AB_control_leads', test)"
   ]
  },
  {
   "cell_type": "code",
   "execution_count": null,
   "metadata": {},
   "outputs": [],
   "source": [
    "lib.save_table(MQL_TABLE_NAME, '//home/cloud_analytics/export/crm/mql', test)"
   ]
  },
  {
   "cell_type": "code",
   "execution_count": null,
   "metadata": {},
   "outputs": [],
   "source": [
    "alert_table.loc[alert_table['scoring_date'] == TABLE_DATE, 'added_in_crm'] = 1"
   ]
  },
  {
   "cell_type": "code",
   "execution_count": null,
   "metadata": {},
   "outputs": [],
   "source": [
    "lib.save_table('alert_table', '//home/cloud_analytics/scoring_v2/alerts', alert_table)"
   ]
  }
 ],
 "metadata": {
  "kernelspec": {
   "display_name": "Python 3",
   "language": "python",
   "name": "python3"
  },
  "language_info": {
   "codemirror_mode": {
    "name": "ipython",
    "version": 3
   },
   "file_extension": ".py",
   "mimetype": "text/x-python",
   "name": "python",
   "nbconvert_exporter": "python",
   "pygments_lexer": "ipython3",
   "version": "3.7.4"
  }
 },
 "nbformat": 4,
 "nbformat_minor": 2
}
