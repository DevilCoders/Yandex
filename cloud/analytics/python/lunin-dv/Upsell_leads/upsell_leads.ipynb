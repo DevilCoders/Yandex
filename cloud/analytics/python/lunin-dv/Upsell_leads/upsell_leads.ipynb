{
 "cells": [
  {
   "cell_type": "code",
   "execution_count": 1,
   "metadata": {},
   "outputs": [],
   "source": [
    "import numpy as np\n",
    "import scipy as sp\n",
    "import scipy.stats as sps\n",
    "from sklearn.decomposition import PCA\n",
    "from sklearn.manifold import TSNE\n",
    "from sklearn.model_selection import train_test_split\n",
    "from sklearn.model_selection import train_test_split\n",
    "import gc\n",
    "import pandas as pd\n",
    "import matplotlib.pyplot as plt\n",
    "import seaborn as sns\n",
    "import os\n",
    "from dateutil.parser import parse\n",
    "from datetime import datetime, timedelta\n",
    "os.chdir('/Users/lunin-dv/Desktop/Library/')\n",
    "import importlib\n",
    "import my_library as lib\n",
    "importlib.reload(lib)\n",
    "os.chdir('/Users/lunin-dv/Desktop/Upsell/analysis')\n",
    "from collections import defaultdict\n",
    "import statsmodels.stats.api as sms\n",
    "import time"
   ]
  },
  {
   "cell_type": "code",
   "execution_count": 2,
   "metadata": {},
   "outputs": [],
   "source": [
    "import yt.wrapper as yt"
   ]
  },
  {
   "cell_type": "code",
   "execution_count": 3,
   "metadata": {},
   "outputs": [],
   "source": [
    "DATE = lib.get_current_date_as_str()"
   ]
  },
  {
   "cell_type": "code",
   "execution_count": 4,
   "metadata": {},
   "outputs": [],
   "source": [
    "MAX_LEADS_NUMBER = 50"
   ]
  },
  {
   "cell_type": "markdown",
   "metadata": {},
   "source": [
    "# CALL Infrormation table"
   ]
  },
  {
   "cell_type": "code",
   "execution_count": 5,
   "metadata": {},
   "outputs": [],
   "source": [
    "last_call_table = sorted(lib.find_tables_in_hahn_folder(\"//home/cloud_analytics/dwh/raw/crm/calls\"))[-1]\n",
    "users_table = sorted(lib.find_tables_in_hahn_folder('//home/cloud_analytics/dwh/raw/crm/users'))[-1]"
   ]
  },
  {
   "cell_type": "code",
   "execution_count": 6,
   "metadata": {},
   "outputs": [],
   "source": [
    "call_info_df = lib.execute_query(f\"\"\"\n",
    "SELECT\n",
    "    billing_account_id,\n",
    "    call_time,\n",
    "    lead_source,\n",
    "    lead_source_description,\n",
    "    status,\n",
    "    user_name\n",
    "FROM (\n",
    "SELECT\n",
    "    parent_id,\n",
    "    toDateTime(date_start) as call_time,\n",
    "    status,\n",
    "    user_name\n",
    "FROM \"{last_call_table}\" as calls\n",
    "LEFT JOIN (\n",
    "    SELECT\n",
    "        DISTINCT\n",
    "            user_name,\n",
    "            id\n",
    "    FROM \"{users_table}\"\n",
    ") as users\n",
    "ON calls.assigned_user_id == users.id\n",
    "WHERE parent_type == 'Leads'\n",
    ") as calls \n",
    "INNER JOIN (\n",
    "    SELECT\n",
    "        lead_id,\n",
    "        argMax(billing_account_id, date_modified) as billing_account_id,\n",
    "        argMax(lead_source, date_modified) as lead_source,\n",
    "        argMax(lead_source_description, date_modified) as lead_source_description\n",
    "    FROM \"//home/cloud_analytics/kulaga/leads_cube\"\n",
    "    GROUP BY lead_id\n",
    ") as crm_lead_info\n",
    "ON calls.parent_id == crm_lead_info.lead_id\n",
    "WHERE billing_account_id != ''\n",
    "FORMAT TabSeparatedWithNames\n",
    "\"\"\")"
   ]
  },
  {
   "cell_type": "code",
   "execution_count": 7,
   "metadata": {},
   "outputs": [],
   "source": [
    "lib.save_table(\"crm_call_infromation_for_billings\", \"//home/cloud_analytics/lunin-dv/crm\", call_info_df)"
   ]
  },
  {
   "cell_type": "markdown",
   "metadata": {},
   "source": [
    "# Business"
   ]
  },
  {
   "cell_type": "code",
   "execution_count": 8,
   "metadata": {},
   "outputs": [],
   "source": [
    "company_df = lib.execute_query(\"\"\"\n",
    "SELECT\n",
    "    DISTINCT \n",
    "    billing_account_id\n",
    "FROM (\n",
    "    SELECT\n",
    "        DISTINCT\n",
    "        billing_account_id,\n",
    "        if (ba_person_type like '%company%', 1, is_corporate_card) as is_company\n",
    "    FROM \"//home/cloud_analytics/cubes/acquisition_cube/cube\"\n",
    "\n",
    "    UNION ALL\n",
    "    SELECT \n",
    "        billing_account_id,\n",
    "        1 as is_company\n",
    "    FROM \"//home/cloud_analytics/import/crm/business_accounts/data\"\n",
    "    )\n",
    "WHERE is_company == 1\n",
    "FORMAT TabSeparatedWithNames\n",
    "\"\"\")"
   ]
  },
  {
   "cell_type": "code",
   "execution_count": 9,
   "metadata": {},
   "outputs": [],
   "source": [
    "company_bills = set(company_df['billing_account_id'])"
   ]
  },
  {
   "cell_type": "code",
   "execution_count": 10,
   "metadata": {},
   "outputs": [
    {
     "data": {
      "text/plain": [
       "11350"
      ]
     },
     "execution_count": 10,
     "metadata": {},
     "output_type": "execute_result"
    }
   ],
   "source": [
    "len(company_df)"
   ]
  },
  {
   "cell_type": "markdown",
   "metadata": {},
   "source": [
    "# Additional conditions"
   ]
  },
  {
   "cell_type": "code",
   "execution_count": 11,
   "metadata": {},
   "outputs": [],
   "source": [
    "condition_df = lib.execute_query(f\"\"\"\n",
    "SELECT\n",
    "    DISTINCT\n",
    "    billing_account_id\n",
    "FROM \"//home/cloud_analytics/cubes/acquisition_cube/cube\"\n",
    "WHERE event == 'ba_created'\n",
    "AND block_reason NOT IN ('manual', 'mining')\n",
    "AND segment NOT IN ('Large ISV', 'Medium', 'Enterprise', 'VAR')\n",
    "AND ba_usage_status != 'service'\n",
    "AND is_fraud = 0\n",
    "AND ba_state != 'inactive'\n",
    "AND ba_state != 'payment_not_confirmed'\n",
    "FORMAT TabSeparatedWithNames\n",
    "\"\"\")"
   ]
  },
  {
   "cell_type": "code",
   "execution_count": 12,
   "metadata": {},
   "outputs": [],
   "source": [
    "condition_bills = set(condition_df['billing_account_id'])"
   ]
  },
  {
   "cell_type": "code",
   "execution_count": 13,
   "metadata": {},
   "outputs": [
    {
     "data": {
      "text/plain": [
       "7114"
      ]
     },
     "execution_count": 13,
     "metadata": {},
     "output_type": "execute_result"
    }
   ],
   "source": [
    "len(condition_bills & company_bills)"
   ]
  },
  {
   "cell_type": "markdown",
   "metadata": {},
   "source": [
    "# Paid + NO ML"
   ]
  },
  {
   "cell_type": "code",
   "execution_count": 14,
   "metadata": {},
   "outputs": [],
   "source": [
    "paid_no_ml_df = lib.execute_query(f\"\"\"\n",
    "SELECT\n",
    "    billing_account_id,\n",
    "    SUM(if(service_name != 'cloud_ai', real_consumption, 0)) as not_ai_consumption\n",
    "FROM \"//home/cloud_analytics/cubes/acquisition_cube/cube\"\n",
    "WHERE toDate(event_time) >= addDays(toDate('{DATE}'), -14)\n",
    "and toDate(event_time) < toDate('{DATE}')\n",
    "GROUP BY billing_account_id\n",
    "HAVING not_ai_consumption > 0\n",
    "FORMAT TabSeparatedWithNames\n",
    "\"\"\")"
   ]
  },
  {
   "cell_type": "code",
   "execution_count": 15,
   "metadata": {},
   "outputs": [],
   "source": [
    "paid_no_ml_bills = set(paid_no_ml_df['billing_account_id'])"
   ]
  },
  {
   "cell_type": "code",
   "execution_count": 16,
   "metadata": {},
   "outputs": [
    {
     "data": {
      "text/plain": [
       "7715"
      ]
     },
     "execution_count": 16,
     "metadata": {},
     "output_type": "execute_result"
    }
   ],
   "source": [
    "len(paid_no_ml_bills)"
   ]
  },
  {
   "cell_type": "markdown",
   "metadata": {},
   "source": [
    "# CALLS"
   ]
  },
  {
   "cell_type": "code",
   "execution_count": 17,
   "metadata": {},
   "outputs": [],
   "source": [
    "call_df = lib.execute_query(f\"\"\"\n",
    "SELECT\n",
    "    billing_account_id,\n",
    "    if(isNull(last_call_time) or last_call_time = '', ba_created_datetime, last_call_time) as last_call_time,\n",
    "    if(isNull(for_plateau_users_call_time) or for_plateau_users_call_time = '', \n",
    "    ba_created_datetime, last_call_time) as for_plateau_users_last_call_time,\n",
    "    \n",
    "    if(isNull(last_source) or last_source = '', 'unknown', last_source) as last_source,\n",
    "    dateDiff('day', toDate(last_call_time), toDate('{DATE}')) as day_diff,\n",
    "    dateDiff('day', toDate(for_plateau_users_last_call_time), toDate('{DATE}')) as plateau_day_diff,\n",
    "    if (day_diff > 70, 1, 0) as contact_more_then_70_days,\n",
    "    if (plateau_day_diff > 30, 1, 0) as plateau_can_be_used\n",
    "FROM (\n",
    "    SELECT\n",
    "        billing_account_id,\n",
    "        event_time as ba_created_datetime\n",
    "    FROM \"//home/cloud_analytics/cubes/acquisition_cube/cube\"\n",
    "    WHERE event == 'ba_created'\n",
    ") as cube\n",
    "    LEFT JOIN (\n",
    "    SELECT\n",
    "        billing_account_id,\n",
    "        MAX(call_time) as last_call_time,\n",
    "        argMax(lead_source, call_time) as last_source,\n",
    "        MAX(if (lead_source in ('cold_calls', 'upsell', 'Marketo'), call_time, null)) \n",
    "        as for_plateau_users_call_time\n",
    "    FROM \"//home/cloud_analytics/lunin-dv/crm/crm_call_infromation_for_billings\"\n",
    "    WHERE \n",
    "    status == 'Held'\n",
    "    AND \n",
    "    billing_account_id NOT IN \n",
    "        (SELECT DISTINCT ba_id FROM \"//home/cloud_analytics/export/crm/mql/2019-10-21T10:00:00\")\n",
    "    GROUP BY\n",
    "        billing_account_id\n",
    ") as call_info\n",
    "on cube.billing_account_id == call_info.billing_account_id\n",
    "FORMAT TabSeparatedWithNames\n",
    "\"\"\")"
   ]
  },
  {
   "cell_type": "markdown",
   "metadata": {},
   "source": [
    "# Плато"
   ]
  },
  {
   "cell_type": "code",
   "execution_count": 18,
   "metadata": {},
   "outputs": [],
   "source": [
    "plateau_df = lib.execute_query(f\"\"\"\n",
    "SELECT\n",
    "    billing_account_id,\n",
    "    avg(day_consumption) as avg_consumption,\n",
    "    stddevPop(day_consumption) as std_consumption,\n",
    "    if(std_consumption / avg_consumption * 100 <= 10.0, 1, 0) as is_plateau\n",
    "FROM (\n",
    "    SELECT\n",
    "        billing_account_id,\n",
    "        if (isNull(day_consumption), 0, day_consumption) as day_consumption,\n",
    "        DATE\n",
    "    FROM (\n",
    "        SELECT\n",
    "            billing_account_id,\n",
    "            arrayJoin(arrayMap(x -> addDays(addDays(toDate('{DATE}'), -14), x),\n",
    "                         range(14))) as DATE\n",
    "        FROM \"//home/cloud_analytics/cubes/acquisition_cube/cube\"\n",
    "        WHERE \n",
    "            event == 'ba_created'\n",
    "        and\n",
    "            billing_account_id in (\n",
    "                                    SELECT DISTINCT billing_account_id\n",
    "                                    FROM \"//home/cloud_analytics/cubes/acquisition_cube/cube\"\n",
    "                                    WHERE event = 'day_use'\n",
    "                                    AND real_consumption > 0\n",
    "                                    AND toDate(event_time) >= addDays(toDate('{DATE}'), -14)\n",
    "                                    AND toDate(event_time) < toDate('{DATE}')\n",
    "                                  )\n",
    "    ) as main\n",
    "    ANY LEFT JOIN (\n",
    "        SELECT\n",
    "            billing_account_id,\n",
    "            toDate(event_time) as DATE,\n",
    "            SUM(real_consumption) as day_consumption\n",
    "        FROM \"//home/cloud_analytics/cubes/acquisition_cube/cube\"\n",
    "        WHERE toDate(event_time) >= addDays(toDate('{DATE}'), -14)\n",
    "        and toDate(event_time) < toDate('{DATE}')\n",
    "        and event = 'day_use'\n",
    "        GROUP BY billing_account_id, DATE\n",
    "    ) as cons\n",
    "    ON main.billing_account_id == cons.billing_account_id and main.DATE == cons.DATE\n",
    "    ORDER BY billing_account_id, DATE\n",
    ")\n",
    "GROUP BY billing_account_id\n",
    "FORMAT TabSeparatedWithNames\n",
    "\"\"\")"
   ]
  },
  {
   "cell_type": "markdown",
   "metadata": {},
   "source": [
    "# Main information"
   ]
  },
  {
   "cell_type": "code",
   "execution_count": 19,
   "metadata": {},
   "outputs": [],
   "source": [
    "df = lib.execute_query(f\"\"\"\n",
    "SELECT\n",
    "    billing_account_id,\n",
    "    if(phone == '', ifNull(crm_phone, ''), phone) as phone,\n",
    "    email,\n",
    "    timezone,\n",
    "    first_name,\n",
    "    last_name,\n",
    "    client_name,\n",
    "    segment,\n",
    "    ba_person_type\n",
    "FROM (\n",
    "    SELECT\n",
    "        DISTINCT\n",
    "        billing_account_id,\n",
    "        puid,\n",
    "        segment,\n",
    "        ba_person_type,\n",
    "        multiIf(\n",
    "            user_settings_email LIKE '%@yandex.%' OR user_settings_email LIKE '%@ya.%',\n",
    "            CONCAT(lower(\n",
    "                   replaceAll(\n",
    "                   splitByString('@', assumeNotNull(user_settings_email))[1], \n",
    "                   '.', '-'\n",
    "                   )\n",
    "                   ), '@yandex.ru'),\n",
    "            lower(user_settings_email)\n",
    "        ) as email,\n",
    "        phone,\n",
    "        crm_phone,\n",
    "        multiIf(first_name IS NULL OR first_name = '', 'unknown', first_name) as first_name,\n",
    "        multiIf(last_name IS NULL OR last_name = '', 'unknown', last_name) as last_name,\n",
    "        multiIf(account_name IS NULL OR account_name = '', 'unknown', account_name) as client_name,\n",
    "        ba_person_type\n",
    "    FROM \"//home/cloud_analytics/cubes/acquisition_cube/cube\" as cube\n",
    "    ANY LEFT JOIN (\n",
    "        SELECT\n",
    "            DISTINCT \n",
    "            billing_account_id,\n",
    "            phone as crm_phone\n",
    "        FROM \"//home/cloud_analytics/import/crm/business_accounts/data\"\n",
    "    ) as crm\n",
    "    ON cube.billing_account_id == crm.billing_account_id\n",
    "    WHERE puid != ''\n",
    "    AND event == 'ba_created'\n",
    ") as main\n",
    "ANY LEFT JOIN(\n",
    "    SELECT\n",
    "        DISTINCT\n",
    "        passport_uid as puid,\n",
    "        timezone\n",
    "    FROM \"//home/cloud_analytics/import/iam/cloud_owners_history\"\n",
    "    WHERE\n",
    "        puid != ''\n",
    ") as tm\n",
    "ON main.puid == tm.puid\n",
    "FORMAT TabSeparatedWithNames\n",
    "\"\"\")"
   ]
  },
  {
   "cell_type": "markdown",
   "metadata": {},
   "source": [
    "# BD on vm"
   ]
  },
  {
   "cell_type": "code",
   "execution_count": 20,
   "metadata": {},
   "outputs": [],
   "source": [
    "bd_on_vm = lib.execute_query(\"\"\"\n",
    "SELECT\n",
    "    billing_account_id,\n",
    "    arrayStringConcat(data_bases, ',') as data_bases\n",
    "FROM (\n",
    "    SELECT\n",
    "        billing_account_id,\n",
    "        SUM(multiIf(service_name = 'mdb', real_consumption, 0)) as mdb_paid\n",
    "    FROM \"//home/cloud_analytics/cubes/acquisition_cube/cube\"\n",
    "    WHERE\n",
    "        event = 'day_use'\n",
    "        AND real_consumption_vat > 0\n",
    "    GROUP BY\n",
    "        billing_account_id\n",
    "    HAVING mdb_paid <= 0\n",
    ") as cube\n",
    "LEFT JOIN (\n",
    "    SELECT\n",
    "        billing_account_id,\n",
    "        arraySort(arrayDistinct(groupArray(db))) as data_bases\n",
    "    FROM \"//home/cloud_analytics/import/network-logs/db-on-vm/data\"\n",
    "    WHERE\n",
    "        billing_account_id IS NOT NULL\n",
    "        AND billing_account_id != ''\n",
    "    GROUP BY\n",
    "        billing_account_id\n",
    ") as db\n",
    "ON cube.billing_account_id == db.billing_account_id\n",
    "FORMAT TabSeparatedWithNames\n",
    "\"\"\")"
   ]
  },
  {
   "cell_type": "markdown",
   "metadata": {},
   "source": [
    "# MERGE"
   ]
  },
  {
   "cell_type": "code",
   "execution_count": 21,
   "metadata": {},
   "outputs": [],
   "source": [
    "main_df = df.copy()\n",
    "main_df = pd.merge(main_df, call_df, on = 'billing_account_id', how='left')\n",
    "main_df = pd.merge(main_df, plateau_df, on = 'billing_account_id', how='left')\n",
    "main_df = pd.merge(main_df, bd_on_vm, on = 'billing_account_id', how='left')\n",
    "main_df['description'] = main_df['data_bases'].apply(\n",
    "    lambda x: 'Client Use BD on VM: ' if x == '' or pd.isnull(x) else x)\n",
    "assert main_df.shape[0] == df.shape[0]\n",
    "main_df = main_df[main_df['billing_account_id'].isin(company_bills)]\n",
    "main_df = main_df[main_df['billing_account_id'].isin(condition_bills)]"
   ]
  },
  {
   "cell_type": "code",
   "execution_count": 22,
   "metadata": {},
   "outputs": [],
   "source": [
    "def lead_source_creator(row):\n",
    "    if row['is_plateau'] == 1:\n",
    "        return 'upsell'\n",
    "    if row['contact_more_then_70_days'] == 1:\n",
    "        return 'contact more then 70 days'\n",
    "    return 'other'"
   ]
  },
  {
   "cell_type": "code",
   "execution_count": 23,
   "metadata": {},
   "outputs": [],
   "source": [
    "main_df['lead_source'] = main_df.apply(lambda row: lead_source_creator(row) , axis=1)"
   ]
  },
  {
   "cell_type": "code",
   "execution_count": 24,
   "metadata": {},
   "outputs": [],
   "source": [
    "upsell_main_df = main_df[main_df['lead_source'] == 'upsell']\n",
    "upsell_main_df = upsell_main_df[upsell_main_df['billing_account_id'].isin(paid_no_ml_bills)]"
   ]
  },
  {
   "cell_type": "code",
   "execution_count": 25,
   "metadata": {},
   "outputs": [],
   "source": [
    "not_contacted_main_df = main_df[main_df['lead_source'] == 'contact more then 70 days']"
   ]
  },
  {
   "cell_type": "code",
   "execution_count": 26,
   "metadata": {},
   "outputs": [],
   "source": [
    "days_before_to_observe = 70\n",
    "old_experiment_table_max = sorted(lib.find_tables_in_hahn_folder(\"//home/cloud_analytics/export/crm/upsale\"))[-1]\n",
    "max_date = old_experiment_table_max.split(\"/\")[-1]\n",
    "min_date = lib.date_to_string(datetime.now() - timedelta(days=70)) + \" 00:00:00\""
   ]
  },
  {
   "cell_type": "code",
   "execution_count": 46,
   "metadata": {},
   "outputs": [],
   "source": [
    "old_experiment_bills = lib.execute_query(f\"\"\"\n",
    "SELECT DISTINCT billing_account_id\n",
    "FROM concatYtTablesRange(\"//home/cloud_analytics/export/crm/upsale\")\n",
    "\n",
    "UNION ALL\n",
    "\n",
    "SELECT DISTINCT billing_account_id \n",
    "FROM \"//home/cloud_analytics/smb/upsell_exp/exp_users\" WHERE group = 'test'\n",
    "FORMAT TabSeparatedWithNames\n",
    "\"\"\")"
   ]
  },
  {
   "cell_type": "code",
   "execution_count": 47,
   "metadata": {},
   "outputs": [],
   "source": [
    "# old_experiment_bills = lib.execute_query(f\"\"\"\n",
    "# SELECT DISTINCT billing_account_id\n",
    "# FROM concatYtTablesRange(\"//home/cloud_analytics/export/crm/upsale\", '{min_date}', '{max_date}')\n",
    "# FORMAT TabSeparatedWithNames\n",
    "# \"\"\")"
   ]
  },
  {
   "cell_type": "code",
   "execution_count": null,
   "metadata": {},
   "outputs": [],
   "source": [
    "old_experiment_bills.shape"
   ]
  },
  {
   "cell_type": "code",
   "execution_count": 30,
   "metadata": {},
   "outputs": [],
   "source": [
    "upsell_final = upsell_main_df[\n",
    "    ~upsell_main_df['billing_account_id'].isin(old_experiment_bills['billing_account_id'])\n",
    "]\n",
    "upsell_final = upsell_final[(upsell_final['phone'] != '') &\n",
    "                            (upsell_final['plateau_can_be_used'] == 1)]"
   ]
  },
  {
   "cell_type": "code",
   "execution_count": 31,
   "metadata": {},
   "outputs": [],
   "source": [
    "not_contacted_final = not_contacted_main_df[\n",
    "    ~not_contacted_main_df['billing_account_id'].isin(old_experiment_bills['billing_account_id'])\n",
    "]\n",
    "not_contacted_final = not_contacted_final[not_contacted_final['phone'] != '']"
   ]
  },
  {
   "cell_type": "code",
   "execution_count": 32,
   "metadata": {},
   "outputs": [],
   "source": [
    "columns = ['billing_account_id', 'email', 'phone', \n",
    "           'first_name', 'last_name', 'client_name', 'timezone',\n",
    "           'lead_source', 'description']"
   ]
  },
  {
   "cell_type": "code",
   "execution_count": 33,
   "metadata": {},
   "outputs": [],
   "source": [
    "upsell_final = upsell_final[columns]\n",
    "not_contacted_final = not_contacted_final[columns]\n",
    "final = lib.concatenate_tables([upsell_final, not_contacted_final])"
   ]
  },
  {
   "cell_type": "code",
   "execution_count": 36,
   "metadata": {},
   "outputs": [],
   "source": [
    "if final.shape[0] < MAX_LEADS_NUMBER and parse(max_date) < parse(DATE):\n",
    "    old_experiment_bills_not_full = lib.execute_query(f\"\"\"\n",
    "    SELECT DISTINCT billing_account_id\n",
    "    FROM concatYtTablesRange(\"//home/cloud_analytics/export/crm/upsale\", '{min_date}', '{max_date}')\n",
    "    FORMAT TabSeparatedWithNames\n",
    "    \"\"\")\n",
    "    ########################################################\n",
    "    upsell_adding_old = upsell_main_df[\n",
    "        (~upsell_main_df['billing_account_id'].isin(old_experiment_bills_not_full['billing_account_id'])) &\n",
    "        (~upsell_main_df['billing_account_id'].isin(final['billing_account_id']))\n",
    "    ]\n",
    "    upsell_adding_old = upsell_adding_old[(upsell_adding_old['phone'] != '') &\n",
    "                                          (upsell_adding_old['plateau_can_be_used'] == 1)]\n",
    "    upsell_adding_old = upsell_adding_old[columns]\n",
    "    ########################################################\n",
    "    not_contacted_adding_old = not_contacted_main_df[\n",
    "        (~not_contacted_main_df['billing_account_id'].isin(old_experiment_bills_not_full['billing_account_id'])) &\n",
    "        (~not_contacted_main_df['billing_account_id'].isin(final['billing_account_id']))\n",
    "    ]\n",
    "    not_contacted_adding_old = not_contacted_adding_old[not_contacted_adding_old['phone'] != '']\n",
    "    not_contacted_adding_old = not_contacted_adding_old[columns]\n",
    "    ########################################################\n",
    "    adding_num = MAX_LEADS_NUMBER - final.shape[0]\n",
    "    upsell_adding_num = min(adding_num, upsell_adding_old.shape[0])\n",
    "    adding_num -= upsell_adding_num\n",
    "    not_contacted_adding_num = min(adding_num, not_contacted_adding_old.shape[0])\n",
    "    final = lib.concatenate_tables([final, upsell_adding_old.head(upsell_adding_num),\n",
    "                                   not_contacted_adding_old.head(not_contacted_adding_num)])"
   ]
  },
  {
   "cell_type": "code",
   "execution_count": 40,
   "metadata": {},
   "outputs": [
    {
     "data": {
      "text/plain": [
       "(0, 9)"
      ]
     },
     "execution_count": 40,
     "metadata": {},
     "output_type": "execute_result"
    }
   ],
   "source": [
    "final.shape"
   ]
  },
  {
   "cell_type": "code",
   "execution_count": 41,
   "metadata": {},
   "outputs": [],
   "source": [
    "table_name = str(datetime.now()).split('.')[0]"
   ]
  },
  {
   "cell_type": "code",
   "execution_count": 42,
   "metadata": {},
   "outputs": [],
   "source": [
    "if final.shape[0] > 0:\n",
    "    table_name = str(datetime.now()).split('.')[0]\n",
    "    lib.save_table(table_name, '//home/cloud_analytics/export/crm/upsale', final)"
   ]
  },
  {
   "cell_type": "code",
   "execution_count": null,
   "metadata": {},
   "outputs": [],
   "source": []
  }
 ],
 "metadata": {
  "kernelspec": {
   "display_name": "Python 3",
   "language": "python",
   "name": "python3"
  },
  "language_info": {
   "codemirror_mode": {
    "name": "ipython",
    "version": 3
   },
   "file_extension": ".py",
   "mimetype": "text/x-python",
   "name": "python",
   "nbconvert_exporter": "python",
   "pygments_lexer": "ipython3",
   "version": "3.7.4"
  }
 },
 "nbformat": 4,
 "nbformat_minor": 2
}
