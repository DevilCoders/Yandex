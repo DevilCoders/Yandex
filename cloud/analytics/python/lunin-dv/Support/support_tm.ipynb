{
 "cells": [
  {
   "cell_type": "code",
   "execution_count": 29,
   "metadata": {},
   "outputs": [],
   "source": [
    "import numpy as np\n",
    "import scipy as sp\n",
    "import scipy.stats as sps\n",
    "from sklearn.decomposition import PCA\n",
    "from sklearn.manifold import TSNE\n",
    "from sklearn.model_selection import train_test_split\n",
    "from sklearn.model_selection import train_test_split\n",
    "import gc\n",
    "import pandas as pd\n",
    "import matplotlib.pyplot as plt\n",
    "import seaborn as sns\n",
    "import os\n",
    "from dateutil.parser import parse\n",
    "from datetime import datetime, timedelta\n",
    "os.chdir('/Users/lunin-dv/Desktop/Library/')\n",
    "import importlib\n",
    "import robot_lib as lib\n",
    "importlib.reload(lib)\n",
    "import json"
   ]
  },
  {
   "cell_type": "code",
   "execution_count": 9,
   "metadata": {},
   "outputs": [
    {
     "name": "stderr",
     "output_type": "stream",
     "text": [
      "2020-09-30 18:25:32,087\tINFO\tTransfer task started: https://transfer-manager.yt.yandex-team.ru/task?id=37b4069d-aec44d7a-b1369ece-94112b93&tab=details&backend=production\n"
     ]
    }
   ],
   "source": [
    "lib.save_table_from_yt_to_grafana(\n",
    "    \"//home/cloud/billing/exported-support-tables/tickets_prod\",\n",
    "    \"cloud_analytics.support_tickets_prod\", sort_col='iam_user_id')"
   ]
  },
  {
   "cell_type": "code",
   "execution_count": 3,
   "metadata": {},
   "outputs": [
    {
     "name": "stderr",
     "output_type": "stream",
     "text": [
      "2020-05-02 21:09:22,079\tINFO\tTransfer task started: https://transfer-manager.yt.yandex-team.ru/task?id=73aaac66-9ff15364-760999ff-eeab458e&tab=details&backend=production\n"
     ]
    }
   ],
   "source": [
    "lib.save_table_from_yt_to_grafana(\n",
    "    \"//home/cloud/billing/exported-support-tables/comments_prod\",\n",
    "    \"cloud_analytics.support_comments_prod\", sort_col='iam_user_id')"
   ]
  },
  {
   "cell_type": "code",
   "execution_count": 11,
   "metadata": {},
   "outputs": [],
   "source": [
    "import re"
   ]
  },
  {
   "cell_type": "code",
   "execution_count": 12,
   "metadata": {},
   "outputs": [],
   "source": [
    "req = \"\"\"\n",
    "SELECT \n",
    "    *\n",
    "FROM \"//home/cloud/billing/exported-support-tables/feedback_prod\"\n",
    "FORMAT TabSeparatedWithNames\n",
    "\"\"\"\n",
    "feedback_df = lib.execute_query(req)"
   ]
  },
  {
   "cell_type": "code",
   "execution_count": 13,
   "metadata": {},
   "outputs": [],
   "source": [
    "questions = ['one', 'two', 'three', 'four']"
   ]
  },
  {
   "cell_type": "code",
   "execution_count": 14,
   "metadata": {},
   "outputs": [],
   "source": [
    "def work_with_cuestion(x, question):\n",
    "    find = re.search(f'.*\"{question}\": \"(.[^,]*)\"', x,\n",
    "                     re.IGNORECASE)\n",
    "    if find is not None:\n",
    "        if question != 'four':\n",
    "            return int(find.group(1))\n",
    "        return \"filled\"\n",
    "    return None"
   ]
  },
  {
   "cell_type": "code",
   "execution_count": 15,
   "metadata": {},
   "outputs": [],
   "source": [
    "for q in questions:\n",
    "    feedback_df[f\"question_{q}\"] = feedback_df['responses'].apply(lambda x:\n",
    "                                                                  work_with_cuestion(x, q))"
   ]
  },
  {
   "cell_type": "code",
   "execution_count": 30,
   "metadata": {},
   "outputs": [],
   "source": [
    "lib.save_table(\"support_feedback_prod\", \"//home/cloud_analytics/lunin-dv/dashboard_tables\",\n",
    "               feedback_df, schema={\"id\": str})"
   ]
  },
  {
   "cell_type": "code",
   "execution_count": 10,
   "metadata": {},
   "outputs": [
    {
     "name": "stderr",
     "output_type": "stream",
     "text": [
      "2020-05-02 21:11:30,551\tINFO\tTransfer task started: https://transfer-manager.yt.yandex-team.ru/task?id=f300ae6f-3eb5b6f8-68406494-b73e32d1&tab=details&backend=production\n"
     ]
    }
   ],
   "source": [
    "lib.save_table_from_yt_to_grafana(\n",
    "    \"//home/cloud_analytics/lunin-dv/dashboard_tables/support_feedback_prod\",\n",
    "    \"cloud_analytics.support_feedback_prod\", sort_col='iam_user_id')"
   ]
  },
  {
   "cell_type": "code",
   "execution_count": null,
   "metadata": {},
   "outputs": [],
   "source": []
  }
 ],
 "metadata": {
  "kernelspec": {
   "display_name": "Python 3",
   "language": "python",
   "name": "python3"
  },
  "language_info": {
   "codemirror_mode": {
    "name": "ipython",
    "version": 3
   },
   "file_extension": ".py",
   "mimetype": "text/x-python",
   "name": "python",
   "nbconvert_exporter": "python",
   "pygments_lexer": "ipython3",
   "version": "3.7.4"
  }
 },
 "nbformat": 4,
 "nbformat_minor": 2
}
