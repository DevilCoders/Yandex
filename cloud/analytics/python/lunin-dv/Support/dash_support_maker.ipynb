{
 "cells": [
  {
   "cell_type": "code",
   "execution_count": 2,
   "metadata": {},
   "outputs": [],
   "source": [
    "import numpy as np\n",
    "import scipy as sp\n",
    "from sklearn.model_selection import train_test_split\n",
    "import gc\n",
    "import pandas as pd\n",
    "from dateutil.parser import *\n",
    "from transliterate import translit\n",
    "\"\"\"pip install transliterate\"\"\"\n",
    "import requests\n",
    "from datetime import datetime\n",
    "from tqdm import tqdm_notebook as tqdm\n",
    "import Levenshtein\n",
    "\"\"\"pip install python-Levenshtein\"\"\"\n",
    "import re\n",
    "from io import StringIO\n",
    "from calendar import monthrange\n",
    "import yt.wrapper as yt\n",
    "import json\n",
    "from datetime import datetime, timedelta\n",
    "import operator\n",
    "import requests, os, sys, pymysql,time\n",
    "os.chdir('/Users/lunin-dv/Desktop/Library/')\n",
    "import importlib\n",
    "import my_library as lib\n",
    "import aiohttp\n",
    "import asyncio\n",
    "import operator\n",
    "import re\n",
    "import pymysql\n",
    "importlib.reload(lib)\n",
    "os.chdir('/Users/lunin-dv/Desktop/data/CloudSupport')"
   ]
  },
  {
   "cell_type": "code",
   "execution_count": 3,
   "metadata": {},
   "outputs": [],
   "source": [
    "from startrek_client import Startrek\n",
    "from joblib import Parallel, delayed"
   ]
  },
  {
   "cell_type": "markdown",
   "metadata": {},
   "source": [
    "------------"
   ]
  },
  {
   "cell_type": "markdown",
   "metadata": {},
   "source": [
    "# 1 часть\n",
    "Считаем весь стафф"
   ]
  },
  {
   "cell_type": "code",
   "execution_count": 3,
   "metadata": {},
   "outputs": [],
   "source": [
    "request = \"\"\"\n",
    "SELECT\n",
    "    *\n",
    "FROM \"//home/cloud_analytics/import/staff/cloud_staff/cloud_staff\"\n",
    "FORMAT TabSeparatedWithNames\n",
    "\"\"\""
   ]
  },
  {
   "cell_type": "code",
   "execution_count": 4,
   "metadata": {},
   "outputs": [],
   "source": [
    "staff = lib.execute_query(request)"
   ]
  },
  {
   "cell_type": "markdown",
   "metadata": {},
   "source": [
    "Вторая линия"
   ]
  },
  {
   "cell_type": "code",
   "execution_count": 5,
   "metadata": {},
   "outputs": [],
   "source": [
    "second_line = \\\n",
    "'Яндекс.Облако -> Отдел по развитию бизнеса и работе с заказчиками -> Направление клиентского опыта -> Группа профессиональных инженерных услуг'"
   ]
  },
  {
   "cell_type": "code",
   "execution_count": 6,
   "metadata": {},
   "outputs": [],
   "source": [
    "def get_small_name(name):\n",
    "    try:\n",
    "        return name.split(\" -> \")[1]\n",
    "    except Exception:\n",
    "        return name\n",
    "\n",
    "def get_long_name(name):\n",
    "    try:\n",
    "        name.split(\" -> \")[1]\n",
    "        return \": \".join(name.split(\" -> \")[1:])\n",
    "    except Exception:\n",
    "        return name"
   ]
  },
  {
   "cell_type": "code",
   "execution_count": 7,
   "metadata": {},
   "outputs": [],
   "source": [
    "staff[\"short_name\"] = staff[\"group_full_path\"].apply(lambda name: get_small_name(name))"
   ]
  },
  {
   "cell_type": "code",
   "execution_count": 8,
   "metadata": {},
   "outputs": [
    {
     "data": {
      "text/plain": [
       "array(['Яндекс.Облако', 'Billing & Marketplace',\n",
       "       'Machine Learning services', 'Development Platform',\n",
       "       'Compute Cloud', 'Data platform', 'Virtual Private Cloud',\n",
       "       'Отдел инфраструктуры Яндекс.Облака',\n",
       "       'Cloud Security, Identity & Compliance', 'Compliance',\n",
       "       'Key Management Service', 'Network Block Store',\n",
       "       'Server Infrastructure', 'Internet of Things',\n",
       "       'Отдел по развитию бизнеса и работе с заказчиками',\n",
       "       'User Experience', 'Network Infrastructure',\n",
       "       'IAM & Resource Management', 'Служба Маркетплейс Яндекс.Облака',\n",
       "       'Hypervisor', 'Load Balancer'], dtype=object)"
      ]
     },
     "execution_count": 8,
     "metadata": {},
     "output_type": "execute_result"
    }
   ],
   "source": [
    "staff[\"short_name\"].unique()"
   ]
  },
  {
   "cell_type": "code",
   "execution_count": 9,
   "metadata": {},
   "outputs": [],
   "source": [
    "staff[\"long_name\"] = staff[\"group_full_path\"].apply(lambda name: get_long_name(name))"
   ]
  },
  {
   "cell_type": "code",
   "execution_count": 10,
   "metadata": {},
   "outputs": [],
   "source": [
    "staff[\"is_second_line\"] = (staff[\"group_full_path\"] == second_line).astype(int)"
   ]
  },
  {
   "cell_type": "code",
   "execution_count": null,
   "metadata": {},
   "outputs": [],
   "source": []
  },
  {
   "cell_type": "markdown",
   "metadata": {},
   "source": [
    "Итого есть отдельно вторая линия, длинное имя, короткое имя"
   ]
  },
  {
   "cell_type": "markdown",
   "metadata": {},
   "source": [
    "Теперь создадим словарь соответствий имен и их подразделений"
   ]
  },
  {
   "cell_type": "code",
   "execution_count": 11,
   "metadata": {},
   "outputs": [],
   "source": [
    "support_name = 'Отдел по развитию бизнеса и работе с заказчиками'"
   ]
  },
  {
   "cell_type": "code",
   "execution_count": 12,
   "metadata": {},
   "outputs": [],
   "source": [
    "short_group_dict = {} # name -> short_group\n",
    "long_group_dict = {} # name -> long_group\n",
    "for _, row in staff.iterrows():\n",
    "    login = row[\"login\"]\n",
    "    if row[\"is_second_line\"] == 0:\n",
    "        short_group_dict[login] = row[\"short_name\"]\n",
    "        long_group_dict[login] = row[\"long_name\"]\n",
    "    else:\n",
    "        short_group_dict[login] = \"second line\"\n",
    "        long_group_dict[login] = \"second line\""
   ]
  },
  {
   "cell_type": "code",
   "execution_count": 13,
   "metadata": {},
   "outputs": [
    {
     "data": {
      "text/plain": [
       "'Отдел по развитию бизнеса и работе с заказчиками: Направление клиентского опыта'"
      ]
     },
     "execution_count": 13,
     "metadata": {},
     "output_type": "execute_result"
    }
   ],
   "source": [
    "long_group_dict[\"tixoff\"]"
   ]
  },
  {
   "cell_type": "code",
   "execution_count": 14,
   "metadata": {},
   "outputs": [],
   "source": [
    "not_interseted_group = \"Отдел по развитию бизнеса и работе с заказчиками\""
   ]
  },
  {
   "cell_type": "code",
   "execution_count": 15,
   "metadata": {},
   "outputs": [],
   "source": [
    "second_line = \"second line\""
   ]
  },
  {
   "cell_type": "code",
   "execution_count": 16,
   "metadata": {},
   "outputs": [
    {
     "data": {
      "text/plain": [
       "'Яндекс.Облако -> Яндекс.Облако -> Отдел по развитию бизнеса и работе с заказчиками -> Отдел по развитию бизнеса и работе с заказчиками -> Направление по работе с ключевыми клиентами -> Направление по работе с ключевыми клиентами -> Направление по работе с ключевыми клиентами -> Направление по работе с ключевыми клиентами'"
      ]
     },
     "execution_count": 16,
     "metadata": {},
     "output_type": "execute_result"
    }
   ],
   "source": [
    "staff[staff[\"login\"] == \"datishin\"][\"group_full_path\"].iloc[0]"
   ]
  },
  {
   "cell_type": "markdown",
   "metadata": {},
   "source": [
    "--------"
   ]
  },
  {
   "cell_type": "markdown",
   "metadata": {},
   "source": [
    "## 1.1 часть\n",
    "\n",
    "работа с events"
   ]
  },
  {
   "cell_type": "code",
   "execution_count": 17,
   "metadata": {},
   "outputs": [],
   "source": [
    "class Event:\n",
    "    def __init__(self, type, time, **kwargs):\n",
    "        super().__init__()\n",
    "        self.time = time\n",
    "        if \"timer starts\" in type.lower():\n",
    "            self.type = \"timer starts\"\n",
    "            self.type_id = 1\n",
    "        if \"timer ends\" in type.lower():\n",
    "            self.type = \"timer ends\"\n",
    "            self.type_id = 4\n",
    "        if \"status\" in type.lower():\n",
    "            self.type = \"new status\"\n",
    "            self.type_id = 2\n",
    "        if \"призвали\" in type.lower():\n",
    "            self.type = \"add summonee\"\n",
    "            self.type_id = 3\n",
    "        self.args = []\n",
    "        for key in kwargs:\n",
    "            self.args.append(key)\n",
    "            setattr(self, key, kwargs[key])\n",
    "    \n",
    "    def __repr__(self):\n",
    "        ans_string = f\"[event type: '{self.type}', start time: '{self.time}'\"\n",
    "        if len(self.args) > 0:\n",
    "            added_args = \", \".join([key + \": '\" + str(getattr(self, key)) + \"'\" for key in self.args])\n",
    "            return ans_string + f\", {added_args}]\\n\"\n",
    "        else:\n",
    "            return ans_string + \"]\\n\"\n",
    "    \n",
    "    def __lt__(self, other):\n",
    "        if self.time == other.time:\n",
    "            return self.type_id < other.type_id\n",
    "        return parse(self.time) < parse(other.time)"
   ]
  },
  {
   "cell_type": "code",
   "execution_count": 18,
   "metadata": {},
   "outputs": [],
   "source": [
    "def added_summonee(changes, log):\n",
    "    answers = []\n",
    "    if \"robot\" not in log.updatedBy.id \\\n",
    "    and \"яндекс\" not in log.updatedBy.display.lower() \\\n",
    "    and \"yandex\" not in log.updatedBy.display.lower():\n",
    "        if short_group_dict.get(log.updatedBy.id) == second_line:\n",
    "            current_event = Event(\"призвали\", log.updatedAt,\n",
    "                                  user_id=log.updatedBy.id, \n",
    "                                  user=log.updatedBy.display)\n",
    "            answers.append(current_event)\n",
    "\n",
    "    if changes[\"field\"].display == 'Нужен ответ пользователя':\n",
    "        if changes[\"to\"] is not None:\n",
    "            for person in changes[\"to\"]:\n",
    "                current_event = Event(\"призвали\", log.updatedAt,\n",
    "                                      user_id=person.id, user=person.display)\n",
    "                answers.append(current_event)\n",
    "    if len(answers) > 0:\n",
    "        return answers\n",
    "    return None\n",
    "\n",
    "\n",
    "def added_status(changes, log):\n",
    "    ans_arr = []\n",
    "    stop_statuses = [\"Ждет выкладки\", \"Закрыт\", \"Линия 2\", \n",
    "                     \"Требуется информация\", \"Частично выполнен\", \n",
    "                     \"Подготовка документов\", \"Wait for Answer\"]\n",
    "    if changes[\"field\"].display == 'Статус':\n",
    "        curr_status = changes[\"to\"].display\n",
    "        ans_arr.append(Event(\"status changed\", log.updatedAt, status=curr_status))\n",
    "        if curr_status in stop_statuses:\n",
    "            ans_arr.append(Event(\"timer ends\", log.updatedAt, spent=0))\n",
    "        if curr_status == \"Открыт\":\n",
    "            ans_arr.append(Event(\"timer starts\", log.updatedAt))\n",
    "        return ans_arr\n",
    "    return None"
   ]
  },
  {
   "cell_type": "markdown",
   "metadata": {},
   "source": [
    "# 2 часть"
   ]
  },
  {
   "cell_type": "markdown",
   "metadata": {},
   "source": [
    "Поработаем с трекером"
   ]
  },
  {
   "cell_type": "markdown",
   "metadata": {},
   "source": [
    "Для начала возьмем названия всех интересующих тикетов"
   ]
  },
  {
   "cell_type": "code",
   "execution_count": 19,
   "metadata": {},
   "outputs": [],
   "source": [
    "from startrek_client.settings import VERSION_SERVICE"
   ]
  },
  {
   "cell_type": "code",
   "execution_count": 20,
   "metadata": {},
   "outputs": [],
   "source": [
    "client = Startrek(useragent=\"lunin-dv\", \n",
    "                  base_url=\"https://st-api.yandex-team.ru/v2/myself\", token=lib.startrek_token)"
   ]
  },
  {
   "cell_type": "code",
   "execution_count": 21,
   "metadata": {},
   "outputs": [],
   "source": [
    "def get_ticket_name(issue):\n",
    "    return issue._path.split(\"/\")[-1]"
   ]
  },
  {
   "cell_type": "markdown",
   "metadata": {},
   "source": [
    "Так же анализировать буду только закрытые тикеты, так как открытые могут еще меняться и неккоректно их использовать"
   ]
  },
  {
   "cell_type": "code",
   "execution_count": 99,
   "metadata": {},
   "outputs": [],
   "source": [
    "def get_all_tickets():\n",
    "    issues = client.issues.find(\n",
    "        filter={'queue': 'CLOUDSUPPORT', \"status\":'closed'},\n",
    "        order=['-created'],\n",
    "        scrollType='unsorted',\n",
    "        scrollTTLMillis=20000\n",
    "    )\n",
    "    ticket_names = []\n",
    "    for issue in lib.tqdm(issues):\n",
    "        ticket_names.append(get_ticket_name(issue))\n",
    "    return ticket_names"
   ]
  },
  {
   "cell_type": "code",
   "execution_count": 100,
   "metadata": {},
   "outputs": [
    {
     "data": {
      "application/vnd.jupyter.widget-view+json": {
       "model_id": "bf69b018090145eb98d4f29d61d0696c",
       "version_major": 2,
       "version_minor": 0
      },
      "text/plain": [
       "HBox(children=(IntProgress(value=1, bar_style='info', max=1), HTML(value='')))"
      ]
     },
     "metadata": {},
     "output_type": "display_data"
    },
    {
     "name": "stdout",
     "output_type": "stream",
     "text": [
      "\n"
     ]
    }
   ],
   "source": [
    "ticket_names = get_all_tickets()"
   ]
  },
  {
   "cell_type": "code",
   "execution_count": 98,
   "metadata": {},
   "outputs": [
    {
     "data": {
      "text/plain": [
       "22942"
      ]
     },
     "execution_count": 98,
     "metadata": {},
     "output_type": "execute_result"
    }
   ],
   "source": [
    "np.unique(ticket_names).shape[0]"
   ]
  },
  {
   "cell_type": "markdown",
   "metadata": {},
   "source": [
    "Теперь возьмем всю необходимую информацию про тикет."
   ]
  },
  {
   "cell_type": "code",
   "execution_count": 25,
   "metadata": {},
   "outputs": [],
   "source": [
    "def find_update_status_time(issue, log_list):\n",
    "    answer_dict = {}\n",
    "    next_time = None\n",
    "    answer_dict[\"Открыт\"] = issue.createdAt\n",
    "    for log in log_list:\n",
    "        used = False\n",
    "        for changes in log.fields:\n",
    "            if changes[\"field\"].display == 'Статус':\n",
    "                curr_status = changes[\"to\"].display\n",
    "                if curr_status is not None \\\n",
    "                and curr_status != \"Открыт\" and answer_dict.get(\"В работе\") is None:\n",
    "                    answer_dict[\"В работе\"] = log.updatedAt\n",
    "        if next_time is None and answer_dict[\"Открыт\"] != log.updatedAt:\n",
    "            next_time = log.updatedAt\n",
    "    try:\n",
    "        parse(answer_dict[\"В работе\"])\n",
    "    except Exception:\n",
    "        answer_dict[\"В работе\"] = next_time\n",
    "    dt = parse(answer_dict[\"В работе\"]) - parse(answer_dict[\"Открыт\"])\n",
    "    answer_dict[\"Начальный простой\"] = dt.days * 24 * 60 + dt.seconds / 60\n",
    "    return answer_dict"
   ]
  },
  {
   "cell_type": "code",
   "execution_count": 26,
   "metadata": {},
   "outputs": [],
   "source": [
    "def get_issue_main_info(issue):\n",
    "    answer_dict = {}\n",
    "    answer_dict[\"pay type\"] = issue.pay\n",
    "    components_array = []\n",
    "    for component in issue.components:\n",
    "        components_array.append(component.display)\n",
    "    answer_dict[\"components\"] = components_array\n",
    "    return answer_dict"
   ]
  },
  {
   "cell_type": "code",
   "execution_count": 88,
   "metadata": {},
   "outputs": [],
   "source": [
    "def get_time_information(time_dict, issue, events):\n",
    "    curr_start_time = None\n",
    "    delta = 0\n",
    "    answer_dict = {}\n",
    "    deltas = []\n",
    "    timer_events = []\n",
    "    for ind, event in enumerate(events):\n",
    "        if 'timer' in event.type:\n",
    "            if len(timer_events) > 0 and\\\n",
    "            timer_events[-1].type == event.type and\\\n",
    "            event.type == 'timer starts':\n",
    "                continue\n",
    "            timer_events.append(event)\n",
    "\n",
    "    for ind, event in enumerate(timer_events):\n",
    "        if event.type == 'timer ends' and \\\n",
    "        (ind + 1 == len(timer_events) or timer_events[ind + 1].type != 'timer ends'):\n",
    "            # последний закрывающий таймер\n",
    "            dt = (parse(event.time) - parse(curr_start_time))\n",
    "            delta = dt.days * 24 * 60 + dt.seconds / 60\n",
    "            deltas.append(delta)\n",
    "            event.spent = delta\n",
    "            if len(deltas) == 1:\n",
    "                event.spent -= time_dict[\"Начальный простой\"]\n",
    "        if event.type == 'timer starts':\n",
    "            curr_start_time = event.time\n",
    "\n",
    "    deltas[0] -= time_dict[\"Начальный простой\"]\n",
    "    answer_dict[\"all_active_time\"] = sum(deltas)\n",
    "    answer_dict[\"avg_active_time\"] = np.mean(deltas)\n",
    "    answer_dict[\"std_active_time\"] = np.std(deltas)\n",
    "    answer_dict[\"number_of_timer_stops\"] = len(deltas) - 1\n",
    "    answer_dict[\"percentile_25\"], \\\n",
    "    answer_dict[\"percentile_50\"], \\\n",
    "    answer_dict[\"percentile_75\"] = np.percentile(deltas, [25, 50, 75], interpolation='midpoint').tolist()\n",
    "    #print(timer_events)\n",
    "    return answer_dict"
   ]
  },
  {
   "cell_type": "code",
   "execution_count": 89,
   "metadata": {},
   "outputs": [],
   "source": [
    "def create_event_line(log_list, time_dict):\n",
    "    events = []\n",
    "    event_functions = [added_summonee, added_status]\n",
    "    for log in log_list:\n",
    "        for changes in log.fields:\n",
    "            for func in event_functions:\n",
    "                event = func(changes, log)\n",
    "                if event is not None:\n",
    "                    events += event\n",
    "    events.append(Event(\"timer starts\", time_dict[\"Открыт\"]))\n",
    "    return sorted(events)"
   ]
  },
  {
   "cell_type": "code",
   "execution_count": 90,
   "metadata": {},
   "outputs": [],
   "source": [
    "def get_summonee_dict(time_dict, events):\n",
    "    curr_last_time = time_dict[\"В работе\"]\n",
    "    delta = 0\n",
    "    summonee_dict = {}\n",
    "    groups = []\n",
    "    is_started = False\n",
    "    summonee_dict[\"help was needed\"] = 0\n",
    "    for event in events:\n",
    "        if event.type == 'new status' and event.status == \"В работе\":\n",
    "            is_started = True\n",
    "        if event.type == 'timer ends' and is_started:\n",
    "            delta += event.spent\n",
    "        if event.type == 'timer starts' and is_started:\n",
    "            curr_last_time = event.time\n",
    "\n",
    "        if event.type == \"add summonee\" \\\n",
    "        and short_group_dict.get(event.user_id) is not None and \\\n",
    "        short_group_dict[event.user_id] != not_interseted_group:\n",
    "\n",
    "            if summonee_dict.get(\"first summonee time\") is None:\n",
    "                \n",
    "                dt = parse(event.time) - parse(curr_last_time)\n",
    "                last_delta = dt.days * 24 * 60 + dt.seconds / 60\n",
    "                delta += last_delta\n",
    "                summonee_dict[\"help was needed\"] = 1\n",
    "                summonee_dict[\"first summonee time\"] = delta\n",
    "                summonee_dict[\"summonee short groups\"] = set()\n",
    "                summonee_dict[\"summonee long groups\"] = set()\n",
    "                # обнулили все\n",
    "            try:\n",
    "                summonee_dict[\"summonee short groups\"].add(short_group_dict[event.user_id])\n",
    "                summonee_dict[\"summonee long groups\"].add(long_group_dict[event.user_id])\n",
    "                if short_group_dict[event.user_id] != second_line:\n",
    "                    summonee_dict[\"help from not second line\"] = 1\n",
    "\n",
    "            except Exception:\n",
    "                pass\n",
    "    return summonee_dict"
   ]
  },
  {
   "cell_type": "code",
   "execution_count": 91,
   "metadata": {},
   "outputs": [],
   "source": [
    "def get_support_names(log_list):\n",
    "    support_names = set()\n",
    "    second_line_names = set()\n",
    "    for log in log_list:\n",
    "        for changes in log.fields:\n",
    "            if \"robot\" not in log.updatedBy.id \\\n",
    "            and \"яндекс\" not in log.updatedBy.display.lower() \\\n",
    "            and \"yandex\" not in log.updatedBy.display.lower():\n",
    "                try:\n",
    "                    if short_group_dict[log.updatedBy.id] == not_interseted_group:\n",
    "                        support_names.add(log.updatedBy.id)\n",
    "                    if short_group_dict[log.updatedBy.id] == second_line:\n",
    "                        second_line_names.add(log.updatedBy.id)\n",
    "                except Exception:\n",
    "                    pass\n",
    "    help_from_support = 0\n",
    "    if len(second_line_names) > 0:\n",
    "        help_from_support = 1\n",
    "    return {\"support\": support_names, \"second line\": second_line_names, \n",
    "            \"support number\": len(support_names), \"second line number\": len(second_line_names),\n",
    "            \"help from second line\": help_from_support}"
   ]
  },
  {
   "cell_type": "code",
   "execution_count": 92,
   "metadata": {},
   "outputs": [],
   "source": [
    "def get_all_ticket_info(ticket_name):\n",
    "    try:\n",
    "        issue = client.issues[ticket_name]\n",
    "        log_list = list(issue.changelog.get_all(sort='asc'))\n",
    "        time_dict = find_update_status_time(issue, log_list)\n",
    "        main_ticket_info = get_issue_main_info(issue)\n",
    "        events = create_event_line(log_list, time_dict)\n",
    "        delta_info = get_time_information(time_dict, issue, events)\n",
    "\n",
    "        support_dict = get_support_names(log_list)\n",
    "        summonee_dict = get_summonee_dict(time_dict, events)\n",
    "        answer_dict = {\"ticket_name\": ticket_name,\n",
    "                       **main_ticket_info,\n",
    "                       **delta_info,\n",
    "                       **time_dict,\n",
    "                       **summonee_dict,\n",
    "                       **support_dict}\n",
    "        #print(events)\n",
    "        return answer_dict\n",
    "    except Exception:\n",
    "        print(ticket_name)\n",
    "        raise"
   ]
  },
  {
   "cell_type": "code",
   "execution_count": 93,
   "metadata": {},
   "outputs": [
    {
     "data": {
      "text/plain": [
       "{'ticket_name': 'CLOUDSUPPORT-9600',\n",
       " 'pay type': None,\n",
       " 'components': ['other'],\n",
       " 'all_active_time': 556.25,\n",
       " 'avg_active_time': 556.25,\n",
       " 'std_active_time': 0.0,\n",
       " 'number_of_timer_stops': 0,\n",
       " 'percentile_25': 556.25,\n",
       " 'percentile_50': 556.25,\n",
       " 'percentile_75': 556.25,\n",
       " 'Открыт': '2019-07-31T20:10:56.154+0000',\n",
       " 'В работе': '2019-07-31T22:01:57.813+0000',\n",
       " 'Начальный простой': 111.01666666666667,\n",
       " 'help was needed': 0,\n",
       " 'support': {'amatol', 'trofogol'},\n",
       " 'second line': set(),\n",
       " 'support number': 2,\n",
       " 'second line number': 0,\n",
       " 'help from second line': 0}"
      ]
     },
     "execution_count": 93,
     "metadata": {},
     "output_type": "execute_result"
    }
   ],
   "source": [
    "ticket_name = \"CLOUDSUPPORT-9600\"\n",
    "get_all_ticket_info(ticket_name)"
   ]
  },
  {
   "cell_type": "code",
   "execution_count": 94,
   "metadata": {},
   "outputs": [
    {
     "data": {
      "text/plain": [
       "{'ticket_name': 'CLOUDSUPPORT-29064',\n",
       " 'pay type': 'free',\n",
       " 'components': [],\n",
       " 'all_active_time': 0.0,\n",
       " 'avg_active_time': 0.0,\n",
       " 'std_active_time': 0.0,\n",
       " 'number_of_timer_stops': 0,\n",
       " 'percentile_25': 0.0,\n",
       " 'percentile_50': 0.0,\n",
       " 'percentile_75': 0.0,\n",
       " 'Открыт': '2020-03-24T11:41:59.697+0000',\n",
       " 'В работе': '2020-03-24T11:43:31.751+0000',\n",
       " 'Начальный простой': 1.5333333333333334,\n",
       " 'help was needed': 0,\n",
       " 'support': set(),\n",
       " 'second line': set(),\n",
       " 'support number': 0,\n",
       " 'second line number': 0,\n",
       " 'help from second line': 0}"
      ]
     },
     "execution_count": 94,
     "metadata": {},
     "output_type": "execute_result"
    }
   ],
   "source": [
    "ticket_name = 'CLOUDSUPPORT-29064'\n",
    "get_all_ticket_info(ticket_name)"
   ]
  },
  {
   "cell_type": "code",
   "execution_count": 95,
   "metadata": {},
   "outputs": [
    {
     "data": {
      "text/plain": [
       "{'ticket_name': 'CLOUDSUPPORT-28018',\n",
       " 'pay type': 'standard',\n",
       " 'components': ['mdb', 'monitoring'],\n",
       " 'all_active_time': 1795.7333333333333,\n",
       " 'avg_active_time': 598.5777777777778,\n",
       " 'std_active_time': 711.2607104359671,\n",
       " 'number_of_timer_stops': 2,\n",
       " 'percentile_25': 98.66666666666667,\n",
       " 'percentile_50': 194.08333333333334,\n",
       " 'percentile_75': 896.2416666666667,\n",
       " 'Открыт': '2020-03-07T17:27:22.274+0000',\n",
       " 'В работе': '2020-03-07T19:00:28.720+0000',\n",
       " 'Начальный простой': 93.1,\n",
       " 'help was needed': 0,\n",
       " 'support': {'akimrx', 'vr-owl'},\n",
       " 'second line': set(),\n",
       " 'support number': 2,\n",
       " 'second line number': 0,\n",
       " 'help from second line': 0}"
      ]
     },
     "execution_count": 95,
     "metadata": {},
     "output_type": "execute_result"
    }
   ],
   "source": [
    "ticket_name = 'CLOUDSUPPORT-28018'\n",
    "get_all_ticket_info(ticket_name)"
   ]
  },
  {
   "cell_type": "code",
   "execution_count": 96,
   "metadata": {},
   "outputs": [
    {
     "data": {
      "text/plain": [
       "{'ticket_name': 'CLOUDSUPPORT-27897',\n",
       " 'pay type': 'free',\n",
       " 'components': ['UI', 'compute', 'iam.delete'],\n",
       " 'all_active_time': 69.95000000000002,\n",
       " 'avg_active_time': 34.97500000000001,\n",
       " 'std_active_time': 16.325000000000006,\n",
       " 'number_of_timer_stops': 1,\n",
       " 'percentile_25': 34.97500000000001,\n",
       " 'percentile_50': 34.97500000000001,\n",
       " 'percentile_75': 34.97500000000001,\n",
       " 'Открыт': '2020-03-05T14:05:06.337+0000',\n",
       " 'В работе': '2020-03-05T16:52:35.951+0000',\n",
       " 'Начальный простой': 167.48333333333332,\n",
       " 'help was needed': 1,\n",
       " 'first summonee time': 23.95,\n",
       " 'summonee short groups': {'IAM & Resource Management'},\n",
       " 'summonee long groups': {'IAM & Resource Management'},\n",
       " 'help from not second line': 1,\n",
       " 'support': {'girimkhanova'},\n",
       " 'second line': set(),\n",
       " 'support number': 1,\n",
       " 'second line number': 0,\n",
       " 'help from second line': 0}"
      ]
     },
     "execution_count": 96,
     "metadata": {},
     "output_type": "execute_result"
    }
   ],
   "source": [
    "get_all_ticket_info(\"CLOUDSUPPORT-27897\")"
   ]
  },
  {
   "cell_type": "markdown",
   "metadata": {},
   "source": [
    "get_all_ticket_info(\"CLOUDSUPPORT-25593\")"
   ]
  },
  {
   "cell_type": "markdown",
   "metadata": {},
   "source": [
    "get_all_ticket_info(\"CLOUDSUPPORT-28119\")"
   ]
  },
  {
   "cell_type": "code",
   "execution_count": 36,
   "metadata": {},
   "outputs": [
    {
     "name": "stdout",
     "output_type": "stream",
     "text": [
      "CPU times: user 7min 57s, sys: 6.72 s, total: 8min 4s\n",
      "Wall time: 19min 26s\n"
     ]
    }
   ],
   "source": [
    "%%time\n",
    "data = Parallel(n_jobs=-1)(delayed(get_all_ticket_info)(ticket) for ticket in ticket_names)"
   ]
  },
  {
   "cell_type": "code",
   "execution_count": 37,
   "metadata": {},
   "outputs": [
    {
     "data": {
      "text/plain": [
       "1624"
      ]
     },
     "execution_count": 37,
     "metadata": {},
     "output_type": "execute_result"
    }
   ],
   "source": [
    "import gc\n",
    "gc.collect()"
   ]
  },
  {
   "cell_type": "code",
   "execution_count": 96,
   "metadata": {},
   "outputs": [],
   "source": [
    "ticket_df = pd.DataFrame(data)"
   ]
  },
  {
   "cell_type": "code",
   "execution_count": 97,
   "metadata": {},
   "outputs": [],
   "source": [
    "ticket_df[\"support\"] = ticket_df[\"support\"].apply(lambda x: sorted(list(x)))\n",
    "ticket_df[\"components\"] = ticket_df[\"components\"].apply(lambda x: sorted(list(x)))\n",
    "ticket_df[\"second line\"] = ticket_df[\"second line\"].apply(lambda x: sorted(list(x)))\n",
    "ticket_df[\"summonee short groups\"] =\\\n",
    "ticket_df[\"summonee short groups\"].apply(lambda x: sorted(list(x)) if not pd.isnull(x) else [])\n",
    "ticket_df[\"summonee long groups\"] =\\\n",
    "ticket_df[\"summonee long groups\"].apply(lambda x: sorted(list(x)) if not pd.isnull(x) else [])\n",
    "ticket_df[\"components\"] = ticket_df[\"components\"].apply(lambda x: sorted(x) if len(x) > 0 \n",
    "                                                        else [\"no_component\"])\n",
    "ticket_df[\"summonee short groups\"] =\\\n",
    "ticket_df[\"summonee short groups\"].apply(lambda x: sorted(x) if len(x) > 0 \n",
    "                                                        else [\"no_summonee\"])"
   ]
  },
  {
   "cell_type": "code",
   "execution_count": 98,
   "metadata": {},
   "outputs": [],
   "source": [
    "def list_digest(strings):\n",
    "    import hashlib, struct\n",
    "    hash = hashlib.sha1()\n",
    "    for s in strings:\n",
    "        hash.update(struct.pack(\"I\", len(s)))\n",
    "        hash.update(s.encode('utf-8'))\n",
    "    return hash.hexdigest()"
   ]
  },
  {
   "cell_type": "code",
   "execution_count": 99,
   "metadata": {},
   "outputs": [],
   "source": [
    "ticket_df[\"components_hashed\"] = ticket_df[\"components\"].apply(lambda x: list_digest(x))\n",
    "ticket_df[\"summonee_short_groups_hashed\"] =\\\n",
    "ticket_df[\"summonee short groups\"].apply(lambda x: list_digest(x))"
   ]
  },
  {
   "cell_type": "code",
   "execution_count": 100,
   "metadata": {},
   "outputs": [],
   "source": [
    "def update_column(col):\n",
    "    if \"Открыт\" == col:\n",
    "        return \"ticket_opened_time\"\n",
    "    if \"В работе\" == col:\n",
    "        return \"ticket_in_work_time\"\n",
    "    if \"Начальный простой\" == col:\n",
    "        return \"initial_not_working_time\"\n",
    "    return \"_\".join(col.split())"
   ]
  },
  {
   "cell_type": "code",
   "execution_count": 101,
   "metadata": {},
   "outputs": [],
   "source": [
    "ticket_df.columns = [update_column(x) for x in ticket_df.columns]"
   ]
  },
  {
   "cell_type": "code",
   "execution_count": 102,
   "metadata": {},
   "outputs": [],
   "source": [
    "ticket_df.replace(np.nan, 0, inplace=True)"
   ]
  },
  {
   "cell_type": "code",
   "execution_count": null,
   "metadata": {},
   "outputs": [],
   "source": [
    "ticket_df.columns"
   ]
  },
  {
   "cell_type": "code",
   "execution_count": 104,
   "metadata": {},
   "outputs": [],
   "source": [
    "ticket_df.columns = ['ticket_name', 'pay_type', 'components', 'all_active_time',\n",
    "       'avg_active_time', 'std_active_time', 'number_of_timer_stops',\n",
    "       'percentile_25', 'percentile_50', 'percentile_75',\n",
    "       'ticket_opened_time', 'ticket_in_work_time', 'initial_not_working_time',\n",
    "       'help_was_needed', 'support', 'second_line', 'support_number',\n",
    "       'second_line_number', 'help_from_second_line', 'first_summonee_time',\n",
    "       'summonee_short_groups', 'summonee_long_groups',\n",
    "       'help_from_not_second_line', 'components_hashed',\n",
    "       'summonee_short_groups_hashed']"
   ]
  },
  {
   "cell_type": "code",
   "execution_count": 105,
   "metadata": {},
   "outputs": [],
   "source": [
    "ticket_df[\"pay_type\"].replace(0, \"no_type\", inplace=True)"
   ]
  },
  {
   "cell_type": "code",
   "execution_count": 106,
   "metadata": {},
   "outputs": [],
   "source": [
    "ticket_df.to_csv(\"ticket_info.csv\", index=False)"
   ]
  },
  {
   "cell_type": "code",
   "execution_count": 107,
   "metadata": {},
   "outputs": [],
   "source": [
    "lib.save_table(\"ticket_info\", \n",
    "           \"//home/cloud_analytics/support_tables\",\n",
    "           ticket_df, schema={\"components\":'list', \"support\":\"list\",\n",
    "                              \"second_line\":'list',\n",
    "                              \"summonee_short_groups\":\"list\", \n",
    "                              \"summonee_long_groups\":\"list\",\n",
    "                              \"ticket_opened_time\": \"datetime\",\n",
    "                              \"ticket_in_work_time\": \"datetime\"} )"
   ]
  },
  {
   "cell_type": "code",
   "execution_count": 108,
   "metadata": {},
   "outputs": [
    {
     "data": {
      "text/html": [
       "<div>\n",
       "<style scoped>\n",
       "    .dataframe tbody tr th:only-of-type {\n",
       "        vertical-align: middle;\n",
       "    }\n",
       "\n",
       "    .dataframe tbody tr th {\n",
       "        vertical-align: top;\n",
       "    }\n",
       "\n",
       "    .dataframe thead th {\n",
       "        text-align: right;\n",
       "    }\n",
       "</style>\n",
       "<table border=\"1\" class=\"dataframe\">\n",
       "  <thead>\n",
       "    <tr style=\"text-align: right;\">\n",
       "      <th></th>\n",
       "      <th>ticket_name</th>\n",
       "      <th>pay_type</th>\n",
       "      <th>components</th>\n",
       "      <th>all_active_time</th>\n",
       "      <th>avg_active_time</th>\n",
       "      <th>std_active_time</th>\n",
       "      <th>number_of_timer_stops</th>\n",
       "      <th>percentile_25</th>\n",
       "      <th>percentile_50</th>\n",
       "      <th>percentile_75</th>\n",
       "      <th>...</th>\n",
       "      <th>second_line</th>\n",
       "      <th>support_number</th>\n",
       "      <th>second_line_number</th>\n",
       "      <th>help_from_second_line</th>\n",
       "      <th>first_summonee_time</th>\n",
       "      <th>summonee_short_groups</th>\n",
       "      <th>summonee_long_groups</th>\n",
       "      <th>help_from_not_second_line</th>\n",
       "      <th>components_hashed</th>\n",
       "      <th>summonee_short_groups_hashed</th>\n",
       "    </tr>\n",
       "  </thead>\n",
       "  <tbody>\n",
       "    <tr>\n",
       "      <td>0</td>\n",
       "      <td>CLOUDSUPPORT-4284</td>\n",
       "      <td>no_type</td>\n",
       "      <td>[vpc]</td>\n",
       "      <td>596.966667</td>\n",
       "      <td>149.241667</td>\n",
       "      <td>181.837740</td>\n",
       "      <td>3</td>\n",
       "      <td>18.783333</td>\n",
       "      <td>63.283333</td>\n",
       "      <td>279.700000</td>\n",
       "      <td>...</td>\n",
       "      <td>[]</td>\n",
       "      <td>2</td>\n",
       "      <td>0</td>\n",
       "      <td>0</td>\n",
       "      <td>0.0</td>\n",
       "      <td>[no_summonee]</td>\n",
       "      <td>[]</td>\n",
       "      <td>0.0</td>\n",
       "      <td>4ce7ac59ffb95a911ebefa48c2e0ec2ce5c1b489</td>\n",
       "      <td>cf5f8af6260284f68ab1a61d0e87a13cc3851948</td>\n",
       "    </tr>\n",
       "    <tr>\n",
       "      <td>1</td>\n",
       "      <td>CLOUDSUPPORT-4314</td>\n",
       "      <td>no_type</td>\n",
       "      <td>[compute, docs]</td>\n",
       "      <td>35.200000</td>\n",
       "      <td>17.600000</td>\n",
       "      <td>10.850000</td>\n",
       "      <td>1</td>\n",
       "      <td>17.600000</td>\n",
       "      <td>17.600000</td>\n",
       "      <td>17.600000</td>\n",
       "      <td>...</td>\n",
       "      <td>[]</td>\n",
       "      <td>1</td>\n",
       "      <td>0</td>\n",
       "      <td>0</td>\n",
       "      <td>0.0</td>\n",
       "      <td>[no_summonee]</td>\n",
       "      <td>[]</td>\n",
       "      <td>0.0</td>\n",
       "      <td>f6f82238cdaff3b60ff34e234206e966b5910489</td>\n",
       "      <td>cf5f8af6260284f68ab1a61d0e87a13cc3851948</td>\n",
       "    </tr>\n",
       "    <tr>\n",
       "      <td>2</td>\n",
       "      <td>CLOUDSUPPORT-4315</td>\n",
       "      <td>no_type</td>\n",
       "      <td>[speechkit]</td>\n",
       "      <td>92.916667</td>\n",
       "      <td>46.458333</td>\n",
       "      <td>10.908333</td>\n",
       "      <td>1</td>\n",
       "      <td>46.458333</td>\n",
       "      <td>46.458333</td>\n",
       "      <td>46.458333</td>\n",
       "      <td>...</td>\n",
       "      <td>[]</td>\n",
       "      <td>1</td>\n",
       "      <td>0</td>\n",
       "      <td>0</td>\n",
       "      <td>0.0</td>\n",
       "      <td>[no_summonee]</td>\n",
       "      <td>[]</td>\n",
       "      <td>0.0</td>\n",
       "      <td>2772ac0c8df69ca8397d8a32aff6337fdc963c11</td>\n",
       "      <td>cf5f8af6260284f68ab1a61d0e87a13cc3851948</td>\n",
       "    </tr>\n",
       "    <tr>\n",
       "      <td>3</td>\n",
       "      <td>CLOUDSUPPORT-4319</td>\n",
       "      <td>no_type</td>\n",
       "      <td>[compute, квоты]</td>\n",
       "      <td>67.983333</td>\n",
       "      <td>22.661111</td>\n",
       "      <td>22.545881</td>\n",
       "      <td>2</td>\n",
       "      <td>7.283333</td>\n",
       "      <td>14.566667</td>\n",
       "      <td>33.991667</td>\n",
       "      <td>...</td>\n",
       "      <td>[]</td>\n",
       "      <td>1</td>\n",
       "      <td>0</td>\n",
       "      <td>0</td>\n",
       "      <td>0.0</td>\n",
       "      <td>[no_summonee]</td>\n",
       "      <td>[]</td>\n",
       "      <td>0.0</td>\n",
       "      <td>3e2de5df0beb35229bb197b5807bb2d09ba506f7</td>\n",
       "      <td>cf5f8af6260284f68ab1a61d0e87a13cc3851948</td>\n",
       "    </tr>\n",
       "    <tr>\n",
       "      <td>4</td>\n",
       "      <td>CLOUDSUPPORT-4326</td>\n",
       "      <td>no_type</td>\n",
       "      <td>[compute]</td>\n",
       "      <td>30.783333</td>\n",
       "      <td>10.261111</td>\n",
       "      <td>12.371789</td>\n",
       "      <td>2</td>\n",
       "      <td>1.558333</td>\n",
       "      <td>3.100000</td>\n",
       "      <td>15.383333</td>\n",
       "      <td>...</td>\n",
       "      <td>[]</td>\n",
       "      <td>0</td>\n",
       "      <td>0</td>\n",
       "      <td>0</td>\n",
       "      <td>0.0</td>\n",
       "      <td>[no_summonee]</td>\n",
       "      <td>[]</td>\n",
       "      <td>0.0</td>\n",
       "      <td>bb838c67d8f617b6c5480be023bb435f6bbea14c</td>\n",
       "      <td>cf5f8af6260284f68ab1a61d0e87a13cc3851948</td>\n",
       "    </tr>\n",
       "    <tr>\n",
       "      <td>...</td>\n",
       "      <td>...</td>\n",
       "      <td>...</td>\n",
       "      <td>...</td>\n",
       "      <td>...</td>\n",
       "      <td>...</td>\n",
       "      <td>...</td>\n",
       "      <td>...</td>\n",
       "      <td>...</td>\n",
       "      <td>...</td>\n",
       "      <td>...</td>\n",
       "      <td>...</td>\n",
       "      <td>...</td>\n",
       "      <td>...</td>\n",
       "      <td>...</td>\n",
       "      <td>...</td>\n",
       "      <td>...</td>\n",
       "      <td>...</td>\n",
       "      <td>...</td>\n",
       "      <td>...</td>\n",
       "      <td>...</td>\n",
       "      <td>...</td>\n",
       "    </tr>\n",
       "    <tr>\n",
       "      <td>22385</td>\n",
       "      <td>CLOUDSUPPORT-28008</td>\n",
       "      <td>free</td>\n",
       "      <td>[vpc]</td>\n",
       "      <td>1490.683333</td>\n",
       "      <td>745.341667</td>\n",
       "      <td>735.225000</td>\n",
       "      <td>1</td>\n",
       "      <td>745.341667</td>\n",
       "      <td>745.341667</td>\n",
       "      <td>745.341667</td>\n",
       "      <td>...</td>\n",
       "      <td>[]</td>\n",
       "      <td>1</td>\n",
       "      <td>0</td>\n",
       "      <td>0</td>\n",
       "      <td>0.0</td>\n",
       "      <td>[no_summonee]</td>\n",
       "      <td>[]</td>\n",
       "      <td>0.0</td>\n",
       "      <td>4ce7ac59ffb95a911ebefa48c2e0ec2ce5c1b489</td>\n",
       "      <td>cf5f8af6260284f68ab1a61d0e87a13cc3851948</td>\n",
       "    </tr>\n",
       "    <tr>\n",
       "      <td>22386</td>\n",
       "      <td>CLOUDSUPPORT-27927</td>\n",
       "      <td>no_type</td>\n",
       "      <td>[billing.antifraud, iam.delete]</td>\n",
       "      <td>1558.366667</td>\n",
       "      <td>222.623810</td>\n",
       "      <td>508.363457</td>\n",
       "      <td>6</td>\n",
       "      <td>11.475000</td>\n",
       "      <td>13.400000</td>\n",
       "      <td>25.158333</td>\n",
       "      <td>...</td>\n",
       "      <td>[]</td>\n",
       "      <td>2</td>\n",
       "      <td>0</td>\n",
       "      <td>0</td>\n",
       "      <td>0.0</td>\n",
       "      <td>[no_summonee]</td>\n",
       "      <td>[]</td>\n",
       "      <td>0.0</td>\n",
       "      <td>baebea52fabca668f27c9d1407812536f5dcf88d</td>\n",
       "      <td>cf5f8af6260284f68ab1a61d0e87a13cc3851948</td>\n",
       "    </tr>\n",
       "    <tr>\n",
       "      <td>22387</td>\n",
       "      <td>CLOUDSUPPORT-28211</td>\n",
       "      <td>business</td>\n",
       "      <td>[mdb]</td>\n",
       "      <td>224.033333</td>\n",
       "      <td>224.033333</td>\n",
       "      <td>0.000000</td>\n",
       "      <td>0</td>\n",
       "      <td>224.033333</td>\n",
       "      <td>224.033333</td>\n",
       "      <td>224.033333</td>\n",
       "      <td>...</td>\n",
       "      <td>[]</td>\n",
       "      <td>1</td>\n",
       "      <td>0</td>\n",
       "      <td>0</td>\n",
       "      <td>0.0</td>\n",
       "      <td>[no_summonee]</td>\n",
       "      <td>[]</td>\n",
       "      <td>0.0</td>\n",
       "      <td>79a196cae9b886e37d8f84cb6b42b50763920c83</td>\n",
       "      <td>cf5f8af6260284f68ab1a61d0e87a13cc3851948</td>\n",
       "    </tr>\n",
       "    <tr>\n",
       "      <td>22388</td>\n",
       "      <td>CLOUDSUPPORT-28056</td>\n",
       "      <td>standard</td>\n",
       "      <td>[compute.snapshot]</td>\n",
       "      <td>454.750000</td>\n",
       "      <td>227.375000</td>\n",
       "      <td>224.591667</td>\n",
       "      <td>1</td>\n",
       "      <td>227.375000</td>\n",
       "      <td>227.375000</td>\n",
       "      <td>227.375000</td>\n",
       "      <td>...</td>\n",
       "      <td>[]</td>\n",
       "      <td>1</td>\n",
       "      <td>0</td>\n",
       "      <td>0</td>\n",
       "      <td>0.0</td>\n",
       "      <td>[no_summonee]</td>\n",
       "      <td>[]</td>\n",
       "      <td>0.0</td>\n",
       "      <td>25527f8800883c15be92054c120d69287e8cb7b8</td>\n",
       "      <td>cf5f8af6260284f68ab1a61d0e87a13cc3851948</td>\n",
       "    </tr>\n",
       "    <tr>\n",
       "      <td>22389</td>\n",
       "      <td>CLOUDSUPPORT-27988</td>\n",
       "      <td>unknown</td>\n",
       "      <td>[billing.cards]</td>\n",
       "      <td>1616.000000</td>\n",
       "      <td>538.666667</td>\n",
       "      <td>716.963584</td>\n",
       "      <td>2</td>\n",
       "      <td>31.991667</td>\n",
       "      <td>61.933333</td>\n",
       "      <td>806.975000</td>\n",
       "      <td>...</td>\n",
       "      <td>[]</td>\n",
       "      <td>1</td>\n",
       "      <td>0</td>\n",
       "      <td>0</td>\n",
       "      <td>0.0</td>\n",
       "      <td>[no_summonee]</td>\n",
       "      <td>[]</td>\n",
       "      <td>0.0</td>\n",
       "      <td>2eac11f6a9d72ecf1a1988c0fa13166bf6cccb23</td>\n",
       "      <td>cf5f8af6260284f68ab1a61d0e87a13cc3851948</td>\n",
       "    </tr>\n",
       "  </tbody>\n",
       "</table>\n",
       "<p>22390 rows × 25 columns</p>\n",
       "</div>"
      ],
      "text/plain": [
       "              ticket_name  pay_type                       components  \\\n",
       "0       CLOUDSUPPORT-4284   no_type                            [vpc]   \n",
       "1       CLOUDSUPPORT-4314   no_type                  [compute, docs]   \n",
       "2       CLOUDSUPPORT-4315   no_type                      [speechkit]   \n",
       "3       CLOUDSUPPORT-4319   no_type                 [compute, квоты]   \n",
       "4       CLOUDSUPPORT-4326   no_type                        [compute]   \n",
       "...                   ...       ...                              ...   \n",
       "22385  CLOUDSUPPORT-28008      free                            [vpc]   \n",
       "22386  CLOUDSUPPORT-27927   no_type  [billing.antifraud, iam.delete]   \n",
       "22387  CLOUDSUPPORT-28211  business                            [mdb]   \n",
       "22388  CLOUDSUPPORT-28056  standard               [compute.snapshot]   \n",
       "22389  CLOUDSUPPORT-27988   unknown                  [billing.cards]   \n",
       "\n",
       "       all_active_time  avg_active_time  std_active_time  \\\n",
       "0           596.966667       149.241667       181.837740   \n",
       "1            35.200000        17.600000        10.850000   \n",
       "2            92.916667        46.458333        10.908333   \n",
       "3            67.983333        22.661111        22.545881   \n",
       "4            30.783333        10.261111        12.371789   \n",
       "...                ...              ...              ...   \n",
       "22385      1490.683333       745.341667       735.225000   \n",
       "22386      1558.366667       222.623810       508.363457   \n",
       "22387       224.033333       224.033333         0.000000   \n",
       "22388       454.750000       227.375000       224.591667   \n",
       "22389      1616.000000       538.666667       716.963584   \n",
       "\n",
       "       number_of_timer_stops  percentile_25  percentile_50  percentile_75  \\\n",
       "0                          3      18.783333      63.283333     279.700000   \n",
       "1                          1      17.600000      17.600000      17.600000   \n",
       "2                          1      46.458333      46.458333      46.458333   \n",
       "3                          2       7.283333      14.566667      33.991667   \n",
       "4                          2       1.558333       3.100000      15.383333   \n",
       "...                      ...            ...            ...            ...   \n",
       "22385                      1     745.341667     745.341667     745.341667   \n",
       "22386                      6      11.475000      13.400000      25.158333   \n",
       "22387                      0     224.033333     224.033333     224.033333   \n",
       "22388                      1     227.375000     227.375000     227.375000   \n",
       "22389                      2      31.991667      61.933333     806.975000   \n",
       "\n",
       "       ... second_line support_number  second_line_number  \\\n",
       "0      ...          []              2                   0   \n",
       "1      ...          []              1                   0   \n",
       "2      ...          []              1                   0   \n",
       "3      ...          []              1                   0   \n",
       "4      ...          []              0                   0   \n",
       "...    ...         ...            ...                 ...   \n",
       "22385  ...          []              1                   0   \n",
       "22386  ...          []              2                   0   \n",
       "22387  ...          []              1                   0   \n",
       "22388  ...          []              1                   0   \n",
       "22389  ...          []              1                   0   \n",
       "\n",
       "       help_from_second_line first_summonee_time summonee_short_groups  \\\n",
       "0                          0                 0.0         [no_summonee]   \n",
       "1                          0                 0.0         [no_summonee]   \n",
       "2                          0                 0.0         [no_summonee]   \n",
       "3                          0                 0.0         [no_summonee]   \n",
       "4                          0                 0.0         [no_summonee]   \n",
       "...                      ...                 ...                   ...   \n",
       "22385                      0                 0.0         [no_summonee]   \n",
       "22386                      0                 0.0         [no_summonee]   \n",
       "22387                      0                 0.0         [no_summonee]   \n",
       "22388                      0                 0.0         [no_summonee]   \n",
       "22389                      0                 0.0         [no_summonee]   \n",
       "\n",
       "       summonee_long_groups  help_from_not_second_line  \\\n",
       "0                        []                        0.0   \n",
       "1                        []                        0.0   \n",
       "2                        []                        0.0   \n",
       "3                        []                        0.0   \n",
       "4                        []                        0.0   \n",
       "...                     ...                        ...   \n",
       "22385                    []                        0.0   \n",
       "22386                    []                        0.0   \n",
       "22387                    []                        0.0   \n",
       "22388                    []                        0.0   \n",
       "22389                    []                        0.0   \n",
       "\n",
       "                              components_hashed  \\\n",
       "0      4ce7ac59ffb95a911ebefa48c2e0ec2ce5c1b489   \n",
       "1      f6f82238cdaff3b60ff34e234206e966b5910489   \n",
       "2      2772ac0c8df69ca8397d8a32aff6337fdc963c11   \n",
       "3      3e2de5df0beb35229bb197b5807bb2d09ba506f7   \n",
       "4      bb838c67d8f617b6c5480be023bb435f6bbea14c   \n",
       "...                                         ...   \n",
       "22385  4ce7ac59ffb95a911ebefa48c2e0ec2ce5c1b489   \n",
       "22386  baebea52fabca668f27c9d1407812536f5dcf88d   \n",
       "22387  79a196cae9b886e37d8f84cb6b42b50763920c83   \n",
       "22388  25527f8800883c15be92054c120d69287e8cb7b8   \n",
       "22389  2eac11f6a9d72ecf1a1988c0fa13166bf6cccb23   \n",
       "\n",
       "                   summonee_short_groups_hashed  \n",
       "0      cf5f8af6260284f68ab1a61d0e87a13cc3851948  \n",
       "1      cf5f8af6260284f68ab1a61d0e87a13cc3851948  \n",
       "2      cf5f8af6260284f68ab1a61d0e87a13cc3851948  \n",
       "3      cf5f8af6260284f68ab1a61d0e87a13cc3851948  \n",
       "4      cf5f8af6260284f68ab1a61d0e87a13cc3851948  \n",
       "...                                         ...  \n",
       "22385  cf5f8af6260284f68ab1a61d0e87a13cc3851948  \n",
       "22386  cf5f8af6260284f68ab1a61d0e87a13cc3851948  \n",
       "22387  cf5f8af6260284f68ab1a61d0e87a13cc3851948  \n",
       "22388  cf5f8af6260284f68ab1a61d0e87a13cc3851948  \n",
       "22389  cf5f8af6260284f68ab1a61d0e87a13cc3851948  \n",
       "\n",
       "[22390 rows x 25 columns]"
      ]
     },
     "execution_count": 108,
     "metadata": {},
     "output_type": "execute_result"
    }
   ],
   "source": [
    "ticket_df"
   ]
  },
  {
   "cell_type": "code",
   "execution_count": null,
   "metadata": {},
   "outputs": [],
   "source": []
  }
 ],
 "metadata": {
  "kernelspec": {
   "display_name": "Python 3",
   "language": "python",
   "name": "python3"
  },
  "language_info": {
   "codemirror_mode": {
    "name": "ipython",
    "version": 3
   },
   "file_extension": ".py",
   "mimetype": "text/x-python",
   "name": "python",
   "nbconvert_exporter": "python",
   "pygments_lexer": "ipython3",
   "version": "3.7.4"
  }
 },
 "nbformat": 4,
 "nbformat_minor": 2
}
