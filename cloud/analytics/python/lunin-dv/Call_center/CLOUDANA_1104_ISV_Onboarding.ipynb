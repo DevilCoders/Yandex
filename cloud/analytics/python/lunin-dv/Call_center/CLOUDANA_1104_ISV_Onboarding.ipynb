{
 "cells": [
  {
   "cell_type": "code",
   "execution_count": 178,
   "metadata": {},
   "outputs": [],
   "source": [
    "import scipy.stats as sps\n",
    "from sklearn.model_selection import train_test_split\n",
    "import gc\n",
    "from sklearn.linear_model import LinearRegression\n",
    "from dateutil.parser import *\n",
    "import pandas as pd\n",
    "import numpy as np\n",
    "import os\n",
    "import yt.wrapper as yt\n",
    "from collections import Counter\n",
    "import json\n",
    "import typing as tp\n",
    "import ast\n",
    "from datetime import datetime\n",
    "os.chdir('/Users/lunin-dv/Desktop/Library/')\n",
    "import importlib\n",
    "import my_library as lib\n",
    "import operator\n",
    "import re\n",
    "importlib.reload(lib)\n",
    "os.chdir('/Users/lunin-dv/Desktop/data/')"
   ]
  },
  {
   "cell_type": "code",
   "execution_count": 182,
   "metadata": {},
   "outputs": [],
   "source": [
    "df = lib.execute_query(\"\"\"SELECT\n",
    "    cube_info.*,\n",
    "    arrayFilter(x -> x != '',\n",
    "            [is_20_pct_from_50k, is_7_pct_from_150k, is_4_weeks_from_grant_start]\n",
    "        ) as Tags,\n",
    "    toInt64(NOW()) as Timestamp\n",
    "FROM (\n",
    "    SELECT\n",
    "        billing_account_id as Billing_account_id,\n",
    "        first_name as First_name,\n",
    "        last_name as Last_name,\n",
    "        account_name as Account_name,\n",
    "        phone as Phone_1,\n",
    "        multiIf(\n",
    "            user_settings_email LIKE '%@yandex.%' OR user_settings_email LIKE '%@ya.%',\n",
    "            CONCAT(\n",
    "                lower(replaceAll(splitByString('@',assumeNotNull(user_settings_email))[1], '.', '-')), \n",
    "                '@yandex.ru'\n",
    "            ), \n",
    "            user_settings_email == 'fake@fake.ru', '',\n",
    "            lower(user_settings_email)) as Email,\n",
    "        'New' as Status,\n",
    "        'moiseeva-m' as Assigned_to,\n",
    "        'isv' as Lead_Source,\n",
    "        'Cloud_Boost_Onboarding' as Lead_Source_Description\n",
    "    FROM \"//home/cloud_analytics/cubes/acquisition_cube/cube\"\n",
    "    WHERE is_isv == 1\n",
    "    AND event == 'ba_created'\n",
    ") as cube_info\n",
    "INNER JOIN (\n",
    "    SELECT\n",
    "        DISTINCT\n",
    "        billing_account_id,\n",
    "        SUM(if (initial_amount in (50000, 150000), consumed_amount, 0)) as all_grant_consumed,\n",
    "        max(if (initial_amount == 50000 and consumed_amount > 0.2 * initial_amount, \n",
    "        '50k threshold', '')) as is_20_pct_from_50k,\n",
    "        max(if (initial_amount == 150000 and consumed_amount > 0.07 * initial_amount,\n",
    "        '150k threshold', '')) as is_7_pct_from_150k,\n",
    "        max(if (initial_amount in (50000, 150000) and toDate(NOW()) - toDate(start_time) > 4 * 7 \n",
    "                                                  and toDate(NOW()) - toDate(start_time) < 5 * 7\n",
    "                                                  , '4 weeks threshold', '')) \n",
    "                                                  as is_4_weeks_from_grant_start_raw,\n",
    "        if (all_grant_consumed > 500, is_4_weeks_from_grant_start_raw, '') as is_4_weeks_from_grant_start,\n",
    "        \n",
    "        max(if (initial_amount in (50000, 150000) and toDate(NOW()) < toDate(end_time), 1, 0)) as is_active_trial\n",
    "    FROM \"//home/cloud_analytics/import/billing/grants_spending\"\n",
    "    GROUP BY billing_account_id\n",
    "    HAVING length(is_4_weeks_from_grant_start || is_20_pct_from_50k || is_7_pct_from_150k) > 0\n",
    "    and is_active_trial == 1\n",
    ") as grant_info\n",
    "ON cube_info.Billing_account_id == grant_info.billing_account_id\n",
    "WHERE Phone_1 != ''\n",
    "AND isNotNull(Phone_1)\n",
    "FORMAT TabSeparatedWithNames\n",
    "\"\"\")"
   ]
  },
  {
   "cell_type": "code",
   "execution_count": 167,
   "metadata": {},
   "outputs": [],
   "source": [
    "df['Email'] = df['Email'].apply(lambda x: '[\"' + x + '\"]' if not pd.isnull(x) else np.nan)\n",
    "df['Tags'] = df['Tags'].astype(str).apply(lambda x: x.replace(\"'\", '\"') if not pd.isnull(x) else np.nan)\n",
    "df['Phone_1'] = df['Phone_1'].astype(str)"
   ]
  },
  {
   "cell_type": "code",
   "execution_count": 177,
   "metadata": {},
   "outputs": [
    {
     "data": {
      "text/plain": [
       "(0, 12)"
      ]
     },
     "execution_count": 177,
     "metadata": {},
     "output_type": "execute_result"
    }
   ],
   "source": [
    "df.shape"
   ]
  },
  {
   "cell_type": "code",
   "execution_count": 172,
   "metadata": {},
   "outputs": [],
   "source": [
    "drop_req = f\"\"\"\n",
    "SELECT DISTINCT Billing_account_id \n",
    "from \"//home/cloud_analytics/lunin-dv/call_center_output_streaming_output/drop_billing_id_isv_onboarding\"\n",
    "FORMAT TabSeparatedWithNames\n",
    "\"\"\"\n",
    "drop_df = lib.execute_query(drop_req)\n",
    "df = df[~df['Billing_account_id'].isin(drop_df['Billing_account_id'])]"
   ]
  },
  {
   "cell_type": "code",
   "execution_count": 173,
   "metadata": {},
   "outputs": [],
   "source": [
    "df['Billing_account_id'] =\\\n",
    "df['Billing_account_id'].apply(lambda x: '[\"' + x + '\"]' if not pd.isnull(x) else np.nan)\n",
    "df = df[~df['Billing_account_id'].isin(drop_df['Billing_account_id'])]"
   ]
  },
  {
   "cell_type": "code",
   "execution_count": 163,
   "metadata": {},
   "outputs": [],
   "source": [
    "lib.save_table(\"update_leads\", \n",
    "               \"//home/cloud_analytics/export/crm/update_call_center_leads\",\n",
    "               df, append=True)"
   ]
  },
  {
   "cell_type": "markdown",
   "metadata": {},
   "source": [
    "## dropped list update"
   ]
  },
  {
   "cell_type": "code",
   "execution_count": 164,
   "metadata": {},
   "outputs": [],
   "source": [
    "new_drop_list_df = pd.DataFrame(df['Billing_account_id'])\n",
    "lib.save_table('drop_billing_id_isv_onboarding', \n",
    "               '//home/cloud_analytics/lunin-dv/call_center_output_streaming_output',\n",
    "               new_drop_list_df, append=True)"
   ]
  },
  {
   "cell_type": "code",
   "execution_count": null,
   "metadata": {},
   "outputs": [],
   "source": []
  }
 ],
 "metadata": {
  "kernelspec": {
   "display_name": "Python 3",
   "language": "python",
   "name": "python3"
  },
  "language_info": {
   "codemirror_mode": {
    "name": "ipython",
    "version": 3
   },
   "file_extension": ".py",
   "mimetype": "text/x-python",
   "name": "python",
   "nbconvert_exporter": "python",
   "pygments_lexer": "ipython3",
   "version": "3.7.4"
  }
 },
 "nbformat": 4,
 "nbformat_minor": 2
}
