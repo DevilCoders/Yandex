{
 "cells": [
  {
   "cell_type": "code",
   "execution_count": null,
   "metadata": {},
   "outputs": [],
   "source": [
    "import scipy.stats as sps\n",
    "from sklearn.model_selection import train_test_split\n",
    "import gc\n",
    "from sklearn.linear_model import LinearRegression\n",
    "from dateutil.parser import *\n",
    "import pandas as pd\n",
    "import numpy as np\n",
    "import os\n",
    "import yt.wrapper as yt\n",
    "from collections import Counter\n",
    "import json\n",
    "import typing as tp\n",
    "import ast\n",
    "from datetime import datetime\n",
    "os.chdir('/Users/lunin-dv/Desktop/Library/')\n",
    "import importlib\n",
    "import my_library as lib\n",
    "import operator\n",
    "import re\n",
    "importlib.reload(lib)\n",
    "os.chdir('/Users/lunin-dv/Desktop/data/')"
   ]
  },
  {
   "cell_type": "markdown",
   "metadata": {},
   "source": [
    "# 1. Добавление"
   ]
  },
  {
   "cell_type": "code",
   "execution_count": null,
   "metadata": {},
   "outputs": [],
   "source": [
    "req = \"\"\"\n",
    "select DISTINCT\n",
    "    lead_id as task_id, \n",
    "    first_name, \n",
    "    last_name,\n",
    "    account_name,\n",
    "    phone_mobile, \n",
    "    email, \n",
    "    status,\n",
    "    lead_source,\n",
    "    lead_source_description,\n",
    "    description,\n",
    "    timezone\n",
    "from \n",
    "    \"//home/cloud_analytics/kulaga/leads_cube\"\n",
    "where \n",
    "    lead_source = 'cold_calls'\n",
    "    and lower(tag_name) = 'прозвон_кц'\n",
    "    and email not in (null, '')\n",
    "    and toDate(date_modified) <= addDays(NOW(), -2)\n",
    "    and toDate(date_modified) >= toDate('2020-07-29')\n",
    "    and phone_mobile != ''\n",
    "    AND isNotNull(phone_mobile)\n",
    "FORMAT TabSeparatedWithNames\n",
    "\"\"\".encode('utf-8')\n",
    "df = lib.execute_query(req)"
   ]
  },
  {
   "cell_type": "code",
   "execution_count": null,
   "metadata": {},
   "outputs": [],
   "source": [
    "df.shape"
   ]
  },
  {
   "cell_type": "code",
   "execution_count": null,
   "metadata": {},
   "outputs": [],
   "source": [
    "old_df = lib.execute_query(\"\"\"\n",
    "SELECT \n",
    "    DISTINCT\n",
    "    task_id\n",
    "FROM \"//home/cloud_analytics/lunin-dv/call_center_output_streaming_output/pcc_drop_task_id\"\n",
    "FORMAT TabSeparatedWithNames\n",
    "\"\"\")"
   ]
  },
  {
   "cell_type": "code",
   "execution_count": null,
   "metadata": {},
   "outputs": [],
   "source": [
    "df = df[~df[\"task_id\"].isin(old_df[\"task_id\"])]"
   ]
  },
  {
   "cell_type": "code",
   "execution_count": null,
   "metadata": {},
   "outputs": [],
   "source": [
    "df.shape"
   ]
  },
  {
   "cell_type": "code",
   "execution_count": null,
   "metadata": {},
   "outputs": [],
   "source": [
    "str(datetime.now()).replace(\" \", \"T\")"
   ]
  },
  {
   "cell_type": "code",
   "execution_count": null,
   "metadata": {},
   "outputs": [],
   "source": [
    "if len(df) > 0:\n",
    "    lib.save_table(str(datetime.now()).replace(\" \", \"T\"), \n",
    "               \"//home/cloud_analytics/call_center/input/activation\", df)"
   ]
  },
  {
   "cell_type": "markdown",
   "metadata": {},
   "source": [
    "## dropped list update\n"
   ]
  },
  {
   "cell_type": "code",
   "execution_count": null,
   "metadata": {},
   "outputs": [],
   "source": [
    "added_df = pd.DataFrame(df[\"task_id\"])"
   ]
  },
  {
   "cell_type": "code",
   "execution_count": null,
   "metadata": {},
   "outputs": [],
   "source": [
    "lib.save_table(\"pcc_drop_task_id\", \n",
    "               \"//home/cloud_analytics/lunin-dv/call_center_output_streaming_output\", added_df, append=True)"
   ]
  },
  {
   "cell_type": "markdown",
   "metadata": {},
   "source": [
    "# 2. Update Lead"
   ]
  },
  {
   "cell_type": "code",
   "execution_count": null,
   "metadata": {},
   "outputs": [],
   "source": [
    "req = \"\"\"\n",
    "SELECT\n",
    "    toInt64(NOW()) as Timestamp,\n",
    "    CAST(task_id as String) as CRM_Lead_ID,\n",
    "    if(activated == 1, ['activated'], ['not activated']) as tag_a,\n",
    "    arrayReduce('groupUniqArray', arrayConcat(tag_b, tag_a)) as Tags,\n",
    "    'In Process' as Status,\n",
    "    toDateTime(toInt64(assignment_approve_time / 1000)) as Last_communication_date,\n",
    "    Comment as Notes\n",
    "FROM \"//home/cloud_analytics/call_center/output/pcc_output\" as a\n",
    "INNER JOIN (\n",
    "    SELECT\n",
    "        DISTINCT\n",
    "            lead_id,\n",
    "            groupUniqArray(tag_name) as tag_b\n",
    "    FROM \"//home/cloud_analytics/kulaga/leads_cube\"\n",
    "    GROUP BY lead_id\n",
    ") as b\n",
    "ON a.task_id == b.lead_id\n",
    "FORMAT TabSeparatedWithNames\n",
    "\"\"\".encode('utf-8')\n",
    "\n",
    "update_df = lib.execute_query(req)\n",
    "update_df.drop(columns = ['tag_a'], inplace=True)"
   ]
  },
  {
   "cell_type": "code",
   "execution_count": null,
   "metadata": {},
   "outputs": [],
   "source": [
    "update_df['Tags'] = update_df['Tags'].apply(lambda x: x if x.remove('прозвон_кц') else x )"
   ]
  },
  {
   "cell_type": "code",
   "execution_count": null,
   "metadata": {},
   "outputs": [],
   "source": [
    "update_df['Tags'] = update_df['Tags'].astype(str)"
   ]
  },
  {
   "cell_type": "code",
   "execution_count": null,
   "metadata": {},
   "outputs": [],
   "source": [
    "update_df['Tags'] = update_df['Tags'].apply(lambda x: x.replace(\"'\", '\"') if not pd.isnull(x) else np.nan)"
   ]
  },
  {
   "cell_type": "code",
   "execution_count": null,
   "metadata": {},
   "outputs": [],
   "source": [
    "old_df = lib.execute_query(\"\"\"\n",
    "SELECT\n",
    "    DISTINCT \n",
    "    CRM_Lead_ID || '__' || toString(ifNull(Last_communication_date, '')) as key\n",
    "FROM \"//home/cloud_analytics/export/crm/update_call_center_leads/update_leads\"\n",
    "FORMAT TabSeparatedWithNames\n",
    "\"\"\")"
   ]
  },
  {
   "cell_type": "code",
   "execution_count": null,
   "metadata": {},
   "outputs": [],
   "source": [
    "update_df = update_df[~update_df[['CRM_Lead_ID', 'Last_communication_date']]\\\n",
    "          .apply(lambda x: x['CRM_Lead_ID'] + \"__\" + x['Last_communication_date'], axis=1)\\\n",
    "          .isin(old_df['key'])]"
   ]
  },
  {
   "cell_type": "code",
   "execution_count": null,
   "metadata": {},
   "outputs": [],
   "source": [
    "update_df.shape"
   ]
  },
  {
   "cell_type": "code",
   "execution_count": null,
   "metadata": {},
   "outputs": [],
   "source": [
    "lib.save_table('update_leads', \"//home/cloud_analytics/export/crm/update_call_center_leads\",\n",
    "               update_df, append=True)"
   ]
  }
 ],
 "metadata": {
  "kernelspec": {
   "display_name": "Python 3",
   "language": "python",
   "name": "python3"
  },
  "language_info": {
   "codemirror_mode": {
    "name": "ipython",
    "version": 3
   },
   "file_extension": ".py",
   "mimetype": "text/x-python",
   "name": "python",
   "nbconvert_exporter": "python",
   "pygments_lexer": "ipython3",
   "version": "3.7.4"
  }
 },
 "nbformat": 4,
 "nbformat_minor": 2
}
