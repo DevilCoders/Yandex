{
 "cells": [
  {
   "cell_type": "code",
   "execution_count": null,
   "metadata": {},
   "outputs": [],
   "source": [
    "import scipy.stats as sps\n",
    "from sklearn.model_selection import train_test_split\n",
    "import gc\n",
    "from sklearn.linear_model import LinearRegression\n",
    "from dateutil.parser import *\n",
    "import pandas as pd\n",
    "import numpy as np\n",
    "import os\n",
    "import yt.wrapper as yt\n",
    "from collections import Counter\n",
    "import json\n",
    "import typing as tp\n",
    "import ast\n",
    "from datetime import datetime\n",
    "os.chdir('/Users/lunin-dv/Desktop/Library/')\n",
    "import importlib\n",
    "import my_library as lib\n",
    "import operator\n",
    "import re\n",
    "importlib.reload(lib)\n",
    "os.chdir('/Users/lunin-dv/Desktop/data/')"
   ]
  },
  {
   "cell_type": "code",
   "execution_count": null,
   "metadata": {},
   "outputs": [],
   "source": [
    "leads_last = sorted(lib.find_tables_in_hahn_folder(\"//home/cloud_analytics/dwh/raw/crm/leads\"))[-1]"
   ]
  },
  {
   "cell_type": "code",
   "execution_count": null,
   "metadata": {},
   "outputs": [],
   "source": [
    "leads_last"
   ]
  },
  {
   "cell_type": "markdown",
   "metadata": {},
   "source": [
    "# 1. Добавление"
   ]
  },
  {
   "cell_type": "code",
   "execution_count": null,
   "metadata": {},
   "outputs": [],
   "source": [
    "req = f\"\"\"\n",
    "SELECT\n",
    "    task_id,\n",
    "    first_name,\n",
    "    last_name,\n",
    "    account_name,\n",
    "    phone_mobile,\n",
    "    email,\n",
    "    status,\n",
    "    lead_source,\n",
    "    lead_source_description,\n",
    "    description,\n",
    "    timezone,\n",
    "    website,\n",
    "    'korsakovakris, baranovamargo' as reserved_for\n",
    "FROM (\n",
    "    SELECT DISTINCT\n",
    "        lead_id as task_id, \n",
    "        any(first_name) as first_name,\n",
    "        any(last_name) as last_name,\n",
    "        any(account_name) as account_name, \n",
    "        any(phone_mobile) as phone_mobile,\n",
    "        any(email) as email,\n",
    "        status,\n",
    "        lead_source,\n",
    "        any(lead_source_description) as lead_source_description,\n",
    "        any(description) as description,\n",
    "        any(timezone) as timezone\n",
    "    from \n",
    "        \"//home/cloud_analytics/kulaga/leads_cube\"\n",
    "    where lead_source = 'isv' \n",
    "    and status in ('New', 'Assigned')\n",
    "    and lower(tag_name) = 'прозвон_кц'\n",
    "    GROUP BY task_id, status, lead_source, tag_name\n",
    ") as a\n",
    "INNER JOIN (\n",
    "    SELECT\n",
    "        DISTINCT\n",
    "        id as lead_id,\n",
    "        max(lower(website)) as website\n",
    "    FROM \"{leads_last}\"\n",
    "    GROUP BY lead_id\n",
    ") as b\n",
    "ON a.task_id == b.lead_id\n",
    "WHERE phone_mobile != ''\n",
    "    AND isNotNull(phone_mobile)\n",
    "FORMAT TabSeparatedWithNames\n",
    "\"\"\"\n",
    "df = lib.execute_query(req.encode('utf-8'))"
   ]
  },
  {
   "cell_type": "code",
   "execution_count": null,
   "metadata": {},
   "outputs": [],
   "source": [
    "df.shape"
   ]
  },
  {
   "cell_type": "code",
   "execution_count": null,
   "metadata": {},
   "outputs": [],
   "source": [
    "var_df = lib.execute_query(f\"\"\"\n",
    "SELECT\n",
    "    DISTINCT\n",
    "        phone_mobile,\n",
    "        email,\n",
    "        website,\n",
    "        lead_id\n",
    "FROM \"//home/cloud_analytics/kulaga/leads_cube\" as a\n",
    "LEFT JOIN (\n",
    "    SELECT\n",
    "        DISTINCT\n",
    "        id as lead_id,\n",
    "        max(lower(website)) as website\n",
    "    FROM \"{leads_last}\"\n",
    "    GROUP BY lead_id\n",
    ") as b\n",
    "ON a.lead_id == b.lead_id\n",
    "WHERE lead_source = 'var'\n",
    "AND phone_mobile != ''\n",
    "AND isNotNull(phone_mobile)\n",
    "FORMAT TabSeparatedWithNames\n",
    "\"\"\")"
   ]
  },
  {
   "cell_type": "code",
   "execution_count": null,
   "metadata": {},
   "outputs": [],
   "source": [
    "old_df = lib.execute_query(\"\"\"\n",
    "SELECT \n",
    "    DISTINCT\n",
    "    task_id\n",
    "FROM \"//home/cloud_analytics/lunin-dv/call_center_output_streaming_output/isv_source_drop_task_id\"\n",
    "FORMAT TabSeparatedWithNames\n",
    "\"\"\")\n",
    "df = df[~df[\"task_id\"].isin(old_df[\"task_id\"])]"
   ]
  },
  {
   "cell_type": "code",
   "execution_count": null,
   "metadata": {},
   "outputs": [],
   "source": [
    "var_df['phone_mobile'] = var_df['phone_mobile'].apply(lambda x: lib.works_with_phones(x))\n",
    "df['phone_mobile'] = df['phone_mobile'].apply(lambda x: lib.works_with_phones(x))\n",
    "\n",
    "repeat_var = df[(df['phone_mobile'].isin(var_df['phone_mobile'].fillna('trash'))) |\n",
    "                (df['email'].isin(var_df['email'].fillna('trash'))) |\n",
    "                (df['website'].isin(var_df['website'].fillna('trash')))]"
   ]
  },
  {
   "cell_type": "code",
   "execution_count": null,
   "metadata": {},
   "outputs": [],
   "source": [
    "df = df[~df[\"task_id\"].isin(repeat_var[\"task_id\"])]"
   ]
  },
  {
   "cell_type": "code",
   "execution_count": null,
   "metadata": {},
   "outputs": [],
   "source": [
    "if len(df) > 0:\n",
    "    lib.save_table(str(datetime.now()).replace(\" \", \"T\"), \n",
    "               \"//home/cloud_analytics/call_center/input/isv\", df)"
   ]
  },
  {
   "cell_type": "markdown",
   "metadata": {},
   "source": [
    "## dropped list update"
   ]
  },
  {
   "cell_type": "code",
   "execution_count": null,
   "metadata": {},
   "outputs": [],
   "source": [
    "added_df = pd.DataFrame(df[\"task_id\"])"
   ]
  },
  {
   "cell_type": "code",
   "execution_count": null,
   "metadata": {},
   "outputs": [],
   "source": [
    "lib.save_table(\"isv_source_drop_task_id\", \n",
    "               \"//home/cloud_analytics/lunin-dv/call_center_output_streaming_output\", added_df, append=True)"
   ]
  },
  {
   "cell_type": "markdown",
   "metadata": {},
   "source": [
    "# 1.25 Дубликат Var"
   ]
  },
  {
   "cell_type": "code",
   "execution_count": null,
   "metadata": {},
   "outputs": [],
   "source": [
    "double_isv_var_df = pd.DataFrame()\n",
    "double_isv_var_df['CRM_Lead_ID'] = repeat_var['task_id']\n",
    "double_isv_var_df['Tags'] = '[\"дубль заявки isv/var\"]'\n",
    "double_isv_var_df['Assigned_to'] = 'eknyaz'"
   ]
  },
  {
   "cell_type": "code",
   "execution_count": null,
   "metadata": {},
   "outputs": [],
   "source": [
    "dt = lib.execute_query(\"\"\"\n",
    "SELECT\n",
    "    toInt64(NOW()) as Timestamp\n",
    "FORMAT TabSeparatedWithNames\n",
    "\"\"\")['Timestamp'].iloc[0]\n"
   ]
  },
  {
   "cell_type": "code",
   "execution_count": null,
   "metadata": {},
   "outputs": [],
   "source": [
    "double_isv_var_df['Timestamp'] = dt"
   ]
  },
  {
   "cell_type": "code",
   "execution_count": null,
   "metadata": {},
   "outputs": [],
   "source": [
    "double_isv_var_df"
   ]
  },
  {
   "cell_type": "code",
   "execution_count": null,
   "metadata": {},
   "outputs": [],
   "source": [
    "lib.save_table('update_leads', \"//home/cloud_analytics/export/crm/update_call_center_leads\",\n",
    "               double_isv_var_df, append=True)"
   ]
  },
  {
   "cell_type": "markdown",
   "metadata": {},
   "source": [
    "# 1.5 Повторное добавление"
   ]
  },
  {
   "cell_type": "code",
   "execution_count": null,
   "metadata": {},
   "outputs": [],
   "source": [
    "second_df = lib.execute_query(\"\"\"\n",
    "select \n",
    "    task_id, \n",
    "    assignment_dt, \n",
    "    coalesce(billing_account_id, '') as billing_account_id,\n",
    "    first_name,\n",
    "    last_name,\n",
    "    account_name, \n",
    "    phone_mobile,\n",
    "    email,\n",
    "    status,\n",
    "    lead_source,\n",
    "    lead_source_description,\n",
    "    description,\n",
    "    timezone,\n",
    "    '' as reserved_for\n",
    "from \n",
    "(select DISTINCT\n",
    "    task_id,\n",
    "    toDate(assignment_approve_time/1000) as assignment_dt\n",
    "from\n",
    "    \"//home/cloud_analytics/call_center/output/isv_output\") as t0 \n",
    "left join \n",
    "(select \n",
    "    lead_id, \n",
    "    argMax(billing_account_id, date_modified) as billing_account_id,\n",
    "    argMax(first_name, date_modified) as first_name,\n",
    "    argMax(last_name, date_modified) as last_name,\n",
    "    argMax(account_name, date_modified) as account_name, \n",
    "    argMax(phone_mobile, date_modified) as phone_mobile,\n",
    "    argMax(email, date_modified) as email,\n",
    "    argMax(status, date_modified) as status,\n",
    "    argMax(lead_source, date_modified) as lead_source,\n",
    "    argMax(lead_source_description, date_modified) as lead_source_description,\n",
    "    'no billing_account_id' as description,\n",
    "    argMax(timezone, date_modified) as timezone\n",
    "from \n",
    "    \"//home/cloud_analytics/kulaga/leads_cube\"\n",
    "group by \n",
    "    lead_id\n",
    ") as t1 \n",
    "on t0.task_id = t1.lead_id\n",
    "\n",
    "where billing_account_id in (null, '')\n",
    "and status != 'Recycled'\n",
    "and (toDate(today()) - assignment_dt >= 3\n",
    "OR task_id in (SELECT DISTINCT task_id FROM \n",
    "\"//home/cloud_analytics/call_center/output/isv_output\"\n",
    "WHERE CAST(Tags as String) like '%non_resident%')\n",
    ")\n",
    "AND phone_mobile != ''\n",
    "AND isNotNull(phone_mobile)\n",
    "FORMAT TabSeparatedWithNames\n",
    "\"\"\".encode('utf-8'))"
   ]
  },
  {
   "cell_type": "code",
   "execution_count": null,
   "metadata": {},
   "outputs": [],
   "source": [
    "old_df = lib.execute_query(\"\"\"\n",
    "SELECT \n",
    "    DISTINCT\n",
    "    task_id\n",
    "FROM \"//home/cloud_analytics/lunin-dv/call_center_output_streaming_output/isv_source_drop_task_id_second_call\"\n",
    "FORMAT TabSeparatedWithNames\n",
    "\"\"\")\n",
    "second_df = second_df[~second_df[\"task_id\"].isin(old_df[\"task_id\"])]"
   ]
  },
  {
   "cell_type": "code",
   "execution_count": null,
   "metadata": {},
   "outputs": [],
   "source": [
    "if len(second_df) > 0:\n",
    "    lib.save_table(str(datetime.now()).replace(\" \", \"T\"), \n",
    "               \"//home/cloud_analytics/call_center/input/isv\", second_df)"
   ]
  },
  {
   "cell_type": "code",
   "execution_count": null,
   "metadata": {},
   "outputs": [],
   "source": [
    "added_df = pd.DataFrame(second_df[\"task_id\"])\n",
    "lib.save_table(\"isv_source_drop_task_id_second_call\", \n",
    "               \"//home/cloud_analytics/lunin-dv/call_center_output_streaming_output\", added_df, append=True)"
   ]
  },
  {
   "cell_type": "markdown",
   "metadata": {},
   "source": [
    "# 2. Update Lead"
   ]
  },
  {
   "cell_type": "code",
   "execution_count": null,
   "metadata": {},
   "outputs": [],
   "source": [
    "req = \"\"\"\n",
    "SELECT\n",
    "    toInt64(NOW()) as Timestamp,\n",
    "    CAST(task_id as String) as CRM_Lead_ID,\n",
    "    Billing_account_id as Billing_account_id_New,\n",
    "    billing_account_id as Billing_account_id,\n",
    "    relevant_contact_name as First_name,\n",
    "    lower(relevant_contact_email) as Email_New,\n",
    "    lower(email) as Email,\n",
    "    relevant_contact_phone as Phone_2,\n",
    "    multiIf(result == 'decline', 'Не готов общаться',\n",
    "            status = 'no_response', 'Не дозвонились',\n",
    "            null) as Dimensions,\n",
    "    dimension as raw_dimensions,\n",
    "    \n",
    "     multiIf(CAST(Tags as String) like '%принять%', 'validated',\n",
    "            CAST(Tags as String) like '%под вопросом%', 'tentative',\n",
    "            CAST(Tags as String) like '%non_resident%', 'non_resident',\n",
    "            CAST(Tags as String) like '%отклонить%', 'annulated', \n",
    "            null) as Tags,\n",
    "    if(instruction_required == 1, 'need_ba', null) as Tags_New,\n",
    "    if (Tags == 'annulated', 'Recycled', null) as Status,\n",
    "    'eknyaz' as Assigned_to,\n",
    "    toDateTime(toInt64(assignment_approve_time / 1000)) as Last_communication_date,\n",
    "\n",
    "    toString(ifNull(Comment, '')) || \n",
    "        '; Собственные продукты: ' || toString(ifNull(own_product, '')) || \n",
    "        '; Аудитория/Профиль партнера:  ' || toString(ifNull(profile, '')) || \n",
    "        '; Модель тарификации: ' || toString(ifNull(tariffing, '')) || \n",
    "        '; ИТ-ресурсы: ' || toString(ifNull(it_resources, '')) ||  \n",
    "        '; Рассматривает переход в Я.О: ' || toString(ifNull(has_interest, 0))  || \n",
    "        '; Является платящим клиентом Я.О: ' || toString(ifNull(is_paid, 0))  || \n",
    "        '; Нужна инструкция по созданию биллинг аккаунта: ' || toString(ifNull(instruction_required, 0)) ||\n",
    "        '; website: ' || toString(ifNull(website, '')) as Notes\n",
    "FROM \"//home/cloud_analytics/call_center/output/isv_output\" as a\n",
    "ANY LEFT JOIN (\n",
    "    SELECT\n",
    "        max(email) as email,\n",
    "        max(billing_account_id) as billing_account_id,\n",
    "        lead_id\n",
    "    FROM \"//home/cloud_analytics/kulaga/leads_cube\"\n",
    "    GROUP BY lead_id\n",
    ") as b\n",
    "ON CRM_Lead_ID == lead_id\n",
    "FORMAT TabSeparatedWithNames\n",
    "\"\"\".encode('utf-8')\n",
    "\n",
    "update_df = lib.execute_query(req)"
   ]
  },
  {
   "cell_type": "code",
   "execution_count": null,
   "metadata": {},
   "outputs": [],
   "source": [
    "def raw_yson_str_parser_for_russian_text(exm):\n",
    "    need_del=False\n",
    "    final_str = \"\"\n",
    "    for sym in exm:\n",
    "        if need_del:\n",
    "            if len(re.sub('[^а-яА-Я]', '', sym)) != 0:\n",
    "                need_del = False\n",
    "            pass\n",
    "        if not need_del and sym not in '[]':\n",
    "            final_str += sym\n",
    "        if sym in '[;]':\n",
    "            need_del=True\n",
    "    if len(final_str) > 0 and final_str[-1] == ';':\n",
    "        final_str = final_str[:-1]\n",
    "    return final_str.split(';')"
   ]
  },
  {
   "cell_type": "code",
   "execution_count": null,
   "metadata": {},
   "outputs": [],
   "source": [
    "update_df['raw_dimensions'] = update_df['raw_dimensions'].apply(lambda x:\n",
    "                                                           raw_yson_str_parser_for_russian_text(x)\n",
    "                                                            if not pd.isnull(x) else x)\n"
   ]
  },
  {
   "cell_type": "code",
   "execution_count": null,
   "metadata": {},
   "outputs": [],
   "source": [
    "def concat_dimensions(row):\n",
    "    arr = []\n",
    "    if not pd.isnull(row['Dimensions']) and row['Dimensions'] != '':\n",
    "        arr.append(row['Dimensions'])\n",
    "    if isinstance(row['raw_dimensions'], list):\n",
    "        if '' in row['raw_dimensions']:\n",
    "            row['raw_dimensions'].remove('')\n",
    "        arr += row['raw_dimensions']\n",
    "    return arr"
   ]
  },
  {
   "cell_type": "code",
   "execution_count": null,
   "metadata": {},
   "outputs": [],
   "source": [
    "update_df[\"Dimensions\"] = update_df.apply(lambda row: concat_dimensions(row), axis=1)"
   ]
  },
  {
   "cell_type": "code",
   "execution_count": null,
   "metadata": {},
   "outputs": [],
   "source": [
    "def concat_array_strings_old_new(x, name):\n",
    "    add = []\n",
    "    if not pd.isnull(x[name]):\n",
    "        if name.lower() == 'email':\n",
    "            add.append(lib.works_with_emails(x[name].strip()))\n",
    "        else:\n",
    "            add.append(x[name].strip())\n",
    "    if not pd.isnull(x[name + \"_New\"]):\n",
    "        if name.lower() == 'email':\n",
    "            add.append(lib.works_with_emails(x[name + \"_New\"].strip()))\n",
    "        else:\n",
    "            add.append(x[name + \"_New\"].strip())\n",
    "    if len(list(set(add))) > 0:\n",
    "        return list(set(add))\n",
    "    return np.nan"
   ]
  },
  {
   "cell_type": "code",
   "execution_count": null,
   "metadata": {},
   "outputs": [],
   "source": [
    "update_df['Email'] = update_df.apply(lambda x: concat_array_strings_old_new(x, \"Email\"), axis=1)\n",
    "update_df['Billing_account_id'] = update_df.apply(lambda x: \n",
    "                                                  concat_array_strings_old_new(x, \"Billing_account_id\"), axis=1)\n",
    "update_df['Tags'] = update_df.apply(lambda x: concat_array_strings_old_new(x, \"Tags\"), axis=1)"
   ]
  },
  {
   "cell_type": "code",
   "execution_count": null,
   "metadata": {},
   "outputs": [],
   "source": [
    "arr_cols = ['Email', 'Billing_account_id', 'Tags', 'Dimensions']\n",
    "for col in arr_cols:\n",
    "    update_df[col] = update_df[col].astype(str)\n",
    "    update_df[col] = update_df[col].apply(lambda x: x.replace(\"'\", '\"') if not pd.isnull(x) else np.nan)"
   ]
  },
  {
   "cell_type": "code",
   "execution_count": null,
   "metadata": {},
   "outputs": [],
   "source": [
    "update_df.drop(columns = ['raw_dimensions'], inplace=True)"
   ]
  },
  {
   "cell_type": "code",
   "execution_count": null,
   "metadata": {},
   "outputs": [],
   "source": [
    "dropped = []\n",
    "for col in update_df.columns:\n",
    "    if \"_New\" in col:\n",
    "        dropped.append(col)\n",
    "update_df.drop(columns=dropped, inplace=True)"
   ]
  },
  {
   "cell_type": "code",
   "execution_count": null,
   "metadata": {},
   "outputs": [],
   "source": [
    "old_df = lib.execute_query(\"\"\"\n",
    "SELECT\n",
    "    DISTINCT \n",
    "    CRM_Lead_ID || '__' || toString(ifNull(Last_communication_date, '')) as key\n",
    "FROM \"//home/cloud_analytics/export/crm/update_call_center_leads/update_leads\"\n",
    "FORMAT TabSeparatedWithNames\n",
    "\"\"\")"
   ]
  },
  {
   "cell_type": "code",
   "execution_count": null,
   "metadata": {},
   "outputs": [],
   "source": [
    "update_df = update_df[~update_df[['CRM_Lead_ID', 'Last_communication_date']]\\\n",
    "          .apply(lambda x: x['CRM_Lead_ID'] + \"__\" + x['Last_communication_date'], axis=1)\\\n",
    "          .isin(old_df['key'])]"
   ]
  },
  {
   "cell_type": "code",
   "execution_count": null,
   "metadata": {},
   "outputs": [],
   "source": [
    "update_df['Phone_2'] = update_df['Phone_2'].astype(str)"
   ]
  },
  {
   "cell_type": "code",
   "execution_count": null,
   "metadata": {},
   "outputs": [],
   "source": [
    "update_df.replace(\"nan\", np.nan, inplace=True)"
   ]
  },
  {
   "cell_type": "code",
   "execution_count": null,
   "metadata": {},
   "outputs": [],
   "source": [
    "lib.save_table('update_leads', \"//home/cloud_analytics/export/crm/update_call_center_leads\",\n",
    "               update_df, append=True)"
   ]
  },
  {
   "cell_type": "code",
   "execution_count": null,
   "metadata": {},
   "outputs": [],
   "source": []
  }
 ],
 "metadata": {
  "kernelspec": {
   "display_name": "Python 3",
   "language": "python",
   "name": "python3"
  },
  "language_info": {
   "codemirror_mode": {
    "name": "ipython",
    "version": 3
   },
   "file_extension": ".py",
   "mimetype": "text/x-python",
   "name": "python",
   "nbconvert_exporter": "python",
   "pygments_lexer": "ipython3",
   "version": "3.7.4"
  }
 },
 "nbformat": 4,
 "nbformat_minor": 2
}
