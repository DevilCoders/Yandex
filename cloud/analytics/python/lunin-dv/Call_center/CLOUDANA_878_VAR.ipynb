{
 "cells": [
  {
   "cell_type": "code",
   "execution_count": null,
   "metadata": {},
   "outputs": [],
   "source": [
    "import scipy.stats as sps\n",
    "from sklearn.model_selection import train_test_split\n",
    "import gc\n",
    "from sklearn.linear_model import LinearRegression\n",
    "from dateutil.parser import *\n",
    "import pandas as pd\n",
    "import numpy as np\n",
    "import os\n",
    "import yt.wrapper as yt\n",
    "from collections import Counter\n",
    "import json\n",
    "import typing as tp\n",
    "import ast\n",
    "from datetime import datetime\n",
    "os.chdir('/Users/lunin-dv/Desktop/Library/')\n",
    "import importlib\n",
    "import my_library as lib\n",
    "import operator\n",
    "import re\n",
    "importlib.reload(lib)\n",
    "os.chdir('/Users/lunin-dv/Desktop/data/')"
   ]
  },
  {
   "cell_type": "code",
   "execution_count": null,
   "metadata": {},
   "outputs": [],
   "source": [
    "leads_last = sorted(lib.find_tables_in_hahn_folder(\"//home/cloud_analytics/dwh/raw/crm/leads\"))[-1]\n",
    "leads_last"
   ]
  },
  {
   "cell_type": "markdown",
   "metadata": {},
   "source": [
    "# 1. Добавление"
   ]
  },
  {
   "cell_type": "code",
   "execution_count": null,
   "metadata": {},
   "outputs": [],
   "source": [
    "req = f\"\"\"\n",
    "SELECT\n",
    "    task_id,\n",
    "    first_name,\n",
    "    last_name,\n",
    "    account_name,\n",
    "    phone_mobile,\n",
    "    email,\n",
    "    status,\n",
    "    lead_source,\n",
    "    lead_source_description,\n",
    "    description,\n",
    "    timezone,\n",
    "    website\n",
    "FROM (\n",
    "    select DISTINCT\n",
    "        lead_id as task_id, \n",
    "        any(first_name) as first_name,\n",
    "        any(last_name) as last_name,\n",
    "        any(account_name) as account_name, \n",
    "        any(phone_mobile) as phone_mobile,\n",
    "        any(email) as email,\n",
    "        status,\n",
    "        lead_source,\n",
    "        any(lead_source_description) as lead_source_description,\n",
    "        any(description) as description,\n",
    "        any(timezone) as timezone\n",
    "    from \n",
    "        \"//home/cloud_analytics/kulaga/leads_cube\"\n",
    "    where (lead_source = 'var'\n",
    "    OR lead_source = 'referrals')\n",
    "    and status in ('New', 'Assigned')\n",
    "    GROUP BY task_id, status, lead_source\n",
    ") as a\n",
    "LEFT JOIN (\n",
    "    SELECT\n",
    "        DISTINCT\n",
    "        id as lead_id,\n",
    "        max(lower(website)) as website\n",
    "    FROM \"{leads_last}\"\n",
    "    GROUP BY lead_id\n",
    ") as b\n",
    "ON a.task_id == b.lead_id\n",
    "WHERE phone_mobile != ''\n",
    "AND isNotNull(phone_mobile)\n",
    "FORMAT TabSeparatedWithNames\n",
    "\"\"\"\n",
    "df = lib.execute_query(req)"
   ]
  },
  {
   "cell_type": "code",
   "execution_count": null,
   "metadata": {},
   "outputs": [],
   "source": [
    "isv_df = lib.execute_query(f\"\"\"\n",
    "SELECT\n",
    "    DISTINCT\n",
    "        phone_mobile,\n",
    "        email,\n",
    "        website\n",
    "FROM \"//home/cloud_analytics/kulaga/leads_cube\" as a\n",
    "LEFT JOIN (\n",
    "    SELECT\n",
    "        DISTINCT\n",
    "        id as lead_id,\n",
    "        max(lower(website)) as website\n",
    "    FROM \"{leads_last}\"\n",
    "    GROUP BY lead_id\n",
    ") as b\n",
    "ON a.lead_id == b.lead_id\n",
    "WHERE lead_source = 'isv'\n",
    "AND phone_mobile != ''\n",
    "AND isNotNull(phone_mobile)\n",
    "FORMAT TabSeparatedWithNames\n",
    "\"\"\")"
   ]
  },
  {
   "cell_type": "code",
   "execution_count": null,
   "metadata": {},
   "outputs": [],
   "source": [
    "old_df = lib.execute_query(\"\"\"\n",
    "SELECT \n",
    "    DISTINCT\n",
    "    task_id\n",
    "FROM \"//home/cloud_analytics/lunin-dv/call_center_output_streaming_output/var_source_drop_task_id\"\n",
    "FORMAT TabSeparatedWithNames\n",
    "\"\"\")\n",
    "df = df[~df[\"task_id\"].isin(old_df[\"task_id\"])]"
   ]
  },
  {
   "cell_type": "code",
   "execution_count": null,
   "metadata": {},
   "outputs": [],
   "source": [
    "isv_df['phone_mobile'] = isv_df['phone_mobile'].apply(lambda x: lib.works_with_phones(x))\n",
    "df['phone_mobile'] = df['phone_mobile'].apply(lambda x: lib.works_with_phones(x))\n",
    "\n",
    "repeat_isv = df[(df['phone_mobile'].isin(isv_df['phone_mobile'].fillna('trash'))) |\n",
    "                (df['email'].isin(isv_df['email'].fillna('trash'))) |\n",
    "                (df['website'].isin(isv_df['website'].fillna('trash')))]"
   ]
  },
  {
   "cell_type": "code",
   "execution_count": null,
   "metadata": {},
   "outputs": [],
   "source": [
    "df = df[~df[\"task_id\"].isin(repeat_isv[\"task_id\"])]"
   ]
  },
  {
   "cell_type": "code",
   "execution_count": null,
   "metadata": {},
   "outputs": [],
   "source": [
    "str(datetime.now()).replace(\" \", \"T\")"
   ]
  },
  {
   "cell_type": "code",
   "execution_count": null,
   "metadata": {},
   "outputs": [],
   "source": [
    "df.drop(columns=['website'], inplace=True)"
   ]
  },
  {
   "cell_type": "code",
   "execution_count": null,
   "metadata": {},
   "outputs": [],
   "source": [
    "if len(df) > 0:\n",
    "    lib.save_table(str(datetime.now()).replace(\" \", \"T\"), \n",
    "               \"//home/cloud_analytics/call_center/input/var\", df)"
   ]
  },
  {
   "cell_type": "markdown",
   "metadata": {},
   "source": [
    "## dropped list update"
   ]
  },
  {
   "cell_type": "code",
   "execution_count": null,
   "metadata": {},
   "outputs": [],
   "source": [
    "added_df = pd.DataFrame(df[\"task_id\"])"
   ]
  },
  {
   "cell_type": "code",
   "execution_count": null,
   "metadata": {},
   "outputs": [],
   "source": [
    "lib.save_table(\"var_source_drop_task_id\", \n",
    "               \"//home/cloud_analytics/lunin-dv/call_center_output_streaming_output\",\n",
    "               added_df, append=True)"
   ]
  },
  {
   "cell_type": "markdown",
   "metadata": {},
   "source": [
    "# 1.25 Дубликат ISV"
   ]
  },
  {
   "cell_type": "code",
   "execution_count": null,
   "metadata": {},
   "outputs": [],
   "source": [
    "double_isv_var_df = pd.DataFrame()\n",
    "double_isv_var_df['CRM_Lead_ID'] = repeat_isv['task_id']\n",
    "double_isv_var_df['Tags'] = '[\"дубль заявки isv/var\"]'\n",
    "double_isv_var_df['Assigned_to'] = 'nypetrova'"
   ]
  },
  {
   "cell_type": "code",
   "execution_count": null,
   "metadata": {},
   "outputs": [],
   "source": [
    "dt = lib.execute_query(\"\"\"\n",
    "SELECT\n",
    "    toInt64(NOW()) as Timestamp\n",
    "FORMAT TabSeparatedWithNames\n",
    "\"\"\")['Timestamp'].iloc[0]\n"
   ]
  },
  {
   "cell_type": "code",
   "execution_count": null,
   "metadata": {},
   "outputs": [],
   "source": [
    "double_isv_var_df['Timestamp'] = dt\n",
    "double_isv_var_df"
   ]
  },
  {
   "cell_type": "code",
   "execution_count": null,
   "metadata": {},
   "outputs": [],
   "source": [
    "lib.save_table('update_leads', \"//home/cloud_analytics/export/crm/update_call_center_leads\",\n",
    "               double_isv_var_df, append=True)"
   ]
  },
  {
   "cell_type": "markdown",
   "metadata": {},
   "source": [
    "# 2. Update Lead"
   ]
  },
  {
   "cell_type": "code",
   "execution_count": null,
   "metadata": {},
   "outputs": [],
   "source": [
    "req = \"\"\"\n",
    "SELECT\n",
    "    toInt64(NOW()) as Timestamp,\n",
    "    CAST(task_id as String) as CRM_Lead_ID,\n",
    "    Billing_account_id as Billing_account_id_New,\n",
    "    billing_account_id as Billing_account_id,\n",
    "    relevant_contact_name as First_name,\n",
    "    lower(relevant_contact_email) as Email_New,\n",
    "    lower(email) as Email,\n",
    "    relevant_contact_phone as Phone_2,\n",
    "    multiIf(result == 'decline', '[\"Не готов общаться\"]',\n",
    "            status = 'no_response', '[\"Не дозвонились\"]',\n",
    "            null) as Dimensions,\n",
    "    \n",
    "    multiIf(CAST(Tags as String) like '%принять%', 'validated',\n",
    "            CAST(Tags as String) like '%под вопросом%', 'tentative',\n",
    "            'annulated') as Tags,\n",
    "    if(instruction_required == 1, 'instruction_required', null) as Tags_New,\n",
    "    'In Process' as Status,\n",
    "    toDateTime(toInt64(assignment_approve_time / 1000)) as Last_communication_date,\n",
    "    toString(ifNull(Comment, '')) || \n",
    "        '; Профиль партнера: ' || toString(ifNull(profile, '')) || \n",
    "        '; Цель заявки:  ' || toString(ifNull(goal, '')) || \n",
    "        '; Потенциальное потребление: ' || toString(ifNull(potential_consumption, '')) || \n",
    "        '; План привлечение клиентов: ' || toString(ifNull(plan, '')) ||  \n",
    "        '; Вебсайт: ' || toString(ifNull(website, ''))  || \n",
    "        '; Нужна инструкция по созданию биллинг аккаунта: ' || toString(ifNull(instruction_required, 0)) ||\n",
    "        '; preferred_communication: ' || toString(ifNull(preferred_communication, '')) ||\n",
    "        '; questions_from_partner: ' || toString(ifNull(questions_from_partner, '')) as Notes\n",
    "FROM \"//home/cloud_analytics/call_center/output/var_output\" as a\n",
    "ANY LEFT JOIN (\n",
    "    SELECT\n",
    "        max(email) as email,\n",
    "        max(billing_account_id) as billing_account_id,\n",
    "        lead_id\n",
    "    FROM \"//home/cloud_analytics/kulaga/leads_cube\"\n",
    "    GROUP BY lead_id\n",
    ") as b\n",
    "ON CRM_Lead_ID == lead_id\n",
    "FORMAT TabSeparatedWithNames\n",
    "\"\"\".encode('utf-8')\n",
    "\n",
    "update_df = lib.execute_query(req)"
   ]
  },
  {
   "cell_type": "code",
   "execution_count": null,
   "metadata": {},
   "outputs": [],
   "source": [
    "def organise_new_old_values_as_string_in_array(x, name):\n",
    "    add = []\n",
    "    if not pd.isnull(x[name]):\n",
    "        if name.lower() == 'email':\n",
    "            add.append(lib.works_with_emails(x[name].strip()))\n",
    "        else:\n",
    "            add.append(x[name].strip())\n",
    "    if not pd.isnull(x[name + \"_New\"]):\n",
    "        if name.lower() == 'email':\n",
    "            add.append(lib.works_with_emails(x[name + \"_New\"].strip()))\n",
    "        else:\n",
    "            add.append(x[name + \"_New\"].strip())\n",
    "    if len(list(set(add))) > 0:\n",
    "        return list(set(add))\n",
    "    return np.nan"
   ]
  },
  {
   "cell_type": "code",
   "execution_count": null,
   "metadata": {},
   "outputs": [],
   "source": [
    "update_df['Email'] = update_df.apply(lambda x: organise_new_old_values_as_string_in_array(x, \"Email\"), axis=1)\n",
    "update_df['Billing_account_id'] = update_df.apply(\n",
    "    lambda x: organise_new_old_values_as_string_in_array(x, \"Billing_account_id\"), axis=1)\n",
    "update_df['Tags'] = update_df.apply(lambda x: organise_new_old_values_as_string_in_array(x, \"Tags\"), axis=1)"
   ]
  },
  {
   "cell_type": "code",
   "execution_count": null,
   "metadata": {},
   "outputs": [],
   "source": [
    "arr_cols = ['Email', 'Billing_account_id', 'Tags', 'Dimensions']\n",
    "for col in arr_cols:\n",
    "    update_df[col] = update_df[col].astype(str)\n",
    "    update_df[col] = update_df[col].apply(lambda x: x.replace(\"'\", '\"') if not pd.isnull(x) else np.nan)"
   ]
  },
  {
   "cell_type": "code",
   "execution_count": null,
   "metadata": {},
   "outputs": [],
   "source": [
    "dropped = []\n",
    "for col in update_df.columns:\n",
    "    if \"_New\" in col:\n",
    "        dropped.append(col)\n",
    "update_df.drop(columns=dropped, inplace=True)"
   ]
  },
  {
   "cell_type": "code",
   "execution_count": null,
   "metadata": {},
   "outputs": [],
   "source": [
    "old_df = lib.execute_query(\"\"\"\n",
    "SELECT\n",
    "    DISTINCT \n",
    "    CRM_Lead_ID || '__' || toString(ifNull(Last_communication_date, '')) as key\n",
    "FROM \"//home/cloud_analytics/export/crm/update_call_center_leads/update_leads\"\n",
    "FORMAT TabSeparatedWithNames\n",
    "\"\"\")"
   ]
  },
  {
   "cell_type": "code",
   "execution_count": null,
   "metadata": {},
   "outputs": [],
   "source": [
    "update_df = update_df[~update_df[['CRM_Lead_ID', 'Last_communication_date']]\\\n",
    "          .apply(lambda x: x['CRM_Lead_ID'] + \"__\" + x['Last_communication_date'], axis=1)\\\n",
    "          .isin(old_df['key'])]"
   ]
  },
  {
   "cell_type": "code",
   "execution_count": null,
   "metadata": {},
   "outputs": [],
   "source": [
    "update_df['Phone_2'] = update_df['Phone_2'].astype(str)"
   ]
  },
  {
   "cell_type": "code",
   "execution_count": null,
   "metadata": {},
   "outputs": [],
   "source": [
    "update_df.replace(\"nan\", np.nan, inplace=True)"
   ]
  },
  {
   "cell_type": "code",
   "execution_count": null,
   "metadata": {},
   "outputs": [],
   "source": [
    "lib.save_table('update_leads', \"//home/cloud_analytics/export/crm/update_call_center_leads\",\n",
    "               update_df, append=True)"
   ]
  },
  {
   "cell_type": "code",
   "execution_count": null,
   "metadata": {},
   "outputs": [],
   "source": [
    "update_df"
   ]
  },
  {
   "cell_type": "code",
   "execution_count": null,
   "metadata": {},
   "outputs": [],
   "source": []
  }
 ],
 "metadata": {
  "kernelspec": {
   "display_name": "Python 3",
   "language": "python",
   "name": "python3"
  },
  "language_info": {
   "codemirror_mode": {
    "name": "ipython",
    "version": 3
   },
   "file_extension": ".py",
   "mimetype": "text/x-python",
   "name": "python",
   "nbconvert_exporter": "python",
   "pygments_lexer": "ipython3",
   "version": "3.7.4"
  }
 },
 "nbformat": 4,
 "nbformat_minor": 2
}
