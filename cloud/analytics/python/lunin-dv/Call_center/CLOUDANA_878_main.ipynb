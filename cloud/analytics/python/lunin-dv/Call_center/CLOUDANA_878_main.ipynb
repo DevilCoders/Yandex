{
 "cells": [
  {
   "cell_type": "code",
   "execution_count": null,
   "metadata": {},
   "outputs": [],
   "source": [
    "import scipy.stats as sps\n",
    "from sklearn.model_selection import train_test_split\n",
    "import gc\n",
    "from sklearn.linear_model import LinearRegression\n",
    "from dateutil.parser import *\n",
    "import pandas as pd\n",
    "import numpy as np\n",
    "import os\n",
    "import yt.wrapper as yt\n",
    "from collections import Counter\n",
    "import json\n",
    "import typing as tp\n",
    "import ast\n",
    "from datetime import datetime\n",
    "os.chdir('/Users/lunin-dv/Desktop/Library/')\n",
    "import importlib\n",
    "import my_library as lib\n",
    "import operator\n",
    "import re\n",
    "importlib.reload(lib)\n",
    "os.chdir('/Users/lunin-dv/Desktop/data/')"
   ]
  },
  {
   "cell_type": "code",
   "execution_count": null,
   "metadata": {},
   "outputs": [],
   "source": [
    "timezone_dict = {'UTC+10': 'Asia/Vladivostok',\n",
    " 'UTC+11': 'Asia/Sakhalin',\n",
    " 'UTC+12': 'Asia/Kamchatka',\n",
    " 'UTC+2':  'Europe/Kaliningrad',\n",
    " 'UTC+3':  'Europe/Moscow',\n",
    " 'UTC+4':  'Europe/Ulyanovsk',\n",
    " 'UTC+5':  'Asia/Yekaterinburg',\n",
    " 'UTC+6':  'Asia/Omsk',\n",
    " 'UTC+7':  'Asia/Krasnoyarsk',\n",
    " 'UTC+8':  'Asia/Irkutsk',\n",
    " 'UTC+9':  'Asia/Yakutsk'}"
   ]
  },
  {
   "cell_type": "markdown",
   "metadata": {},
   "source": [
    "## КЦ -> CRM"
   ]
  },
  {
   "cell_type": "code",
   "execution_count": null,
   "metadata": {},
   "outputs": [],
   "source": [
    "from_path = \"//home/cloud_analytics/call_center/output/streaming_output\"\n",
    "\n",
    "drop_list_path =\\\n",
    "'//home/cloud_analytics/lunin-dv/call_center_output_streaming_output/drop_task_id'"
   ]
  },
  {
   "cell_type": "code",
   "execution_count": null,
   "metadata": {},
   "outputs": [],
   "source": [
    "df = lib.execute_query(f\"\"\"\n",
    "SELECT\n",
    "    task_id,\n",
    "    'New' as Status,\n",
    "    relevant_contact_name as Last_name,\n",
    "    phone_1 as Phone_1,\n",
    "    phone_2 as Phone_2,\n",
    "    email as Email,\n",
    "    last_communication_date as Last_communication_date,\n",
    "    Lead_Source,\n",
    "    'admin' as Assigned_to,\n",
    "    Lead_Source_Description,\n",
    "    time_to_recall as Callback_date,\n",
    "    timezone as Timezone,\n",
    "    name_contact as Account_name,\n",
    "    'company name: ' || ifNull(name_contact, '')  \n",
    "    || '; site: '    || ifNull(site, '') \n",
    "    || '; inn: '     || ifNull(inn, '')\n",
    "    || '; location: '|| ifNull(location, '') as Description,\n",
    "    'Комментарий от КЦ: ' || ifNull(comment, '') as Notes\n",
    "FROM (\n",
    "    SELECT\n",
    "        argMax(timezone, assignment_approve_time) as timezone,\n",
    "        argMax(time_to_recall, assignment_approve_time) as time_to_recall,\n",
    "        argMax(relevant_contact_phone, assignment_approve_time) as phone_1,\n",
    "        argMax(phone, assignment_approve_time) as phone_2,\n",
    "        ifNull(argMax(lead_source_description, \n",
    "                        assignment_approve_time), 'Cold Calling') as Lead_Source_Description,\n",
    "        ifNull(argMax(lead_source, assignment_approve_time), 'cold_calls') as Lead_Source,\n",
    "        argMax(relevant_contact_name, assignment_approve_time) as relevant_contact_name,\n",
    "        argMax(relevant_contact_email, assignment_approve_time) as email,\n",
    "        toDateTime(MAX(assignment_approve_time/1000)) as last_communication_date,\n",
    "        argMax(name_contact, assignment_approve_time) as name_contact,\n",
    "        argMax(website, assignment_approve_time) as site,\n",
    "        argMax(location, assignment_approve_time) as location,\n",
    "        argMax(inn, assignment_approve_time) as inn,\n",
    "        task_id,\n",
    "        argMax(comment, assignment_approve_time) as comment\n",
    "    FROM \"//home/cloud_analytics/call_center/output/output\"\n",
    "    where toDate(assignment_approve_time/1000) >= toDate('2020-08-11')\n",
    "    and status == 'success'\n",
    "    and result == 'accept'\n",
    "    GROUP BY task_id\n",
    ") as call_center_info\n",
    "FORMAT TabSeparatedWithNames\n",
    "\"\"\".encode('utf-8'))"
   ]
  },
  {
   "cell_type": "code",
   "execution_count": null,
   "metadata": {},
   "outputs": [],
   "source": [
    "df.drop_duplicates(inplace=True)\n",
    "df['Email'] = df['Email'].apply(lambda x: '[\"' + x + '\"]' if not pd.isnull(x) else np.nan)\n",
    "df['Phone_1'] = df['Phone_1'].astype(str)\n",
    "df['Phone_2'] = df['Phone_2'].astype(str)\n",
    "df['Last_communication_date'] = df['Last_communication_date'].astype(str)\n",
    "df['Email'] = df['Email'].astype(str)\n",
    "df[\"Timezone\"] = df[\"Timezone\"].apply(lambda x: timezone_dict[x] if not pd.isnull(x) else 'Europe/Moscow')\n",
    "df.replace('nan', np.nan, inplace=True)"
   ]
  },
  {
   "cell_type": "code",
   "execution_count": null,
   "metadata": {},
   "outputs": [],
   "source": [
    "df['task_id'] = df.apply(lambda row: row['task_id'] if row['Last_communication_date'] < '2020-09-10 00:00:00'\n",
    "                         else row['task_id'] + '_spark_id', axis=1)"
   ]
  },
  {
   "cell_type": "markdown",
   "metadata": {},
   "source": [
    "Удалим старых"
   ]
  },
  {
   "cell_type": "code",
   "execution_count": null,
   "metadata": {},
   "outputs": [],
   "source": [
    "drop_req = f\"\"\"\n",
    "SELECT task_id from \"{drop_list_path}\"\n",
    "FORMAT TabSeparatedWithNames\n",
    "\"\"\"\n",
    "drop_df = lib.execute_query(drop_req)\n",
    "df = df[~df['task_id'].isin(drop_df['task_id'])]"
   ]
  },
  {
   "cell_type": "code",
   "execution_count": null,
   "metadata": {},
   "outputs": [],
   "source": [
    "drop_df.shape"
   ]
  },
  {
   "cell_type": "code",
   "execution_count": null,
   "metadata": {},
   "outputs": [],
   "source": [
    "assert len(df) < 11, f'Script wants to add {len(df)} leads'"
   ]
  },
  {
   "cell_type": "code",
   "execution_count": null,
   "metadata": {},
   "outputs": [],
   "source": [
    "timestamp_req = \"\"\"\n",
    "SELECT\n",
    "    toInt64(NOW()) as Timestamp\n",
    "FORMAT TabSeparatedWithNames\n",
    "\"\"\"\n",
    "timestamp = lib.execute_query(timestamp_req)"
   ]
  },
  {
   "cell_type": "code",
   "execution_count": null,
   "metadata": {},
   "outputs": [],
   "source": [
    "df['Timestamp'] = timestamp.iloc[0, 0]"
   ]
  },
  {
   "cell_type": "code",
   "execution_count": null,
   "metadata": {},
   "outputs": [],
   "source": [
    "lib.save_table(\"update_leads\", \n",
    "               \"//home/cloud_analytics/export/crm/update_call_center_leads\", df.drop(columns = ['task_id']),\n",
    "               append=True)"
   ]
  },
  {
   "cell_type": "markdown",
   "metadata": {},
   "source": [
    "## dropped list update"
   ]
  },
  {
   "cell_type": "code",
   "execution_count": null,
   "metadata": {},
   "outputs": [],
   "source": [
    "new_drop_list_df = pd.DataFrame(df['task_id'])"
   ]
  },
  {
   "cell_type": "code",
   "execution_count": null,
   "metadata": {},
   "outputs": [],
   "source": [
    "drop_table_name = drop_list_path.split('/')[-1]\n",
    "drop_folder = drop_list_path[:-len(drop_table_name) - 1]"
   ]
  },
  {
   "cell_type": "code",
   "execution_count": null,
   "metadata": {},
   "outputs": [],
   "source": [
    "lib.save_table(drop_table_name, drop_folder, new_drop_list_df, append=True)"
   ]
  },
  {
   "cell_type": "code",
   "execution_count": null,
   "metadata": {},
   "outputs": [],
   "source": []
  },
  {
   "cell_type": "code",
   "execution_count": null,
   "metadata": {},
   "outputs": [],
   "source": [
    "# drop_leads = lib.execute_query(\"\"\"\n",
    "# SELECT\n",
    "#     DISTINCT \n",
    "#     toDateTime(date_entered),\n",
    "#     toDateTime(1600093930),\n",
    "#     dateDiff('minute', toDateTime(date_entered), toDateTime(1600093930)) as delta,\n",
    "#     lead_source_description,\n",
    "#     lead_id as CRM_Lead_ID\n",
    "# FROM \"//home/cloud_analytics/kulaga/leads_cube\"\n",
    "# WHERE dateDiff('minute', toDateTime(1600093930), toDateTime(date_entered)) <= 40\n",
    "# AND dateDiff('minute', toDateTime(1600093930), toDateTime(date_entered)) >= 0\n",
    "# FORMAT TabSeparatedWithNames\n",
    "# \"\"\")\n",
    "# drop_leads['Status'] = 'Recycled'\n",
    "# drop_leads = drop_leads[['CRM_Lead_ID', 'Status']]"
   ]
  },
  {
   "cell_type": "code",
   "execution_count": null,
   "metadata": {},
   "outputs": [],
   "source": [
    "# timestamp_req = \"\"\"\n",
    "# SELECT\n",
    "#     toInt64(NOW()) as Timestamp\n",
    "# FORMAT TabSeparatedWithNames\n",
    "# \"\"\"\n",
    "# timestamp = lib.execute_query(timestamp_req).iloc[0, 0]"
   ]
  },
  {
   "cell_type": "code",
   "execution_count": null,
   "metadata": {},
   "outputs": [],
   "source": [
    "# drop_leads['Timestamp'] = timestamp"
   ]
  },
  {
   "cell_type": "code",
   "execution_count": null,
   "metadata": {},
   "outputs": [],
   "source": [
    "# drop_leads"
   ]
  },
  {
   "cell_type": "code",
   "execution_count": null,
   "metadata": {},
   "outputs": [],
   "source": [
    "# lib.save_table(\"update_leads\", \n",
    "#                \"//home/cloud_analytics/export/crm/update_call_center_leads\", drop_leads,\n",
    "#                append=True)"
   ]
  },
  {
   "cell_type": "code",
   "execution_count": null,
   "metadata": {},
   "outputs": [],
   "source": []
  }
 ],
 "metadata": {
  "kernelspec": {
   "display_name": "Python 3",
   "language": "python",
   "name": "python3"
  },
  "language_info": {
   "codemirror_mode": {
    "name": "ipython",
    "version": 3
   },
   "file_extension": ".py",
   "mimetype": "text/x-python",
   "name": "python",
   "nbconvert_exporter": "python",
   "pygments_lexer": "ipython3",
   "version": "3.7.4"
  }
 },
 "nbformat": 4,
 "nbformat_minor": 2
}
