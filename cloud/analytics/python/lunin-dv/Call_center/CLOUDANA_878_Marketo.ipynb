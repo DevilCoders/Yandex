{
 "cells": [
  {
   "cell_type": "code",
   "execution_count": null,
   "metadata": {},
   "outputs": [],
   "source": [
    "import scipy.stats as sps\n",
    "from sklearn.model_selection import train_test_split\n",
    "import gc\n",
    "from sklearn.linear_model import LinearRegression\n",
    "from dateutil.parser import *\n",
    "import pandas as pd\n",
    "import numpy as np\n",
    "import os\n",
    "import yt.wrapper as yt\n",
    "from collections import Counter\n",
    "import json\n",
    "import typing as tp\n",
    "import ast\n",
    "from datetime import datetime\n",
    "os.chdir('/Users/lunin-dv/Desktop/Library/')\n",
    "import importlib\n",
    "import my_library as lib\n",
    "import operator\n",
    "import re\n",
    "importlib.reload(lib)\n",
    "os.chdir('/Users/lunin-dv/Desktop/data/')"
   ]
  },
  {
   "cell_type": "code",
   "execution_count": null,
   "metadata": {},
   "outputs": [],
   "source": [
    "tags_helper_table = lib.find_tables_in_hahn_folder('//home/cloud_analytics/dwh/raw/crm/tag_bean_rel')[-1]\n",
    "tags_table = lib.find_tables_in_hahn_folder('//home/cloud_analytics/dwh/raw/crm/tags')[-1]"
   ]
  },
  {
   "cell_type": "code",
   "execution_count": null,
   "metadata": {},
   "outputs": [],
   "source": [
    "tags_table"
   ]
  },
  {
   "cell_type": "markdown",
   "metadata": {},
   "source": [
    "# 1. Добавление"
   ]
  },
  {
   "cell_type": "code",
   "execution_count": null,
   "metadata": {},
   "outputs": [],
   "source": [
    "req = \"\"\"\n",
    "select DISTINCT\n",
    "    lead_id as task_id,\n",
    "    first_name, \n",
    "    last_name,\n",
    "    account_name,\n",
    "    phone_mobile,\n",
    "    email,\n",
    "    status,\n",
    "    lead_source, \n",
    "    coalesce(lead_source_description, '') as lead_source_description, \n",
    "    '' as description, \n",
    "    timezone\n",
    "from \"//home/cloud_analytics/kulaga/leads_cube\"\n",
    "where \n",
    "    lead_source = 'Marketo'\n",
    "    and status in ('Assigned', 'New')\n",
    "    AND lower(tag_name) == 'прозвон_кц'\n",
    "    AND user_name == 'admin'\n",
    "    AND phone_mobile != ''\n",
    "    AND isNotNull(phone_mobile)\n",
    "FORMAT TabSeparatedWithNames\n",
    "\"\"\".encode('utf-8')\n",
    "df = lib.execute_query(req)"
   ]
  },
  {
   "cell_type": "code",
   "execution_count": null,
   "metadata": {},
   "outputs": [],
   "source": [
    "df['phone_mobile'] = df['phone_mobile'].astype(str)"
   ]
  },
  {
   "cell_type": "code",
   "execution_count": null,
   "metadata": {},
   "outputs": [],
   "source": [
    "old_df = lib.execute_query(\"\"\"\n",
    "SELECT \n",
    "    DISTINCT\n",
    "    task_id\n",
    "FROM \"//home/cloud_analytics/lunin-dv/call_center_output_streaming_output/marketo_source_drop_task_id\"\n",
    "FORMAT TabSeparatedWithNames\n",
    "\"\"\")"
   ]
  },
  {
   "cell_type": "code",
   "execution_count": null,
   "metadata": {},
   "outputs": [],
   "source": [
    "df = df[~df[\"task_id\"].isin(old_df[\"task_id\"])]"
   ]
  },
  {
   "cell_type": "code",
   "execution_count": null,
   "metadata": {},
   "outputs": [],
   "source": [
    "df.shape"
   ]
  },
  {
   "cell_type": "code",
   "execution_count": null,
   "metadata": {},
   "outputs": [],
   "source": [
    "str(datetime.now()).replace(\" \", \"T\")"
   ]
  },
  {
   "cell_type": "code",
   "execution_count": null,
   "metadata": {},
   "outputs": [],
   "source": [
    "if len(df) > 0:\n",
    "    lib.save_table(str(datetime.now()).replace(\" \", \"T\"), \n",
    "               \"//home/cloud_analytics/call_center/input/marketo\", df)"
   ]
  },
  {
   "cell_type": "markdown",
   "metadata": {},
   "source": [
    "## dropped list update"
   ]
  },
  {
   "cell_type": "code",
   "execution_count": null,
   "metadata": {},
   "outputs": [],
   "source": [
    "added_df = pd.DataFrame(df[\"task_id\"])"
   ]
  },
  {
   "cell_type": "code",
   "execution_count": null,
   "metadata": {},
   "outputs": [],
   "source": [
    "lib.save_table(\"marketo_source_drop_task_id\", \n",
    "               \"//home/cloud_analytics/lunin-dv/call_center_output_streaming_output\", added_df, append=True)"
   ]
  },
  {
   "cell_type": "markdown",
   "metadata": {},
   "source": [
    "# 2. Update Lead"
   ]
  },
  {
   "cell_type": "code",
   "execution_count": null,
   "metadata": {},
   "outputs": [],
   "source": [
    "req = \"\"\"\n",
    "SELECT\n",
    "    toInt64(NOW()) as Timestamp,\n",
    "    CAST(task_id as String) as CRM_Lead_ID,\n",
    "    relevant_contact_name as First_name,\n",
    "    lower(relevant_contact_email) as Email_new,\n",
    "    lower(email) as email,\n",
    "    relevant_contact_phone as Phone_2,\n",
    "    CAST(Dimension as String) as Dimensions,\n",
    "    if (result = 'decline', 'Не готов общаться', '')  as Dimension_1,\n",
    "    if (status = 'no_response', 'Не дозвонились', '')  as Dimension_2,\n",
    "    if (((is_business or has_interest or has_tech_issues) and manager_required) OR\n",
    "        (is_business and has_interest), '[\"validated\"]', '[\"annulated\"]') as Tags,\n",
    "    if (Tags = '[\"annulated\"]', 'Recycled', 'Assigned') as Status,\n",
    "    toDateTime(toInt64(assignment_approve_time / 1000)) as Last_communication_date,\n",
    "    Comment as Notes, \n",
    "    'Представляет юр. лицо: ' || \n",
    "    toString(ifNull(is_business, 0)) || \n",
    "    ', Интерес: ' || \n",
    "    toString(ifNull(has_interest, 0))  || \n",
    "    ', Сложные тех. вопросы: ' || \n",
    "    toString(ifNull(has_tech_issues, 0)) || \n",
    "    ', Требуется менеджер: ' || \n",
    "    toString(ifNull(manager_required, 0)) as Description\n",
    "FROM \"//home/cloud_analytics/call_center/output/marketo_output\" as a\n",
    "ANY LEFT JOIN (\n",
    "    SELECT\n",
    "        max(email) as email,\n",
    "        lead_id\n",
    "    FROM \"//home/cloud_analytics/kulaga/leads_cube\"\n",
    "    GROUP BY lead_id\n",
    ") as b\n",
    "ON CRM_Lead_ID == lead_id\n",
    "FORMAT TabSeparatedWithNames\n",
    "\"\"\".encode('utf-8')\n",
    "\n",
    "update_df = lib.execute_query(req)"
   ]
  },
  {
   "cell_type": "code",
   "execution_count": null,
   "metadata": {},
   "outputs": [],
   "source": [
    "update_df[update_df['CRM_Lead_ID'] == '59d45f08-91ba-11ea-b22f-dbe6e205e325']"
   ]
  },
  {
   "cell_type": "code",
   "execution_count": null,
   "metadata": {},
   "outputs": [],
   "source": [
    "def with_mails(x):\n",
    "    add = []\n",
    "    if not pd.isnull(x['email']):\n",
    "        add.append(lib.works_with_emails(x['email'].strip()))\n",
    "    if not pd.isnull(x['Email_new']):\n",
    "        add.append(lib.works_with_emails(x['Email_new'].strip()))\n",
    "    return list(set(add))"
   ]
  },
  {
   "cell_type": "code",
   "execution_count": null,
   "metadata": {},
   "outputs": [],
   "source": [
    "update_df['Email'] = update_df[['email', \"Email_new\"]].apply(lambda x: with_mails(x), axis=1)"
   ]
  },
  {
   "cell_type": "code",
   "execution_count": null,
   "metadata": {},
   "outputs": [],
   "source": [
    "update_df.drop(columns=['email', \"Email_new\"], inplace=True)"
   ]
  },
  {
   "cell_type": "code",
   "execution_count": null,
   "metadata": {},
   "outputs": [],
   "source": [
    "def array_helper(x):\n",
    "    return ast.literal_eval(x.replace(\"\\u00016\", '\"').replace(\"\\u0001r\", '\"').replace(\";\", '\", '))"
   ]
  },
  {
   "cell_type": "code",
   "execution_count": null,
   "metadata": {},
   "outputs": [],
   "source": [
    "update_df['Dimensions'] = update_df['Dimensions'].apply(lambda x: array_helper(x))"
   ]
  },
  {
   "cell_type": "code",
   "execution_count": null,
   "metadata": {},
   "outputs": [],
   "source": [
    "def add_dims(x):\n",
    "    added = []\n",
    "    if x['Dimension_1'] != '':\n",
    "        added.append(x['Dimension_1'])\n",
    "    if x['Dimension_2'] != '':\n",
    "        added.append(x['Dimension_2'])\n",
    "    return x['Dimensions'] + added"
   ]
  },
  {
   "cell_type": "code",
   "execution_count": null,
   "metadata": {},
   "outputs": [],
   "source": [
    "update_df['Dimensions'] = update_df[['Dimensions', 'Dimension_1', 'Dimension_2']].apply(lambda x:\n",
    "    add_dims(x), axis=1)"
   ]
  },
  {
   "cell_type": "code",
   "execution_count": null,
   "metadata": {},
   "outputs": [],
   "source": [
    "update_df.drop(columns = ['Dimension_1', 'Dimension_2'], inplace=True)"
   ]
  },
  {
   "cell_type": "code",
   "execution_count": null,
   "metadata": {},
   "outputs": [],
   "source": [
    "update_df['Tags'] = update_df['Tags'].astype(str)"
   ]
  },
  {
   "cell_type": "code",
   "execution_count": null,
   "metadata": {},
   "outputs": [],
   "source": [
    "update_df['Dimensions'] = update_df['Dimensions'].astype(str)\n",
    "update_df['Email'] = update_df['Email'].astype(str)"
   ]
  },
  {
   "cell_type": "code",
   "execution_count": null,
   "metadata": {},
   "outputs": [],
   "source": [
    "update_df['Dimensions'] = update_df['Dimensions'].apply(lambda x:\n",
    "                                                        x.replace(\"'\", '\"') if not pd.isnull(x) else np.nan)\n",
    "update_df['Tags'] = update_df['Tags'].apply(lambda x: x.replace(\"'\", '\"') if not pd.isnull(x) else np.nan)\n",
    "update_df['Email'] = update_df['Email'].apply(lambda x: x.replace(\"'\", '\"') if not pd.isnull(x) else np.nan)"
   ]
  },
  {
   "cell_type": "code",
   "execution_count": null,
   "metadata": {},
   "outputs": [],
   "source": [
    "old_df = lib.execute_query(\"\"\"\n",
    "SELECT\n",
    "    DISTINCT \n",
    "    CRM_Lead_ID || '__' || toString(ifNull(Last_communication_date, '')) as key\n",
    "FROM \"//home/cloud_analytics/export/crm/update_call_center_leads/update_leads\"\n",
    "FORMAT TabSeparatedWithNames\n",
    "\"\"\")"
   ]
  },
  {
   "cell_type": "code",
   "execution_count": null,
   "metadata": {},
   "outputs": [],
   "source": [
    "update_df = update_df[~update_df[['CRM_Lead_ID', 'Last_communication_date']]\\\n",
    "          .apply(lambda x: x['CRM_Lead_ID'] + \"__\" + x['Last_communication_date'], axis=1)\\\n",
    "          .isin(old_df['key'])]"
   ]
  },
  {
   "cell_type": "code",
   "execution_count": null,
   "metadata": {},
   "outputs": [],
   "source": [
    "update_df.shape"
   ]
  },
  {
   "cell_type": "code",
   "execution_count": null,
   "metadata": {},
   "outputs": [],
   "source": [
    "update_df[update_df['CRM_Lead_ID'] == '59d45f08-91ba-11ea-b22f-dbe6e205e325']"
   ]
  },
  {
   "cell_type": "code",
   "execution_count": null,
   "metadata": {},
   "outputs": [],
   "source": [
    "lib.save_table('update_leads', \"//home/cloud_analytics/export/crm/update_call_center_leads\",\n",
    "               update_df, append=True)"
   ]
  },
  {
   "cell_type": "code",
   "execution_count": null,
   "metadata": {},
   "outputs": [],
   "source": []
  }
 ],
 "metadata": {
  "kernelspec": {
   "display_name": "Python 3",
   "language": "python",
   "name": "python3"
  },
  "language_info": {
   "codemirror_mode": {
    "name": "ipython",
    "version": 3
   },
   "file_extension": ".py",
   "mimetype": "text/x-python",
   "name": "python",
   "nbconvert_exporter": "python",
   "pygments_lexer": "ipython3",
   "version": "3.7.4"
  }
 },
 "nbformat": 4,
 "nbformat_minor": 2
}
