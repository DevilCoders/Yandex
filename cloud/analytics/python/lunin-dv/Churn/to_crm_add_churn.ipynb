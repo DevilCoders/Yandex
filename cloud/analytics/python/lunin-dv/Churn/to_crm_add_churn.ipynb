{
 "cells": [
  {
   "cell_type": "code",
   "execution_count": 1,
   "metadata": {},
   "outputs": [],
   "source": [
    "import scipy.stats as sps\n",
    "from sklearn.model_selection import train_test_split\n",
    "import gc\n",
    "from dateutil.parser import *\n",
    "import pandas as pd\n",
    "import numpy as np\n",
    "import os\n",
    "from datetime import datetime\n",
    "import random\n",
    "import warnings\n",
    "from datetime import timedelta\n",
    "import os\n",
    "import calendar\n",
    "import sys\n",
    "import os.path\n",
    "import time\n",
    "import typing as tp\n",
    "import json\n",
    "import math\n",
    "import requests\n",
    "os.chdir('/Users/lunin-dv/Desktop/Library/')\n",
    "import importlib\n",
    "import robot_lib as lib\n",
    "import ast\n",
    "importlib.reload(lib)\n",
    "os.chdir('/Users/lunin-dv/Desktop/data/')"
   ]
  },
  {
   "cell_type": "code",
   "execution_count": 8,
   "metadata": {},
   "outputs": [],
   "source": [
    "import time\n",
    "time.sleep(20)"
   ]
  },
  {
   "cell_type": "code",
   "execution_count": 2,
   "metadata": {},
   "outputs": [],
   "source": [
    "date = lib.get_current_date_as_str()"
   ]
  },
  {
   "cell_type": "code",
   "execution_count": 4,
   "metadata": {},
   "outputs": [],
   "source": [
    "df = lib.execute_query(f\"\"\"\n",
    "SELECT\n",
    "    toInt64(NOW()) as Timestamp,\n",
    "    associated_billings as Billing_account_id,\n",
    "    'Recycled' as Status,\n",
    "    'admin' as Assigned_to,\n",
    "    toString(phone) as Phone_1,\n",
    "    email as Email,\n",
    "    timezone as Timezone,\n",
    "    account_name as Account_name,\n",
    "    ifNull(first_name, '') as First_name,\n",
    "    ifNull(last_name, '') as Last_name,\n",
    "    'upsell' as Lead_Source,\n",
    "    'Churn Prediction' as Lead_Source_Description,\n",
    "    'person type: ' || person_type ||\n",
    "    '; summary paid consumption per last 30 days: ' || toString(paid_consumption_per_last_month)  \n",
    "    as Description\n",
    "FROM \"//home/cloud_analytics/churn_prediction/churn_prediction_test_group/{date}\"\n",
    "FORMAT TabSeparatedWithNames\n",
    "\"\"\")"
   ]
  },
  {
   "cell_type": "code",
   "execution_count": 5,
   "metadata": {},
   "outputs": [],
   "source": [
    "df['Billing_account_id'] = df['Billing_account_id'].apply(lambda y: \n",
    "        ['dn' + x.split('dn')[1] for x in y.split(';') if len(x.split('dn')) > 1])\n",
    "df[\"Email\"] = df[\"Email\"].apply(lambda x: [x])"
   ]
  },
  {
   "cell_type": "code",
   "execution_count": 6,
   "metadata": {},
   "outputs": [],
   "source": [
    "arr_cols = ['Email', 'Billing_account_id']\n",
    "for col in arr_cols:\n",
    "    df[col] = df[col].astype(str)\n",
    "    df[col] = df[col].apply(lambda x: x.replace(\"'\", '\"') if not pd.isnull(x) else np.nan)"
   ]
  },
  {
   "cell_type": "code",
   "execution_count": 17,
   "metadata": {},
   "outputs": [],
   "source": [
    "lib.save_table('update_leads', \"//home/cloud_analytics/export/crm/update_call_center_leads\",\n",
    "               df, append=True)"
   ]
  },
  {
   "cell_type": "code",
   "execution_count": null,
   "metadata": {},
   "outputs": [],
   "source": []
  }
 ],
 "metadata": {
  "kernelspec": {
   "display_name": "Python 3",
   "language": "python",
   "name": "python3"
  },
  "language_info": {
   "codemirror_mode": {
    "name": "ipython",
    "version": 3
   },
   "file_extension": ".py",
   "mimetype": "text/x-python",
   "name": "python",
   "nbconvert_exporter": "python",
   "pygments_lexer": "ipython3",
   "version": "3.7.4"
  }
 },
 "nbformat": 4,
 "nbformat_minor": 2
}
